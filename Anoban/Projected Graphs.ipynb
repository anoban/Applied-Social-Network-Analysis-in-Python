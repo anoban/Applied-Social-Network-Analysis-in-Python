{
 "cells": [
  {
   "cell_type": "markdown",
   "id": "903ebf4a-8cc0-4a3b-9cc4-fdc283200e82",
   "metadata": {},
   "source": [
    "# ***Projected graphs***"
   ]
  },
  {
   "cell_type": "code",
   "execution_count": 1,
   "id": "637e0c09-579d-4bdd-b87f-a658a46483d8",
   "metadata": {
    "execution": {
     "iopub.execute_input": "2023-02-11T03:17:01.774638Z",
     "iopub.status.busy": "2023-02-11T03:17:01.774638Z",
     "iopub.status.idle": "2023-02-11T03:17:02.335264Z",
     "shell.execute_reply": "2023-02-11T03:17:02.334920Z",
     "shell.execute_reply.started": "2023-02-11T03:17:01.774638Z"
    },
    "tags": []
   },
   "outputs": [],
   "source": [
    "import networkx as nx\n",
    "import matplotlib.pyplot as plt"
   ]
  },
  {
   "cell_type": "code",
   "execution_count": null,
   "id": "bd4ad355-0781-47c4-828a-377ee5534737",
   "metadata": {},
   "outputs": [],
   "source": [
    "# similar to bipartite graphs, consider a bipartite network of fans & teams\n",
    "# lets create a neywork among fans where the edges represent some type of affinity, say they both follow same team/s"
   ]
  },
  {
   "cell_type": "code",
   "execution_count": null,
   "id": "a5fac79c-16b7-4e19-a7e6-e1fcb485010f",
   "metadata": {},
   "outputs": [],
   "source": []
  }
 ],
 "metadata": {
  "kernelspec": {
   "display_name": "Python 3 (ipykernel)",
   "language": "python",
   "name": "python3"
  },
  "language_info": {
   "codemirror_mode": {
    "name": "ipython",
    "version": 3
   },
   "file_extension": ".py",
   "mimetype": "text/x-python",
   "name": "python",
   "nbconvert_exporter": "python",
   "pygments_lexer": "ipython3",
   "version": "3.11.2"
  }
 },
 "nbformat": 4,
 "nbformat_minor": 5
}
