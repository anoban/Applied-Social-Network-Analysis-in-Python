{
 "cells": [
  {
   "cell_type": "code",
   "execution_count": 21,
   "id": "01f11fb0-d24d-44eb-a05d-9fe530b9789c",
   "metadata": {
    "execution": {
     "iopub.execute_input": "2023-02-28T12:30:13.115346Z",
     "iopub.status.busy": "2023-02-28T12:30:13.114346Z",
     "iopub.status.idle": "2023-02-28T12:30:13.118624Z",
     "shell.execute_reply": "2023-02-28T12:30:13.118624Z",
     "shell.execute_reply.started": "2023-02-28T12:30:13.115346Z"
    },
    "tags": []
   },
   "outputs": [],
   "source": [
    "import networkx as nx\n",
    "import numpy as np\n",
    "import matplotlib.pyplot as plt\n",
    "import itertools"
   ]
  },
  {
   "cell_type": "markdown",
   "id": "8a4d132b-1be5-4512-be86-635decba8353",
   "metadata": {},
   "source": [
    "# ***Betweenness Centrality***\n",
    "--------------------"
   ]
  },
  {
   "cell_type": "code",
   "execution_count": 4,
   "id": "ac633c1e-c6d4-4891-9f29-0dfb94deb9ed",
   "metadata": {
    "execution": {
     "iopub.execute_input": "2023-02-28T12:12:18.375826Z",
     "iopub.status.busy": "2023-02-28T12:12:18.375826Z",
     "iopub.status.idle": "2023-02-28T12:12:18.381461Z",
     "shell.execute_reply": "2023-02-28T12:12:18.380448Z",
     "shell.execute_reply.started": "2023-02-28T12:12:18.375826Z"
    },
    "tags": []
   },
   "outputs": [],
   "source": [
    "# This assumes that importance of nodes depends on them connecting other nodes.\n",
    "# Distance between 2 nodes is the shortest path between them.\n",
    "\n",
    "karate = nx.karate_club_graph()\n",
    "karate = nx.convert_node_labels_to_integers(karate, first_label = 1)"
   ]
  },
  {
   "cell_type": "code",
   "execution_count": 11,
   "id": "e874d649-eac4-4fa2-a1e7-b95d9963b4c5",
   "metadata": {
    "execution": {
     "iopub.execute_input": "2023-02-28T12:13:23.145797Z",
     "iopub.status.busy": "2023-02-28T12:13:23.144796Z",
     "iopub.status.idle": "2023-02-28T12:13:23.151361Z",
     "shell.execute_reply": "2023-02-28T12:13:23.150352Z",
     "shell.execute_reply.started": "2023-02-28T12:13:23.145797Z"
    },
    "tags": []
   },
   "outputs": [
    {
     "data": {
      "text/plain": [
       "[[34, 14, 2], [34, 20, 2], [34, 31, 2]]"
      ]
     },
     "execution_count": 11,
     "metadata": {},
     "output_type": "execute_result"
    }
   ],
   "source": [
    "list(nx.all_shortest_paths(karate, source = 34, target = 2))"
   ]
  },
  {
   "cell_type": "code",
   "execution_count": 12,
   "id": "abaf93a4-2daf-4f7c-a97c-0d01bf2fc7d9",
   "metadata": {
    "execution": {
     "iopub.execute_input": "2023-02-28T12:14:30.534640Z",
     "iopub.status.busy": "2023-02-28T12:14:30.534640Z",
     "iopub.status.idle": "2023-02-28T12:14:30.537457Z",
     "shell.execute_reply": "2023-02-28T12:14:30.537457Z",
     "shell.execute_reply.started": "2023-02-28T12:14:30.534640Z"
    },
    "tags": []
   },
   "outputs": [],
   "source": [
    "# Note that nodes 14, 20 and 31 are in the shortest paths between nodes 34 and 2."
   ]
  },
  {
   "cell_type": "markdown",
   "id": "b3065abf-721c-415a-b586-1eef1409a07f",
   "metadata": {},
   "source": [
    "## ***Betweenness centrality***\n",
    "# ***$C_{btw}(v) = \\sum{_{s,t \\in N}{\\frac{\\sigma_{s,t}{(v)}}{\\sigma_{s,t}}}}$***"
   ]
  },
  {
   "cell_type": "code",
   "execution_count": 16,
   "id": "82027903-0db6-4941-85a7-a3d4fa40c20a",
   "metadata": {
    "execution": {
     "iopub.execute_input": "2023-02-28T12:24:49.575295Z",
     "iopub.status.busy": "2023-02-28T12:24:49.575295Z",
     "iopub.status.idle": "2023-02-28T12:24:49.578631Z",
     "shell.execute_reply": "2023-02-28T12:24:49.578631Z",
     "shell.execute_reply.started": "2023-02-28T12:24:49.575295Z"
    },
    "tags": []
   },
   "outputs": [],
   "source": [
    "# Take two different nodes - s and t\n",
    "# Find all the shortest paths between s and t -> sigma s,t\n",
    "# Find all the shortest paths between s and t that contain node v -> sigma s,t (v)\n",
    "# Betweenness centrality is the sum of this for all possible pairs of s and t in the network."
   ]
  },
  {
   "cell_type": "code",
   "execution_count": 15,
   "id": "d0adc4cf-11b7-44e8-9edc-f13c26722e88",
   "metadata": {
    "execution": {
     "iopub.execute_input": "2023-02-28T12:23:19.761885Z",
     "iopub.status.busy": "2023-02-28T12:23:19.761885Z",
     "iopub.status.idle": "2023-02-28T12:23:19.884085Z",
     "shell.execute_reply": "2023-02-28T12:23:19.884085Z",
     "shell.execute_reply.started": "2023-02-28T12:23:19.761885Z"
    },
    "tags": []
   },
   "outputs": [
    {
     "data": {
      "image/png": "[encoded data removed]",
      "text/plain": [
       "<Figure size 640x480 with 1 Axes>"
      ]
     },
     "metadata": {},
     "output_type": "display_data"
    }
   ],
   "source": [
    "graph = nx.Graph()\n",
    "graph.add_edges_from([(\"A\", \"B\"), (\"B\", \"C\"), (\"B\", \"D\"), (\"C\", \"D\")])\n",
    "nx.draw_networkx(graph, node_color = \"orange\")"
   ]
  },
  {
   "cell_type": "markdown",
   "id": "a66e6ffb-a3b8-4820-9519-47a2c901eb0a",
   "metadata": {},
   "source": [
    "# $C_{btw}(B) = \\frac{\\sigma_{A, C}{(B)}}{\\sigma_{A, C}} + \\frac{\\sigma_{A, D}{(B)}}{\\sigma_{A, D}} + \\frac{\\sigma_{C, D}{(B)}}{\\sigma_{C, D}}$"
   ]
  },
  {
   "cell_type": "code",
   "execution_count": 19,
   "id": "f7d2a0c5-4d60-4e35-9d63-2f5c306d5313",
   "metadata": {
    "execution": {
     "iopub.execute_input": "2023-02-28T12:29:01.241477Z",
     "iopub.status.busy": "2023-02-28T12:29:01.241477Z",
     "iopub.status.idle": "2023-02-28T12:29:01.247506Z",
     "shell.execute_reply": "2023-02-28T12:29:01.246462Z",
     "shell.execute_reply.started": "2023-02-28T12:29:01.241477Z"
    },
    "tags": []
   },
   "outputs": [
    {
     "data": {
      "text/plain": [
       "2.0"
      ]
     },
     "execution_count": 19,
     "metadata": {},
     "output_type": "execute_result"
    }
   ],
   "source": [
    "# This equation excludes the node B.\n",
    "\n",
    "(1 / 1) + (1 / 1) + (0 / 1)"
   ]
  },
  {
   "cell_type": "code",
   "execution_count": 20,
   "id": "bec7f33f-2140-4350-b4e4-033241548b18",
   "metadata": {
    "execution": {
     "iopub.execute_input": "2023-02-28T12:29:02.255228Z",
     "iopub.status.busy": "2023-02-28T12:29:02.255228Z",
     "iopub.status.idle": "2023-02-28T12:29:02.259061Z",
     "shell.execute_reply": "2023-02-28T12:29:02.258054Z",
     "shell.execute_reply.started": "2023-02-28T12:29:02.255228Z"
    },
    "tags": []
   },
   "outputs": [],
   "source": [
    "# If we include node B;"
   ]
  },
  {
   "cell_type": "code",
   "execution_count": 47,
   "id": "5c4140b5-cd62-4a0f-a374-8ecc810f3bee",
   "metadata": {
    "execution": {
     "iopub.execute_input": "2023-02-28T12:39:15.237361Z",
     "iopub.status.busy": "2023-02-28T12:39:15.236360Z",
     "iopub.status.idle": "2023-02-28T12:39:15.241870Z",
     "shell.execute_reply": "2023-02-28T12:39:15.241870Z",
     "shell.execute_reply.started": "2023-02-28T12:39:15.237361Z"
    },
    "tags": []
   },
   "outputs": [
    {
     "data": {
      "text/plain": [
       "{('A', 'B'), ('A', 'C'), ('A', 'D'), ('B', 'C'), ('B', 'D'), ('C', 'D')}"
      ]
     },
     "execution_count": 47,
     "metadata": {},
     "output_type": "execute_result"
    }
   ],
   "source": [
    "{tuple(sorted(pair)) for pair in itertools.permutations([\"A\", \"B\", \"C\", \"D\"], r = 2)}"
   ]
  },
  {
   "cell_type": "code",
   "execution_count": 52,
   "id": "61b5240a-f659-4571-ac5c-3873ad334b40",
   "metadata": {
    "execution": {
     "iopub.execute_input": "2023-02-28T12:43:53.150439Z",
     "iopub.status.busy": "2023-02-28T12:43:53.149523Z",
     "iopub.status.idle": "2023-02-28T12:43:53.155396Z",
     "shell.execute_reply": "2023-02-28T12:43:53.155396Z",
     "shell.execute_reply.started": "2023-02-28T12:43:53.150439Z"
    },
    "tags": []
   },
   "outputs": [
    {
     "name": "stdout",
     "output_type": "stream",
     "text": [
      "\\frac{\\sigma_{B, D}{(B)}}{\\sigma_{B, D}} +\n",
      "\\frac{\\sigma_{A, B}{(B)}}{\\sigma_{A, B}} +\n",
      "\\frac{\\sigma_{A, D}{(B)}}{\\sigma_{A, D}} +\n",
      "\\frac{\\sigma_{B, C}{(B)}}{\\sigma_{B, C}} +\n",
      "\\frac{\\sigma_{A, C}{(B)}}{\\sigma_{A, C}} +\n",
      "\\frac{\\sigma_{C, D}{(B)}}{\\sigma_{C, D}} +\n"
     ]
    }
   ],
   "source": [
    "template = r\"\\frac{\\sigma_{%s, %s}{(B)}}{\\sigma_{%s, %s}} +\"\n",
    "\n",
    "for (node_1, node_2) in {tuple(sorted(pair)) for pair in itertools.permutations([\"A\", \"B\", \"C\", \"D\"], r = 2)}:\n",
    "    print(template % (node_1, node_2, node_1, node_2))"
   ]
  },
  {
   "cell_type": "markdown",
   "id": "03e1d65b-c51a-4884-b9a7-f23ae4ed40f8",
   "metadata": {},
   "source": [
    "# $C_{btw}(B) = \\frac{\\sigma_{B, D}{(B)}}{\\sigma_{B, D}} +\n",
    "\\frac{\\sigma_{A, B}{(B)}}{\\sigma_{A, B}} +\n",
    "\\frac{\\sigma_{A, D}{(B)}}{\\sigma_{A, D}} +\n",
    "\\frac{\\sigma_{B, C}{(B)}}{\\sigma_{B, C}} +\n",
    "\\frac{\\sigma_{A, C}{(B)}}{\\sigma_{A, C}} +\n",
    "\\frac{\\sigma_{C, D}{(B)}}{\\sigma_{C, D}}$"
   ]
  },
  {
   "cell_type": "code",
   "execution_count": 58,
   "id": "15a361fe-23ad-40fa-b5d2-96e08631fe0c",
   "metadata": {
    "execution": {
     "iopub.execute_input": "2023-02-28T12:45:01.025297Z",
     "iopub.status.busy": "2023-02-28T12:45:01.024302Z",
     "iopub.status.idle": "2023-02-28T12:45:01.143334Z",
     "shell.execute_reply": "2023-02-28T12:45:01.143334Z",
     "shell.execute_reply.started": "2023-02-28T12:45:01.025297Z"
    },
    "tags": []
   },
   "outputs": [
    {
     "data": {
      "image/png": "[encoded data removed]",
      "text/plain": [
       "<Figure size 640x480 with 1 Axes>"
      ]
     },
     "metadata": {},
     "output_type": "display_data"
    }
   ],
   "source": [
    "graph = nx.Graph()\n",
    "graph.add_edges_from([(\"A\", \"B\"), (\"B\", \"C\"), (\"B\", \"D\"), (\"C\", \"D\")])\n",
    "nx.draw_networkx(graph, node_color = \"orange\")"
   ]
  },
  {
   "cell_type": "code",
   "execution_count": 60,
   "id": "cb17b56c-d4b3-4762-952f-bb84b84785fc",
   "metadata": {
    "execution": {
     "iopub.execute_input": "2023-02-28T12:47:09.011175Z",
     "iopub.status.busy": "2023-02-28T12:47:09.011175Z",
     "iopub.status.idle": "2023-02-28T12:47:09.015908Z",
     "shell.execute_reply": "2023-02-28T12:47:09.015908Z",
     "shell.execute_reply.started": "2023-02-28T12:47:09.011175Z"
    },
    "tags": []
   },
   "outputs": [
    {
     "data": {
      "text/plain": [
       "5.0"
      ]
     },
     "execution_count": 60,
     "metadata": {},
     "output_type": "execute_result"
    }
   ],
   "source": [
    "(1 / 1) + (1 / 1) + (1 / 1) + (1 / 1) + (1 / 1) + (0 / 1)"
   ]
  },
  {
   "cell_type": "markdown",
   "id": "1a5f5a96-e31c-46f4-bed3-ca2a3319caba",
   "metadata": {},
   "source": [
    "## ***Disconnected nodes***"
   ]
  },
  {
   "cell_type": "code",
   "execution_count": 64,
   "id": "0f63b21f-b26a-4682-8427-d116516f20ed",
   "metadata": {
    "execution": {
     "iopub.execute_input": "2023-02-28T12:58:51.777218Z",
     "iopub.status.busy": "2023-02-28T12:58:51.777218Z",
     "iopub.status.idle": "2023-02-28T12:58:51.905352Z",
     "shell.execute_reply": "2023-02-28T12:58:51.905352Z",
     "shell.execute_reply.started": "2023-02-28T12:58:51.777218Z"
    },
    "tags": []
   },
   "outputs": [
    {
     "data": {
      "image/png": "[encoded data removed]",
      "text/plain": [
       "<Figure size 640x480 with 1 Axes>"
      ]
     },
     "metadata": {},
     "output_type": "display_data"
    }
   ],
   "source": [
    "graph = nx.DiGraph()\n",
    "graph.add_edges_from([(\"A\", \"B\"), (\"B\", \"C\"), (\"D\", \"B\"), (\"D\", \"C\"), (\"C\", \"A\")])\n",
    "nx.draw_networkx(graph, node_color = \"cyan\")"
   ]
  },
  {
   "cell_type": "code",
   "execution_count": 65,
   "id": "56ffe916-60b7-42dc-852a-86da2bc79cc8",
   "metadata": {
    "execution": {
     "iopub.execute_input": "2023-02-28T13:02:41.089561Z",
     "iopub.status.busy": "2023-02-28T13:02:41.088567Z",
     "iopub.status.idle": "2023-02-28T13:02:41.093674Z",
     "shell.execute_reply": "2023-02-28T13:02:41.092667Z",
     "shell.execute_reply.started": "2023-02-28T13:02:41.089561Z"
    },
    "tags": []
   },
   "outputs": [],
   "source": [
    "# Here node D cannot be reached by any other nodes!\n",
    "# Hence, sigma(any, D) will be 0.\n",
    "\n",
    "# In betweenness centrality only the pair of nodes that has at least one shortest path between them are considered."
   ]
  },
  {
   "cell_type": "code",
   "execution_count": 67,
   "id": "916fab1b-516d-4ed4-ab3c-7255f9b9b583",
   "metadata": {
    "execution": {
     "iopub.execute_input": "2023-02-28T13:18:46.484424Z",
     "iopub.status.busy": "2023-02-28T13:18:46.483411Z",
     "iopub.status.idle": "2023-02-28T13:18:46.488148Z",
     "shell.execute_reply": "2023-02-28T13:18:46.487141Z",
     "shell.execute_reply.started": "2023-02-28T13:18:46.484424Z"
    },
    "tags": []
   },
   "outputs": [],
   "source": [
    "# Betweenness centrality of B, excluding B as a node"
   ]
  },
  {
   "cell_type": "markdown",
   "id": "9b491e17-06ef-40e3-a37d-938f3ace31d7",
   "metadata": {},
   "source": [
    "# $C_{btw}(B) = \\frac{\\sigma_{A, C}{(B)}}{\\sigma_{A, C}} +\n",
    "                \\frac{\\sigma_{D, C}{(B)}}{\\sigma_{D, C}} +\n",
    "                \\frac{\\sigma_{C, A}{(B)}}{\\sigma_{C, A}} +\n",
    "                \\frac{\\sigma_{D, A}{(B)}}{\\sigma_{D, A}}$"
   ]
  },
  {
   "cell_type": "code",
   "execution_count": 74,
   "id": "6f6e6c0c-6cec-43df-8e9a-be9393c44796",
   "metadata": {
    "execution": {
     "iopub.execute_input": "2023-02-28T13:28:18.363707Z",
     "iopub.status.busy": "2023-02-28T13:28:18.363707Z",
     "iopub.status.idle": "2023-02-28T13:28:18.369673Z",
     "shell.execute_reply": "2023-02-28T13:28:18.369673Z",
     "shell.execute_reply.started": "2023-02-28T13:28:18.363707Z"
    },
    "tags": []
   },
   "outputs": [
    {
     "data": {
      "text/plain": [
       "1.0"
      ]
     },
     "execution_count": 74,
     "metadata": {},
     "output_type": "execute_result"
    }
   ],
   "source": [
    "(1 / 1) + (0 / 1) + (0 / 1) + (0 / 1)"
   ]
  },
  {
   "cell_type": "markdown",
   "id": "f4db7088-4445-46a1-bf6b-f83f9a35df6e",
   "metadata": {
    "execution": {
     "iopub.execute_input": "2023-02-28T13:30:10.143486Z",
     "iopub.status.busy": "2023-02-28T13:30:10.143486Z",
     "iopub.status.idle": "2023-02-28T13:30:10.149658Z",
     "shell.execute_reply": "2023-02-28T13:30:10.148646Z",
     "shell.execute_reply.started": "2023-02-28T13:30:10.143486Z"
    },
    "tags": []
   },
   "source": [
    "# $C_{btw}(C) = \\frac{\\sigma_{A, B}{(C)}}{\\sigma_{A, B}} +\n",
    "                \\frac{\\sigma_{D, B}{(C)}}{\\sigma_{D, B}} +\n",
    "                \\frac{\\sigma_{B, A}{(C)}}{\\sigma_{B, A}} +\n",
    "                \\frac{\\sigma_{D, A}{(C)}}{\\sigma_{D, A}}$"
   ]
  },
  {
   "cell_type": "code",
   "execution_count": 76,
   "id": "3ebe5fcb-4ce7-4a4c-93cd-57603627f2aa",
   "metadata": {
    "execution": {
     "iopub.execute_input": "2023-02-28T13:31:28.341172Z",
     "iopub.status.busy": "2023-02-28T13:31:28.340201Z",
     "iopub.status.idle": "2023-02-28T13:31:28.345605Z",
     "shell.execute_reply": "2023-02-28T13:31:28.345605Z",
     "shell.execute_reply.started": "2023-02-28T13:31:28.341172Z"
    },
    "tags": []
   },
   "outputs": [
    {
     "data": {
      "text/plain": [
       "2.0"
      ]
     },
     "execution_count": 76,
     "metadata": {},
     "output_type": "execute_result"
    }
   ],
   "source": [
    "(0 / 1) + (0 / 1) + (1 / 1) + (1 / 1)"
   ]
  },
  {
   "cell_type": "markdown",
   "id": "e0320c62-e6a4-431a-bae1-b17aca058476",
   "metadata": {},
   "source": [
    "### ***We did not discuss betweenness centrality of directed networks where the given node is also included.***"
   ]
  },
  {
   "cell_type": "markdown",
   "id": "6bb5eb95-e90c-4c20-bea9-5fcf82f547a9",
   "metadata": {},
   "source": [
    "### **Normalization**"
   ]
  },
  {
   "cell_type": "code",
   "execution_count": 78,
   "id": "e92fb1b9-87d3-4bd4-b5f3-e2f6841a3b48",
   "metadata": {
    "execution": {
     "iopub.execute_input": "2023-02-28T14:04:44.325329Z",
     "iopub.status.busy": "2023-02-28T14:04:44.324401Z",
     "iopub.status.idle": "2023-02-28T14:04:44.328984Z",
     "shell.execute_reply": "2023-02-28T14:04:44.327978Z",
     "shell.execute_reply.started": "2023-02-28T14:04:44.325329Z"
    },
    "tags": []
   },
   "outputs": [],
   "source": [
    "# Betweenness centrality will be larger in graphs with many nodes simply because in larger networks there are many pairs of \n",
    "# s and  t to choose from.\n",
    "# To normalize this betweenness centrality is divided by the number of pairs of nodes in the graph \n",
    "# (excluding the node bc is being calculated for)"
   ]
  },
  {
   "cell_type": "markdown",
   "id": "d0823d74-c22b-4e29-a0d7-19255fe438ea",
   "metadata": {},
   "source": [
    "## **Total number of node pairs in a directed graph = $\\frac{1}{2}(|N| - 1)(|N| - 2)$**\n",
    "## **Total number of node pairs in an undirected graph = ${(|N| - 1)(|N| - 2)}$**"
   ]
  },
  {
   "cell_type": "code",
   "execution_count": 79,
   "id": "f048b9ce-bdf4-4f6a-b814-7d558d977baa",
   "metadata": {
    "execution": {
     "iopub.execute_input": "2023-02-28T14:09:43.245456Z",
     "iopub.status.busy": "2023-02-28T14:09:43.244545Z",
     "iopub.status.idle": "2023-02-28T14:09:43.253146Z",
     "shell.execute_reply": "2023-02-28T14:09:43.253146Z",
     "shell.execute_reply.started": "2023-02-28T14:09:43.245456Z"
    },
    "tags": []
   },
   "outputs": [
    {
     "data": {
      "text/plain": [
       "{1: 231.0714285714286,\n",
       " 2: 28.478571428571424,\n",
       " 3: 75.85079365079366,\n",
       " 4: 6.288095238095237,\n",
       " 5: 0.3333333333333333,\n",
       " 6: 15.833333333333334,\n",
       " 7: 15.833333333333332,\n",
       " 8: 0.0,\n",
       " 9: 29.529365079365082,\n",
       " 10: 0.44761904761904764,\n",
       " 11: 0.3333333333333333,\n",
       " 12: 0.0,\n",
       " 13: 0.0,\n",
       " 14: 24.215873015873015,\n",
       " 15: 0.0,\n",
       " 16: 0.0,\n",
       " 17: 0.0,\n",
       " 18: 0.0,\n",
       " 19: 0.0,\n",
       " 20: 17.1468253968254,\n",
       " 21: 0.0,\n",
       " 22: 0.0,\n",
       " 23: 0.0,\n",
       " 24: 9.299999999999999,\n",
       " 25: 1.1666666666666665,\n",
       " 26: 2.0277777777777777,\n",
       " 27: 0.0,\n",
       " 28: 11.79206349206349,\n",
       " 29: 0.9476190476190476,\n",
       " 30: 1.5428571428571427,\n",
       " 31: 7.609523809523807,\n",
       " 32: 73.00952380952378,\n",
       " 33: 76.69047619047619,\n",
       " 34: 160.5515873015873}"
      ]
     },
     "execution_count": 79,
     "metadata": {},
     "output_type": "execute_result"
    }
   ],
   "source": [
    "nx.betweenness_centrality(karate, normalized = False, endpoints = False)"
   ]
  },
  {
   "cell_type": "code",
   "execution_count": 99,
   "id": "91b3a739-8905-4f2b-b9d3-bfd9bb60aee7",
   "metadata": {
    "execution": {
     "iopub.execute_input": "2023-02-28T14:45:27.048953Z",
     "iopub.status.busy": "2023-02-28T14:45:27.047987Z",
     "iopub.status.idle": "2023-02-28T14:45:27.056808Z",
     "shell.execute_reply": "2023-02-28T14:45:27.056808Z",
     "shell.execute_reply.started": "2023-02-28T14:45:27.048953Z"
    },
    "tags": []
   },
   "outputs": [
    {
     "data": {
      "text/plain": [
       "[(1, 231.0714285714286),\n",
       " (34, 160.5515873015873),\n",
       " (33, 76.69047619047619),\n",
       " (3, 75.85079365079366),\n",
       " (32, 73.00952380952378),\n",
       " (9, 29.529365079365082),\n",
       " (2, 28.478571428571424),\n",
       " (14, 24.215873015873015),\n",
       " (20, 17.1468253968254),\n",
       " (6, 15.833333333333334),\n",
       " (7, 15.833333333333332),\n",
       " (28, 11.79206349206349),\n",
       " (24, 9.299999999999999),\n",
       " (31, 7.609523809523807),\n",
       " (4, 6.288095238095237),\n",
       " (26, 2.0277777777777777),\n",
       " (30, 1.5428571428571427),\n",
       " (25, 1.1666666666666665),\n",
       " (29, 0.9476190476190476),\n",
       " (10, 0.44761904761904764),\n",
       " (5, 0.3333333333333333),\n",
       " (11, 0.3333333333333333),\n",
       " (8, 0.0),\n",
       " (12, 0.0),\n",
       " (13, 0.0),\n",
       " (15, 0.0),\n",
       " (16, 0.0),\n",
       " (17, 0.0),\n",
       " (18, 0.0),\n",
       " (19, 0.0),\n",
       " (21, 0.0),\n",
       " (22, 0.0),\n",
       " (23, 0.0),\n",
       " (27, 0.0)]"
      ]
     },
     "execution_count": 99,
     "metadata": {},
     "output_type": "execute_result"
    }
   ],
   "source": [
    "bckarate = nx.betweenness_centrality(karate, normalized = False, endpoints = False)\n",
    "sorted(bckarate.items(), reverse = True, key = lambda item: item[1])"
   ]
  },
  {
   "cell_type": "code",
   "execution_count": 100,
   "id": "f96be99b-d878-4967-801f-45b7c53f4411",
   "metadata": {
    "execution": {
     "iopub.execute_input": "2023-02-28T14:46:56.093273Z",
     "iopub.status.busy": "2023-02-28T14:46:56.093273Z",
     "iopub.status.idle": "2023-02-28T14:46:56.097022Z",
     "shell.execute_reply": "2023-02-28T14:46:56.097022Z",
     "shell.execute_reply.started": "2023-02-28T14:46:56.093273Z"
    },
    "tags": []
   },
   "outputs": [],
   "source": [
    "import operator"
   ]
  },
  {
   "cell_type": "code",
   "execution_count": 102,
   "id": "ecbcfbc7-fa96-46ec-8d70-1b150ac2a68d",
   "metadata": {
    "execution": {
     "iopub.execute_input": "2023-02-28T14:47:54.874103Z",
     "iopub.status.busy": "2023-02-28T14:47:54.874103Z",
     "iopub.status.idle": "2023-02-28T14:47:54.882271Z",
     "shell.execute_reply": "2023-02-28T14:47:54.882271Z",
     "shell.execute_reply.started": "2023-02-28T14:47:54.874103Z"
    },
    "tags": []
   },
   "outputs": [
    {
     "data": {
      "text/plain": [
       "[(1, 231.0714285714286),\n",
       " (34, 160.5515873015873),\n",
       " (33, 76.69047619047619),\n",
       " (3, 75.85079365079366),\n",
       " (32, 73.00952380952378),\n",
       " (9, 29.529365079365082),\n",
       " (2, 28.478571428571424),\n",
       " (14, 24.215873015873015),\n",
       " (20, 17.1468253968254),\n",
       " (6, 15.833333333333334),\n",
       " (7, 15.833333333333332),\n",
       " (28, 11.79206349206349),\n",
       " (24, 9.299999999999999),\n",
       " (31, 7.609523809523807),\n",
       " (4, 6.288095238095237),\n",
       " (26, 2.0277777777777777),\n",
       " (30, 1.5428571428571427),\n",
       " (25, 1.1666666666666665),\n",
       " (29, 0.9476190476190476),\n",
       " (10, 0.44761904761904764),\n",
       " (5, 0.3333333333333333),\n",
       " (11, 0.3333333333333333),\n",
       " (8, 0.0),\n",
       " (12, 0.0),\n",
       " (13, 0.0),\n",
       " (15, 0.0),\n",
       " (16, 0.0),\n",
       " (17, 0.0),\n",
       " (18, 0.0),\n",
       " (19, 0.0),\n",
       " (21, 0.0),\n",
       " (22, 0.0),\n",
       " (23, 0.0),\n",
       " (27, 0.0)]"
      ]
     },
     "execution_count": 102,
     "metadata": {},
     "output_type": "execute_result"
    }
   ],
   "source": [
    "sorted(nx.betweenness_centrality(karate, normalized = False, endpoints = False).items(), reverse = True, key = operator.itemgetter(1))"
   ]
  },
  {
   "cell_type": "code",
   "execution_count": 80,
   "id": "c4f563f8-cb63-4d3e-9f1e-0fdf1d5fec8d",
   "metadata": {
    "execution": {
     "iopub.execute_input": "2023-02-28T14:10:27.580182Z",
     "iopub.status.busy": "2023-02-28T14:10:27.580182Z",
     "iopub.status.idle": "2023-02-28T14:10:27.585238Z",
     "shell.execute_reply": "2023-02-28T14:10:27.585238Z",
     "shell.execute_reply.started": "2023-02-28T14:10:27.580182Z"
    },
    "tags": []
   },
   "outputs": [
    {
     "data": {
      "text/plain": [
       "NodeView((1, 2, 3, 4, 5, 6, 7, 8, 9, 10, 11, 12, 13, 14, 15, 16, 17, 18, 19, 20, 21, 22, 23, 24, 25, 26, 27, 28, 29, 30, 31, 32, 33, 34))"
      ]
     },
     "execution_count": 80,
     "metadata": {},
     "output_type": "execute_result"
    }
   ],
   "source": [
    "karate.nodes()"
   ]
  },
  {
   "cell_type": "code",
   "execution_count": 86,
   "id": "d8b3b70c-618c-4d5e-aeb6-087327d0e17c",
   "metadata": {
    "execution": {
     "iopub.execute_input": "2023-02-28T14:30:29.270654Z",
     "iopub.status.busy": "2023-02-28T14:30:29.270654Z",
     "iopub.status.idle": "2023-02-28T14:30:29.274748Z",
     "shell.execute_reply": "2023-02-28T14:30:29.274748Z",
     "shell.execute_reply.started": "2023-02-28T14:30:29.270654Z"
    },
    "tags": []
   },
   "outputs": [],
   "source": [
    "{tuple(sorted(pair)) for pair in itertools.permutations(karate.nodes(), r = 2)};"
   ]
  },
  {
   "cell_type": "code",
   "execution_count": 93,
   "id": "2da0791a-7937-4cfb-a51c-382af2b15a72",
   "metadata": {
    "execution": {
     "iopub.execute_input": "2023-02-28T14:42:10.300895Z",
     "iopub.status.busy": "2023-02-28T14:42:10.300895Z",
     "iopub.status.idle": "2023-02-28T14:42:10.845482Z",
     "shell.execute_reply": "2023-02-28T14:42:10.845482Z",
     "shell.execute_reply.started": "2023-02-28T14:42:10.300895Z"
    },
    "tags": []
   },
   "outputs": [],
   "source": [
    "occurrance_in_spaths = {node: 0 for node in karate.nodes()}\n",
    "knodes = karate.nodes()\n",
    "\n",
    "# Inclusive :(\n",
    "for (s, t) in {tuple(sorted(pair)) for pair in itertools.permutations(karate.nodes(), r = 2)}:\n",
    "    for node in knodes:\n",
    "        shortest_paths = nx.all_shortest_paths(karate, source = s, target = t)\n",
    "        if shortest_paths:\n",
    "            for spath in shortest_paths:\n",
    "                if node in spath:\n",
    "                    occurrance_in_spaths[node] += 1"
   ]
  },
  {
   "cell_type": "code",
   "execution_count": 94,
   "id": "d32e4f77-226e-437e-b564-4c534605a908",
   "metadata": {
    "execution": {
     "iopub.execute_input": "2023-02-28T14:42:11.314420Z",
     "iopub.status.busy": "2023-02-28T14:42:11.313420Z",
     "iopub.status.idle": "2023-02-28T14:42:11.319040Z",
     "shell.execute_reply": "2023-02-28T14:42:11.319040Z",
     "shell.execute_reply.started": "2023-02-28T14:42:11.314420Z"
    },
    "tags": []
   },
   "outputs": [
    {
     "data": {
      "text/plain": [
       "{1: 931,\n",
       " 2: 205,\n",
       " 3: 300,\n",
       " 4: 76,\n",
       " 5: 90,\n",
       " 6: 174,\n",
       " 7: 174,\n",
       " 8: 71,\n",
       " 9: 264,\n",
       " 10: 49,\n",
       " 11: 90,\n",
       " 12: 88,\n",
       " 13: 114,\n",
       " 14: 209,\n",
       " 15: 131,\n",
       " 16: 131,\n",
       " 17: 170,\n",
       " 18: 140,\n",
       " 19: 131,\n",
       " 20: 178,\n",
       " 21: 131,\n",
       " 22: 140,\n",
       " 23: 131,\n",
       " 24: 186,\n",
       " 25: 70,\n",
       " 26: 85,\n",
       " 27: 101,\n",
       " 28: 92,\n",
       " 29: 60,\n",
       " 30: 135,\n",
       " 31: 115,\n",
       " 32: 343,\n",
       " 33: 446,\n",
       " 34: 723}"
      ]
     },
     "execution_count": 94,
     "metadata": {},
     "output_type": "execute_result"
    }
   ],
   "source": [
    "occurrance_in_spaths"
   ]
  },
  {
   "cell_type": "markdown",
   "id": "545faa26-ae84-43b0-8b9e-fa0562e259d2",
   "metadata": {},
   "source": [
    "## ***Betweenness centrality can be really computationally intensive, particularly for large networks.***"
   ]
  },
  {
   "cell_type": "code",
   "execution_count": 104,
   "id": "74161a65-b112-4cb4-982f-09289ddec2ee",
   "metadata": {
    "execution": {
     "iopub.execute_input": "2023-02-28T14:50:34.116961Z",
     "iopub.status.busy": "2023-02-28T14:50:34.115959Z",
     "iopub.status.idle": "2023-02-28T14:50:34.122237Z",
     "shell.execute_reply": "2023-02-28T14:50:34.122237Z",
     "shell.execute_reply.started": "2023-02-28T14:50:34.116961Z"
    },
    "tags": []
   },
   "outputs": [
    {
     "data": {
      "text/plain": [
       "{1: 240.63230158730158,\n",
       " 2: 31.09380952380952,\n",
       " 3: 97.98206349206347,\n",
       " 4: 2.880555555555556,\n",
       " 5: 0.0,\n",
       " 6: 6.8,\n",
       " 7: 9.633333333333333,\n",
       " 8: 0.0,\n",
       " 9: 27.630396825396826,\n",
       " 10: 0.0,\n",
       " 11: 1.1333333333333333,\n",
       " 12: 0.0,\n",
       " 13: 0.0,\n",
       " 14: 15.559047619047618,\n",
       " 15: 0.0,\n",
       " 16: 0.0,\n",
       " 17: 0.0,\n",
       " 18: 0.0,\n",
       " 19: 0.0,\n",
       " 20: 13.48126984126984,\n",
       " 21: 0.0,\n",
       " 22: 0.0,\n",
       " 23: 0.0,\n",
       " 24: 20.513333333333332,\n",
       " 25: 2.833333333333333,\n",
       " 26: 0.49111111111111105,\n",
       " 27: 0.0,\n",
       " 28: 4.004444444444443,\n",
       " 29: 0.2833333333333333,\n",
       " 30: 1.4166666666666665,\n",
       " 31: 6.775714285714286,\n",
       " 32: 85.80817460317459,\n",
       " 33: 63.577301587301584,\n",
       " 34: 174.9704761904762}"
      ]
     },
     "execution_count": 104,
     "metadata": {},
     "output_type": "execute_result"
    }
   ],
   "source": [
    "# So one can sample a subset of nodes to compute the bc\n",
    "# Sample size = 10\n",
    "\n",
    "nx.betweenness_centrality(karate, normalized = False, endpoints = False, k = 10)"
   ]
  },
  {
   "cell_type": "code",
   "execution_count": null,
   "id": "850362fb-fbf0-4f54-9f11-8e17af8e5521",
   "metadata": {},
   "outputs": [],
   "source": []
  }
 ],
 "metadata": {
  "kernelspec": {
   "display_name": "Python 3 (ipykernel)",
   "language": "python",
   "name": "python3"
  },
  "language_info": {
   "codemirror_mode": {
    "name": "ipython",
    "version": 3
   },
   "file_extension": ".py",
   "mimetype": "text/x-python",
   "name": "python",
   "nbconvert_exporter": "python",
   "pygments_lexer": "ipython3",
   "version": "3.11.2"
  }
 },
 "nbformat": 4,
 "nbformat_minor": 5
}
