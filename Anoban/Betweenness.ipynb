{
 "cells": [
  {
   "cell_type": "code",
   "execution_count": 1,
   "id": "01f11fb0-d24d-44eb-a05d-9fe530b9789c",
   "metadata": {
    "execution": {
     "iopub.execute_input": "2023-02-28T22:54:02.504084Z",
     "iopub.status.busy": "2023-02-28T22:54:02.503098Z",
     "iopub.status.idle": "2023-02-28T22:54:19.694863Z",
     "shell.execute_reply": "2023-02-28T22:54:19.693848Z",
     "shell.execute_reply.started": "2023-02-28T22:54:02.504084Z"
    },
    "tags": []
   },
   "outputs": [],
   "source": [
    "import networkx as nx\n",
    "import numpy as np\n",
    "import matplotlib.pyplot as plt\n",
    "import itertools"
   ]
  },
  {
   "cell_type": "markdown",
   "id": "8a4d132b-1be5-4512-be86-635decba8353",
   "metadata": {},
   "source": [
    "# ***Betweenness Centrality***\n",
    "--------------------"
   ]
  },
  {
   "cell_type": "code",
   "execution_count": 2,
   "id": "ac633c1e-c6d4-4891-9f29-0dfb94deb9ed",
   "metadata": {
    "execution": {
     "iopub.execute_input": "2023-02-28T22:54:27.513315Z",
     "iopub.status.busy": "2023-02-28T22:54:27.512334Z",
     "iopub.status.idle": "2023-02-28T22:54:27.517906Z",
     "shell.execute_reply": "2023-02-28T22:54:27.517906Z",
     "shell.execute_reply.started": "2023-02-28T22:54:27.513315Z"
    },
    "tags": []
   },
   "outputs": [],
   "source": [
    "# This assumes that importance of nodes depends on them connecting other nodes.\n",
    "# Distance between 2 nodes is the shortest path between them.\n",
    "\n",
    "karate = nx.karate_club_graph()\n",
    "karate = nx.convert_node_labels_to_integers(karate, first_label = 1)"
   ]
  },
  {
   "cell_type": "code",
   "execution_count": 3,
   "id": "e874d649-eac4-4fa2-a1e7-b95d9963b4c5",
   "metadata": {
    "execution": {
     "iopub.execute_input": "2023-02-28T22:54:27.953371Z",
     "iopub.status.busy": "2023-02-28T22:54:27.952406Z",
     "iopub.status.idle": "2023-02-28T22:54:27.960542Z",
     "shell.execute_reply": "2023-02-28T22:54:27.960542Z",
     "shell.execute_reply.started": "2023-02-28T22:54:27.953371Z"
    },
    "tags": []
   },
   "outputs": [
    {
     "data": {
      "text/plain": [
       "[[34, 14, 2], [34, 20, 2], [34, 31, 2]]"
      ]
     },
     "execution_count": 3,
     "metadata": {},
     "output_type": "execute_result"
    }
   ],
   "source": [
    "list(nx.all_shortest_paths(karate, source = 34, target = 2))"
   ]
  },
  {
   "cell_type": "code",
   "execution_count": 4,
   "id": "abaf93a4-2daf-4f7c-a97c-0d01bf2fc7d9",
   "metadata": {
    "execution": {
     "iopub.execute_input": "2023-02-28T22:54:28.456087Z",
     "iopub.status.busy": "2023-02-28T22:54:28.455159Z",
     "iopub.status.idle": "2023-02-28T22:54:28.458572Z",
     "shell.execute_reply": "2023-02-28T22:54:28.458572Z",
     "shell.execute_reply.started": "2023-02-28T22:54:28.456087Z"
    },
    "tags": []
   },
   "outputs": [],
   "source": [
    "# Note that nodes 14, 20 and 31 are in the shortest paths between nodes 34 and 2."
   ]
  },
  {
   "cell_type": "markdown",
   "id": "b3065abf-721c-415a-b586-1eef1409a07f",
   "metadata": {},
   "source": [
    "## ***Betweenness centrality***\n",
    "# ***$C_{btw}(v) = \\sum{_{s,t \\in N}{\\frac{\\sigma_{s,t}{(v)}}{\\sigma_{s,t}}}}$***"
   ]
  },
  {
   "cell_type": "code",
   "execution_count": 5,
   "id": "82027903-0db6-4941-85a7-a3d4fa40c20a",
   "metadata": {
    "execution": {
     "iopub.execute_input": "2023-02-28T22:54:29.222782Z",
     "iopub.status.busy": "2023-02-28T22:54:29.222782Z",
     "iopub.status.idle": "2023-02-28T22:54:29.226092Z",
     "shell.execute_reply": "2023-02-28T22:54:29.226092Z",
     "shell.execute_reply.started": "2023-02-28T22:54:29.222782Z"
    },
    "tags": []
   },
   "outputs": [],
   "source": [
    "# Take two different nodes - s and t\n",
    "# Find all the shortest paths between s and t -> sigma s,t\n",
    "# Find all the shortest paths between s and t that contain node v -> sigma s,t (v)\n",
    "# Betweenness centrality is the sum of this for all possible pairs of s and t in the network."
   ]
  },
  {
   "cell_type": "code",
   "execution_count": 63,
   "id": "d0adc4cf-11b7-44e8-9edc-f13c26722e88",
   "metadata": {
    "execution": {
     "iopub.execute_input": "2023-02-28T23:01:47.016209Z",
     "iopub.status.busy": "2023-02-28T23:01:47.016209Z",
     "iopub.status.idle": "2023-02-28T23:01:47.132874Z",
     "shell.execute_reply": "2023-02-28T23:01:47.132874Z",
     "shell.execute_reply.started": "2023-02-28T23:01:47.016209Z"
    },
    "tags": []
   },
   "outputs": [
    {
     "data": {
      "image/png": "[encoded data removed]",
      "text/plain": [
       "<Figure size 640x480 with 1 Axes>"
      ]
     },
     "metadata": {},
     "output_type": "display_data"
    }
   ],
   "source": [
    "graph = nx.Graph()\n",
    "graph.add_edges_from([(\"A\", \"B\"), (\"B\", \"C\"), (\"B\", \"D\"), (\"C\", \"D\")])\n",
    "nx.draw_networkx(graph, node_color = \"yellow\", node_size = 650)"
   ]
  },
  {
   "cell_type": "markdown",
   "id": "a66e6ffb-a3b8-4820-9519-47a2c901eb0a",
   "metadata": {},
   "source": [
    "# $C_{btw}(B) = \\frac{\\sigma_{A, C}{(B)}}{\\sigma_{A, C}} + \\frac{\\sigma_{A, D}{(B)}}{\\sigma_{A, D}} + \\frac{\\sigma_{C, D}{(B)}}{\\sigma_{C, D}}$"
   ]
  },
  {
   "cell_type": "code",
   "execution_count": 28,
   "id": "f7d2a0c5-4d60-4e35-9d63-2f5c306d5313",
   "metadata": {
    "execution": {
     "iopub.execute_input": "2023-02-28T22:56:21.220187Z",
     "iopub.status.busy": "2023-02-28T22:56:21.219232Z",
     "iopub.status.idle": "2023-02-28T22:56:21.224557Z",
     "shell.execute_reply": "2023-02-28T22:56:21.224557Z",
     "shell.execute_reply.started": "2023-02-28T22:56:21.219232Z"
    },
    "tags": []
   },
   "outputs": [
    {
     "data": {
      "text/plain": [
       "2.0"
      ]
     },
     "execution_count": 28,
     "metadata": {},
     "output_type": "execute_result"
    }
   ],
   "source": [
    "# s - > Source\n",
    "# t -> Target\n",
    "# s and t are aslo collectively called endpoints of a path\n",
    "# This equation excludes the node B either as s or t.\n",
    "\n",
    "(1 / 1) + (1 / 1) + (0 / 1)"
   ]
  },
  {
   "cell_type": "code",
   "execution_count": 29,
   "id": "bec7f33f-2140-4350-b4e4-033241548b18",
   "metadata": {
    "execution": {
     "iopub.execute_input": "2023-02-28T22:56:21.534850Z",
     "iopub.status.busy": "2023-02-28T22:56:21.534850Z",
     "iopub.status.idle": "2023-02-28T22:56:21.537875Z",
     "shell.execute_reply": "2023-02-28T22:56:21.537875Z",
     "shell.execute_reply.started": "2023-02-28T22:56:21.534850Z"
    },
    "tags": []
   },
   "outputs": [],
   "source": [
    "# If we include node B;"
   ]
  },
  {
   "cell_type": "code",
   "execution_count": 30,
   "id": "5c4140b5-cd62-4a0f-a374-8ecc810f3bee",
   "metadata": {
    "execution": {
     "iopub.execute_input": "2023-02-28T22:56:21.752313Z",
     "iopub.status.busy": "2023-02-28T22:56:21.752313Z",
     "iopub.status.idle": "2023-02-28T22:56:21.757434Z",
     "shell.execute_reply": "2023-02-28T22:56:21.757434Z",
     "shell.execute_reply.started": "2023-02-28T22:56:21.752313Z"
    },
    "tags": []
   },
   "outputs": [
    {
     "data": {
      "text/plain": [
       "{('A', 'B'), ('A', 'C'), ('A', 'D'), ('B', 'C'), ('B', 'D'), ('C', 'D')}"
      ]
     },
     "execution_count": 30,
     "metadata": {},
     "output_type": "execute_result"
    }
   ],
   "source": [
    "{tuple(sorted(pair)) for pair in itertools.permutations([\"A\", \"B\", \"C\", \"D\"], r = 2)}"
   ]
  },
  {
   "cell_type": "code",
   "execution_count": 31,
   "id": "61b5240a-f659-4571-ac5c-3873ad334b40",
   "metadata": {
    "execution": {
     "iopub.execute_input": "2023-02-28T22:56:22.016959Z",
     "iopub.status.busy": "2023-02-28T22:56:22.015962Z",
     "iopub.status.idle": "2023-02-28T22:56:22.021780Z",
     "shell.execute_reply": "2023-02-28T22:56:22.020773Z",
     "shell.execute_reply.started": "2023-02-28T22:56:22.016959Z"
    },
    "tags": []
   },
   "outputs": [
    {
     "name": "stdout",
     "output_type": "stream",
     "text": [
      "\\frac{\\sigma_{C, D}{(B)}}{\\sigma_{C, D}} +\n",
      "\\frac{\\sigma_{A, C}{(B)}}{\\sigma_{A, C}} +\n",
      "\\frac{\\sigma_{B, D}{(B)}}{\\sigma_{B, D}} +\n",
      "\\frac{\\sigma_{A, B}{(B)}}{\\sigma_{A, B}} +\n",
      "\\frac{\\sigma_{B, C}{(B)}}{\\sigma_{B, C}} +\n",
      "\\frac{\\sigma_{A, D}{(B)}}{\\sigma_{A, D}} +\n"
     ]
    }
   ],
   "source": [
    "template = r\"\\frac{\\sigma_{%s, %s}{(B)}}{\\sigma_{%s, %s}} +\"\n",
    "\n",
    "for (node_1, node_2) in {tuple(sorted(pair)) for pair in itertools.permutations([\"A\", \"B\", \"C\", \"D\"], r = 2)}:\n",
    "    print(template % (node_1, node_2, node_1, node_2))"
   ]
  },
  {
   "cell_type": "markdown",
   "id": "03e1d65b-c51a-4884-b9a7-f23ae4ed40f8",
   "metadata": {},
   "source": [
    "# $C_{btw}(B) = \\frac{\\sigma_{B, D}{(B)}}{\\sigma_{B, D}} +\n",
    "\\frac{\\sigma_{A, B}{(B)}}{\\sigma_{A, B}} +\n",
    "\\frac{\\sigma_{A, D}{(B)}}{\\sigma_{A, D}} +\n",
    "\\frac{\\sigma_{B, C}{(B)}}{\\sigma_{B, C}} +\n",
    "\\frac{\\sigma_{A, C}{(B)}}{\\sigma_{A, C}} +\n",
    "\\frac{\\sigma_{C, D}{(B)}}{\\sigma_{C, D}}$"
   ]
  },
  {
   "cell_type": "code",
   "execution_count": 60,
   "id": "15a361fe-23ad-40fa-b5d2-96e08631fe0c",
   "metadata": {
    "execution": {
     "iopub.execute_input": "2023-02-28T23:01:21.952614Z",
     "iopub.status.busy": "2023-02-28T23:01:21.952614Z",
     "iopub.status.idle": "2023-02-28T23:01:22.070541Z",
     "shell.execute_reply": "2023-02-28T23:01:22.070541Z",
     "shell.execute_reply.started": "2023-02-28T23:01:21.952614Z"
    },
    "tags": []
   },
   "outputs": [
    {
     "data": {
      "image/png": "[encoded data removed]",
      "text/plain": [
       "<Figure size 640x480 with 1 Axes>"
      ]
     },
     "metadata": {},
     "output_type": "display_data"
    }
   ],
   "source": [
    "graph = nx.Graph()\n",
    "graph.add_edges_from([(\"A\", \"B\"), (\"B\", \"C\"), (\"B\", \"D\"), (\"C\", \"D\")])\n",
    "nx.draw_networkx(graph, node_color = \"orange\", node_size = 650)"
   ]
  },
  {
   "cell_type": "code",
   "execution_count": 33,
   "id": "cb17b56c-d4b3-4762-952f-bb84b84785fc",
   "metadata": {
    "execution": {
     "iopub.execute_input": "2023-02-28T22:56:23.122931Z",
     "iopub.status.busy": "2023-02-28T22:56:23.121923Z",
     "iopub.status.idle": "2023-02-28T22:56:23.129685Z",
     "shell.execute_reply": "2023-02-28T22:56:23.128674Z",
     "shell.execute_reply.started": "2023-02-28T22:56:23.122931Z"
    },
    "tags": []
   },
   "outputs": [
    {
     "data": {
      "text/plain": [
       "5.0"
      ]
     },
     "execution_count": 33,
     "metadata": {},
     "output_type": "execute_result"
    }
   ],
   "source": [
    "(1 / 1) + (1 / 1) + (1 / 1) + (1 / 1) + (1 / 1) + (0 / 1)"
   ]
  },
  {
   "cell_type": "markdown",
   "id": "1a5f5a96-e31c-46f4-bed3-ca2a3319caba",
   "metadata": {},
   "source": [
    "## ***Disconnected nodes***"
   ]
  },
  {
   "cell_type": "code",
   "execution_count": 56,
   "id": "0f63b21f-b26a-4682-8427-d116516f20ed",
   "metadata": {
    "execution": {
     "iopub.execute_input": "2023-02-28T23:00:56.479505Z",
     "iopub.status.busy": "2023-02-28T23:00:56.479505Z",
     "iopub.status.idle": "2023-02-28T23:00:56.609674Z",
     "shell.execute_reply": "2023-02-28T23:00:56.609674Z",
     "shell.execute_reply.started": "2023-02-28T23:00:56.479505Z"
    },
    "tags": []
   },
   "outputs": [
    {
     "data": {
      "image/png": "[encoded data removed]",
      "text/plain": [
       "<Figure size 640x480 with 1 Axes>"
      ]
     },
     "metadata": {},
     "output_type": "display_data"
    }
   ],
   "source": [
    "graph = nx.DiGraph()\n",
    "graph.add_edges_from([(\"A\", \"B\"), (\"B\", \"C\"), (\"D\", \"B\"), (\"D\", \"C\"), (\"C\", \"A\")])\n",
    "nx.draw_networkx(graph, node_color = \"cyan\", node_size = 650)"
   ]
  },
  {
   "cell_type": "code",
   "execution_count": 55,
   "id": "56ffe916-60b7-42dc-852a-86da2bc79cc8",
   "metadata": {
    "execution": {
     "iopub.execute_input": "2023-02-28T23:00:55.335189Z",
     "iopub.status.busy": "2023-02-28T23:00:55.335189Z",
     "iopub.status.idle": "2023-02-28T23:00:55.340413Z",
     "shell.execute_reply": "2023-02-28T23:00:55.339402Z",
     "shell.execute_reply.started": "2023-02-28T23:00:55.335189Z"
    },
    "tags": []
   },
   "outputs": [],
   "source": [
    "# Here node D cannot be reached by any other nodes!\n",
    "# Hence, sigma(any, D) will be 0.\n",
    "\n",
    "# In betweenness centrality only the pair of nodes that has at least one shortest path between them are considered."
   ]
  },
  {
   "cell_type": "code",
   "execution_count": 36,
   "id": "916fab1b-516d-4ed4-ab3c-7255f9b9b583",
   "metadata": {
    "execution": {
     "iopub.execute_input": "2023-02-28T22:56:28.214617Z",
     "iopub.status.busy": "2023-02-28T22:56:28.214617Z",
     "iopub.status.idle": "2023-02-28T22:56:28.217396Z",
     "shell.execute_reply": "2023-02-28T22:56:28.217396Z",
     "shell.execute_reply.started": "2023-02-28T22:56:28.214617Z"
    },
    "tags": []
   },
   "outputs": [],
   "source": [
    "# Betweenness centrality of B, excluding B as a node"
   ]
  },
  {
   "cell_type": "markdown",
   "id": "9b491e17-06ef-40e3-a37d-938f3ace31d7",
   "metadata": {},
   "source": [
    "# $C_{btw}(B) = \\frac{\\sigma_{A, C}{(B)}}{\\sigma_{A, C}} +\n",
    "                \\frac{\\sigma_{D, C}{(B)}}{\\sigma_{D, C}} +\n",
    "                \\frac{\\sigma_{C, A}{(B)}}{\\sigma_{C, A}} +\n",
    "                \\frac{\\sigma_{D, A}{(B)}}{\\sigma_{D, A}}$"
   ]
  },
  {
   "cell_type": "code",
   "execution_count": 37,
   "id": "6f6e6c0c-6cec-43df-8e9a-be9393c44796",
   "metadata": {
    "execution": {
     "iopub.execute_input": "2023-02-28T22:56:28.879526Z",
     "iopub.status.busy": "2023-02-28T22:56:28.879526Z",
     "iopub.status.idle": "2023-02-28T22:56:28.884730Z",
     "shell.execute_reply": "2023-02-28T22:56:28.884730Z",
     "shell.execute_reply.started": "2023-02-28T22:56:28.879526Z"
    },
    "tags": []
   },
   "outputs": [
    {
     "data": {
      "text/plain": [
       "1.0"
      ]
     },
     "execution_count": 37,
     "metadata": {},
     "output_type": "execute_result"
    }
   ],
   "source": [
    "(1 / 1) + (0 / 1) + (0 / 1) + (0 / 1)"
   ]
  },
  {
   "cell_type": "markdown",
   "id": "f4db7088-4445-46a1-bf6b-f83f9a35df6e",
   "metadata": {
    "execution": {
     "iopub.execute_input": "2023-02-28T13:30:10.143486Z",
     "iopub.status.busy": "2023-02-28T13:30:10.143486Z",
     "iopub.status.idle": "2023-02-28T13:30:10.149658Z",
     "shell.execute_reply": "2023-02-28T13:30:10.148646Z",
     "shell.execute_reply.started": "2023-02-28T13:30:10.143486Z"
    },
    "tags": []
   },
   "source": [
    "# $C_{btw}(C) = \\frac{\\sigma_{A, B}{(C)}}{\\sigma_{A, B}} +\n",
    "                \\frac{\\sigma_{D, B}{(C)}}{\\sigma_{D, B}} +\n",
    "                \\frac{\\sigma_{B, A}{(C)}}{\\sigma_{B, A}} +\n",
    "                \\frac{\\sigma_{D, A}{(C)}}{\\sigma_{D, A}}$"
   ]
  },
  {
   "cell_type": "code",
   "execution_count": 38,
   "id": "3ebe5fcb-4ce7-4a4c-93cd-57603627f2aa",
   "metadata": {
    "execution": {
     "iopub.execute_input": "2023-02-28T22:56:29.634492Z",
     "iopub.status.busy": "2023-02-28T22:56:29.633495Z",
     "iopub.status.idle": "2023-02-28T22:56:29.638436Z",
     "shell.execute_reply": "2023-02-28T22:56:29.638436Z",
     "shell.execute_reply.started": "2023-02-28T22:56:29.634492Z"
    },
    "tags": []
   },
   "outputs": [
    {
     "data": {
      "text/plain": [
       "2.0"
      ]
     },
     "execution_count": 38,
     "metadata": {},
     "output_type": "execute_result"
    }
   ],
   "source": [
    "(0 / 1) + (0 / 1) + (1 / 1) + (1 / 1)"
   ]
  },
  {
   "cell_type": "markdown",
   "id": "e0320c62-e6a4-431a-bae1-b17aca058476",
   "metadata": {},
   "source": [
    "### ***We did not discuss betweenness centrality of directed networks where the given node is also included.***"
   ]
  },
  {
   "cell_type": "markdown",
   "id": "6bb5eb95-e90c-4c20-bea9-5fcf82f547a9",
   "metadata": {},
   "source": [
    "### **Normalization**"
   ]
  },
  {
   "cell_type": "code",
   "execution_count": 39,
   "id": "e92fb1b9-87d3-4bd4-b5f3-e2f6841a3b48",
   "metadata": {
    "execution": {
     "iopub.execute_input": "2023-02-28T22:56:30.566917Z",
     "iopub.status.busy": "2023-02-28T22:56:30.566917Z",
     "iopub.status.idle": "2023-02-28T22:56:30.570736Z",
     "shell.execute_reply": "2023-02-28T22:56:30.569727Z",
     "shell.execute_reply.started": "2023-02-28T22:56:30.566917Z"
    },
    "tags": []
   },
   "outputs": [],
   "source": [
    "# Betweenness centrality will be larger in graphs with many nodes simply because in larger networks there are many pairs of \n",
    "# s and  t to choose from.\n",
    "# To normalize this betweenness centrality is divided by the number of pairs of nodes in the graph \n",
    "# (excluding the node bc is being calculated for)"
   ]
  },
  {
   "cell_type": "markdown",
   "id": "d0823d74-c22b-4e29-a0d7-19255fe438ea",
   "metadata": {},
   "source": [
    "## **Total number of node pairs in a directed graph = $\\frac{1}{2}(|N| - 1)(|N| - 2)$**\n",
    "## **Total number of node pairs in an undirected graph = ${(|N| - 1)(|N| - 2)}$**"
   ]
  },
  {
   "cell_type": "code",
   "execution_count": 40,
   "id": "f048b9ce-bdf4-4f6a-b814-7d558d977baa",
   "metadata": {
    "execution": {
     "iopub.execute_input": "2023-02-28T22:56:31.391775Z",
     "iopub.status.busy": "2023-02-28T22:56:31.391775Z",
     "iopub.status.idle": "2023-02-28T22:56:31.400244Z",
     "shell.execute_reply": "2023-02-28T22:56:31.399215Z",
     "shell.execute_reply.started": "2023-02-28T22:56:31.391775Z"
    },
    "tags": []
   },
   "outputs": [
    {
     "data": {
      "text/plain": [
       "{1: 231.0714285714286,\n",
       " 2: 28.478571428571424,\n",
       " 3: 75.85079365079366,\n",
       " 4: 6.288095238095237,\n",
       " 5: 0.3333333333333333,\n",
       " 6: 15.833333333333334,\n",
       " 7: 15.833333333333332,\n",
       " 8: 0.0,\n",
       " 9: 29.529365079365082,\n",
       " 10: 0.44761904761904764,\n",
       " 11: 0.3333333333333333,\n",
       " 12: 0.0,\n",
       " 13: 0.0,\n",
       " 14: 24.215873015873015,\n",
       " 15: 0.0,\n",
       " 16: 0.0,\n",
       " 17: 0.0,\n",
       " 18: 0.0,\n",
       " 19: 0.0,\n",
       " 20: 17.1468253968254,\n",
       " 21: 0.0,\n",
       " 22: 0.0,\n",
       " 23: 0.0,\n",
       " 24: 9.299999999999999,\n",
       " 25: 1.1666666666666665,\n",
       " 26: 2.0277777777777777,\n",
       " 27: 0.0,\n",
       " 28: 11.79206349206349,\n",
       " 29: 0.9476190476190476,\n",
       " 30: 1.5428571428571427,\n",
       " 31: 7.609523809523807,\n",
       " 32: 73.00952380952378,\n",
       " 33: 76.69047619047619,\n",
       " 34: 160.5515873015873}"
      ]
     },
     "execution_count": 40,
     "metadata": {},
     "output_type": "execute_result"
    }
   ],
   "source": [
    "nx.betweenness_centrality(karate, normalized = False, endpoints = False)"
   ]
  },
  {
   "cell_type": "code",
   "execution_count": 41,
   "id": "91b3a739-8905-4f2b-b9d3-bfd9bb60aee7",
   "metadata": {
    "execution": {
     "iopub.execute_input": "2023-02-28T22:56:31.832231Z",
     "iopub.status.busy": "2023-02-28T22:56:31.832231Z",
     "iopub.status.idle": "2023-02-28T22:56:31.839649Z",
     "shell.execute_reply": "2023-02-28T22:56:31.839649Z",
     "shell.execute_reply.started": "2023-02-28T22:56:31.832231Z"
    },
    "tags": []
   },
   "outputs": [
    {
     "data": {
      "text/plain": [
       "[(1, 231.0714285714286),\n",
       " (34, 160.5515873015873),\n",
       " (33, 76.69047619047619),\n",
       " (3, 75.85079365079366),\n",
       " (32, 73.00952380952378),\n",
       " (9, 29.529365079365082),\n",
       " (2, 28.478571428571424),\n",
       " (14, 24.215873015873015),\n",
       " (20, 17.1468253968254),\n",
       " (6, 15.833333333333334),\n",
       " (7, 15.833333333333332),\n",
       " (28, 11.79206349206349),\n",
       " (24, 9.299999999999999),\n",
       " (31, 7.609523809523807),\n",
       " (4, 6.288095238095237),\n",
       " (26, 2.0277777777777777),\n",
       " (30, 1.5428571428571427),\n",
       " (25, 1.1666666666666665),\n",
       " (29, 0.9476190476190476),\n",
       " (10, 0.44761904761904764),\n",
       " (5, 0.3333333333333333),\n",
       " (11, 0.3333333333333333),\n",
       " (8, 0.0),\n",
       " (12, 0.0),\n",
       " (13, 0.0),\n",
       " (15, 0.0),\n",
       " (16, 0.0),\n",
       " (17, 0.0),\n",
       " (18, 0.0),\n",
       " (19, 0.0),\n",
       " (21, 0.0),\n",
       " (22, 0.0),\n",
       " (23, 0.0),\n",
       " (27, 0.0)]"
      ]
     },
     "execution_count": 41,
     "metadata": {},
     "output_type": "execute_result"
    }
   ],
   "source": [
    "bckarate = nx.betweenness_centrality(karate, normalized = False, endpoints = False)\n",
    "sorted(bckarate.items(), reverse = True, key = lambda item: item[1])"
   ]
  },
  {
   "cell_type": "code",
   "execution_count": 42,
   "id": "f96be99b-d878-4967-801f-45b7c53f4411",
   "metadata": {
    "execution": {
     "iopub.execute_input": "2023-02-28T22:56:32.190783Z",
     "iopub.status.busy": "2023-02-28T22:56:32.190783Z",
     "iopub.status.idle": "2023-02-28T22:56:32.194333Z",
     "shell.execute_reply": "2023-02-28T22:56:32.194333Z",
     "shell.execute_reply.started": "2023-02-28T22:56:32.190783Z"
    },
    "tags": []
   },
   "outputs": [],
   "source": [
    "import operator"
   ]
  },
  {
   "cell_type": "code",
   "execution_count": 43,
   "id": "ecbcfbc7-fa96-46ec-8d70-1b150ac2a68d",
   "metadata": {
    "execution": {
     "iopub.execute_input": "2023-02-28T22:56:32.665256Z",
     "iopub.status.busy": "2023-02-28T22:56:32.665256Z",
     "iopub.status.idle": "2023-02-28T22:56:32.672606Z",
     "shell.execute_reply": "2023-02-28T22:56:32.672606Z",
     "shell.execute_reply.started": "2023-02-28T22:56:32.665256Z"
    },
    "tags": []
   },
   "outputs": [
    {
     "data": {
      "text/plain": [
       "[(1, 231.0714285714286),\n",
       " (34, 160.5515873015873),\n",
       " (33, 76.69047619047619),\n",
       " (3, 75.85079365079366),\n",
       " (32, 73.00952380952378),\n",
       " (9, 29.529365079365082),\n",
       " (2, 28.478571428571424),\n",
       " (14, 24.215873015873015),\n",
       " (20, 17.1468253968254),\n",
       " (6, 15.833333333333334),\n",
       " (7, 15.833333333333332),\n",
       " (28, 11.79206349206349),\n",
       " (24, 9.299999999999999),\n",
       " (31, 7.609523809523807),\n",
       " (4, 6.288095238095237),\n",
       " (26, 2.0277777777777777),\n",
       " (30, 1.5428571428571427),\n",
       " (25, 1.1666666666666665),\n",
       " (29, 0.9476190476190476),\n",
       " (10, 0.44761904761904764),\n",
       " (5, 0.3333333333333333),\n",
       " (11, 0.3333333333333333),\n",
       " (8, 0.0),\n",
       " (12, 0.0),\n",
       " (13, 0.0),\n",
       " (15, 0.0),\n",
       " (16, 0.0),\n",
       " (17, 0.0),\n",
       " (18, 0.0),\n",
       " (19, 0.0),\n",
       " (21, 0.0),\n",
       " (22, 0.0),\n",
       " (23, 0.0),\n",
       " (27, 0.0)]"
      ]
     },
     "execution_count": 43,
     "metadata": {},
     "output_type": "execute_result"
    }
   ],
   "source": [
    "sorted(nx.betweenness_centrality(karate, normalized = False, endpoints = False).items(), reverse = True, key = operator.itemgetter(1))"
   ]
  },
  {
   "cell_type": "code",
   "execution_count": 44,
   "id": "c4f563f8-cb63-4d3e-9f1e-0fdf1d5fec8d",
   "metadata": {
    "execution": {
     "iopub.execute_input": "2023-02-28T22:56:33.360349Z",
     "iopub.status.busy": "2023-02-28T22:56:33.359352Z",
     "iopub.status.idle": "2023-02-28T22:56:33.364508Z",
     "shell.execute_reply": "2023-02-28T22:56:33.364508Z",
     "shell.execute_reply.started": "2023-02-28T22:56:33.360349Z"
    },
    "tags": []
   },
   "outputs": [
    {
     "data": {
      "text/plain": [
       "NodeView((1, 2, 3, 4, 5, 6, 7, 8, 9, 10, 11, 12, 13, 14, 15, 16, 17, 18, 19, 20, 21, 22, 23, 24, 25, 26, 27, 28, 29, 30, 31, 32, 33, 34))"
      ]
     },
     "execution_count": 44,
     "metadata": {},
     "output_type": "execute_result"
    }
   ],
   "source": [
    "karate.nodes()"
   ]
  },
  {
   "cell_type": "code",
   "execution_count": 45,
   "id": "d8b3b70c-618c-4d5e-aeb6-087327d0e17c",
   "metadata": {
    "execution": {
     "iopub.execute_input": "2023-02-28T22:56:34.128257Z",
     "iopub.status.busy": "2023-02-28T22:56:34.127259Z",
     "iopub.status.idle": "2023-02-28T22:56:34.131935Z",
     "shell.execute_reply": "2023-02-28T22:56:34.131935Z",
     "shell.execute_reply.started": "2023-02-28T22:56:34.128257Z"
    },
    "tags": []
   },
   "outputs": [],
   "source": [
    "{tuple(sorted(pair)) for pair in itertools.permutations(karate.nodes(), r = 2)};"
   ]
  },
  {
   "cell_type": "code",
   "execution_count": 46,
   "id": "2da0791a-7937-4cfb-a51c-382af2b15a72",
   "metadata": {
    "execution": {
     "iopub.execute_input": "2023-02-28T22:56:34.655073Z",
     "iopub.status.busy": "2023-02-28T22:56:34.655073Z",
     "iopub.status.idle": "2023-02-28T22:56:35.199395Z",
     "shell.execute_reply": "2023-02-28T22:56:35.199395Z",
     "shell.execute_reply.started": "2023-02-28T22:56:34.655073Z"
    },
    "tags": []
   },
   "outputs": [],
   "source": [
    "occurrance_in_spaths = {node: 0 for node in karate.nodes()}\n",
    "knodes = karate.nodes()\n",
    "\n",
    "# Inclusive :(\n",
    "for (s, t) in {tuple(sorted(pair)) for pair in itertools.permutations(karate.nodes(), r = 2)}:\n",
    "    for node in knodes:\n",
    "        shortest_paths = nx.all_shortest_paths(karate, source = s, target = t)\n",
    "        if shortest_paths:\n",
    "            for spath in shortest_paths:\n",
    "                if node in spath:\n",
    "                    occurrance_in_spaths[node] += 1"
   ]
  },
  {
   "cell_type": "code",
   "execution_count": 47,
   "id": "d32e4f77-226e-437e-b564-4c534605a908",
   "metadata": {
    "execution": {
     "iopub.execute_input": "2023-02-28T22:56:35.448996Z",
     "iopub.status.busy": "2023-02-28T22:56:35.448996Z",
     "iopub.status.idle": "2023-02-28T22:56:35.453597Z",
     "shell.execute_reply": "2023-02-28T22:56:35.453597Z",
     "shell.execute_reply.started": "2023-02-28T22:56:35.448996Z"
    },
    "tags": []
   },
   "outputs": [
    {
     "data": {
      "text/plain": [
       "{1: 931,\n",
       " 2: 205,\n",
       " 3: 300,\n",
       " 4: 76,\n",
       " 5: 90,\n",
       " 6: 174,\n",
       " 7: 174,\n",
       " 8: 71,\n",
       " 9: 264,\n",
       " 10: 49,\n",
       " 11: 90,\n",
       " 12: 88,\n",
       " 13: 114,\n",
       " 14: 209,\n",
       " 15: 131,\n",
       " 16: 131,\n",
       " 17: 170,\n",
       " 18: 140,\n",
       " 19: 131,\n",
       " 20: 178,\n",
       " 21: 131,\n",
       " 22: 140,\n",
       " 23: 131,\n",
       " 24: 186,\n",
       " 25: 70,\n",
       " 26: 85,\n",
       " 27: 101,\n",
       " 28: 92,\n",
       " 29: 60,\n",
       " 30: 135,\n",
       " 31: 115,\n",
       " 32: 343,\n",
       " 33: 446,\n",
       " 34: 723}"
      ]
     },
     "execution_count": 47,
     "metadata": {},
     "output_type": "execute_result"
    }
   ],
   "source": [
    "occurrance_in_spaths"
   ]
  },
  {
   "cell_type": "markdown",
   "id": "545faa26-ae84-43b0-8b9e-fa0562e259d2",
   "metadata": {},
   "source": [
    "## ***Betweenness centrality can be really computationally intensive, particularly for large networks. $O(N^{3})$***"
   ]
  },
  {
   "cell_type": "code",
   "execution_count": 48,
   "id": "74161a65-b112-4cb4-982f-09289ddec2ee",
   "metadata": {
    "execution": {
     "iopub.execute_input": "2023-02-28T22:56:45.096073Z",
     "iopub.status.busy": "2023-02-28T22:56:45.096073Z",
     "iopub.status.idle": "2023-02-28T22:56:45.102416Z",
     "shell.execute_reply": "2023-02-28T22:56:45.102416Z",
     "shell.execute_reply.started": "2023-02-28T22:56:45.096073Z"
    },
    "tags": []
   },
   "outputs": [
    {
     "data": {
      "text/plain": [
       "{1: 203.66674603174602,\n",
       " 2: 48.17880952380952,\n",
       " 3: 63.76214285714286,\n",
       " 4: 3.919444444444444,\n",
       " 5: 0.0,\n",
       " 6: 34.0,\n",
       " 7: 34.0,\n",
       " 8: 0.0,\n",
       " 9: 29.284523809523805,\n",
       " 10: 0.5261904761904762,\n",
       " 11: 0.0,\n",
       " 12: 0.0,\n",
       " 13: 0.0,\n",
       " 14: 21.730317460317462,\n",
       " 15: 0.0,\n",
       " 16: 0.0,\n",
       " 17: 0.0,\n",
       " 18: 0.0,\n",
       " 19: 0.0,\n",
       " 20: 10.390238095238095,\n",
       " 21: 0.0,\n",
       " 22: 0.0,\n",
       " 23: 0.0,\n",
       " 24: 4.93,\n",
       " 25: 0.2833333333333333,\n",
       " 26: 4.599444444444445,\n",
       " 27: 0.0,\n",
       " 28: 27.027301587301586,\n",
       " 29: 1.3761904761904762,\n",
       " 30: 1.9428571428571426,\n",
       " 31: 6.549047619047618,\n",
       " 32: 78.63444444444443,\n",
       " 33: 78.08936507936508,\n",
       " 34: 137.6096031746032}"
      ]
     },
     "execution_count": 48,
     "metadata": {},
     "output_type": "execute_result"
    }
   ],
   "source": [
    "# So one can sample a subset of nodes to compute the betweenness centrality.\n",
    "# Sample size = 10\n",
    "\n",
    "nx.betweenness_centrality(karate, normalized = False, endpoints = False, k = 10)"
   ]
  },
  {
   "cell_type": "code",
   "execution_count": 49,
   "id": "850362fb-fbf0-4f54-9f11-8e17af8e5521",
   "metadata": {
    "execution": {
     "iopub.execute_input": "2023-02-28T22:56:45.623797Z",
     "iopub.status.busy": "2023-02-28T22:56:45.623797Z",
     "iopub.status.idle": "2023-02-28T22:56:45.630215Z",
     "shell.execute_reply": "2023-02-28T22:56:45.630215Z",
     "shell.execute_reply.started": "2023-02-28T22:56:45.623797Z"
    },
    "tags": []
   },
   "outputs": [
    {
     "data": {
      "text/plain": [
       "{1: 22.458333333333332,\n",
       " 2: 0.875,\n",
       " 3: 7.448809523809524,\n",
       " 4: 0.875,\n",
       " 5: 0.16666666666666666,\n",
       " 6: 1.6666666666666667,\n",
       " 7: 2.0,\n",
       " 8: 0.0,\n",
       " 9: 1.7142857142857142,\n",
       " 10: 0.0,\n",
       " 11: 0.0,\n",
       " 12: 0.0,\n",
       " 13: 0.0,\n",
       " 14: 1.9071428571428568,\n",
       " 15: 0.0,\n",
       " 16: 0.0,\n",
       " 17: 0.0,\n",
       " 18: 0.0,\n",
       " 19: 0.0,\n",
       " 20: 1.1571428571428573,\n",
       " 21: 0.0,\n",
       " 22: 0.0,\n",
       " 23: 0.0,\n",
       " 24: 0.0,\n",
       " 25: 0.0,\n",
       " 26: 0.0,\n",
       " 27: 0.0,\n",
       " 28: 0.0,\n",
       " 29: 0.0,\n",
       " 30: 0.0,\n",
       " 31: 0.6000000000000001,\n",
       " 32: 1.7142857142857142,\n",
       " 33: 7.671428571428571,\n",
       " 34: 6.245238095238095}"
      ]
     },
     "execution_count": 49,
     "metadata": {},
     "output_type": "execute_result"
    }
   ],
   "source": [
    "# In another way one can selectively look at the occorrances of a given node in between a select pairs of (subsets) nodes.\n",
    "# Here the sources will be 1 through 9 and targets will be 10 through 19\n",
    "\n",
    "nx.betweenness_centrality_subset(karate, sources = range(1, 10), targets = range(10, 20), normalized = False)"
   ]
  },
  {
   "cell_type": "markdown",
   "id": "d39d58ec-66d9-41d4-93f7-4294c81af96d",
   "metadata": {},
   "source": [
    "# ***Betweenness centrality of edges.***\n",
    "------------------"
   ]
  },
  {
   "cell_type": "code",
   "execution_count": 64,
   "id": "7670f02f-1050-4eb3-92ac-eeea538b383d",
   "metadata": {
    "execution": {
     "iopub.execute_input": "2023-02-28T23:08:41.322274Z",
     "iopub.status.busy": "2023-02-28T23:08:41.322274Z",
     "iopub.status.idle": "2023-02-28T23:08:41.325725Z",
     "shell.execute_reply": "2023-02-28T23:08:41.325725Z",
     "shell.execute_reply.started": "2023-02-28T23:08:41.322274Z"
    }
   },
   "outputs": [],
   "source": [
    "# Betweenness centrality of an edge is calculated very similarly to the betweenness centrality of a node\n",
    "# Number of shortest paths between s and t that involve the edge divided by the total number of shortest paths between s and t."
   ]
  },
  {
   "cell_type": "markdown",
   "id": "816eff55-e06f-46da-9652-9edb67f8c3f2",
   "metadata": {},
   "source": [
    "# ***$C_{btw}(e) = \\sum{_{s,t \\in N}{\\frac{\\sigma_{s, t}{(e)}}{\\sigma_{s, t}}}}$***"
   ]
  },
  {
   "cell_type": "code",
   "execution_count": 67,
   "id": "826801e1-7b9e-4a37-bd0e-3d1609af27c2",
   "metadata": {
    "execution": {
     "iopub.execute_input": "2023-02-28T23:12:18.925463Z",
     "iopub.status.busy": "2023-02-28T23:12:18.925463Z",
     "iopub.status.idle": "2023-02-28T23:12:18.937252Z",
     "shell.execute_reply": "2023-02-28T23:12:18.936247Z",
     "shell.execute_reply.started": "2023-02-28T23:12:18.925463Z"
    },
    "tags": []
   },
   "outputs": [
    {
     "data": {
      "text/plain": [
       "[((1, 32), 0.1272599949070537),\n",
       " ((1, 7), 0.07813428401663695),\n",
       " ((1, 6), 0.07813428401663694),\n",
       " ((1, 3), 0.0777876807288572),\n",
       " ((1, 9), 0.07423959482783014),\n",
       " ((3, 33), 0.06898678663384543),\n",
       " ((14, 34), 0.06782389723566191),\n",
       " ((20, 34), 0.05938233879410351),\n",
       " ((1, 12), 0.058823529411764705),\n",
       " ((27, 34), 0.0542908072319837),\n",
       " ((32, 34), 0.05339388280564752),\n",
       " ((1, 5), 0.0522875816993464),\n",
       " ((1, 11), 0.0522875816993464),\n",
       " ((1, 13), 0.04652406417112298),\n",
       " ((1, 20), 0.045936960642843),\n",
       " ((1, 14), 0.04237189825425121),\n",
       " ((26, 32), 0.04205783323430383),\n",
       " ((32, 33), 0.04143394731630026),\n",
       " ((3, 28), 0.04119203236850296),\n",
       " ((9, 34), 0.04043657867187279),\n",
       " ((1, 18), 0.04012392835922248),\n",
       " ((1, 22), 0.040123928359222474),\n",
       " ((25, 32), 0.040106951871657755),\n",
       " ((15, 34), 0.03473955238661121),\n",
       " ((16, 34), 0.03473955238661121),\n",
       " ((19, 34), 0.03473955238661121),\n",
       " ((21, 34), 0.03473955238661121),\n",
       " ((23, 34), 0.03473955238661121),\n",
       " ((24, 34), 0.03266983561101209),\n",
       " ((2, 31), 0.032280791104320514),\n",
       " ((3, 10), 0.030803836686189627),\n",
       " ((28, 34), 0.030477039300568713),\n",
       " ((9, 33), 0.0304416716181422),\n",
       " ((30, 34), 0.029807882749059215),\n",
       " ((10, 34), 0.029615482556659026),\n",
       " ((6, 17), 0.029411764705882353),\n",
       " ((7, 17), 0.029411764705882353),\n",
       " ((31, 34), 0.02681436210847975),\n",
       " ((1, 2), 0.025252525252525245),\n",
       " ((3, 8), 0.025214328155504617),\n",
       " ((29, 34), 0.024564977506153975),\n",
       " ((15, 33), 0.024083977025153497),\n",
       " ((16, 33), 0.024083977025153497),\n",
       " ((19, 33), 0.024083977025153497),\n",
       " ((21, 33), 0.024083977025153497),\n",
       " ((23, 33), 0.024083977025153493),\n",
       " ((30, 33), 0.023328523328523323),\n",
       " ((2, 3), 0.023232323232323233),\n",
       " ((1, 8), 0.0228206434088787),\n",
       " ((3, 29), 0.02278244631185807),\n",
       " ((3, 4), 0.022430184194890075),\n",
       " ((24, 33), 0.022341057635175278),\n",
       " ((1, 4), 0.02049910873440285),\n",
       " ((24, 26), 0.019776193305605066),\n",
       " ((2, 18), 0.01869960105254222),\n",
       " ((2, 22), 0.01869960105254222),\n",
       " ((25, 28), 0.018657159833630418),\n",
       " ((31, 33), 0.01705288175876411),\n",
       " ((4, 14), 0.01492233256939139),\n",
       " ((29, 32), 0.0148544266191325),\n",
       " ((2, 20), 0.014633732280791102),\n",
       " ((2, 14), 0.01240556828792123),\n",
       " ((4, 13), 0.012299465240641705),\n",
       " ((24, 28), 0.010536739948504653),\n",
       " ((9, 31), 0.00980392156862745),\n",
       " ((3, 9), 0.009175791528732704),\n",
       " ((33, 34), 0.008225108225108224),\n",
       " ((2, 4), 0.0077243018419489),\n",
       " ((3, 14), 0.007630931160342923),\n",
       " ((2, 8), 0.007422969187675069),\n",
       " ((24, 30), 0.00665478312537136),\n",
       " ((5, 7), 0.0047534165181224),\n",
       " ((6, 11), 0.0047534165181224),\n",
       " ((27, 30), 0.004532722179781003),\n",
       " ((25, 26), 0.0042186571598336305),\n",
       " ((4, 8), 0.003365588659706307),\n",
       " ((6, 7), 0.0029708853238265003),\n",
       " ((5, 11), 0.0029708853238265)]"
      ]
     },
     "execution_count": 67,
     "metadata": {},
     "output_type": "execute_result"
    }
   ],
   "source": [
    "sorted(nx.edge_betweenness_centrality(karate, normalized = True).items(), reverse = True, key = lambda items: items[1])"
   ]
  },
  {
   "cell_type": "code",
   "execution_count": 68,
   "id": "90b60bfc-eb08-4dae-9f38-0f9092af59bc",
   "metadata": {
    "execution": {
     "iopub.execute_input": "2023-02-28T23:14:17.700535Z",
     "iopub.status.busy": "2023-02-28T23:14:17.700535Z",
     "iopub.status.idle": "2023-02-28T23:14:17.706654Z",
     "shell.execute_reply": "2023-02-28T23:14:17.706654Z",
     "shell.execute_reply.started": "2023-02-28T23:14:17.700535Z"
    },
    "tags": []
   },
   "outputs": [
    {
     "data": {
      "text/plain": [
       "{1: 0.014835858585858586,\n",
       " 2: 0.004103535353535353,\n",
       " 3: 0.005781024531024532,\n",
       " 4: 0.0,\n",
       " 5: 0.0,\n",
       " 6: 0.0,\n",
       " 7: 0.0,\n",
       " 8: 0.0,\n",
       " 9: 0.004554473304473304,\n",
       " 10: 0.0,\n",
       " 11: 0.0,\n",
       " 12: 0.0,\n",
       " 13: 0.0,\n",
       " 14: 0.001204004329004329,\n",
       " 15: 0.0,\n",
       " 16: 0.0,\n",
       " 17: 0.0,\n",
       " 18: 0.0,\n",
       " 19: 0.0,\n",
       " 20: 0.0007305194805194804,\n",
       " 21: 0.0,\n",
       " 22: 0.0,\n",
       " 23: 0.0,\n",
       " 24: 0.0,\n",
       " 25: 0.0,\n",
       " 26: 0.0,\n",
       " 27: 0.0,\n",
       " 28: 0.0,\n",
       " 29: 0.00031565656565656563,\n",
       " 30: 0.0,\n",
       " 31: 0.0008522727272727273,\n",
       " 32: 0.002344877344877345,\n",
       " 33: 0.00579004329004329,\n",
       " 34: 0.0039953102453102445}"
      ]
     },
     "execution_count": 68,
     "metadata": {},
     "output_type": "execute_result"
    }
   ],
   "source": [
    "nx.betweenness_centrality_subset(karate, sources = range(1, 10), targets = range(30, 34), normalized = True)"
   ]
  },
  {
   "cell_type": "code",
   "execution_count": null,
   "id": "c5b835df-62fe-41ce-bde0-a067e99cb3a3",
   "metadata": {},
   "outputs": [],
   "source": []
  }
 ],
 "metadata": {
  "kernelspec": {
   "display_name": "Python 3 (ipykernel)",
   "language": "python",
   "name": "python3"
  },
  "language_info": {
   "codemirror_mode": {
    "name": "ipython",
    "version": 3
   },
   "file_extension": ".py",
   "mimetype": "text/x-python",
   "name": "python",
   "nbconvert_exporter": "python",
   "pygments_lexer": "ipython3",
   "version": "3.11.2"
  }
 },
 "nbformat": 4,
 "nbformat_minor": 5
}
