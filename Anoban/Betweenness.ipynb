{
 "cells": [
  {
   "cell_type": "code",
   "execution_count": 21,
   "id": "01f11fb0-d24d-44eb-a05d-9fe530b9789c",
   "metadata": {
    "execution": {
     "iopub.execute_input": "2023-02-28T12:30:13.115346Z",
     "iopub.status.busy": "2023-02-28T12:30:13.114346Z",
     "iopub.status.idle": "2023-02-28T12:30:13.118624Z",
     "shell.execute_reply": "2023-02-28T12:30:13.118624Z",
     "shell.execute_reply.started": "2023-02-28T12:30:13.115346Z"
    },
    "tags": []
   },
   "outputs": [],
   "source": [
    "import networkx as nx\n",
    "import numpy as np\n",
    "import matplotlib.pyplot as plt\n",
    "import itertools"
   ]
  },
  {
   "cell_type": "markdown",
   "id": "8a4d132b-1be5-4512-be86-635decba8353",
   "metadata": {},
   "source": [
    "# ***Betweenness Centrality***\n",
    "--------------------"
   ]
  },
  {
   "cell_type": "code",
   "execution_count": 4,
   "id": "ac633c1e-c6d4-4891-9f29-0dfb94deb9ed",
   "metadata": {
    "execution": {
     "iopub.execute_input": "2023-02-28T12:12:18.375826Z",
     "iopub.status.busy": "2023-02-28T12:12:18.375826Z",
     "iopub.status.idle": "2023-02-28T12:12:18.381461Z",
     "shell.execute_reply": "2023-02-28T12:12:18.380448Z",
     "shell.execute_reply.started": "2023-02-28T12:12:18.375826Z"
    },
    "tags": []
   },
   "outputs": [],
   "source": [
    "# This assumes that importance of nodes depends on them connecting other nodes.\n",
    "# Distance between 2 nodes is the shortest path between them.\n",
    "\n",
    "karate = nx.karate_club_graph()\n",
    "karate = nx.convert_node_labels_to_integers(karate, first_label = 1)"
   ]
  },
  {
   "cell_type": "code",
   "execution_count": 11,
   "id": "e874d649-eac4-4fa2-a1e7-b95d9963b4c5",
   "metadata": {
    "execution": {
     "iopub.execute_input": "2023-02-28T12:13:23.145797Z",
     "iopub.status.busy": "2023-02-28T12:13:23.144796Z",
     "iopub.status.idle": "2023-02-28T12:13:23.151361Z",
     "shell.execute_reply": "2023-02-28T12:13:23.150352Z",
     "shell.execute_reply.started": "2023-02-28T12:13:23.145797Z"
    },
    "tags": []
   },
   "outputs": [
    {
     "data": {
      "text/plain": [
       "[[34, 14, 2], [34, 20, 2], [34, 31, 2]]"
      ]
     },
     "execution_count": 11,
     "metadata": {},
     "output_type": "execute_result"
    }
   ],
   "source": [
    "list(nx.all_shortest_paths(karate, source = 34, target = 2))"
   ]
  },
  {
   "cell_type": "code",
   "execution_count": 12,
   "id": "abaf93a4-2daf-4f7c-a97c-0d01bf2fc7d9",
   "metadata": {
    "execution": {
     "iopub.execute_input": "2023-02-28T12:14:30.534640Z",
     "iopub.status.busy": "2023-02-28T12:14:30.534640Z",
     "iopub.status.idle": "2023-02-28T12:14:30.537457Z",
     "shell.execute_reply": "2023-02-28T12:14:30.537457Z",
     "shell.execute_reply.started": "2023-02-28T12:14:30.534640Z"
    },
    "tags": []
   },
   "outputs": [],
   "source": [
    "# Note that nodes 14, 20 and 31 are in the shortest paths between nodes 34 and 2."
   ]
  },
  {
   "cell_type": "markdown",
   "id": "b3065abf-721c-415a-b586-1eef1409a07f",
   "metadata": {},
   "source": [
    "## ***Betweenness centrality***\n",
    "# ***$C_{btw}(v) = \\sum{_{s,t \\in N}{\\frac{\\sigma_{s,t}{(v)}}{\\sigma_{s,t}}}}$***"
   ]
  },
  {
   "cell_type": "code",
   "execution_count": 16,
   "id": "82027903-0db6-4941-85a7-a3d4fa40c20a",
   "metadata": {
    "execution": {
     "iopub.execute_input": "2023-02-28T12:24:49.575295Z",
     "iopub.status.busy": "2023-02-28T12:24:49.575295Z",
     "iopub.status.idle": "2023-02-28T12:24:49.578631Z",
     "shell.execute_reply": "2023-02-28T12:24:49.578631Z",
     "shell.execute_reply.started": "2023-02-28T12:24:49.575295Z"
    },
    "tags": []
   },
   "outputs": [],
   "source": [
    "# Take two different nodes - s and t\n",
    "# Find all the shortest paths between s and t -> sigma s,t\n",
    "# Find all the shortest paths between s and t that contain node v -> sigma s,t (v)\n",
    "# Betweenness centrality is the sum of this for all possible pairs of s and t in the network."
   ]
  },
  {
   "cell_type": "code",
   "execution_count": 15,
   "id": "d0adc4cf-11b7-44e8-9edc-f13c26722e88",
   "metadata": {
    "execution": {
     "iopub.execute_input": "2023-02-28T12:23:19.761885Z",
     "iopub.status.busy": "2023-02-28T12:23:19.761885Z",
     "iopub.status.idle": "2023-02-28T12:23:19.884085Z",
     "shell.execute_reply": "2023-02-28T12:23:19.884085Z",
     "shell.execute_reply.started": "2023-02-28T12:23:19.761885Z"
    },
    "tags": []
   },
   "outputs": [
    {
     "data": {
      "image/png": "[encoded data removed]",
      "text/plain": [
       "<Figure size 640x480 with 1 Axes>"
      ]
     },
     "metadata": {},
     "output_type": "display_data"
    }
   ],
   "source": [
    "graph = nx.Graph()\n",
    "graph.add_edges_from([(\"A\", \"B\"), (\"B\", \"C\"), (\"B\", \"D\"), (\"C\", \"D\")])\n",
    "nx.draw_networkx(graph, node_color = \"orange\")"
   ]
  },
  {
   "cell_type": "markdown",
   "id": "a66e6ffb-a3b8-4820-9519-47a2c901eb0a",
   "metadata": {},
   "source": [
    "# $C_{btw}(B) = \\frac{\\sigma_{A, C}{(B)}}{\\sigma_{A, C}} + \\frac{\\sigma_{A, D}{(B)}}{\\sigma_{A, D}} + \\frac{\\sigma_{C, D}{(B)}}{\\sigma_{C, D}}$"
   ]
  },
  {
   "cell_type": "code",
   "execution_count": 19,
   "id": "f7d2a0c5-4d60-4e35-9d63-2f5c306d5313",
   "metadata": {
    "execution": {
     "iopub.execute_input": "2023-02-28T12:29:01.241477Z",
     "iopub.status.busy": "2023-02-28T12:29:01.241477Z",
     "iopub.status.idle": "2023-02-28T12:29:01.247506Z",
     "shell.execute_reply": "2023-02-28T12:29:01.246462Z",
     "shell.execute_reply.started": "2023-02-28T12:29:01.241477Z"
    },
    "tags": []
   },
   "outputs": [
    {
     "data": {
      "text/plain": [
       "2.0"
      ]
     },
     "execution_count": 19,
     "metadata": {},
     "output_type": "execute_result"
    }
   ],
   "source": [
    "# This equation excludes the node B.\n",
    "\n",
    "(1 / 1) + (1 / 1) + (0 / 1)"
   ]
  },
  {
   "cell_type": "code",
   "execution_count": 20,
   "id": "bec7f33f-2140-4350-b4e4-033241548b18",
   "metadata": {
    "execution": {
     "iopub.execute_input": "2023-02-28T12:29:02.255228Z",
     "iopub.status.busy": "2023-02-28T12:29:02.255228Z",
     "iopub.status.idle": "2023-02-28T12:29:02.259061Z",
     "shell.execute_reply": "2023-02-28T12:29:02.258054Z",
     "shell.execute_reply.started": "2023-02-28T12:29:02.255228Z"
    },
    "tags": []
   },
   "outputs": [],
   "source": [
    "# If we include node B;"
   ]
  },
  {
   "cell_type": "code",
   "execution_count": 47,
   "id": "5c4140b5-cd62-4a0f-a374-8ecc810f3bee",
   "metadata": {
    "execution": {
     "iopub.execute_input": "2023-02-28T12:39:15.237361Z",
     "iopub.status.busy": "2023-02-28T12:39:15.236360Z",
     "iopub.status.idle": "2023-02-28T12:39:15.241870Z",
     "shell.execute_reply": "2023-02-28T12:39:15.241870Z",
     "shell.execute_reply.started": "2023-02-28T12:39:15.237361Z"
    },
    "tags": []
   },
   "outputs": [
    {
     "data": {
      "text/plain": [
       "{('A', 'B'), ('A', 'C'), ('A', 'D'), ('B', 'C'), ('B', 'D'), ('C', 'D')}"
      ]
     },
     "execution_count": 47,
     "metadata": {},
     "output_type": "execute_result"
    }
   ],
   "source": [
    "{tuple(sorted(pair)) for pair in itertools.permutations([\"A\", \"B\", \"C\", \"D\"], r = 2)}"
   ]
  },
  {
   "cell_type": "code",
   "execution_count": 52,
   "id": "61b5240a-f659-4571-ac5c-3873ad334b40",
   "metadata": {
    "execution": {
     "iopub.execute_input": "2023-02-28T12:43:53.150439Z",
     "iopub.status.busy": "2023-02-28T12:43:53.149523Z",
     "iopub.status.idle": "2023-02-28T12:43:53.155396Z",
     "shell.execute_reply": "2023-02-28T12:43:53.155396Z",
     "shell.execute_reply.started": "2023-02-28T12:43:53.150439Z"
    },
    "tags": []
   },
   "outputs": [
    {
     "name": "stdout",
     "output_type": "stream",
     "text": [
      "\\frac{\\sigma_{B, D}{(B)}}{\\sigma_{B, D}} +\n",
      "\\frac{\\sigma_{A, B}{(B)}}{\\sigma_{A, B}} +\n",
      "\\frac{\\sigma_{A, D}{(B)}}{\\sigma_{A, D}} +\n",
      "\\frac{\\sigma_{B, C}{(B)}}{\\sigma_{B, C}} +\n",
      "\\frac{\\sigma_{A, C}{(B)}}{\\sigma_{A, C}} +\n",
      "\\frac{\\sigma_{C, D}{(B)}}{\\sigma_{C, D}} +\n"
     ]
    }
   ],
   "source": [
    "template = r\"\\frac{\\sigma_{%s, %s}{(B)}}{\\sigma_{%s, %s}} +\"\n",
    "\n",
    "for (node_1, node_2) in {tuple(sorted(pair)) for pair in itertools.permutations([\"A\", \"B\", \"C\", \"D\"], r = 2)}:\n",
    "    print(template % (node_1, node_2, node_1, node_2))"
   ]
  },
  {
   "cell_type": "markdown",
   "id": "03e1d65b-c51a-4884-b9a7-f23ae4ed40f8",
   "metadata": {},
   "source": [
    "# $C_{btw}(B) = \\frac{\\sigma_{B, D}{(B)}}{\\sigma_{B, D}} +\n",
    "\\frac{\\sigma_{A, B}{(B)}}{\\sigma_{A, B}} +\n",
    "\\frac{\\sigma_{A, D}{(B)}}{\\sigma_{A, D}} +\n",
    "\\frac{\\sigma_{B, C}{(B)}}{\\sigma_{B, C}} +\n",
    "\\frac{\\sigma_{A, C}{(B)}}{\\sigma_{A, C}} +\n",
    "\\frac{\\sigma_{C, D}{(B)}}{\\sigma_{C, D}}$"
   ]
  },
  {
   "cell_type": "code",
   "execution_count": 58,
   "id": "15a361fe-23ad-40fa-b5d2-96e08631fe0c",
   "metadata": {
    "execution": {
     "iopub.execute_input": "2023-02-28T12:45:01.025297Z",
     "iopub.status.busy": "2023-02-28T12:45:01.024302Z",
     "iopub.status.idle": "2023-02-28T12:45:01.143334Z",
     "shell.execute_reply": "2023-02-28T12:45:01.143334Z",
     "shell.execute_reply.started": "2023-02-28T12:45:01.025297Z"
    },
    "tags": []
   },
   "outputs": [
    {
     "data": {
      "image/png": "[encoded data removed]",
      "text/plain": [
       "<Figure size 640x480 with 1 Axes>"
      ]
     },
     "metadata": {},
     "output_type": "display_data"
    }
   ],
   "source": [
    "graph = nx.Graph()\n",
    "graph.add_edges_from([(\"A\", \"B\"), (\"B\", \"C\"), (\"B\", \"D\"), (\"C\", \"D\")])\n",
    "nx.draw_networkx(graph, node_color = \"orange\")"
   ]
  },
  {
   "cell_type": "code",
   "execution_count": 60,
   "id": "cb17b56c-d4b3-4762-952f-bb84b84785fc",
   "metadata": {
    "execution": {
     "iopub.execute_input": "2023-02-28T12:47:09.011175Z",
     "iopub.status.busy": "2023-02-28T12:47:09.011175Z",
     "iopub.status.idle": "2023-02-28T12:47:09.015908Z",
     "shell.execute_reply": "2023-02-28T12:47:09.015908Z",
     "shell.execute_reply.started": "2023-02-28T12:47:09.011175Z"
    },
    "tags": []
   },
   "outputs": [
    {
     "data": {
      "text/plain": [
       "5.0"
      ]
     },
     "execution_count": 60,
     "metadata": {},
     "output_type": "execute_result"
    }
   ],
   "source": [
    "(1 / 1) + (1 / 1) + (1 / 1) + (1 / 1) + (1 / 1) + (0 / 1)"
   ]
  },
  {
   "cell_type": "code",
   "execution_count": null,
   "id": "1a4b6557-b889-4912-8930-fdde34d133f9",
   "metadata": {},
   "outputs": [],
   "source": []
  }
 ],
 "metadata": {
  "kernelspec": {
   "display_name": "Python 3 (ipykernel)",
   "language": "python",
   "name": "python3"
  },
  "language_info": {
   "codemirror_mode": {
    "name": "ipython",
    "version": 3
   },
   "file_extension": ".py",
   "mimetype": "text/x-python",
   "name": "python",
   "nbconvert_exporter": "python",
   "pygments_lexer": "ipython3",
   "version": "3.11.2"
  }
 },
 "nbformat": 4,
 "nbformat_minor": 5
}
