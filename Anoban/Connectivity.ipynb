{
 "cells": [
  {
   "cell_type": "code",
   "execution_count": 2,
   "id": "2a5be37c-ea3f-44b0-8a64-6531e9438744",
   "metadata": {
    "execution": {
     "iopub.execute_input": "2023-02-21T23:28:33.531598Z",
     "iopub.status.busy": "2023-02-21T23:28:33.530597Z",
     "iopub.status.idle": "2023-02-21T23:28:33.534756Z",
     "shell.execute_reply": "2023-02-21T23:28:33.534756Z",
     "shell.execute_reply.started": "2023-02-21T23:28:33.531598Z"
    },
    "tags": []
   },
   "outputs": [],
   "source": [
    "import networkx as nx\n",
    "import matplotlib.pyplot as plt\n",
    "import itertools"
   ]
  },
  {
   "cell_type": "markdown",
   "id": "8b4ccd03-4317-4dd9-82cb-18bde384abad",
   "metadata": {},
   "source": [
    "## ***In an undirected graph, if it is connected, there will be a path between every pair of node***"
   ]
  },
  {
   "cell_type": "markdown",
   "id": "1bf01b2a-cf01-4e2b-b7f4-f9f23086724d",
   "metadata": {},
   "source": [
    "### ***A connected component is a subset of nodes where every node in the subset has a path to every other node in the subset and no other node outside this subset has a path to any node in the subset. (a secular subset of nodes)***"
   ]
  },
  {
   "cell_type": "code",
   "execution_count": 31,
   "id": "20af0f42-40b5-4041-87da-8b6ea088d342",
   "metadata": {
    "execution": {
     "iopub.execute_input": "2023-02-21T23:48:09.556634Z",
     "iopub.status.busy": "2023-02-21T23:48:09.555630Z",
     "iopub.status.idle": "2023-02-21T23:48:09.570405Z",
     "shell.execute_reply": "2023-02-21T23:48:09.568386Z",
     "shell.execute_reply.started": "2023-02-21T23:48:09.556634Z"
    },
    "tags": []
   },
   "outputs": [],
   "source": [
    "def generate_unique_pairs(container: list[str], ignore: list[tuple] = None) -> list[str]:\n",
    "    if ignore == None:\n",
    "        ignore = list()\n",
    "    upairs = list()\n",
    "    for (a, b) in itertools.permutations(container, 2):\n",
    "        if ((b, a) not in upairs) & ((a, b) not in ignore) & ((b, a) not in ignore):\n",
    "            upairs.append((a, b))\n",
    "    return upairs"
   ]
  },
  {
   "cell_type": "code",
   "execution_count": 32,
   "id": "1d396aa1-7dbc-43cd-b2f8-7cae3fe47aeb",
   "metadata": {
    "execution": {
     "iopub.execute_input": "2023-02-21T23:48:09.945600Z",
     "iopub.status.busy": "2023-02-21T23:48:09.944601Z",
     "iopub.status.idle": "2023-02-21T23:48:09.961341Z",
     "shell.execute_reply": "2023-02-21T23:48:09.959321Z",
     "shell.execute_reply.started": "2023-02-21T23:48:09.945600Z"
    },
    "tags": []
   },
   "outputs": [
    {
     "data": {
      "text/plain": [
       "[('A', 'B'),\n",
       " ('A', 'C'),\n",
       " ('A', 'E'),\n",
       " ('B', 'C'),\n",
       " ('B', 'D'),\n",
       " ('B', 'E'),\n",
       " ('C', 'D'),\n",
       " ('C', 'E'),\n",
       " ('D', 'E')]"
      ]
     },
     "execution_count": 32,
     "metadata": {},
     "output_type": "execute_result"
    }
   ],
   "source": [
    "generate_unique_pairs([\"A\", \"B\", \"C\", \"D\", \"E\"], [(\"A\", \"D\")])"
   ]
  },
  {
   "cell_type": "code",
   "execution_count": 33,
   "id": "933b71df-fc3f-4941-b4b0-f05495633603",
   "metadata": {
    "execution": {
     "iopub.execute_input": "2023-02-21T23:49:35.573008Z",
     "iopub.status.busy": "2023-02-21T23:49:35.572062Z",
     "iopub.status.idle": "2023-02-21T23:49:35.581203Z",
     "shell.execute_reply": "2023-02-21T23:49:35.580099Z",
     "shell.execute_reply.started": "2023-02-21T23:49:35.573008Z"
    },
    "tags": []
   },
   "outputs": [
    {
     "data": {
      "text/plain": [
       "[('F', 'G'),\n",
       " ('F', 'I'),\n",
       " ('G', 'H'),\n",
       " ('G', 'I'),\n",
       " ('G', 'J'),\n",
       " ('H', 'I'),\n",
       " ('H', 'J'),\n",
       " ('I', 'J')]"
      ]
     },
     "execution_count": 33,
     "metadata": {},
     "output_type": "execute_result"
    }
   ],
   "source": [
    "generate_unique_pairs([\"F\", \"G\", \"H\", \"I\", \"J\"], [(\"H\", \"F\"), (\"J\", \"F\")])"
   ]
  },
  {
   "cell_type": "code",
   "execution_count": 34,
   "id": "ce0db8d2-9a3c-4476-986f-d73789c5ba21",
   "metadata": {
    "execution": {
     "iopub.execute_input": "2023-02-21T23:51:06.411820Z",
     "iopub.status.busy": "2023-02-21T23:51:06.410922Z",
     "iopub.status.idle": "2023-02-21T23:51:06.420184Z",
     "shell.execute_reply": "2023-02-21T23:51:06.419173Z",
     "shell.execute_reply.started": "2023-02-21T23:51:06.411820Z"
    },
    "tags": []
   },
   "outputs": [
    {
     "data": {
      "text/plain": [
       "[('K', 'L'),\n",
       " ('K', 'M'),\n",
       " ('K', 'O'),\n",
       " ('L', 'M'),\n",
       " ('L', 'N'),\n",
       " ('L', 'O'),\n",
       " ('M', 'O'),\n",
       " ('N', 'O')]"
      ]
     },
     "execution_count": 34,
     "metadata": {},
     "output_type": "execute_result"
    }
   ],
   "source": [
    "generate_unique_pairs([\"K\", \"L\", \"M\", \"N\", \"O\"], [(\"M\", \"N\"), (\"N\", \"K\")])"
   ]
  },
  {
   "cell_type": "code",
   "execution_count": 36,
   "id": "fa1fdfaf-0e52-4c7f-9f73-96a368089fb3",
   "metadata": {
    "execution": {
     "iopub.execute_input": "2023-02-21T23:51:59.166281Z",
     "iopub.status.busy": "2023-02-21T23:51:59.166281Z",
     "iopub.status.idle": "2023-02-21T23:51:59.173010Z",
     "shell.execute_reply": "2023-02-21T23:51:59.171996Z",
     "shell.execute_reply.started": "2023-02-21T23:51:59.166281Z"
    },
    "tags": []
   },
   "outputs": [],
   "source": [
    "edges = generate_unique_pairs([\"A\", \"B\", \"C\", \"D\", \"E\"], [(\"A\", \"D\")]) + \\\n",
    "        generate_unique_pairs([\"F\", \"G\", \"H\", \"I\", \"J\"], [(\"H\", \"F\"), (\"J\", \"F\")]) + \\\n",
    "        generate_unique_pairs([\"K\", \"L\", \"M\", \"N\", \"O\"], [(\"M\", \"N\"), (\"N\", \"K\")])"
   ]
  },
  {
   "cell_type": "code",
   "execution_count": 86,
   "id": "1c550e34-9d1a-429c-a819-a83111770e29",
   "metadata": {
    "execution": {
     "iopub.execute_input": "2023-02-21T23:56:47.239767Z",
     "iopub.status.busy": "2023-02-21T23:56:47.238764Z",
     "iopub.status.idle": "2023-02-21T23:56:47.391988Z",
     "shell.execute_reply": "2023-02-21T23:56:47.390919Z",
     "shell.execute_reply.started": "2023-02-21T23:56:47.239767Z"
    },
    "tags": []
   },
   "outputs": [
    {
     "data": {
      "image/png": "[encoded data removed]",
      "text/plain": [
       "<Figure size 640x480 with 1 Axes>"
      ]
     },
     "metadata": {},
     "output_type": "display_data"
    }
   ],
   "source": [
    "graph = nx.Graph()\n",
    "graph.add_edges_from(edges)\n",
    "pos = nx.kamada_kawai_layout(graph, scale = 10)\n",
    "nx.draw_networkx(graph, node_color = \"#FFFF57\", pos = pos)"
   ]
  },
  {
   "cell_type": "code",
   "execution_count": 87,
   "id": "f8d3e6f0-2065-4cef-82e5-b20a496b1c39",
   "metadata": {
    "execution": {
     "iopub.execute_input": "2023-02-21T23:59:33.702168Z",
     "iopub.status.busy": "2023-02-21T23:59:33.701168Z",
     "iopub.status.idle": "2023-02-21T23:59:33.707525Z",
     "shell.execute_reply": "2023-02-21T23:59:33.706518Z",
     "shell.execute_reply.started": "2023-02-21T23:59:33.702168Z"
    },
    "tags": []
   },
   "outputs": [],
   "source": [
    "# is {A, E, F , G} a connected component? No.A and E cannot reach F or G\n",
    "# {N, O, K} a connected componeent? No. N, O & K can reach one another but they can also be accessed by other nodes!"
   ]
  },
  {
   "cell_type": "code",
   "execution_count": 88,
   "id": "1b1a93d4-2648-4b2b-b00d-ac35bf84da61",
   "metadata": {
    "execution": {
     "iopub.execute_input": "2023-02-22T00:01:19.629348Z",
     "iopub.status.busy": "2023-02-22T00:01:19.629348Z",
     "iopub.status.idle": "2023-02-22T00:01:19.636962Z",
     "shell.execute_reply": "2023-02-22T00:01:19.635955Z",
     "shell.execute_reply.started": "2023-02-22T00:01:19.629348Z"
    },
    "tags": []
   },
   "outputs": [
    {
     "data": {
      "text/plain": [
       "3"
      ]
     },
     "execution_count": 88,
     "metadata": {},
     "output_type": "execute_result"
    }
   ],
   "source": [
    "# number of connected components\n",
    "\n",
    "nx.number_connected_components(graph)"
   ]
  },
  {
   "cell_type": "code",
   "execution_count": 91,
   "id": "e7abd329-1e45-4a10-a36e-cca261cc4a80",
   "metadata": {
    "execution": {
     "iopub.execute_input": "2023-02-22T00:03:02.821016Z",
     "iopub.status.busy": "2023-02-22T00:03:02.821016Z",
     "iopub.status.idle": "2023-02-22T00:03:02.829739Z",
     "shell.execute_reply": "2023-02-22T00:03:02.828730Z",
     "shell.execute_reply.started": "2023-02-22T00:03:02.821016Z"
    },
    "tags": []
   },
   "outputs": [
    {
     "data": {
      "text/plain": [
       "[{'A', 'B', 'C', 'D', 'E'},\n",
       " {'F', 'G', 'H', 'I', 'J'},\n",
       " {'K', 'L', 'M', 'N', 'O'}]"
      ]
     },
     "execution_count": 91,
     "metadata": {},
     "output_type": "execute_result"
    }
   ],
   "source": [
    "# connected components in a network\n",
    "\n",
    "list(nx.connected_components(graph))"
   ]
  },
  {
   "cell_type": "code",
   "execution_count": 94,
   "id": "5a5299b0-a586-4a16-b7cf-4d82e92ce350",
   "metadata": {
    "execution": {
     "iopub.execute_input": "2023-02-22T00:04:07.844379Z",
     "iopub.status.busy": "2023-02-22T00:04:07.842460Z",
     "iopub.status.idle": "2023-02-22T00:04:07.851184Z",
     "shell.execute_reply": "2023-02-22T00:04:07.850175Z",
     "shell.execute_reply.started": "2023-02-22T00:04:07.843386Z"
    },
    "tags": []
   },
   "outputs": [
    {
     "data": {
      "text/plain": [
       "{'A', 'B', 'C', 'D', 'E'}"
      ]
     },
     "execution_count": 94,
     "metadata": {},
     "output_type": "execute_result"
    }
   ],
   "source": [
    "# to learn which connecetd component a node belongs to\n",
    "\n",
    "nx.node_connected_component(graph, \"A\")"
   ]
  }
 ],
 "metadata": {
  "kernelspec": {
   "display_name": "Python 3 (ipykernel)",
   "language": "python",
   "name": "python3"
  },
  "language_info": {
   "codemirror_mode": {
    "name": "ipython",
    "version": 3
   },
   "file_extension": ".py",
   "mimetype": "text/x-python",
   "name": "python",
   "nbconvert_exporter": "python",
   "pygments_lexer": "ipython3",
   "version": "3.11.2"
  }
 },
 "nbformat": 4,
 "nbformat_minor": 5
}
