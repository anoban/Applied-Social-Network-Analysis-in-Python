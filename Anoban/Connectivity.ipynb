{
 "cells": [
  {
   "cell_type": "code",
   "execution_count": 2,
   "id": "2a5be37c-ea3f-44b0-8a64-6531e9438744",
   "metadata": {
    "execution": {
     "iopub.execute_input": "2023-02-21T23:28:33.531598Z",
     "iopub.status.busy": "2023-02-21T23:28:33.530597Z",
     "iopub.status.idle": "2023-02-21T23:28:33.534756Z",
     "shell.execute_reply": "2023-02-21T23:28:33.534756Z",
     "shell.execute_reply.started": "2023-02-21T23:28:33.531598Z"
    },
    "tags": []
   },
   "outputs": [],
   "source": [
    "import networkx as nx\n",
    "import matplotlib.pyplot as plt\n",
    "import itertools"
   ]
  },
  {
   "cell_type": "markdown",
   "id": "8b4ccd03-4317-4dd9-82cb-18bde384abad",
   "metadata": {},
   "source": [
    "# ***Connectivity in undirected graphs***"
   ]
  },
  {
   "cell_type": "markdown",
   "id": "1bf01b2a-cf01-4e2b-b7f4-f9f23086724d",
   "metadata": {},
   "source": [
    "### ***A connected component is a subset of nodes where every node in the subset has a path to every other node in the subset and no other node outside this subset has a path to any node in the subset. (a secular subset of nodes)***"
   ]
  },
  {
   "cell_type": "code",
   "execution_count": 111,
   "id": "20af0f42-40b5-4041-87da-8b6ea088d342",
   "metadata": {
    "execution": {
     "iopub.execute_input": "2023-02-22T00:19:54.166823Z",
     "iopub.status.busy": "2023-02-22T00:19:54.165813Z",
     "iopub.status.idle": "2023-02-22T00:19:54.172643Z",
     "shell.execute_reply": "2023-02-22T00:19:54.171636Z",
     "shell.execute_reply.started": "2023-02-22T00:19:54.166823Z"
    },
    "tags": []
   },
   "outputs": [],
   "source": [
    "def generate_unique_pairs(container: list[str], ignore: list[tuple[str, str]] = None) -> list[str]:\n",
    "    if ignore == None:\n",
    "        ignore = list()\n",
    "    upairs = list()\n",
    "    for (a, b) in itertools.permutations(container, 2):\n",
    "        if ((b, a) not in upairs) & ((a, b) not in ignore) & ((b, a) not in ignore):\n",
    "            upairs.append((a, b))\n",
    "    return upairs"
   ]
  },
  {
   "cell_type": "code",
   "execution_count": 112,
   "id": "1d396aa1-7dbc-43cd-b2f8-7cae3fe47aeb",
   "metadata": {
    "execution": {
     "iopub.execute_input": "2023-02-22T00:19:54.656965Z",
     "iopub.status.busy": "2023-02-22T00:19:54.656965Z",
     "iopub.status.idle": "2023-02-22T00:19:54.664929Z",
     "shell.execute_reply": "2023-02-22T00:19:54.663918Z",
     "shell.execute_reply.started": "2023-02-22T00:19:54.656965Z"
    },
    "tags": []
   },
   "outputs": [
    {
     "data": {
      "text/plain": [
       "[('A', 'B'),\n",
       " ('A', 'C'),\n",
       " ('A', 'E'),\n",
       " ('B', 'C'),\n",
       " ('B', 'D'),\n",
       " ('B', 'E'),\n",
       " ('C', 'D'),\n",
       " ('C', 'E'),\n",
       " ('D', 'E')]"
      ]
     },
     "execution_count": 112,
     "metadata": {},
     "output_type": "execute_result"
    }
   ],
   "source": [
    "generate_unique_pairs([\"A\", \"B\", \"C\", \"D\", \"E\"], [(\"A\", \"D\")])"
   ]
  },
  {
   "cell_type": "code",
   "execution_count": 113,
   "id": "933b71df-fc3f-4941-b4b0-f05495633603",
   "metadata": {
    "execution": {
     "iopub.execute_input": "2023-02-22T00:20:06.777558Z",
     "iopub.status.busy": "2023-02-22T00:20:06.777558Z",
     "iopub.status.idle": "2023-02-22T00:20:06.785237Z",
     "shell.execute_reply": "2023-02-22T00:20:06.784222Z",
     "shell.execute_reply.started": "2023-02-22T00:20:06.777558Z"
    },
    "tags": []
   },
   "outputs": [
    {
     "data": {
      "text/plain": [
       "[('F', 'G'),\n",
       " ('F', 'I'),\n",
       " ('G', 'H'),\n",
       " ('G', 'I'),\n",
       " ('G', 'J'),\n",
       " ('H', 'I'),\n",
       " ('H', 'J'),\n",
       " ('I', 'J')]"
      ]
     },
     "execution_count": 113,
     "metadata": {},
     "output_type": "execute_result"
    }
   ],
   "source": [
    "generate_unique_pairs([\"F\", \"G\", \"H\", \"I\", \"J\"], [(\"H\", \"F\"), (\"J\", \"F\")])"
   ]
  },
  {
   "cell_type": "code",
   "execution_count": 114,
   "id": "ce0db8d2-9a3c-4476-986f-d73789c5ba21",
   "metadata": {
    "execution": {
     "iopub.execute_input": "2023-02-22T00:20:07.221382Z",
     "iopub.status.busy": "2023-02-22T00:20:07.221382Z",
     "iopub.status.idle": "2023-02-22T00:20:07.228318Z",
     "shell.execute_reply": "2023-02-22T00:20:07.227292Z",
     "shell.execute_reply.started": "2023-02-22T00:20:07.221382Z"
    },
    "tags": []
   },
   "outputs": [
    {
     "data": {
      "text/plain": [
       "[('K', 'L'),\n",
       " ('K', 'M'),\n",
       " ('K', 'O'),\n",
       " ('L', 'M'),\n",
       " ('L', 'N'),\n",
       " ('L', 'O'),\n",
       " ('M', 'O'),\n",
       " ('N', 'O')]"
      ]
     },
     "execution_count": 114,
     "metadata": {},
     "output_type": "execute_result"
    }
   ],
   "source": [
    "generate_unique_pairs([\"K\", \"L\", \"M\", \"N\", \"O\"], [(\"M\", \"N\"), (\"N\", \"K\")])"
   ]
  },
  {
   "cell_type": "code",
   "execution_count": 36,
   "id": "fa1fdfaf-0e52-4c7f-9f73-96a368089fb3",
   "metadata": {
    "execution": {
     "iopub.execute_input": "2023-02-21T23:51:59.166281Z",
     "iopub.status.busy": "2023-02-21T23:51:59.166281Z",
     "iopub.status.idle": "2023-02-21T23:51:59.173010Z",
     "shell.execute_reply": "2023-02-21T23:51:59.171996Z",
     "shell.execute_reply.started": "2023-02-21T23:51:59.166281Z"
    },
    "tags": []
   },
   "outputs": [],
   "source": [
    "edges = generate_unique_pairs([\"A\", \"B\", \"C\", \"D\", \"E\"], [(\"A\", \"D\")]) + \\\n",
    "        generate_unique_pairs([\"F\", \"G\", \"H\", \"I\", \"J\"], [(\"H\", \"F\"), (\"J\", \"F\")]) + \\\n",
    "        generate_unique_pairs([\"K\", \"L\", \"M\", \"N\", \"O\"], [(\"M\", \"N\"), (\"N\", \"K\")])"
   ]
  },
  {
   "cell_type": "code",
   "execution_count": 86,
   "id": "1c550e34-9d1a-429c-a819-a83111770e29",
   "metadata": {
    "execution": {
     "iopub.execute_input": "2023-02-21T23:56:47.239767Z",
     "iopub.status.busy": "2023-02-21T23:56:47.238764Z",
     "iopub.status.idle": "2023-02-21T23:56:47.391988Z",
     "shell.execute_reply": "2023-02-21T23:56:47.390919Z",
     "shell.execute_reply.started": "2023-02-21T23:56:47.239767Z"
    },
    "tags": []
   },
   "outputs": [
    {
     "data": {
      "image/png": "[encoded data removed]",
      "text/plain": [
       "<Figure size 640x480 with 1 Axes>"
      ]
     },
     "metadata": {},
     "output_type": "display_data"
    }
   ],
   "source": [
    "graph = nx.Graph()\n",
    "graph.add_edges_from(edges)\n",
    "pos = nx.kamada_kawai_layout(graph, scale = 10)\n",
    "nx.draw_networkx(graph, node_color = \"#FFFF57\", pos = pos)"
   ]
  },
  {
   "cell_type": "code",
   "execution_count": 87,
   "id": "f8d3e6f0-2065-4cef-82e5-b20a496b1c39",
   "metadata": {
    "execution": {
     "iopub.execute_input": "2023-02-21T23:59:33.702168Z",
     "iopub.status.busy": "2023-02-21T23:59:33.701168Z",
     "iopub.status.idle": "2023-02-21T23:59:33.707525Z",
     "shell.execute_reply": "2023-02-21T23:59:33.706518Z",
     "shell.execute_reply.started": "2023-02-21T23:59:33.702168Z"
    },
    "tags": []
   },
   "outputs": [],
   "source": [
    "# is {A, E, F , G} a connected component? No.A and E cannot reach F or G\n",
    "# {N, O, K} a connected componeent? No. N, O & K can reach one another but they can also be accessed by other nodes!"
   ]
  },
  {
   "cell_type": "code",
   "execution_count": 88,
   "id": "1b1a93d4-2648-4b2b-b00d-ac35bf84da61",
   "metadata": {
    "execution": {
     "iopub.execute_input": "2023-02-22T00:01:19.629348Z",
     "iopub.status.busy": "2023-02-22T00:01:19.629348Z",
     "iopub.status.idle": "2023-02-22T00:01:19.636962Z",
     "shell.execute_reply": "2023-02-22T00:01:19.635955Z",
     "shell.execute_reply.started": "2023-02-22T00:01:19.629348Z"
    },
    "tags": []
   },
   "outputs": [
    {
     "data": {
      "text/plain": [
       "3"
      ]
     },
     "execution_count": 88,
     "metadata": {},
     "output_type": "execute_result"
    }
   ],
   "source": [
    "# number of connected components\n",
    "\n",
    "nx.number_connected_components(graph)"
   ]
  },
  {
   "cell_type": "code",
   "execution_count": 91,
   "id": "e7abd329-1e45-4a10-a36e-cca261cc4a80",
   "metadata": {
    "execution": {
     "iopub.execute_input": "2023-02-22T00:03:02.821016Z",
     "iopub.status.busy": "2023-02-22T00:03:02.821016Z",
     "iopub.status.idle": "2023-02-22T00:03:02.829739Z",
     "shell.execute_reply": "2023-02-22T00:03:02.828730Z",
     "shell.execute_reply.started": "2023-02-22T00:03:02.821016Z"
    },
    "tags": []
   },
   "outputs": [
    {
     "data": {
      "text/plain": [
       "[{'A', 'B', 'C', 'D', 'E'},\n",
       " {'F', 'G', 'H', 'I', 'J'},\n",
       " {'K', 'L', 'M', 'N', 'O'}]"
      ]
     },
     "execution_count": 91,
     "metadata": {},
     "output_type": "execute_result"
    }
   ],
   "source": [
    "# connected components in a network\n",
    "\n",
    "list(nx.connected_components(graph))"
   ]
  },
  {
   "cell_type": "code",
   "execution_count": 94,
   "id": "5a5299b0-a586-4a16-b7cf-4d82e92ce350",
   "metadata": {
    "execution": {
     "iopub.execute_input": "2023-02-22T00:04:07.844379Z",
     "iopub.status.busy": "2023-02-22T00:04:07.842460Z",
     "iopub.status.idle": "2023-02-22T00:04:07.851184Z",
     "shell.execute_reply": "2023-02-22T00:04:07.850175Z",
     "shell.execute_reply.started": "2023-02-22T00:04:07.843386Z"
    },
    "tags": []
   },
   "outputs": [
    {
     "data": {
      "text/plain": [
       "{'A', 'B', 'C', 'D', 'E'}"
      ]
     },
     "execution_count": 94,
     "metadata": {},
     "output_type": "execute_result"
    }
   ],
   "source": [
    "# to learn which connecetd component a node belongs to\n",
    "\n",
    "nx.node_connected_component(graph, \"A\")"
   ]
  },
  {
   "cell_type": "markdown",
   "id": "48f9f585-a459-4be7-9792-d692000e55e8",
   "metadata": {},
   "source": [
    "# ***Connectivity in directed graphs***"
   ]
  },
  {
   "cell_type": "code",
   "execution_count": 107,
   "id": "3b62739d-5768-43b2-a826-b2c004f1d9e1",
   "metadata": {
    "execution": {
     "iopub.execute_input": "2023-02-22T00:11:31.339096Z",
     "iopub.status.busy": "2023-02-22T00:11:31.338100Z",
     "iopub.status.idle": "2023-02-22T00:11:31.573613Z",
     "shell.execute_reply": "2023-02-22T00:11:31.573613Z",
     "shell.execute_reply.started": "2023-02-22T00:11:31.339096Z"
    },
    "tags": []
   },
   "outputs": [
    {
     "data": {
      "image/png": "[encoded data removed]",
      "text/plain": [
       "<Figure size 640x480 with 1 Axes>"
      ]
     },
     "metadata": {},
     "output_type": "display_data"
    }
   ],
   "source": [
    "digraph = nx.DiGraph()\n",
    "edges = generate_unique_pairs([\"A\", \"B\", \"C\", \"D\", \"E\"], [(\"A\", \"D\")]) + \\\n",
    "        generate_unique_pairs([\"F\", \"G\", \"H\", \"I\", \"J\"], [(\"H\", \"F\"), (\"J\", \"F\")]) + \\\n",
    "        generate_unique_pairs([\"K\", \"L\", \"M\", \"N\", \"O\"], [(\"M\", \"N\"), (\"N\", \"K\")]) + [(\"A\", \"G\"), (\"A\", \"N\"), (\"O\", \"J\")]\n",
    "digraph.add_edges_from(edges)\n",
    "pos = nx.kamada_kawai_layout(digraph)\n",
    "nx.draw_networkx(digraph, pos = pos, node_color = \"orange\")"
   ]
  },
  {
   "cell_type": "code",
   "execution_count": 108,
   "id": "26690634-e896-4886-8da4-191b4847bb48",
   "metadata": {
    "execution": {
     "iopub.execute_input": "2023-02-22T00:17:12.467715Z",
     "iopub.status.busy": "2023-02-22T00:17:12.467715Z",
     "iopub.status.idle": "2023-02-22T00:17:12.473357Z",
     "shell.execute_reply": "2023-02-22T00:17:12.472346Z",
     "shell.execute_reply.started": "2023-02-22T00:17:12.467715Z"
    },
    "tags": []
   },
   "outputs": [],
   "source": [
    "# there are two types of connectivity in directed graphs\n",
    "# strongly connected\n",
    "# weakly connected\n",
    "\n",
    "# a directed graph is said to be strongly connected when there is a directed pair of paths for every pair of nodes.\n",
    "# e.g. A -> B and B -> A\n",
    "\n",
    "# a directed graph is daid to be weakly connceted when every node will at least one edge once the edge directions are dropped.\n",
    "# here the directions are not considered."
   ]
  },
  {
   "cell_type": "code",
   "execution_count": 109,
   "id": "9918679e-3f98-4a50-8b8f-4d425c6be86f",
   "metadata": {
    "execution": {
     "iopub.execute_input": "2023-02-22T00:17:22.332231Z",
     "iopub.status.busy": "2023-02-22T00:17:22.332231Z",
     "iopub.status.idle": "2023-02-22T00:17:22.339734Z",
     "shell.execute_reply": "2023-02-22T00:17:22.338708Z",
     "shell.execute_reply.started": "2023-02-22T00:17:22.332231Z"
    },
    "tags": []
   },
   "outputs": [
    {
     "data": {
      "text/plain": [
       "False"
      ]
     },
     "execution_count": 109,
     "metadata": {},
     "output_type": "execute_result"
    }
   ],
   "source": [
    "nx.is_strongly_connected(digraph)"
   ]
  },
  {
   "cell_type": "code",
   "execution_count": 110,
   "id": "3941a10c-1b7e-4ae0-a960-4104d584cdf0",
   "metadata": {
    "execution": {
     "iopub.execute_input": "2023-02-22T00:17:31.662616Z",
     "iopub.status.busy": "2023-02-22T00:17:31.661635Z",
     "iopub.status.idle": "2023-02-22T00:17:31.669658Z",
     "shell.execute_reply": "2023-02-22T00:17:31.668648Z",
     "shell.execute_reply.started": "2023-02-22T00:17:31.662616Z"
    },
    "tags": []
   },
   "outputs": [
    {
     "data": {
      "text/plain": [
       "True"
      ]
     },
     "execution_count": 110,
     "metadata": {},
     "output_type": "execute_result"
    }
   ],
   "source": [
    "nx.is_weakly_connected(digraph)"
   ]
  },
  {
   "cell_type": "markdown",
   "id": "12bb3350-f5f6-4d6e-911a-57da937c09e0",
   "metadata": {},
   "source": [
    "## ***Connected components in directed graphs***"
   ]
  },
  {
   "cell_type": "code",
   "execution_count": 116,
   "id": "a6e63c91-3f76-401d-bba8-ef2a5d21289b",
   "metadata": {
    "execution": {
     "iopub.execute_input": "2023-02-22T00:27:41.570577Z",
     "iopub.status.busy": "2023-02-22T00:27:41.569580Z",
     "iopub.status.idle": "2023-02-22T00:27:41.577617Z",
     "shell.execute_reply": "2023-02-22T00:27:41.576610Z",
     "shell.execute_reply.started": "2023-02-22T00:27:41.570577Z"
    },
    "tags": []
   },
   "outputs": [
    {
     "data": {
      "text/plain": [
       "[{'E'},\n",
       " {'D'},\n",
       " {'C'},\n",
       " {'B'},\n",
       " {'J'},\n",
       " {'I'},\n",
       " {'H'},\n",
       " {'G'},\n",
       " {'O'},\n",
       " {'N'},\n",
       " {'A'},\n",
       " {'F'},\n",
       " {'M'},\n",
       " {'L'},\n",
       " {'K'}]"
      ]
     },
     "execution_count": 116,
     "metadata": {},
     "output_type": "execute_result"
    }
   ],
   "source": [
    "# strongly connected component \n",
    "# a subset of nodes where every node is connected to every other node by a directed path and\n",
    "# no outside node has a directed path to or from a node in the subset.\n",
    "\n",
    "list(nx.strongly_connected_components(digraph))"
   ]
  },
  {
   "cell_type": "code",
   "execution_count": 120,
   "id": "1029166c-0799-40f3-8ffc-b3015cc513ba",
   "metadata": {
    "execution": {
     "iopub.execute_input": "2023-02-22T00:31:26.636603Z",
     "iopub.status.busy": "2023-02-22T00:31:26.635605Z",
     "iopub.status.idle": "2023-02-22T00:31:26.641655Z",
     "shell.execute_reply": "2023-02-22T00:31:26.641655Z",
     "shell.execute_reply.started": "2023-02-22T00:31:26.636603Z"
    },
    "tags": []
   },
   "outputs": [
    {
     "data": {
      "text/plain": [
       "[{'A', 'B', 'C', 'D', 'E', 'F', 'G', 'H', 'I', 'J', 'K', 'L', 'M', 'N', 'O'}]"
      ]
     },
     "execution_count": 120,
     "metadata": {},
     "output_type": "execute_result"
    }
   ],
   "source": [
    "# weakly connected components are the connected components after removing the directions from all the edges\n",
    "# here, the whole network makes up one weakly connected component!\n",
    "\n",
    "list(nx.weakly_connected_components(digraph))"
   ]
  },
  {
   "cell_type": "code",
   "execution_count": null,
   "id": "29819193-8b06-4a57-b6d0-88b13458ff9e",
   "metadata": {},
   "outputs": [],
   "source": []
  }
 ],
 "metadata": {
  "kernelspec": {
   "display_name": "Python 3 (ipykernel)",
   "language": "python",
   "name": "python3"
  },
  "language_info": {
   "codemirror_mode": {
    "name": "ipython",
    "version": 3
   },
   "file_extension": ".py",
   "mimetype": "text/x-python",
   "name": "python",
   "nbconvert_exporter": "python",
   "pygments_lexer": "ipython3",
   "version": "3.11.2"
  }
 },
 "nbformat": 4,
 "nbformat_minor": 5
}
