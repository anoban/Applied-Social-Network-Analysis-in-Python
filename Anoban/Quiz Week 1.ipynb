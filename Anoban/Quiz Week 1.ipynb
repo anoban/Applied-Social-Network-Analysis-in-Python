{
 "cells": [
  {
   "cell_type": "code",
   "execution_count": 1,
   "id": "fadcf406-c25c-4b68-ba76-5fa224739f98",
   "metadata": {
    "execution": {
     "iopub.execute_input": "2023-02-16T20:09:02.206421Z",
     "iopub.status.busy": "2023-02-16T20:09:02.206421Z",
     "iopub.status.idle": "2023-02-16T20:09:04.591619Z",
     "shell.execute_reply": "2023-02-16T20:09:04.590606Z",
     "shell.execute_reply.started": "2023-02-16T20:09:02.206421Z"
    },
    "tags": []
   },
   "outputs": [],
   "source": [
    "import networkx as nx"
   ]
  },
  {
   "cell_type": "code",
   "execution_count": 2,
   "id": "45cddbe1-4867-49de-9d99-618e5210a0ed",
   "metadata": {
    "execution": {
     "iopub.execute_input": "2023-02-16T20:09:05.814127Z",
     "iopub.status.busy": "2023-02-16T20:09:05.814127Z",
     "iopub.status.idle": "2023-02-16T20:09:05.819603Z",
     "shell.execute_reply": "2023-02-16T20:09:05.818593Z",
     "shell.execute_reply.started": "2023-02-16T20:09:05.814127Z"
    },
    "tags": []
   },
   "outputs": [],
   "source": [
    "G = nx.MultiGraph()\n",
    "G.add_node('A',role='manager')\n",
    "G.add_edge('A','B',relation = 'friend')\n",
    "G.add_edge('A','C', relation = 'business partner')\n",
    "G.add_edge('A','B', relation = 'classmate')\n",
    "G.nodes['A']['role'] = 'team member'\n",
    "G.nodes['B']['role'] = 'engineer'"
   ]
  },
  {
   "cell_type": "code",
   "execution_count": 3,
   "id": "4d31bea2-83e0-4d54-b8d9-e312301ab994",
   "metadata": {
    "execution": {
     "iopub.execute_input": "2023-02-16T20:09:06.621638Z",
     "iopub.status.busy": "2023-02-16T20:09:06.621638Z",
     "iopub.status.idle": "2023-02-16T20:09:06.630289Z",
     "shell.execute_reply": "2023-02-16T20:09:06.629283Z",
     "shell.execute_reply.started": "2023-02-16T20:09:06.621638Z"
    },
    "tags": []
   },
   "outputs": [
    {
     "data": {
      "text/plain": [
       "{'relation': 'business partner'}"
      ]
     },
     "execution_count": 3,
     "metadata": {},
     "output_type": "execute_result"
    }
   ],
   "source": [
    "G[\"A\"][\"C\"][0]"
   ]
  },
  {
   "cell_type": "code",
   "execution_count": 7,
   "id": "78f82c3b-4cac-4b8e-8c67-772c9957b07f",
   "metadata": {
    "execution": {
     "iopub.execute_input": "2023-02-11T10:43:47.236225Z",
     "iopub.status.busy": "2023-02-11T10:43:47.236225Z",
     "iopub.status.idle": "2023-02-11T10:43:47.241331Z",
     "shell.execute_reply": "2023-02-11T10:43:47.241331Z",
     "shell.execute_reply.started": "2023-02-11T10:43:47.236225Z"
    },
    "tags": []
   },
   "outputs": [],
   "source": [
    "G = nx.MultiGraph()\n",
    "G.add_node('A',role='manager')\n",
    "G.add_edge('A','B',relation = 'friend')\n",
    "G.add_edge('A','C', relation = 'business partner')\n",
    "G.add_edge('A','B', relation = 'classmate')\n",
    "G.nodes['A']['role'] = 'team member'\n",
    "G.nodes['B']['role'] = 'engineer'"
   ]
  },
  {
   "cell_type": "code",
   "execution_count": 11,
   "id": "1d4405e5-2b62-44eb-a929-c10bff2c2c6c",
   "metadata": {
    "execution": {
     "iopub.execute_input": "2023-02-11T10:45:04.087439Z",
     "iopub.status.busy": "2023-02-11T10:45:04.086517Z",
     "iopub.status.idle": "2023-02-11T10:45:04.093261Z",
     "shell.execute_reply": "2023-02-11T10:45:04.092253Z",
     "shell.execute_reply.started": "2023-02-11T10:45:04.087439Z"
    },
    "tags": []
   },
   "outputs": [
    {
     "data": {
      "text/plain": [
       "'friend'"
      ]
     },
     "execution_count": 11,
     "metadata": {},
     "output_type": "execute_result"
    }
   ],
   "source": [
    "G[\"A\"][\"B\"][0][\"relation\"]"
   ]
  },
  {
   "cell_type": "code",
   "execution_count": 12,
   "id": "ff403284-3396-4d42-acdf-b3644ee5a769",
   "metadata": {
    "execution": {
     "iopub.execute_input": "2023-02-11T10:45:11.292460Z",
     "iopub.status.busy": "2023-02-11T10:45:11.292460Z",
     "iopub.status.idle": "2023-02-11T10:45:11.298446Z",
     "shell.execute_reply": "2023-02-11T10:45:11.297437Z",
     "shell.execute_reply.started": "2023-02-11T10:45:11.292460Z"
    },
    "tags": []
   },
   "outputs": [],
   "source": [
    "G = nx.MultiGraph()\n",
    "G.add_node('A',role='manager')\n",
    "G.add_edge('A','B',relation = 'friend')\n",
    "G.add_edge('A','C', relation = 'business partner')\n",
    "G.add_edge('A','B', relation = 'classmate')\n",
    "G.nodes['A']['role'] = 'team member'\n",
    "G.nodes['B']['role'] = 'engineer'"
   ]
  },
  {
   "cell_type": "code",
   "execution_count": 15,
   "id": "4469ab8b-59f0-44aa-9e8e-c1b187bb4045",
   "metadata": {
    "execution": {
     "iopub.execute_input": "2023-02-11T10:45:52.253144Z",
     "iopub.status.busy": "2023-02-11T10:45:52.252145Z",
     "iopub.status.idle": "2023-02-11T10:45:52.256870Z",
     "shell.execute_reply": "2023-02-11T10:45:52.256870Z",
     "shell.execute_reply.started": "2023-02-11T10:45:52.252145Z"
    },
    "tags": []
   },
   "outputs": [
    {
     "data": {
      "text/plain": [
       "{'A': 'team member', 'B': 'engineer'}"
      ]
     },
     "execution_count": 15,
     "metadata": {},
     "output_type": "execute_result"
    }
   ],
   "source": [
    "nx.get_node_attributes(G, name = \"role\")"
   ]
  },
  {
   "cell_type": "code",
   "execution_count": null,
   "id": "1305b3e3-b7e1-4e89-8064-b08df7b05cef",
   "metadata": {},
   "outputs": [],
   "source": []
  }
 ],
 "metadata": {
  "kernelspec": {
   "display_name": "Python 3 (ipykernel)",
   "language": "python",
   "name": "python3"
  },
  "language_info": {
   "codemirror_mode": {
    "name": "ipython",
    "version": 3
   },
   "file_extension": ".py",
   "mimetype": "text/x-python",
   "name": "python",
   "nbconvert_exporter": "python",
   "pygments_lexer": "ipython3",
   "version": "3.11.2"
  }
 },
 "nbformat": 4,
 "nbformat_minor": 5
}
