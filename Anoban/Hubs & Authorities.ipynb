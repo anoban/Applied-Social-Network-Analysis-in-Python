{
 "cells": [
  {
   "cell_type": "code",
   "execution_count": 1,
   "id": "4367d557-cf09-46e7-b6a7-4e1e19ba83af",
   "metadata": {
    "execution": {
     "iopub.execute_input": "2023-03-05T00:31:07.913852Z",
     "iopub.status.busy": "2023-03-05T00:31:07.913852Z",
     "iopub.status.idle": "2023-03-05T00:31:35.833995Z",
     "shell.execute_reply": "2023-03-05T00:31:35.832981Z",
     "shell.execute_reply.started": "2023-03-05T00:31:07.913852Z"
    },
    "tags": []
   },
   "outputs": [],
   "source": [
    "import networkx as nx\n",
    "import matplotlib.pyplot as plt\n",
    "from fractions import Fraction"
   ]
  },
  {
   "cell_type": "markdown",
   "id": "7f3cee65-2c51-4cfd-9211-7f237d2c4c35",
   "metadata": {},
   "source": [
    "# ***Hubs and Authorities***\n",
    "----------------------"
   ]
  },
  {
   "cell_type": "code",
   "execution_count": 2,
   "id": "af6856c8-275e-46a8-b2b7-8313b2bdb16a",
   "metadata": {
    "execution": {
     "iopub.execute_input": "2023-03-05T00:31:35.834989Z",
     "iopub.status.busy": "2023-03-05T00:31:35.834989Z",
     "iopub.status.idle": "2023-03-05T00:31:35.837890Z",
     "shell.execute_reply": "2023-03-05T00:31:35.837890Z",
     "shell.execute_reply.started": "2023-03-05T00:31:35.834989Z"
    },
    "tags": []
   },
   "outputs": [],
   "source": [
    "# This is another way to find central nodes in a network.\n",
    "# This method was also developed for search engines to crawl pages, about a query, looking through the hyperlinked structure of the web."
   ]
  },
  {
   "cell_type": "code",
   "execution_count": 3,
   "id": "ecd408f9-b18a-4ea9-bf46-d67d3f108223",
   "metadata": {
    "execution": {
     "iopub.execute_input": "2023-03-05T00:31:35.839900Z",
     "iopub.status.busy": "2023-03-05T00:31:35.838900Z",
     "iopub.status.idle": "2023-03-05T00:31:35.986424Z",
     "shell.execute_reply": "2023-03-05T00:31:35.986424Z",
     "shell.execute_reply.started": "2023-03-05T00:31:35.839900Z"
    },
    "tags": []
   },
   "outputs": [],
   "source": [
    "# Given a query to a search engine,\n",
    "# the first setp is to find web pages that contain the query string (in the body of the response html/json/ you name it)\n",
    "# or pages that the engine thinks where it can find relevant information.\n",
    "\n",
    "# these are potential authorities.\n",
    "# This is called the Root -> a set of web pages"
   ]
  },
  {
   "cell_type": "code",
   "execution_count": 4,
   "id": "4e21f7a1-504a-49b1-bf7b-61d864dd05c4",
   "metadata": {
    "execution": {
     "iopub.execute_input": "2023-03-05T00:31:35.989433Z",
     "iopub.status.busy": "2023-03-05T00:31:35.988442Z",
     "iopub.status.idle": "2023-03-05T00:31:36.106793Z",
     "shell.execute_reply": "2023-03-05T00:31:36.105780Z",
     "shell.execute_reply.started": "2023-03-05T00:31:35.989433Z"
    },
    "tags": []
   },
   "outputs": [],
   "source": [
    "# The next step is to find all the web pages that link to any page in the Root set.\n",
    "# these are not themselves necesarily relevant to the user's query\n",
    "# they could instead be lonking two pages that relevant (this is where their relevancy in our query comes from, which is not intrisnic)\n",
    "\n",
    "# This whole set of nodes are called Base"
   ]
  },
  {
   "cell_type": "code",
   "execution_count": 5,
   "id": "c4169de5-043a-4248-af42-e8a516bf96a6",
   "metadata": {
    "execution": {
     "iopub.execute_input": "2023-03-05T00:31:36.107794Z",
     "iopub.status.busy": "2023-03-05T00:31:36.107794Z",
     "iopub.status.idle": "2023-03-05T00:31:36.208891Z",
     "shell.execute_reply": "2023-03-05T00:31:36.207861Z",
     "shell.execute_reply.started": "2023-03-05T00:31:36.107794Z"
    },
    "tags": []
   },
   "outputs": [],
   "source": [
    "# In comparison to Page rank, here our interest is centred around a small subset of the whole network instead of the entire network\n",
    "# compared to Page ranks.\n"
   ]
  },
  {
   "cell_type": "markdown",
   "id": "38c87bc8-9954-4c17-8911-805bb861dad8",
   "metadata": {},
   "source": [
    "## ***HITS algorithm***\n",
    "--------------------"
   ]
  },
  {
   "cell_type": "code",
   "execution_count": 6,
   "id": "9eafb604-cb4e-433a-80c9-f9f0ea3b102a",
   "metadata": {
    "execution": {
     "iopub.execute_input": "2023-03-05T00:49:22.523920Z",
     "iopub.status.busy": "2023-03-05T00:49:22.523920Z",
     "iopub.status.idle": "2023-03-05T00:49:22.527277Z",
     "shell.execute_reply": "2023-03-05T00:49:22.527277Z",
     "shell.execute_reply.started": "2023-03-05T00:49:22.523920Z"
    },
    "tags": []
   },
   "outputs": [],
   "source": [
    "# HITS algorithm work imilar to Page rank, by computing a score in k iterations, while keeping track of the score from the preious iteration for \n",
    "# reference\n",
    "# The difference is that HITS will keep track of two kinds of scores for every node -> authority score & hub score\n",
    "# Firstly initialize evry node with a authority score 1 and a hub score 1.\n",
    "\n",
    "# Then iteratiely update the scores as,"
   ]
  },
  {
   "cell_type": "code",
   "execution_count": 7,
   "id": "a59964f8-9707-4ddc-b8be-b41f74caf63e",
   "metadata": {
    "execution": {
     "iopub.execute_input": "2023-03-05T00:49:22.999497Z",
     "iopub.status.busy": "2023-03-05T00:49:22.998483Z",
     "iopub.status.idle": "2023-03-05T00:49:23.002904Z",
     "shell.execute_reply": "2023-03-05T00:49:23.001893Z",
     "shell.execute_reply.started": "2023-03-05T00:49:22.999497Z"
    },
    "tags": []
   },
   "outputs": [],
   "source": [
    "# Authority update rule\n",
    "# authority score -> sum of the hub scores of all nodes that points to the said node"
   ]
  },
  {
   "cell_type": "code",
   "execution_count": 8,
   "id": "f3326160-6aa4-48ad-8262-b48599f94c85",
   "metadata": {
    "execution": {
     "iopub.execute_input": "2023-03-05T00:49:23.565765Z",
     "iopub.status.busy": "2023-03-05T00:49:23.565765Z",
     "iopub.status.idle": "2023-03-05T00:49:23.570118Z",
     "shell.execute_reply": "2023-03-05T00:49:23.569109Z",
     "shell.execute_reply.started": "2023-03-05T00:49:23.565765Z"
    },
    "tags": []
   },
   "outputs": [],
   "source": [
    "# Hub update rule\n",
    "# sum of authority scores of all nodes that it points to"
   ]
  },
  {
   "cell_type": "code",
   "execution_count": 9,
   "id": "c5ad9b61-916e-435c-bfe8-b0b1a055da32",
   "metadata": {
    "execution": {
     "iopub.execute_input": "2023-03-05T00:49:23.815032Z",
     "iopub.status.busy": "2023-03-05T00:49:23.814022Z",
     "iopub.status.idle": "2023-03-05T00:49:23.860083Z",
     "shell.execute_reply": "2023-03-05T00:49:23.860083Z",
     "shell.execute_reply.started": "2023-03-05T00:49:23.815032Z"
    },
    "tags": []
   },
   "outputs": [],
   "source": [
    "# Normalization of authority and hub scores\n",
    "# Authority score(n) = auth(n) / sum of auth(n) where n is an element of N\n",
    "\n",
    "# Repeat this k time"
   ]
  },
  {
   "cell_type": "markdown",
   "id": "cb9427f4-57a3-43b5-b8d1-6876849145dd",
   "metadata": {},
   "source": [
    "# ***Normalized authority score(n) = $\\frac{auth(n)}{\\sum_{n \\in N}(auth(n))}$***\n",
    "# ***Normalized hub score(n) = $\\frac{hub(n)}{\\sum_{n \\in N}(hub(n))}$***"
   ]
  },
  {
   "cell_type": "code",
   "execution_count": 10,
   "id": "68d8c440-da04-42b3-beea-67f5b88aeddc",
   "metadata": {
    "execution": {
     "iopub.execute_input": "2023-03-05T00:49:24.192199Z",
     "iopub.status.busy": "2023-03-05T00:49:24.192199Z",
     "iopub.status.idle": "2023-03-05T00:49:24.895900Z",
     "shell.execute_reply": "2023-03-05T00:49:24.895900Z",
     "shell.execute_reply.started": "2023-03-05T00:49:24.192199Z"
    },
    "tags": []
   },
   "outputs": [
    {
     "data": {
      "image/png": "[encoded data removed]",
      "text/plain": [
       "<Figure size 640x480 with 1 Axes>"
      ]
     },
     "metadata": {},
     "output_type": "display_data"
    }
   ],
   "source": [
    "graph = nx.MultiDiGraph()\n",
    "graph.add_edges_from([(\"A\", \"D\"), (\"B\", \"C\"), (\"B\", \"E\"), (\"C\", \"A\"), (\"D\", \"B\"), (\"D\", \"C\"), (\"E\", \"B\"), (\"E\", \"C\"), (\"E\", \"D\"), (\"E\", \"F\"), \n",
    "                     (\"F\", \"C\"), (\"F\", \"H\"), (\"G\", \"A\"), (\"G\", \"C\"), (\"H\", \"A\")])\n",
    "pos = nx.circular_layout(graph)\n",
    "\n",
    "nx.draw_networkx(graph, node_size = 750, node_color = \"orange\", pos = pos)"
   ]
  },
  {
   "cell_type": "code",
   "execution_count": 11,
   "id": "f580d6de-3002-4006-b54c-296c9556e17d",
   "metadata": {
    "execution": {
     "iopub.execute_input": "2023-03-05T00:49:24.897910Z",
     "iopub.status.busy": "2023-03-05T00:49:24.896907Z",
     "iopub.status.idle": "2023-03-05T00:49:24.900705Z",
     "shell.execute_reply": "2023-03-05T00:49:24.900705Z",
     "shell.execute_reply.started": "2023-03-05T00:49:24.897910Z"
    },
    "tags": []
   },
   "outputs": [],
   "source": [
    "# after the first step all nodes will have an authority scre of 1 and a hub score of 1\n",
    "\n",
    "# AUTHORITY SCORES\n",
    "\n",
    "# A\n",
    "# A points to D only in this network\n",
    "# sum of authority scores\n",
    "# update A's authority score = sum of hub scores of C, G & H\n",
    "# since these are 1 each, A's authority score will become 3\n",
    "\n",
    "# B\n",
    "# D & E point to node B\n",
    "# authority score of node B is 2\n",
    "\n",
    "# C\n",
    "# B, D, E & F point to node C\n",
    "# authority score(C) = 5\n",
    "\n",
    "# At the first itearation (only at the first iteration) the new authority scores are simply the in-degrees of the given node\n",
    "# This is because all nodes have been initialized with a hub score of 1 previously.\n",
    "# This will not be the case once the new scores have been updated (in the subsequent iterations)."
   ]
  },
  {
   "cell_type": "code",
   "execution_count": 12,
   "id": "2ec6ce77-de9a-4614-93b0-33a9432f870f",
   "metadata": {
    "execution": {
     "iopub.execute_input": "2023-03-05T00:49:24.901713Z",
     "iopub.status.busy": "2023-03-05T00:49:24.901713Z",
     "iopub.status.idle": "2023-03-05T00:49:24.994604Z",
     "shell.execute_reply": "2023-03-05T00:49:24.993575Z",
     "shell.execute_reply.started": "2023-03-05T00:49:24.901713Z"
    },
    "tags": []
   },
   "outputs": [],
   "source": [
    "# HUB SCORES\n",
    "\n",
    "# A\n",
    "# A points to only D\n",
    "# D has an authority score 1\n",
    "# so, D's hub score becomes 1\n",
    "\n",
    "# B\n",
    "# B points to C and E\n",
    "# hub score(B) = 2\n",
    "\n",
    "# Essentially the newly updated hub scores are just the out-degrees of the nodes (only in the first iteration)\n",
    "\n",
    "# NORMALIZATION\n",
    "# Normalized hub score = hub(Node) / sum of hub(Node) \n",
    "# = hub(Node) / 15 since all had an initial authority score of 1\n",
    "\n",
    "# Normalized authority score = auth(Node) / sum of auth(Node)\n",
    "# = auth(Node) / 15"
   ]
  },
  {
   "cell_type": "code",
   "execution_count": 13,
   "id": "5b2349e6-eace-4e28-9611-85d87bfa1d81",
   "metadata": {
    "execution": {
     "iopub.execute_input": "2023-03-05T00:49:36.239845Z",
     "iopub.status.busy": "2023-03-05T00:49:36.239845Z",
     "iopub.status.idle": "2023-03-05T00:49:36.244904Z",
     "shell.execute_reply": "2023-03-05T00:49:36.244904Z",
     "shell.execute_reply.started": "2023-03-05T00:49:36.239845Z"
    },
    "tags": []
   },
   "outputs": [
    {
     "data": {
      "text/plain": [
       "{'A': 3, 'D': 2, 'B': 2, 'C': 5, 'E': 1, 'F': 1, 'H': 1, 'G': 0}"
      ]
     },
     "execution_count": 13,
     "metadata": {},
     "output_type": "execute_result"
    }
   ],
   "source": [
    "{node: graph.in_degree(node) for node in graph.nodes()}"
   ]
  },
  {
   "cell_type": "code",
   "execution_count": 14,
   "id": "0b7ea9bf-6e96-4132-a35d-2723586279bf",
   "metadata": {
    "execution": {
     "iopub.execute_input": "2023-03-05T00:49:36.727498Z",
     "iopub.status.busy": "2023-03-05T00:49:36.726500Z",
     "iopub.status.idle": "2023-03-05T00:49:36.732070Z",
     "shell.execute_reply": "2023-03-05T00:49:36.732070Z",
     "shell.execute_reply.started": "2023-03-05T00:49:36.727498Z"
    },
    "tags": []
   },
   "outputs": [
    {
     "data": {
      "text/plain": [
       "{'A': Fraction(1, 5),\n",
       " 'D': Fraction(2, 15),\n",
       " 'B': Fraction(2, 15),\n",
       " 'C': Fraction(1, 3),\n",
       " 'E': Fraction(1, 15),\n",
       " 'F': Fraction(1, 15),\n",
       " 'H': Fraction(1, 15),\n",
       " 'G': Fraction(0, 1)}"
      ]
     },
     "execution_count": 14,
     "metadata": {},
     "output_type": "execute_result"
    }
   ],
   "source": [
    "# Normalized authority scores after 1st iteration\n",
    "# where we get the sum of hub scores of nodes points to it\n",
    "\n",
    "auth_1 = {node: Fraction(graph.in_degree(node), 15) for node in graph.nodes()}\n",
    "auth_1"
   ]
  },
  {
   "cell_type": "code",
   "execution_count": 15,
   "id": "d09c3006-dd49-424c-8bd8-d540055d5d2f",
   "metadata": {
    "execution": {
     "iopub.execute_input": "2023-03-05T00:49:37.103238Z",
     "iopub.status.busy": "2023-03-05T00:49:37.102240Z",
     "iopub.status.idle": "2023-03-05T00:49:37.107942Z",
     "shell.execute_reply": "2023-03-05T00:49:37.107411Z",
     "shell.execute_reply.started": "2023-03-05T00:49:37.103238Z"
    },
    "tags": []
   },
   "outputs": [
    {
     "data": {
      "text/plain": [
       "{'A': 1, 'D': 2, 'B': 2, 'C': 1, 'E': 4, 'F': 2, 'H': 1, 'G': 2}"
      ]
     },
     "execution_count": 15,
     "metadata": {},
     "output_type": "execute_result"
    }
   ],
   "source": [
    "{node: graph.out_degree(node) for node in graph.nodes()}"
   ]
  },
  {
   "cell_type": "code",
   "execution_count": 16,
   "id": "8d74c452-8d5e-4d46-b02b-2617c1e4aa33",
   "metadata": {
    "execution": {
     "iopub.execute_input": "2023-03-05T00:49:37.431251Z",
     "iopub.status.busy": "2023-03-05T00:49:37.431251Z",
     "iopub.status.idle": "2023-03-05T00:49:37.437573Z",
     "shell.execute_reply": "2023-03-05T00:49:37.437573Z",
     "shell.execute_reply.started": "2023-03-05T00:49:37.431251Z"
    },
    "tags": []
   },
   "outputs": [
    {
     "data": {
      "text/plain": [
       "{'A': Fraction(1, 15),\n",
       " 'D': Fraction(2, 15),\n",
       " 'B': Fraction(2, 15),\n",
       " 'C': Fraction(1, 15),\n",
       " 'E': Fraction(4, 15),\n",
       " 'F': Fraction(2, 15),\n",
       " 'H': Fraction(1, 15),\n",
       " 'G': Fraction(2, 15)}"
      ]
     },
     "execution_count": 16,
     "metadata": {},
     "output_type": "execute_result"
    }
   ],
   "source": [
    "# Normalized hub scores after 1st iteration\n",
    "# sum of authority scores of nodes that the said node points to\n",
    "\n",
    "hub_1 = {node: Fraction(graph.out_degree(node), 15) for node in graph.nodes()}\n",
    "hub_1"
   ]
  },
  {
   "cell_type": "code",
   "execution_count": 17,
   "id": "5b879f35-f0c0-4858-ae9f-f836ae0a0f0a",
   "metadata": {
    "execution": {
     "iopub.execute_input": "2023-03-05T00:49:37.678522Z",
     "iopub.status.busy": "2023-03-05T00:49:37.677485Z",
     "iopub.status.idle": "2023-03-05T00:49:37.682610Z",
     "shell.execute_reply": "2023-03-05T00:49:37.681602Z",
     "shell.execute_reply.started": "2023-03-05T00:49:37.678522Z"
    },
    "tags": []
   },
   "outputs": [],
   "source": [
    "# Second iteration\n",
    "# Here we need to pay atention to the hub and authority scores of individual nodes unlike in the first iteration"
   ]
  },
  {
   "cell_type": "code",
   "execution_count": 18,
   "id": "4c3d7f24-2eeb-48af-8bc1-3d54345e3496",
   "metadata": {
    "execution": {
     "iopub.execute_input": "2023-03-05T00:49:37.967429Z",
     "iopub.status.busy": "2023-03-05T00:49:37.966474Z",
     "iopub.status.idle": "2023-03-05T00:49:37.972847Z",
     "shell.execute_reply": "2023-03-05T00:49:37.971838Z",
     "shell.execute_reply.started": "2023-03-05T00:49:37.967429Z"
    },
    "tags": []
   },
   "outputs": [
    {
     "data": {
      "text/plain": [
       "Fraction(4, 15)"
      ]
     },
     "execution_count": 18,
     "metadata": {},
     "output_type": "execute_result"
    }
   ],
   "source": [
    "# consider A\n",
    "# Authority score\n",
    "# Incoming nodes -> C, G & H\n",
    "# = hub(C) + hub(G) + hub(H)\n",
    "\n",
    "hub_1.get(\"C\") + hub_1.get(\"G\") + hub_1.get(\"H\")"
   ]
  },
  {
   "cell_type": "code",
   "execution_count": 19,
   "id": "1e820918-9a36-478f-9ec4-a7b5f321e389",
   "metadata": {
    "execution": {
     "iopub.execute_input": "2023-03-05T00:49:38.247152Z",
     "iopub.status.busy": "2023-03-05T00:49:38.247152Z",
     "iopub.status.idle": "2023-03-05T00:49:38.253221Z",
     "shell.execute_reply": "2023-03-05T00:49:38.253221Z",
     "shell.execute_reply.started": "2023-03-05T00:49:38.247152Z"
    },
    "tags": []
   },
   "outputs": [
    {
     "data": {
      "text/plain": [
       "Fraction(2, 15)"
      ]
     },
     "execution_count": 19,
     "metadata": {},
     "output_type": "execute_result"
    }
   ],
   "source": [
    "# Hub score\n",
    "# Outgoig nodes -> D only\n",
    "# = auth(D)\n",
    "\n",
    "auth_1.get(\"D\")"
   ]
  },
  {
   "cell_type": "code",
   "execution_count": 22,
   "id": "828ead71-e3b0-403b-a3b7-84c37f85537c",
   "metadata": {
    "execution": {
     "iopub.execute_input": "2023-03-05T01:10:35.083413Z",
     "iopub.status.busy": "2023-03-05T01:10:35.083413Z",
     "iopub.status.idle": "2023-03-05T01:10:35.087614Z",
     "shell.execute_reply": "2023-03-05T01:10:35.087614Z",
     "shell.execute_reply.started": "2023-03-05T01:10:35.083413Z"
    },
    "tags": []
   },
   "outputs": [
    {
     "data": {
      "text/plain": [
       "Fraction(2, 5)"
      ]
     },
     "execution_count": 22,
     "metadata": {},
     "output_type": "execute_result"
    }
   ],
   "source": [
    "# now for B\n",
    "# authority score\n",
    "# incoming nodes -> E & D\n",
    "# hub(E) + hub(D)\n",
    "\n",
    "hub_1.get(\"E\") + hub_1.get(\"D\")"
   ]
  },
  {
   "cell_type": "code",
   "execution_count": 23,
   "id": "2e7582f4-6fb1-47c5-b133-75e1305081d2",
   "metadata": {
    "execution": {
     "iopub.execute_input": "2023-03-05T01:11:37.489636Z",
     "iopub.status.busy": "2023-03-05T01:11:37.489636Z",
     "iopub.status.idle": "2023-03-05T01:11:37.494058Z",
     "shell.execute_reply": "2023-03-05T01:11:37.494058Z",
     "shell.execute_reply.started": "2023-03-05T01:11:37.489636Z"
    },
    "tags": []
   },
   "outputs": [
    {
     "data": {
      "text/plain": [
       "Fraction(2, 5)"
      ]
     },
     "execution_count": 23,
     "metadata": {},
     "output_type": "execute_result"
    }
   ],
   "source": [
    "# hub score\n",
    "# outgoing nodes -> C & E\n",
    "# auth(C) + auth(E)\n",
    "\n",
    "auth_1.get(\"C\") + auth_1.get(\"E\")"
   ]
  },
  {
   "cell_type": "code",
   "execution_count": 24,
   "id": "49a0c1a9-2d17-4ff8-84d9-7b250e9adf40",
   "metadata": {
    "execution": {
     "iopub.execute_input": "2023-03-05T01:16:56.948816Z",
     "iopub.status.busy": "2023-03-05T01:16:56.948816Z",
     "iopub.status.idle": "2023-03-05T01:16:56.952628Z",
     "shell.execute_reply": "2023-03-05T01:16:56.952628Z",
     "shell.execute_reply.started": "2023-03-05T01:16:56.948816Z"
    },
    "tags": []
   },
   "outputs": [],
   "source": [
    "# Once you have the authority and hub scores from the second iteration,\n",
    "# they need to be normalized\n",
    "\n",
    "# all auhority scores in 2nd iteration add up to 35/15\n",
    "# to normalize authority scores, divide indvidual authority scores by (35/15)\n",
    "\n",
    "# all hub scores in 2nd iteration add up to 45/15\n",
    "# to normalize hub scores, divide indvidual hub scores by 3"
   ]
  },
  {
   "cell_type": "code",
   "execution_count": 25,
   "id": "31b87e21-f46a-411c-a788-3f8de9cef715",
   "metadata": {
    "execution": {
     "iopub.execute_input": "2023-03-05T01:19:04.934849Z",
     "iopub.status.busy": "2023-03-05T01:19:04.933850Z",
     "iopub.status.idle": "2023-03-05T01:19:04.938733Z",
     "shell.execute_reply": "2023-03-05T01:19:04.937717Z",
     "shell.execute_reply.started": "2023-03-05T01:19:04.934849Z"
    },
    "tags": []
   },
   "outputs": [],
   "source": [
    "# What happens as k increases?\n",
    "# Will the scores converge and become constant?\n",
    "\n",
    "# For some nodes scores may become stable\n",
    "# but for others it will fluctuate for a quite a long time, but eventually will converge and become static"
   ]
  },
  {
   "cell_type": "code",
   "execution_count": 28,
   "id": "ca877ea7-fe3a-44f5-a85a-269e7befa85e",
   "metadata": {
    "execution": {
     "iopub.execute_input": "2023-03-05T01:20:33.027504Z",
     "iopub.status.busy": "2023-03-05T01:20:33.027504Z",
     "iopub.status.idle": "2023-03-05T01:20:33.034356Z",
     "shell.execute_reply": "2023-03-05T01:20:33.034356Z",
     "shell.execute_reply.started": "2023-03-05T01:20:33.027504Z"
    },
    "tags": []
   },
   "outputs": [
    {
     "data": {
      "text/plain": [
       "({'A': 0.04305010876408988,\n",
       "  'D': 0.1874910015340169,\n",
       "  'B': 0.144440892769927,\n",
       "  'C': 0.029508489450125148,\n",
       "  'E': 0.2676258004059808,\n",
       "  'F': 0.14444089276992703,\n",
       "  'H': 0.029508489450125148,\n",
       "  'G': 0.15393432485580824},\n",
       " {'A': 0.08751958702900839,\n",
       "  'D': 0.1276828401181024,\n",
       "  'B': 0.18704574169397803,\n",
       "  'C': 0.3690360954887364,\n",
       "  'E': 0.0593629015758755,\n",
       "  'F': 0.1099899325184238,\n",
       "  'H': 0.05936290157587561,\n",
       "  'G': -1.457656674600961e-17})"
      ]
     },
     "execution_count": 28,
     "metadata": {},
     "output_type": "execute_result"
    }
   ],
   "source": [
    "# Returns hubs, authorities\n",
    "\n",
    "nx.hits(graph, max_iter = 1_000_000)"
   ]
  },
  {
   "cell_type": "code",
   "execution_count": null,
   "id": "8e5a0652-17da-486f-934b-11d417c79f69",
   "metadata": {},
   "outputs": [],
   "source": []
  }
 ],
 "metadata": {
  "kernelspec": {
   "display_name": "Python 3 (ipykernel)",
   "language": "python",
   "name": "python3"
  },
  "language_info": {
   "codemirror_mode": {
    "name": "ipython",
    "version": 3
   },
   "file_extension": ".py",
   "mimetype": "text/x-python",
   "name": "python",
   "nbconvert_exporter": "python",
   "pygments_lexer": "ipython3",
   "version": "3.11.2"
  }
 },
 "nbformat": 4,
 "nbformat_minor": 5
}
