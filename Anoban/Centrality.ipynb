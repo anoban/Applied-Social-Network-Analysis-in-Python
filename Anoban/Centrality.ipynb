{
 "cells": [
  {
   "cell_type": "code",
   "execution_count": 75,
   "id": "6dfd1f41-8ac6-4cd9-94af-1ee01dd05a8d",
   "metadata": {
    "execution": {
     "iopub.execute_input": "2023-03-05T03:15:11.315520Z",
     "iopub.status.busy": "2023-03-05T03:15:11.315520Z",
     "iopub.status.idle": "2023-03-05T03:15:11.318317Z",
     "shell.execute_reply": "2023-03-05T03:15:11.318317Z",
     "shell.execute_reply.started": "2023-03-05T03:15:11.315520Z"
    },
    "tags": []
   },
   "outputs": [],
   "source": [
    "import networkx as nx\n",
    "import matplotlib.pyplot as plt"
   ]
  },
  {
   "cell_type": "markdown",
   "id": "c4f1ece7-84da-45a5-98ff-b4b8f687cb78",
   "metadata": {},
   "source": [
    "# ***Centrality***\n",
    "-------------------------"
   ]
  },
  {
   "cell_type": "code",
   "execution_count": 2,
   "id": "27222bc8-d5fe-4a3c-90fd-2f0aa6103f9d",
   "metadata": {
    "execution": {
     "iopub.execute_input": "2023-03-05T02:21:12.508834Z",
     "iopub.status.busy": "2023-03-05T02:21:12.508834Z",
     "iopub.status.idle": "2023-03-05T02:21:12.511935Z",
     "shell.execute_reply": "2023-03-05T02:21:12.511935Z",
     "shell.execute_reply.started": "2023-03-05T02:21:12.508834Z"
    },
    "tags": []
   },
   "outputs": [],
   "source": [
    "# Comparison of different centrality measures and how they rank nodes differently"
   ]
  },
  {
   "cell_type": "code",
   "execution_count": 13,
   "id": "afdfc80f-1db4-4235-978c-7d6f69f73df1",
   "metadata": {
    "execution": {
     "iopub.execute_input": "2023-03-05T02:29:48.768730Z",
     "iopub.status.busy": "2023-03-05T02:29:48.768730Z",
     "iopub.status.idle": "2023-03-05T02:29:48.774565Z",
     "shell.execute_reply": "2023-03-05T02:29:48.774565Z",
     "shell.execute_reply.started": "2023-03-05T02:29:48.768730Z"
    },
    "tags": []
   },
   "outputs": [
    {
     "data": {
      "text/plain": [
       "['layout',\n",
       " 'bipartite_layout',\n",
       " 'circular_layout',\n",
       " 'kamada_kawai_layout',\n",
       " 'random_layout',\n",
       " 'rescale_layout',\n",
       " 'rescale_layout_dict',\n",
       " 'shell_layout',\n",
       " 'spring_layout',\n",
       " 'spectral_layout',\n",
       " 'planar_layout',\n",
       " 'fruchterman_reingold_layout',\n",
       " 'spiral_layout',\n",
       " 'multipartite_layout',\n",
       " 'arf_layout']"
      ]
     },
     "execution_count": 13,
     "metadata": {},
     "output_type": "execute_result"
    }
   ],
   "source": [
    "[attr for attr in nx.__dir__() if attr.__contains__(\"layout\")]"
   ]
  },
  {
   "cell_type": "code",
   "execution_count": 63,
   "id": "645a0b1a-9f5f-4415-8193-0279dff974ab",
   "metadata": {
    "execution": {
     "iopub.execute_input": "2023-03-05T02:53:08.414835Z",
     "iopub.status.busy": "2023-03-05T02:53:08.413840Z",
     "iopub.status.idle": "2023-03-05T02:53:08.639438Z",
     "shell.execute_reply": "2023-03-05T02:53:08.639438Z",
     "shell.execute_reply.started": "2023-03-05T02:53:08.414835Z"
    },
    "tags": []
   },
   "outputs": [
    {
     "data": {
      "image/png": "[encoded data removed]",
      "text/plain": [
       "<Figure size 640x480 with 1 Axes>"
      ]
     },
     "metadata": {},
     "output_type": "display_data"
    }
   ],
   "source": [
    "graph = nx.DiGraph()\n",
    "graph.add_edges_from([(1, 2), (1, 5), (2, 1), (2, 3), (2, 4), (3, 1), (3, 2), (3, 4), (4, 3), (4, 1), (5, 1), (5, 6),\n",
    "                     (6, 5), (6, 7), (7, 6), (7, 8), (7, 9), (8, 6), (8, 7), (8, 9), (9, 6), (9, 8)])\n",
    "\n",
    "position = nx.spring_layout(graph)\n",
    "nx.draw_networkx(graph, node_color = \"cyan\", node_size = 800, pos = position)\n",
    "plt.savefig(\"./centrality_graph.svg\", format = \"svg\", dpi = 1000)"
   ]
  },
  {
   "cell_type": "code",
   "execution_count": 40,
   "id": "1f450afd-494c-42d2-8e08-17364d5455d9",
   "metadata": {
    "execution": {
     "iopub.execute_input": "2023-03-05T02:34:34.929698Z",
     "iopub.status.busy": "2023-03-05T02:34:34.929698Z",
     "iopub.status.idle": "2023-03-05T02:34:34.935294Z",
     "shell.execute_reply": "2023-03-05T02:34:34.935294Z",
     "shell.execute_reply.started": "2023-03-05T02:34:34.929698Z"
    },
    "tags": []
   },
   "outputs": [
    {
     "data": {
      "text/plain": [
       "{1: 4, 2: 2, 5: 2, 3: 2, 4: 2, 6: 4, 7: 2, 8: 2, 9: 2}"
      ]
     },
     "execution_count": 40,
     "metadata": {},
     "output_type": "execute_result"
    }
   ],
   "source": [
    "# In-degrees\n",
    "\n",
    "in_deg = {node: graph.in_degree(node) for node in graph.nodes()}\n",
    "in_deg"
   ]
  },
  {
   "cell_type": "code",
   "execution_count": 41,
   "id": "e9437734-e3cf-42e9-b861-a71cc64ecb98",
   "metadata": {
    "execution": {
     "iopub.execute_input": "2023-03-05T02:36:08.851265Z",
     "iopub.status.busy": "2023-03-05T02:36:08.851265Z",
     "iopub.status.idle": "2023-03-05T02:36:08.858148Z",
     "shell.execute_reply": "2023-03-05T02:36:08.857137Z",
     "shell.execute_reply.started": "2023-03-05T02:36:08.851265Z"
    },
    "tags": []
   },
   "outputs": [
    {
     "data": {
      "text/plain": [
       "[(1, 4), (6, 4), (2, 2), (5, 2), (3, 2), (4, 2), (7, 2), (8, 2), (9, 2)]"
      ]
     },
     "execution_count": 41,
     "metadata": {},
     "output_type": "execute_result"
    }
   ],
   "source": [
    "# Nodes 1 and 6 have the highest in-degrees (4)\n",
    "# (incoming edges.)\n",
    "\n",
    "sorted([(node, in_degree) for (node, in_degree) in in_deg.items()], key = lambda tup: tup[1], reverse = True)"
   ]
  },
  {
   "cell_type": "code",
   "execution_count": 42,
   "id": "d721de44-62b9-4a4f-a1b3-1949a48a084a",
   "metadata": {
    "execution": {
     "iopub.execute_input": "2023-03-05T02:36:35.216598Z",
     "iopub.status.busy": "2023-03-05T02:36:35.216598Z",
     "iopub.status.idle": "2023-03-05T02:36:35.219716Z",
     "shell.execute_reply": "2023-03-05T02:36:35.219716Z",
     "shell.execute_reply.started": "2023-03-05T02:36:35.216598Z"
    },
    "tags": []
   },
   "outputs": [],
   "source": [
    "# All the other nodes have 2 in-degrees"
   ]
  },
  {
   "cell_type": "code",
   "execution_count": 43,
   "id": "2a34a4b7-e4aa-477c-b1da-4155a1e0c083",
   "metadata": {
    "execution": {
     "iopub.execute_input": "2023-03-05T02:37:59.418822Z",
     "iopub.status.busy": "2023-03-05T02:37:59.417821Z",
     "iopub.status.idle": "2023-03-05T02:37:59.422773Z",
     "shell.execute_reply": "2023-03-05T02:37:59.421764Z",
     "shell.execute_reply.started": "2023-03-05T02:37:59.418822Z"
    },
    "tags": []
   },
   "outputs": [],
   "source": [
    "# In-degree centrality is only able to say that nodes 1 & 6 are the most important in this network."
   ]
  },
  {
   "cell_type": "code",
   "execution_count": 46,
   "id": "af2a3c77-1a9b-4fde-a0d1-12e1ecdeb1c2",
   "metadata": {
    "execution": {
     "iopub.execute_input": "2023-03-05T02:39:41.712740Z",
     "iopub.status.busy": "2023-03-05T02:39:41.711732Z",
     "iopub.status.idle": "2023-03-05T02:39:41.718889Z",
     "shell.execute_reply": "2023-03-05T02:39:41.717877Z",
     "shell.execute_reply.started": "2023-03-05T02:39:41.712740Z"
    },
    "tags": []
   },
   "outputs": [
    {
     "data": {
      "text/plain": [
       "[(5, 0.5714285714285714),\n",
       " (1, 0.5333333333333333),\n",
       " (6, 0.5333333333333333),\n",
       " (2, 0.38095238095238093),\n",
       " (7, 0.38095238095238093),\n",
       " (3, 0.3076923076923077),\n",
       " (4, 0.3076923076923077),\n",
       " (8, 0.3076923076923077),\n",
       " (9, 0.3076923076923077)]"
      ]
     },
     "execution_count": 46,
     "metadata": {},
     "output_type": "execute_result"
    }
   ],
   "source": [
    "# Closeness centrality\n",
    "\n",
    "sorted([(node, cc) for (node, cc) in nx.closeness_centrality(graph).items()], key = lambda tup: tup[1], reverse = True)"
   ]
  },
  {
   "cell_type": "markdown",
   "id": "eb4c456e-c2a3-4247-b5bf-da66c969e51c",
   "metadata": {},
   "source": [
    "![img](./centrality_graph.svg)"
   ]
  },
  {
   "cell_type": "code",
   "execution_count": 53,
   "id": "4baeee19-4d7c-4889-85c4-578850fbec56",
   "metadata": {
    "execution": {
     "iopub.execute_input": "2023-03-05T02:44:32.939535Z",
     "iopub.status.busy": "2023-03-05T02:44:32.939535Z",
     "iopub.status.idle": "2023-03-05T02:44:32.943212Z",
     "shell.execute_reply": "2023-03-05T02:44:32.943212Z",
     "shell.execute_reply.started": "2023-03-05T02:44:32.939535Z"
    },
    "tags": []
   },
   "outputs": [],
   "source": [
    "# Closeness centrality measures importance based on the distance to all the other nodes from the given node\n",
    "# The shorter the distances more important the node is.\n",
    "\n",
    "# This makes node 5 as the most important one.\n",
    "# Because node 5 is in the middle of the network, so closer to most other nodes.\n",
    "# Nodes 1 & 6 get ranked second\n",
    "# They are the immediate neighbours of node 5 (makes sense)"
   ]
  },
  {
   "cell_type": "code",
   "execution_count": null,
   "id": "2cf62024-4998-442e-863f-f6efce1d14a2",
   "metadata": {},
   "outputs": [],
   "source": [
    "# But these is a structural difference between nodes 3, 4 as well as nodes 8, 9\n",
    "# If you are to move from node 3 to 2 the path is direct\n",
    "# but from 4 to 2 is 4 -> 3 -> 2\n",
    "\n",
    "# similarly\n",
    "# 8 -> 7 is direct\n",
    "# 9 - > 7 is 9 -> 8 -> 7\n",
    "\n",
    "# But closeness centrality has ranked these two pair of nodes similarly\n",
    "# this difference did not affect the closeness centrality"
   ]
  },
  {
   "cell_type": "code",
   "execution_count": 57,
   "id": "6136ac82-a083-48ec-85ca-e8183a66808d",
   "metadata": {
    "execution": {
     "iopub.execute_input": "2023-03-05T02:47:08.545134Z",
     "iopub.status.busy": "2023-03-05T02:47:08.545134Z",
     "iopub.status.idle": "2023-03-05T02:47:08.550620Z",
     "shell.execute_reply": "2023-03-05T02:47:08.550620Z",
     "shell.execute_reply.started": "2023-03-05T02:47:08.545134Z"
    },
    "tags": []
   },
   "outputs": [
    {
     "data": {
      "text/plain": [
       "[(5, 0.5714285714285714),\n",
       " (1, 0.5446428571428571),\n",
       " (6, 0.5446428571428571),\n",
       " (2, 0.21428571428571427),\n",
       " (7, 0.21428571428571427),\n",
       " (3, 0.008928571428571428),\n",
       " (8, 0.008928571428571428),\n",
       " (4, 0.0),\n",
       " (9, 0.0)]"
      ]
     },
     "execution_count": 57,
     "metadata": {},
     "output_type": "execute_result"
    }
   ],
   "source": [
    "# Betweenness centrality\n",
    "# This considers the more times a node shows up in the shortest paths in between all pairs of nodes in the network, \n",
    "# the more important that node is\n",
    "\n",
    "sorted([(node, bc) for (node, bc) in nx.betweenness_centrality(graph).items()], key = lambda tup: tup[1], reverse = True)"
   ]
  },
  {
   "cell_type": "markdown",
   "id": "4dd0f164-cb4e-4f7a-b2be-2c2c6850b1de",
   "metadata": {},
   "source": [
    "![img](./centrality_graph.svg)"
   ]
  },
  {
   "cell_type": "code",
   "execution_count": 64,
   "id": "6321f932-b036-445d-8c3c-f04048006baf",
   "metadata": {
    "execution": {
     "iopub.execute_input": "2023-03-05T03:04:43.987400Z",
     "iopub.status.busy": "2023-03-05T03:04:43.987400Z",
     "iopub.status.idle": "2023-03-05T03:04:43.991075Z",
     "shell.execute_reply": "2023-03-05T03:04:43.991075Z",
     "shell.execute_reply.started": "2023-03-05T03:04:43.987400Z"
    },
    "tags": []
   },
   "outputs": [],
   "source": [
    "# Node with the highest betweenness is node 5\n",
    "# Next come nodes 1 and 6\n",
    "# Then nodes 2 and 7\n",
    "# so far identical to closeness centrality\n",
    "\n",
    "# But betweenness centrality ranks nodes 3, 4 and nodes 8, 9 differently\n",
    "# Node 3 can reach node 2 directly\n",
    "# Node 4 cannot\n",
    "# so node 3 has higher betweenness centrality than node 4\n",
    "\n",
    "# Node 8 can reach node 7 directly\n",
    "# Node 9 cannot\n",
    "# so node 8 has higher betweenness centrality than node 9"
   ]
  },
  {
   "cell_type": "code",
   "execution_count": 67,
   "id": "2a6b8500-0991-4f88-8961-1e030bd159a9",
   "metadata": {
    "execution": {
     "iopub.execute_input": "2023-03-05T03:07:16.616676Z",
     "iopub.status.busy": "2023-03-05T03:07:16.615699Z",
     "iopub.status.idle": "2023-03-05T03:07:16.624797Z",
     "shell.execute_reply": "2023-03-05T03:07:16.623780Z",
     "shell.execute_reply.started": "2023-03-05T03:07:16.616676Z"
    },
    "tags": []
   },
   "outputs": [
    {
     "data": {
      "text/plain": [
       "[(1, 0.1658337062753152),\n",
       " (6, 0.1658337062753152),\n",
       " (5, 0.1576262358466881),\n",
       " (2, 0.10896900830621481),\n",
       " (7, 0.10896900830621481),\n",
       " (3, 0.07702062010302184),\n",
       " (8, 0.07702062010302184),\n",
       " (4, 0.06936354739210396),\n",
       " (9, 0.06936354739210396)]"
      ]
     },
     "execution_count": 67,
     "metadata": {},
     "output_type": "execute_result"
    }
   ],
   "source": [
    "# Page rank\n",
    "\n",
    "sorted([(node, pr) for (node, pr) in nx.pagerank(graph, max_iter = 1_000_000).items()], key = lambda tup: tup[1], reverse = True)"
   ]
  },
  {
   "cell_type": "code",
   "execution_count": 72,
   "id": "155a4de5-a100-4bdc-9e5d-024ab72ee491",
   "metadata": {
    "execution": {
     "iopub.execute_input": "2023-03-05T03:13:27.277619Z",
     "iopub.status.busy": "2023-03-05T03:13:27.277619Z",
     "iopub.status.idle": "2023-03-05T03:13:27.285585Z",
     "shell.execute_reply": "2023-03-05T03:13:27.285585Z",
     "shell.execute_reply.started": "2023-03-05T03:13:27.277619Z"
    },
    "tags": []
   },
   "outputs": [
    {
     "data": {
      "text/plain": [
       "[(1, 0.2112113527311645),\n",
       " (6, 0.2112113527311645),\n",
       " (9, 0.1107792644401431),\n",
       " (4, 0.11077926444014306),\n",
       " (3, 0.10043208829102152),\n",
       " (8, 0.10043208829102152),\n",
       " (7, 0.06528115989396337),\n",
       " (2, 0.06528115989396335),\n",
       " (5, 0.024592269287414887)]"
      ]
     },
     "execution_count": 72,
     "metadata": {},
     "output_type": "execute_result"
    }
   ],
   "source": [
    "# normalized authority scores\n",
    "\n",
    "sorted([(node, pr) for (node, pr) in nx.hits(graph, max_iter = 1_000_000)[1].items()], key = lambda tup: tup[1], reverse = True)"
   ]
  },
  {
   "cell_type": "code",
   "execution_count": 74,
   "id": "a3a16823-de75-4057-adfa-53858e99ae3a",
   "metadata": {
    "execution": {
     "iopub.execute_input": "2023-03-05T03:14:08.571657Z",
     "iopub.status.busy": "2023-03-05T03:14:08.571657Z",
     "iopub.status.idle": "2023-03-05T03:14:08.579332Z",
     "shell.execute_reply": "2023-03-05T03:14:08.579332Z",
     "shell.execute_reply.started": "2023-03-05T03:14:08.571657Z"
    },
    "tags": []
   },
   "outputs": [
    {
     "data": {
      "text/plain": [
       "[(2, 0.14848705094489809),\n",
       " (5, 0.14848705094489809),\n",
       " (7, 0.14848705094489809),\n",
       " (8, 0.13613104444202342),\n",
       " (3, 0.1361310444420234),\n",
       " (4, 0.10954670500738842),\n",
       " (9, 0.1095467050073884),\n",
       " (6, 0.031591674133241064),\n",
       " (1, 0.03159167413324102)]"
      ]
     },
     "execution_count": 74,
     "metadata": {},
     "output_type": "execute_result"
    }
   ],
   "source": [
    "# normalized hub scores\n",
    "\n",
    "sorted([(node, pr) for (node, pr) in nx.hits(graph, max_iter = 1_000_000)[0].items()], key = lambda tup: tup[1], reverse = True)"
   ]
  }
 ],
 "metadata": {
  "kernelspec": {
   "display_name": "Python 3 (ipykernel)",
   "language": "python",
   "name": "python3"
  },
  "language_info": {
   "codemirror_mode": {
    "name": "ipython",
    "version": 3
   },
   "file_extension": ".py",
   "mimetype": "text/x-python",
   "name": "python",
   "nbconvert_exporter": "python",
   "pygments_lexer": "ipython3",
   "version": "3.11.2"
  }
 },
 "nbformat": 4,
 "nbformat_minor": 5
}
