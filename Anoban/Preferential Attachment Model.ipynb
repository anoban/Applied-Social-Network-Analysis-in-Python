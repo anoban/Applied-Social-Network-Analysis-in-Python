{
 "cells": [
  {
   "cell_type": "code",
   "execution_count": 1,
   "id": "4141c266-6327-4840-ad61-84427f909342",
   "metadata": {
    "execution": {
     "iopub.execute_input": "2023-03-06T01:19:51.837939Z",
     "iopub.status.busy": "2023-03-06T01:19:51.837939Z",
     "iopub.status.idle": "2023-03-06T01:20:08.697214Z",
     "shell.execute_reply": "2023-03-06T01:20:08.696192Z",
     "shell.execute_reply.started": "2023-03-06T01:19:51.837939Z"
    },
    "tags": []
   },
   "outputs": [],
   "source": [
    "import networkx as nx\n",
    "from collections import Counter\n",
    "from fractions import Fraction\n",
    "import numpy as np\n",
    "import matplotlib.pyplot as plt"
   ]
  },
  {
   "cell_type": "markdown",
   "id": "f898d16a-be12-444b-b0b3-cbdd51528a1f",
   "metadata": {},
   "source": [
    "# ***Preferential Attachment Models***\n",
    "------------------------------------------"
   ]
  },
  {
   "cell_type": "markdown",
   "id": "800e340c-0a29-48c5-a935-7f83b22ff70b",
   "metadata": {},
   "source": [
    "Degree of a node in an undirected graph is the number of neighbours it has.          \n",
    "Sometimes we are interested in the distribution of degrees throughout the network. (the spatial distribution of degrees).          \n",
    "\n",
    "`Degree distribution` is the probability of a degree over the entire degrees."
   ]
  },
  {
   "cell_type": "code",
   "execution_count": 2,
   "id": "39cc2d94-ca46-47f3-ba17-780b7d5eae59",
   "metadata": {
    "execution": {
     "iopub.execute_input": "2023-03-06T01:20:14.460473Z",
     "iopub.status.busy": "2023-03-06T01:20:14.459477Z",
     "iopub.status.idle": "2023-03-06T01:20:15.613407Z",
     "shell.execute_reply": "2023-03-06T01:20:15.613407Z",
     "shell.execute_reply.started": "2023-03-06T01:20:14.460473Z"
    },
    "tags": []
   },
   "outputs": [
    {
     "data": {
      "image/png": "[encoded data removed]",
      "text/plain": [
       "<Figure size 640x480 with 1 Axes>"
      ]
     },
     "metadata": {},
     "output_type": "display_data"
    }
   ],
   "source": [
    "graph = nx.Graph()\n",
    "graph.add_edges_from([(\"A\", \"B\"), (\"B\", \"C\"), (\"C\", \"D\"), (\"C\", \"E\"), (\"D\", \"F\"), (\"F\", \"G\"), (\"G\", \"I\"), (\"F\", \"I\"), (\"G\", \"H\"), \n",
    "                     (\"G\", \"A\"), (\"A\", \"H\")])\n",
    "nx.draw_networkx(graph, node_size = 850, node_color = \"cyan\")"
   ]
  },
  {
   "cell_type": "code",
   "execution_count": 3,
   "id": "06f3ad11-2491-4369-9066-1762c2442aba",
   "metadata": {
    "execution": {
     "iopub.execute_input": "2023-03-06T01:20:16.419564Z",
     "iopub.status.busy": "2023-03-06T01:20:16.419564Z",
     "iopub.status.idle": "2023-03-06T01:20:16.424847Z",
     "shell.execute_reply": "2023-03-06T01:20:16.424847Z",
     "shell.execute_reply.started": "2023-03-06T01:20:16.419564Z"
    },
    "tags": []
   },
   "outputs": [
    {
     "data": {
      "text/plain": [
       "DegreeView({'A': 3, 'B': 2, 'C': 3, 'D': 2, 'E': 1, 'F': 3, 'G': 4, 'I': 2, 'H': 2})"
      ]
     },
     "execution_count": 3,
     "metadata": {},
     "output_type": "execute_result"
    }
   ],
   "source": [
    "# degrees of nodes\n",
    "\n",
    "graph.degree()"
   ]
  },
  {
   "cell_type": "code",
   "execution_count": 4,
   "id": "b158fd28-ed7e-4f26-9916-e272eb31097a",
   "metadata": {
    "execution": {
     "iopub.execute_input": "2023-03-06T01:20:17.475907Z",
     "iopub.status.busy": "2023-03-06T01:20:17.475907Z",
     "iopub.status.idle": "2023-03-06T01:20:17.481844Z",
     "shell.execute_reply": "2023-03-06T01:20:17.480835Z",
     "shell.execute_reply.started": "2023-03-06T01:20:17.475907Z"
    },
    "tags": []
   },
   "outputs": [
    {
     "data": {
      "text/plain": [
       "Counter({3: 3, 2: 4, 1: 1, 4: 1})"
      ]
     },
     "execution_count": 4,
     "metadata": {},
     "output_type": "execute_result"
    }
   ],
   "source": [
    "# frequencies of degrees\n",
    "\n",
    "Counter(dict(graph.degree).values())"
   ]
  },
  {
   "cell_type": "code",
   "execution_count": 5,
   "id": "423f53e6-fcb0-4c15-aa62-b2537077c6fb",
   "metadata": {
    "execution": {
     "iopub.execute_input": "2023-03-06T01:20:17.867479Z",
     "iopub.status.busy": "2023-03-06T01:20:17.867479Z",
     "iopub.status.idle": "2023-03-06T01:20:17.873259Z",
     "shell.execute_reply": "2023-03-06T01:20:17.872245Z",
     "shell.execute_reply.started": "2023-03-06T01:20:17.867479Z"
    },
    "tags": []
   },
   "outputs": [
    {
     "data": {
      "text/plain": [
       "{1, 2, 3, 4}"
      ]
     },
     "execution_count": 5,
     "metadata": {},
     "output_type": "execute_result"
    }
   ],
   "source": [
    "# unique degrees\n",
    "\n",
    "set(dict(graph.degree()).values())"
   ]
  },
  {
   "cell_type": "code",
   "execution_count": 6,
   "id": "dd47b172-e3a3-4494-b4ad-8ec4f17f93a9",
   "metadata": {
    "execution": {
     "iopub.execute_input": "2023-03-06T01:20:18.140321Z",
     "iopub.status.busy": "2023-03-06T01:20:18.139306Z",
     "iopub.status.idle": "2023-03-06T01:20:18.145756Z",
     "shell.execute_reply": "2023-03-06T01:20:18.144747Z",
     "shell.execute_reply.started": "2023-03-06T01:20:18.140321Z"
    },
    "tags": []
   },
   "outputs": [
    {
     "data": {
      "text/plain": [
       "9"
      ]
     },
     "execution_count": 6,
     "metadata": {},
     "output_type": "execute_result"
    }
   ],
   "source": [
    "graph.number_of_nodes()"
   ]
  },
  {
   "cell_type": "markdown",
   "id": "54115e2d-d6d5-4409-b1e1-da68162a33c8",
   "metadata": {},
   "source": [
    "# ***$P(degree) = \\frac{frequency(degree)}{\\sum(nodes)}$***"
   ]
  },
  {
   "cell_type": "code",
   "execution_count": 7,
   "id": "cd930a85-1d22-47a5-9d7c-3cdc07bfbb42",
   "metadata": {
    "execution": {
     "iopub.execute_input": "2023-03-06T01:20:18.571212Z",
     "iopub.status.busy": "2023-03-06T01:20:18.570211Z",
     "iopub.status.idle": "2023-03-06T01:20:18.577579Z",
     "shell.execute_reply": "2023-03-06T01:20:18.577579Z",
     "shell.execute_reply.started": "2023-03-06T01:20:18.571212Z"
    },
    "tags": []
   },
   "outputs": [
    {
     "name": "stdout",
     "output_type": "stream",
     "text": [
      "P(3) = 1/3\n",
      "P(2) = 4/9\n",
      "P(1) = 1/9\n",
      "P(4) = 1/9\n"
     ]
    }
   ],
   "source": [
    "for (degree, freq) in Counter(dict(graph.degree).values()).items():\n",
    "    print(f\"P({degree}) = {Fraction(freq, 9)}\")"
   ]
  },
  {
   "cell_type": "code",
   "execution_count": 8,
   "id": "2b954089-bfb0-4b2c-b57a-c106672482ef",
   "metadata": {
    "execution": {
     "iopub.execute_input": "2023-03-06T01:20:18.778043Z",
     "iopub.status.busy": "2023-03-06T01:20:18.778043Z",
     "iopub.status.idle": "2023-03-06T01:20:18.782746Z",
     "shell.execute_reply": "2023-03-06T01:20:18.781738Z",
     "shell.execute_reply.started": "2023-03-06T01:20:18.778043Z"
    },
    "tags": []
   },
   "outputs": [],
   "source": [
    "ddist = Counter(dict(graph.degree).values())"
   ]
  },
  {
   "cell_type": "code",
   "execution_count": 9,
   "id": "404788e2-278b-4819-89d9-b83bc8914ba3",
   "metadata": {
    "execution": {
     "iopub.execute_input": "2023-03-06T01:20:18.963752Z",
     "iopub.status.busy": "2023-03-06T01:20:18.963752Z",
     "iopub.status.idle": "2023-03-06T01:20:18.971071Z",
     "shell.execute_reply": "2023-03-06T01:20:18.970062Z",
     "shell.execute_reply.started": "2023-03-06T01:20:18.963752Z"
    },
    "tags": []
   },
   "outputs": [
    {
     "data": {
      "text/plain": [
       "array([0.33333333, 0.44444444, 0.11111111, 0.11111111])"
      ]
     },
     "execution_count": 9,
     "metadata": {},
     "output_type": "execute_result"
    }
   ],
   "source": [
    "probs = np.array(list(ddist.values()), dtype = np.int64) / 9\n",
    "probs"
   ]
  },
  {
   "cell_type": "code",
   "execution_count": 10,
   "id": "a8caf1ce-3912-400d-ae70-efdd8c7ef2e9",
   "metadata": {
    "execution": {
     "iopub.execute_input": "2023-03-06T01:20:19.380365Z",
     "iopub.status.busy": "2023-03-06T01:20:19.379362Z",
     "iopub.status.idle": "2023-03-06T01:20:19.384291Z",
     "shell.execute_reply": "2023-03-06T01:20:19.384291Z",
     "shell.execute_reply.started": "2023-03-06T01:20:19.380365Z"
    },
    "tags": []
   },
   "outputs": [
    {
     "data": {
      "text/plain": [
       "[3, 2, 3, 2, 1, 3, 4, 2, 2]"
      ]
     },
     "execution_count": 10,
     "metadata": {},
     "output_type": "execute_result"
    }
   ],
   "source": [
    "degs = list(dict(graph.degree()).values())\n",
    "degs"
   ]
  },
  {
   "cell_type": "code",
   "execution_count": 11,
   "id": "75a8d2fe-6ccd-4594-a6e8-8f544c4f215b",
   "metadata": {
    "execution": {
     "iopub.execute_input": "2023-03-06T01:20:19.635376Z",
     "iopub.status.busy": "2023-03-06T01:20:19.634408Z",
     "iopub.status.idle": "2023-03-06T01:20:19.724433Z",
     "shell.execute_reply": "2023-03-06T01:20:19.723425Z",
     "shell.execute_reply.started": "2023-03-06T01:20:19.635376Z"
    },
    "tags": []
   },
   "outputs": [
    {
     "data": {
      "image/png": "[encoded data removed]",
      "text/plain": [
       "<Figure size 640x480 with 1 Axes>"
      ]
     },
     "metadata": {},
     "output_type": "display_data"
    }
   ],
   "source": [
    "fig, axes = plt.subplots(nrows = 1, ncols = 1)\n",
    "axes.hist(degs)\n",
    "axes.set_xticks(ticks = np.linspace(1.15, 3.85, 4), labels = range(1, 5))\n",
    "axes.set_ylabel(\"Number of nodes\")\n",
    "axes.set_xlabel(\"Degrees\")\n",
    "plt.show()"
   ]
  },
  {
   "cell_type": "code",
   "execution_count": 12,
   "id": "baea932b-9267-4e49-b8f3-438628e34f6f",
   "metadata": {
    "execution": {
     "iopub.execute_input": "2023-03-06T01:20:20.378926Z",
     "iopub.status.busy": "2023-03-06T01:20:20.378926Z",
     "iopub.status.idle": "2023-03-06T01:20:20.473812Z",
     "shell.execute_reply": "2023-03-06T01:20:20.473812Z",
     "shell.execute_reply.started": "2023-03-06T01:20:20.378926Z"
    },
    "tags": []
   },
   "outputs": [
    {
     "data": {
      "image/png": "[encoded data removed]",
      "text/plain": [
       "<Figure size 640x480 with 1 Axes>"
      ]
     },
     "metadata": {},
     "output_type": "display_data"
    }
   ],
   "source": [
    "plt.bar(x = ddist.keys(), height = probs, color = \"red\")\n",
    "plt.xlabel(\"Degree\")\n",
    "plt.ylabel(\"Fraction of degrees\")\n",
    "plt.show()"
   ]
  },
  {
   "cell_type": "markdown",
   "id": "1389021a-5e4d-4e21-ac2f-d998986d3cbc",
   "metadata": {},
   "source": [
    "# ***Degree distribution in directed graphs***\n",
    "-----------------------------------"
   ]
  },
  {
   "cell_type": "code",
   "execution_count": 13,
   "id": "51a1b84e-d796-4ff3-849c-4bbd4f6f4d5e",
   "metadata": {
    "execution": {
     "iopub.execute_input": "2023-03-06T01:21:03.850312Z",
     "iopub.status.busy": "2023-03-06T01:21:03.850312Z",
     "iopub.status.idle": "2023-03-06T01:21:03.852936Z",
     "shell.execute_reply": "2023-03-06T01:21:03.852936Z",
     "shell.execute_reply.started": "2023-03-06T01:21:03.850312Z"
    }
   },
   "outputs": [],
   "source": [
    "# Two categories of degrees\n",
    "# In-degrees and out-degrees"
   ]
  },
  {
   "cell_type": "code",
   "execution_count": 20,
   "id": "78b9e782-47b0-45f5-960d-664d899787bf",
   "metadata": {
    "execution": {
     "iopub.execute_input": "2023-03-06T01:24:52.337721Z",
     "iopub.status.busy": "2023-03-06T01:24:52.337721Z",
     "iopub.status.idle": "2023-03-06T01:24:52.511785Z",
     "shell.execute_reply": "2023-03-06T01:24:52.510775Z",
     "shell.execute_reply.started": "2023-03-06T01:24:52.337721Z"
    },
    "tags": []
   },
   "outputs": [
    {
     "data": {
      "image/png": "[encoded data removed]",
      "text/plain": [
       "<Figure size 640x480 with 1 Axes>"
      ]
     },
     "metadata": {},
     "output_type": "display_data"
    }
   ],
   "source": [
    "graph = nx.DiGraph()\n",
    "graph.add_edges_from([(\"B\", \"A\"), (\"C\", \"B\"), (\"D\", \"C\"), (\"E\", \"C\"), (\"F\", \"D\"), (\"G\", \"F\"), (\"G\", \"I\"), (\"F\", \"I\"), (\"H\", \"G\"), \n",
    "                     (\"G\", \"A\"), (\"H\", \"A\")])\n",
    "pos = nx.shell_layout(graph)\n",
    "nx.draw_networkx(graph, node_size = 850, node_color = \"yellow\", pos = pos)"
   ]
  },
  {
   "cell_type": "code",
   "execution_count": 21,
   "id": "a6dc0b28-61f6-4bd7-9c1a-1ca9185c15d2",
   "metadata": {
    "execution": {
     "iopub.execute_input": "2023-03-06T01:25:07.646371Z",
     "iopub.status.busy": "2023-03-06T01:25:07.646371Z",
     "iopub.status.idle": "2023-03-06T01:25:07.651229Z",
     "shell.execute_reply": "2023-03-06T01:25:07.651229Z",
     "shell.execute_reply.started": "2023-03-06T01:25:07.646371Z"
    },
    "tags": []
   },
   "outputs": [
    {
     "data": {
      "text/plain": [
       "InDegreeView({'B': 1, 'A': 3, 'C': 2, 'D': 1, 'E': 0, 'F': 1, 'G': 1, 'I': 2, 'H': 0})"
      ]
     },
     "execution_count": 21,
     "metadata": {},
     "output_type": "execute_result"
    }
   ],
   "source": [
    "graph.in_degree()"
   ]
  },
  {
   "cell_type": "code",
   "execution_count": 22,
   "id": "82cc7a2d-d362-4e1c-96a6-243e5b77bf44",
   "metadata": {
    "execution": {
     "iopub.execute_input": "2023-03-06T01:25:12.751544Z",
     "iopub.status.busy": "2023-03-06T01:25:12.750572Z",
     "iopub.status.idle": "2023-03-06T01:25:12.755284Z",
     "shell.execute_reply": "2023-03-06T01:25:12.755284Z",
     "shell.execute_reply.started": "2023-03-06T01:25:12.751544Z"
    },
    "tags": []
   },
   "outputs": [
    {
     "data": {
      "text/plain": [
       "OutDegreeView({'B': 1, 'A': 0, 'C': 1, 'D': 1, 'E': 1, 'F': 2, 'G': 3, 'I': 0, 'H': 2})"
      ]
     },
     "execution_count": 22,
     "metadata": {},
     "output_type": "execute_result"
    }
   ],
   "source": [
    "graph.out_degree()"
   ]
  },
  {
   "cell_type": "code",
   "execution_count": 24,
   "id": "75a1a296-cd18-4161-8007-d1f85d9fee40",
   "metadata": {
    "execution": {
     "iopub.execute_input": "2023-03-06T02:08:51.000719Z",
     "iopub.status.busy": "2023-03-06T02:08:50.999724Z",
     "iopub.status.idle": "2023-03-06T02:08:51.004492Z",
     "shell.execute_reply": "2023-03-06T02:08:51.004492Z",
     "shell.execute_reply.started": "2023-03-06T02:08:51.000719Z"
    },
    "tags": []
   },
   "outputs": [
    {
     "name": "stdout",
     "output_type": "stream",
     "text": [
      "P(1) = 4/9\n",
      "P(3) = 1/9\n",
      "P(2) = 2/9\n",
      "P(0) = 2/9\n"
     ]
    }
   ],
   "source": [
    "# In-degree distribution\n",
    "\n",
    "for (degree, freq) in Counter(dict(graph.in_degree).values()).items():\n",
    "    print(f\"P({degree}) = {Fraction(freq, 9)}\")"
   ]
  },
  {
   "cell_type": "code",
   "execution_count": 26,
   "id": "4c2618d8-9918-4cb9-a0a5-c3bb812f6359",
   "metadata": {
    "execution": {
     "iopub.execute_input": "2023-03-06T02:10:03.690325Z",
     "iopub.status.busy": "2023-03-06T02:10:03.689326Z",
     "iopub.status.idle": "2023-03-06T02:10:03.694007Z",
     "shell.execute_reply": "2023-03-06T02:10:03.694007Z",
     "shell.execute_reply.started": "2023-03-06T02:10:03.690325Z"
    },
    "tags": []
   },
   "outputs": [
    {
     "name": "stdout",
     "output_type": "stream",
     "text": [
      "P(1) = 4/9\n",
      "P(0) = 2/9\n",
      "P(2) = 2/9\n",
      "P(3) = 1/9\n"
     ]
    }
   ],
   "source": [
    "# Out-degree distribution\n",
    "\n",
    "for (degree, freq) in Counter(dict(graph.out_degree).values()).items():\n",
    "    print(f\"P({degree}) = {Fraction(freq, 9)}\")"
   ]
  },
  {
   "cell_type": "markdown",
   "id": "bb82e2a2-0b92-4d07-883d-e3fdb75125bf",
   "metadata": {},
   "source": [
    "## ***Degree distribution in real networks***"
   ]
  },
  {
   "cell_type": "code",
   "execution_count": 27,
   "id": "ef33ad76-f20d-420c-8739-ae62a61389c1",
   "metadata": {
    "execution": {
     "iopub.execute_input": "2023-03-06T02:50:40.955182Z",
     "iopub.status.busy": "2023-03-06T02:50:40.954187Z",
     "iopub.status.idle": "2023-03-06T02:50:40.958553Z",
     "shell.execute_reply": "2023-03-06T02:50:40.958553Z",
     "shell.execute_reply.started": "2023-03-06T02:50:40.955182Z"
    },
    "tags": []
   },
   "outputs": [],
   "source": [
    "# When plotting the log of degrees in X axis, and log of fraction of nodes in Y axis, they tend to form more/less straight lines\n",
    "# Degree distributions generaly look like straight lines on a log-log scale\n",
    "# This is also known as Power law"
   ]
  },
  {
   "cell_type": "markdown",
   "id": "daf44297-124e-4949-992f-c1f608e1e04e",
   "metadata": {},
   "source": [
    "# ***$P(k) = Ck^{-\\alpha}$***"
   ]
  },
  {
   "cell_type": "code",
   "execution_count": 28,
   "id": "dd8a2fee-08b0-480f-8e33-d1457856a16e",
   "metadata": {
    "execution": {
     "iopub.execute_input": "2023-03-06T02:52:02.504205Z",
     "iopub.status.busy": "2023-03-06T02:52:02.504205Z",
     "iopub.status.idle": "2023-03-06T02:52:02.508768Z",
     "shell.execute_reply": "2023-03-06T02:52:02.507759Z",
     "shell.execute_reply.started": "2023-03-06T02:52:02.504205Z"
    },
    "tags": []
   },
   "outputs": [],
   "source": [
    "# Where alpha and C are constants. "
   ]
  },
  {
   "cell_type": "code",
   "execution_count": 29,
   "id": "494a6452-2073-4456-9d17-95bf7cd54be6",
   "metadata": {
    "execution": {
     "iopub.execute_input": "2023-03-06T02:54:16.682054Z",
     "iopub.status.busy": "2023-03-06T02:54:16.681047Z",
     "iopub.status.idle": "2023-03-06T02:54:16.685876Z",
     "shell.execute_reply": "2023-03-06T02:54:16.684869Z",
     "shell.execute_reply.started": "2023-03-06T02:54:16.682054Z"
    },
    "tags": []
   },
   "outputs": [],
   "source": [
    "# In Power law degree distributions, most nodes have small degrees while few nodes have very very large degrees.\n",
    "\n",
    "# Why does this happen? \n",
    "# Why is this common in real world networks?"
   ]
  },
  {
   "cell_type": "code",
   "execution_count": 30,
   "id": "41b0186e-2d0d-40a8-baf7-e007b761e19c",
   "metadata": {
    "execution": {
     "iopub.execute_input": "2023-03-06T03:00:34.265388Z",
     "iopub.status.busy": "2023-03-06T03:00:34.265388Z",
     "iopub.status.idle": "2023-03-06T03:00:34.269845Z",
     "shell.execute_reply": "2023-03-06T03:00:34.268839Z",
     "shell.execute_reply.started": "2023-03-06T03:00:34.265388Z"
    },
    "tags": []
   },
   "outputs": [],
   "source": [
    "# To answer this question, we build models that generate networks and test whether these networks have the expected properties\n",
    "# i.e do the networks built by the models produce a Power law degree distribution?"
   ]
  },
  {
   "cell_type": "markdown",
   "id": "37d91061-35c9-4a8d-9a10-1fb3c2c9561c",
   "metadata": {},
   "source": [
    "## ***Preferential Attachment Model***"
   ]
  },
  {
   "cell_type": "code",
   "execution_count": 31,
   "id": "e8ca7024-d6a8-4889-94ba-f38b0d19f66e",
   "metadata": {
    "execution": {
     "iopub.execute_input": "2023-03-06T03:04:03.969884Z",
     "iopub.status.busy": "2023-03-06T03:04:03.969884Z",
     "iopub.status.idle": "2023-03-06T03:04:03.974479Z",
     "shell.execute_reply": "2023-03-06T03:04:03.973454Z",
     "shell.execute_reply.started": "2023-03-06T03:04:03.969884Z"
    },
    "tags": []
   },
   "outputs": [],
   "source": [
    "# Preferential attachment model \n",
    "# First, we start with two nodes connected by an edge\n",
    "# Next, at each step, create a new node and link the new node to one existing node\n",
    "# However, there is a criteria to pick the existing node to attach to.\n",
    "# It is chosen randomly with a probability proportional to the node's current degree."
   ]
  },
  {
   "cell_type": "markdown",
   "id": "91f847ac-64a5-4bd2-8a69-41b2bac124a6",
   "metadata": {},
   "source": [
    "# ***Probability of connecting to a node u with degree $k_{u}$ is $\\frac{k_{u}}{{N}}$***"
   ]
  },
  {
   "cell_type": "code",
   "execution_count": 33,
   "id": "88184e1e-6965-4c9c-a023-45d061d1b0b8",
   "metadata": {
    "execution": {
     "iopub.execute_input": "2023-03-06T03:11:21.643997Z",
     "iopub.status.busy": "2023-03-06T03:11:21.642997Z",
     "iopub.status.idle": "2023-03-06T03:11:21.648273Z",
     "shell.execute_reply": "2023-03-06T03:11:21.647254Z",
     "shell.execute_reply.started": "2023-03-06T03:11:21.643997Z"
    },
    "tags": []
   },
   "outputs": [],
   "source": [
    "# i.e. degree of the said node divided by the number nodes"
   ]
  },
  {
   "cell_type": "code",
   "execution_count": 34,
   "id": "2b459bad-30a2-4014-893b-49ea1177940d",
   "metadata": {
    "execution": {
     "iopub.execute_input": "2023-03-06T03:18:41.843606Z",
     "iopub.status.busy": "2023-03-06T03:18:41.842608Z",
     "iopub.status.idle": "2023-03-06T03:18:41.846789Z",
     "shell.execute_reply": "2023-03-06T03:18:41.846789Z",
     "shell.execute_reply.started": "2023-03-06T03:18:41.843606Z"
    },
    "tags": []
   },
   "outputs": [],
   "source": [
    "# As the degrees of a node increases, the probability of it acquiring a new edge increases\n",
    "# This is the Power law (Rich gets richer and poor gets poorer)\n",
    "# This model allows us to hypothesize these properties of real world networks\n",
    "# e.g An actor who has co-starred with many popular actors is more likely to bring in a popular actor to a crew than a less popular actor with \n",
    "# little exposure."
   ]
  },
  {
   "cell_type": "code",
   "execution_count": 36,
   "id": "cde367f7-d1f0-43a0-ab13-2ea72d168ced",
   "metadata": {
    "execution": {
     "iopub.execute_input": "2023-03-06T03:20:33.010482Z",
     "iopub.status.busy": "2023-03-06T03:20:33.009481Z",
     "iopub.status.idle": "2023-03-06T03:20:37.335241Z",
     "shell.execute_reply": "2023-03-06T03:20:37.334215Z",
     "shell.execute_reply.started": "2023-03-06T03:20:33.010482Z"
    },
    "tags": []
   },
   "outputs": [],
   "source": [
    "# Power law degree graphs in NetworkX\n",
    "\n",
    "graph = nx.barabasi_albert_graph(n = 1_000_000, m = 1)"
   ]
  },
  {
   "cell_type": "code",
   "execution_count": 45,
   "id": "0ff86887-bcbe-4d8f-9468-9f2a6b5c3abc",
   "metadata": {
    "execution": {
     "iopub.execute_input": "2023-03-06T03:23:30.700063Z",
     "iopub.status.busy": "2023-03-06T03:23:30.699171Z",
     "iopub.status.idle": "2023-03-06T03:23:30.921948Z",
     "shell.execute_reply": "2023-03-06T03:23:30.921948Z",
     "shell.execute_reply.started": "2023-03-06T03:23:30.700063Z"
    },
    "tags": []
   },
   "outputs": [],
   "source": [
    "degrees = np.array(list(dict(graph.degree()).values()), dtype = np.int64)"
   ]
  },
  {
   "cell_type": "code",
   "execution_count": 47,
   "id": "c7936a46-c80c-4ad0-a34f-d7f5e904e72e",
   "metadata": {
    "execution": {
     "iopub.execute_input": "2023-03-06T03:23:38.519331Z",
     "iopub.status.busy": "2023-03-06T03:23:38.519331Z",
     "iopub.status.idle": "2023-03-06T03:23:38.526213Z",
     "shell.execute_reply": "2023-03-06T03:23:38.525204Z",
     "shell.execute_reply.started": "2023-03-06T03:23:38.519331Z"
    },
    "tags": []
   },
   "outputs": [
    {
     "data": {
      "text/plain": [
       "array([ 209, 1672, 1228, ...,    1,    1,    1], dtype=int64)"
      ]
     },
     "execution_count": 47,
     "metadata": {},
     "output_type": "execute_result"
    }
   ],
   "source": [
    "degrees"
   ]
  },
  {
   "cell_type": "code",
   "execution_count": 52,
   "id": "48391110-aca2-45ac-b5d1-d67b5844ca3a",
   "metadata": {
    "execution": {
     "iopub.execute_input": "2023-03-06T03:27:19.699474Z",
     "iopub.status.busy": "2023-03-06T03:27:19.699474Z",
     "iopub.status.idle": "2023-03-06T03:27:19.704689Z",
     "shell.execute_reply": "2023-03-06T03:27:19.703675Z",
     "shell.execute_reply.started": "2023-03-06T03:27:19.699474Z"
    },
    "tags": []
   },
   "outputs": [
    {
     "data": {
      "text/plain": [
       "1000000"
      ]
     },
     "execution_count": 52,
     "metadata": {},
     "output_type": "execute_result"
    }
   ],
   "source": [
    "graph.number_of_nodes()"
   ]
  },
  {
   "cell_type": "code",
   "execution_count": 53,
   "id": "6e901e7f-43db-4015-968b-3e635bf0ef14",
   "metadata": {
    "execution": {
     "iopub.execute_input": "2023-03-06T03:27:44.196905Z",
     "iopub.status.busy": "2023-03-06T03:27:44.195944Z",
     "iopub.status.idle": "2023-03-06T03:27:44.287761Z",
     "shell.execute_reply": "2023-03-06T03:27:44.286752Z",
     "shell.execute_reply.started": "2023-03-06T03:27:44.196905Z"
    },
    "tags": []
   },
   "outputs": [],
   "source": [
    "degrees_and_freq = sorted([(degree, freq) for (degree, freq) in Counter(degrees).items()], key = lambda tup: tup[1], reverse = True)"
   ]
  },
  {
   "cell_type": "code",
   "execution_count": 54,
   "id": "449078f2-e1ec-4571-801f-6749ed6debd6",
   "metadata": {
    "execution": {
     "iopub.execute_input": "2023-03-06T03:29:27.370639Z",
     "iopub.status.busy": "2023-03-06T03:29:27.370639Z",
     "iopub.status.idle": "2023-03-06T03:29:27.374584Z",
     "shell.execute_reply": "2023-03-06T03:29:27.374584Z",
     "shell.execute_reply.started": "2023-03-06T03:29:27.370639Z"
    },
    "tags": []
   },
   "outputs": [],
   "source": [
    "lookup = dict()\n",
    "\n",
    "for d_n_f in degrees_and_freq:\n",
    "    lookup[d_n_f[0]] = d_n_f[1] / 1000000"
   ]
  },
  {
   "cell_type": "code",
   "execution_count": 56,
   "id": "04374318-2718-45dc-a521-139d1bff2f19",
   "metadata": {
    "execution": {
     "iopub.execute_input": "2023-03-06T03:29:42.858923Z",
     "iopub.status.busy": "2023-03-06T03:29:42.857936Z",
     "iopub.status.idle": "2023-03-06T03:29:42.861462Z",
     "shell.execute_reply": "2023-03-06T03:29:42.861462Z",
     "shell.execute_reply.started": "2023-03-06T03:29:42.858923Z"
    },
    "tags": []
   },
   "outputs": [],
   "source": [
    "lookup;"
   ]
  },
  {
   "cell_type": "code",
   "execution_count": 74,
   "id": "cad727ce-42f6-4ee4-8ed2-9d9f99db2ed2",
   "metadata": {
    "execution": {
     "iopub.execute_input": "2023-03-06T03:36:14.133026Z",
     "iopub.status.busy": "2023-03-06T03:36:14.133026Z",
     "iopub.status.idle": "2023-03-06T03:36:14.563802Z",
     "shell.execute_reply": "2023-03-06T03:36:14.563802Z",
     "shell.execute_reply.started": "2023-03-06T03:36:14.133026Z"
    },
    "tags": []
   },
   "outputs": [
    {
     "data": {
      "image/png": "[encoded data removed]",
      "text/plain": [
       "<Figure size 1500x1000 with 1 Axes>"
      ]
     },
     "metadata": {},
     "output_type": "display_data"
    }
   ],
   "source": [
    "fig, axes = plt.subplots(nrows = 1, ncols = 1)\n",
    "fig.set_size_inches(15, 10)\n",
    "axes.plot(lookup.keys(), lookup.values(), color = \"red\", marker = \"o\", linestyle = \"None\", markeredgecolor = \"black\")\n",
    "axes.set_xlabel(\"Degrees\")\n",
    "axes.set_xscale(\"log\")\n",
    "axes.set_yscale(\"log\")\n",
    "axes.set_ylabel(\"Fraction of nodes\")\n",
    "plt.show()"
   ]
  },
  {
   "cell_type": "code",
   "execution_count": null,
   "id": "fde75fdc-4088-4146-abca-da7437236eb3",
   "metadata": {},
   "outputs": [],
   "source": []
  }
 ],
 "metadata": {
  "kernelspec": {
   "display_name": "Python 3 (ipykernel)",
   "language": "python",
   "name": "python3"
  },
  "language_info": {
   "codemirror_mode": {
    "name": "ipython",
    "version": 3
   },
   "file_extension": ".py",
   "mimetype": "text/x-python",
   "name": "python",
   "nbconvert_exporter": "python",
   "pygments_lexer": "ipython3",
   "version": "3.11.2"
  }
 },
 "nbformat": 4,
 "nbformat_minor": 5
}
