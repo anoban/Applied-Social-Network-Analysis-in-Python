{
 "cells": [
  {
   "cell_type": "code",
   "execution_count": 20,
   "id": "3c8d1b23-d422-4db8-a09c-9ff71a36da58",
   "metadata": {
    "execution": {
     "iopub.execute_input": "2023-02-11T00:29:51.041788Z",
     "iopub.status.busy": "2023-02-11T00:29:51.041788Z",
     "iopub.status.idle": "2023-02-11T00:29:51.045325Z",
     "shell.execute_reply": "2023-02-11T00:29:51.045325Z",
     "shell.execute_reply.started": "2023-02-11T00:29:51.041788Z"
    },
    "tags": []
   },
   "outputs": [],
   "source": [
    "import networkx as nx\n",
    "import matplotlib.pyplot as plt"
   ]
  },
  {
   "cell_type": "code",
   "execution_count": 2,
   "id": "70d470c0-f34e-4be3-9500-1fc6e8c03987",
   "metadata": {
    "execution": {
     "iopub.execute_input": "2023-02-08T11:06:25.711896Z",
     "iopub.status.busy": "2023-02-08T11:06:25.711896Z",
     "iopub.status.idle": "2023-02-08T11:06:25.715645Z",
     "shell.execute_reply": "2023-02-08T11:06:25.715645Z",
     "shell.execute_reply.started": "2023-02-08T11:06:25.711896Z"
    },
    "tags": []
   },
   "outputs": [],
   "source": [
    "graph = nx.Graph()\n",
    "\n",
    "graph.add_edge(\"A\", \"B\", weight = 6, relation = \"friend\")\n",
    "graph.add_edge(\"A\", \"D\", weight = 4.2, relation = \"foe\")"
   ]
  },
  {
   "cell_type": "code",
   "execution_count": 6,
   "id": "3765d35e-008e-4ce2-86a4-9b76eaa0c276",
   "metadata": {
    "execution": {
     "iopub.execute_input": "2023-02-08T11:08:18.463333Z",
     "iopub.status.busy": "2023-02-08T11:08:18.463333Z",
     "iopub.status.idle": "2023-02-08T11:08:18.468630Z",
     "shell.execute_reply": "2023-02-08T11:08:18.468630Z",
     "shell.execute_reply.started": "2023-02-08T11:08:18.463333Z"
    },
    "tags": []
   },
   "outputs": [
    {
     "data": {
      "text/plain": [
       "EdgeView([('A', 'B'), ('A', 'D')])"
      ]
     },
     "execution_count": 6,
     "metadata": {},
     "output_type": "execute_result"
    }
   ],
   "source": [
    "# get info about the edges\n",
    "\n",
    "graph.edges()"
   ]
  },
  {
   "cell_type": "code",
   "execution_count": 7,
   "id": "24beef53-945f-45ff-b19d-3328ef1552b1",
   "metadata": {
    "execution": {
     "iopub.execute_input": "2023-02-08T11:08:18.909165Z",
     "iopub.status.busy": "2023-02-08T11:08:18.909165Z",
     "iopub.status.idle": "2023-02-08T11:08:18.913529Z",
     "shell.execute_reply": "2023-02-08T11:08:18.913529Z",
     "shell.execute_reply.started": "2023-02-08T11:08:18.909165Z"
    },
    "tags": []
   },
   "outputs": [
    {
     "data": {
      "text/plain": [
       "EdgeDataView([('A', 'B', {'weight': 6, 'relation': 'friend'}), ('A', 'D', {'weight': 4.2, 'relation': 'foe'})])"
      ]
     },
     "execution_count": 7,
     "metadata": {},
     "output_type": "execute_result"
    }
   ],
   "source": [
    "# get info about the edges and edge attributes\n",
    "# these edge attributes are returned in a dict\n",
    "\n",
    "graph.edges(data = True)"
   ]
  },
  {
   "cell_type": "code",
   "execution_count": 10,
   "id": "d07a6f01-8ce7-431c-a108-0b0177d041bc",
   "metadata": {
    "execution": {
     "iopub.execute_input": "2023-02-08T11:09:15.333822Z",
     "iopub.status.busy": "2023-02-08T11:09:15.333822Z",
     "iopub.status.idle": "2023-02-08T11:09:15.338610Z",
     "shell.execute_reply": "2023-02-08T11:09:15.338610Z",
     "shell.execute_reply.started": "2023-02-08T11:09:15.333822Z"
    },
    "tags": []
   },
   "outputs": [
    {
     "data": {
      "text/plain": [
       "EdgeDataView([('A', 'B', 6), ('A', 'D', 4.2)])"
      ]
     },
     "execution_count": 10,
     "metadata": {},
     "output_type": "execute_result"
    }
   ],
   "source": [
    "graph.edges(data = \"weight\")"
   ]
  },
  {
   "cell_type": "code",
   "execution_count": 11,
   "id": "42c09cfe-6921-46a4-aff6-14f6d66ce806",
   "metadata": {
    "execution": {
     "iopub.execute_input": "2023-02-08T11:09:21.765276Z",
     "iopub.status.busy": "2023-02-08T11:09:21.764276Z",
     "iopub.status.idle": "2023-02-08T11:09:21.769041Z",
     "shell.execute_reply": "2023-02-08T11:09:21.769041Z",
     "shell.execute_reply.started": "2023-02-08T11:09:21.765276Z"
    },
    "tags": []
   },
   "outputs": [
    {
     "data": {
      "text/plain": [
       "EdgeDataView([('A', 'B', 'friend'), ('A', 'D', 'foe')])"
      ]
     },
     "execution_count": 11,
     "metadata": {},
     "output_type": "execute_result"
    }
   ],
   "source": [
    "graph.edges(data = \"relation\")"
   ]
  },
  {
   "cell_type": "code",
   "execution_count": 13,
   "id": "c621b436-92eb-4596-8286-49a303f80794",
   "metadata": {
    "execution": {
     "iopub.execute_input": "2023-02-08T11:13:58.806837Z",
     "iopub.status.busy": "2023-02-08T11:13:58.805857Z",
     "iopub.status.idle": "2023-02-08T11:13:58.810159Z",
     "shell.execute_reply": "2023-02-08T11:13:58.810159Z",
     "shell.execute_reply.started": "2023-02-08T11:13:58.805857Z"
    },
    "tags": []
   },
   "outputs": [
    {
     "data": {
      "text/plain": [
       "{'weight': 6, 'relation': 'friend'}"
      ]
     },
     "execution_count": 13,
     "metadata": {},
     "output_type": "execute_result"
    }
   ],
   "source": [
    "# this is okay as long as you are working with small networks\n",
    "# but when the network gets larger you would not want to list the attributes of all nodes\n",
    "# we can access the attributes of certain nodes like this:\n",
    "\n",
    "graph.edges[\"A\", \"B\"]"
   ]
  },
  {
   "cell_type": "code",
   "execution_count": 17,
   "id": "998ebdc7-ce79-4ca3-9cd1-7b7c6a7dc9db",
   "metadata": {
    "execution": {
     "iopub.execute_input": "2023-02-08T11:15:54.376060Z",
     "iopub.status.busy": "2023-02-08T11:15:54.376060Z",
     "iopub.status.idle": "2023-02-08T11:15:54.380834Z",
     "shell.execute_reply": "2023-02-08T11:15:54.380834Z",
     "shell.execute_reply.started": "2023-02-08T11:15:54.376060Z"
    },
    "tags": []
   },
   "outputs": [
    {
     "data": {
      "text/plain": [
       "{'weight': 6, 'relation': 'friend'}"
      ]
     },
     "execution_count": 17,
     "metadata": {},
     "output_type": "execute_result"
    }
   ],
   "source": [
    "# the order of args does not matter as long as the graph is an undirected graph\n",
    "\n",
    "graph.edges[\"B\", \"A\"]"
   ]
  },
  {
   "cell_type": "code",
   "execution_count": 18,
   "id": "182ac94c-a5b5-4184-96cc-9c7891fd5edc",
   "metadata": {
    "execution": {
     "iopub.execute_input": "2023-02-08T11:15:54.854394Z",
     "iopub.status.busy": "2023-02-08T11:15:54.854394Z",
     "iopub.status.idle": "2023-02-08T11:15:54.859063Z",
     "shell.execute_reply": "2023-02-08T11:15:54.859063Z",
     "shell.execute_reply.started": "2023-02-08T11:15:54.854394Z"
    },
    "tags": []
   },
   "outputs": [
    {
     "data": {
      "text/plain": [
       "'friend'"
      ]
     },
     "execution_count": 18,
     "metadata": {},
     "output_type": "execute_result"
    }
   ],
   "source": [
    "graph.edges[\"A\", \"B\"].get(\"relation\")"
   ]
  },
  {
   "cell_type": "code",
   "execution_count": 19,
   "id": "daa364c6-d749-421c-9079-365c2f7f4183",
   "metadata": {
    "execution": {
     "iopub.execute_input": "2023-02-08T11:18:17.223519Z",
     "iopub.status.busy": "2023-02-08T11:18:17.222517Z",
     "iopub.status.idle": "2023-02-08T11:18:17.227853Z",
     "shell.execute_reply": "2023-02-08T11:18:17.226841Z",
     "shell.execute_reply.started": "2023-02-08T11:18:17.223519Z"
    },
    "tags": []
   },
   "outputs": [],
   "source": [
    "dir_graph = nx.DiGraph()\n",
    "\n",
    "dir_graph.add_edge(\"A\", \"B\", weight = 12.75, relation = \"foe\", sign = \"+\")\n",
    "dir_graph.add_edge(\"A\", \"C\", weight = 2.5, relation = \"feiend\", sign = \"-\")\n",
    "dir_graph.add_edge(\"C\", \"B\", weight = 1.75, relation = \"family\", sign = \"-\")"
   ]
  },
  {
   "cell_type": "code",
   "execution_count": 21,
   "id": "003769d2-bffa-46bd-b67a-2a7893066cb4",
   "metadata": {
    "execution": {
     "iopub.execute_input": "2023-02-08T11:18:32.056066Z",
     "iopub.status.busy": "2023-02-08T11:18:32.054976Z",
     "iopub.status.idle": "2023-02-08T11:18:32.060037Z",
     "shell.execute_reply": "2023-02-08T11:18:32.060037Z",
     "shell.execute_reply.started": "2023-02-08T11:18:32.056066Z"
    },
    "tags": []
   },
   "outputs": [
    {
     "data": {
      "text/plain": [
       "OutEdgeView([('A', 'B'), ('A', 'C'), ('C', 'B')])"
      ]
     },
     "execution_count": 21,
     "metadata": {},
     "output_type": "execute_result"
    }
   ],
   "source": [
    "dir_graph.edges()"
   ]
  },
  {
   "cell_type": "code",
   "execution_count": 22,
   "id": "423f2624-8985-4a34-a95c-217a6a529fb3",
   "metadata": {
    "execution": {
     "iopub.execute_input": "2023-02-08T11:18:38.007585Z",
     "iopub.status.busy": "2023-02-08T11:18:38.007585Z",
     "iopub.status.idle": "2023-02-08T11:18:38.012316Z",
     "shell.execute_reply": "2023-02-08T11:18:38.012316Z",
     "shell.execute_reply.started": "2023-02-08T11:18:38.007585Z"
    },
    "tags": []
   },
   "outputs": [
    {
     "data": {
      "text/plain": [
       "OutEdgeDataView([('A', 'B', {'weight': 12.75, 'relation': 'foe', 'sign': '+'}), ('A', 'C', {'weight': 2.5, 'relation': 'feiend', 'sign': '-'}), ('C', 'B', {'weight': 1.75, 'relation': 'family', 'sign': '-'})])"
      ]
     },
     "execution_count": 22,
     "metadata": {},
     "output_type": "execute_result"
    }
   ],
   "source": [
    "dir_graph.edges(data = True)"
   ]
  },
  {
   "cell_type": "code",
   "execution_count": 23,
   "id": "4bf414e9-5ad4-45a1-8f54-ad27cbaea8b2",
   "metadata": {
    "execution": {
     "iopub.execute_input": "2023-02-08T11:18:51.830472Z",
     "iopub.status.busy": "2023-02-08T11:18:51.830472Z",
     "iopub.status.idle": "2023-02-08T11:18:51.835982Z",
     "shell.execute_reply": "2023-02-08T11:18:51.834971Z",
     "shell.execute_reply.started": "2023-02-08T11:18:51.830472Z"
    },
    "tags": []
   },
   "outputs": [
    {
     "data": {
      "text/plain": [
       "OutEdgeDataView([('A', 'B', '+'), ('A', 'C', '-'), ('C', 'B', '-')])"
      ]
     },
     "execution_count": 23,
     "metadata": {},
     "output_type": "execute_result"
    }
   ],
   "source": [
    "dir_graph.edges(data = \"sign\")"
   ]
  },
  {
   "cell_type": "code",
   "execution_count": 24,
   "id": "1d7623d0-bf6d-46d8-bbda-31e89be97727",
   "metadata": {
    "execution": {
     "iopub.execute_input": "2023-02-08T11:18:59.913321Z",
     "iopub.status.busy": "2023-02-08T11:18:59.912331Z",
     "iopub.status.idle": "2023-02-08T11:18:59.917491Z",
     "shell.execute_reply": "2023-02-08T11:18:59.917491Z",
     "shell.execute_reply.started": "2023-02-08T11:18:59.913321Z"
    },
    "tags": []
   },
   "outputs": [
    {
     "data": {
      "text/plain": [
       "OutEdgeDataView([('A', 'B', 12.75), ('A', 'C', 2.5), ('C', 'B', 1.75)])"
      ]
     },
     "execution_count": 24,
     "metadata": {},
     "output_type": "execute_result"
    }
   ],
   "source": [
    "dir_graph.edges(data = \"weight\")"
   ]
  },
  {
   "cell_type": "code",
   "execution_count": 26,
   "id": "eac9256c-32a5-454c-92ce-ab7430380f23",
   "metadata": {
    "execution": {
     "iopub.execute_input": "2023-02-08T11:19:24.055806Z",
     "iopub.status.busy": "2023-02-08T11:19:24.055806Z",
     "iopub.status.idle": "2023-02-08T11:19:24.060278Z",
     "shell.execute_reply": "2023-02-08T11:19:24.060278Z",
     "shell.execute_reply.started": "2023-02-08T11:19:24.055806Z"
    },
    "tags": []
   },
   "outputs": [
    {
     "data": {
      "text/plain": [
       "{'weight': 12.75, 'relation': 'foe', 'sign': '+'}"
      ]
     },
     "execution_count": 26,
     "metadata": {},
     "output_type": "execute_result"
    }
   ],
   "source": [
    "# A -> B\n",
    "dir_graph.edges[\"A\", \"B\"]"
   ]
  },
  {
   "cell_type": "code",
   "execution_count": 28,
   "id": "b8ba6120-d5c4-4ddf-b50b-4352d1ad1946",
   "metadata": {
    "execution": {
     "iopub.execute_input": "2023-02-08T11:20:04.552257Z",
     "iopub.status.busy": "2023-02-08T11:20:04.552257Z",
     "iopub.status.idle": "2023-02-08T11:20:04.567902Z",
     "shell.execute_reply": "2023-02-08T11:20:04.566896Z",
     "shell.execute_reply.started": "2023-02-08T11:20:04.552257Z"
    },
    "tags": []
   },
   "outputs": [
    {
     "ename": "KeyError",
     "evalue": "'A'",
     "output_type": "error",
     "traceback": [
      "\u001b[1;31m---------------------------------------------------------------------------\u001b[0m",
      "\u001b[1;31mKeyError\u001b[0m                                  Traceback (most recent call last)",
      "Cell \u001b[1;32mIn[28], line 3\u001b[0m\n\u001b[0;32m      1\u001b[0m \u001b[38;5;66;03m# B -> A\u001b[39;00m\n\u001b[0;32m      2\u001b[0m \u001b[38;5;66;03m# since this is a directed graph, this will throw an error\u001b[39;00m\n\u001b[1;32m----> 3\u001b[0m \u001b[43mdir_graph\u001b[49m\u001b[38;5;241;43m.\u001b[39;49m\u001b[43medges\u001b[49m\u001b[43m[\u001b[49m\u001b[38;5;124;43m\"\u001b[39;49m\u001b[38;5;124;43mB\u001b[39;49m\u001b[38;5;124;43m\"\u001b[39;49m\u001b[43m,\u001b[49m\u001b[43m \u001b[49m\u001b[38;5;124;43m\"\u001b[39;49m\u001b[38;5;124;43mA\u001b[39;49m\u001b[38;5;124;43m\"\u001b[39;49m\u001b[43m]\u001b[49m\n",
      "File \u001b[1;32mC:\\Program Files\\Python311\\Lib\\site-packages\\networkx\\classes\\reportviews.py:1094\u001b[0m, in \u001b[0;36mOutEdgeView.__getitem__\u001b[1;34m(self, e)\u001b[0m\n\u001b[0;32m   1089\u001b[0m     \u001b[38;5;28;01mraise\u001b[39;00m nx\u001b[38;5;241m.\u001b[39mNetworkXError(\n\u001b[0;32m   1090\u001b[0m         \u001b[38;5;124mf\u001b[39m\u001b[38;5;124m\"\u001b[39m\u001b[38;5;132;01m{\u001b[39;00m\u001b[38;5;28mtype\u001b[39m(\u001b[38;5;28mself\u001b[39m)\u001b[38;5;241m.\u001b[39m\u001b[38;5;18m__name__\u001b[39m\u001b[38;5;132;01m}\u001b[39;00m\u001b[38;5;124m does not support slicing, \u001b[39m\u001b[38;5;124m\"\u001b[39m\n\u001b[0;32m   1091\u001b[0m         \u001b[38;5;124mf\u001b[39m\u001b[38;5;124m\"\u001b[39m\u001b[38;5;124mtry list(G.edges)[\u001b[39m\u001b[38;5;132;01m{\u001b[39;00me\u001b[38;5;241m.\u001b[39mstart\u001b[38;5;132;01m}\u001b[39;00m\u001b[38;5;124m:\u001b[39m\u001b[38;5;132;01m{\u001b[39;00me\u001b[38;5;241m.\u001b[39mstop\u001b[38;5;132;01m}\u001b[39;00m\u001b[38;5;124m:\u001b[39m\u001b[38;5;132;01m{\u001b[39;00me\u001b[38;5;241m.\u001b[39mstep\u001b[38;5;132;01m}\u001b[39;00m\u001b[38;5;124m]\u001b[39m\u001b[38;5;124m\"\u001b[39m\n\u001b[0;32m   1092\u001b[0m     )\n\u001b[0;32m   1093\u001b[0m u, v \u001b[38;5;241m=\u001b[39m e\n\u001b[1;32m-> 1094\u001b[0m \u001b[38;5;28;01mreturn\u001b[39;00m \u001b[38;5;28;43mself\u001b[39;49m\u001b[38;5;241;43m.\u001b[39;49m\u001b[43m_adjdict\u001b[49m\u001b[43m[\u001b[49m\u001b[43mu\u001b[49m\u001b[43m]\u001b[49m\u001b[43m[\u001b[49m\u001b[43mv\u001b[49m\u001b[43m]\u001b[49m\n",
      "\u001b[1;31mKeyError\u001b[0m: 'A'"
     ]
    }
   ],
   "source": [
    "# B -> A\n",
    "# since this is a directed graph, this will throw an error\n",
    "dir_graph.edges[\"B\", \"A\"]"
   ]
  },
  {
   "cell_type": "code",
   "execution_count": 34,
   "id": "18bbca0c-b326-4ecd-a30b-199869b8ee12",
   "metadata": {
    "execution": {
     "iopub.execute_input": "2023-02-08T11:34:17.127907Z",
     "iopub.status.busy": "2023-02-08T11:34:17.127907Z",
     "iopub.status.idle": "2023-02-08T11:34:17.132483Z",
     "shell.execute_reply": "2023-02-08T11:34:17.132483Z",
     "shell.execute_reply.started": "2023-02-08T11:34:17.127907Z"
    },
    "tags": []
   },
   "outputs": [
    {
     "data": {
      "text/plain": [
       "'-'"
      ]
     },
     "execution_count": 34,
     "metadata": {},
     "output_type": "execute_result"
    }
   ],
   "source": [
    "dir_graph.edges[\"C\", \"B\"].get(\"sign\")"
   ]
  },
  {
   "cell_type": "code",
   "execution_count": 35,
   "id": "ddc7ab19-9a5e-4346-b505-77cdb325d946",
   "metadata": {
    "execution": {
     "iopub.execute_input": "2023-02-08T11:34:24.041500Z",
     "iopub.status.busy": "2023-02-08T11:34:24.041500Z",
     "iopub.status.idle": "2023-02-08T11:34:24.045588Z",
     "shell.execute_reply": "2023-02-08T11:34:24.045588Z",
     "shell.execute_reply.started": "2023-02-08T11:34:24.041500Z"
    },
    "tags": []
   },
   "outputs": [
    {
     "data": {
      "text/plain": [
       "1.75"
      ]
     },
     "execution_count": 35,
     "metadata": {},
     "output_type": "execute_result"
    }
   ],
   "source": [
    "dir_graph.edges[\"C\", \"B\"].get(\"weight\")"
   ]
  },
  {
   "cell_type": "markdown",
   "id": "13346e68-31ed-430f-9dfd-f4876be8e38b",
   "metadata": {},
   "source": [
    "## ***Multi graphs***"
   ]
  },
  {
   "cell_type": "code",
   "execution_count": 55,
   "id": "38fe8b5f-f011-474d-ac6e-ae438816b862",
   "metadata": {
    "execution": {
     "iopub.execute_input": "2023-02-08T11:43:23.818342Z",
     "iopub.status.busy": "2023-02-08T11:43:23.818342Z",
     "iopub.status.idle": "2023-02-08T11:43:23.825130Z",
     "shell.execute_reply": "2023-02-08T11:43:23.824044Z",
     "shell.execute_reply.started": "2023-02-08T11:43:23.818342Z"
    },
    "tags": []
   },
   "outputs": [
    {
     "data": {
      "text/plain": [
       "0"
      ]
     },
     "execution_count": 55,
     "metadata": {},
     "output_type": "execute_result"
    }
   ],
   "source": [
    "# multi graphs are used to represent where two nodes are connected by more than 1 edge!\n",
    "# undirected multi graph\n",
    "\n",
    "multi = nx.MultiGraph()\n",
    "\n",
    "multi.add_edge(\"A\", \"B\", weight = 3.4125, relation = \"family\")\n",
    "multi.add_edge(\"A\", \"B\", weight = 32.45, relation = \"friend\")\n",
    "multi.add_edge(\"A\", \"B\", weight = 1.25, relation = \"foe\")\n",
    "multi.add_edge(\"A\", \"C\", weight = 3.5, relation = \"colleague\")"
   ]
  },
  {
   "cell_type": "code",
   "execution_count": 83,
   "id": "ea39f2ba-3787-405e-b5b1-3d3d5cadfc49",
   "metadata": {
    "execution": {
     "iopub.execute_input": "2023-02-08T12:08:16.561007Z",
     "iopub.status.busy": "2023-02-08T12:08:16.560007Z",
     "iopub.status.idle": "2023-02-08T12:08:16.660713Z",
     "shell.execute_reply": "2023-02-08T12:08:16.659704Z",
     "shell.execute_reply.started": "2023-02-08T12:08:16.561007Z"
    },
    "tags": []
   },
   "outputs": [
    {
     "data": {
      "image/png": "[encoded data removed]",
      "text/plain": [
       "<Figure size 640x480 with 1 Axes>"
      ]
     },
     "metadata": {},
     "output_type": "display_data"
    }
   ],
   "source": [
    "nx.draw(multi, with_labels = True)\n",
    "nx.draw_networkx_edges(multi, pos = nx.spring_layout(multi),\n",
    "                           label = nx.get_edge_attributes(multi, name = \"weight\"));"
   ]
  },
  {
   "cell_type": "code",
   "execution_count": 73,
   "id": "0128a6a4-0f67-430b-81a1-549ddd38c249",
   "metadata": {
    "execution": {
     "iopub.execute_input": "2023-02-08T11:54:38.522228Z",
     "iopub.status.busy": "2023-02-08T11:54:38.522228Z",
     "iopub.status.idle": "2023-02-08T11:54:38.527551Z",
     "shell.execute_reply": "2023-02-08T11:54:38.527551Z",
     "shell.execute_reply.started": "2023-02-08T11:54:38.522228Z"
    },
    "tags": []
   },
   "outputs": [
    {
     "data": {
      "text/plain": [
       "AdjacencyView({'B': {0: {'weight': 3.4125, 'relation': 'family'}, 1: {'weight': 32.45, 'relation': 'friend'}, 2: {'weight': 1.25, 'relation': 'foe'}}, 'C': {0: {'weight': 3.5, 'relation': 'colleague'}}})"
      ]
     },
     "execution_count": 73,
     "metadata": {},
     "output_type": "execute_result"
    }
   ],
   "source": [
    "# accessing node attributes in a multi graph\n",
    "# gives a view of all attributes of edges related to node A\n",
    "multi[\"A\"] "
   ]
  },
  {
   "cell_type": "code",
   "execution_count": 74,
   "id": "1230fa03-a599-4458-bf12-e3fa87bbc5ed",
   "metadata": {
    "execution": {
     "iopub.execute_input": "2023-02-08T11:54:41.080041Z",
     "iopub.status.busy": "2023-02-08T11:54:41.079042Z",
     "iopub.status.idle": "2023-02-08T11:54:41.083867Z",
     "shell.execute_reply": "2023-02-08T11:54:41.083867Z",
     "shell.execute_reply.started": "2023-02-08T11:54:41.079042Z"
    },
    "tags": []
   },
   "outputs": [
    {
     "data": {
      "text/plain": [
       "AdjacencyView({'A': {0: {'weight': 3.5, 'relation': 'colleague'}}})"
      ]
     },
     "execution_count": 74,
     "metadata": {},
     "output_type": "execute_result"
    }
   ],
   "source": [
    "multi[\"C\"]"
   ]
  },
  {
   "cell_type": "code",
   "execution_count": 76,
   "id": "c5cf9936-a3a0-44c2-91c0-9e1b10f04a23",
   "metadata": {
    "execution": {
     "iopub.execute_input": "2023-02-08T11:56:34.602412Z",
     "iopub.status.busy": "2023-02-08T11:56:34.601412Z",
     "iopub.status.idle": "2023-02-08T11:56:34.606791Z",
     "shell.execute_reply": "2023-02-08T11:56:34.606791Z",
     "shell.execute_reply.started": "2023-02-08T11:56:34.602412Z"
    },
    "tags": []
   },
   "outputs": [
    {
     "data": {
      "text/plain": [
       "AtlasView({0: {'weight': 3.4125, 'relation': 'family'}, 1: {'weight': 32.45, 'relation': 'friend'}, 2: {'weight': 1.25, 'relation': 'foe'}})"
      ]
     },
     "execution_count": 76,
     "metadata": {},
     "output_type": "execute_result"
    }
   ],
   "source": [
    "# gives the attrs of all edges associated with A & B\n",
    "multi[\"A\"][\"B\"]"
   ]
  },
  {
   "cell_type": "code",
   "execution_count": 78,
   "id": "fc9aa525-b5b5-46db-a1df-b8b80c4ef203",
   "metadata": {
    "execution": {
     "iopub.execute_input": "2023-02-08T12:07:38.377137Z",
     "iopub.status.busy": "2023-02-08T12:07:38.377137Z",
     "iopub.status.idle": "2023-02-08T12:07:38.382861Z",
     "shell.execute_reply": "2023-02-08T12:07:38.382861Z",
     "shell.execute_reply.started": "2023-02-08T12:07:38.377137Z"
    },
    "tags": []
   },
   "outputs": [
    {
     "data": {
      "text/plain": [
       "{'weight': 3.4125, 'relation': 'family'}"
      ]
     },
     "execution_count": 78,
     "metadata": {},
     "output_type": "execute_result"
    }
   ],
   "source": [
    "# gives the attrs of the 1st edges associated with A & B\n",
    "multi[\"A\"][\"B\"].get(0)"
   ]
  },
  {
   "cell_type": "code",
   "execution_count": 79,
   "id": "87d43d32-6ad5-4574-8d11-210dafeed4e7",
   "metadata": {
    "execution": {
     "iopub.execute_input": "2023-02-08T12:07:46.460727Z",
     "iopub.status.busy": "2023-02-08T12:07:46.460727Z",
     "iopub.status.idle": "2023-02-08T12:07:46.467293Z",
     "shell.execute_reply": "2023-02-08T12:07:46.466280Z",
     "shell.execute_reply.started": "2023-02-08T12:07:46.460727Z"
    },
    "tags": []
   },
   "outputs": [
    {
     "data": {
      "text/plain": [
       "3.4125"
      ]
     },
     "execution_count": 79,
     "metadata": {},
     "output_type": "execute_result"
    }
   ],
   "source": [
    "multi[\"A\"][\"B\"].get(0).get(\"weight\")"
   ]
  },
  {
   "cell_type": "code",
   "execution_count": 2,
   "id": "3c105985-d10f-41bc-95b7-77ac0b04798b",
   "metadata": {
    "execution": {
     "iopub.execute_input": "2023-02-11T00:14:27.238798Z",
     "iopub.status.busy": "2023-02-11T00:14:27.238798Z",
     "iopub.status.idle": "2023-02-11T00:14:27.281902Z",
     "shell.execute_reply": "2023-02-11T00:14:27.280894Z",
     "shell.execute_reply.started": "2023-02-11T00:14:27.238798Z"
    }
   },
   "outputs": [],
   "source": [
    "dgraph = nx.DiGraph()\n",
    "\n",
    "dgraph.add_edge(\"A\", \"C\", weight = 1.76, relation = \"employer\")\n",
    "dgraph.add_edge(\"B\", \"C\", weight = 107.6, relation = \"parent\")\n",
    "dgraph.add_edge(\"A\", \"B\", weight = 0.76, relation = \"husband\")"
   ]
  },
  {
   "cell_type": "code",
   "execution_count": 4,
   "id": "370264b9-7e7d-4110-af7e-2db8defb30cc",
   "metadata": {
    "execution": {
     "iopub.execute_input": "2023-02-11T00:14:41.665989Z",
     "iopub.status.busy": "2023-02-11T00:14:41.664921Z",
     "iopub.status.idle": "2023-02-11T00:14:41.670795Z",
     "shell.execute_reply": "2023-02-11T00:14:41.670795Z",
     "shell.execute_reply.started": "2023-02-11T00:14:41.665989Z"
    },
    "tags": []
   },
   "outputs": [
    {
     "data": {
      "text/plain": [
       "OutEdgeView([('A', 'C'), ('A', 'B'), ('B', 'C')])"
      ]
     },
     "execution_count": 4,
     "metadata": {},
     "output_type": "execute_result"
    }
   ],
   "source": [
    "dgraph.edges()"
   ]
  },
  {
   "cell_type": "code",
   "execution_count": 5,
   "id": "60a1f68b-a206-4967-a3d0-b3d7855d4d00",
   "metadata": {
    "execution": {
     "iopub.execute_input": "2023-02-11T00:14:46.785023Z",
     "iopub.status.busy": "2023-02-11T00:14:46.785023Z",
     "iopub.status.idle": "2023-02-11T00:14:46.791089Z",
     "shell.execute_reply": "2023-02-11T00:14:46.791089Z",
     "shell.execute_reply.started": "2023-02-11T00:14:46.785023Z"
    },
    "tags": []
   },
   "outputs": [
    {
     "data": {
      "text/plain": [
       "OutEdgeDataView([('A', 'C', {'weight': 1.76, 'relation': 'employer'}), ('A', 'B', {'weight': 0.76, 'relation': 'husband'}), ('B', 'C', {'weight': 107.6, 'relation': 'parent'})])"
      ]
     },
     "execution_count": 5,
     "metadata": {},
     "output_type": "execute_result"
    }
   ],
   "source": [
    "dgraph.edges(data = True)"
   ]
  },
  {
   "cell_type": "code",
   "execution_count": 7,
   "id": "dbcb15b3-6650-4011-af49-df4fead37111",
   "metadata": {
    "execution": {
     "iopub.execute_input": "2023-02-11T00:15:28.917760Z",
     "iopub.status.busy": "2023-02-11T00:15:28.916745Z",
     "iopub.status.idle": "2023-02-11T00:15:28.922464Z",
     "shell.execute_reply": "2023-02-11T00:15:28.922464Z",
     "shell.execute_reply.started": "2023-02-11T00:15:28.917760Z"
    },
    "tags": []
   },
   "outputs": [
    {
     "data": {
      "text/plain": [
       "AtlasView({'C': {'weight': 1.76, 'relation': 'employer'}, 'B': {'weight': 0.76, 'relation': 'husband'}})"
      ]
     },
     "execution_count": 7,
     "metadata": {},
     "output_type": "execute_result"
    }
   ],
   "source": [
    "dgraph[\"A\"]"
   ]
  },
  {
   "cell_type": "code",
   "execution_count": 9,
   "id": "f7ff9530-92c6-4704-adb0-f828abbe77d6",
   "metadata": {
    "execution": {
     "iopub.execute_input": "2023-02-11T00:24:18.423594Z",
     "iopub.status.busy": "2023-02-11T00:24:18.423594Z",
     "iopub.status.idle": "2023-02-11T00:24:18.431545Z",
     "shell.execute_reply": "2023-02-11T00:24:18.430526Z",
     "shell.execute_reply.started": "2023-02-11T00:24:18.423594Z"
    },
    "tags": []
   },
   "outputs": [
    {
     "data": {
      "text/plain": [
       "{'weight': 1.76, 'relation': 'employer'}"
      ]
     },
     "execution_count": 9,
     "metadata": {},
     "output_type": "execute_result"
    }
   ],
   "source": [
    "dgraph[\"A\"].get(\"C\")"
   ]
  },
  {
   "cell_type": "code",
   "execution_count": 88,
   "id": "b6e18f47-4265-424a-ab4d-a64ca42fb929",
   "metadata": {
    "execution": {
     "iopub.execute_input": "2023-02-11T00:44:31.639266Z",
     "iopub.status.busy": "2023-02-11T00:44:31.639266Z",
     "iopub.status.idle": "2023-02-11T00:44:31.739519Z",
     "shell.execute_reply": "2023-02-11T00:44:31.739519Z",
     "shell.execute_reply.started": "2023-02-11T00:44:31.639266Z"
    },
    "tags": []
   },
   "outputs": [
    {
     "data": {
      "image/png": "[encoded data removed]",
      "text/plain": [
       "<Figure size 400x400 with 1 Axes>"
      ]
     },
     "metadata": {},
     "output_type": "display_data"
    }
   ],
   "source": [
    "plt.rcParams[\"figure.figsize\"] = (4, 4)\n",
    "positions = nx.circular_layout(dgraph)\n",
    "\n",
    "nx.draw(dgraph, with_labels = True)\n",
    "nx.draw_networkx_edge_labels(dgraph, pos = positions, font_size = 8, font_color = \"red\")\n",
    "plt.show()"
   ]
  },
  {
   "cell_type": "code",
   "execution_count": 123,
   "id": "00f79a58-82e8-4f69-829d-6c3ae3fc7748",
   "metadata": {
    "execution": {
     "iopub.execute_input": "2023-02-11T00:56:34.815462Z",
     "iopub.status.busy": "2023-02-11T00:56:34.814475Z",
     "iopub.status.idle": "2023-02-11T00:56:34.821504Z",
     "shell.execute_reply": "2023-02-11T00:56:34.820498Z",
     "shell.execute_reply.started": "2023-02-11T00:56:34.815462Z"
    },
    "tags": []
   },
   "outputs": [],
   "source": [
    "mdgraph = nx.MultiDiGraph()\n",
    "\n",
    "mdgraph.add_edge(\"A\", \"B\", relation = \"friend\", weight = 2.87)\n",
    "mdgraph.add_edge(\"A\", \"B\", relation = \"partner\", weight = 5.87)\n",
    "mdgraph.add_edge(\"D\", \"B\", relation = \"father\", weight = 28.7)\n",
    "mdgraph.add_edge(\"C\", \"A\", relation = \"mother\", weight = 72.87)\n",
    "mdgraph.add_edge(\"C\", \"D\", relation = \"friend\", weight = 545.87)\n",
    "\n",
    "positions = nx.circular_layout(mdgraph)"
   ]
  },
  {
   "cell_type": "code",
   "execution_count": 124,
   "id": "63bf89fa-dacc-4d88-8cd4-1a5c90191d27",
   "metadata": {
    "execution": {
     "iopub.execute_input": "2023-02-11T00:56:35.970837Z",
     "iopub.status.busy": "2023-02-11T00:56:35.969829Z",
     "iopub.status.idle": "2023-02-11T00:56:36.082262Z",
     "shell.execute_reply": "2023-02-11T00:56:36.082262Z",
     "shell.execute_reply.started": "2023-02-11T00:56:35.970837Z"
    },
    "tags": []
   },
   "outputs": [
    {
     "data": {
      "image/png": "[encoded data removed]",
      "text/plain": [
       "<Figure size 400x400 with 1 Axes>"
      ]
     },
     "metadata": {},
     "output_type": "display_data"
    }
   ],
   "source": [
    "nx.draw(mdgraph, with_labels = True, node_color = \"red\")\n",
    "nx.draw_networkx_edge_labels(mdgraph, pos = positions, font_color = \"blue\", font_size = 10)\n",
    "plt.show()"
   ]
  },
  {
   "cell_type": "code",
   "execution_count": 125,
   "id": "6867956c-bec2-46d5-b690-a5924cd936fc",
   "metadata": {
    "execution": {
     "iopub.execute_input": "2023-02-11T00:56:36.728089Z",
     "iopub.status.busy": "2023-02-11T00:56:36.728089Z",
     "iopub.status.idle": "2023-02-11T00:56:36.733443Z",
     "shell.execute_reply": "2023-02-11T00:56:36.733443Z",
     "shell.execute_reply.started": "2023-02-11T00:56:36.728089Z"
    },
    "tags": []
   },
   "outputs": [
    {
     "data": {
      "text/plain": [
       "AdjacencyView({'B': {0: {'relation': 'friend', 'weight': 2.87}, 1: {'relation': 'partner', 'weight': 5.87}}})"
      ]
     },
     "execution_count": 125,
     "metadata": {},
     "output_type": "execute_result"
    }
   ],
   "source": [
    "mdgraph[\"A\"]"
   ]
  },
  {
   "cell_type": "code",
   "execution_count": 126,
   "id": "9d9697d4-25ad-4926-baa7-ae1c2521646e",
   "metadata": {
    "execution": {
     "iopub.execute_input": "2023-02-11T00:58:23.214214Z",
     "iopub.status.busy": "2023-02-11T00:58:23.214214Z",
     "iopub.status.idle": "2023-02-11T00:58:23.219811Z",
     "shell.execute_reply": "2023-02-11T00:58:23.218802Z",
     "shell.execute_reply.started": "2023-02-11T00:58:23.214214Z"
    },
    "tags": []
   },
   "outputs": [],
   "source": [
    "# as edges having attributes nodes can aslo have attributes\n",
    "# for example, consider a network in a workspace\n",
    "# every node will hold a position e.g. manager, cleaner, janitor, ceo and what not"
   ]
  },
  {
   "cell_type": "code",
   "execution_count": 127,
   "id": "e459e279-5e15-47aa-826b-4ac6df9a31d8",
   "metadata": {
    "execution": {
     "iopub.execute_input": "2023-02-11T01:01:49.588039Z",
     "iopub.status.busy": "2023-02-11T01:01:49.588039Z",
     "iopub.status.idle": "2023-02-11T01:01:49.594815Z",
     "shell.execute_reply": "2023-02-11T01:01:49.593807Z",
     "shell.execute_reply.started": "2023-02-11T01:01:49.588039Z"
    },
    "tags": []
   },
   "outputs": [],
   "source": [
    "graph = nx.DiGraph()\n",
    "\n",
    "graph.add_edge(\"Jamie\", \"Julian\", relation = \"Assistant\")\n",
    "graph.add_edge(\"Rose\", \"Julian\", relation = \"Supervisor\")\n",
    "graph.add_edge(\"Jane\", \"Vivian\", relation = \"Mentor\")\n",
    "graph.add_edge(\"Jamie\", \"Natalie\", relation = \"Co-Worker\")\n",
    "graph.add_edge(\"Nathan\", \"Brad\", relation = \"Project-Manager\")\n"
   ]
  },
  {
   "cell_type": "code",
   "execution_count": 141,
   "id": "2c9a4310-6b93-470e-a752-591e69fec8f7",
   "metadata": {
    "execution": {
     "iopub.execute_input": "2023-02-11T01:03:57.091562Z",
     "iopub.status.busy": "2023-02-11T01:03:57.091562Z",
     "iopub.status.idle": "2023-02-11T01:03:57.095558Z",
     "shell.execute_reply": "2023-02-11T01:03:57.095558Z",
     "shell.execute_reply.started": "2023-02-11T01:03:57.091562Z"
    },
    "tags": []
   },
   "outputs": [],
   "source": [
    "positions = nx.circular_layout(graph)"
   ]
  },
  {
   "cell_type": "code",
   "execution_count": 170,
   "id": "d82f8824-383e-404e-8e1b-56a8352612dd",
   "metadata": {
    "execution": {
     "iopub.execute_input": "2023-02-11T01:11:24.724729Z",
     "iopub.status.busy": "2023-02-11T01:11:24.724729Z",
     "iopub.status.idle": "2023-02-11T01:11:24.842291Z",
     "shell.execute_reply": "2023-02-11T01:11:24.842291Z",
     "shell.execute_reply.started": "2023-02-11T01:11:24.724729Z"
    },
    "tags": []
   },
   "outputs": [
    {
     "data": {
      "image/png": "[encoded data removed]",
      "text/plain": [
       "<Figure size 800x600 with 1 Axes>"
      ]
     },
     "metadata": {},
     "output_type": "display_data"
    }
   ],
   "source": [
    "plt.rcParams[\"figure.figsize\"] = 8, 6\n",
    "nx.draw(graph, with_labels = True, node_color = \"yellow\", font_color = \"red\", node_size = 750, pos = positions)\n",
    "nx.draw_networkx_edge_labels(graph, pos = positions, font_color = \"blue\", edge_labels = nx.get_edge_attributes(graph, \"relation\"))\n",
    "plt.show()"
   ]
  },
  {
   "cell_type": "code",
   "execution_count": 171,
   "id": "c0035eb3-4fd5-4440-ba66-da70bc73de81",
   "metadata": {
    "execution": {
     "iopub.execute_input": "2023-02-11T01:36:34.641755Z",
     "iopub.status.busy": "2023-02-11T01:36:34.641755Z",
     "iopub.status.idle": "2023-02-11T01:36:34.647098Z",
     "shell.execute_reply": "2023-02-11T01:36:34.647098Z",
     "shell.execute_reply.started": "2023-02-11T01:36:34.641755Z"
    },
    "tags": []
   },
   "outputs": [],
   "source": [
    "dgraph = nx.DiGraph()\n",
    "\n",
    "dgraph.add_edge(\"Natalie\", \"Portman\", relationship = \"father\")\n",
    "dgraph.add_edge(\"Natalie\", \"Cameroon\", relationship = \"step-father\")\n",
    "dgraph.add_edge(\"Natalie\", \"Jacob\", relationship = \"husband\")\n",
    "dgraph.add_edge(\"Natalie\", \"Julia\", relationship = \"sister\")\n",
    "dgraph.add_edge(\"Natalie\", \"Rose\", relationship = \"mother\")\n",
    "dgraph.add_edge(\"Natalie\", \"Leslie\", relationship = \"friend\")\n",
    "dgraph.add_edge(\"Natalie\", \"Camilia\", relationship = \"colleague\")\n",
    "\n",
    "positions = nx.circular_layout(dgraph)"
   ]
  },
  {
   "cell_type": "code",
   "execution_count": 178,
   "id": "9b3750b2-5185-4edb-b988-2076a07ea4d5",
   "metadata": {
    "execution": {
     "iopub.execute_input": "2023-02-11T01:39:09.009627Z",
     "iopub.status.busy": "2023-02-11T01:39:09.008630Z",
     "iopub.status.idle": "2023-02-11T01:39:09.120628Z",
     "shell.execute_reply": "2023-02-11T01:39:09.119622Z",
     "shell.execute_reply.started": "2023-02-11T01:39:09.009627Z"
    },
    "tags": []
   },
   "outputs": [
    {
     "data": {
      "image/png": "[encoded data removed]",
      "text/plain": [
       "<Figure size 800x600 with 1 Axes>"
      ]
     },
     "metadata": {},
     "output_type": "display_data"
    }
   ],
   "source": [
    "nx.draw(dgraph, with_labels = True, node_color = \"pink\", node_size = 800, pos = positions, font_color = \"blue\")\n",
    "nx.draw_networkx_edge_labels(dgraph, pos = positions, edge_labels = nx.get_edge_attributes(dgraph, \"relationship\"))\n",
    "plt.show()"
   ]
  },
  {
   "cell_type": "code",
   "execution_count": null,
   "id": "88fd8452-1221-4b74-a318-b2bec8cf1320",
   "metadata": {},
   "outputs": [],
   "source": []
  }
 ],
 "metadata": {
  "kernelspec": {
   "display_name": "Python 3 (ipykernel)",
   "language": "python",
   "name": "python3"
  },
  "language_info": {
   "codemirror_mode": {
    "name": "ipython",
    "version": 3
   },
   "file_extension": ".py",
   "mimetype": "text/x-python",
   "name": "python",
   "nbconvert_exporter": "python",
   "pygments_lexer": "ipython3",
   "version": "3.11.2"
  }
 },
 "nbformat": 4,
 "nbformat_minor": 5
}
