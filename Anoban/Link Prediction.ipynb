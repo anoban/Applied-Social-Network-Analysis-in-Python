{
 "cells": [
  {
   "cell_type": "code",
   "execution_count": 48,
   "id": "bdaa451b-badc-4174-b46f-6a5297ea4c74",
   "metadata": {
    "execution": {
     "iopub.execute_input": "2023-03-07T08:10:11.001404Z",
     "iopub.status.busy": "2023-03-07T08:10:11.001404Z",
     "iopub.status.idle": "2023-03-07T08:10:11.005660Z",
     "shell.execute_reply": "2023-03-07T08:10:11.004643Z",
     "shell.execute_reply.started": "2023-03-07T08:10:11.001404Z"
    },
    "tags": []
   },
   "outputs": [],
   "source": [
    "import networkx as nx\n",
    "import matplotlib.pyplot as plt\n",
    "import itertools\n",
    "import math\n",
    "import random"
   ]
  },
  {
   "cell_type": "markdown",
   "id": "97c47780-1080-4d48-b679-2bc3005c6a4b",
   "metadata": {},
   "source": [
    "# ***Link Prediction***\n",
    "------------------"
   ]
  },
  {
   "cell_type": "code",
   "execution_count": 2,
   "id": "9e763368-c00d-42b9-9a2b-53a3061cf83b",
   "metadata": {
    "execution": {
     "iopub.execute_input": "2023-03-07T07:45:01.409660Z",
     "iopub.status.busy": "2023-03-07T07:45:01.409660Z",
     "iopub.status.idle": "2023-03-07T07:45:01.412901Z",
     "shell.execute_reply": "2023-03-07T07:45:01.412901Z",
     "shell.execute_reply.started": "2023-03-07T07:45:01.409660Z"
    },
    "tags": []
   },
   "outputs": [],
   "source": [
    "# Given a fixed network, can we predict how this network will look in future? \n",
    "# Link prediction - given a network, which links are to be formed in future?\n",
    "# e.g. a friend reccommendation algorithm for a social network!"
   ]
  },
  {
   "cell_type": "code",
   "execution_count": 19,
   "id": "6911a6c1-e38c-45ec-a6d4-b546b20b2138",
   "metadata": {
    "execution": {
     "iopub.execute_input": "2023-03-07T07:45:29.874869Z",
     "iopub.status.busy": "2023-03-07T07:45:29.873869Z",
     "iopub.status.idle": "2023-03-07T07:45:30.032436Z",
     "shell.execute_reply": "2023-03-07T07:45:30.032436Z",
     "shell.execute_reply.started": "2023-03-07T07:45:29.874869Z"
    },
    "tags": []
   },
   "outputs": [
    {
     "data": {
      "image/png": "[encoded data removed]",
      "text/plain": [
       "<Figure size 640x480 with 1 Axes>"
      ]
     },
     "metadata": {},
     "output_type": "display_data"
    }
   ],
   "source": [
    "graph = nx.Graph()\n",
    "graph.add_edges_from([(\"A\", \"B\"), (\"A\", \"D\"), (\"B\", \"C\"), (\"B\", \"D\"), (\"D\", \"C\"), (\"A\", \"E\"), (\"C\", \"F\"), (\"E\", \"F\"), (\"E\", \"G\"), (\"F\", \"G\"),\n",
    "                     (\"G\", \"H\"), (\"G\", \"I\")])\n",
    "nx.draw_networkx(graph, node_color = \"lightgreen\", node_size = 800)\n",
    "# plt.savefig(\"link_prediction.svg\", format = \"svg\", dpi = 500)"
   ]
  },
  {
   "cell_type": "markdown",
   "id": "1eb625d6-ad69-472a-a9e3-a259da8f4f3f",
   "metadata": {},
   "source": [
    "## **Triadic closure**"
   ]
  },
  {
   "cell_type": "code",
   "execution_count": 20,
   "id": "ff5c4a0f-14b8-442a-93fb-9f4c24a51ff6",
   "metadata": {
    "execution": {
     "iopub.execute_input": "2023-03-07T07:45:31.848016Z",
     "iopub.status.busy": "2023-03-07T07:45:31.848016Z",
     "iopub.status.idle": "2023-03-07T07:45:31.851849Z",
     "shell.execute_reply": "2023-03-07T07:45:31.850841Z",
     "shell.execute_reply.started": "2023-03-07T07:45:31.848016Z"
    },
    "tags": []
   },
   "outputs": [],
   "source": [
    "# Measure 1\n",
    "# number of common neighbours of node 1 and node 2\n",
    "\n",
    "# common_neighbours(x, y) = |N(x) ∩ N(y)|\n",
    "# cardinality of the interesect of x's neighbours and y's neighbours."
   ]
  },
  {
   "cell_type": "code",
   "execution_count": 21,
   "id": "43ab33bf-06e4-4df7-9f93-ea810fe34696",
   "metadata": {
    "execution": {
     "iopub.execute_input": "2023-03-07T07:45:32.361102Z",
     "iopub.status.busy": "2023-03-07T07:45:32.360142Z",
     "iopub.status.idle": "2023-03-07T07:45:32.363554Z",
     "shell.execute_reply": "2023-03-07T07:45:32.363554Z",
     "shell.execute_reply.started": "2023-03-07T07:45:32.361102Z"
    },
    "tags": []
   },
   "outputs": [],
   "source": [
    "# common_neighbours(A, C) = |{B, D}| = 2"
   ]
  },
  {
   "cell_type": "code",
   "execution_count": 22,
   "id": "47e753a4-2273-4cac-8bee-68a68dffdddc",
   "metadata": {
    "execution": {
     "iopub.execute_input": "2023-03-07T07:45:32.391578Z",
     "iopub.status.busy": "2023-03-07T07:45:32.390578Z",
     "iopub.status.idle": "2023-03-07T07:45:32.558403Z",
     "shell.execute_reply": "2023-03-07T07:45:32.558403Z",
     "shell.execute_reply.started": "2023-03-07T07:45:32.391578Z"
    },
    "tags": []
   },
   "outputs": [
    {
     "data": {
      "text/plain": [
       "[('A', 'B'),\n",
       " ('A', 'D'),\n",
       " ('A', 'C'),\n",
       " ('A', 'E'),\n",
       " ('A', 'F'),\n",
       " ('A', 'G'),\n",
       " ('A', 'H'),\n",
       " ('A', 'I'),\n",
       " ('B', 'A'),\n",
       " ('B', 'D'),\n",
       " ('B', 'C'),\n",
       " ('B', 'E'),\n",
       " ('B', 'F'),\n",
       " ('B', 'G'),\n",
       " ('B', 'H'),\n",
       " ('B', 'I'),\n",
       " ('D', 'A'),\n",
       " ('D', 'B'),\n",
       " ('D', 'C'),\n",
       " ('D', 'E'),\n",
       " ('D', 'F'),\n",
       " ('D', 'G'),\n",
       " ('D', 'H'),\n",
       " ('D', 'I'),\n",
       " ('C', 'A'),\n",
       " ('C', 'B'),\n",
       " ('C', 'D'),\n",
       " ('C', 'E'),\n",
       " ('C', 'F'),\n",
       " ('C', 'G'),\n",
       " ('C', 'H'),\n",
       " ('C', 'I'),\n",
       " ('E', 'A'),\n",
       " ('E', 'B'),\n",
       " ('E', 'D'),\n",
       " ('E', 'C'),\n",
       " ('E', 'F'),\n",
       " ('E', 'G'),\n",
       " ('E', 'H'),\n",
       " ('E', 'I'),\n",
       " ('F', 'A'),\n",
       " ('F', 'B'),\n",
       " ('F', 'D'),\n",
       " ('F', 'C'),\n",
       " ('F', 'E'),\n",
       " ('F', 'G'),\n",
       " ('F', 'H'),\n",
       " ('F', 'I'),\n",
       " ('G', 'A'),\n",
       " ('G', 'B'),\n",
       " ('G', 'D'),\n",
       " ('G', 'C'),\n",
       " ('G', 'E'),\n",
       " ('G', 'F'),\n",
       " ('G', 'H'),\n",
       " ('G', 'I'),\n",
       " ('H', 'A'),\n",
       " ('H', 'B'),\n",
       " ('H', 'D'),\n",
       " ('H', 'C'),\n",
       " ('H', 'E'),\n",
       " ('H', 'F'),\n",
       " ('H', 'G'),\n",
       " ('H', 'I'),\n",
       " ('I', 'A'),\n",
       " ('I', 'B'),\n",
       " ('I', 'D'),\n",
       " ('I', 'C'),\n",
       " ('I', 'E'),\n",
       " ('I', 'F'),\n",
       " ('I', 'G'),\n",
       " ('I', 'H')]"
      ]
     },
     "execution_count": 22,
     "metadata": {},
     "output_type": "execute_result"
    }
   ],
   "source": [
    "list(itertools.permutations(graph.nodes(), r = 2))"
   ]
  },
  {
   "cell_type": "code",
   "execution_count": 23,
   "id": "180550a6-3b27-40c9-aef4-5905f72b355a",
   "metadata": {
    "execution": {
     "iopub.execute_input": "2023-03-07T07:45:32.560410Z",
     "iopub.status.busy": "2023-03-07T07:45:32.560410Z",
     "iopub.status.idle": "2023-03-07T07:45:32.900152Z",
     "shell.execute_reply": "2023-03-07T07:45:32.900152Z",
     "shell.execute_reply.started": "2023-03-07T07:45:32.560410Z"
    },
    "tags": []
   },
   "outputs": [],
   "source": [
    "pairs = list()\n",
    "\n",
    "for perm in itertools.permutations(graph.nodes(), r = 2):\n",
    "    if (perm[0] != perm[1]) & (reversed(tuple(perm)) not in pairs):\n",
    "        pairs.append(perm)"
   ]
  },
  {
   "cell_type": "code",
   "execution_count": 24,
   "id": "07a0301f-7191-415c-8a25-f85a77956212",
   "metadata": {
    "execution": {
     "iopub.execute_input": "2023-03-07T07:45:32.902191Z",
     "iopub.status.busy": "2023-03-07T07:45:32.901242Z",
     "iopub.status.idle": "2023-03-07T07:45:33.000224Z",
     "shell.execute_reply": "2023-03-07T07:45:33.000224Z",
     "shell.execute_reply.started": "2023-03-07T07:45:32.902191Z"
    },
    "tags": []
   },
   "outputs": [
    {
     "data": {
      "text/plain": [
       "[('A', 'B'),\n",
       " ('A', 'D'),\n",
       " ('A', 'C'),\n",
       " ('A', 'E'),\n",
       " ('A', 'F'),\n",
       " ('A', 'G'),\n",
       " ('A', 'H'),\n",
       " ('A', 'I'),\n",
       " ('B', 'A'),\n",
       " ('B', 'D')]"
      ]
     },
     "execution_count": 24,
     "metadata": {},
     "output_type": "execute_result"
    }
   ],
   "source": [
    "pairs[:10]"
   ]
  },
  {
   "cell_type": "code",
   "execution_count": 25,
   "id": "df983921-0659-4de4-8fc2-5f57ab18e84a",
   "metadata": {
    "execution": {
     "iopub.execute_input": "2023-03-07T07:45:33.003232Z",
     "iopub.status.busy": "2023-03-07T07:45:33.003232Z",
     "iopub.status.idle": "2023-03-07T07:45:33.099681Z",
     "shell.execute_reply": "2023-03-07T07:45:33.099681Z",
     "shell.execute_reply.started": "2023-03-07T07:45:33.003232Z"
    },
    "tags": []
   },
   "outputs": [],
   "source": [
    "def sort_dict_by_values(dictionary: dict) -> list:\n",
    "    return sorted([item for item in dictionary.items()], reverse = True, key = lambda tup: tup[1])"
   ]
  },
  {
   "cell_type": "code",
   "execution_count": 26,
   "id": "0fe25b28-6b08-43bb-b0fa-498861cd565f",
   "metadata": {
    "execution": {
     "iopub.execute_input": "2023-03-07T07:45:33.100746Z",
     "iopub.status.busy": "2023-03-07T07:45:33.100746Z",
     "iopub.status.idle": "2023-03-07T07:45:33.212588Z",
     "shell.execute_reply": "2023-03-07T07:45:33.212588Z",
     "shell.execute_reply.started": "2023-03-07T07:45:33.100746Z"
    },
    "tags": []
   },
   "outputs": [
    {
     "data": {
      "text/plain": [
       "[(('A', 'C'), 2),\n",
       " (('A', 'G'), 1),\n",
       " (('A', 'F'), 1),\n",
       " (('B', 'E'), 1),\n",
       " (('B', 'F'), 1),\n",
       " (('C', 'E'), 1),\n",
       " (('C', 'G'), 1),\n",
       " (('H', 'E'), 1),\n",
       " (('H', 'F'), 1),\n",
       " (('H', 'I'), 1),\n",
       " (('I', 'E'), 1),\n",
       " (('I', 'F'), 1),\n",
       " (('D', 'E'), 1),\n",
       " (('D', 'F'), 1),\n",
       " (('A', 'I'), 0),\n",
       " (('A', 'H'), 0),\n",
       " (('B', 'I'), 0),\n",
       " (('B', 'H'), 0),\n",
       " (('B', 'G'), 0),\n",
       " (('C', 'H'), 0),\n",
       " (('C', 'I'), 0),\n",
       " (('H', 'D'), 0),\n",
       " (('I', 'D'), 0),\n",
       " (('D', 'G'), 0)]"
      ]
     },
     "execution_count": 26,
     "metadata": {},
     "output_type": "execute_result"
    }
   ],
   "source": [
    "cneigh = {(node_1, node_2): len(list(nx.common_neighbors(graph, node_1, node_2))) for (node_1, node_2) in nx.non_edges(graph)}\n",
    "\n",
    "sort_dict_by_values(cneigh)"
   ]
  },
  {
   "cell_type": "markdown",
   "id": "50d5a828-a55b-441e-8f7a-bb3f423f3a75",
   "metadata": {},
   "source": [
    "# **Jaccard Coefficient**"
   ]
  },
  {
   "cell_type": "code",
   "execution_count": 27,
   "id": "65e0eec4-b08e-4219-9e45-4a6becaf6f08",
   "metadata": {
    "execution": {
     "iopub.execute_input": "2023-03-07T07:45:33.213594Z",
     "iopub.status.busy": "2023-03-07T07:45:33.213594Z",
     "iopub.status.idle": "2023-03-07T07:45:33.323806Z",
     "shell.execute_reply": "2023-03-07T07:45:33.322791Z",
     "shell.execute_reply.started": "2023-03-07T07:45:33.213594Z"
    },
    "tags": []
   },
   "outputs": [],
   "source": [
    "# Looks at the number of common neighbours but normalizes by the total neighbours"
   ]
  },
  {
   "cell_type": "markdown",
   "id": "93deac48-d2a8-40fb-bd96-d70b4162ac7a",
   "metadata": {},
   "source": [
    "# ***Jacc coef(x, y) = $\\frac{|N(x) \\cap N(y)|}{|N(x) \\cup N(y)|}$***"
   ]
  },
  {
   "cell_type": "code",
   "execution_count": 28,
   "id": "ca8036c9-7b82-465d-9db8-3dbfb8ce2ddd",
   "metadata": {
    "execution": {
     "iopub.execute_input": "2023-03-07T07:45:33.324798Z",
     "iopub.status.busy": "2023-03-07T07:45:33.324798Z",
     "iopub.status.idle": "2023-03-07T07:45:33.446510Z",
     "shell.execute_reply": "2023-03-07T07:45:33.446510Z",
     "shell.execute_reply.started": "2023-03-07T07:45:33.324798Z"
    },
    "tags": []
   },
   "outputs": [
    {
     "data": {
      "text/plain": [
       "[('H', 'I', 1.0),\n",
       " ('A', 'C', 0.5),\n",
       " ('H', 'E', 0.3333333333333333),\n",
       " ('H', 'F', 0.3333333333333333),\n",
       " ('I', 'E', 0.3333333333333333),\n",
       " ('I', 'F', 0.3333333333333333),\n",
       " ('A', 'F', 0.2),\n",
       " ('B', 'E', 0.2),\n",
       " ('B', 'F', 0.2),\n",
       " ('C', 'E', 0.2),\n",
       " ('D', 'E', 0.2),\n",
       " ('D', 'F', 0.2),\n",
       " ('A', 'G', 0.16666666666666666),\n",
       " ('C', 'G', 0.16666666666666666),\n",
       " ('A', 'I', 0.0),\n",
       " ('A', 'H', 0.0),\n",
       " ('B', 'I', 0.0),\n",
       " ('B', 'H', 0.0),\n",
       " ('B', 'G', 0.0),\n",
       " ('C', 'H', 0.0),\n",
       " ('C', 'I', 0.0),\n",
       " ('H', 'D', 0.0),\n",
       " ('I', 'D', 0.0),\n",
       " ('D', 'G', 0.0)]"
      ]
     },
     "execution_count": 28,
     "metadata": {},
     "output_type": "execute_result"
    }
   ],
   "source": [
    "# jacc_coeff(A, C) = |{B, D}| / |{B, D, E, F}|\n",
    "# exclude the two select nodes.\n",
    "# 0.5\n",
    "\n",
    "sorted(nx.jaccard_coefficient(graph), reverse = True, key = lambda tup: tup[2])"
   ]
  },
  {
   "cell_type": "code",
   "execution_count": 29,
   "id": "83c1bc2c-fb44-40ac-9b5e-21268da33584",
   "metadata": {
    "execution": {
     "iopub.execute_input": "2023-03-07T07:45:33.448518Z",
     "iopub.status.busy": "2023-03-07T07:45:33.447516Z",
     "iopub.status.idle": "2023-03-07T07:45:33.546012Z",
     "shell.execute_reply": "2023-03-07T07:45:33.544777Z",
     "shell.execute_reply.started": "2023-03-07T07:45:33.448518Z"
    },
    "tags": []
   },
   "outputs": [],
   "source": [
    "# Nodes H and I have the highest Jaccard's coefficient since they have a single neighbour who also common for them"
   ]
  },
  {
   "cell_type": "markdown",
   "id": "f2704635-e528-4e12-87fd-53c327ed7b3e",
   "metadata": {},
   "source": [
    "## **Resource Allocation**"
   ]
  },
  {
   "cell_type": "code",
   "execution_count": 30,
   "id": "18be2e10-e016-49b2-ace6-c6295e347505",
   "metadata": {
    "execution": {
     "iopub.execute_input": "2023-03-07T07:45:33.548007Z",
     "iopub.status.busy": "2023-03-07T07:45:33.547092Z",
     "iopub.status.idle": "2023-03-07T07:45:33.691330Z",
     "shell.execute_reply": "2023-03-07T07:45:33.690310Z",
     "shell.execute_reply.started": "2023-03-07T07:45:33.548007Z"
    },
    "tags": []
   },
   "outputs": [],
   "source": [
    "# Defined as the fraction of a resources of a node that it can send to another through its common neighbours."
   ]
  },
  {
   "cell_type": "markdown",
   "id": "56c65274-60eb-42ea-acec-7a14961dcda8",
   "metadata": {},
   "source": [
    "# ***Res alloc(x, y) = $\\sum_{u \\in (N(x) \\cap N(y))}{\\frac{1}{|deg(u)|}}$***"
   ]
  },
  {
   "cell_type": "markdown",
   "id": "f8e29031-a866-4420-85fa-1b4ada5f3257",
   "metadata": {},
   "source": [
    "![img](link_prediction.svg)"
   ]
  },
  {
   "cell_type": "code",
   "execution_count": 31,
   "id": "1e8bd329-0992-4398-9943-52dfd540d3be",
   "metadata": {
    "execution": {
     "iopub.execute_input": "2023-03-07T07:45:33.696330Z",
     "iopub.status.busy": "2023-03-07T07:45:33.695326Z",
     "iopub.status.idle": "2023-03-07T07:45:33.879197Z",
     "shell.execute_reply": "2023-03-07T07:45:33.878124Z",
     "shell.execute_reply.started": "2023-03-07T07:45:33.696330Z"
    },
    "tags": []
   },
   "outputs": [],
   "source": [
    "# that is the sum of 1/degree of node for all nodes that are common neighbours to the given pair of nodes."
   ]
  },
  {
   "cell_type": "code",
   "execution_count": 32,
   "id": "766be293-ff5d-4ad4-8778-535915fc64b2",
   "metadata": {
    "execution": {
     "iopub.execute_input": "2023-03-07T07:45:33.881237Z",
     "iopub.status.busy": "2023-03-07T07:45:33.880141Z",
     "iopub.status.idle": "2023-03-07T07:45:33.978266Z",
     "shell.execute_reply": "2023-03-07T07:45:33.978266Z",
     "shell.execute_reply.started": "2023-03-07T07:45:33.881237Z"
    },
    "tags": []
   },
   "outputs": [],
   "source": [
    "# Say that nodes X and Y have lots of common neighbours\n",
    "# they'll have a fairly large resource allocation index\n",
    "# if these common nodes also have small degree (the denominator) they will have an even larger resource allocation index!"
   ]
  },
  {
   "cell_type": "code",
   "execution_count": 33,
   "id": "6afd616f-42ac-48e5-8456-43d6653a7de0",
   "metadata": {
    "execution": {
     "iopub.execute_input": "2023-03-07T07:45:33.979278Z",
     "iopub.status.busy": "2023-03-07T07:45:33.979278Z",
     "iopub.status.idle": "2023-03-07T07:45:34.080075Z",
     "shell.execute_reply": "2023-03-07T07:45:34.079049Z",
     "shell.execute_reply.started": "2023-03-07T07:45:33.979278Z"
    },
    "tags": []
   },
   "outputs": [],
   "source": [
    "# Say that nodes X and Y have just one common neighbour Z\n",
    "# X wants to send Y a unit of information\n",
    "# X hopes to send this information to Y by passing it to Z, assuming Z will pass it along to Y\n",
    "# However, Z cannot just give the received information to Y\n",
    "# It is obliged to divide it equally among its neighbours\n",
    "\n",
    "# The larger the Z's degree the smaller the information received by Y\n",
    "# Resource allocation index penalizes nodes that have common neighbours who have high degrees."
   ]
  },
  {
   "cell_type": "code",
   "execution_count": 34,
   "id": "1ec31319-207c-45cf-90c8-fbca739b335c",
   "metadata": {
    "execution": {
     "iopub.execute_input": "2023-03-07T07:45:34.083069Z",
     "iopub.status.busy": "2023-03-07T07:45:34.082066Z",
     "iopub.status.idle": "2023-03-07T07:45:34.212032Z",
     "shell.execute_reply": "2023-03-07T07:45:34.211013Z",
     "shell.execute_reply.started": "2023-03-07T07:45:34.083069Z"
    },
    "tags": []
   },
   "outputs": [],
   "source": [
    "# resource alocation index(A, C) = 1 / deg(B) + 1 / deg(D)\n",
    "# = 1/3 + 1/3\n",
    "# = 2/3"
   ]
  },
  {
   "cell_type": "code",
   "execution_count": 35,
   "id": "0c18121f-085a-400c-828e-929eb08e5042",
   "metadata": {
    "execution": {
     "iopub.execute_input": "2023-03-07T07:45:34.213028Z",
     "iopub.status.busy": "2023-03-07T07:45:34.213028Z",
     "iopub.status.idle": "2023-03-07T07:45:34.395759Z",
     "shell.execute_reply": "2023-03-07T07:45:34.394747Z",
     "shell.execute_reply.started": "2023-03-07T07:45:34.213028Z"
    },
    "tags": []
   },
   "outputs": [
    {
     "data": {
      "text/plain": [
       "[('A', 'C', 0.6666666666666666),\n",
       " ('A', 'G', 0.3333333333333333),\n",
       " ('A', 'F', 0.3333333333333333),\n",
       " ('B', 'E', 0.3333333333333333),\n",
       " ('B', 'F', 0.3333333333333333),\n",
       " ('C', 'E', 0.3333333333333333),\n",
       " ('C', 'G', 0.3333333333333333),\n",
       " ('D', 'E', 0.3333333333333333),\n",
       " ('D', 'F', 0.3333333333333333),\n",
       " ('H', 'E', 0.25),\n",
       " ('H', 'F', 0.25),\n",
       " ('H', 'I', 0.25),\n",
       " ('I', 'E', 0.25),\n",
       " ('I', 'F', 0.25),\n",
       " ('A', 'I', 0),\n",
       " ('A', 'H', 0),\n",
       " ('B', 'I', 0),\n",
       " ('B', 'H', 0),\n",
       " ('B', 'G', 0),\n",
       " ('C', 'H', 0),\n",
       " ('C', 'I', 0),\n",
       " ('H', 'D', 0),\n",
       " ('I', 'D', 0),\n",
       " ('D', 'G', 0)]"
      ]
     },
     "execution_count": 35,
     "metadata": {},
     "output_type": "execute_result"
    }
   ],
   "source": [
    "sorted(nx.resource_allocation_index(graph), reverse = True, key = lambda tup: tup[2])"
   ]
  },
  {
   "cell_type": "markdown",
   "id": "2a7dbc24-179f-498a-a348-41ccab31c84e",
   "metadata": {},
   "source": [
    "## **Adamic-Adar Index**"
   ]
  },
  {
   "cell_type": "code",
   "execution_count": 36,
   "id": "1069978a-0b15-4f11-9fd4-e1083157f789",
   "metadata": {
    "execution": {
     "iopub.execute_input": "2023-03-07T07:45:34.396799Z",
     "iopub.status.busy": "2023-03-07T07:45:34.396799Z",
     "iopub.status.idle": "2023-03-07T07:45:34.601750Z",
     "shell.execute_reply": "2023-03-07T07:45:34.600737Z",
     "shell.execute_reply.started": "2023-03-07T07:45:34.396799Z"
    },
    "tags": []
   },
   "outputs": [],
   "source": [
    "# This is very similar to resource allocation index but instead of dividing 1 by the degree of node, it divides 1 by the log of degree of node."
   ]
  },
  {
   "cell_type": "markdown",
   "id": "4f51a6fb-6f50-4d6b-b5ca-9c900c1ffd07",
   "metadata": {},
   "source": [
    "# ***Res alloc(x, y) = $\\sum_{u \\in (N(x) \\cup N(y))}{\\frac{1}{log(|deg(u)|)}}$***"
   ]
  },
  {
   "cell_type": "code",
   "execution_count": 37,
   "id": "8eaaf451-1591-4a57-9053-e214430dce05",
   "metadata": {
    "execution": {
     "iopub.execute_input": "2023-03-07T07:45:34.603832Z",
     "iopub.status.busy": "2023-03-07T07:45:34.603832Z",
     "iopub.status.idle": "2023-03-07T07:45:34.737354Z",
     "shell.execute_reply": "2023-03-07T07:45:34.736346Z",
     "shell.execute_reply.started": "2023-03-07T07:45:34.603832Z"
    },
    "tags": []
   },
   "outputs": [
    {
     "data": {
      "text/plain": [
       "1.8204784532536746"
      ]
     },
     "execution_count": 37,
     "metadata": {},
     "output_type": "execute_result"
    }
   ],
   "source": [
    "# adamic-adar(A, C) = 1 / log(deg(B)) + 1 / log(deg(D))\n",
    "# = 1/log(3) + 1/log(3)\n",
    "\n",
    "2 * (1 / math.log(3))"
   ]
  },
  {
   "cell_type": "code",
   "execution_count": 38,
   "id": "eac22466-3d75-4a98-b929-999239a5dbe3",
   "metadata": {
    "execution": {
     "iopub.execute_input": "2023-03-07T07:45:34.738353Z",
     "iopub.status.busy": "2023-03-07T07:45:34.738353Z",
     "iopub.status.idle": "2023-03-07T07:45:34.871472Z",
     "shell.execute_reply": "2023-03-07T07:45:34.871472Z",
     "shell.execute_reply.started": "2023-03-07T07:45:34.738353Z"
    },
    "tags": []
   },
   "outputs": [
    {
     "data": {
      "text/plain": [
       "[('A', 'C', 1.8204784532536746),\n",
       " ('A', 'G', 0.9102392266268373),\n",
       " ('A', 'F', 0.9102392266268373),\n",
       " ('B', 'E', 0.9102392266268373),\n",
       " ('B', 'F', 0.9102392266268373),\n",
       " ('C', 'E', 0.9102392266268373),\n",
       " ('C', 'G', 0.9102392266268373),\n",
       " ('D', 'E', 0.9102392266268373),\n",
       " ('D', 'F', 0.9102392266268373),\n",
       " ('H', 'E', 0.7213475204444817),\n",
       " ('H', 'F', 0.7213475204444817),\n",
       " ('H', 'I', 0.7213475204444817),\n",
       " ('I', 'E', 0.7213475204444817),\n",
       " ('I', 'F', 0.7213475204444817),\n",
       " ('A', 'I', 0),\n",
       " ('A', 'H', 0),\n",
       " ('B', 'I', 0),\n",
       " ('B', 'H', 0),\n",
       " ('B', 'G', 0),\n",
       " ('C', 'H', 0),\n",
       " ('C', 'I', 0),\n",
       " ('H', 'D', 0),\n",
       " ('I', 'D', 0),\n",
       " ('D', 'G', 0)]"
      ]
     },
     "execution_count": 38,
     "metadata": {},
     "output_type": "execute_result"
    }
   ],
   "source": [
    "sorted(nx.adamic_adar_index(graph), reverse = True, key = lambda tup: tup[2])"
   ]
  },
  {
   "cell_type": "markdown",
   "id": "da289c73-f22d-4ed4-9028-c1cc117b860c",
   "metadata": {},
   "source": [
    "## **Preferential Attachment Score**"
   ]
  },
  {
   "cell_type": "code",
   "execution_count": 39,
   "id": "8763e6ba-fa40-4854-ac40-a5ec876767aa",
   "metadata": {
    "execution": {
     "iopub.execute_input": "2023-03-07T07:51:40.531597Z",
     "iopub.status.busy": "2023-03-07T07:51:40.530514Z",
     "iopub.status.idle": "2023-03-07T07:51:40.534584Z",
     "shell.execute_reply": "2023-03-07T07:51:40.534584Z",
     "shell.execute_reply.started": "2023-03-07T07:51:40.531597Z"
    }
   },
   "outputs": [],
   "source": [
    "# Nodes that have very high degrees are likely to get more neighbours.\n",
    "# In a pir of nodes, if each have a high degree, they have a high chance to become connected in future."
   ]
  },
  {
   "cell_type": "markdown",
   "id": "5e23adaf-0dc0-4f9c-9e29-eae30debbf36",
   "metadata": {},
   "source": [
    "# ***Preferential score(x, y) = $|N(x)||N(y)|$***"
   ]
  },
  {
   "cell_type": "code",
   "execution_count": 41,
   "id": "a4d1612a-4692-4a71-8706-de4fb98d348e",
   "metadata": {
    "execution": {
     "iopub.execute_input": "2023-03-07T07:54:00.791565Z",
     "iopub.status.busy": "2023-03-07T07:54:00.791565Z",
     "iopub.status.idle": "2023-03-07T07:54:00.796246Z",
     "shell.execute_reply": "2023-03-07T07:54:00.796246Z",
     "shell.execute_reply.started": "2023-03-07T07:54:00.791565Z"
    },
    "tags": []
   },
   "outputs": [
    {
     "data": {
      "text/plain": [
       "9"
      ]
     },
     "execution_count": 41,
     "metadata": {},
     "output_type": "execute_result"
    }
   ],
   "source": [
    "# pref attach(A, C) = deg(A) * deg(C)\n",
    "# = 3 * 3 \n",
    "# = 9\n",
    "\n",
    "graph.degree(\"A\") * graph.degree(\"C\")"
   ]
  },
  {
   "cell_type": "code",
   "execution_count": 42,
   "id": "60508db1-eb6e-4b2c-8a83-8e04426d2bd9",
   "metadata": {
    "execution": {
     "iopub.execute_input": "2023-03-07T07:54:34.879035Z",
     "iopub.status.busy": "2023-03-07T07:54:34.879035Z",
     "iopub.status.idle": "2023-03-07T07:54:34.885454Z",
     "shell.execute_reply": "2023-03-07T07:54:34.885454Z",
     "shell.execute_reply.started": "2023-03-07T07:54:34.879035Z"
    },
    "tags": []
   },
   "outputs": [
    {
     "data": {
      "text/plain": [
       "[('A', 'G', 12),\n",
       " ('B', 'G', 12),\n",
       " ('C', 'G', 12),\n",
       " ('D', 'G', 12),\n",
       " ('A', 'C', 9),\n",
       " ('A', 'F', 9),\n",
       " ('B', 'E', 9),\n",
       " ('B', 'F', 9),\n",
       " ('C', 'E', 9),\n",
       " ('D', 'E', 9),\n",
       " ('D', 'F', 9),\n",
       " ('A', 'I', 3),\n",
       " ('A', 'H', 3),\n",
       " ('B', 'I', 3),\n",
       " ('B', 'H', 3),\n",
       " ('C', 'H', 3),\n",
       " ('C', 'I', 3),\n",
       " ('H', 'E', 3),\n",
       " ('H', 'F', 3),\n",
       " ('H', 'D', 3),\n",
       " ('I', 'E', 3),\n",
       " ('I', 'F', 3),\n",
       " ('I', 'D', 3),\n",
       " ('H', 'I', 1)]"
      ]
     },
     "execution_count": 42,
     "metadata": {},
     "output_type": "execute_result"
    }
   ],
   "source": [
    "sorted(nx.preferential_attachment(graph), reverse = True, key = lambda tup: tup[2])"
   ]
  },
  {
   "cell_type": "markdown",
   "id": "b5fb3c5b-6d58-464b-b845-8e2c47bbd503",
   "metadata": {},
   "source": [
    "# ***Measures that take the community structure of the networks into account***"
   ]
  },
  {
   "cell_type": "code",
   "execution_count": 43,
   "id": "69340e16-dec8-41ba-a160-92da83361637",
   "metadata": {
    "execution": {
     "iopub.execute_input": "2023-03-07T08:00:26.455967Z",
     "iopub.status.busy": "2023-03-07T08:00:26.454887Z",
     "iopub.status.idle": "2023-03-07T08:00:26.460344Z",
     "shell.execute_reply": "2023-03-07T08:00:26.459333Z",
     "shell.execute_reply.started": "2023-03-07T08:00:26.455967Z"
    },
    "tags": []
   },
   "outputs": [],
   "source": [
    "# If a network is a company, each department may form communities\n",
    "# Assumes that if two nodes belong to same community and have many neighbours who also belong to the same community,\n",
    "# they are more likely to form an edge than two nodes with neighbours from different communities."
   ]
  },
  {
   "cell_type": "markdown",
   "id": "17decc94-957f-4c00-b72f-247152b7549e",
   "metadata": {},
   "source": [
    "# ***Community Common Neighbours***"
   ]
  },
  {
   "cell_type": "code",
   "execution_count": 44,
   "id": "51e21de3-2870-44cb-a4a8-539ed32183fd",
   "metadata": {
    "execution": {
     "iopub.execute_input": "2023-03-07T08:02:52.631294Z",
     "iopub.status.busy": "2023-03-07T08:02:52.631294Z",
     "iopub.status.idle": "2023-03-07T08:02:52.634375Z",
     "shell.execute_reply": "2023-03-07T08:02:52.634375Z",
     "shell.execute_reply.started": "2023-03-07T08:02:52.631294Z"
    },
    "tags": []
   },
   "outputs": [],
   "source": [
    "# This is a modified version of common neighbours method which gives a bonus if the neighbours are from the same community\n",
    "# This method is also known as the Soundrarajan and Hopcroft method."
   ]
  },
  {
   "cell_type": "markdown",
   "id": "79bcb58b-f2b0-4881-9e27-801f72cbbb55",
   "metadata": {},
   "source": [
    "# ***Community common neighbours(x, y) = $|N(x) \\cap N(y)| + \\sum_{u \\in (N(x) \\cap N(y))}{f(u)}$***"
   ]
  },
  {
   "cell_type": "code",
   "execution_count": 45,
   "id": "4aa5557e-8c49-460b-9f04-ad3f6d5fdb43",
   "metadata": {
    "execution": {
     "iopub.execute_input": "2023-03-07T08:06:45.800341Z",
     "iopub.status.busy": "2023-03-07T08:06:45.799325Z",
     "iopub.status.idle": "2023-03-07T08:06:45.804534Z",
     "shell.execute_reply": "2023-03-07T08:06:45.803524Z",
     "shell.execute_reply.started": "2023-03-07T08:06:45.800341Z"
    },
    "tags": []
   },
   "outputs": [],
   "source": [
    "# Where f(u) = 1, if u is in the same community as x and y\n",
    "# f(u) = 0, if not."
   ]
  },
  {
   "cell_type": "code",
   "execution_count": 46,
   "id": "9fa2859f-95df-4c76-aad4-4c9a8f090df6",
   "metadata": {
    "execution": {
     "iopub.execute_input": "2023-03-07T08:09:16.274654Z",
     "iopub.status.busy": "2023-03-07T08:09:16.274654Z",
     "iopub.status.idle": "2023-03-07T08:09:16.279312Z",
     "shell.execute_reply": "2023-03-07T08:09:16.278303Z",
     "shell.execute_reply.started": "2023-03-07T08:09:16.274654Z"
    },
    "tags": []
   },
   "outputs": [],
   "source": [
    "# Assume A, B, C & D are from the same community\n",
    "# Soundrarajan Hopcroft(A, C) = \\{B, D}\\+ 2\n",
    "# = 2 + 2\n",
    "# = 4"
   ]
  },
  {
   "cell_type": "code",
   "execution_count": 56,
   "id": "58d227d5-5110-4fdb-a19d-b00f0019ecba",
   "metadata": {
    "execution": {
     "iopub.execute_input": "2023-03-07T08:13:32.159659Z",
     "iopub.status.busy": "2023-03-07T08:13:32.159659Z",
     "iopub.status.idle": "2023-03-07T08:13:32.164990Z",
     "shell.execute_reply": "2023-03-07T08:13:32.163981Z",
     "shell.execute_reply.started": "2023-03-07T08:13:32.159659Z"
    },
    "tags": []
   },
   "outputs": [],
   "source": [
    "# First we need to tell NetworkX which community each node belongs to.\n",
    "\n",
    "comm = [\"Sane\", \"Insane\"]\n",
    "\n",
    "for node in graph.nodes():\n",
    "    graph.nodes[node][\"community\"] = random.choice(comm)"
   ]
  },
  {
   "cell_type": "code",
   "execution_count": 57,
   "id": "892d2f91-72b7-4a20-b4c4-e552cc19737f",
   "metadata": {
    "execution": {
     "iopub.execute_input": "2023-03-07T08:13:32.578269Z",
     "iopub.status.busy": "2023-03-07T08:13:32.577269Z",
     "iopub.status.idle": "2023-03-07T08:13:32.582392Z",
     "shell.execute_reply": "2023-03-07T08:13:32.582392Z",
     "shell.execute_reply.started": "2023-03-07T08:13:32.578269Z"
    },
    "tags": []
   },
   "outputs": [
    {
     "data": {
      "text/plain": [
       "{'A': 'Sane',\n",
       " 'B': 'Sane',\n",
       " 'D': 'Sane',\n",
       " 'C': 'Insane',\n",
       " 'E': 'Insane',\n",
       " 'F': 'Sane',\n",
       " 'G': 'Insane',\n",
       " 'H': 'Insane',\n",
       " 'I': 'Insane'}"
      ]
     },
     "execution_count": 57,
     "metadata": {},
     "output_type": "execute_result"
    }
   ],
   "source": [
    "nx.get_node_attributes(graph, \"community\")"
   ]
  },
  {
   "cell_type": "code",
   "execution_count": 58,
   "id": "601db220-6327-4e3e-b3d8-278140273535",
   "metadata": {
    "execution": {
     "iopub.execute_input": "2023-03-07T08:13:33.059215Z",
     "iopub.status.busy": "2023-03-07T08:13:33.059215Z",
     "iopub.status.idle": "2023-03-07T08:13:33.065226Z",
     "shell.execute_reply": "2023-03-07T08:13:33.065226Z",
     "shell.execute_reply.started": "2023-03-07T08:13:33.059215Z"
    },
    "tags": []
   },
   "outputs": [
    {
     "data": {
      "text/plain": [
       "[('A', 'C', 2),\n",
       " ('H', 'E', 2),\n",
       " ('H', 'I', 2),\n",
       " ('I', 'E', 2),\n",
       " ('A', 'G', 1),\n",
       " ('A', 'F', 1),\n",
       " ('B', 'E', 1),\n",
       " ('B', 'F', 1),\n",
       " ('C', 'E', 1),\n",
       " ('C', 'G', 1),\n",
       " ('H', 'F', 1),\n",
       " ('I', 'F', 1),\n",
       " ('D', 'E', 1),\n",
       " ('D', 'F', 1),\n",
       " ('A', 'I', 0),\n",
       " ('A', 'H', 0),\n",
       " ('B', 'I', 0),\n",
       " ('B', 'H', 0),\n",
       " ('B', 'G', 0),\n",
       " ('C', 'H', 0),\n",
       " ('C', 'I', 0),\n",
       " ('H', 'D', 0),\n",
       " ('I', 'D', 0),\n",
       " ('D', 'G', 0)]"
      ]
     },
     "execution_count": 58,
     "metadata": {},
     "output_type": "execute_result"
    }
   ],
   "source": [
    "sorted(nx.cn_soundarajan_hopcroft(graph), reverse = True, key = lambda tup: tup[2])"
   ]
  },
  {
   "cell_type": "markdown",
   "id": "ae6a0d87-dc7e-4393-a7f3-e6db955416b9",
   "metadata": {},
   "source": [
    "## ***Community Resource Allocation***"
   ]
  },
  {
   "cell_type": "code",
   "execution_count": 60,
   "id": "0eccd69f-cd9e-4a93-a8b0-2c9f89516dec",
   "metadata": {
    "execution": {
     "iopub.execute_input": "2023-03-07T08:19:16.154201Z",
     "iopub.status.busy": "2023-03-07T08:19:16.154201Z",
     "iopub.status.idle": "2023-03-07T08:19:16.158849Z",
     "shell.execute_reply": "2023-03-07T08:19:16.157838Z",
     "shell.execute_reply.started": "2023-03-07T08:19:16.154201Z"
    },
    "tags": []
   },
   "outputs": [],
   "source": [
    "# Similar to resource alocation method, but considers only the nodes in the same community for neighbours.\n",
    "# Also known as Soundrarajan Hopcroft Resource alocation score\n",
    "# Instead of summing f(u), here we sum the f(u) divided by degree of node u."
   ]
  },
  {
   "cell_type": "markdown",
   "id": "d31e90aa-9660-4cbb-99f8-04a748941554",
   "metadata": {},
   "source": [
    "# ***Community Resource Allocation(x, y) = $\\sum_{u \\in (N(x) \\cap N(y))}{\\frac{f(u)}{|N(u)|}}$***"
   ]
  },
  {
   "cell_type": "code",
   "execution_count": 61,
   "id": "d7e239c2-477c-471f-918b-9eb73428306f",
   "metadata": {
    "execution": {
     "iopub.execute_input": "2023-03-07T08:22:35.697648Z",
     "iopub.status.busy": "2023-03-07T08:22:35.697648Z",
     "iopub.status.idle": "2023-03-07T08:22:35.701650Z",
     "shell.execute_reply": "2023-03-07T08:22:35.700639Z",
     "shell.execute_reply.started": "2023-03-07T08:22:35.697648Z"
    },
    "tags": []
   },
   "outputs": [],
   "source": [
    "# Assume A, B, C & D all are from the same community\n",
    "# Community Resource Score(A, C) = 1 / 3 + 1 / 3\n",
    "# = 2/3"
   ]
  },
  {
   "cell_type": "markdown",
   "id": "3886f2b1-ca79-4a25-90fa-05044a719d88",
   "metadata": {},
   "source": [
    "# ***deg(node) = |N(node)|***"
   ]
  },
  {
   "cell_type": "code",
   "execution_count": 62,
   "id": "ee7c5836-9d83-45e6-b423-f40ee771dce7",
   "metadata": {
    "execution": {
     "iopub.execute_input": "2023-03-07T08:24:27.914600Z",
     "iopub.status.busy": "2023-03-07T08:24:27.914600Z",
     "iopub.status.idle": "2023-03-07T08:24:27.920200Z",
     "shell.execute_reply": "2023-03-07T08:24:27.920200Z",
     "shell.execute_reply.started": "2023-03-07T08:24:27.914600Z"
    },
    "tags": []
   },
   "outputs": [
    {
     "data": {
      "text/plain": [
       "[('H', 'E', 0.25),\n",
       " ('H', 'I', 0.25),\n",
       " ('I', 'E', 0.25),\n",
       " ('A', 'I', 0),\n",
       " ('A', 'H', 0),\n",
       " ('A', 'C', 0),\n",
       " ('A', 'G', 0),\n",
       " ('A', 'F', 0),\n",
       " ('B', 'I', 0),\n",
       " ('B', 'H', 0),\n",
       " ('B', 'G', 0),\n",
       " ('B', 'E', 0),\n",
       " ('B', 'F', 0),\n",
       " ('C', 'H', 0),\n",
       " ('C', 'E', 0),\n",
       " ('C', 'G', 0),\n",
       " ('C', 'I', 0),\n",
       " ('H', 'F', 0),\n",
       " ('H', 'D', 0),\n",
       " ('I', 'F', 0),\n",
       " ('I', 'D', 0),\n",
       " ('D', 'G', 0),\n",
       " ('D', 'E', 0),\n",
       " ('D', 'F', 0)]"
      ]
     },
     "execution_count": 62,
     "metadata": {},
     "output_type": "execute_result"
    }
   ],
   "source": [
    "sorted(nx.ra_index_soundarajan_hopcroft(graph), reverse = True, key = lambda tup: tup[2])"
   ]
  }
 ],
 "metadata": {
  "kernelspec": {
   "display_name": "Python 3 (ipykernel)",
   "language": "python",
   "name": "python3"
  },
  "language_info": {
   "codemirror_mode": {
    "name": "ipython",
    "version": 3
   },
   "file_extension": ".py",
   "mimetype": "text/x-python",
   "name": "python",
   "nbconvert_exporter": "python",
   "pygments_lexer": "ipython3",
   "version": "3.11.2"
  }
 },
 "nbformat": 4,
 "nbformat_minor": 5
}
