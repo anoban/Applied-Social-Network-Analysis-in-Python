{
 "cells": [
  {
   "cell_type": "markdown",
   "id": "aa30f54f-62d4-4d14-a814-cc806ad37c80",
   "metadata": {},
   "source": [
    "# ***Loading graphs into NetworkX from different types of sources***\n",
    "------------------------------\n",
    "------------------------------"
   ]
  },
  {
   "cell_type": "code",
   "execution_count": 2,
   "id": "36383e4d-35f0-4f4b-a3b0-ae4352d06298",
   "metadata": {
    "execution": {
     "iopub.execute_input": "2023-02-12T03:00:52.664439Z",
     "iopub.status.busy": "2023-02-12T03:00:52.663443Z",
     "iopub.status.idle": "2023-02-12T03:00:52.667952Z",
     "shell.execute_reply": "2023-02-12T03:00:52.667952Z",
     "shell.execute_reply.started": "2023-02-12T03:00:52.664439Z"
    },
    "tags": []
   },
   "outputs": [],
   "source": [
    "import pandas as pd\n",
    "import numpy as np\n",
    "import networkx as nx\n",
    "import matplotlib.pyplot as plt\n",
    "from string import ascii_uppercase\n",
    "import random\n",
    "\n",
    "np.random.seed(2023 - 2 - 12)\n",
    "plt.rcParams[\"figure.figsize\"] = 7.5, 7.5"
   ]
  },
  {
   "cell_type": "markdown",
   "id": "52b588ef-39d1-49ed-a86a-8ab9a89ebeaf",
   "metadata": {},
   "source": [
    "## **1. Adjacency list format**\n",
    "----------------------------\n",
    "**Useful for graphs w/o node or edge attributes.**"
   ]
  },
  {
   "cell_type": "code",
   "execution_count": 3,
   "id": "428a840c-8d37-4075-b187-2fe33f12897f",
   "metadata": {
    "execution": {
     "iopub.execute_input": "2023-02-12T03:00:53.517262Z",
     "iopub.status.busy": "2023-02-12T03:00:53.516262Z",
     "iopub.status.idle": "2023-02-12T03:00:53.519927Z",
     "shell.execute_reply": "2023-02-12T03:00:53.519927Z",
     "shell.execute_reply.started": "2023-02-12T03:00:53.517262Z"
    },
    "tags": []
   },
   "outputs": [],
   "source": [
    "# First label in each line is the source node (central)\n",
    "# and the subsequent labels are connected nodes (neighbours)\n",
    "# e.g the first line 0 1 2 3 5 means that the node 0 is directly connected to nodes 1 2 3 & 5.\n",
    "# subsequent lines include only the connections not included before.\n",
    "# e.g since the connection between 0 & 1 was included in the first line, it is not included in the second.\n",
    "# the second line reads that the node 1 is directly connected to nodes 3 and 6, in addition to 0 :)"
   ]
  },
  {
   "cell_type": "code",
   "execution_count": 4,
   "id": "43245df0-e43e-4583-b769-5b9fe0143c61",
   "metadata": {
    "execution": {
     "iopub.execute_input": "2023-02-12T03:00:53.952618Z",
     "iopub.status.busy": "2023-02-12T03:00:53.952618Z",
     "iopub.status.idle": "2023-02-12T03:00:53.977608Z",
     "shell.execute_reply": "2023-02-12T03:00:53.976601Z",
     "shell.execute_reply.started": "2023-02-12T03:00:53.952618Z"
    },
    "tags": []
   },
   "outputs": [
    {
     "name": "stdout",
     "output_type": "stream",
     "text": [
      "0 1 2 3 5\n",
      "1 3 6\n",
      "2\n",
      "3 4\n",
      "4 5 7\n",
      "5 8\n",
      "6\n",
      "7\n",
      "8 9\n",
      "9\n"
     ]
    }
   ],
   "source": [
    "!type \"D:\\Applied-Social-Network-Analysis-in-Python\\resources\\G_adjlist.txt\""
   ]
  },
  {
   "cell_type": "code",
   "execution_count": 5,
   "id": "63ed8efe-f087-447c-8b97-a0e893ed3dcf",
   "metadata": {
    "execution": {
     "iopub.execute_input": "2023-02-12T03:00:54.381070Z",
     "iopub.status.busy": "2023-02-12T03:00:54.380071Z",
     "iopub.status.idle": "2023-02-12T03:00:54.385811Z",
     "shell.execute_reply": "2023-02-12T03:00:54.384780Z",
     "shell.execute_reply.started": "2023-02-12T03:00:54.381070Z"
    },
    "tags": []
   },
   "outputs": [],
   "source": [
    "graph = nx.read_adjlist(r\"D:/Applied-Social-Network-Analysis-in-Python/resources/G_adjlist.txt\")"
   ]
  },
  {
   "cell_type": "code",
   "execution_count": 6,
   "id": "046acc54-6552-4f7a-8618-c5309c0bf616",
   "metadata": {
    "execution": {
     "iopub.execute_input": "2023-02-12T03:00:54.815095Z",
     "iopub.status.busy": "2023-02-12T03:00:54.814068Z",
     "iopub.status.idle": "2023-02-12T03:00:55.014841Z",
     "shell.execute_reply": "2023-02-12T03:00:55.014841Z",
     "shell.execute_reply.started": "2023-02-12T03:00:54.815095Z"
    },
    "tags": []
   },
   "outputs": [
    {
     "data": {
      "image/png": "[encoded data removed]",
      "text/plain": [
       "<Figure size 750x750 with 1 Axes>"
      ]
     },
     "metadata": {},
     "output_type": "display_data"
    }
   ],
   "source": [
    "nx.draw_networkx(graph, node_color = \"yellow\")"
   ]
  },
  {
   "cell_type": "code",
   "execution_count": 7,
   "id": "32b9dbbb-9bec-44d6-af04-d3cfb39af360",
   "metadata": {
    "execution": {
     "iopub.execute_input": "2023-02-12T03:00:55.669870Z",
     "iopub.status.busy": "2023-02-12T03:00:55.669870Z",
     "iopub.status.idle": "2023-02-12T03:00:55.675942Z",
     "shell.execute_reply": "2023-02-12T03:00:55.674930Z",
     "shell.execute_reply.started": "2023-02-12T03:00:55.669870Z"
    },
    "tags": []
   },
   "outputs": [
    {
     "data": {
      "text/plain": [
       "EdgeView([('0', '1'), ('0', '2'), ('0', '3'), ('0', '5'), ('1', '3'), ('1', '6'), ('3', '4'), ('5', '4'), ('5', '8'), ('4', '7'), ('8', '9')])"
      ]
     },
     "execution_count": 7,
     "metadata": {},
     "output_type": "execute_result"
    }
   ],
   "source": [
    "graph.edges()"
   ]
  },
  {
   "cell_type": "code",
   "execution_count": 8,
   "id": "e2991ac6-418a-43a8-a498-7be258a6a822",
   "metadata": {
    "execution": {
     "iopub.execute_input": "2023-02-12T03:00:56.308128Z",
     "iopub.status.busy": "2023-02-12T03:00:56.308128Z",
     "iopub.status.idle": "2023-02-12T03:00:56.312308Z",
     "shell.execute_reply": "2023-02-12T03:00:56.312308Z",
     "shell.execute_reply.started": "2023-02-12T03:00:56.308128Z"
    },
    "tags": []
   },
   "outputs": [],
   "source": [
    "# read in the nodes as integers instead of the default strings\n",
    "graph = nx.read_adjlist(r\"D:/Applied-Social-Network-Analysis-in-Python/resources/G_adjlist.txt\", nodetype = np.int64)"
   ]
  },
  {
   "cell_type": "code",
   "execution_count": 9,
   "id": "ab05995d-4526-4924-b9e5-d62ed29f7c34",
   "metadata": {
    "execution": {
     "iopub.execute_input": "2023-02-12T03:00:56.670112Z",
     "iopub.status.busy": "2023-02-12T03:00:56.669112Z",
     "iopub.status.idle": "2023-02-12T03:00:56.675883Z",
     "shell.execute_reply": "2023-02-12T03:00:56.674872Z",
     "shell.execute_reply.started": "2023-02-12T03:00:56.670112Z"
    },
    "tags": []
   },
   "outputs": [
    {
     "data": {
      "text/plain": [
       "EdgeView([(0, 1), (0, 2), (0, 3), (0, 5), (1, 3), (1, 6), (3, 4), (5, 4), (5, 8), (4, 7), (8, 9)])"
      ]
     },
     "execution_count": 9,
     "metadata": {},
     "output_type": "execute_result"
    }
   ],
   "source": [
    "graph.edges()"
   ]
  },
  {
   "cell_type": "markdown",
   "id": "0f2865d0-540f-4e65-afaa-03003ce7ac5d",
   "metadata": {},
   "source": [
    "## **2. Adjacency matrix format**\n",
    "-------------------\n",
    "**Each element in the adjacency matrix indicates whether a pair of nodes are adjacent i.e the matrix is essentially a boolean matrix.**"
   ]
  },
  {
   "cell_type": "code",
   "execution_count": 10,
   "id": "989e3a68-553e-4ab3-8182-029634937a51",
   "metadata": {
    "execution": {
     "iopub.execute_input": "2023-02-12T03:00:57.404611Z",
     "iopub.status.busy": "2023-02-12T03:00:57.403547Z",
     "iopub.status.idle": "2023-02-12T03:00:57.409071Z",
     "shell.execute_reply": "2023-02-12T03:00:57.408065Z",
     "shell.execute_reply.started": "2023-02-12T03:00:57.404611Z"
    },
    "tags": []
   },
   "outputs": [],
   "source": [
    "adj_matrix = np.random.randint(0, 2, size = [10, 10])"
   ]
  },
  {
   "cell_type": "code",
   "execution_count": 11,
   "id": "4d38aaab-c0fe-49af-af90-0c001d4a53e4",
   "metadata": {
    "execution": {
     "iopub.execute_input": "2023-02-12T03:00:57.749804Z",
     "iopub.status.busy": "2023-02-12T03:00:57.749804Z",
     "iopub.status.idle": "2023-02-12T03:00:57.754750Z",
     "shell.execute_reply": "2023-02-12T03:00:57.754750Z",
     "shell.execute_reply.started": "2023-02-12T03:00:57.749804Z"
    },
    "tags": []
   },
   "outputs": [
    {
     "data": {
      "text/plain": [
       "array([[1, 1, 1, 1, 0, 1, 1, 0, 1, 1],\n",
       "       [1, 0, 1, 0, 1, 1, 0, 1, 1, 0],\n",
       "       [1, 1, 1, 0, 1, 0, 1, 1, 1, 0],\n",
       "       [1, 1, 0, 1, 1, 0, 1, 0, 0, 0],\n",
       "       [1, 0, 0, 1, 1, 1, 1, 0, 1, 1],\n",
       "       [0, 0, 1, 0, 0, 1, 0, 1, 0, 1],\n",
       "       [0, 1, 0, 1, 0, 0, 1, 1, 0, 1],\n",
       "       [1, 1, 1, 1, 1, 0, 1, 0, 1, 0],\n",
       "       [1, 1, 0, 0, 0, 1, 0, 0, 0, 1],\n",
       "       [1, 1, 1, 0, 1, 0, 0, 0, 1, 0]])"
      ]
     },
     "execution_count": 11,
     "metadata": {},
     "output_type": "execute_result"
    }
   ],
   "source": [
    "adj_matrix"
   ]
  },
  {
   "cell_type": "code",
   "execution_count": 12,
   "id": "3f184872-83d2-444d-8bbe-0d4eebae6f46",
   "metadata": {
    "execution": {
     "iopub.execute_input": "2023-02-12T03:00:58.117000Z",
     "iopub.status.busy": "2023-02-12T03:00:58.115719Z",
     "iopub.status.idle": "2023-02-12T03:00:58.119879Z",
     "shell.execute_reply": "2023-02-12T03:00:58.119879Z",
     "shell.execute_reply.started": "2023-02-12T03:00:58.117000Z"
    },
    "tags": []
   },
   "outputs": [],
   "source": [
    "# each row & column corresponds to each node in the network\n",
    "# the first row, designated to node 0 tells us that it is adjacent to nodes 0, 1, 4, 5, 8 & 9\n",
    "# these self connections are an artifact of our random number generation :("
   ]
  },
  {
   "cell_type": "code",
   "execution_count": 13,
   "id": "e4f3dcb8-a78a-40bb-8f90-00e73d754c81",
   "metadata": {
    "execution": {
     "iopub.execute_input": "2023-02-12T03:00:58.670959Z",
     "iopub.status.busy": "2023-02-12T03:00:58.669958Z",
     "iopub.status.idle": "2023-02-12T03:00:58.816953Z",
     "shell.execute_reply": "2023-02-12T03:00:58.816432Z",
     "shell.execute_reply.started": "2023-02-12T03:00:58.670959Z"
    },
    "tags": []
   },
   "outputs": [
    {
     "data": {
      "image/png": "[encoded data removed]",
      "text/plain": [
       "<Figure size 750x750 with 1 Axes>"
      ]
     },
     "metadata": {},
     "output_type": "display_data"
    }
   ],
   "source": [
    "graph = nx.Graph(adj_matrix)\n",
    "nx.draw_networkx(graph, node_color = \"lightgreen\")"
   ]
  },
  {
   "cell_type": "code",
   "execution_count": 14,
   "id": "cff4b44f-d10d-425e-8df8-267209ad98e7",
   "metadata": {
    "execution": {
     "iopub.execute_input": "2023-02-12T03:00:59.388963Z",
     "iopub.status.busy": "2023-02-12T03:00:59.388963Z",
     "iopub.status.idle": "2023-02-12T03:00:59.394486Z",
     "shell.execute_reply": "2023-02-12T03:00:59.394486Z",
     "shell.execute_reply.started": "2023-02-12T03:00:59.388963Z"
    },
    "tags": []
   },
   "outputs": [
    {
     "data": {
      "text/plain": [
       "EdgeView([(0, 0), (0, 1), (0, 2), (0, 3), (0, 5), (0, 6), (0, 8), (0, 9), (0, 4), (0, 7), (1, 2), (1, 4), (1, 5), (1, 7), (1, 8), (1, 3), (1, 6), (1, 9), (2, 2), (2, 4), (2, 6), (2, 7), (2, 8), (2, 5), (2, 9), (3, 3), (3, 4), (3, 6), (3, 7), (4, 4), (4, 5), (4, 6), (4, 8), (4, 9), (4, 7), (5, 5), (5, 7), (5, 9), (5, 8), (6, 6), (6, 7), (6, 9), (7, 8), (8, 9)])"
      ]
     },
     "execution_count": 14,
     "metadata": {},
     "output_type": "execute_result"
    }
   ],
   "source": [
    "graph.edges()"
   ]
  },
  {
   "cell_type": "markdown",
   "id": "2710585c-a1e7-46f7-9611-9cb72497d800",
   "metadata": {},
   "source": [
    "## **3. Edge list format**\n",
    "-------------------------------------------\n",
    "**Useful for graphs with simple edge attributes and without node attributes and not good for netwerks with isolated nodes. In edge lists we can have additionalcolumns for edge attributes.**"
   ]
  },
  {
   "cell_type": "code",
   "execution_count": 15,
   "id": "61aea279-19ba-497e-a736-37ccbe2d61ac",
   "metadata": {
    "execution": {
     "iopub.execute_input": "2023-02-12T03:01:00.261664Z",
     "iopub.status.busy": "2023-02-12T03:01:00.261664Z",
     "iopub.status.idle": "2023-02-12T03:01:00.284016Z",
     "shell.execute_reply": "2023-02-12T03:01:00.284016Z",
     "shell.execute_reply.started": "2023-02-12T03:01:00.261664Z"
    },
    "tags": []
   },
   "outputs": [
    {
     "name": "stdout",
     "output_type": "stream",
     "text": [
      "0 1 4\n",
      "0 2 3\n",
      "0 3 2\n",
      "0 5 6\n",
      "1 3 2\n",
      "1 6 5\n",
      "3 4 3\n",
      "4 5 1\n",
      "4 7 2\n",
      "5 8 6\n",
      "8 9 1\n"
     ]
    }
   ],
   "source": [
    "!type \"D:\\Applied-Social-Network-Analysis-in-Python\\resources\\G_edgelist.txt\""
   ]
  },
  {
   "cell_type": "code",
   "execution_count": 16,
   "id": "5a485a71-5556-4546-88a6-0c57107bbeaf",
   "metadata": {
    "execution": {
     "iopub.execute_input": "2023-02-12T03:01:00.636684Z",
     "iopub.status.busy": "2023-02-12T03:01:00.636684Z",
     "iopub.status.idle": "2023-02-12T03:01:00.641162Z",
     "shell.execute_reply": "2023-02-12T03:01:00.641162Z",
     "shell.execute_reply.started": "2023-02-12T03:01:00.636684Z"
    },
    "tags": []
   },
   "outputs": [],
   "source": [
    "graph = nx.read_edgelist(r\"D:/Applied-Social-Network-Analysis-in-Python/resources/G_edgelist.txt\", data = [(\"weight\", np.int64)],\n",
    "                         nodetype = np.int64)"
   ]
  },
  {
   "cell_type": "code",
   "execution_count": 17,
   "id": "4311cbec-ae2a-49e3-8771-ebdac0341d97",
   "metadata": {
    "execution": {
     "iopub.execute_input": "2023-02-12T03:01:01.086454Z",
     "iopub.status.busy": "2023-02-12T03:01:01.085495Z",
     "iopub.status.idle": "2023-02-12T03:01:01.091436Z",
     "shell.execute_reply": "2023-02-12T03:01:01.090425Z",
     "shell.execute_reply.started": "2023-02-12T03:01:01.086454Z"
    },
    "tags": []
   },
   "outputs": [
    {
     "data": {
      "text/plain": [
       "EdgeView([(0, 1), (0, 2), (0, 3), (0, 5), (1, 3), (1, 6), (3, 4), (5, 4), (5, 8), (4, 7), (8, 9)])"
      ]
     },
     "execution_count": 17,
     "metadata": {},
     "output_type": "execute_result"
    }
   ],
   "source": [
    "graph.edges()"
   ]
  },
  {
   "cell_type": "code",
   "execution_count": 18,
   "id": "838b2430-0a8f-4b43-902d-1056e44507f0",
   "metadata": {
    "execution": {
     "iopub.execute_input": "2023-02-12T03:01:01.617393Z",
     "iopub.status.busy": "2023-02-12T03:01:01.617393Z",
     "iopub.status.idle": "2023-02-12T03:01:01.725133Z",
     "shell.execute_reply": "2023-02-12T03:01:01.725133Z",
     "shell.execute_reply.started": "2023-02-12T03:01:01.617393Z"
    },
    "tags": []
   },
   "outputs": [
    {
     "data": {
      "image/png": "[encoded data removed]",
      "text/plain": [
       "<Figure size 750x750 with 1 Axes>"
      ]
     },
     "metadata": {},
     "output_type": "display_data"
    }
   ],
   "source": [
    "posit = nx.spring_layout(graph)\n",
    "\n",
    "nx.draw_networkx(graph, node_color = \"yellow\", pos = posit, width = list(nx.get_edge_attributes(graph, name = \"weight\").values()))\n",
    "nx.draw_networkx_edge_labels(graph, pos = posit, edge_labels = nx.get_edge_attributes(graph, name = \"weight\"))\n",
    "plt.show()"
   ]
  },
  {
   "cell_type": "markdown",
   "id": "874042f2-3780-4c8e-a4b0-5da939e0e8bc",
   "metadata": {
    "tags": []
   },
   "source": [
    "## **4. Pandas DataFrame**\n",
    "-------------------------\n",
    "**DataFrame must be in a format similar to edge lists.**"
   ]
  },
  {
   "cell_type": "code",
   "execution_count": 19,
   "id": "04f2999a-bede-4ec6-a998-dabdf377816a",
   "metadata": {
    "execution": {
     "iopub.execute_input": "2023-02-12T03:01:07.709330Z",
     "iopub.status.busy": "2023-02-12T03:01:07.708329Z",
     "iopub.status.idle": "2023-02-12T03:01:07.717399Z",
     "shell.execute_reply": "2023-02-12T03:01:07.716377Z",
     "shell.execute_reply.started": "2023-02-12T03:01:07.709330Z"
    },
    "tags": []
   },
   "outputs": [],
   "source": [
    "data = pd.DataFrame(data = {\"Node_1\": [random.choice(ascii_uppercase) for _ in range(20)],\n",
    "                     \"Node_2\": [random.choice(ascii_uppercase) for _ in range(20)],\n",
    "                     \"Weight\": np.random.randint(1, 10, 20)}).drop_duplicates()"
   ]
  },
  {
   "cell_type": "code",
   "execution_count": 20,
   "id": "33dc4cc2-b6f4-415b-adb2-bb337fa2a22c",
   "metadata": {
    "execution": {
     "iopub.execute_input": "2023-02-12T03:01:08.524508Z",
     "iopub.status.busy": "2023-02-12T03:01:08.524508Z",
     "iopub.status.idle": "2023-02-12T03:01:08.528198Z",
     "shell.execute_reply": "2023-02-12T03:01:08.528198Z",
     "shell.execute_reply.started": "2023-02-12T03:01:08.524508Z"
    },
    "tags": []
   },
   "outputs": [],
   "source": [
    "graph = nx.from_pandas_edgelist(data, source = \"Node_1\", target = \"Node_2\", edge_attr = \"Weight\")"
   ]
  },
  {
   "cell_type": "code",
   "execution_count": 21,
   "id": "798474f6-d902-439d-8c17-a078985d8807",
   "metadata": {
    "execution": {
     "iopub.execute_input": "2023-02-12T03:01:08.877261Z",
     "iopub.status.busy": "2023-02-12T03:01:08.877261Z",
     "iopub.status.idle": "2023-02-12T03:01:08.883291Z",
     "shell.execute_reply": "2023-02-12T03:01:08.882284Z",
     "shell.execute_reply.started": "2023-02-12T03:01:08.877261Z"
    },
    "tags": []
   },
   "outputs": [
    {
     "data": {
      "text/plain": [
       "EdgeView([('U', 'N'), ('U', 'E'), ('N', 'X'), ('N', 'S'), ('Y', 'Q'), ('H', 'X'), ('C', 'T'), ('C', 'R'), ('C', 'Z'), ('C', 'K'), ('T', 'A'), ('T', 'Z'), ('Z', 'S'), ('S', 'L'), ('E', 'D'), ('G', 'D'), ('F', 'F'), ('O', 'M')])"
      ]
     },
     "execution_count": 21,
     "metadata": {},
     "output_type": "execute_result"
    }
   ],
   "source": [
    "graph.edges()"
   ]
  },
  {
   "cell_type": "code",
   "execution_count": 22,
   "id": "f62e9738-ee0e-4c95-aa87-22b028a56ae1",
   "metadata": {
    "execution": {
     "iopub.execute_input": "2023-02-12T03:01:09.422709Z",
     "iopub.status.busy": "2023-02-12T03:01:09.421706Z",
     "iopub.status.idle": "2023-02-12T03:01:09.429023Z",
     "shell.execute_reply": "2023-02-12T03:01:09.427981Z",
     "shell.execute_reply.started": "2023-02-12T03:01:09.422709Z"
    },
    "tags": []
   },
   "outputs": [
    {
     "data": {
      "text/plain": [
       "{('U', 'N'): 3,\n",
       " ('U', 'E'): 9,\n",
       " ('N', 'X'): 9,\n",
       " ('N', 'S'): 1,\n",
       " ('Y', 'Q'): 5,\n",
       " ('H', 'X'): 3,\n",
       " ('C', 'T'): 2,\n",
       " ('C', 'R'): 3,\n",
       " ('C', 'Z'): 6,\n",
       " ('C', 'K'): 9,\n",
       " ('T', 'A'): 9,\n",
       " ('T', 'Z'): 8,\n",
       " ('Z', 'S'): 8,\n",
       " ('S', 'L'): 7,\n",
       " ('E', 'D'): 8,\n",
       " ('G', 'D'): 5,\n",
       " ('F', 'F'): 6,\n",
       " ('O', 'M'): 8}"
      ]
     },
     "execution_count": 22,
     "metadata": {},
     "output_type": "execute_result"
    }
   ],
   "source": [
    "nx.get_edge_attributes(graph, name = \"Weight\")"
   ]
  },
  {
   "cell_type": "code",
   "execution_count": 23,
   "id": "7ae22ae1-50ef-4d99-84ea-10317d22ce84",
   "metadata": {
    "execution": {
     "iopub.execute_input": "2023-02-12T03:01:09.886034Z",
     "iopub.status.busy": "2023-02-12T03:01:09.885092Z",
     "iopub.status.idle": "2023-02-12T03:01:09.997053Z",
     "shell.execute_reply": "2023-02-12T03:01:09.997053Z",
     "shell.execute_reply.started": "2023-02-12T03:01:09.886034Z"
    },
    "tags": []
   },
   "outputs": [
    {
     "data": {
      "image/png": "[encoded data removed]",
      "text/plain": [
       "<Figure size 750x750 with 1 Axes>"
      ]
     },
     "metadata": {},
     "output_type": "display_data"
    }
   ],
   "source": [
    "nx.draw_networkx(graph, node_color = \"blue\", font_color = \"white\")"
   ]
  },
  {
   "cell_type": "markdown",
   "id": "97bc3176-3601-4c78-a841-f45d18fe912e",
   "metadata": {},
   "source": [
    "# ***A complex example***\n",
    "---------------------"
   ]
  },
  {
   "cell_type": "code",
   "execution_count": 24,
   "id": "76ba2f8f-b165-462a-8559-d9f30b9e1a74",
   "metadata": {
    "execution": {
     "iopub.execute_input": "2023-02-12T03:01:17.997436Z",
     "iopub.status.busy": "2023-02-12T03:01:17.997436Z",
     "iopub.status.idle": "2023-02-12T03:01:18.351799Z",
     "shell.execute_reply": "2023-02-12T03:01:18.351799Z",
     "shell.execute_reply.started": "2023-02-12T03:01:17.997436Z"
    },
    "tags": []
   },
   "outputs": [
    {
     "name": "stdout",
     "output_type": "stream",
     "text": [
      "1 2 0\t885635999.999997\n",
      "1 3 0\t885635999.999997\n",
      "1 4 0\t885635999.999997\n",
      "1 5 1\t885635999.999997\n",
      "1 6 0\t885635999.999997\n",
      "7 8 0\t885635999.999997\n",
      "7 9 1\t885635999.999997\n",
      "7 10 1\t885635999.999997\n",
      "11 12 -1\t885635999.999997\n",
      "13 14 1\t885635999.999997\n",
      "15 16 1\t885635999.999997\n",
      "17 18 -1\t885635999.999997\n",
      "19 7 0\t885635999.999997\n",
      "19 8 0\t885635999.999997\n",
      "19 20 -1\t885635999.999997\n",
      "19 21 -1\t885635999.999997\n",
      "19 22 1\t885635999.999997\n",
      "23 1 -1\t885635999.999997\n",
      "23 2 -1\t885635999.999997\n",
      "23 3 1\t885635999.999997\n"
     ]
    }
   ],
   "source": [
    "!pwsh.exe -c \"&Get-Content \"D:\\Applied-Social-Network-Analysis-in-Python\\resources\\chess_graph.txt\" -TotalCount 20\""
   ]
  },
  {
   "cell_type": "code",
   "execution_count": 25,
   "id": "0f88055f-8776-4f12-b80e-99a7c3a1f3fc",
   "metadata": {
    "execution": {
     "iopub.execute_input": "2023-02-12T03:01:19.228339Z",
     "iopub.status.busy": "2023-02-12T03:01:19.228339Z",
     "iopub.status.idle": "2023-02-12T03:01:19.231267Z",
     "shell.execute_reply": "2023-02-12T03:01:19.231267Z",
     "shell.execute_reply.started": "2023-02-12T03:01:19.228339Z"
    },
    "tags": []
   },
   "outputs": [],
   "source": [
    "# each node represents a chess player\n",
    "# and a directed edge represents a game\n",
    "# white player - first column (outgoing edge)\n",
    "# black player - second column (incoming edge)\n",
    "# third column - weight (outcomes: 1 - white win, 0 - draw and -1 - black win)\n",
    "# fourth column - timestamps"
   ]
  },
  {
   "cell_type": "code",
   "execution_count": 26,
   "id": "1301fa28-b443-426e-84bc-1e69f57ce7aa",
   "metadata": {
    "execution": {
     "iopub.execute_input": "2023-02-12T03:01:21.964188Z",
     "iopub.status.busy": "2023-02-12T03:01:21.964188Z",
     "iopub.status.idle": "2023-02-12T03:01:22.289664Z",
     "shell.execute_reply": "2023-02-12T03:01:22.289312Z",
     "shell.execute_reply.started": "2023-02-12T03:01:21.964188Z"
    },
    "tags": []
   },
   "outputs": [],
   "source": [
    "# we need a multi directed graph here as we are interested in the directions\n",
    "\n",
    "chess = nx.read_edgelist(r\"D:/Applied-Social-Network-Analysis-in-Python/resources/chess_graph.txt\",\n",
    "                        data = [(\"result\", np.int8), (\"timestamp\", np.float64)], create_using = nx.MultiDiGraph())"
   ]
  },
  {
   "cell_type": "code",
   "execution_count": 27,
   "id": "2e376101-bf17-48f2-9188-3e967c9981ad",
   "metadata": {
    "execution": {
     "iopub.execute_input": "2023-02-12T03:01:22.670582Z",
     "iopub.status.busy": "2023-02-12T03:01:22.669583Z",
     "iopub.status.idle": "2023-02-12T03:01:22.704193Z",
     "shell.execute_reply": "2023-02-12T03:01:22.704193Z",
     "shell.execute_reply.started": "2023-02-12T03:01:22.670582Z"
    },
    "tags": []
   },
   "outputs": [
    {
     "data": {
      "text/plain": [
       "65053"
      ]
     },
     "execution_count": 27,
     "metadata": {},
     "output_type": "execute_result"
    }
   ],
   "source": [
    "len(chess.edges())"
   ]
  },
  {
   "cell_type": "code",
   "execution_count": 28,
   "id": "a1e10b29-4e17-440e-a218-e61fcb7a6c61",
   "metadata": {
    "execution": {
     "iopub.execute_input": "2023-02-12T03:01:23.245515Z",
     "iopub.status.busy": "2023-02-12T03:01:23.244486Z",
     "iopub.status.idle": "2023-02-12T03:01:23.250097Z",
     "shell.execute_reply": "2023-02-12T03:01:23.250097Z",
     "shell.execute_reply.started": "2023-02-12T03:01:23.245515Z"
    },
    "tags": []
   },
   "outputs": [
    {
     "data": {
      "text/plain": [
       "True"
      ]
     },
     "execution_count": 28,
     "metadata": {},
     "output_type": "execute_result"
    }
   ],
   "source": [
    "chess.is_directed()"
   ]
  },
  {
   "cell_type": "code",
   "execution_count": 29,
   "id": "6e9637c5-127b-42c8-aacc-f52d251adffa",
   "metadata": {
    "execution": {
     "iopub.execute_input": "2023-02-12T03:01:23.622612Z",
     "iopub.status.busy": "2023-02-12T03:01:23.621616Z",
     "iopub.status.idle": "2023-02-12T03:01:23.626547Z",
     "shell.execute_reply": "2023-02-12T03:01:23.626547Z",
     "shell.execute_reply.started": "2023-02-12T03:01:23.622612Z"
    },
    "tags": []
   },
   "outputs": [
    {
     "data": {
      "text/plain": [
       "True"
      ]
     },
     "execution_count": 29,
     "metadata": {},
     "output_type": "execute_result"
    }
   ],
   "source": [
    "chess.is_multigraph()"
   ]
  },
  {
   "cell_type": "code",
   "execution_count": 30,
   "id": "fe3af7d1-005c-4269-b502-cfed9db8e8b7",
   "metadata": {
    "execution": {
     "iopub.execute_input": "2023-02-12T03:01:24.685204Z",
     "iopub.status.busy": "2023-02-12T03:01:24.685204Z",
     "iopub.status.idle": "2023-02-12T03:01:24.818445Z",
     "shell.execute_reply": "2023-02-12T03:01:24.818445Z",
     "shell.execute_reply.started": "2023-02-12T03:01:24.685204Z"
    },
    "tags": []
   },
   "outputs": [
    {
     "data": {
      "text/plain": [
       "[('1', '2', {'result': 0, 'timestamp': 885635999.999997}),\n",
       " ('1', '3', {'result': 0, 'timestamp': 885635999.999997}),\n",
       " ('1', '4', {'result': 0, 'timestamp': 885635999.999997}),\n",
       " ('1', '5', {'result': 1, 'timestamp': 885635999.999997}),\n",
       " ('1', '6', {'result': 0, 'timestamp': 885635999.999997}),\n",
       " ('1', '807', {'result': 0, 'timestamp': 896148000.000003}),\n",
       " ('1', '454', {'result': 0, 'timestamp': 896148000.000003}),\n",
       " ('1', '827', {'result': 0, 'timestamp': 901403999.999997}),\n",
       " ('1', '1240', {'result': 0, 'timestamp': 906660000.0}),\n",
       " ('1', '680', {'result': 0, 'timestamp': 906660000.0})]"
      ]
     },
     "execution_count": 30,
     "metadata": {},
     "output_type": "execute_result"
    }
   ],
   "source": [
    "list(chess.edges(data = True))[:10]"
   ]
  },
  {
   "cell_type": "code",
   "execution_count": 31,
   "id": "9194dbd2-5795-4fa8-9f77-f4306495d276",
   "metadata": {
    "execution": {
     "iopub.execute_input": "2023-02-12T03:01:25.339722Z",
     "iopub.status.busy": "2023-02-12T03:01:25.339722Z",
     "iopub.status.idle": "2023-02-12T03:01:25.344250Z",
     "shell.execute_reply": "2023-02-12T03:01:25.343226Z",
     "shell.execute_reply.started": "2023-02-12T03:01:25.339722Z"
    },
    "tags": []
   },
   "outputs": [],
   "source": [
    "# .degree() method returns the number of edges connected to each node\n",
    "\n",
    "chess.degree();"
   ]
  },
  {
   "cell_type": "code",
   "execution_count": 39,
   "id": "9e5241f7-82f1-4677-8f3a-68ad0ecc5ec6",
   "metadata": {
    "execution": {
     "iopub.execute_input": "2023-02-12T03:04:23.456119Z",
     "iopub.status.busy": "2023-02-12T03:04:23.455120Z",
     "iopub.status.idle": "2023-02-12T03:04:23.486293Z",
     "shell.execute_reply": "2023-02-12T03:04:23.486293Z",
     "shell.execute_reply.started": "2023-02-12T03:04:23.456119Z"
    },
    "tags": []
   },
   "outputs": [],
   "source": [
    "player = \"\"\n",
    "games = 0\n",
    "\n",
    "[(player := _player, games := game) for _player, game in dict(chess.degree()).items() if game > games];"
   ]
  },
  {
   "cell_type": "code",
   "execution_count": 40,
   "id": "cdefd18c-aafd-4c2a-855b-5f05cd1f98f9",
   "metadata": {
    "execution": {
     "iopub.execute_input": "2023-02-12T03:04:24.198374Z",
     "iopub.status.busy": "2023-02-12T03:04:24.198374Z",
     "iopub.status.idle": "2023-02-12T03:04:24.202771Z",
     "shell.execute_reply": "2023-02-12T03:04:24.202771Z",
     "shell.execute_reply.started": "2023-02-12T03:04:24.198374Z"
    },
    "tags": []
   },
   "outputs": [
    {
     "data": {
      "text/plain": [
       "'461'"
      ]
     },
     "execution_count": 40,
     "metadata": {},
     "output_type": "execute_result"
    }
   ],
   "source": [
    "player"
   ]
  },
  {
   "cell_type": "code",
   "execution_count": 41,
   "id": "a94781d5-b520-4177-a44e-ffc22caa93ef",
   "metadata": {
    "execution": {
     "iopub.execute_input": "2023-02-12T03:04:24.614226Z",
     "iopub.status.busy": "2023-02-12T03:04:24.614226Z",
     "iopub.status.idle": "2023-02-12T03:04:24.618513Z",
     "shell.execute_reply": "2023-02-12T03:04:24.618513Z",
     "shell.execute_reply.started": "2023-02-12T03:04:24.614226Z"
    },
    "tags": []
   },
   "outputs": [
    {
     "data": {
      "text/plain": [
       "280"
      ]
     },
     "execution_count": 41,
     "metadata": {},
     "output_type": "execute_result"
    }
   ],
   "source": [
    "games"
   ]
  },
  {
   "cell_type": "code",
   "execution_count": 44,
   "id": "29f367c1-0758-40de-b821-7c6586d7a01d",
   "metadata": {
    "execution": {
     "iopub.execute_input": "2023-02-12T03:08:07.457715Z",
     "iopub.status.busy": "2023-02-12T03:08:07.457715Z",
     "iopub.status.idle": "2023-02-12T03:08:07.460996Z",
     "shell.execute_reply": "2023-02-12T03:08:07.460996Z",
     "shell.execute_reply.started": "2023-02-12T03:08:07.457715Z"
    },
    "tags": []
   },
   "outputs": [
    {
     "name": "stdout",
     "output_type": "stream",
     "text": [
      "Player 461 has played 280 games.!\n"
     ]
    }
   ],
   "source": [
    "print(f\"Player {player} has played {games} games.!\")"
   ]
  },
  {
   "cell_type": "code",
   "execution_count": 52,
   "id": "710dad77-8245-4b62-9100-77e86615f951",
   "metadata": {
    "execution": {
     "iopub.execute_input": "2023-02-12T03:13:12.974246Z",
     "iopub.status.busy": "2023-02-12T03:13:12.973246Z",
     "iopub.status.idle": "2023-02-12T03:13:13.296434Z",
     "shell.execute_reply": "2023-02-12T03:13:13.295424Z",
     "shell.execute_reply.started": "2023-02-12T03:13:12.973246Z"
    },
    "tags": []
   },
   "outputs": [],
   "source": [
    "# use pandas\n",
    "\n",
    "chess_df = pd.read_csv(r\"D:/Applied-Social-Network-Analysis-in-Python/resources/chess_graph.txt\", delimiter = \"\\s\",\n",
    "            names = [\"White\", \"Black\", \"Result\", \"TimeStamp\"], engine = \"python\")"
   ]
  },
  {
   "cell_type": "code",
   "execution_count": 53,
   "id": "37cf6f82-aebd-422a-9d0c-1474b051b226",
   "metadata": {
    "execution": {
     "iopub.execute_input": "2023-02-12T03:13:18.419495Z",
     "iopub.status.busy": "2023-02-12T03:13:18.418493Z",
     "iopub.status.idle": "2023-02-12T03:13:18.423600Z",
     "shell.execute_reply": "2023-02-12T03:13:18.423600Z",
     "shell.execute_reply.started": "2023-02-12T03:13:18.419495Z"
    },
    "tags": []
   },
   "outputs": [
    {
     "data": {
      "text/plain": [
       "(65053, 4)"
      ]
     },
     "execution_count": 53,
     "metadata": {},
     "output_type": "execute_result"
    }
   ],
   "source": [
    "chess_df.shape"
   ]
  },
  {
   "cell_type": "code",
   "execution_count": 54,
   "id": "219a323f-ddb1-4555-8732-5bd623f8ebeb",
   "metadata": {
    "execution": {
     "iopub.execute_input": "2023-02-12T03:13:33.362902Z",
     "iopub.status.busy": "2023-02-12T03:13:33.361876Z",
     "iopub.status.idle": "2023-02-12T03:13:33.408641Z",
     "shell.execute_reply": "2023-02-12T03:13:33.408641Z",
     "shell.execute_reply.started": "2023-02-12T03:13:33.362902Z"
    },
    "tags": []
   },
   "outputs": [
    {
     "data": {
      "text/plain": [
       "array([ 0,  1, -1], dtype=int64)"
      ]
     },
     "execution_count": 54,
     "metadata": {},
     "output_type": "execute_result"
    }
   ],
   "source": [
    "chess_df.Result.unique()"
   ]
  },
  {
   "cell_type": "code",
   "execution_count": 65,
   "id": "a5fe3e3b-9d4a-49fb-abf1-cda3a5bfa853",
   "metadata": {
    "execution": {
     "iopub.execute_input": "2023-02-12T03:20:33.113655Z",
     "iopub.status.busy": "2023-02-12T03:20:33.113655Z",
     "iopub.status.idle": "2023-02-12T03:20:33.125787Z",
     "shell.execute_reply": "2023-02-12T03:20:33.125787Z",
     "shell.execute_reply.started": "2023-02-12T03:20:33.113655Z"
    },
    "tags": []
   },
   "outputs": [
    {
     "data": {
      "text/html": [
       "<div>\n",
       "<style scoped>\n",
       "    .dataframe tbody tr th:only-of-type {\n",
       "        vertical-align: middle;\n",
       "    }\n",
       "\n",
       "    .dataframe tbody tr th {\n",
       "        vertical-align: top;\n",
       "    }\n",
       "\n",
       "    .dataframe thead th {\n",
       "        text-align: right;\n",
       "    }\n",
       "</style>\n",
       "<table border=\"1\" class=\"dataframe\">\n",
       "  <thead>\n",
       "    <tr style=\"text-align: right;\">\n",
       "      <th></th>\n",
       "      <th>Result</th>\n",
       "    </tr>\n",
       "    <tr>\n",
       "      <th>White</th>\n",
       "      <th></th>\n",
       "    </tr>\n",
       "  </thead>\n",
       "  <tbody>\n",
       "    <tr>\n",
       "      <th>461</th>\n",
       "      <td>67</td>\n",
       "    </tr>\n",
       "    <tr>\n",
       "      <th>98</th>\n",
       "      <td>62</td>\n",
       "    </tr>\n",
       "    <tr>\n",
       "      <th>330</th>\n",
       "      <td>62</td>\n",
       "    </tr>\n",
       "    <tr>\n",
       "      <th>467</th>\n",
       "      <td>59</td>\n",
       "    </tr>\n",
       "    <tr>\n",
       "      <th>371</th>\n",
       "      <td>52</td>\n",
       "    </tr>\n",
       "    <tr>\n",
       "      <th>275</th>\n",
       "      <td>51</td>\n",
       "    </tr>\n",
       "    <tr>\n",
       "      <th>623</th>\n",
       "      <td>51</td>\n",
       "    </tr>\n",
       "    <tr>\n",
       "      <th>112</th>\n",
       "      <td>51</td>\n",
       "    </tr>\n",
       "    <tr>\n",
       "      <th>455</th>\n",
       "      <td>51</td>\n",
       "    </tr>\n",
       "    <tr>\n",
       "      <th>251</th>\n",
       "      <td>51</td>\n",
       "    </tr>\n",
       "  </tbody>\n",
       "</table>\n",
       "</div>"
      ],
      "text/plain": [
       "       Result\n",
       "White        \n",
       "461        67\n",
       "98         62\n",
       "330        62\n",
       "467        59\n",
       "371        52\n",
       "275        51\n",
       "623        51\n",
       "112        51\n",
       "455        51\n",
       "251        51"
      ]
     },
     "execution_count": 65,
     "metadata": {},
     "output_type": "execute_result"
    }
   ],
   "source": [
    "# players who won the most games\n",
    "\n",
    "# white win\n",
    "wwin = chess_df.query(\"Result == 1\")\n",
    "\n",
    "# group by player and sort by results\n",
    "wwin.groupby(\"White\").agg({\"Result\": np.sum}).sort_values(\"Result\", ascending = False)[:10]"
   ]
  },
  {
   "cell_type": "code",
   "execution_count": 68,
   "id": "c358f455-f5b6-4cc5-ab14-fc65050d6c5b",
   "metadata": {
    "execution": {
     "iopub.execute_input": "2023-02-12T03:22:09.307285Z",
     "iopub.status.busy": "2023-02-12T03:22:09.306286Z",
     "iopub.status.idle": "2023-02-12T03:22:09.420423Z",
     "shell.execute_reply": "2023-02-12T03:22:09.419409Z",
     "shell.execute_reply.started": "2023-02-12T03:22:09.307285Z"
    },
    "tags": []
   },
   "outputs": [
    {
     "data": {
      "text/html": [
       "<div>\n",
       "<style scoped>\n",
       "    .dataframe tbody tr th:only-of-type {\n",
       "        vertical-align: middle;\n",
       "    }\n",
       "\n",
       "    .dataframe tbody tr th {\n",
       "        vertical-align: top;\n",
       "    }\n",
       "\n",
       "    .dataframe thead th {\n",
       "        text-align: right;\n",
       "    }\n",
       "</style>\n",
       "<table border=\"1\" class=\"dataframe\">\n",
       "  <thead>\n",
       "    <tr style=\"text-align: right;\">\n",
       "      <th></th>\n",
       "      <th>Result</th>\n",
       "    </tr>\n",
       "    <tr>\n",
       "      <th>Black</th>\n",
       "      <th></th>\n",
       "    </tr>\n",
       "  </thead>\n",
       "  <tbody>\n",
       "    <tr>\n",
       "      <th>371</th>\n",
       "      <td>91</td>\n",
       "    </tr>\n",
       "    <tr>\n",
       "      <th>659</th>\n",
       "      <td>86</td>\n",
       "    </tr>\n",
       "    <tr>\n",
       "      <th>461</th>\n",
       "      <td>80</td>\n",
       "    </tr>\n",
       "    <tr>\n",
       "      <th>211</th>\n",
       "      <td>79</td>\n",
       "    </tr>\n",
       "    <tr>\n",
       "      <th>673</th>\n",
       "      <td>75</td>\n",
       "    </tr>\n",
       "    <tr>\n",
       "      <th>92</th>\n",
       "      <td>71</td>\n",
       "    </tr>\n",
       "    <tr>\n",
       "      <th>455</th>\n",
       "      <td>71</td>\n",
       "    </tr>\n",
       "    <tr>\n",
       "      <th>64</th>\n",
       "      <td>69</td>\n",
       "    </tr>\n",
       "    <tr>\n",
       "      <th>1108</th>\n",
       "      <td>68</td>\n",
       "    </tr>\n",
       "    <tr>\n",
       "      <th>330</th>\n",
       "      <td>65</td>\n",
       "    </tr>\n",
       "  </tbody>\n",
       "</table>\n",
       "</div>"
      ],
      "text/plain": [
       "       Result\n",
       "Black        \n",
       "371        91\n",
       "659        86\n",
       "461        80\n",
       "211        79\n",
       "673        75\n",
       "92         71\n",
       "455        71\n",
       "64         69\n",
       "1108       68\n",
       "330        65"
      ]
     },
     "execution_count": 68,
     "metadata": {},
     "output_type": "execute_result"
    }
   ],
   "source": [
    "# black win\n",
    "bwin = chess_df.query(\"Result == 0\")\n",
    "\n",
    "# group by player and sort by results\n",
    "bwin.groupby(\"Black\").agg({\"Result\": len}).sort_values(\"Result\", ascending = False)[:10]"
   ]
  },
  {
   "cell_type": "code",
   "execution_count": null,
   "id": "0f6f5a78-6fbc-462b-a883-cb1747839a3b",
   "metadata": {},
   "outputs": [],
   "source": []
  }
 ],
 "metadata": {
  "kernelspec": {
   "display_name": "Python 3 (ipykernel)",
   "language": "python",
   "name": "python3"
  },
  "language_info": {
   "codemirror_mode": {
    "name": "ipython",
    "version": 3
   },
   "file_extension": ".py",
   "mimetype": "text/x-python",
   "name": "python",
   "nbconvert_exporter": "python",
   "pygments_lexer": "ipython3",
   "version": "3.11.2"
  }
 },
 "nbformat": 4,
 "nbformat_minor": 5
}
