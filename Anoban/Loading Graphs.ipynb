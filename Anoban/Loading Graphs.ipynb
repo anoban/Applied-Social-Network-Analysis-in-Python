{
 "cells": [
  {
   "cell_type": "code",
   "execution_count": 1,
   "id": "36383e4d-35f0-4f4b-a3b0-ae4352d06298",
   "metadata": {
    "execution": {
     "iopub.execute_input": "2023-02-11T10:12:38.447131Z",
     "iopub.status.busy": "2023-02-11T10:12:38.446028Z",
     "iopub.status.idle": "2023-02-11T10:12:44.842108Z",
     "shell.execute_reply": "2023-02-11T10:12:44.841729Z",
     "shell.execute_reply.started": "2023-02-11T10:12:38.447131Z"
    },
    "tags": []
   },
   "outputs": [],
   "source": [
    "import pandas as pd\n",
    "import numpy as np\n",
    "import networkx as nx\n",
    "import matplotlib.pyplot as plt"
   ]
  },
  {
   "cell_type": "code",
   "execution_count": 8,
   "id": "43245df0-e43e-4583-b769-5b9fe0143c61",
   "metadata": {
    "execution": {
     "iopub.execute_input": "2023-02-11T10:15:12.042805Z",
     "iopub.status.busy": "2023-02-11T10:15:12.041806Z",
     "iopub.status.idle": "2023-02-11T10:15:12.064359Z",
     "shell.execute_reply": "2023-02-11T10:15:12.064359Z",
     "shell.execute_reply.started": "2023-02-11T10:15:12.042805Z"
    },
    "tags": []
   },
   "outputs": [
    {
     "name": "stdout",
     "output_type": "stream",
     "text": [
      "0 1 2 3 5\n",
      "1 3 6\n",
      "2\n",
      "3 4\n",
      "4 5 7\n",
      "5 8\n",
      "6\n",
      "7\n",
      "8 9\n",
      "9\n"
     ]
    }
   ],
   "source": [
    "!type \"D:\\Applied-Social-Network-Analysis-in-Python\\resources\\G_adjlist.txt\""
   ]
  },
  {
   "cell_type": "code",
   "execution_count": null,
   "id": "63ed8efe-f087-447c-8b97-a0e893ed3dcf",
   "metadata": {},
   "outputs": [],
   "source": []
  }
 ],
 "metadata": {
  "kernelspec": {
   "display_name": "Python 3 (ipykernel)",
   "language": "python",
   "name": "python3"
  },
  "language_info": {
   "codemirror_mode": {
    "name": "ipython",
    "version": 3
   },
   "file_extension": ".py",
   "mimetype": "text/x-python",
   "name": "python",
   "nbconvert_exporter": "python",
   "pygments_lexer": "ipython3",
   "version": "3.11.2"
  }
 },
 "nbformat": 4,
 "nbformat_minor": 5
}
