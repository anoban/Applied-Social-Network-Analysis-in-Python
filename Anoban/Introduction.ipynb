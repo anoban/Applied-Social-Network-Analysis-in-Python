{
 "cells": [
  {
   "cell_type": "markdown",
   "id": "9abb5b44-4f25-4325-a427-8c38d62c518c",
   "metadata": {},
   "source": [
    "<p style=\"font-size:35px; color:green; font-weight:bold; font-style:italic\">Introduction to Networks.</p>\n",
    "\n",
    "### -> ***Networks are a set of objects (nodes) with interconnections (edges)***"
   ]
  },
  {
   "cell_type": "markdown",
   "id": "15bb0694-3dbe-4649-a4c2-654a3d52f5c6",
   "metadata": {},
   "source": [
    "Networks are found everywhere in the real world.\n",
    "e.g:\n",
    "<p style=\"font-weight:bold; font-style:italic;\">\n",
    "- Friendship network in a sports club.\n",
    "- A network of friendships, marital relationships, kinship & familial ties among 2000 people.\n",
    "- e-mail communications network.\n",
    "- Network of directed flights around the world.\n",
    "- Human mobility networks.\n",
    "- Bus transportation networks.\n",
    "- Information networks.\n",
    "- Biological networks.\n",
    "- Food webs.\n",
    "- Citation networks.\n",
    "- Co-author networks.\n",
    "- Trade networks.          \n",
    "so on and so forth..</p>"
   ]
  },
  {
   "cell_type": "markdown",
   "id": "c9f85141-759d-4dd6-890a-8d89544c5163",
   "metadata": {},
   "source": [
    "-----------------------------\n",
    "# ***This course focuses mainly on social networks***\n",
    "-------------------------"
   ]
  },
  {
   "cell_type": "markdown",
   "id": "4621a790-83a6-4fb9-b2fc-1ead6b6f1682",
   "metadata": {},
   "source": [
    "By studying networks, we will be able to answer many questions related to interactions that happen in various spheres!\n",
    "e.g.\n",
    "- Is a rumour likely to spread in this network?\n",
    "- Who are the most influential people in an organization?\n",
    "- Is a sports club likely to split into two rivals?\n",
    "- Given that such a split happens, who will move to which club?\n",
    "- Airports with highest rates of a virus spread?\n",
    "- Parts of the world harder to reach by a given mode of transport, say train/fight?"
   ]
  },
  {
   "cell_type": "markdown",
   "id": "f689fef8-77c1-417f-ab33-8c87629f8813",
   "metadata": {},
   "source": [
    "## **Many complex structures can be modelled through networks.**"
   ]
  }
 ],
 "metadata": {
  "kernelspec": {
   "display_name": "Python 3 (ipykernel)",
   "language": "python",
   "name": "python3"
  },
  "language_info": {
   "codemirror_mode": {
    "name": "ipython",
    "version": 3
   },
   "file_extension": ".py",
   "mimetype": "text/x-python",
   "name": "python",
   "nbconvert_exporter": "python",
   "pygments_lexer": "ipython3",
   "version": "3.11.1"
  }
 },
 "nbformat": 4,
 "nbformat_minor": 5
}
