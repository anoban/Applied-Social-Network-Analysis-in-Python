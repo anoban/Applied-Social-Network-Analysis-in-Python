{
 "cells": [
  {
   "cell_type": "code",
   "execution_count": 1,
   "id": "6e10fee6-fe4c-4137-9db6-3fc7e22c362e",
   "metadata": {
    "execution": {
     "iopub.execute_input": "2023-02-27T21:00:04.021851Z",
     "iopub.status.busy": "2023-02-27T21:00:04.020850Z",
     "iopub.status.idle": "2023-02-27T21:00:12.504451Z",
     "shell.execute_reply": "2023-02-27T21:00:12.503441Z",
     "shell.execute_reply.started": "2023-02-27T21:00:04.021851Z"
    },
    "tags": []
   },
   "outputs": [],
   "source": [
    "import networkx as nx\n",
    "import matplotlib.pyplot as plt"
   ]
  },
  {
   "cell_type": "markdown",
   "id": "bf89ea35-d561-48ee-9c3c-5a8920dabd16",
   "metadata": {},
   "source": [
    "# ***Degree and closeness centrality***\n",
    "-----------------------------"
   ]
  },
  {
   "cell_type": "code",
   "execution_count": 2,
   "id": "18678283-5304-48cc-a642-d55d5480e195",
   "metadata": {
    "execution": {
     "iopub.execute_input": "2023-02-27T21:00:17.186684Z",
     "iopub.status.busy": "2023-02-27T21:00:17.185587Z",
     "iopub.status.idle": "2023-02-27T21:00:17.191605Z",
     "shell.execute_reply": "2023-02-27T21:00:17.190596Z",
     "shell.execute_reply.started": "2023-02-27T21:00:17.186684Z"
    },
    "tags": []
   },
   "outputs": [],
   "source": [
    "# Node importance\n",
    "\n",
    "# in the Karate club network of 34 people which are the 5 most important nodes?\n",
    "# there are many ways to find this!\n",
    "\n",
    "# one way is to think is in terms of degrees\n",
    "# nodes that have higher degrees are generally more important than nodes witl lower degrees.\n",
    "\n",
    "karate = nx.karate_club_graph()\n",
    "karate = nx.convert_node_labels_to_integers(karate, first_label = 1)"
   ]
  },
  {
   "cell_type": "code",
   "execution_count": 3,
   "id": "6bc15d89-2871-472a-85e6-ebb3531184a0",
   "metadata": {
    "execution": {
     "iopub.execute_input": "2023-02-27T21:00:18.601544Z",
     "iopub.status.busy": "2023-02-27T21:00:18.600561Z",
     "iopub.status.idle": "2023-02-27T21:00:18.604155Z",
     "shell.execute_reply": "2023-02-27T21:00:18.604155Z",
     "shell.execute_reply.started": "2023-02-27T21:00:18.601544Z"
    },
    "tags": []
   },
   "outputs": [],
   "source": [
    "# another metric to measure importance is by means of proximity to other nodes.\n",
    "\n",
    "# another metric is the fraction of shortest paths that pass through the given node."
   ]
  },
  {
   "cell_type": "markdown",
   "id": "5d5b1cf7-4ac1-4843-8771-a441a9cb9726",
   "metadata": {},
   "source": [
    "## ***Network centrality***\n",
    "\n",
    "**Centrality measures help us identify the most important nodes in a network.**\n",
    "\n",
    "- Influential nodes in a social network.\n",
    "- Nodes that disseminate information to many other nodes or prevent epidemics.\n",
    "- Hubs in a transportation network.\n",
    "- Important pages on the Web.\n",
    "- Nodes that prevent the network from breaking up.(if these are removed, the network may collapse)"
   ]
  },
  {
   "cell_type": "markdown",
   "id": "798878e8-1501-47c4-9c53-d698446d1d78",
   "metadata": {},
   "source": [
    "## ***Centrality measures***\n",
    "- Degree centrality\n",
    "- Closeness centrality\n",
    "- Betweenness centrality\n",
    "- Load centrality\n",
    "- Page rank\n",
    "- Katz centrality\n",
    "- Percolation centrality"
   ]
  },
  {
   "cell_type": "code",
   "execution_count": 4,
   "id": "22801a06-1d01-4579-94db-d35126d6eb69",
   "metadata": {
    "execution": {
     "iopub.execute_input": "2023-02-27T21:00:20.392376Z",
     "iopub.status.busy": "2023-02-27T21:00:20.392376Z",
     "iopub.status.idle": "2023-02-27T21:00:20.395417Z",
     "shell.execute_reply": "2023-02-27T21:00:20.395417Z",
     "shell.execute_reply.started": "2023-02-27T21:00:20.392376Z"
    },
    "tags": []
   },
   "outputs": [],
   "source": [
    "# degree centrality uses the degree of nodes as the metric of importance\n",
    "# the higher the connections a node has, the more important it becomes.\n",
    "\n",
    "# if the graph is an undirected network, one can simply use the degree\n",
    "# if it is a directed graph one has to decide whether to use the in degrees (incoming connections) or out degrees (outgoing connections)\n",
    "# or a combination of both."
   ]
  },
  {
   "cell_type": "markdown",
   "id": "5ed5ac43-ecbd-43ec-ae13-b27c522a7ab7",
   "metadata": {},
   "source": [
    "## ***Degree centrality of node v is: $C_{deg}(v) = \\frac{d_{v}}{|N| - 1}$***\n",
    "Where N is the total number of nodes in the graph.\n",
    "\n",
    "So, if a node is connected to every single node in the network, it will have a degree centrality of 1.\n",
    "If it is an isolated node, it will have a centrality of 0.\n",
    "So, for a given node its degree centrality will range from 0 to 1."
   ]
  },
  {
   "cell_type": "code",
   "execution_count": 5,
   "id": "55bffd02-68aa-4618-8a81-b8c2a0137ab1",
   "metadata": {
    "execution": {
     "iopub.execute_input": "2023-02-27T21:00:22.170106Z",
     "iopub.status.busy": "2023-02-27T21:00:22.170106Z",
     "iopub.status.idle": "2023-02-27T21:00:22.175765Z",
     "shell.execute_reply": "2023-02-27T21:00:22.175765Z",
     "shell.execute_reply.started": "2023-02-27T21:00:22.170106Z"
    },
    "tags": []
   },
   "outputs": [
    {
     "name": "stdout",
     "output_type": "stream",
     "text": [
      "{1: 16, 2: 9, 3: 10, 4: 6, 5: 3, 6: 4, 7: 4, 8: 4, 9: 5, 10: 2, 11: 3, 12: 1, 13: 2, 14: 5, 15: 2, 16: 2, 17: 2, 18: 2, 19: 2, 20: 3, 21: 2, 22: 2, 23: 2, 24: 5, 25: 3, 26: 3, 27: 2, 28: 4, 29: 3, 30: 4, 31: 4, 32: 6, 33: 12, 34: 17}\n"
     ]
    }
   ],
   "source": [
    "kdegrees = {node: karate.degree(node) for node in karate.nodes()}\n",
    "print(kdegrees)"
   ]
  },
  {
   "cell_type": "code",
   "execution_count": 6,
   "id": "453ca53e-5d36-4491-bd92-6b3297b305d5",
   "metadata": {
    "execution": {
     "iopub.execute_input": "2023-02-27T21:00:22.751472Z",
     "iopub.status.busy": "2023-02-27T21:00:22.751472Z",
     "iopub.status.idle": "2023-02-27T21:00:22.758146Z",
     "shell.execute_reply": "2023-02-27T21:00:22.758146Z",
     "shell.execute_reply.started": "2023-02-27T21:00:22.751472Z"
    },
    "tags": []
   },
   "outputs": [
    {
     "data": {
      "text/plain": [
       "[34, 1, 33, 3, 2]"
      ]
     },
     "execution_count": 6,
     "metadata": {},
     "output_type": "execute_result"
    }
   ],
   "source": [
    "sorted(kdegrees, key = lambda key: kdegrees.get(key), reverse = True)[:5]"
   ]
  },
  {
   "cell_type": "code",
   "execution_count": 7,
   "id": "1b30972d-2ad5-4dd7-9528-65a26bfd874c",
   "metadata": {
    "execution": {
     "iopub.execute_input": "2023-02-27T21:00:23.681113Z",
     "iopub.status.busy": "2023-02-27T21:00:23.680112Z",
     "iopub.status.idle": "2023-02-27T21:00:23.685313Z",
     "shell.execute_reply": "2023-02-27T21:00:23.684305Z",
     "shell.execute_reply.started": "2023-02-27T21:00:23.681113Z"
    },
    "tags": []
   },
   "outputs": [],
   "source": [
    "nnodes_ = len(karate.nodes())\n",
    "deg_centrality = {node: karate.degree(node) / (nnodes_ - 1) for node in karate.nodes()}"
   ]
  },
  {
   "cell_type": "code",
   "execution_count": 8,
   "id": "dcba6832-d608-47a9-a00b-d232692bbd3a",
   "metadata": {
    "execution": {
     "iopub.execute_input": "2023-02-27T21:00:24.281093Z",
     "iopub.status.busy": "2023-02-27T21:00:24.281093Z",
     "iopub.status.idle": "2023-02-27T21:00:24.285494Z",
     "shell.execute_reply": "2023-02-27T21:00:24.284483Z",
     "shell.execute_reply.started": "2023-02-27T21:00:24.281093Z"
    },
    "tags": []
   },
   "outputs": [
    {
     "name": "stdout",
     "output_type": "stream",
     "text": [
      "{1: 0.48484848484848486, 2: 0.2727272727272727, 3: 0.30303030303030304, 4: 0.18181818181818182, 5: 0.09090909090909091, 6: 0.12121212121212122, 7: 0.12121212121212122, 8: 0.12121212121212122, 9: 0.15151515151515152, 10: 0.06060606060606061, 11: 0.09090909090909091, 12: 0.030303030303030304, 13: 0.06060606060606061, 14: 0.15151515151515152, 15: 0.06060606060606061, 16: 0.06060606060606061, 17: 0.06060606060606061, 18: 0.06060606060606061, 19: 0.06060606060606061, 20: 0.09090909090909091, 21: 0.06060606060606061, 22: 0.06060606060606061, 23: 0.06060606060606061, 24: 0.15151515151515152, 25: 0.09090909090909091, 26: 0.09090909090909091, 27: 0.06060606060606061, 28: 0.12121212121212122, 29: 0.09090909090909091, 30: 0.12121212121212122, 31: 0.12121212121212122, 32: 0.18181818181818182, 33: 0.36363636363636365, 34: 0.5151515151515151}\n"
     ]
    }
   ],
   "source": [
    "print(deg_centrality)"
   ]
  },
  {
   "cell_type": "code",
   "execution_count": 9,
   "id": "f5f7bdba-3adb-4f4f-b8df-87081917b313",
   "metadata": {
    "execution": {
     "iopub.execute_input": "2023-02-27T21:00:31.564905Z",
     "iopub.status.busy": "2023-02-27T21:00:31.564905Z",
     "iopub.status.idle": "2023-02-27T21:00:31.570298Z",
     "shell.execute_reply": "2023-02-27T21:00:31.569288Z",
     "shell.execute_reply.started": "2023-02-27T21:00:31.564905Z"
    },
    "tags": []
   },
   "outputs": [
    {
     "name": "stdout",
     "output_type": "stream",
     "text": [
      "{1: 0.48484848484848486, 2: 0.2727272727272727, 3: 0.30303030303030304, 4: 0.18181818181818182, 5: 0.09090909090909091, 6: 0.12121212121212122, 7: 0.12121212121212122, 8: 0.12121212121212122, 9: 0.15151515151515152, 10: 0.06060606060606061, 11: 0.09090909090909091, 12: 0.030303030303030304, 13: 0.06060606060606061, 14: 0.15151515151515152, 15: 0.06060606060606061, 16: 0.06060606060606061, 17: 0.06060606060606061, 18: 0.06060606060606061, 19: 0.06060606060606061, 20: 0.09090909090909091, 21: 0.06060606060606061, 22: 0.06060606060606061, 23: 0.06060606060606061, 24: 0.15151515151515152, 25: 0.09090909090909091, 26: 0.09090909090909091, 27: 0.06060606060606061, 28: 0.12121212121212122, 29: 0.09090909090909091, 30: 0.12121212121212122, 31: 0.12121212121212122, 32: 0.18181818181818182, 33: 0.36363636363636365, 34: 0.5151515151515151}\n"
     ]
    }
   ],
   "source": [
    "print(nx.degree_centrality(karate))"
   ]
  },
  {
   "cell_type": "markdown",
   "id": "0f4f8eb7-9c05-475e-9aa6-24c6ef1ec544",
   "metadata": {},
   "source": [
    "## ***Degree centrality of directed networks:***\n",
    "# ***In-degree centrality:  $C_{indeg}(v) = \\frac{d^{in}_{v}}{|N| - 1}$***\n",
    "**Only the incoming edges are considered.**\n",
    "\n",
    "# ***Out-degree centrality:  $C_{outdeg}(v) = \\frac{d^{out}_{v}}{|N| - 1}$***\n",
    "**Here, only the noutgoing edges are considered.**"
   ]
  },
  {
   "cell_type": "code",
   "execution_count": null,
   "id": "1dc3c4f4-e83d-4514-a0de-b139e3c230aa",
   "metadata": {},
   "outputs": [],
   "source": []
  }
 ],
 "metadata": {
  "kernelspec": {
   "display_name": "Python 3 (ipykernel)",
   "language": "python",
   "name": "python3"
  },
  "language_info": {
   "codemirror_mode": {
    "name": "ipython",
    "version": 3
   },
   "file_extension": ".py",
   "mimetype": "text/x-python",
   "name": "python",
   "nbconvert_exporter": "python",
   "pygments_lexer": "ipython3",
   "version": "3.11.2"
  }
 },
 "nbformat": 4,
 "nbformat_minor": 5
}
