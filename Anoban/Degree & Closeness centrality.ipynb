{
 "cells": [
  {
   "cell_type": "code",
   "execution_count": 34,
   "id": "6e10fee6-fe4c-4137-9db6-3fc7e22c362e",
   "metadata": {
    "execution": {
     "iopub.execute_input": "2023-02-27T22:00:15.119017Z",
     "iopub.status.busy": "2023-02-27T22:00:15.119017Z",
     "iopub.status.idle": "2023-02-27T22:00:15.124799Z",
     "shell.execute_reply": "2023-02-27T22:00:15.124799Z",
     "shell.execute_reply.started": "2023-02-27T22:00:15.119017Z"
    },
    "tags": []
   },
   "outputs": [],
   "source": [
    "import networkx as nx\n",
    "import matplotlib.pyplot as plt\n",
    "import numpy as np\n",
    "import itertools\n",
    "\n",
    "def generate_unique_pairs(container: list[str], ignore: list[tuple[str, str]] = None) -> list[str]:\n",
    "    if ignore == None:\n",
    "        ignore = list()\n",
    "    upairs = list()\n",
    "    for (a, b) in itertools.permutations(container, 2):\n",
    "        if ((b, a) not in upairs) & ((a, b) not in ignore) & ((b, a) not in ignore):\n",
    "            upairs.append((a, b))\n",
    "    return upairs"
   ]
  },
  {
   "cell_type": "markdown",
   "id": "bf89ea35-d561-48ee-9c3c-5a8920dabd16",
   "metadata": {},
   "source": [
    "# ***Degree and closeness centrality***\n",
    "-----------------------------"
   ]
  },
  {
   "cell_type": "code",
   "execution_count": 35,
   "id": "18678283-5304-48cc-a642-d55d5480e195",
   "metadata": {
    "execution": {
     "iopub.execute_input": "2023-02-27T22:00:15.992556Z",
     "iopub.status.busy": "2023-02-27T22:00:15.992556Z",
     "iopub.status.idle": "2023-02-27T22:00:15.997551Z",
     "shell.execute_reply": "2023-02-27T22:00:15.997551Z",
     "shell.execute_reply.started": "2023-02-27T22:00:15.992556Z"
    },
    "tags": []
   },
   "outputs": [],
   "source": [
    "# Node importance\n",
    "\n",
    "# in the Karate club network of 34 people which are the 5 most important nodes?\n",
    "# there are many ways to find this!\n",
    "\n",
    "# one way is to think is in terms of degrees\n",
    "# nodes that have higher degrees are generally more important than nodes witl lower degrees.\n",
    "\n",
    "karate = nx.karate_club_graph()\n",
    "karate = nx.convert_node_labels_to_integers(karate, first_label = 1)"
   ]
  },
  {
   "cell_type": "code",
   "execution_count": 36,
   "id": "6bc15d89-2871-472a-85e6-ebb3531184a0",
   "metadata": {
    "execution": {
     "iopub.execute_input": "2023-02-27T22:00:16.493519Z",
     "iopub.status.busy": "2023-02-27T22:00:16.492519Z",
     "iopub.status.idle": "2023-02-27T22:00:16.496562Z",
     "shell.execute_reply": "2023-02-27T22:00:16.496562Z",
     "shell.execute_reply.started": "2023-02-27T22:00:16.493519Z"
    },
    "tags": []
   },
   "outputs": [],
   "source": [
    "# another metric to measure importance is by means of proximity to other nodes.\n",
    "\n",
    "# another metric is the fraction of shortest paths that pass through the given node."
   ]
  },
  {
   "cell_type": "markdown",
   "id": "5d5b1cf7-4ac1-4843-8771-a441a9cb9726",
   "metadata": {},
   "source": [
    "## ***Network centrality***\n",
    "\n",
    "**Centrality measures help us identify the most important nodes in a network.**\n",
    "\n",
    "- Influential nodes in a social network.\n",
    "- Nodes that disseminate information to many other nodes or prevent epidemics.\n",
    "- Hubs in a transportation network.\n",
    "- Important pages on the Web.\n",
    "- Nodes that prevent the network from breaking up.(if these are removed, the network may collapse)"
   ]
  },
  {
   "cell_type": "markdown",
   "id": "798878e8-1501-47c4-9c53-d698446d1d78",
   "metadata": {},
   "source": [
    "## ***Centrality measures***\n",
    "- Degree centrality\n",
    "- Closeness centrality\n",
    "- Betweenness centrality\n",
    "- Load centrality\n",
    "- Page rank\n",
    "- Katz centrality\n",
    "- Percolation centrality"
   ]
  },
  {
   "cell_type": "code",
   "execution_count": 37,
   "id": "22801a06-1d01-4579-94db-d35126d6eb69",
   "metadata": {
    "execution": {
     "iopub.execute_input": "2023-02-27T22:00:16.603424Z",
     "iopub.status.busy": "2023-02-27T22:00:16.602418Z",
     "iopub.status.idle": "2023-02-27T22:00:16.814025Z",
     "shell.execute_reply": "2023-02-27T22:00:16.813016Z",
     "shell.execute_reply.started": "2023-02-27T22:00:16.603424Z"
    },
    "tags": []
   },
   "outputs": [],
   "source": [
    "# degree centrality uses the degree of nodes as the metric of importance\n",
    "# the higher the connections a node has, the more important it becomes.\n",
    "\n",
    "# if the graph is an undirected network, one can simply use the degree\n",
    "# if it is a directed graph one has to decide whether to use the in degrees (incoming connections) or out degrees (outgoing connections)\n",
    "# or a combination of both."
   ]
  },
  {
   "cell_type": "markdown",
   "id": "5ed5ac43-ecbd-43ec-ae13-b27c522a7ab7",
   "metadata": {},
   "source": [
    "## ***Degree centrality of node v is: $C_{deg}(v) = \\frac{d_{v}}{|N| - 1}$***\n",
    "Where N is the total number of nodes in the graph.\n",
    "\n",
    "So, if a node is connected to every single node in the network, it will have a degree centrality of 1.\n",
    "If it is an isolated node, it will have a centrality of 0.\n",
    "So, for a given node its degree centrality will range from 0 to 1."
   ]
  },
  {
   "cell_type": "code",
   "execution_count": 38,
   "id": "55bffd02-68aa-4618-8a81-b8c2a0137ab1",
   "metadata": {
    "execution": {
     "iopub.execute_input": "2023-02-27T22:00:16.818029Z",
     "iopub.status.busy": "2023-02-27T22:00:16.817034Z",
     "iopub.status.idle": "2023-02-27T22:00:17.064408Z",
     "shell.execute_reply": "2023-02-27T22:00:17.063401Z",
     "shell.execute_reply.started": "2023-02-27T22:00:16.818029Z"
    },
    "tags": []
   },
   "outputs": [
    {
     "name": "stdout",
     "output_type": "stream",
     "text": [
      "{1: 16, 2: 9, 3: 10, 4: 6, 5: 3, 6: 4, 7: 4, 8: 4, 9: 5, 10: 2, 11: 3, 12: 1, 13: 2, 14: 5, 15: 2, 16: 2, 17: 2, 18: 2, 19: 2, 20: 3, 21: 2, 22: 2, 23: 2, 24: 5, 25: 3, 26: 3, 27: 2, 28: 4, 29: 3, 30: 4, 31: 4, 32: 6, 33: 12, 34: 17}\n"
     ]
    }
   ],
   "source": [
    "kdegrees = {node: karate.degree(node) for node in karate.nodes()}\n",
    "print(kdegrees)"
   ]
  },
  {
   "cell_type": "code",
   "execution_count": 39,
   "id": "453ca53e-5d36-4491-bd92-6b3297b305d5",
   "metadata": {
    "execution": {
     "iopub.execute_input": "2023-02-27T22:00:17.065686Z",
     "iopub.status.busy": "2023-02-27T22:00:17.065686Z",
     "iopub.status.idle": "2023-02-27T22:00:17.309617Z",
     "shell.execute_reply": "2023-02-27T22:00:17.308455Z",
     "shell.execute_reply.started": "2023-02-27T22:00:17.065686Z"
    },
    "tags": []
   },
   "outputs": [
    {
     "data": {
      "text/plain": [
       "[34, 1, 33, 3, 2]"
      ]
     },
     "execution_count": 39,
     "metadata": {},
     "output_type": "execute_result"
    }
   ],
   "source": [
    "sorted(kdegrees, key = lambda key: kdegrees.get(key), reverse = True)[:5]"
   ]
  },
  {
   "cell_type": "code",
   "execution_count": 40,
   "id": "1b30972d-2ad5-4dd7-9528-65a26bfd874c",
   "metadata": {
    "execution": {
     "iopub.execute_input": "2023-02-27T22:00:17.311625Z",
     "iopub.status.busy": "2023-02-27T22:00:17.310624Z",
     "iopub.status.idle": "2023-02-27T22:00:17.588912Z",
     "shell.execute_reply": "2023-02-27T22:00:17.587901Z",
     "shell.execute_reply.started": "2023-02-27T22:00:17.311625Z"
    },
    "tags": []
   },
   "outputs": [],
   "source": [
    "nnodes_ = len(karate.nodes())\n",
    "deg_centrality = {node: karate.degree(node) / (nnodes_ - 1) for node in karate.nodes()}"
   ]
  },
  {
   "cell_type": "code",
   "execution_count": 41,
   "id": "dcba6832-d608-47a9-a00b-d232692bbd3a",
   "metadata": {
    "execution": {
     "iopub.execute_input": "2023-02-27T22:00:17.591915Z",
     "iopub.status.busy": "2023-02-27T22:00:17.590915Z",
     "iopub.status.idle": "2023-02-27T22:00:17.766971Z",
     "shell.execute_reply": "2023-02-27T22:00:17.765958Z",
     "shell.execute_reply.started": "2023-02-27T22:00:17.591915Z"
    },
    "tags": []
   },
   "outputs": [
    {
     "name": "stdout",
     "output_type": "stream",
     "text": [
      "{1: 0.48484848484848486, 2: 0.2727272727272727, 3: 0.30303030303030304, 4: 0.18181818181818182, 5: 0.09090909090909091, 6: 0.12121212121212122, 7: 0.12121212121212122, 8: 0.12121212121212122, 9: 0.15151515151515152, 10: 0.06060606060606061, 11: 0.09090909090909091, 12: 0.030303030303030304, 13: 0.06060606060606061, 14: 0.15151515151515152, 15: 0.06060606060606061, 16: 0.06060606060606061, 17: 0.06060606060606061, 18: 0.06060606060606061, 19: 0.06060606060606061, 20: 0.09090909090909091, 21: 0.06060606060606061, 22: 0.06060606060606061, 23: 0.06060606060606061, 24: 0.15151515151515152, 25: 0.09090909090909091, 26: 0.09090909090909091, 27: 0.06060606060606061, 28: 0.12121212121212122, 29: 0.09090909090909091, 30: 0.12121212121212122, 31: 0.12121212121212122, 32: 0.18181818181818182, 33: 0.36363636363636365, 34: 0.5151515151515151}\n"
     ]
    }
   ],
   "source": [
    "print(deg_centrality)"
   ]
  },
  {
   "cell_type": "code",
   "execution_count": 42,
   "id": "f5f7bdba-3adb-4f4f-b8df-87081917b313",
   "metadata": {
    "execution": {
     "iopub.execute_input": "2023-02-27T22:00:17.768965Z",
     "iopub.status.busy": "2023-02-27T22:00:17.767969Z",
     "iopub.status.idle": "2023-02-27T22:00:18.187745Z",
     "shell.execute_reply": "2023-02-27T22:00:18.186737Z",
     "shell.execute_reply.started": "2023-02-27T22:00:17.768965Z"
    },
    "tags": []
   },
   "outputs": [
    {
     "name": "stdout",
     "output_type": "stream",
     "text": [
      "{1: 0.48484848484848486, 2: 0.2727272727272727, 3: 0.30303030303030304, 4: 0.18181818181818182, 5: 0.09090909090909091, 6: 0.12121212121212122, 7: 0.12121212121212122, 8: 0.12121212121212122, 9: 0.15151515151515152, 10: 0.06060606060606061, 11: 0.09090909090909091, 12: 0.030303030303030304, 13: 0.06060606060606061, 14: 0.15151515151515152, 15: 0.06060606060606061, 16: 0.06060606060606061, 17: 0.06060606060606061, 18: 0.06060606060606061, 19: 0.06060606060606061, 20: 0.09090909090909091, 21: 0.06060606060606061, 22: 0.06060606060606061, 23: 0.06060606060606061, 24: 0.15151515151515152, 25: 0.09090909090909091, 26: 0.09090909090909091, 27: 0.06060606060606061, 28: 0.12121212121212122, 29: 0.09090909090909091, 30: 0.12121212121212122, 31: 0.12121212121212122, 32: 0.18181818181818182, 33: 0.36363636363636365, 34: 0.5151515151515151}\n"
     ]
    }
   ],
   "source": [
    "print(nx.degree_centrality(karate))"
   ]
  },
  {
   "cell_type": "markdown",
   "id": "0f4f8eb7-9c05-475e-9aa6-24c6ef1ec544",
   "metadata": {},
   "source": [
    "## ***Degree centrality of directed networks:***\n",
    "# ***In-degree centrality:  $C_{indeg}(v) = \\frac{d^{in}_{v}}{|N| - 1}$***\n",
    "**Only the incoming edges are considered.**\n",
    "\n",
    "# ***Out-degree centrality:  $C_{outdeg}(v) = \\frac{d^{out}_{v}}{|N| - 1}$***\n",
    "**Here, only the noutgoing edges are considered.**"
   ]
  },
  {
   "cell_type": "markdown",
   "id": "c9982797-0034-46ac-9335-196b1563f717",
   "metadata": {},
   "source": [
    "# ***Closeness centrality***\n",
    "---------------------"
   ]
  },
  {
   "cell_type": "code",
   "execution_count": 43,
   "id": "0a73d21c-c9ea-466f-b928-920f48cf9055",
   "metadata": {
    "execution": {
     "iopub.execute_input": "2023-02-27T22:00:18.826960Z",
     "iopub.status.busy": "2023-02-27T22:00:18.825964Z",
     "iopub.status.idle": "2023-02-27T22:00:18.829643Z",
     "shell.execute_reply": "2023-02-27T22:00:18.829643Z",
     "shell.execute_reply.started": "2023-02-27T22:00:18.825964Z"
    },
    "tags": []
   },
   "outputs": [],
   "source": [
    "# This assumes that nodes that are shortest distance away from all the other nodes are more important.\n",
    "# We have to compute the average length of shortest paths from a given node to all the other nodes in the network to get the closeness centrality \n",
    "# of one node.\n",
    "# This has to be repeated for all nodes in the network"
   ]
  },
  {
   "cell_type": "markdown",
   "id": "2e0f43d4-4056-4b59-a5ea-82e3bba6de13",
   "metadata": {},
   "source": [
    "# ***Closeness centrality:  $C_{close}(v) = \\frac{|N| - 1}{\\sum_{u \\in {N/(v)}}{d(v, u)}}$***\n",
    "**Where, `v - the node of interest`, `u - an iterator for all the other nodes that are in the network`, `d(v, u) - length of the shortest path from v to u.`**"
   ]
  },
  {
   "cell_type": "code",
   "execution_count": 44,
   "id": "9840c506-ab42-4df6-81f9-e7ed6bf06141",
   "metadata": {
    "execution": {
     "iopub.execute_input": "2023-02-27T22:00:19.832096Z",
     "iopub.status.busy": "2023-02-27T22:00:19.831096Z",
     "iopub.status.idle": "2023-02-27T22:00:19.835927Z",
     "shell.execute_reply": "2023-02-27T22:00:19.835927Z",
     "shell.execute_reply.started": "2023-02-27T22:00:19.832096Z"
    },
    "tags": []
   },
   "outputs": [],
   "source": [
    "kccentrality = nx.closeness_centrality(karate)"
   ]
  },
  {
   "cell_type": "code",
   "execution_count": 45,
   "id": "b56972d9-d460-42df-85e8-438eee5b0cd0",
   "metadata": {
    "execution": {
     "iopub.execute_input": "2023-02-27T22:00:20.128911Z",
     "iopub.status.busy": "2023-02-27T22:00:20.127903Z",
     "iopub.status.idle": "2023-02-27T22:00:20.136724Z",
     "shell.execute_reply": "2023-02-27T22:00:20.135717Z",
     "shell.execute_reply.started": "2023-02-27T22:00:20.128911Z"
    },
    "tags": []
   },
   "outputs": [
    {
     "data": {
      "text/plain": [
       "[(1, 0.5689655172413793),\n",
       " (3, 0.559322033898305),\n",
       " (34, 0.55),\n",
       " (32, 0.5409836065573771),\n",
       " (9, 0.515625),\n",
       " (14, 0.515625),\n",
       " (33, 0.515625),\n",
       " (20, 0.5),\n",
       " (2, 0.4852941176470588),\n",
       " (4, 0.4647887323943662),\n",
       " (28, 0.4583333333333333),\n",
       " (31, 0.4583333333333333),\n",
       " (29, 0.4520547945205479),\n",
       " (8, 0.44),\n",
       " (10, 0.4342105263157895),\n",
       " (24, 0.39285714285714285),\n",
       " (6, 0.38372093023255816),\n",
       " (7, 0.38372093023255816),\n",
       " (30, 0.38372093023255816),\n",
       " (5, 0.3793103448275862),\n",
       " (11, 0.3793103448275862),\n",
       " (18, 0.375),\n",
       " (22, 0.375),\n",
       " (25, 0.375),\n",
       " (26, 0.375),\n",
       " (13, 0.3707865168539326),\n",
       " (15, 0.3707865168539326),\n",
       " (16, 0.3707865168539326),\n",
       " (19, 0.3707865168539326),\n",
       " (21, 0.3707865168539326),\n",
       " (23, 0.3707865168539326),\n",
       " (12, 0.36666666666666664),\n",
       " (27, 0.3626373626373626),\n",
       " (17, 0.28448275862068967)]"
      ]
     },
     "execution_count": 45,
     "metadata": {},
     "output_type": "execute_result"
    }
   ],
   "source": [
    "sorted(kccentrality.items(), key = lambda x: x[1], reverse = True)"
   ]
  },
  {
   "cell_type": "code",
   "execution_count": 46,
   "id": "39496e78-15bc-4ef5-8090-b7105b9f7fb9",
   "metadata": {
    "execution": {
     "iopub.execute_input": "2023-02-27T22:00:20.312973Z",
     "iopub.status.busy": "2023-02-27T22:00:20.312973Z",
     "iopub.status.idle": "2023-02-27T22:00:20.341708Z",
     "shell.execute_reply": "2023-02-27T22:00:20.341708Z",
     "shell.execute_reply.started": "2023-02-27T22:00:20.312973Z"
    },
    "tags": []
   },
   "outputs": [
    {
     "data": {
      "text/plain": [
       "58"
      ]
     },
     "execution_count": 46,
     "metadata": {},
     "output_type": "execute_result"
    }
   ],
   "source": [
    "shortest_path_lens_node_1 = nx.shortest_path_length(karate, 1)\n",
    "\n",
    "sum(shortest_path_lens_node_1.values())"
   ]
  },
  {
   "cell_type": "code",
   "execution_count": 47,
   "id": "c3308493-120d-4b60-9b09-97b87f4d9813",
   "metadata": {
    "execution": {
     "iopub.execute_input": "2023-02-27T22:00:20.471900Z",
     "iopub.status.busy": "2023-02-27T22:00:20.471900Z",
     "iopub.status.idle": "2023-02-27T22:00:20.576881Z",
     "shell.execute_reply": "2023-02-27T22:00:20.575874Z",
     "shell.execute_reply.started": "2023-02-27T22:00:20.471900Z"
    },
    "tags": []
   },
   "outputs": [
    {
     "data": {
      "text/plain": [
       "33"
      ]
     },
     "execution_count": 47,
     "metadata": {},
     "output_type": "execute_result"
    }
   ],
   "source": [
    "karate.number_of_nodes() - 1"
   ]
  },
  {
   "cell_type": "code",
   "execution_count": 48,
   "id": "0bdc2fe6-5ddd-4939-bf57-5ce7efabcbb2",
   "metadata": {
    "execution": {
     "iopub.execute_input": "2023-02-27T22:00:20.776250Z",
     "iopub.status.busy": "2023-02-27T22:00:20.776250Z",
     "iopub.status.idle": "2023-02-27T22:00:20.953775Z",
     "shell.execute_reply": "2023-02-27T22:00:20.953271Z",
     "shell.execute_reply.started": "2023-02-27T22:00:20.776250Z"
    },
    "tags": []
   },
   "outputs": [
    {
     "data": {
      "text/plain": [
       "0.5689655172413793"
      ]
     },
     "execution_count": 48,
     "metadata": {},
     "output_type": "execute_result"
    }
   ],
   "source": [
    "(karate.number_of_nodes() - 1) / sum(shortest_path_lens_node_1.values())"
   ]
  },
  {
   "cell_type": "code",
   "execution_count": 49,
   "id": "f5cb6c3b-c736-437f-a41c-64c32a3625ad",
   "metadata": {
    "execution": {
     "iopub.execute_input": "2023-02-27T22:00:20.980343Z",
     "iopub.status.busy": "2023-02-27T22:00:20.980343Z",
     "iopub.status.idle": "2023-02-27T22:00:21.270677Z",
     "shell.execute_reply": "2023-02-27T22:00:21.269661Z",
     "shell.execute_reply.started": "2023-02-27T22:00:20.980343Z"
    },
    "tags": []
   },
   "outputs": [
    {
     "name": "stdout",
     "output_type": "stream",
     "text": [
      "1  :  0.5689655172413793\n",
      "2  :  0.4852941176470588\n",
      "3  :  0.559322033898305\n",
      "4  :  0.4647887323943662\n",
      "5  :  0.3793103448275862\n",
      "6  :  0.38372093023255816\n",
      "7  :  0.38372093023255816\n",
      "8  :  0.44\n",
      "9  :  0.515625\n",
      "10  :  0.4342105263157895\n",
      "11  :  0.3793103448275862\n",
      "12  :  0.36666666666666664\n",
      "13  :  0.3707865168539326\n",
      "14  :  0.515625\n",
      "15  :  0.3707865168539326\n",
      "16  :  0.3707865168539326\n",
      "17  :  0.28448275862068967\n",
      "18  :  0.375\n",
      "19  :  0.3707865168539326\n",
      "20  :  0.5\n",
      "21  :  0.3707865168539326\n",
      "22  :  0.375\n",
      "23  :  0.3707865168539326\n",
      "24  :  0.39285714285714285\n",
      "25  :  0.375\n",
      "26  :  0.375\n",
      "27  :  0.3626373626373626\n",
      "28  :  0.4583333333333333\n",
      "29  :  0.4520547945205479\n",
      "30  :  0.38372093023255816\n",
      "31  :  0.4583333333333333\n",
      "32  :  0.5409836065573771\n",
      "33  :  0.515625\n",
      "34  :  0.55\n"
     ]
    }
   ],
   "source": [
    "nnodes = karate.number_of_nodes()\n",
    "\n",
    "for node in karate.nodes():\n",
    "    print(node, \" : \", (nnodes - 1) / (sum(nx.shortest_path_length(karate, node).values())))"
   ]
  },
  {
   "cell_type": "code",
   "execution_count": 50,
   "id": "026c4d91-7074-47fd-aeb2-262c9dced733",
   "metadata": {
    "execution": {
     "iopub.execute_input": "2023-02-27T22:00:21.272095Z",
     "iopub.status.busy": "2023-02-27T22:00:21.272095Z",
     "iopub.status.idle": "2023-02-27T22:00:21.534038Z",
     "shell.execute_reply": "2023-02-27T22:00:21.533029Z",
     "shell.execute_reply.started": "2023-02-27T22:00:21.272095Z"
    },
    "tags": []
   },
   "outputs": [],
   "source": [
    "# Here we make an implicit assumption that all nodes can actually reach all the other nodes.\n",
    "# This is not always the case, particulary in directed networks or an undirected metwork with multiple connected components."
   ]
  },
  {
   "cell_type": "markdown",
   "id": "edfbfb35-a5e5-4376-b2a9-032efafce12a",
   "metadata": {},
   "source": [
    "## ***Disconnected nodes***"
   ]
  },
  {
   "cell_type": "code",
   "execution_count": 67,
   "id": "75cfde7f-da96-4f05-9f58-c1c3b21e8d61",
   "metadata": {
    "execution": {
     "iopub.execute_input": "2023-02-27T22:28:57.540023Z",
     "iopub.status.busy": "2023-02-27T22:28:57.540023Z",
     "iopub.status.idle": "2023-02-27T22:28:58.109202Z",
     "shell.execute_reply": "2023-02-27T22:28:58.108176Z",
     "shell.execute_reply.started": "2023-02-27T22:28:57.540023Z"
    },
    "tags": []
   },
   "outputs": [
    {
     "data": {
      "image/png": "[encoded data removed]",
      "text/plain": [
       "<Figure size 1000x1000 with 1 Axes>"
      ]
     },
     "metadata": {},
     "output_type": "display_data"
    }
   ],
   "source": [
    "plt.rcParams[\"figure.figsize\"] = 10, 10\n",
    "digraph = nx.DiGraph()\n",
    "edges = generate_unique_pairs([\"A\", \"B\", \"C\", \"D\", \"E\"], [(\"A\", \"D\")]) + \\\n",
    "        generate_unique_pairs([\"F\", \"G\", \"H\", \"I\", \"J\"], [(\"H\", \"F\"), (\"J\", \"F\")]) + \\\n",
    "        generate_unique_pairs([\"K\", \"L\", \"M\", \"N\", \"O\"], [(\"M\", \"N\"), (\"N\", \"K\")]) + [(\"A\", \"G\"), (\"A\", \"N\"), (\"O\", \"J\")]\n",
    "digraph.add_edges_from(edges)\n",
    "pos = nx.kamada_kawai_layout(digraph)\n",
    "nx.draw_networkx(digraph, pos = pos, node_color = \"orange\")"
   ]
  },
  {
   "cell_type": "code",
   "execution_count": 52,
   "id": "69408244-75e4-42f6-8b13-130527d84108",
   "metadata": {
    "execution": {
     "iopub.execute_input": "2023-02-27T22:04:34.714595Z",
     "iopub.status.busy": "2023-02-27T22:04:34.714595Z",
     "iopub.status.idle": "2023-02-27T22:04:34.718590Z",
     "shell.execute_reply": "2023-02-27T22:04:34.718590Z",
     "shell.execute_reply.started": "2023-02-27T22:04:34.714595Z"
    },
    "tags": []
   },
   "outputs": [],
   "source": [
    "# What is the closeness centrality of O?\n",
    "\n",
    "# R(O) is the set of nodes O can reach.\n",
    "# We define the cc as the number of nodes that O can reach divided by the sum of shortest path lengths from O to all nodes O can reach."
   ]
  },
  {
   "cell_type": "markdown",
   "id": "d134864e-6c2f-49f8-975a-019dd708a3c3",
   "metadata": {},
   "source": [
    "# ***Method 1 - $C_{close}(O) = \\frac{|R(O)|}{\\sum_{u \\in R(O)}{d(O, u)}}$***"
   ]
  },
  {
   "cell_type": "code",
   "execution_count": 56,
   "id": "4ff624f7-378a-40d6-876a-f637331b5a4d",
   "metadata": {
    "execution": {
     "iopub.execute_input": "2023-02-27T22:18:41.757216Z",
     "iopub.status.busy": "2023-02-27T22:18:41.757216Z",
     "iopub.status.idle": "2023-02-27T22:18:41.762134Z",
     "shell.execute_reply": "2023-02-27T22:18:41.761627Z",
     "shell.execute_reply.started": "2023-02-27T22:18:41.757216Z"
    },
    "tags": []
   },
   "outputs": [],
   "source": [
    "# Where R(O) is the set of nodes O can reach.\n",
    "# So, for O, cc will be: \n",
    "# R(O) = 1 (i.e J)\n",
    "# shortest path length is 1\n",
    "\n",
    "# so cc of O is 1/1 = 1.\n",
    "\n",
    "# However this seems unintuitive for a node with one outgoing edge to have the highest closeness centrality."
   ]
  },
  {
   "cell_type": "code",
   "execution_count": 57,
   "id": "788710d8-b4c2-4a6c-965b-18545cc3e7f9",
   "metadata": {
    "execution": {
     "iopub.execute_input": "2023-02-27T22:18:42.388500Z",
     "iopub.status.busy": "2023-02-27T22:18:42.387064Z",
     "iopub.status.idle": "2023-02-27T22:18:42.392986Z",
     "shell.execute_reply": "2023-02-27T22:18:42.391976Z",
     "shell.execute_reply.started": "2023-02-27T22:18:42.388500Z"
    },
    "tags": []
   },
   "outputs": [],
   "source": [
    "# In method 2, we only consider the nodes O can reach but then normalize by the nodes O can actually reach."
   ]
  },
  {
   "cell_type": "markdown",
   "id": "7427882a-33ef-4f19-985d-46249fda1c0a",
   "metadata": {},
   "source": [
    "# ***Method 2 - $C_{close}(O) = [\\frac{|R(O)|}{|N - 1|}]\\frac{|R(O)|}{\\sum_{u \\in R(O)}{d(O, u)}}$***"
   ]
  },
  {
   "cell_type": "code",
   "execution_count": 61,
   "id": "c8411713-a038-4522-9603-03077e876e15",
   "metadata": {
    "execution": {
     "iopub.execute_input": "2023-02-27T22:23:43.734200Z",
     "iopub.status.busy": "2023-02-27T22:23:43.732692Z",
     "iopub.status.idle": "2023-02-27T22:23:43.737846Z",
     "shell.execute_reply": "2023-02-27T22:23:43.737339Z",
     "shell.execute_reply.started": "2023-02-27T22:23:43.734200Z"
    },
    "tags": []
   },
   "outputs": [],
   "source": [
    "# here the answer from method 1 is multiplied by (number of nodes O can reach / total number of nodes minus one)"
   ]
  },
  {
   "cell_type": "code",
   "execution_count": 62,
   "id": "a35d06ce-9722-49e0-90c2-5613d30dc0bf",
   "metadata": {
    "execution": {
     "iopub.execute_input": "2023-02-27T22:23:44.409825Z",
     "iopub.status.busy": "2023-02-27T22:23:44.409825Z",
     "iopub.status.idle": "2023-02-27T22:23:44.417140Z",
     "shell.execute_reply": "2023-02-27T22:23:44.416126Z",
     "shell.execute_reply.started": "2023-02-27T22:23:44.409825Z"
    },
    "tags": []
   },
   "outputs": [
    {
     "data": {
      "text/plain": [
       "15"
      ]
     },
     "execution_count": 62,
     "metadata": {},
     "output_type": "execute_result"
    }
   ],
   "source": [
    "digraph.number_of_nodes()"
   ]
  },
  {
   "cell_type": "code",
   "execution_count": 66,
   "id": "14a93ab1-bbe4-476b-b370-a272cdc9a4d7",
   "metadata": {
    "execution": {
     "iopub.execute_input": "2023-02-27T22:27:44.126833Z",
     "iopub.status.busy": "2023-02-27T22:27:44.125832Z",
     "iopub.status.idle": "2023-02-27T22:27:44.131560Z",
     "shell.execute_reply": "2023-02-27T22:27:44.131560Z",
     "shell.execute_reply.started": "2023-02-27T22:27:44.126833Z"
    },
    "tags": []
   },
   "outputs": [
    {
     "data": {
      "text/plain": [
       "0.07142857142857142"
      ]
     },
     "execution_count": 66,
     "metadata": {},
     "output_type": "execute_result"
    }
   ],
   "source": [
    "# method 2 - 1 / 15\n",
    "1 / (15 - 1)"
   ]
  },
  {
   "cell_type": "markdown",
   "id": "56f17d7b-6c00-4e95-947b-e39e5d00242d",
   "metadata": {},
   "source": [
    "***Method 2 does not change the definition of closeness centrality.      \n",
    "In an undirected connected graph, or in a directed strongly connected graph; R(O) will be equal to N - 1. Any given node will be able to reach all the other nodes. So, this modified equation has no sideeffect at all, as the prefixed part will evaluate to 1.***"
   ]
  },
  {
   "cell_type": "code",
   "execution_count": 64,
   "id": "2f043ed7-215f-4b58-bf46-fbe0f25304a9",
   "metadata": {
    "execution": {
     "iopub.execute_input": "2023-02-27T22:26:53.876063Z",
     "iopub.status.busy": "2023-02-27T22:26:53.876063Z",
     "iopub.status.idle": "2023-02-27T22:26:53.882673Z",
     "shell.execute_reply": "2023-02-27T22:26:53.882673Z",
     "shell.execute_reply.started": "2023-02-27T22:26:53.876063Z"
    },
    "tags": []
   },
   "outputs": [
    {
     "data": {
      "text/plain": [
       "{'A': 0.0,\n",
       " 'B': 1.0,\n",
       " 'C': 1.0,\n",
       " 'E': 1.0,\n",
       " 'D': 0.75,\n",
       " 'F': 0.0,\n",
       " 'G': 1.0,\n",
       " 'I': 0.8,\n",
       " 'H': 0.6,\n",
       " 'J': 0.625,\n",
       " 'K': 0.0,\n",
       " 'L': 1.0,\n",
       " 'M': 1.0,\n",
       " 'O': 0.8333333333333334,\n",
       " 'N': 0.75}"
      ]
     },
     "execution_count": 64,
     "metadata": {},
     "output_type": "execute_result"
    }
   ],
   "source": [
    "nx.closeness_centrality(digraph, wf_improved = False)"
   ]
  },
  {
   "cell_type": "code",
   "execution_count": 65,
   "id": "c47447ea-3cf7-4d3f-bd2d-d1a1e251c5f1",
   "metadata": {
    "execution": {
     "iopub.execute_input": "2023-02-27T22:27:18.905816Z",
     "iopub.status.busy": "2023-02-27T22:27:18.904860Z",
     "iopub.status.idle": "2023-02-27T22:27:18.912289Z",
     "shell.execute_reply": "2023-02-27T22:27:18.911281Z",
     "shell.execute_reply.started": "2023-02-27T22:27:18.904860Z"
    },
    "tags": []
   },
   "outputs": [
    {
     "data": {
      "text/plain": [
       "{'A': 0.0,\n",
       " 'B': 0.07142857142857142,\n",
       " 'C': 0.14285714285714285,\n",
       " 'E': 0.2857142857142857,\n",
       " 'D': 0.1607142857142857,\n",
       " 'F': 0.0,\n",
       " 'G': 0.14285714285714285,\n",
       " 'I': 0.22857142857142856,\n",
       " 'H': 0.12857142857142856,\n",
       " 'J': 0.44642857142857145,\n",
       " 'K': 0.0,\n",
       " 'L': 0.07142857142857142,\n",
       " 'M': 0.14285714285714285,\n",
       " 'O': 0.2976190476190476,\n",
       " 'N': 0.1607142857142857}"
      ]
     },
     "execution_count": 65,
     "metadata": {},
     "output_type": "execute_result"
    }
   ],
   "source": [
    "nx.closeness_centrality(digraph, wf_improved = True)"
   ]
  },
  {
   "cell_type": "code",
   "execution_count": null,
   "id": "3427f0fb-7b8e-4b3b-a19a-e75cc8080c1b",
   "metadata": {},
   "outputs": [],
   "source": []
  }
 ],
 "metadata": {
  "kernelspec": {
   "display_name": "Python 3 (ipykernel)",
   "language": "python",
   "name": "python3"
  },
  "language_info": {
   "codemirror_mode": {
    "name": "ipython",
    "version": 3
   },
   "file_extension": ".py",
   "mimetype": "text/x-python",
   "name": "python",
   "nbconvert_exporter": "python",
   "pygments_lexer": "ipython3",
   "version": "3.11.2"
  }
 },
 "nbformat": 4,
 "nbformat_minor": 5
}
