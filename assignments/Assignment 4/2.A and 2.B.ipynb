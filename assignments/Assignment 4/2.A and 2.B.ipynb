{
 "cells": [
  {
   "cell_type": "code",
   "execution_count": 1,
   "id": "e9343f8d-da6c-4812-8e3d-3be68082a51e",
   "metadata": {
    "execution": {
     "iopub.execute_input": "2023-03-14T02:52:48.421819Z",
     "iopub.status.busy": "2023-03-14T02:52:48.421819Z",
     "iopub.status.idle": "2023-03-14T02:53:28.977061Z",
     "shell.execute_reply": "2023-03-14T02:53:28.976046Z",
     "shell.execute_reply.started": "2023-03-14T02:52:48.421819Z"
    },
    "tags": []
   },
   "outputs": [],
   "source": [
    "import networkx as nx\n",
    "import pandas as pd\n",
    "import numpy as np\n",
    "import pickle\n",
    "from collections import Counter\n",
    "import matplotlib.pyplot as plt\n",
    "from sklearn.preprocessing import (StandardScaler, MinMaxScaler)\n",
    "from sklearn.ensemble import RandomForestClassifier\n",
    "from sklearn.neural_network import MLPClassifier"
   ]
  },
  {
   "cell_type": "code",
   "execution_count": 5,
   "id": "e335df15-8d57-4f66-b344-dd8237f408b2",
   "metadata": {
    "execution": {
     "iopub.execute_input": "2023-03-14T02:53:48.197145Z",
     "iopub.status.busy": "2023-03-14T02:53:48.196151Z",
     "iopub.status.idle": "2023-03-14T02:53:48.302959Z",
     "shell.execute_reply": "2023-03-14T02:53:48.302959Z",
     "shell.execute_reply.started": "2023-03-14T02:53:48.197145Z"
    },
    "tags": []
   },
   "outputs": [
    {
     "name": "stdout",
     "output_type": "stream",
     "text": [
      "Graph with 1005 nodes and 16706 edges\n"
     ]
    }
   ],
   "source": [
    "G = pickle.load(open('assets/email_prediction_NEW.txt', 'rb'))\n",
    "print(f\"Graph with {nx.number_of_nodes(G)} nodes and {nx.number_of_edges(G)} edges\")"
   ]
  },
  {
   "cell_type": "markdown",
   "id": "584a1c55-5d41-45f9-b9c5-38e1513f138e",
   "metadata": {},
   "source": [
    "# ***2A***"
   ]
  },
  {
   "cell_type": "code",
   "execution_count": 15,
   "id": "78edf7d5-02a8-4f76-b2cf-3ade253ca638",
   "metadata": {
    "execution": {
     "iopub.execute_input": "2023-03-14T00:05:29.224675Z",
     "iopub.status.busy": "2023-03-14T00:05:29.223673Z",
     "iopub.status.idle": "2023-03-14T00:05:29.454937Z",
     "shell.execute_reply": "2023-03-14T00:05:29.454937Z",
     "shell.execute_reply.started": "2023-03-14T00:05:29.224675Z"
    },
    "tags": []
   },
   "outputs": [
    {
     "data": {
      "text/plain": [
       "True"
      ]
     },
     "execution_count": 15,
     "metadata": {},
     "output_type": "execute_result"
    }
   ],
   "source": [
    "# features to consider\n",
    "\n",
    "# clustering, degree, degree_centrality, closeness_centrality, betweenness_centrality, page_rank ,is_management\n",
    "\n",
    "# So, whenever a nx function returns a dict, the keys are in the same order as G.nodes()'s return.\n",
    "list(nx.clustering(G).keys()) == list(G.nodes())"
   ]
  },
  {
   "cell_type": "code",
   "execution_count": 25,
   "id": "6edf4c83-e0a8-4c4a-b168-4bb9c812fe72",
   "metadata": {
    "execution": {
     "iopub.execute_input": "2023-03-14T00:09:43.184827Z",
     "iopub.status.busy": "2023-03-14T00:09:43.183828Z",
     "iopub.status.idle": "2023-03-14T00:09:48.944777Z",
     "shell.execute_reply": "2023-03-14T00:09:48.944777Z",
     "shell.execute_reply.started": "2023-03-14T00:09:43.184827Z"
    },
    "tags": []
   },
   "outputs": [],
   "source": [
    "clustering = nx.clustering(G)\n",
    "degree = dict(nx.degree(G))\n",
    "degree_centrality = nx.degree_centrality(G)\n",
    "closeness_centrality = nx.closeness_centrality(G)\n",
    "betweenness_centrality = nx.betweenness_centrality(G)\n",
    "page_rank = nx.pagerank(G)\n",
    "managerial = nx.get_node_attributes(G, \"ManagementSalary\")"
   ]
  },
  {
   "cell_type": "code",
   "execution_count": 28,
   "id": "9c0551f1-fe56-4031-acdf-007476fc2d25",
   "metadata": {
    "execution": {
     "iopub.execute_input": "2023-03-14T00:17:23.641572Z",
     "iopub.status.busy": "2023-03-14T00:17:23.641572Z",
     "iopub.status.idle": "2023-03-14T00:17:23.653642Z",
     "shell.execute_reply": "2023-03-14T00:17:23.653642Z",
     "shell.execute_reply.started": "2023-03-14T00:17:23.641572Z"
    },
    "tags": []
   },
   "outputs": [
    {
     "data": {
      "text/html": [
       "<div>\n",
       "<style scoped>\n",
       "    .dataframe tbody tr th:only-of-type {\n",
       "        vertical-align: middle;\n",
       "    }\n",
       "\n",
       "    .dataframe tbody tr th {\n",
       "        vertical-align: top;\n",
       "    }\n",
       "\n",
       "    .dataframe thead th {\n",
       "        text-align: right;\n",
       "    }\n",
       "</style>\n",
       "<table border=\"1\" class=\"dataframe\">\n",
       "  <thead>\n",
       "    <tr style=\"text-align: right;\">\n",
       "      <th></th>\n",
       "      <th>clustering</th>\n",
       "      <th>degree</th>\n",
       "      <th>degree_centrality</th>\n",
       "      <th>closeness_centrality</th>\n",
       "      <th>betweenness_centrality</th>\n",
       "      <th>page_rank</th>\n",
       "      <th>managerial</th>\n",
       "    </tr>\n",
       "  </thead>\n",
       "  <tbody>\n",
       "    <tr>\n",
       "      <th>0</th>\n",
       "      <td>0.276423</td>\n",
       "      <td>44</td>\n",
       "      <td>0.043825</td>\n",
       "      <td>0.421991</td>\n",
       "      <td>0.001124</td>\n",
       "      <td>0.001224</td>\n",
       "      <td>0.0</td>\n",
       "    </tr>\n",
       "    <tr>\n",
       "      <th>1</th>\n",
       "      <td>0.265306</td>\n",
       "      <td>52</td>\n",
       "      <td>0.051793</td>\n",
       "      <td>0.422360</td>\n",
       "      <td>0.001195</td>\n",
       "      <td>0.001426</td>\n",
       "      <td>NaN</td>\n",
       "    </tr>\n",
       "    <tr>\n",
       "      <th>581</th>\n",
       "      <td>0.248276</td>\n",
       "      <td>32</td>\n",
       "      <td>0.031873</td>\n",
       "      <td>0.412974</td>\n",
       "      <td>0.000378</td>\n",
       "      <td>0.000894</td>\n",
       "      <td>0.0</td>\n",
       "    </tr>\n",
       "    <tr>\n",
       "      <th>6</th>\n",
       "      <td>0.155183</td>\n",
       "      <td>115</td>\n",
       "      <td>0.114542</td>\n",
       "      <td>0.475805</td>\n",
       "      <td>0.012387</td>\n",
       "      <td>0.003146</td>\n",
       "      <td>1.0</td>\n",
       "    </tr>\n",
       "    <tr>\n",
       "      <th>65</th>\n",
       "      <td>0.172880</td>\n",
       "      <td>91</td>\n",
       "      <td>0.090637</td>\n",
       "      <td>0.461049</td>\n",
       "      <td>0.012473</td>\n",
       "      <td>0.002857</td>\n",
       "      <td>NaN</td>\n",
       "    </tr>\n",
       "  </tbody>\n",
       "</table>\n",
       "</div>"
      ],
      "text/plain": [
       "     clustering  degree  degree_centrality  closeness_centrality  \\\n",
       "0      0.276423      44           0.043825              0.421991   \n",
       "1      0.265306      52           0.051793              0.422360   \n",
       "581    0.248276      32           0.031873              0.412974   \n",
       "6      0.155183     115           0.114542              0.475805   \n",
       "65     0.172880      91           0.090637              0.461049   \n",
       "\n",
       "     betweenness_centrality  page_rank  managerial  \n",
       "0                  0.001124   0.001224         0.0  \n",
       "1                  0.001195   0.001426         NaN  \n",
       "581                0.000378   0.000894         0.0  \n",
       "6                  0.012387   0.003146         1.0  \n",
       "65                 0.012473   0.002857         NaN  "
      ]
     },
     "execution_count": 28,
     "metadata": {},
     "output_type": "execute_result"
    }
   ],
   "source": [
    "df = pd.DataFrame({\n",
    "    \"clustering\": clustering, \"degree\": degree, \"degree_centrality\": degree_centrality,\n",
    "    \"closeness_centrality\": closeness_centrality, \"betweenness_centrality\": betweenness_centrality,\n",
    "    \"page_rank\": page_rank, \"managerial\": managerial\n",
    "}, index = G.nodes())\n",
    "\n",
    "df.head()"
   ]
  },
  {
   "cell_type": "code",
   "execution_count": 35,
   "id": "181364a1-a738-4f2e-8dd6-d8bd6eddc11c",
   "metadata": {
    "execution": {
     "iopub.execute_input": "2023-03-14T00:26:15.805509Z",
     "iopub.status.busy": "2023-03-14T00:26:15.804515Z",
     "iopub.status.idle": "2023-03-14T00:26:15.814158Z",
     "shell.execute_reply": "2023-03-14T00:26:15.814158Z",
     "shell.execute_reply.started": "2023-03-14T00:26:15.805509Z"
    },
    "tags": []
   },
   "outputs": [],
   "source": [
    "# training data\n",
    "\n",
    "scaler = StandardScaler()\n",
    "\n",
    "train = df.loc[~df.managerial.isna(), :]\n",
    "train_x = train.drop(\"managerial\", axis = 1)\n",
    "train_y = train.managerial\n",
    "\n",
    "train_x_scaled = scaler.fit_transform(train_x)"
   ]
  },
  {
   "cell_type": "code",
   "execution_count": 46,
   "id": "8c1934fe-7d18-4861-b7ba-ec1c60bcf668",
   "metadata": {
    "execution": {
     "iopub.execute_input": "2023-03-14T00:33:31.066081Z",
     "iopub.status.busy": "2023-03-14T00:33:31.066081Z",
     "iopub.status.idle": "2023-03-14T00:33:31.071790Z",
     "shell.execute_reply": "2023-03-14T00:33:31.071790Z",
     "shell.execute_reply.started": "2023-03-14T00:33:31.066081Z"
    },
    "tags": []
   },
   "outputs": [],
   "source": [
    "# testing data\n",
    "\n",
    "test = df.loc[df.managerial.isna(), :]\n",
    "test_x = test.drop(\"managerial\", axis = 1)\n",
    "\n",
    "test_x_scaled = scaler.transform(test_x)"
   ]
  },
  {
   "cell_type": "code",
   "execution_count": 47,
   "id": "a5b5340d-ca88-49d3-91c9-6bdf5cf66675",
   "metadata": {
    "execution": {
     "iopub.execute_input": "2023-03-14T00:33:32.967031Z",
     "iopub.status.busy": "2023-03-14T00:33:32.966025Z",
     "iopub.status.idle": "2023-03-14T00:33:32.969696Z",
     "shell.execute_reply": "2023-03-14T00:33:32.969696Z",
     "shell.execute_reply.started": "2023-03-14T00:33:32.967031Z"
    },
    "tags": []
   },
   "outputs": [],
   "source": [
    "rforest = RandomForestClassifier(n_estimators = 1000)"
   ]
  },
  {
   "cell_type": "code",
   "execution_count": 48,
   "id": "19480fea-6597-457d-a169-647aaec7fda4",
   "metadata": {
    "execution": {
     "iopub.execute_input": "2023-03-14T00:33:33.851872Z",
     "iopub.status.busy": "2023-03-14T00:33:33.851872Z",
     "iopub.status.idle": "2023-03-14T00:33:35.194575Z",
     "shell.execute_reply": "2023-03-14T00:33:35.194575Z",
     "shell.execute_reply.started": "2023-03-14T00:33:33.851872Z"
    },
    "tags": []
   },
   "outputs": [
    {
     "data": {
      "text/html": [
       "<style>#sk-container-id-2 {color: black;background-color: white;}#sk-container-id-2 pre{padding: 0;}#sk-container-id-2 div.sk-toggleable {background-color: white;}#sk-container-id-2 label.sk-toggleable__label {cursor: pointer;display: block;width: 100%;margin-bottom: 0;padding: 0.3em;box-sizing: border-box;text-align: center;}#sk-container-id-2 label.sk-toggleable__label-arrow:before {content: \"▸\";float: left;margin-right: 0.25em;color: #696969;}#sk-container-id-2 label.sk-toggleable__label-arrow:hover:before {color: black;}#sk-container-id-2 div.sk-estimator:hover label.sk-toggleable__label-arrow:before {color: black;}#sk-container-id-2 div.sk-toggleable__content {max-height: 0;max-width: 0;overflow: hidden;text-align: left;background-color: #f0f8ff;}#sk-container-id-2 div.sk-toggleable__content pre {margin: 0.2em;color: black;border-radius: 0.25em;background-color: #f0f8ff;}#sk-container-id-2 input.sk-toggleable__control:checked~div.sk-toggleable__content {max-height: 200px;max-width: 100%;overflow: auto;}#sk-container-id-2 input.sk-toggleable__control:checked~label.sk-toggleable__label-arrow:before {content: \"▾\";}#sk-container-id-2 div.sk-estimator input.sk-toggleable__control:checked~label.sk-toggleable__label {background-color: #d4ebff;}#sk-container-id-2 div.sk-label input.sk-toggleable__control:checked~label.sk-toggleable__label {background-color: #d4ebff;}#sk-container-id-2 input.sk-hidden--visually {border: 0;clip: rect(1px 1px 1px 1px);clip: rect(1px, 1px, 1px, 1px);height: 1px;margin: -1px;overflow: hidden;padding: 0;position: absolute;width: 1px;}#sk-container-id-2 div.sk-estimator {font-family: monospace;background-color: #f0f8ff;border: 1px dotted black;border-radius: 0.25em;box-sizing: border-box;margin-bottom: 0.5em;}#sk-container-id-2 div.sk-estimator:hover {background-color: #d4ebff;}#sk-container-id-2 div.sk-parallel-item::after {content: \"\";width: 100%;border-bottom: 1px solid gray;flex-grow: 1;}#sk-container-id-2 div.sk-label:hover label.sk-toggleable__label {background-color: #d4ebff;}#sk-container-id-2 div.sk-serial::before {content: \"\";position: absolute;border-left: 1px solid gray;box-sizing: border-box;top: 0;bottom: 0;left: 50%;z-index: 0;}#sk-container-id-2 div.sk-serial {display: flex;flex-direction: column;align-items: center;background-color: white;padding-right: 0.2em;padding-left: 0.2em;position: relative;}#sk-container-id-2 div.sk-item {position: relative;z-index: 1;}#sk-container-id-2 div.sk-parallel {display: flex;align-items: stretch;justify-content: center;background-color: white;position: relative;}#sk-container-id-2 div.sk-item::before, #sk-container-id-2 div.sk-parallel-item::before {content: \"\";position: absolute;border-left: 1px solid gray;box-sizing: border-box;top: 0;bottom: 0;left: 50%;z-index: -1;}#sk-container-id-2 div.sk-parallel-item {display: flex;flex-direction: column;z-index: 1;position: relative;background-color: white;}#sk-container-id-2 div.sk-parallel-item:first-child::after {align-self: flex-end;width: 50%;}#sk-container-id-2 div.sk-parallel-item:last-child::after {align-self: flex-start;width: 50%;}#sk-container-id-2 div.sk-parallel-item:only-child::after {width: 0;}#sk-container-id-2 div.sk-dashed-wrapped {border: 1px dashed gray;margin: 0 0.4em 0.5em 0.4em;box-sizing: border-box;padding-bottom: 0.4em;background-color: white;}#sk-container-id-2 div.sk-label label {font-family: monospace;font-weight: bold;display: inline-block;line-height: 1.2em;}#sk-container-id-2 div.sk-label-container {text-align: center;}#sk-container-id-2 div.sk-container {/* jupyter's `normalize.less` sets `[hidden] { display: none; }` but bootstrap.min.css set `[hidden] { display: none !important; }` so we also need the `!important` here to be able to override the default hidden behavior on the sphinx rendered scikit-learn.org. See: https://github.com/scikit-learn/scikit-learn/issues/21755 */display: inline-block !important;position: relative;}#sk-container-id-2 div.sk-text-repr-fallback {display: none;}</style><div id=\"sk-container-id-2\" class=\"sk-top-container\"><div class=\"sk-text-repr-fallback\"><pre>RandomForestClassifier(n_estimators=1000)</pre><b>In a Jupyter environment, please rerun this cell to show the HTML representation or trust the notebook. <br />On GitHub, the HTML representation is unable to render, please try loading this page with nbviewer.org.</b></div><div class=\"sk-container\" hidden><div class=\"sk-item\"><div class=\"sk-estimator sk-toggleable\"><input class=\"sk-toggleable__control sk-hidden--visually\" id=\"sk-estimator-id-2\" type=\"checkbox\" checked><label for=\"sk-estimator-id-2\" class=\"sk-toggleable__label sk-toggleable__label-arrow\">RandomForestClassifier</label><div class=\"sk-toggleable__content\"><pre>RandomForestClassifier(n_estimators=1000)</pre></div></div></div></div></div>"
      ],
      "text/plain": [
       "RandomForestClassifier(n_estimators=1000)"
      ]
     },
     "execution_count": 48,
     "metadata": {},
     "output_type": "execute_result"
    }
   ],
   "source": [
    "rforest.fit(train_x_scaled, train_y)"
   ]
  },
  {
   "cell_type": "code",
   "execution_count": 49,
   "id": "a6cd29bc-ba20-4a60-bddd-5b72c36ab090",
   "metadata": {
    "execution": {
     "iopub.execute_input": "2023-03-14T00:33:36.661559Z",
     "iopub.status.busy": "2023-03-14T00:33:36.661559Z",
     "iopub.status.idle": "2023-03-14T00:33:36.736288Z",
     "shell.execute_reply": "2023-03-14T00:33:36.736288Z",
     "shell.execute_reply.started": "2023-03-14T00:33:36.661559Z"
    },
    "tags": []
   },
   "outputs": [],
   "source": [
    "rforest.predict_proba(test_x_scaled)[:, 1];"
   ]
  },
  {
   "cell_type": "code",
   "execution_count": 50,
   "id": "cb6f66b9-da2d-42fe-b10c-aa27fdb5f864",
   "metadata": {
    "execution": {
     "iopub.execute_input": "2023-03-14T00:33:37.318913Z",
     "iopub.status.busy": "2023-03-14T00:33:37.318913Z",
     "iopub.status.idle": "2023-03-14T00:33:37.396460Z",
     "shell.execute_reply": "2023-03-14T00:33:37.396460Z",
     "shell.execute_reply.started": "2023-03-14T00:33:37.318913Z"
    },
    "tags": []
   },
   "outputs": [
    {
     "data": {
      "text/plain": [
       "1      0.017\n",
       "65     0.971\n",
       "18     0.102\n",
       "215    0.955\n",
       "283    0.999\n",
       "       ...  \n",
       "691    0.000\n",
       "788    0.001\n",
       "944    0.000\n",
       "798    0.000\n",
       "808    0.000\n",
       "Length: 252, dtype: float64"
      ]
     },
     "execution_count": 50,
     "metadata": {},
     "output_type": "execute_result"
    }
   ],
   "source": [
    "pd.Series(rforest.predict_proba(test_x_scaled)[:, 1], index = test_x.index)"
   ]
  },
  {
   "cell_type": "code",
   "execution_count": 51,
   "id": "39be1ab8-3813-4eee-9b57-deb4013796d7",
   "metadata": {
    "execution": {
     "iopub.execute_input": "2023-03-14T00:48:22.805360Z",
     "iopub.status.busy": "2023-03-14T00:48:22.804360Z",
     "iopub.status.idle": "2023-03-14T00:48:22.811432Z",
     "shell.execute_reply": "2023-03-14T00:48:22.811432Z",
     "shell.execute_reply.started": "2023-03-14T00:48:22.804360Z"
    },
    "tags": []
   },
   "outputs": [],
   "source": [
    "# GOOD :)\n",
    "\n",
    "def salary_predictions():\n",
    "    \n",
    "    from sklearn.preprocessing import StandardScaler\n",
    "    from sklearn.ensemble import RandomForestClassifier\n",
    "    \n",
    "\n",
    "    clustering = nx.clustering(G)\n",
    "    degree = dict(nx.degree(G))\n",
    "    degree_centrality = nx.degree_centrality(G)\n",
    "    closeness_centrality = nx.closeness_centrality(G)\n",
    "    betweenness_centrality = nx.betweenness_centrality(G)\n",
    "    page_rank = nx.pagerank(G)\n",
    "    managerial = nx.get_node_attributes(G, \"ManagementSalary\")\n",
    "\n",
    "\n",
    "    df = pd.DataFrame({\n",
    "    \"clustering\": clustering, \"degree\": degree, \"degree_centrality\": degree_centrality,\n",
    "    \"closeness_centrality\": closeness_centrality, \"betweenness_centrality\": betweenness_centrality,\n",
    "    \"page_rank\": page_rank, \"managerial\": managerial\n",
    "    }, index = G.nodes())\n",
    "\n",
    "\n",
    "    # training data\n",
    "\n",
    "    scaler = StandardScaler()\n",
    "    \n",
    "    train = df.loc[~df.managerial.isna(), :]\n",
    "    train_x = train.drop(\"managerial\", axis = 1)\n",
    "    train_y = train.managerial\n",
    "    \n",
    "    train_x_scaled = scaler.fit_transform(train_x)\n",
    "    \n",
    "    # testing data\n",
    "    \n",
    "    test = df.loc[df.managerial.isna(), :]\n",
    "    test_x = test.drop(\"managerial\", axis = 1)\n",
    "    \n",
    "    test_x_scaled = scaler.transform(test_x)\n",
    "\n",
    "    rforest = RandomForestClassifier(n_estimators = 1000)\n",
    "    rforest.fit(train_x_scaled, train_y)\n",
    "    \n",
    "    return pd.Series(rforest.predict_proba(test_x_scaled)[:, 1], index = test_x.index)"
   ]
  },
  {
   "cell_type": "code",
   "execution_count": null,
   "id": "6205dc48-e90f-4e00-87a5-298a2660e855",
   "metadata": {},
   "outputs": [],
   "source": []
  },
  {
   "cell_type": "markdown",
   "id": "b0b42377-3a17-4995-bdb3-f646077b63d2",
   "metadata": {},
   "source": [
    "# ***2B***"
   ]
  },
  {
   "cell_type": "code",
   "execution_count": 2,
   "id": "dddb1b33-6857-412a-a669-50203f7c3af3",
   "metadata": {
    "execution": {
     "iopub.execute_input": "2023-03-14T02:53:30.816690Z",
     "iopub.status.busy": "2023-03-14T02:53:30.816690Z",
     "iopub.status.idle": "2023-03-14T02:53:34.483680Z",
     "shell.execute_reply": "2023-03-14T02:53:34.483680Z",
     "shell.execute_reply.started": "2023-03-14T02:53:30.816690Z"
    },
    "tags": []
   },
   "outputs": [
    {
     "data": {
      "text/html": [
       "<div>\n",
       "<style scoped>\n",
       "    .dataframe tbody tr th:only-of-type {\n",
       "        vertical-align: middle;\n",
       "    }\n",
       "\n",
       "    .dataframe tbody tr th {\n",
       "        vertical-align: top;\n",
       "    }\n",
       "\n",
       "    .dataframe thead th {\n",
       "        text-align: right;\n",
       "    }\n",
       "</style>\n",
       "<table border=\"1\" class=\"dataframe\">\n",
       "  <thead>\n",
       "    <tr style=\"text-align: right;\">\n",
       "      <th></th>\n",
       "      <th>Future Connection</th>\n",
       "    </tr>\n",
       "  </thead>\n",
       "  <tbody>\n",
       "    <tr>\n",
       "      <th>(6, 840)</th>\n",
       "      <td>0.0</td>\n",
       "    </tr>\n",
       "    <tr>\n",
       "      <th>(4, 197)</th>\n",
       "      <td>0.0</td>\n",
       "    </tr>\n",
       "    <tr>\n",
       "      <th>(620, 979)</th>\n",
       "      <td>0.0</td>\n",
       "    </tr>\n",
       "    <tr>\n",
       "      <th>(519, 872)</th>\n",
       "      <td>0.0</td>\n",
       "    </tr>\n",
       "    <tr>\n",
       "      <th>(382, 423)</th>\n",
       "      <td>0.0</td>\n",
       "    </tr>\n",
       "    <tr>\n",
       "      <th>(97, 226)</th>\n",
       "      <td>1.0</td>\n",
       "    </tr>\n",
       "    <tr>\n",
       "      <th>(349, 905)</th>\n",
       "      <td>0.0</td>\n",
       "    </tr>\n",
       "    <tr>\n",
       "      <th>(429, 860)</th>\n",
       "      <td>0.0</td>\n",
       "    </tr>\n",
       "    <tr>\n",
       "      <th>(309, 989)</th>\n",
       "      <td>0.0</td>\n",
       "    </tr>\n",
       "    <tr>\n",
       "      <th>(468, 880)</th>\n",
       "      <td>0.0</td>\n",
       "    </tr>\n",
       "  </tbody>\n",
       "</table>\n",
       "</div>"
      ],
      "text/plain": [
       "            Future Connection\n",
       "(6, 840)                  0.0\n",
       "(4, 197)                  0.0\n",
       "(620, 979)                0.0\n",
       "(519, 872)                0.0\n",
       "(382, 423)                0.0\n",
       "(97, 226)                 1.0\n",
       "(349, 905)                0.0\n",
       "(429, 860)                0.0\n",
       "(309, 989)                0.0\n",
       "(468, 880)                0.0"
      ]
     },
     "execution_count": 2,
     "metadata": {},
     "output_type": "execute_result"
    }
   ],
   "source": [
    "future_connections = pd.read_csv('assets/Future_Connections.csv', index_col=0, converters={0: eval})\n",
    "future_connections.head(10)"
   ]
  },
  {
   "cell_type": "code",
   "execution_count": 3,
   "id": "2e7ab9fd-cc67-43ac-af32-9c1fbeb93035",
   "metadata": {
    "execution": {
     "iopub.execute_input": "2023-03-14T02:53:35.254677Z",
     "iopub.status.busy": "2023-03-14T02:53:35.253682Z",
     "iopub.status.idle": "2023-03-14T02:53:35.261679Z",
     "shell.execute_reply": "2023-03-14T02:53:35.261679Z",
     "shell.execute_reply.started": "2023-03-14T02:53:35.254677Z"
    },
    "tags": []
   },
   "outputs": [
    {
     "data": {
      "text/plain": [
       "Future Connection    0.250001\n",
       "dtype: float64"
      ]
     },
     "execution_count": 3,
     "metadata": {},
     "output_type": "execute_result"
    }
   ],
   "source": [
    "future_connections.isna().sum()/ future_connections.shape[0]"
   ]
  },
  {
   "cell_type": "code",
   "execution_count": 6,
   "id": "94294947-655e-46c6-a6f7-ab501b66b4c8",
   "metadata": {
    "execution": {
     "iopub.execute_input": "2023-03-14T02:53:54.658890Z",
     "iopub.status.busy": "2023-03-14T02:53:54.658890Z",
     "iopub.status.idle": "2023-03-14T02:53:54.665784Z",
     "shell.execute_reply": "2023-03-14T02:53:54.664778Z",
     "shell.execute_reply.started": "2023-03-14T02:53:54.658890Z"
    },
    "tags": []
   },
   "outputs": [
    {
     "data": {
      "text/plain": [
       "(16706, 488446)"
      ]
     },
     "execution_count": 6,
     "metadata": {},
     "output_type": "execute_result"
    }
   ],
   "source": [
    "# we are only interested in the edges in future_connections\n",
    "# which include edges that do not exist in the graph\n",
    "G.number_of_edges(), future_connections.shape[0]"
   ]
  },
  {
   "cell_type": "code",
   "execution_count": 7,
   "id": "f905dbe7-a865-4825-8b3e-ae8b5b57339e",
   "metadata": {
    "execution": {
     "iopub.execute_input": "2023-03-14T02:53:56.190998Z",
     "iopub.status.busy": "2023-03-14T02:53:56.190998Z",
     "iopub.status.idle": "2023-03-14T02:54:45.146848Z",
     "shell.execute_reply": "2023-03-14T02:54:45.146021Z",
     "shell.execute_reply.started": "2023-03-14T02:53:56.190998Z"
    },
    "tags": []
   },
   "outputs": [],
   "source": [
    "ncommon_neighbours = [len(list(nx.common_neighbors(G, node_1, node_2))) for (node_1, node_2) in future_connections.index]\n",
    "jaccards_coef = [tup[2] for tup in list(nx.jaccard_coefficient(G))]\n",
    "pref_attach = [tup[2] for tup in list(nx.preferential_attachment(G))]\n",
    "comm_common_neighbours = [tup[2] for tup in list(nx.cn_soundarajan_hopcroft(G, community = \"Department\"))]"
   ]
  },
  {
   "cell_type": "code",
   "execution_count": 8,
   "id": "c00f3dd6-1184-4fd3-9ef3-eb521fb5716f",
   "metadata": {
    "execution": {
     "iopub.execute_input": "2023-03-14T02:54:47.544833Z",
     "iopub.status.busy": "2023-03-14T02:54:47.544833Z",
     "iopub.status.idle": "2023-03-14T02:54:47.801340Z",
     "shell.execute_reply": "2023-03-14T02:54:47.800605Z",
     "shell.execute_reply.started": "2023-03-14T02:54:47.544833Z"
    },
    "tags": []
   },
   "outputs": [],
   "source": [
    "df = pd.DataFrame({\"common_neighbours\": ncommon_neighbours,\n",
    "             \"jaccards_coef\": jaccards_coef,             \n",
    "             \"prefer_attach\": pref_attach,\n",
    "             \"commu_cneigh\": comm_common_neighbours}, index = future_connections.index)"
   ]
  },
  {
   "cell_type": "code",
   "execution_count": 9,
   "id": "062e4acc-a5c1-4e42-a98e-9f8f5a5dba36",
   "metadata": {
    "execution": {
     "iopub.execute_input": "2023-03-14T02:54:49.021838Z",
     "iopub.status.busy": "2023-03-14T02:54:49.021838Z",
     "iopub.status.idle": "2023-03-14T02:54:49.218330Z",
     "shell.execute_reply": "2023-03-14T02:54:49.217832Z",
     "shell.execute_reply.started": "2023-03-14T02:54:49.021838Z"
    },
    "tags": []
   },
   "outputs": [],
   "source": [
    "merged_df = df.merge(future_connections, how = \"inner\", left_index = True, right_index = True)\\\n",
    "            .rename({\"Future Connection\": \"future_connection\"}, axis = 1)"
   ]
  },
  {
   "cell_type": "code",
   "execution_count": 10,
   "id": "dcdc9d16-68c0-4c27-aa2c-267c8aab1279",
   "metadata": {
    "execution": {
     "iopub.execute_input": "2023-03-14T02:54:49.758143Z",
     "iopub.status.busy": "2023-03-14T02:54:49.758143Z",
     "iopub.status.idle": "2023-03-14T02:54:49.764277Z",
     "shell.execute_reply": "2023-03-14T02:54:49.764277Z",
     "shell.execute_reply.started": "2023-03-14T02:54:49.758143Z"
    },
    "tags": []
   },
   "outputs": [
    {
     "data": {
      "text/plain": [
       "122112"
      ]
     },
     "execution_count": 10,
     "metadata": {},
     "output_type": "execute_result"
    }
   ],
   "source": [
    "merged_df.future_connection.isna().sum()"
   ]
  },
  {
   "cell_type": "code",
   "execution_count": 11,
   "id": "aaec960a-1680-467b-a017-107807c21a75",
   "metadata": {
    "execution": {
     "iopub.execute_input": "2023-03-14T02:54:50.331892Z",
     "iopub.status.busy": "2023-03-14T02:54:50.331892Z",
     "iopub.status.idle": "2023-03-14T02:54:50.344582Z",
     "shell.execute_reply": "2023-03-14T02:54:50.344582Z",
     "shell.execute_reply.started": "2023-03-14T02:54:50.331892Z"
    },
    "tags": []
   },
   "outputs": [
    {
     "data": {
      "text/html": [
       "<div>\n",
       "<style scoped>\n",
       "    .dataframe tbody tr th:only-of-type {\n",
       "        vertical-align: middle;\n",
       "    }\n",
       "\n",
       "    .dataframe tbody tr th {\n",
       "        vertical-align: top;\n",
       "    }\n",
       "\n",
       "    .dataframe thead th {\n",
       "        text-align: right;\n",
       "    }\n",
       "</style>\n",
       "<table border=\"1\" class=\"dataframe\">\n",
       "  <thead>\n",
       "    <tr style=\"text-align: right;\">\n",
       "      <th></th>\n",
       "      <th>common_neighbours</th>\n",
       "      <th>jaccards_coef</th>\n",
       "      <th>prefer_attach</th>\n",
       "      <th>commu_cneigh</th>\n",
       "      <th>future_connection</th>\n",
       "    </tr>\n",
       "  </thead>\n",
       "  <tbody>\n",
       "    <tr>\n",
       "      <th>(6, 840)</th>\n",
       "      <td>9</td>\n",
       "      <td>0.045802</td>\n",
       "      <td>4180</td>\n",
       "      <td>6</td>\n",
       "      <td>0.0</td>\n",
       "    </tr>\n",
       "    <tr>\n",
       "      <th>(4, 197)</th>\n",
       "      <td>2</td>\n",
       "      <td>0.027273</td>\n",
       "      <td>3124</td>\n",
       "      <td>3</td>\n",
       "      <td>0.0</td>\n",
       "    </tr>\n",
       "    <tr>\n",
       "      <th>(620, 979)</th>\n",
       "      <td>0</td>\n",
       "      <td>0.022222</td>\n",
       "      <td>4224</td>\n",
       "      <td>3</td>\n",
       "      <td>0.0</td>\n",
       "    </tr>\n",
       "    <tr>\n",
       "      <th>(519, 872)</th>\n",
       "      <td>2</td>\n",
       "      <td>0.036364</td>\n",
       "      <td>3168</td>\n",
       "      <td>4</td>\n",
       "      <td>0.0</td>\n",
       "    </tr>\n",
       "    <tr>\n",
       "      <th>(382, 423)</th>\n",
       "      <td>0</td>\n",
       "      <td>0.012821</td>\n",
       "      <td>1628</td>\n",
       "      <td>1</td>\n",
       "      <td>0.0</td>\n",
       "    </tr>\n",
       "    <tr>\n",
       "      <th>...</th>\n",
       "      <td>...</td>\n",
       "      <td>...</td>\n",
       "      <td>...</td>\n",
       "      <td>...</td>\n",
       "      <td>...</td>\n",
       "    </tr>\n",
       "    <tr>\n",
       "      <th>(165, 923)</th>\n",
       "      <td>0</td>\n",
       "      <td>0.000000</td>\n",
       "      <td>10</td>\n",
       "      <td>0</td>\n",
       "      <td>NaN</td>\n",
       "    </tr>\n",
       "    <tr>\n",
       "      <th>(673, 755)</th>\n",
       "      <td>0</td>\n",
       "      <td>0.000000</td>\n",
       "      <td>10</td>\n",
       "      <td>0</td>\n",
       "      <td>NaN</td>\n",
       "    </tr>\n",
       "    <tr>\n",
       "      <th>(939, 940)</th>\n",
       "      <td>0</td>\n",
       "      <td>0.000000</td>\n",
       "      <td>1</td>\n",
       "      <td>0</td>\n",
       "      <td>NaN</td>\n",
       "    </tr>\n",
       "    <tr>\n",
       "      <th>(555, 905)</th>\n",
       "      <td>0</td>\n",
       "      <td>0.000000</td>\n",
       "      <td>1</td>\n",
       "      <td>0</td>\n",
       "      <td>NaN</td>\n",
       "    </tr>\n",
       "    <tr>\n",
       "      <th>(75, 101)</th>\n",
       "      <td>1</td>\n",
       "      <td>0.000000</td>\n",
       "      <td>1</td>\n",
       "      <td>0</td>\n",
       "      <td>NaN</td>\n",
       "    </tr>\n",
       "  </tbody>\n",
       "</table>\n",
       "<p>488446 rows × 5 columns</p>\n",
       "</div>"
      ],
      "text/plain": [
       "            common_neighbours  jaccards_coef  prefer_attach  commu_cneigh  \\\n",
       "(6, 840)                    9       0.045802           4180             6   \n",
       "(4, 197)                    2       0.027273           3124             3   \n",
       "(620, 979)                  0       0.022222           4224             3   \n",
       "(519, 872)                  2       0.036364           3168             4   \n",
       "(382, 423)                  0       0.012821           1628             1   \n",
       "...                       ...            ...            ...           ...   \n",
       "(165, 923)                  0       0.000000             10             0   \n",
       "(673, 755)                  0       0.000000             10             0   \n",
       "(939, 940)                  0       0.000000              1             0   \n",
       "(555, 905)                  0       0.000000              1             0   \n",
       "(75, 101)                   1       0.000000              1             0   \n",
       "\n",
       "            future_connection  \n",
       "(6, 840)                  0.0  \n",
       "(4, 197)                  0.0  \n",
       "(620, 979)                0.0  \n",
       "(519, 872)                0.0  \n",
       "(382, 423)                0.0  \n",
       "...                       ...  \n",
       "(165, 923)                NaN  \n",
       "(673, 755)                NaN  \n",
       "(939, 940)                NaN  \n",
       "(555, 905)                NaN  \n",
       "(75, 101)                 NaN  \n",
       "\n",
       "[488446 rows x 5 columns]"
      ]
     },
     "execution_count": 11,
     "metadata": {},
     "output_type": "execute_result"
    }
   ],
   "source": [
    "merged_df"
   ]
  },
  {
   "cell_type": "code",
   "execution_count": 12,
   "id": "edf3507b-c8eb-4462-9579-a06b18fbd9e8",
   "metadata": {
    "execution": {
     "iopub.execute_input": "2023-03-14T02:54:56.786672Z",
     "iopub.status.busy": "2023-03-14T02:54:56.786672Z",
     "iopub.status.idle": "2023-03-14T02:54:56.848855Z",
     "shell.execute_reply": "2023-03-14T02:54:56.848855Z",
     "shell.execute_reply.started": "2023-03-14T02:54:56.786672Z"
    },
    "tags": []
   },
   "outputs": [],
   "source": [
    "scaler = StandardScaler()\n",
    "\n",
    "train = merged_df.loc[~merged_df.future_connection.isna(), :]\n",
    "train_x = train.drop(\"future_connection\", axis = 1)\n",
    "train_y = train.future_connection\n",
    "\n",
    "train_x_scaled = scaler.fit_transform(train_x)"
   ]
  },
  {
   "cell_type": "code",
   "execution_count": 13,
   "id": "75cb1f58-363d-4a6a-804e-38e743a14192",
   "metadata": {
    "execution": {
     "iopub.execute_input": "2023-03-14T02:54:57.406830Z",
     "iopub.status.busy": "2023-03-14T02:54:57.406830Z",
     "iopub.status.idle": "2023-03-14T02:54:57.422401Z",
     "shell.execute_reply": "2023-03-14T02:54:57.421396Z",
     "shell.execute_reply.started": "2023-03-14T02:54:57.406830Z"
    },
    "tags": []
   },
   "outputs": [],
   "source": [
    "test = merged_df.loc[merged_df.future_connection.isna(), :]\n",
    "test_x = test.drop(\"future_connection\", axis = 1)\n",
    "test_x_scaled = scaler.transform(test_x)"
   ]
  },
  {
   "cell_type": "code",
   "execution_count": 14,
   "id": "8e0e4cd9-5fcd-416a-b8fe-40e12a86c91d",
   "metadata": {
    "execution": {
     "iopub.execute_input": "2023-03-14T02:54:58.655444Z",
     "iopub.status.busy": "2023-03-14T02:54:58.655444Z",
     "iopub.status.idle": "2023-03-14T02:54:58.659365Z",
     "shell.execute_reply": "2023-03-14T02:54:58.659365Z",
     "shell.execute_reply.started": "2023-03-14T02:54:58.655444Z"
    },
    "tags": []
   },
   "outputs": [],
   "source": [
    "rforest = RandomForestClassifier(n_estimators = 100)"
   ]
  },
  {
   "cell_type": "code",
   "execution_count": 15,
   "id": "79f5cee0-95bb-46a7-bb8f-88130ca8214d",
   "metadata": {
    "execution": {
     "iopub.execute_input": "2023-03-14T02:55:00.095120Z",
     "iopub.status.busy": "2023-03-14T02:55:00.095120Z",
     "iopub.status.idle": "2023-03-14T02:55:47.024663Z",
     "shell.execute_reply": "2023-03-14T02:55:47.024663Z",
     "shell.execute_reply.started": "2023-03-14T02:55:00.095120Z"
    },
    "tags": []
   },
   "outputs": [
    {
     "data": {
      "text/html": [
       "<style>#sk-container-id-1 {color: black;background-color: white;}#sk-container-id-1 pre{padding: 0;}#sk-container-id-1 div.sk-toggleable {background-color: white;}#sk-container-id-1 label.sk-toggleable__label {cursor: pointer;display: block;width: 100%;margin-bottom: 0;padding: 0.3em;box-sizing: border-box;text-align: center;}#sk-container-id-1 label.sk-toggleable__label-arrow:before {content: \"▸\";float: left;margin-right: 0.25em;color: #696969;}#sk-container-id-1 label.sk-toggleable__label-arrow:hover:before {color: black;}#sk-container-id-1 div.sk-estimator:hover label.sk-toggleable__label-arrow:before {color: black;}#sk-container-id-1 div.sk-toggleable__content {max-height: 0;max-width: 0;overflow: hidden;text-align: left;background-color: #f0f8ff;}#sk-container-id-1 div.sk-toggleable__content pre {margin: 0.2em;color: black;border-radius: 0.25em;background-color: #f0f8ff;}#sk-container-id-1 input.sk-toggleable__control:checked~div.sk-toggleable__content {max-height: 200px;max-width: 100%;overflow: auto;}#sk-container-id-1 input.sk-toggleable__control:checked~label.sk-toggleable__label-arrow:before {content: \"▾\";}#sk-container-id-1 div.sk-estimator input.sk-toggleable__control:checked~label.sk-toggleable__label {background-color: #d4ebff;}#sk-container-id-1 div.sk-label input.sk-toggleable__control:checked~label.sk-toggleable__label {background-color: #d4ebff;}#sk-container-id-1 input.sk-hidden--visually {border: 0;clip: rect(1px 1px 1px 1px);clip: rect(1px, 1px, 1px, 1px);height: 1px;margin: -1px;overflow: hidden;padding: 0;position: absolute;width: 1px;}#sk-container-id-1 div.sk-estimator {font-family: monospace;background-color: #f0f8ff;border: 1px dotted black;border-radius: 0.25em;box-sizing: border-box;margin-bottom: 0.5em;}#sk-container-id-1 div.sk-estimator:hover {background-color: #d4ebff;}#sk-container-id-1 div.sk-parallel-item::after {content: \"\";width: 100%;border-bottom: 1px solid gray;flex-grow: 1;}#sk-container-id-1 div.sk-label:hover label.sk-toggleable__label {background-color: #d4ebff;}#sk-container-id-1 div.sk-serial::before {content: \"\";position: absolute;border-left: 1px solid gray;box-sizing: border-box;top: 0;bottom: 0;left: 50%;z-index: 0;}#sk-container-id-1 div.sk-serial {display: flex;flex-direction: column;align-items: center;background-color: white;padding-right: 0.2em;padding-left: 0.2em;position: relative;}#sk-container-id-1 div.sk-item {position: relative;z-index: 1;}#sk-container-id-1 div.sk-parallel {display: flex;align-items: stretch;justify-content: center;background-color: white;position: relative;}#sk-container-id-1 div.sk-item::before, #sk-container-id-1 div.sk-parallel-item::before {content: \"\";position: absolute;border-left: 1px solid gray;box-sizing: border-box;top: 0;bottom: 0;left: 50%;z-index: -1;}#sk-container-id-1 div.sk-parallel-item {display: flex;flex-direction: column;z-index: 1;position: relative;background-color: white;}#sk-container-id-1 div.sk-parallel-item:first-child::after {align-self: flex-end;width: 50%;}#sk-container-id-1 div.sk-parallel-item:last-child::after {align-self: flex-start;width: 50%;}#sk-container-id-1 div.sk-parallel-item:only-child::after {width: 0;}#sk-container-id-1 div.sk-dashed-wrapped {border: 1px dashed gray;margin: 0 0.4em 0.5em 0.4em;box-sizing: border-box;padding-bottom: 0.4em;background-color: white;}#sk-container-id-1 div.sk-label label {font-family: monospace;font-weight: bold;display: inline-block;line-height: 1.2em;}#sk-container-id-1 div.sk-label-container {text-align: center;}#sk-container-id-1 div.sk-container {/* jupyter's `normalize.less` sets `[hidden] { display: none; }` but bootstrap.min.css set `[hidden] { display: none !important; }` so we also need the `!important` here to be able to override the default hidden behavior on the sphinx rendered scikit-learn.org. See: https://github.com/scikit-learn/scikit-learn/issues/21755 */display: inline-block !important;position: relative;}#sk-container-id-1 div.sk-text-repr-fallback {display: none;}</style><div id=\"sk-container-id-1\" class=\"sk-top-container\"><div class=\"sk-text-repr-fallback\"><pre>RandomForestClassifier()</pre><b>In a Jupyter environment, please rerun this cell to show the HTML representation or trust the notebook. <br />On GitHub, the HTML representation is unable to render, please try loading this page with nbviewer.org.</b></div><div class=\"sk-container\" hidden><div class=\"sk-item\"><div class=\"sk-estimator sk-toggleable\"><input class=\"sk-toggleable__control sk-hidden--visually\" id=\"sk-estimator-id-1\" type=\"checkbox\" checked><label for=\"sk-estimator-id-1\" class=\"sk-toggleable__label sk-toggleable__label-arrow\">RandomForestClassifier</label><div class=\"sk-toggleable__content\"><pre>RandomForestClassifier()</pre></div></div></div></div></div>"
      ],
      "text/plain": [
       "RandomForestClassifier()"
      ]
     },
     "execution_count": 15,
     "metadata": {},
     "output_type": "execute_result"
    }
   ],
   "source": [
    "rforest.fit(train_x_scaled, train_y)"
   ]
  },
  {
   "cell_type": "code",
   "execution_count": 24,
   "id": "67c9fecb-9219-4853-aeaa-c8ca7cc3e09b",
   "metadata": {
    "execution": {
     "iopub.execute_input": "2023-03-14T02:58:17.787845Z",
     "iopub.status.busy": "2023-03-14T02:58:17.786845Z",
     "iopub.status.idle": "2023-03-14T02:58:19.741560Z",
     "shell.execute_reply": "2023-03-14T02:58:19.740545Z",
     "shell.execute_reply.started": "2023-03-14T02:58:17.787845Z"
    },
    "tags": []
   },
   "outputs": [
    {
     "data": {
      "text/plain": [
       "(107, 348)    0.000000\n",
       "(542, 751)    0.000000\n",
       "(20, 426)     0.800000\n",
       "(50, 989)     0.012321\n",
       "(942, 986)    0.000000\n",
       "                ...   \n",
       "(165, 923)    0.000000\n",
       "(673, 755)    0.000000\n",
       "(939, 940)    0.000000\n",
       "(555, 905)    0.000000\n",
       "(75, 101)     0.001333\n",
       "Length: 122112, dtype: float64"
      ]
     },
     "execution_count": 24,
     "metadata": {},
     "output_type": "execute_result"
    }
   ],
   "source": [
    "pd.Series(rforest.predict_proba(np.asarray(test_x_scaled))[:, 1], index = test_x.index)"
   ]
  },
  {
   "cell_type": "code",
   "execution_count": 22,
   "id": "30c215c7-d8f4-4c15-8223-eecec9d8efd2",
   "metadata": {
    "execution": {
     "iopub.execute_input": "2023-03-14T02:57:32.366895Z",
     "iopub.status.busy": "2023-03-14T02:57:32.366895Z",
     "iopub.status.idle": "2023-03-14T02:57:32.371321Z",
     "shell.execute_reply": "2023-03-14T02:57:32.371321Z",
     "shell.execute_reply.started": "2023-03-14T02:57:32.366895Z"
    },
    "tags": []
   },
   "outputs": [
    {
     "data": {
      "text/plain": [
       "array([[ 0.0566939 , -0.61475701, -0.37936143, -0.49708651],\n",
       "       [-0.44041357, -0.61475701, -0.13358809, -0.49708651],\n",
       "       [ 2.04512376,  0.01612632, -0.48469286, -0.28712177],\n",
       "       ...,\n",
       "       [-0.44041357, -0.61475701, -0.62461844, -0.49708651],\n",
       "       [-0.44041357, -0.61475701, -0.62461844, -0.49708651],\n",
       "       [-0.19185984, -0.61475701, -0.62461844, -0.49708651]])"
      ]
     },
     "execution_count": 22,
     "metadata": {},
     "output_type": "execute_result"
    }
   ],
   "source": [
    "np.asarray(test_x_scaled)"
   ]
  },
  {
   "cell_type": "code",
   "execution_count": 25,
   "id": "1f78d5ea-ab9c-4cae-bd71-c22538b630ab",
   "metadata": {
    "execution": {
     "iopub.execute_input": "2023-03-14T03:02:48.633684Z",
     "iopub.status.busy": "2023-03-14T03:02:48.633684Z",
     "iopub.status.idle": "2023-03-14T03:02:48.642375Z",
     "shell.execute_reply": "2023-03-14T03:02:48.641367Z",
     "shell.execute_reply.started": "2023-03-14T03:02:48.633684Z"
    },
    "tags": []
   },
   "outputs": [],
   "source": [
    "def new_connections_predictions():\n",
    "    \n",
    "    from sklearn.preprocessing import StandardScaler\n",
    "    from sklearn.ensemble import RandomForestClassifier\n",
    "        \n",
    "    ncommon_neighbours = [len(list(nx.common_neighbors(G, node_1, node_2))) for (node_1, node_2) in future_connections.index]\n",
    "    jaccards_coef = [tup[2] for tup in list(nx.jaccard_coefficient(G))]\n",
    "    pref_attach = [tup[2] for tup in list(nx.preferential_attachment(G))]\n",
    "    comm_common_neighbours = [tup[2] for tup in list(nx.cn_soundarajan_hopcroft(G, community = \"Department\"))]\n",
    "    \n",
    "    df = pd.DataFrame({\"common_neighbours\": ncommon_neighbours,\n",
    "                 \"jaccards_coef\": jaccards_coef,             \n",
    "                 \"prefer_attach\": pref_attach,\n",
    "                 \"commu_cneigh\": comm_common_neighbours}, index = future_connections.index)\n",
    "    \n",
    "    merged_df = df.merge(future_connections, how = \"inner\", left_index = True, right_index = True)\\\n",
    "                .rename({\"Future Connection\": \"future_connection\"}, axis = 1)\n",
    "    \n",
    "    scaler = StandardScaler()\n",
    "    \n",
    "    train = merged_df.loc[~merged_df.future_connection.isna(), :]\n",
    "    train_x = train.drop(\"future_connection\", axis = 1)\n",
    "    train_y = train.future_connection\n",
    "    \n",
    "    train_x_scaled = scaler.fit_transform(train_x)\n",
    "    \n",
    "    test = merged_df.loc[merged_df.future_connection.isna(), :]\n",
    "    test_x = test.drop(\"future_connection\", axis = 1)\n",
    "    test_x_scaled = scaler.transform(test_x)\n",
    "    \n",
    "    rforest = RandomForestClassifier(n_estimators = 100)\n",
    "    rforest.fit(train_x_scaled, train_y)\n",
    "    \n",
    "    return pd.Series(rforest.predict_proba(np.asarray(test_x_scaled))[:, 1], index = test_x.index)"
   ]
  },
  {
   "cell_type": "code",
   "execution_count": 26,
   "id": "e17715f4-a554-43a8-a893-68f747234322",
   "metadata": {
    "execution": {
     "iopub.execute_input": "2023-03-14T03:02:52.443150Z",
     "iopub.status.busy": "2023-03-14T03:02:52.443150Z",
     "iopub.status.idle": "2023-03-14T03:04:31.314961Z",
     "shell.execute_reply": "2023-03-14T03:04:31.314961Z",
     "shell.execute_reply.started": "2023-03-14T03:02:52.443150Z"
    },
    "tags": []
   },
   "outputs": [
    {
     "data": {
      "text/plain": [
       "(107, 348)    0.000000\n",
       "(542, 751)    0.000000\n",
       "(20, 426)     0.810000\n",
       "(50, 989)     0.012413\n",
       "(942, 986)    0.000000\n",
       "                ...   \n",
       "(165, 923)    0.000000\n",
       "(673, 755)    0.000000\n",
       "(939, 940)    0.000000\n",
       "(555, 905)    0.000000\n",
       "(75, 101)     0.000000\n",
       "Length: 122112, dtype: float64"
      ]
     },
     "execution_count": 26,
     "metadata": {},
     "output_type": "execute_result"
    }
   ],
   "source": [
    "new_connections_predictions()"
   ]
  },
  {
   "cell_type": "code",
   "execution_count": null,
   "id": "5e898b02-16d1-4148-9195-55f1be4df3b7",
   "metadata": {},
   "outputs": [],
   "source": []
  }
 ],
 "metadata": {
  "kernelspec": {
   "display_name": "Python 3 (ipykernel)",
   "language": "python",
   "name": "python3"
  },
  "language_info": {
   "codemirror_mode": {
    "name": "ipython",
    "version": 3
   },
   "file_extension": ".py",
   "mimetype": "text/x-python",
   "name": "python",
   "nbconvert_exporter": "python",
   "pygments_lexer": "ipython3",
   "version": "3.11.2"
  }
 },
 "nbformat": 4,
 "nbformat_minor": 5
}
