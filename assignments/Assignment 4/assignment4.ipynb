{
 "cells": [
  {
   "cell_type": "markdown",
   "metadata": {
    "deletable": false,
    "editable": false,
    "nbgrader": {
     "cell_type": "markdown",
     "checksum": "e54c4493f1c9d4aa91fe9712e827ee6b",
     "grade": false,
     "grade_id": "cell-61a01867bc1feb33",
     "locked": true,
     "schema_version": 3,
     "solution": false,
     "task": false
    }
   },
   "source": [
    "# Assignment 4"
   ]
  },
  {
   "cell_type": "code",
   "execution_count": 12,
   "metadata": {
    "deletable": true,
    "execution": {
     "iopub.execute_input": "2023-03-08T23:56:24.667998Z",
     "iopub.status.busy": "2023-03-08T23:56:24.667998Z",
     "iopub.status.idle": "2023-03-08T23:56:28.376463Z",
     "shell.execute_reply": "2023-03-08T23:56:28.375824Z",
     "shell.execute_reply.started": "2023-03-08T23:56:24.667998Z"
    },
    "nbgrader": {
     "cell_type": "code",
     "checksum": "8555f884d1a86e615633814fe0640fa9",
     "grade": false,
     "grade_id": "cell-04d6d26d762f743a",
     "locked": true,
     "schema_version": 3,
     "solution": false,
     "task": false
    },
    "tags": []
   },
   "outputs": [],
   "source": [
    "import networkx as nx\n",
    "import pandas as pd\n",
    "import numpy as np\n",
    "import pickle\n",
    "from collections import Counter\n",
    "import matplotlib.pyplot as plt"
   ]
  },
  {
   "cell_type": "markdown",
   "metadata": {
    "deletable": false,
    "editable": false,
    "nbgrader": {
     "cell_type": "markdown",
     "checksum": "99922dd6143eeaef285c41827744b7a0",
     "grade": false,
     "grade_id": "cell-f68117773f9bf0d9",
     "locked": true,
     "schema_version": 3,
     "solution": false,
     "task": false
    }
   },
   "source": [
    "---\n",
    "\n",
    "## Part 1 - Random Graph Identification\n",
    "\n",
    "For the first part of this assignment you will analyze randomly generated graphs and determine which algorithm created them."
   ]
  },
  {
   "cell_type": "code",
   "execution_count": 26,
   "metadata": {
    "deletable": true,
    "execution": {
     "iopub.execute_input": "2023-03-09T00:13:21.575978Z",
     "iopub.status.busy": "2023-03-09T00:13:21.575978Z",
     "iopub.status.idle": "2023-03-09T00:13:21.834237Z",
     "shell.execute_reply": "2023-03-09T00:13:21.833223Z",
     "shell.execute_reply.started": "2023-03-09T00:13:21.575978Z"
    },
    "nbgrader": {
     "cell_type": "code",
     "checksum": "2ae08b113b809baff307431969e91c41",
     "grade": false,
     "grade_id": "cell-ed6a16bb300e1f0b",
     "locked": true,
     "schema_version": 3,
     "solution": false,
     "task": false
    },
    "tags": []
   },
   "outputs": [],
   "source": [
    "G1 = pickle.load(open(\"assets/A4_P1_G1\", mode = \"rb\"))\n",
    "G2 = pickle.load(open(\"assets/A4_P1_G2\", mode = \"rb\"))\n",
    "G3 = pickle.load(open(\"assets/A4_P1_G3\", mode = \"rb\"))\n",
    "G4 = pickle.load(open(\"assets/A4_P1_G4\", mode = \"rb\"))\n",
    "G5 = pickle.load(open(\"assets/A4_P1_G5\", mode = \"rb\"))\n",
    "P1_Graphs = [G1, G2, G3, G4, G5]"
   ]
  },
  {
   "cell_type": "code",
   "execution_count": 52,
   "metadata": {
    "execution": {
     "iopub.execute_input": "2023-03-08T01:11:28.394345Z",
     "iopub.status.busy": "2023-03-08T01:11:28.393342Z",
     "iopub.status.idle": "2023-03-08T01:11:28.398437Z",
     "shell.execute_reply": "2023-03-08T01:11:28.398437Z",
     "shell.execute_reply.started": "2023-03-08T01:11:28.394345Z"
    },
    "tags": []
   },
   "outputs": [],
   "source": [
    "with open(\"assets/A4_P1_G1\", mode = \"rb\") as file:\n",
    "    graph = pickle.load(file)"
   ]
  },
  {
   "cell_type": "code",
   "execution_count": 56,
   "metadata": {
    "execution": {
     "iopub.execute_input": "2023-03-08T01:12:42.943506Z",
     "iopub.status.busy": "2023-03-08T01:12:42.943506Z",
     "iopub.status.idle": "2023-03-08T01:12:42.948014Z",
     "shell.execute_reply": "2023-03-08T01:12:42.948014Z",
     "shell.execute_reply.started": "2023-03-08T01:12:42.943506Z"
    },
    "tags": []
   },
   "outputs": [
    {
     "data": {
      "text/plain": [
       "[<networkx.classes.graph.Graph at 0x23c87d60c50>,\n",
       " <networkx.classes.graph.Graph at 0x23c86ae4610>,\n",
       " <networkx.classes.graph.Graph at 0x23c8856b090>,\n",
       " <networkx.classes.graph.Graph at 0x23c89223090>,\n",
       " <networkx.classes.graph.Graph at 0x23c88f6e2d0>]"
      ]
     },
     "execution_count": 56,
     "metadata": {},
     "output_type": "execute_result"
    }
   ],
   "source": [
    "P1_Graphs"
   ]
  },
  {
   "cell_type": "markdown",
   "metadata": {
    "deletable": false,
    "editable": false,
    "nbgrader": {
     "cell_type": "markdown",
     "checksum": "d6923b1a3243b7f2bb924427ff90908c",
     "grade": false,
     "grade_id": "cell-7f9c00e2ae0855df",
     "locked": true,
     "schema_version": 3,
     "solution": false,
     "task": false
    }
   },
   "source": [
    "<br>\n",
    "`P1_Graphs` is a list containing 5 networkx graphs. Each of these graphs were generated by one of three possible algorithms:\n",
    "* Preferential Attachment (`'PA'`)\n",
    "* Small World with low probability of rewiring (`'SW_L'`)\n",
    "* Small World with high probability of rewiring (`'SW_H'`)\n",
    "\n",
    "Anaylze each of the 5 graphs using any methodology and determine which of the three algorithms generated each graph.\n",
    "\n",
    "*The `graph_identification` function should return a list of length 5 where each element in the list is either `'PA'`, `'SW_L'`, or `'SW_H'`.*"
   ]
  },
  {
   "cell_type": "code",
   "execution_count": 59,
   "metadata": {
    "execution": {
     "iopub.execute_input": "2023-03-08T02:31:54.784850Z",
     "iopub.status.busy": "2023-03-08T02:31:54.784850Z",
     "iopub.status.idle": "2023-03-08T02:31:54.791185Z",
     "shell.execute_reply": "2023-03-08T02:31:54.791185Z",
     "shell.execute_reply.started": "2023-03-08T02:31:54.784850Z"
    },
    "tags": []
   },
   "outputs": [
    {
     "data": {
      "text/plain": [
       "[(1000, 999), (1000, 2000), (1000, 2000), (1000, 999), (1000, 2000)]"
      ]
     },
     "execution_count": 59,
     "metadata": {},
     "output_type": "execute_result"
    }
   ],
   "source": [
    "# all have 1000 nodes!\n",
    "\n",
    "[(graph.number_of_nodes(), graph.number_of_edges()) for graph in P1_Graphs]"
   ]
  },
  {
   "cell_type": "code",
   "execution_count": 3,
   "metadata": {
    "execution": {
     "iopub.execute_input": "2023-03-08T23:13:39.496338Z",
     "iopub.status.busy": "2023-03-08T23:13:39.496338Z",
     "iopub.status.idle": "2023-03-08T23:13:39.990532Z",
     "shell.execute_reply": "2023-03-08T23:13:39.990532Z",
     "shell.execute_reply.started": "2023-03-08T23:13:39.496338Z"
    },
    "tags": []
   },
   "outputs": [],
   "source": [
    "sorted(nx.preferential_attachment(G1), reverse = True, key = lambda tup: tup[2]);"
   ]
  },
  {
   "cell_type": "code",
   "execution_count": 23,
   "metadata": {
    "execution": {
     "iopub.execute_input": "2023-03-09T00:02:17.448260Z",
     "iopub.status.busy": "2023-03-09T00:02:17.448260Z",
     "iopub.status.idle": "2023-03-09T00:02:17.487787Z",
     "shell.execute_reply": "2023-03-09T00:02:17.486767Z",
     "shell.execute_reply.started": "2023-03-09T00:02:17.448260Z"
    },
    "tags": []
   },
   "outputs": [
    {
     "data": {
      "text/plain": [
       "[0.0, 0.49310000000000004, 0.4897333333333334, 0.0, 0.36504285714285717]"
      ]
     },
     "execution_count": 23,
     "metadata": {},
     "output_type": "execute_result"
    }
   ],
   "source": [
    "[nx.average_clustering(graph) for graph in P1_Graphs]"
   ]
  },
  {
   "cell_type": "code",
   "execution_count": 24,
   "metadata": {
    "execution": {
     "iopub.execute_input": "2023-03-09T00:02:50.473203Z",
     "iopub.status.busy": "2023-03-09T00:02:50.473203Z",
     "iopub.status.idle": "2023-03-09T00:02:53.729352Z",
     "shell.execute_reply": "2023-03-09T00:02:53.729352Z",
     "shell.execute_reply.started": "2023-03-09T00:02:50.473203Z"
    },
    "tags": []
   },
   "outputs": [
    {
     "data": {
      "text/plain": [
       "[6.530506506506507,\n",
       " 43.80284684684685,\n",
       " 39.007695695695695,\n",
       " 8.158990990990992,\n",
       " 8.532046046046046]"
      ]
     },
     "execution_count": 24,
     "metadata": {},
     "output_type": "execute_result"
    }
   ],
   "source": [
    "[nx.average_shortest_path_length(graph) for graph in P1_Graphs]"
   ]
  },
  {
   "cell_type": "code",
   "execution_count": 9,
   "metadata": {
    "execution": {
     "iopub.execute_input": "2023-03-08T23:54:34.909113Z",
     "iopub.status.busy": "2023-03-08T23:54:34.909113Z",
     "iopub.status.idle": "2023-03-08T23:54:34.911846Z",
     "shell.execute_reply": "2023-03-08T23:54:34.911846Z",
     "shell.execute_reply.started": "2023-03-08T23:54:34.909113Z"
    },
    "tags": []
   },
   "outputs": [],
   "source": [
    "G1.degree();"
   ]
  },
  {
   "cell_type": "code",
   "execution_count": 15,
   "metadata": {
    "execution": {
     "iopub.execute_input": "2023-03-08T23:56:51.715670Z",
     "iopub.status.busy": "2023-03-08T23:56:51.714695Z",
     "iopub.status.idle": "2023-03-08T23:56:51.720648Z",
     "shell.execute_reply": "2023-03-08T23:56:51.719641Z",
     "shell.execute_reply.started": "2023-03-08T23:56:51.715670Z"
    },
    "tags": []
   },
   "outputs": [],
   "source": [
    "def plot_degree_distribution(graph) -> None:\n",
    "    \n",
    "    nnodes = graph.number_of_nodes()\n",
    "    ddist = Counter([degree for (node, degree) in graph.degree()])\n",
    "    \n",
    "    fig, axes = plt.subplots(nrows = 1, ncols = 1)\n",
    "    fig.set_size_inches(5, 5)\n",
    "    axes.plot(ddist.keys(), ddist.values(), color = \"red\", marker = \"o\", linestyle = \"None\", markeredgecolor = \"black\")\n",
    "    axes.set_xlabel(\"Degrees\")\n",
    "    axes.set_xscale(\"log\")\n",
    "    axes.set_yscale(\"log\")\n",
    "    axes.set_ylabel(\"Fraction of nodes\")\n",
    "    plt.show()"
   ]
  },
  {
   "cell_type": "code",
   "execution_count": 16,
   "metadata": {
    "execution": {
     "iopub.execute_input": "2023-03-08T23:56:52.138908Z",
     "iopub.status.busy": "2023-03-08T23:56:52.138908Z",
     "iopub.status.idle": "2023-03-08T23:56:52.361326Z",
     "shell.execute_reply": "2023-03-08T23:56:52.361326Z",
     "shell.execute_reply.started": "2023-03-08T23:56:52.138908Z"
    },
    "tags": []
   },
   "outputs": [
    {
     "data": {
      "image/png": "[encoded data removed]",
      "text/plain": [
       "<Figure size 500x500 with 1 Axes>"
      ]
     },
     "metadata": {},
     "output_type": "display_data"
    }
   ],
   "source": [
    "plot_degree_distribution(G1)"
   ]
  },
  {
   "cell_type": "code",
   "execution_count": 17,
   "metadata": {
    "execution": {
     "iopub.execute_input": "2023-03-08T23:57:13.644860Z",
     "iopub.status.busy": "2023-03-08T23:57:13.644860Z",
     "iopub.status.idle": "2023-03-08T23:57:14.080276Z",
     "shell.execute_reply": "2023-03-08T23:57:14.080276Z",
     "shell.execute_reply.started": "2023-03-08T23:57:13.644860Z"
    },
    "tags": []
   },
   "outputs": [
    {
     "data": {
      "image/png": "[encoded data removed]",
      "text/plain": [
       "<Figure size 500x500 with 1 Axes>"
      ]
     },
     "metadata": {},
     "output_type": "display_data"
    }
   ],
   "source": [
    "plot_degree_distribution(G2)"
   ]
  },
  {
   "cell_type": "code",
   "execution_count": 18,
   "metadata": {
    "execution": {
     "iopub.execute_input": "2023-03-08T23:57:24.693395Z",
     "iopub.status.busy": "2023-03-08T23:57:24.692395Z",
     "iopub.status.idle": "2023-03-08T23:57:24.886266Z",
     "shell.execute_reply": "2023-03-08T23:57:24.886266Z",
     "shell.execute_reply.started": "2023-03-08T23:57:24.693395Z"
    },
    "tags": []
   },
   "outputs": [
    {
     "data": {
      "image/png": "[encoded data removed]",
      "text/plain": [
       "<Figure size 500x500 with 1 Axes>"
      ]
     },
     "metadata": {},
     "output_type": "display_data"
    }
   ],
   "source": [
    "plot_degree_distribution(G3)"
   ]
  },
  {
   "cell_type": "code",
   "execution_count": 19,
   "metadata": {
    "execution": {
     "iopub.execute_input": "2023-03-08T23:57:34.973881Z",
     "iopub.status.busy": "2023-03-08T23:57:34.973881Z",
     "iopub.status.idle": "2023-03-08T23:57:35.183729Z",
     "shell.execute_reply": "2023-03-08T23:57:35.183729Z",
     "shell.execute_reply.started": "2023-03-08T23:57:34.973881Z"
    },
    "tags": []
   },
   "outputs": [
    {
     "data": {
      "image/png": "[encoded data removed]",
      "text/plain": [
       "<Figure size 500x500 with 1 Axes>"
      ]
     },
     "metadata": {},
     "output_type": "display_data"
    }
   ],
   "source": [
    "plot_degree_distribution(G4)"
   ]
  },
  {
   "cell_type": "code",
   "execution_count": 20,
   "metadata": {
    "execution": {
     "iopub.execute_input": "2023-03-08T23:57:45.757582Z",
     "iopub.status.busy": "2023-03-08T23:57:45.757582Z",
     "iopub.status.idle": "2023-03-08T23:57:46.086171Z",
     "shell.execute_reply": "2023-03-08T23:57:46.086171Z",
     "shell.execute_reply.started": "2023-03-08T23:57:45.757582Z"
    },
    "tags": []
   },
   "outputs": [
    {
     "data": {
      "image/png": "[encoded data removed]",
      "text/plain": [
       "<Figure size 500x500 with 1 Axes>"
      ]
     },
     "metadata": {},
     "output_type": "display_data"
    }
   ],
   "source": [
    "plot_degree_distribution(G5)"
   ]
  },
  {
   "cell_type": "code",
   "execution_count": null,
   "metadata": {},
   "outputs": [],
   "source": [
    "# graphs G1 and G4 show Power law distribution."
   ]
  },
  {
   "cell_type": "code",
   "execution_count": null,
   "metadata": {},
   "outputs": [],
   "source": [
    "# So, the graphs G2, G3 and G5 must be small world networks.\n",
    "# With high probability for rewiring, we'd end up with a messy graph with low clustering coefficient (due to the loss of initial structure) \n",
    "# and small average shortest path length\n",
    "# With low probability of rewiring, we'd get a graph with high clustering coefficient but large average shortest path length."
   ]
  },
  {
   "cell_type": "code",
   "execution_count": 28,
   "metadata": {
    "execution": {
     "iopub.execute_input": "2023-03-09T00:14:13.392569Z",
     "iopub.status.busy": "2023-03-09T00:14:13.391565Z",
     "iopub.status.idle": "2023-03-09T00:14:16.746903Z",
     "shell.execute_reply": "2023-03-09T00:14:16.746903Z",
     "shell.execute_reply.started": "2023-03-09T00:14:13.392569Z"
    },
    "tags": []
   },
   "outputs": [
    {
     "data": {
      "text/plain": [
       "[(0.0, 6.530506506506507),\n",
       " (0.49310000000000004, 43.80284684684685),\n",
       " (0.4897333333333334, 39.007695695695695),\n",
       " (0.0, 8.158990990990992),\n",
       " (0.36504285714285717, 8.532046046046046)]"
      ]
     },
     "execution_count": 28,
     "metadata": {},
     "output_type": "execute_result"
    }
   ],
   "source": [
    "[(nx.average_clustering(graph), nx.average_shortest_path_length(graph)) for graph in P1_Graphs]"
   ]
  },
  {
   "cell_type": "code",
   "execution_count": 29,
   "metadata": {
    "deletable": false,
    "execution": {
     "iopub.execute_input": "2023-03-09T00:17:11.037356Z",
     "iopub.status.busy": "2023-03-09T00:17:11.036336Z",
     "iopub.status.idle": "2023-03-09T00:17:11.097724Z",
     "shell.execute_reply": "2023-03-09T00:17:11.097724Z",
     "shell.execute_reply.started": "2023-03-09T00:17:11.037356Z"
    },
    "nbgrader": {
     "cell_type": "code",
     "checksum": "0ff06107761a8aae493e00bd5375ddcf",
     "grade": false,
     "grade_id": "cell-c8c5e35d8114420d",
     "locked": false,
     "schema_version": 3,
     "solution": true,
     "task": false
    }
   },
   "outputs": [],
   "source": [
    "# Preferential attachment - nx.barabasi_albert_graph\n",
    "# Samll World - nx.watts_strogatz_graph\n",
    "\n",
    "def graph_identification():\n",
    "    return [\"PA\", \"SW_L\", \"SW_L\", \"PA\", \"SW_H\"]"
   ]
  },
  {
   "cell_type": "code",
   "execution_count": 30,
   "metadata": {
    "deletable": false,
    "editable": false,
    "execution": {
     "iopub.execute_input": "2023-03-09T00:17:12.270479Z",
     "iopub.status.busy": "2023-03-09T00:17:12.270479Z",
     "iopub.status.idle": "2023-03-09T00:17:12.275180Z",
     "shell.execute_reply": "2023-03-09T00:17:12.274175Z",
     "shell.execute_reply.started": "2023-03-09T00:17:12.270479Z"
    },
    "nbgrader": {
     "cell_type": "code",
     "checksum": "34772a15ef373a444ae7597d2005254b",
     "grade": true,
     "grade_id": "cell-efb9da7e1c19accf",
     "locked": true,
     "points": 1,
     "schema_version": 3,
     "solution": false,
     "task": false
    }
   },
   "outputs": [],
   "source": [
    "ans_one = graph_identification()\n",
    "assert type(ans_one) == list, \"You must return a list\"\n"
   ]
  },
  {
   "cell_type": "markdown",
   "metadata": {
    "deletable": false,
    "editable": false,
    "nbgrader": {
     "cell_type": "markdown",
     "checksum": "24751ee5132e6ae445b370a534718f46",
     "grade": false,
     "grade_id": "cell-a8b02acc0a67f5cb",
     "locked": true,
     "schema_version": 3,
     "solution": false,
     "task": false
    }
   },
   "source": [
    "---\n",
    "\n",
    "## Part 2 - Company Emails\n",
    "\n",
    "For the second part of this assignment you will be working with a company's email network where each node corresponds to a person at the company, and each edge indicates that at least one email has been sent between two people.\n",
    "\n",
    "The network also contains the node attributes `Department` and `ManagmentSalary`.\n",
    "\n",
    "`Department` indicates the department in the company which the person belongs to, and `ManagmentSalary` indicates whether that person is receiving a managment position salary."
   ]
  },
  {
   "cell_type": "code",
   "execution_count": 31,
   "metadata": {
    "deletable": false,
    "editable": false,
    "execution": {
     "iopub.execute_input": "2023-03-09T00:17:59.330005Z",
     "iopub.status.busy": "2023-03-09T00:17:59.330005Z",
     "iopub.status.idle": "2023-03-09T00:17:59.560012Z",
     "shell.execute_reply": "2023-03-09T00:17:59.560012Z",
     "shell.execute_reply.started": "2023-03-09T00:17:59.330005Z"
    },
    "nbgrader": {
     "cell_type": "code",
     "checksum": "e722c34a6345262e25f7b6f3aa9ea24f",
     "grade": false,
     "grade_id": "cell-8318572a20542eb0",
     "locked": true,
     "schema_version": 3,
     "solution": false,
     "task": false
    }
   },
   "outputs": [
    {
     "name": "stdout",
     "output_type": "stream",
     "text": [
      "Graph with 1005 nodes and 16706 edges\n"
     ]
    }
   ],
   "source": [
    "G = pickle.load(open('assets/email_prediction_NEW.txt', 'rb'))\n",
    "\n",
    "print(f\"Graph with {len(nx.nodes(G))} nodes and {len(nx.edges(G))} edges\")"
   ]
  },
  {
   "cell_type": "markdown",
   "metadata": {
    "deletable": false,
    "editable": false,
    "nbgrader": {
     "cell_type": "markdown",
     "checksum": "fce5fb3b46c870ef3a396d6272fb5741",
     "grade": false,
     "grade_id": "cell-e87009c4bfab6968",
     "locked": true,
     "schema_version": 3,
     "solution": false,
     "task": false
    }
   },
   "source": [
    "### Part 2A - Salary Prediction\n",
    "\n",
    "Using network `G`, identify the people in the network with missing values for the node attribute `ManagementSalary` and predict whether or not these individuals are receiving a managment position salary.\n",
    "\n",
    "To accomplish this, you will need to create a matrix of node features of your choice using networkx, train a sklearn classifier on nodes that have `ManagementSalary` data, and predict a probability of the node receiving a managment salary for nodes where `ManagementSalary` is missing.\n",
    "\n",
    "\n",
    "\n",
    "Your predictions will need to be given as the probability that the corresponding employee is receiving a managment position salary.\n",
    "\n",
    "The evaluation metric for this assignment is the Area Under the ROC Curve (AUC).\n",
    "\n",
    "Your grade will be based on the AUC score computed for your classifier. A model which with an AUC of 0.75 or higher will recieve full points.\n",
    "\n",
    "Using your trained classifier, return a Pandas series of length 252 with the data being the probability of receiving managment salary, and the index being the node id.\n",
    "\n",
    "    Example:\n",
    "    \n",
    "        1       1.0\n",
    "        2       0.0\n",
    "        5       0.8\n",
    "        8       1.0\n",
    "            ...\n",
    "        996     0.7\n",
    "        1000    0.5\n",
    "        1001    0.0\n",
    "        Length: 252, dtype: float64"
   ]
  },
  {
   "cell_type": "code",
   "execution_count": 37,
   "metadata": {
    "execution": {
     "iopub.execute_input": "2023-03-09T00:37:06.580292Z",
     "iopub.status.busy": "2023-03-09T00:37:06.580292Z",
     "iopub.status.idle": "2023-03-09T00:37:06.584268Z",
     "shell.execute_reply": "2023-03-09T00:37:06.584268Z",
     "shell.execute_reply.started": "2023-03-09T00:37:06.580292Z"
    },
    "tags": []
   },
   "outputs": [
    {
     "data": {
      "text/plain": [
       "False"
      ]
     },
     "execution_count": 37,
     "metadata": {},
     "output_type": "execute_result"
    }
   ],
   "source": [
    "nx.is_directed(G)"
   ]
  },
  {
   "cell_type": "code",
   "execution_count": 32,
   "metadata": {
    "deletable": false,
    "editable": false,
    "execution": {
     "iopub.execute_input": "2023-03-09T00:20:45.953602Z",
     "iopub.status.busy": "2023-03-09T00:20:45.953602Z",
     "iopub.status.idle": "2023-03-09T00:20:45.959991Z",
     "shell.execute_reply": "2023-03-09T00:20:45.958983Z",
     "shell.execute_reply.started": "2023-03-09T00:20:45.953602Z"
    },
    "nbgrader": {
     "cell_type": "code",
     "checksum": "d02e4f542d1aa318bbf2d31a4190f873",
     "grade": false,
     "grade_id": "cell-5980e664930b216a",
     "locked": true,
     "schema_version": 3,
     "solution": false,
     "task": false
    }
   },
   "outputs": [
    {
     "data": {
      "text/plain": [
       "[(0, {'Department': 1, 'ManagementSalary': 0.0}),\n",
       " (1, {'Department': 1, 'ManagementSalary': nan}),\n",
       " (581, {'Department': 3, 'ManagementSalary': 0.0}),\n",
       " (6, {'Department': 25, 'ManagementSalary': 1.0}),\n",
       " (65, {'Department': 4, 'ManagementSalary': nan})]"
      ]
     },
     "execution_count": 32,
     "metadata": {},
     "output_type": "execute_result"
    }
   ],
   "source": [
    "list(G.nodes(data=True))[:5] # print the first 5 nodes"
   ]
  },
  {
   "cell_type": "code",
   "execution_count": 59,
   "metadata": {
    "execution": {
     "iopub.execute_input": "2023-03-09T00:52:30.633710Z",
     "iopub.status.busy": "2023-03-09T00:52:30.632710Z",
     "iopub.status.idle": "2023-03-09T00:52:30.638696Z",
     "shell.execute_reply": "2023-03-09T00:52:30.638696Z",
     "shell.execute_reply.started": "2023-03-09T00:52:30.633710Z"
    },
    "tags": []
   },
   "outputs": [],
   "source": [
    "dep = nx.get_node_attributes(G, \"Department\");\n",
    "mgmt_salary = nx.get_node_attributes(G, \"ManagementSalary\");\n",
    "degrees = dict(nx.degree(G));"
   ]
  },
  {
   "cell_type": "code",
   "execution_count": 63,
   "metadata": {
    "execution": {
     "iopub.execute_input": "2023-03-09T01:09:32.750216Z",
     "iopub.status.busy": "2023-03-09T01:09:32.750216Z",
     "iopub.status.idle": "2023-03-09T01:09:32.759651Z",
     "shell.execute_reply": "2023-03-09T01:09:32.759651Z",
     "shell.execute_reply.started": "2023-03-09T01:09:32.750216Z"
    },
    "tags": []
   },
   "outputs": [],
   "source": [
    "# and number of neighbours who receive a management salary\n",
    "\n",
    "neighbours_with_mgmt_salary = dict.fromkeys(G.nodes(), 0)\n",
    "node_mgmt_attrs = nx.get_node_attributes(G, \"ManagementSalary\")\n",
    "\n",
    "for node in G.nodes():\n",
    "    for neighbour in nx.neighbors(G, node):\n",
    "        if node_mgmt_attrs.get(neighbour) == 1:\n",
    "            neighbours_with_mgmt_salary[node] += 1"
   ]
  },
  {
   "cell_type": "code",
   "execution_count": 67,
   "metadata": {
    "execution": {
     "iopub.execute_input": "2023-03-09T01:12:19.232881Z",
     "iopub.status.busy": "2023-03-09T01:12:19.232881Z",
     "iopub.status.idle": "2023-03-09T01:12:19.246648Z",
     "shell.execute_reply": "2023-03-09T01:12:19.246648Z",
     "shell.execute_reply.started": "2023-03-09T01:12:19.232881Z"
    },
    "tags": []
   },
   "outputs": [],
   "source": [
    "# number of neighbours from the same department who also receive a management salary\n",
    "\n",
    "neighbours_with_mgmt_salary_same_dept = dict.fromkeys(G.nodes(), 0)\n",
    "node_mgmt_attrs = nx.get_node_attributes(G, \"ManagementSalary\")\n",
    "node_dept_attrs = nx.get_node_attributes(G, \"Department\")\n",
    "\n",
    "for node in G.nodes():\n",
    "    for neighbour in nx.neighbors(G, node):\n",
    "        if (node_mgmt_attrs.get(neighbour) == 1) and (node_dept_attrs.get(node) == node_dept_attrs.get(neighbour)):\n",
    "            neighbours_with_mgmt_salary_same_dept[node] += 1"
   ]
  },
  {
   "cell_type": "code",
   "execution_count": 69,
   "metadata": {
    "execution": {
     "iopub.execute_input": "2023-03-09T01:12:40.677360Z",
     "iopub.status.busy": "2023-03-09T01:12:40.677360Z",
     "iopub.status.idle": "2023-03-09T01:12:40.681888Z",
     "shell.execute_reply": "2023-03-09T01:12:40.680881Z",
     "shell.execute_reply.started": "2023-03-09T01:12:40.677360Z"
    },
    "tags": []
   },
   "outputs": [],
   "source": [
    "neighbours_with_mgmt_salary_same_dept;"
   ]
  },
  {
   "cell_type": "code",
   "execution_count": 62,
   "metadata": {
    "execution": {
     "iopub.execute_input": "2023-03-09T00:53:13.783244Z",
     "iopub.status.busy": "2023-03-09T00:53:13.782246Z",
     "iopub.status.idle": "2023-03-09T00:53:13.843803Z",
     "shell.execute_reply": "2023-03-09T00:53:13.843803Z",
     "shell.execute_reply.started": "2023-03-09T00:53:13.783244Z"
    },
    "tags": []
   },
   "outputs": [
    {
     "ename": "TypeError",
     "evalue": "object of type 'int' has no len()",
     "output_type": "error",
     "traceback": [
      "\u001b[1;31m---------------------------------------------------------------------------\u001b[0m",
      "\u001b[1;31mTypeError\u001b[0m                                 Traceback (most recent call last)",
      "Cell \u001b[1;32mIn[62], line 1\u001b[0m\n\u001b[1;32m----> 1\u001b[0m \u001b[43mpd\u001b[49m\u001b[38;5;241;43m.\u001b[39;49m\u001b[43mDataFrame\u001b[49m\u001b[43m(\u001b[49m\u001b[43mdep\u001b[49m\u001b[43m,\u001b[49m\u001b[43m \u001b[49m\u001b[43mmgmt_salary\u001b[49m\u001b[43m,\u001b[49m\u001b[43m \u001b[49m\u001b[43mdegrees\u001b[49m\u001b[43m,\u001b[49m\u001b[43m \u001b[49m\u001b[43mneighbours_with_mgmt_salary\u001b[49m\u001b[43m)\u001b[49m;\n",
      "File \u001b[1;32m~\\AppData\\Roaming\\Python\\Python311\\site-packages\\pandas\\core\\frame.py:621\u001b[0m, in \u001b[0;36mDataFrame.__init__\u001b[1;34m(self, data, index, columns, dtype, copy)\u001b[0m\n\u001b[0;32m    619\u001b[0m     data \u001b[38;5;241m=\u001b[39m {}\n\u001b[0;32m    620\u001b[0m \u001b[38;5;28;01mif\u001b[39;00m dtype \u001b[38;5;129;01mis\u001b[39;00m \u001b[38;5;129;01mnot\u001b[39;00m \u001b[38;5;28;01mNone\u001b[39;00m:\n\u001b[1;32m--> 621\u001b[0m     dtype \u001b[38;5;241m=\u001b[39m \u001b[38;5;28;43mself\u001b[39;49m\u001b[38;5;241;43m.\u001b[39;49m\u001b[43m_validate_dtype\u001b[49m\u001b[43m(\u001b[49m\u001b[43mdtype\u001b[49m\u001b[43m)\u001b[49m\n\u001b[0;32m    623\u001b[0m \u001b[38;5;28;01mif\u001b[39;00m \u001b[38;5;28misinstance\u001b[39m(data, DataFrame):\n\u001b[0;32m    624\u001b[0m     data \u001b[38;5;241m=\u001b[39m data\u001b[38;5;241m.\u001b[39m_mgr\n",
      "File \u001b[1;32m~\\AppData\\Roaming\\Python\\Python311\\site-packages\\pandas\\core\\generic.py:450\u001b[0m, in \u001b[0;36mNDFrame._validate_dtype\u001b[1;34m(cls, dtype)\u001b[0m\n\u001b[0;32m    448\u001b[0m \u001b[38;5;250m\u001b[39m\u001b[38;5;124;03m\"\"\"validate the passed dtype\"\"\"\u001b[39;00m\n\u001b[0;32m    449\u001b[0m \u001b[38;5;28;01mif\u001b[39;00m dtype \u001b[38;5;129;01mis\u001b[39;00m \u001b[38;5;129;01mnot\u001b[39;00m \u001b[38;5;28;01mNone\u001b[39;00m:\n\u001b[1;32m--> 450\u001b[0m     dtype \u001b[38;5;241m=\u001b[39m \u001b[43mpandas_dtype\u001b[49m\u001b[43m(\u001b[49m\u001b[43mdtype\u001b[49m\u001b[43m)\u001b[49m\n\u001b[0;32m    452\u001b[0m     \u001b[38;5;66;03m# a compound dtype\u001b[39;00m\n\u001b[0;32m    453\u001b[0m     \u001b[38;5;28;01mif\u001b[39;00m dtype\u001b[38;5;241m.\u001b[39mkind \u001b[38;5;241m==\u001b[39m \u001b[38;5;124m\"\u001b[39m\u001b[38;5;124mV\u001b[39m\u001b[38;5;124m\"\u001b[39m:\n",
      "File \u001b[1;32m~\\AppData\\Roaming\\Python\\Python311\\site-packages\\pandas\\core\\dtypes\\common.py:1781\u001b[0m, in \u001b[0;36mpandas_dtype\u001b[1;34m(dtype)\u001b[0m\n\u001b[0;32m   1778\u001b[0m \u001b[38;5;66;03m# try a numpy dtype\u001b[39;00m\n\u001b[0;32m   1779\u001b[0m \u001b[38;5;66;03m# raise a consistent TypeError if failed\u001b[39;00m\n\u001b[0;32m   1780\u001b[0m \u001b[38;5;28;01mtry\u001b[39;00m:\n\u001b[1;32m-> 1781\u001b[0m     npdtype \u001b[38;5;241m=\u001b[39m \u001b[43mnp\u001b[49m\u001b[38;5;241;43m.\u001b[39;49m\u001b[43mdtype\u001b[49m\u001b[43m(\u001b[49m\u001b[43mdtype\u001b[49m\u001b[43m)\u001b[49m\n\u001b[0;32m   1782\u001b[0m \u001b[38;5;28;01mexcept\u001b[39;00m \u001b[38;5;167;01mSyntaxError\u001b[39;00m \u001b[38;5;28;01mas\u001b[39;00m err:\n\u001b[0;32m   1783\u001b[0m     \u001b[38;5;66;03m# np.dtype uses `eval` which can raise SyntaxError\u001b[39;00m\n\u001b[0;32m   1784\u001b[0m     \u001b[38;5;28;01mraise\u001b[39;00m \u001b[38;5;167;01mTypeError\u001b[39;00m(\u001b[38;5;124mf\u001b[39m\u001b[38;5;124m\"\u001b[39m\u001b[38;5;124mdata type \u001b[39m\u001b[38;5;124m'\u001b[39m\u001b[38;5;132;01m{\u001b[39;00mdtype\u001b[38;5;132;01m}\u001b[39;00m\u001b[38;5;124m'\u001b[39m\u001b[38;5;124m not understood\u001b[39m\u001b[38;5;124m\"\u001b[39m) \u001b[38;5;28;01mfrom\u001b[39;00m \u001b[38;5;21;01merr\u001b[39;00m\n",
      "File \u001b[1;32mC:\\Program Files\\Python311\\Lib\\site-packages\\numpy\\core\\_internal.py:61\u001b[0m, in \u001b[0;36m_usefields\u001b[1;34m(adict, align)\u001b[0m\n\u001b[0;32m     59\u001b[0m     names \u001b[38;5;241m=\u001b[39m \u001b[38;5;28;01mNone\u001b[39;00m\n\u001b[0;32m     60\u001b[0m \u001b[38;5;28;01mif\u001b[39;00m names \u001b[38;5;129;01mis\u001b[39;00m \u001b[38;5;28;01mNone\u001b[39;00m:\n\u001b[1;32m---> 61\u001b[0m     names, formats, offsets, titles \u001b[38;5;241m=\u001b[39m \u001b[43m_makenames_list\u001b[49m\u001b[43m(\u001b[49m\u001b[43madict\u001b[49m\u001b[43m,\u001b[49m\u001b[43m \u001b[49m\u001b[43malign\u001b[49m\u001b[43m)\u001b[49m\n\u001b[0;32m     62\u001b[0m \u001b[38;5;28;01melse\u001b[39;00m:\n\u001b[0;32m     63\u001b[0m     formats \u001b[38;5;241m=\u001b[39m []\n",
      "File \u001b[1;32mC:\\Program Files\\Python311\\Lib\\site-packages\\numpy\\core\\_internal.py:29\u001b[0m, in \u001b[0;36m_makenames_list\u001b[1;34m(adict, align)\u001b[0m\n\u001b[0;32m     26\u001b[0m allfields \u001b[38;5;241m=\u001b[39m []\n\u001b[0;32m     28\u001b[0m \u001b[38;5;28;01mfor\u001b[39;00m fname, obj \u001b[38;5;129;01min\u001b[39;00m adict\u001b[38;5;241m.\u001b[39mitems():\n\u001b[1;32m---> 29\u001b[0m     n \u001b[38;5;241m=\u001b[39m \u001b[38;5;28;43mlen\u001b[39;49m\u001b[43m(\u001b[49m\u001b[43mobj\u001b[49m\u001b[43m)\u001b[49m\n\u001b[0;32m     30\u001b[0m     \u001b[38;5;28;01mif\u001b[39;00m \u001b[38;5;129;01mnot\u001b[39;00m \u001b[38;5;28misinstance\u001b[39m(obj, \u001b[38;5;28mtuple\u001b[39m) \u001b[38;5;129;01mor\u001b[39;00m n \u001b[38;5;129;01mnot\u001b[39;00m \u001b[38;5;129;01min\u001b[39;00m (\u001b[38;5;241m2\u001b[39m, \u001b[38;5;241m3\u001b[39m):\n\u001b[0;32m     31\u001b[0m         \u001b[38;5;28;01mraise\u001b[39;00m \u001b[38;5;167;01mValueError\u001b[39;00m(\u001b[38;5;124m\"\u001b[39m\u001b[38;5;124mentry not a 2- or 3- tuple\u001b[39m\u001b[38;5;124m\"\u001b[39m)\n",
      "\u001b[1;31mTypeError\u001b[0m: object of type 'int' has no len()"
     ]
    }
   ],
   "source": [
    "pd.DataFrame(dep, mgmt_salary, degrees, neighbours_with_mgmt_salary);"
   ]
  },
  {
   "cell_type": "code",
   "execution_count": null,
   "metadata": {
    "deletable": false,
    "nbgrader": {
     "cell_type": "code",
     "checksum": "7923c33da469542ff6e642a304dce099",
     "grade": false,
     "grade_id": "cell-c1ae7e7278c56f0c",
     "locked": false,
     "schema_version": 3,
     "solution": true,
     "task": false
    }
   },
   "outputs": [],
   "source": [
    "def salary_predictions():\n",
    "    from sklearn.preprocessing import StandardScaler\n",
    "    from sklearn.ensemble import RandomForestClassifier\n",
    "\n",
    "    # YOUR CODE HERE\n",
    "    raise NotImplementedError()"
   ]
  },
  {
   "cell_type": "code",
   "execution_count": null,
   "metadata": {
    "deletable": false,
    "editable": false,
    "nbgrader": {
     "cell_type": "code",
     "checksum": "25615bc140cf5f8b7049928438419a81",
     "grade": true,
     "grade_id": "cell-bc9c23e7517908ab",
     "locked": true,
     "points": 1,
     "schema_version": 3,
     "solution": false,
     "task": false
    }
   },
   "outputs": [],
   "source": [
    "ans_salary_preds = salary_predictions()\n",
    "assert type(ans_salary_preds) == pd.core.series.Series, \"You must return a Pandas series\"\n",
    "assert len(ans_salary_preds) == 252, \"The series must be of length 252\"\n"
   ]
  },
  {
   "cell_type": "markdown",
   "metadata": {
    "deletable": false,
    "editable": false,
    "nbgrader": {
     "cell_type": "markdown",
     "checksum": "01ee118d34018c23ed12b93790c65e49",
     "grade": false,
     "grade_id": "cell-636bdc6669fbdf2f",
     "locked": true,
     "schema_version": 3,
     "solution": false,
     "task": false
    }
   },
   "source": [
    "### Part 2B - New Connections Prediction\n",
    "\n",
    "For the last part of this assignment, you will predict future connections between employees of the network. The future connections information has been loaded into the variable `future_connections`. The index is a tuple indicating a pair of nodes that currently do not have a connection, and the `Future Connection` column indicates if an edge between those two nodes will exist in the future, where a value of 1.0 indicates a future connection."
   ]
  },
  {
   "cell_type": "code",
   "execution_count": null,
   "metadata": {
    "deletable": false,
    "editable": false,
    "nbgrader": {
     "cell_type": "code",
     "checksum": "6ae78d5616c6a6fba11b22d9bf5c9bac",
     "grade": false,
     "grade_id": "cell-23900b187593a4a6",
     "locked": true,
     "schema_version": 3,
     "solution": false,
     "task": false
    }
   },
   "outputs": [],
   "source": [
    "future_connections = pd.read_csv('assets/Future_Connections.csv', index_col=0, converters={0: eval})\n",
    "future_connections.head(10)"
   ]
  },
  {
   "cell_type": "markdown",
   "metadata": {
    "deletable": false,
    "editable": false,
    "nbgrader": {
     "cell_type": "markdown",
     "checksum": "24c7b4c993f6a3300acc98b46d49f81b",
     "grade": false,
     "grade_id": "cell-2d5376bc66158f80",
     "locked": true,
     "schema_version": 3,
     "solution": false,
     "task": false
    }
   },
   "source": [
    "Using network `G` and `future_connections`, identify the edges in `future_connections` with missing values and predict whether or not these edges will have a future connection.\n",
    "\n",
    "To accomplish this, you will need to:      \n",
    "1. Create a matrix of features of your choice for the edges found in `future_connections` using Networkx     \n",
    "2. Train a sklearn classifier on those edges in `future_connections` that have `Future Connection` data     \n",
    "3. Predict a probability of the edge being a future connection for those edges in `future_connections` where `Future Connection` is missing.\n",
    "\n",
    "\n",
    "\n",
    "Your predictions will need to be given as the probability of the corresponding edge being a future connection.\n",
    "\n",
    "The evaluation metric for this assignment is the Area Under the ROC Curve (AUC).\n",
    "\n",
    "Your grade will be based on the AUC score computed for your classifier. A model which with an AUC of 0.75 or higher will recieve full points.\n",
    "\n",
    "Using your trained classifier, return a series of length 122112 with the data being the probability of the edge being a future connection, and the index being the edge as represented by a tuple of nodes.\n",
    "\n",
    "    Example:\n",
    "    \n",
    "        (107, 348)    0.35\n",
    "        (542, 751)    0.40\n",
    "        (20, 426)     0.55\n",
    "        (50, 989)     0.35\n",
    "                  ...\n",
    "        (939, 940)    0.15\n",
    "        (555, 905)    0.35\n",
    "        (75, 101)     0.65\n",
    "        Length: 122112, dtype: float64"
   ]
  },
  {
   "cell_type": "code",
   "execution_count": null,
   "metadata": {
    "deletable": false,
    "nbgrader": {
     "cell_type": "code",
     "checksum": "aa635313ab21384aefd0e005c28f8a9d",
     "grade": false,
     "grade_id": "cell-63e0f775d43cc2e4",
     "locked": false,
     "schema_version": 3,
     "solution": true,
     "task": false
    }
   },
   "outputs": [],
   "source": [
    "def new_connections_predictions():\n",
    "    from sklearn.preprocessing import StandardScaler, LabelEncoder\n",
    "    from sklearn.ensemble import RandomForestClassifier\n",
    "\n",
    "    # YOUR CODE HERE\n",
    "    raise NotImplementedError()"
   ]
  },
  {
   "cell_type": "code",
   "execution_count": null,
   "metadata": {
    "deletable": false,
    "editable": false,
    "nbgrader": {
     "cell_type": "code",
     "checksum": "1551f972fbe01646fda6b8679026970b",
     "grade": true,
     "grade_id": "cell-979b4a17d794f3d0",
     "locked": true,
     "points": 1,
     "schema_version": 3,
     "solution": false,
     "task": false
    }
   },
   "outputs": [],
   "source": [
    "ans_prob_preds = new_connections_predictions()\n",
    "assert type(ans_prob_preds) == pd.core.series.Series, \"You must return a Pandas series\"\n",
    "assert len(ans_prob_preds) == 122112, \"The series must be of length 122112\"\n"
   ]
  }
 ],
 "metadata": {
  "coursera": {
   "schema_names": [
    "mooc_adswpy_v1_assignment4"
   ]
  },
  "kernelspec": {
   "display_name": "Python 3 (ipykernel)",
   "language": "python",
   "name": "python3"
  },
  "language_info": {
   "codemirror_mode": {
    "name": "ipython",
    "version": 3
   },
   "file_extension": ".py",
   "mimetype": "text/x-python",
   "name": "python",
   "nbconvert_exporter": "python",
   "pygments_lexer": "ipython3",
   "version": "3.11.2"
  }
 },
 "nbformat": 4,
 "nbformat_minor": 4
}
