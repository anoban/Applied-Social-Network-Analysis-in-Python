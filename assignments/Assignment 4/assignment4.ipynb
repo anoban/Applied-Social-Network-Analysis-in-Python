{
 "cells": [
  {
   "cell_type": "markdown",
   "metadata": {
    "deletable": false,
    "editable": false,
    "nbgrader": {
     "cell_type": "markdown",
     "checksum": "e54c4493f1c9d4aa91fe9712e827ee6b",
     "grade": false,
     "grade_id": "cell-61a01867bc1feb33",
     "locked": true,
     "schema_version": 3,
     "solution": false,
     "task": false
    }
   },
   "source": [
    "# Assignment 4"
   ]
  },
  {
   "cell_type": "code",
   "execution_count": 50,
   "metadata": {
    "deletable": true,
    "execution": {
     "iopub.execute_input": "2023-03-13T00:05:38.887420Z",
     "iopub.status.busy": "2023-03-13T00:05:38.887420Z",
     "iopub.status.idle": "2023-03-13T00:05:38.892351Z",
     "shell.execute_reply": "2023-03-13T00:05:38.891345Z",
     "shell.execute_reply.started": "2023-03-13T00:05:38.887420Z"
    },
    "nbgrader": {
     "cell_type": "code",
     "checksum": "8555f884d1a86e615633814fe0640fa9",
     "grade": false,
     "grade_id": "cell-04d6d26d762f743a",
     "locked": true,
     "schema_version": 3,
     "solution": false,
     "task": false
    },
    "tags": []
   },
   "outputs": [],
   "source": [
    "import networkx as nx\n",
    "import pandas as pd\n",
    "import numpy as np\n",
    "import pickle\n",
    "from collections import Counter\n",
    "import matplotlib.pyplot as plt\n",
    "from sklearn.preprocessing import (StandardScaler, MinMaxScaler)\n",
    "from sklearn.ensemble import RandomForestClassifier\n",
    "from sklearn.neural_network import MLPClassifier\n",
    "from sklearn.metrics import accuracy_score"
   ]
  },
  {
   "cell_type": "markdown",
   "metadata": {},
   "source": [
    "## ***First question is done :)***"
   ]
  },
  {
   "cell_type": "markdown",
   "metadata": {
    "deletable": false,
    "editable": false,
    "nbgrader": {
     "cell_type": "markdown",
     "checksum": "99922dd6143eeaef285c41827744b7a0",
     "grade": false,
     "grade_id": "cell-f68117773f9bf0d9",
     "locked": true,
     "schema_version": 3,
     "solution": false,
     "task": false
    }
   },
   "source": [
    "---\n",
    "\n",
    "## Part 1 - Random Graph Identification\n",
    "\n",
    "For the first part of this assignment you will analyze randomly generated graphs and determine which algorithm created them."
   ]
  },
  {
   "cell_type": "code",
   "execution_count": 2,
   "metadata": {
    "deletable": true,
    "execution": {
     "iopub.execute_input": "2023-03-09T21:38:48.896876Z",
     "iopub.status.busy": "2023-03-09T21:38:48.896876Z",
     "iopub.status.idle": "2023-03-09T21:38:49.121099Z",
     "shell.execute_reply": "2023-03-09T21:38:49.119131Z",
     "shell.execute_reply.started": "2023-03-09T21:38:48.896876Z"
    },
    "nbgrader": {
     "cell_type": "code",
     "checksum": "2ae08b113b809baff307431969e91c41",
     "grade": false,
     "grade_id": "cell-ed6a16bb300e1f0b",
     "locked": true,
     "schema_version": 3,
     "solution": false,
     "task": false
    },
    "tags": []
   },
   "outputs": [],
   "source": [
    "G1 = pickle.load(open(\"assets/A4_P1_G1\", mode = \"rb\"))\n",
    "G2 = pickle.load(open(\"assets/A4_P1_G2\", mode = \"rb\"))\n",
    "G3 = pickle.load(open(\"assets/A4_P1_G3\", mode = \"rb\"))\n",
    "G4 = pickle.load(open(\"assets/A4_P1_G4\", mode = \"rb\"))\n",
    "G5 = pickle.load(open(\"assets/A4_P1_G5\", mode = \"rb\"))\n",
    "P1_Graphs = [G1, G2, G3, G4, G5]"
   ]
  },
  {
   "cell_type": "code",
   "execution_count": 3,
   "metadata": {
    "execution": {
     "iopub.execute_input": "2023-03-09T10:53:13.552122Z",
     "iopub.status.busy": "2023-03-09T10:53:13.552122Z",
     "iopub.status.idle": "2023-03-09T10:53:13.569712Z",
     "shell.execute_reply": "2023-03-09T10:53:13.569712Z",
     "shell.execute_reply.started": "2023-03-09T10:53:13.552122Z"
    },
    "tags": []
   },
   "outputs": [],
   "source": [
    "with open(\"assets/A4_P1_G1\", mode = \"rb\") as file:\n",
    "    graph = pickle.load(file)"
   ]
  },
  {
   "cell_type": "code",
   "execution_count": 4,
   "metadata": {
    "execution": {
     "iopub.execute_input": "2023-03-09T10:53:14.900880Z",
     "iopub.status.busy": "2023-03-09T10:53:14.900880Z",
     "iopub.status.idle": "2023-03-09T10:53:14.908816Z",
     "shell.execute_reply": "2023-03-09T10:53:14.907809Z",
     "shell.execute_reply.started": "2023-03-09T10:53:14.900880Z"
    },
    "tags": []
   },
   "outputs": [
    {
     "data": {
      "text/plain": [
       "[<networkx.classes.graph.Graph at 0x2b67372de90>,\n",
       " <networkx.classes.graph.Graph at 0x2b6732c8d50>,\n",
       " <networkx.classes.graph.Graph at 0x2b673813ad0>,\n",
       " <networkx.classes.graph.Graph at 0x2b6738a2850>,\n",
       " <networkx.classes.graph.Graph at 0x2b673909ad0>]"
      ]
     },
     "execution_count": 4,
     "metadata": {},
     "output_type": "execute_result"
    }
   ],
   "source": [
    "P1_Graphs"
   ]
  },
  {
   "cell_type": "markdown",
   "metadata": {
    "deletable": false,
    "editable": false,
    "nbgrader": {
     "cell_type": "markdown",
     "checksum": "d6923b1a3243b7f2bb924427ff90908c",
     "grade": false,
     "grade_id": "cell-7f9c00e2ae0855df",
     "locked": true,
     "schema_version": 3,
     "solution": false,
     "task": false
    }
   },
   "source": [
    "<br>\n",
    "`P1_Graphs` is a list containing 5 networkx graphs. Each of these graphs were generated by one of three possible algorithms:\n",
    "* Preferential Attachment (`'PA'`)\n",
    "* Small World with low probability of rewiring (`'SW_L'`)\n",
    "* Small World with high probability of rewiring (`'SW_H'`)\n",
    "\n",
    "Anaylze each of the 5 graphs using any methodology and determine which of the three algorithms generated each graph.\n",
    "\n",
    "*The `graph_identification` function should return a list of length 5 where each element in the list is either `'PA'`, `'SW_L'`, or `'SW_H'`.*"
   ]
  },
  {
   "cell_type": "code",
   "execution_count": 5,
   "metadata": {
    "execution": {
     "iopub.execute_input": "2023-03-09T10:53:16.777888Z",
     "iopub.status.busy": "2023-03-09T10:53:16.776801Z",
     "iopub.status.idle": "2023-03-09T10:53:16.785471Z",
     "shell.execute_reply": "2023-03-09T10:53:16.785471Z",
     "shell.execute_reply.started": "2023-03-09T10:53:16.777888Z"
    },
    "tags": []
   },
   "outputs": [
    {
     "data": {
      "text/plain": [
       "[(1000, 999), (1000, 2000), (1000, 2000), (1000, 999), (1000, 2000)]"
      ]
     },
     "execution_count": 5,
     "metadata": {},
     "output_type": "execute_result"
    }
   ],
   "source": [
    "# all have 1000 nodes!\n",
    "\n",
    "[(graph.number_of_nodes(), graph.number_of_edges()) for graph in P1_Graphs]"
   ]
  },
  {
   "cell_type": "code",
   "execution_count": 6,
   "metadata": {
    "execution": {
     "iopub.execute_input": "2023-03-09T10:53:17.159174Z",
     "iopub.status.busy": "2023-03-09T10:53:17.158174Z",
     "iopub.status.idle": "2023-03-09T10:53:17.619123Z",
     "shell.execute_reply": "2023-03-09T10:53:17.619123Z",
     "shell.execute_reply.started": "2023-03-09T10:53:17.159174Z"
    },
    "tags": []
   },
   "outputs": [],
   "source": [
    "sorted(nx.preferential_attachment(G1), reverse = True, key = lambda tup: tup[2]);"
   ]
  },
  {
   "cell_type": "code",
   "execution_count": 7,
   "metadata": {
    "execution": {
     "iopub.execute_input": "2023-03-09T10:53:17.621224Z",
     "iopub.status.busy": "2023-03-09T10:53:17.620188Z",
     "iopub.status.idle": "2023-03-09T10:53:17.658459Z",
     "shell.execute_reply": "2023-03-09T10:53:17.658459Z",
     "shell.execute_reply.started": "2023-03-09T10:53:17.621224Z"
    },
    "tags": []
   },
   "outputs": [
    {
     "data": {
      "text/plain": [
       "[0.0, 0.49310000000000004, 0.4897333333333334, 0.0, 0.36504285714285717]"
      ]
     },
     "execution_count": 7,
     "metadata": {},
     "output_type": "execute_result"
    }
   ],
   "source": [
    "[nx.average_clustering(graph) for graph in P1_Graphs]"
   ]
  },
  {
   "cell_type": "code",
   "execution_count": 8,
   "metadata": {
    "execution": {
     "iopub.execute_input": "2023-03-09T10:53:17.750239Z",
     "iopub.status.busy": "2023-03-09T10:53:17.749236Z",
     "iopub.status.idle": "2023-03-09T10:53:21.152054Z",
     "shell.execute_reply": "2023-03-09T10:53:21.152054Z",
     "shell.execute_reply.started": "2023-03-09T10:53:17.750239Z"
    },
    "tags": []
   },
   "outputs": [
    {
     "data": {
      "text/plain": [
       "[6.530506506506507,\n",
       " 43.80284684684685,\n",
       " 39.007695695695695,\n",
       " 8.158990990990992,\n",
       " 8.532046046046046]"
      ]
     },
     "execution_count": 8,
     "metadata": {},
     "output_type": "execute_result"
    }
   ],
   "source": [
    "[nx.average_shortest_path_length(graph) for graph in P1_Graphs]"
   ]
  },
  {
   "cell_type": "code",
   "execution_count": 9,
   "metadata": {
    "execution": {
     "iopub.execute_input": "2023-03-09T10:53:21.154061Z",
     "iopub.status.busy": "2023-03-09T10:53:21.153111Z",
     "iopub.status.idle": "2023-03-09T10:53:21.157548Z",
     "shell.execute_reply": "2023-03-09T10:53:21.157548Z",
     "shell.execute_reply.started": "2023-03-09T10:53:21.154061Z"
    },
    "tags": []
   },
   "outputs": [],
   "source": [
    "G1.degree();"
   ]
  },
  {
   "cell_type": "code",
   "execution_count": 10,
   "metadata": {
    "execution": {
     "iopub.execute_input": "2023-03-09T10:53:21.159556Z",
     "iopub.status.busy": "2023-03-09T10:53:21.158559Z",
     "iopub.status.idle": "2023-03-09T10:53:21.236803Z",
     "shell.execute_reply": "2023-03-09T10:53:21.235752Z",
     "shell.execute_reply.started": "2023-03-09T10:53:21.159556Z"
    },
    "tags": []
   },
   "outputs": [],
   "source": [
    "def plot_degree_distribution(graph) -> None:\n",
    "    \n",
    "    nnodes = graph.number_of_nodes()\n",
    "    ddist = Counter([degree for (node, degree) in graph.degree()])\n",
    "    \n",
    "    fig, axes = plt.subplots(nrows = 1, ncols = 1)\n",
    "    fig.set_size_inches(5, 5)\n",
    "    axes.plot(ddist.keys(), ddist.values(), color = \"red\", marker = \"o\", linestyle = \"None\", markeredgecolor = \"black\")\n",
    "    axes.set_xlabel(\"Degrees\")\n",
    "    axes.set_xscale(\"log\")\n",
    "    axes.set_yscale(\"log\")\n",
    "    axes.set_ylabel(\"Fraction of nodes\")\n",
    "    plt.show()"
   ]
  },
  {
   "cell_type": "code",
   "execution_count": 11,
   "metadata": {
    "execution": {
     "iopub.execute_input": "2023-03-09T10:53:21.238760Z",
     "iopub.status.busy": "2023-03-09T10:53:21.238760Z",
     "iopub.status.idle": "2023-03-09T10:53:22.501355Z",
     "shell.execute_reply": "2023-03-09T10:53:22.501355Z",
     "shell.execute_reply.started": "2023-03-09T10:53:21.238760Z"
    },
    "tags": []
   },
   "outputs": [
    {
     "data": {
      "image/png": "[encoded data removed]",
      "text/plain": [
       "<Figure size 500x500 with 1 Axes>"
      ]
     },
     "metadata": {},
     "output_type": "display_data"
    }
   ],
   "source": [
    "plot_degree_distribution(G1)"
   ]
  },
  {
   "cell_type": "code",
   "execution_count": 12,
   "metadata": {
    "execution": {
     "iopub.execute_input": "2023-03-09T10:53:22.503364Z",
     "iopub.status.busy": "2023-03-09T10:53:22.502364Z",
     "iopub.status.idle": "2023-03-09T10:53:23.095272Z",
     "shell.execute_reply": "2023-03-09T10:53:23.095272Z",
     "shell.execute_reply.started": "2023-03-09T10:53:22.503364Z"
    },
    "tags": []
   },
   "outputs": [
    {
     "data": {
      "image/png": "[encoded data removed]",
      "text/plain": [
       "<Figure size 500x500 with 1 Axes>"
      ]
     },
     "metadata": {},
     "output_type": "display_data"
    }
   ],
   "source": [
    "plot_degree_distribution(G2)"
   ]
  },
  {
   "cell_type": "code",
   "execution_count": 13,
   "metadata": {
    "execution": {
     "iopub.execute_input": "2023-03-09T10:53:23.097283Z",
     "iopub.status.busy": "2023-03-09T10:53:23.096282Z",
     "iopub.status.idle": "2023-03-09T10:53:23.287383Z",
     "shell.execute_reply": "2023-03-09T10:53:23.287383Z",
     "shell.execute_reply.started": "2023-03-09T10:53:23.097283Z"
    },
    "tags": []
   },
   "outputs": [
    {
     "data": {
      "image/png": "[encoded data removed]",
      "text/plain": [
       "<Figure size 500x500 with 1 Axes>"
      ]
     },
     "metadata": {},
     "output_type": "display_data"
    }
   ],
   "source": [
    "plot_degree_distribution(G3)"
   ]
  },
  {
   "cell_type": "code",
   "execution_count": 14,
   "metadata": {
    "execution": {
     "iopub.execute_input": "2023-03-09T10:53:23.289397Z",
     "iopub.status.busy": "2023-03-09T10:53:23.289397Z",
     "iopub.status.idle": "2023-03-09T10:53:23.508557Z",
     "shell.execute_reply": "2023-03-09T10:53:23.508557Z",
     "shell.execute_reply.started": "2023-03-09T10:53:23.289397Z"
    },
    "tags": []
   },
   "outputs": [
    {
     "data": {
      "image/png": "[encoded data removed]",
      "text/plain": [
       "<Figure size 500x500 with 1 Axes>"
      ]
     },
     "metadata": {},
     "output_type": "display_data"
    }
   ],
   "source": [
    "plot_degree_distribution(G4)"
   ]
  },
  {
   "cell_type": "code",
   "execution_count": 15,
   "metadata": {
    "execution": {
     "iopub.execute_input": "2023-03-09T10:53:23.510563Z",
     "iopub.status.busy": "2023-03-09T10:53:23.509564Z",
     "iopub.status.idle": "2023-03-09T10:53:23.781313Z",
     "shell.execute_reply": "2023-03-09T10:53:23.781313Z",
     "shell.execute_reply.started": "2023-03-09T10:53:23.510563Z"
    },
    "tags": []
   },
   "outputs": [
    {
     "data": {
      "image/png": "[encoded data removed]",
      "text/plain": [
       "<Figure size 500x500 with 1 Axes>"
      ]
     },
     "metadata": {},
     "output_type": "display_data"
    }
   ],
   "source": [
    "plot_degree_distribution(G5)"
   ]
  },
  {
   "cell_type": "code",
   "execution_count": 16,
   "metadata": {
    "execution": {
     "iopub.execute_input": "2023-03-09T10:53:23.782320Z",
     "iopub.status.busy": "2023-03-09T10:53:23.782320Z",
     "iopub.status.idle": "2023-03-09T10:53:23.785157Z",
     "shell.execute_reply": "2023-03-09T10:53:23.785157Z",
     "shell.execute_reply.started": "2023-03-09T10:53:23.782320Z"
    }
   },
   "outputs": [],
   "source": [
    "# graphs G1 and G4 show Power law distribution."
   ]
  },
  {
   "cell_type": "code",
   "execution_count": 17,
   "metadata": {
    "execution": {
     "iopub.execute_input": "2023-03-09T10:53:23.787165Z",
     "iopub.status.busy": "2023-03-09T10:53:23.787165Z",
     "iopub.status.idle": "2023-03-09T10:53:23.869928Z",
     "shell.execute_reply": "2023-03-09T10:53:23.868913Z",
     "shell.execute_reply.started": "2023-03-09T10:53:23.787165Z"
    }
   },
   "outputs": [],
   "source": [
    "# So, the graphs G2, G3 and G5 must be small world networks.\n",
    "# With high probability for rewiring, we'd end up with a messy graph with low clustering coefficient (due to the loss of initial structure) \n",
    "# and small average shortest path length\n",
    "# With low probability of rewiring, we'd get a graph with high clustering coefficient but large average shortest path length."
   ]
  },
  {
   "cell_type": "code",
   "execution_count": 18,
   "metadata": {
    "execution": {
     "iopub.execute_input": "2023-03-09T10:53:24.702417Z",
     "iopub.status.busy": "2023-03-09T10:53:24.702417Z",
     "iopub.status.idle": "2023-03-09T10:53:28.063803Z",
     "shell.execute_reply": "2023-03-09T10:53:28.063803Z",
     "shell.execute_reply.started": "2023-03-09T10:53:24.702417Z"
    },
    "tags": []
   },
   "outputs": [
    {
     "data": {
      "text/plain": [
       "[(0.0, 6.530506506506507),\n",
       " (0.49310000000000004, 43.80284684684685),\n",
       " (0.4897333333333334, 39.007695695695695),\n",
       " (0.0, 8.158990990990992),\n",
       " (0.36504285714285717, 8.532046046046046)]"
      ]
     },
     "execution_count": 18,
     "metadata": {},
     "output_type": "execute_result"
    }
   ],
   "source": [
    "[(nx.average_clustering(graph), nx.average_shortest_path_length(graph)) for graph in P1_Graphs]"
   ]
  },
  {
   "cell_type": "code",
   "execution_count": 19,
   "metadata": {
    "deletable": false,
    "execution": {
     "iopub.execute_input": "2023-03-09T10:53:28.065872Z",
     "iopub.status.busy": "2023-03-09T10:53:28.064809Z",
     "iopub.status.idle": "2023-03-09T10:53:28.068821Z",
     "shell.execute_reply": "2023-03-09T10:53:28.068821Z",
     "shell.execute_reply.started": "2023-03-09T10:53:28.065872Z"
    },
    "nbgrader": {
     "cell_type": "code",
     "checksum": "0ff06107761a8aae493e00bd5375ddcf",
     "grade": false,
     "grade_id": "cell-c8c5e35d8114420d",
     "locked": false,
     "schema_version": 3,
     "solution": true,
     "task": false
    },
    "tags": []
   },
   "outputs": [],
   "source": [
    "# Preferential attachment - nx.barabasi_albert_graph\n",
    "# Samll World - nx.watts_strogatz_graph\n",
    "\n",
    "def graph_identification():\n",
    "    return [\"PA\", \"SW_L\", \"SW_L\", \"PA\", \"SW_H\"]"
   ]
  },
  {
   "cell_type": "code",
   "execution_count": 20,
   "metadata": {
    "deletable": false,
    "editable": false,
    "execution": {
     "iopub.execute_input": "2023-03-09T10:53:28.806640Z",
     "iopub.status.busy": "2023-03-09T10:53:28.805743Z",
     "iopub.status.idle": "2023-03-09T10:53:28.810423Z",
     "shell.execute_reply": "2023-03-09T10:53:28.809400Z",
     "shell.execute_reply.started": "2023-03-09T10:53:28.806640Z"
    },
    "nbgrader": {
     "cell_type": "code",
     "checksum": "34772a15ef373a444ae7597d2005254b",
     "grade": true,
     "grade_id": "cell-efb9da7e1c19accf",
     "locked": true,
     "points": 1,
     "schema_version": 3,
     "solution": false,
     "task": false
    },
    "tags": []
   },
   "outputs": [],
   "source": [
    "ans_one = graph_identification()\n",
    "assert type(ans_one) == list, \"You must return a list\"\n"
   ]
  },
  {
   "cell_type": "markdown",
   "metadata": {
    "deletable": false,
    "editable": false,
    "nbgrader": {
     "cell_type": "markdown",
     "checksum": "24751ee5132e6ae445b370a534718f46",
     "grade": false,
     "grade_id": "cell-a8b02acc0a67f5cb",
     "locked": true,
     "schema_version": 3,
     "solution": false,
     "task": false
    }
   },
   "source": [
    "---\n",
    "\n",
    "## Part 2 - Company Emails\n",
    "\n",
    "For the second part of this assignment you will be working with a company's email network where each node corresponds to a person at the company, and each edge indicates that at least one email has been sent between two people.\n",
    "\n",
    "The network also contains the node attributes `Department` and `ManagmentSalary`.\n",
    "\n",
    "`Department` indicates the department in the company which the person belongs to, and `ManagmentSalary` indicates whether that person is receiving a managment position salary."
   ]
  },
  {
   "cell_type": "code",
   "execution_count": 18,
   "metadata": {
    "deletable": false,
    "editable": false,
    "execution": {
     "iopub.execute_input": "2023-03-12T23:38:22.130827Z",
     "iopub.status.busy": "2023-03-12T23:38:22.129777Z",
     "iopub.status.idle": "2023-03-12T23:38:22.461352Z",
     "shell.execute_reply": "2023-03-12T23:38:22.461352Z",
     "shell.execute_reply.started": "2023-03-12T23:38:22.130827Z"
    },
    "nbgrader": {
     "cell_type": "code",
     "checksum": "e722c34a6345262e25f7b6f3aa9ea24f",
     "grade": false,
     "grade_id": "cell-8318572a20542eb0",
     "locked": true,
     "schema_version": 3,
     "solution": false,
     "task": false
    },
    "tags": []
   },
   "outputs": [
    {
     "name": "stdout",
     "output_type": "stream",
     "text": [
      "Graph with 1005 nodes and 16706 edges\n"
     ]
    }
   ],
   "source": [
    "G = pickle.load(open('assets/email_prediction_NEW.txt', 'rb'))\n",
    "\n",
    "print(f\"Graph with {len(nx.nodes(G))} nodes and {len(nx.edges(G))} edges\")"
   ]
  },
  {
   "cell_type": "markdown",
   "metadata": {
    "deletable": false,
    "editable": false,
    "nbgrader": {
     "cell_type": "markdown",
     "checksum": "fce5fb3b46c870ef3a396d6272fb5741",
     "grade": false,
     "grade_id": "cell-e87009c4bfab6968",
     "locked": true,
     "schema_version": 3,
     "solution": false,
     "task": false
    }
   },
   "source": [
    "### Part 2A - Salary Prediction\n",
    "\n",
    "Using network `G`, identify the people in the network with missing values for the node attribute `ManagementSalary` and predict whether or not these individuals are receiving a managment position salary.\n",
    "\n",
    "To accomplish this, you will need to create a matrix of node features of your choice using networkx, train a sklearn classifier on nodes that have `ManagementSalary` data, and predict a probability of the node receiving a managment salary for nodes where `ManagementSalary` is missing.\n",
    "\n",
    "\n",
    "\n",
    "Your predictions will need to be given as the probability that the corresponding employee is receiving a managment position salary.\n",
    "\n",
    "The evaluation metric for this assignment is the Area Under the ROC Curve (AUC).\n",
    "\n",
    "Your grade will be based on the AUC score computed for your classifier. A model which with an AUC of 0.75 or higher will recieve full points.\n",
    "\n",
    "Using your trained classifier, return a Pandas series of length 252 with the data being the probability of receiving managment salary, and the index being the node id.\n",
    "\n",
    "    Example:\n",
    "    \n",
    "        1       1.0\n",
    "        2       0.0\n",
    "        5       0.8\n",
    "        8       1.0\n",
    "            ...\n",
    "        996     0.7\n",
    "        1000    0.5\n",
    "        1001    0.0\n",
    "        Length: 252, dtype: float64"
   ]
  },
  {
   "cell_type": "code",
   "execution_count": 3,
   "metadata": {
    "execution": {
     "iopub.execute_input": "2023-03-12T07:21:01.257277Z",
     "iopub.status.busy": "2023-03-12T07:21:01.256272Z",
     "iopub.status.idle": "2023-03-12T07:21:01.263151Z",
     "shell.execute_reply": "2023-03-12T07:21:01.263151Z",
     "shell.execute_reply.started": "2023-03-12T07:21:01.257277Z"
    },
    "tags": []
   },
   "outputs": [
    {
     "data": {
      "text/plain": [
       "False"
      ]
     },
     "execution_count": 3,
     "metadata": {},
     "output_type": "execute_result"
    }
   ],
   "source": [
    "nx.is_directed(G)"
   ]
  },
  {
   "cell_type": "code",
   "execution_count": 4,
   "metadata": {
    "execution": {
     "iopub.execute_input": "2023-03-12T07:21:01.760347Z",
     "iopub.status.busy": "2023-03-12T07:21:01.759352Z",
     "iopub.status.idle": "2023-03-12T07:21:01.988103Z",
     "shell.execute_reply": "2023-03-12T07:21:01.988103Z",
     "shell.execute_reply.started": "2023-03-12T07:21:01.760347Z"
    },
    "tags": []
   },
   "outputs": [
    {
     "data": {
      "text/plain": [
       "81.94117647058823"
      ]
     },
     "execution_count": 4,
     "metadata": {},
     "output_type": "execute_result"
    }
   ],
   "source": [
    "np.mean([G.degree()[node] for node in G.nodes() if nx.get_node_attributes(G, \"ManagementSalary\")[node] == 1])"
   ]
  },
  {
   "cell_type": "code",
   "execution_count": 59,
   "metadata": {
    "execution": {
     "iopub.execute_input": "2023-03-09T22:04:07.503492Z",
     "iopub.status.busy": "2023-03-09T22:04:07.502487Z",
     "iopub.status.idle": "2023-03-09T22:04:07.738285Z",
     "shell.execute_reply": "2023-03-09T22:04:07.738285Z",
     "shell.execute_reply.started": "2023-03-09T22:04:07.503492Z"
    },
    "tags": []
   },
   "outputs": [
    {
     "data": {
      "text/plain": [
       "24.613564668769715"
      ]
     },
     "execution_count": 59,
     "metadata": {},
     "output_type": "execute_result"
    }
   ],
   "source": [
    "np.mean([G.degree()[node] for node in G.nodes() if nx.get_node_attributes(G, \"ManagementSalary\")[node] == 0])"
   ]
  },
  {
   "cell_type": "code",
   "execution_count": 23,
   "metadata": {
    "deletable": false,
    "editable": false,
    "execution": {
     "iopub.execute_input": "2023-03-09T10:53:33.239315Z",
     "iopub.status.busy": "2023-03-09T10:53:33.239315Z",
     "iopub.status.idle": "2023-03-09T10:53:33.244324Z",
     "shell.execute_reply": "2023-03-09T10:53:33.244324Z",
     "shell.execute_reply.started": "2023-03-09T10:53:33.239315Z"
    },
    "nbgrader": {
     "cell_type": "code",
     "checksum": "d02e4f542d1aa318bbf2d31a4190f873",
     "grade": false,
     "grade_id": "cell-5980e664930b216a",
     "locked": true,
     "schema_version": 3,
     "solution": false,
     "task": false
    },
    "tags": []
   },
   "outputs": [
    {
     "data": {
      "text/plain": [
       "[(0, {'Department': 1, 'ManagementSalary': 0.0}),\n",
       " (1, {'Department': 1, 'ManagementSalary': nan}),\n",
       " (581, {'Department': 3, 'ManagementSalary': 0.0}),\n",
       " (6, {'Department': 25, 'ManagementSalary': 1.0}),\n",
       " (65, {'Department': 4, 'ManagementSalary': nan})]"
      ]
     },
     "execution_count": 23,
     "metadata": {},
     "output_type": "execute_result"
    }
   ],
   "source": [
    "list(G.nodes(data=True))[:5] # print the first 5 nodes"
   ]
  },
  {
   "cell_type": "code",
   "execution_count": 7,
   "metadata": {
    "execution": {
     "iopub.execute_input": "2023-03-12T07:24:20.238721Z",
     "iopub.status.busy": "2023-03-12T07:24:20.238721Z",
     "iopub.status.idle": "2023-03-12T07:24:20.241928Z",
     "shell.execute_reply": "2023-03-12T07:24:20.241928Z",
     "shell.execute_reply.started": "2023-03-12T07:24:20.238721Z"
    },
    "tags": []
   },
   "outputs": [],
   "source": [
    "list(nx.neighbors(G, 1));"
   ]
  },
  {
   "cell_type": "code",
   "execution_count": 8,
   "metadata": {
    "execution": {
     "iopub.execute_input": "2023-03-12T07:24:22.069023Z",
     "iopub.status.busy": "2023-03-12T07:24:22.069023Z",
     "iopub.status.idle": "2023-03-12T07:24:22.075520Z",
     "shell.execute_reply": "2023-03-12T07:24:22.074512Z",
     "shell.execute_reply.started": "2023-03-12T07:24:22.069023Z"
    },
    "tags": []
   },
   "outputs": [],
   "source": [
    "dep = nx.get_node_attributes(G, \"Department\");\n",
    "mgmt_salary = nx.get_node_attributes(G, \"ManagementSalary\");\n",
    "degrees = dict(nx.degree(G));"
   ]
  },
  {
   "cell_type": "raw",
   "metadata": {
    "execution": {
     "iopub.execute_input": "2023-03-12T07:24:23.031486Z",
     "iopub.status.busy": "2023-03-12T07:24:23.030491Z",
     "iopub.status.idle": "2023-03-12T07:24:23.042344Z",
     "shell.execute_reply": "2023-03-12T07:24:23.042344Z",
     "shell.execute_reply.started": "2023-03-12T07:24:23.031486Z"
    },
    "tags": []
   },
   "source": [
    "# and number of neighbours who receive a management salary\n",
    "\n",
    "neighbours_with_mgmt_salary = dict.fromkeys(G.nodes(), 0)\n",
    "node_mgmt_attrs = nx.get_node_attributes(G, \"ManagementSalary\")\n",
    "\n",
    "for node in G.nodes():\n",
    "    for neighbour in nx.neighbors(G, node):\n",
    "        if node_mgmt_attrs.get(neighbour) == 1:\n",
    "            neighbours_with_mgmt_salary[node] += 1"
   ]
  },
  {
   "cell_type": "raw",
   "metadata": {
    "execution": {
     "iopub.execute_input": "2023-03-12T07:24:23.926358Z",
     "iopub.status.busy": "2023-03-12T07:24:23.926358Z",
     "iopub.status.idle": "2023-03-12T07:24:23.936320Z",
     "shell.execute_reply": "2023-03-12T07:24:23.935315Z",
     "shell.execute_reply.started": "2023-03-12T07:24:23.926358Z"
    },
    "tags": []
   },
   "source": [
    "# number of neighbours from the same department who also receive a management salary\n",
    "\n",
    "neighbours_with_mgmt_salary_same_dept = dict.fromkeys(G.nodes(), 0)\n",
    "node_mgmt_attrs = nx.get_node_attributes(G, \"ManagementSalary\")\n",
    "node_dept_attrs = nx.get_node_attributes(G, \"Department\")\n",
    "\n",
    "for node in G.nodes():\n",
    "    for neighbour in nx.neighbors(G, node):\n",
    "        if (node_mgmt_attrs.get(neighbour) == 1) and (node_dept_attrs.get(node) == node_dept_attrs.get(neighbour)):\n",
    "            neighbours_with_mgmt_salary_same_dept[node] += 1"
   ]
  },
  {
   "cell_type": "code",
   "execution_count": 68,
   "metadata": {
    "execution": {
     "iopub.execute_input": "2023-03-12T07:51:30.689341Z",
     "iopub.status.busy": "2023-03-12T07:51:30.689341Z",
     "iopub.status.idle": "2023-03-12T07:51:30.761177Z",
     "shell.execute_reply": "2023-03-12T07:51:30.761177Z",
     "shell.execute_reply.started": "2023-03-12T07:51:30.689341Z"
    },
    "tags": []
   },
   "outputs": [
    {
     "data": {
      "text/html": [
       "<div>\n",
       "<style scoped>\n",
       "    .dataframe tbody tr th:only-of-type {\n",
       "        vertical-align: middle;\n",
       "    }\n",
       "\n",
       "    .dataframe tbody tr th {\n",
       "        vertical-align: top;\n",
       "    }\n",
       "\n",
       "    .dataframe thead th {\n",
       "        text-align: right;\n",
       "    }\n",
       "</style>\n",
       "<table border=\"1\" class=\"dataframe\">\n",
       "  <thead>\n",
       "    <tr style=\"text-align: right;\">\n",
       "      <th></th>\n",
       "      <th>0</th>\n",
       "      <th>1</th>\n",
       "      <th>2</th>\n",
       "      <th>3</th>\n",
       "      <th>4</th>\n",
       "    </tr>\n",
       "  </thead>\n",
       "  <tbody>\n",
       "    <tr>\n",
       "      <th>0</th>\n",
       "      <td>1.0</td>\n",
       "      <td>0.0</td>\n",
       "      <td>44.0</td>\n",
       "      <td>6.0</td>\n",
       "      <td>0.0</td>\n",
       "    </tr>\n",
       "    <tr>\n",
       "      <th>1</th>\n",
       "      <td>1.0</td>\n",
       "      <td>NaN</td>\n",
       "      <td>52.0</td>\n",
       "      <td>15.0</td>\n",
       "      <td>0.0</td>\n",
       "    </tr>\n",
       "    <tr>\n",
       "      <th>2</th>\n",
       "      <td>21.0</td>\n",
       "      <td>NaN</td>\n",
       "      <td>95.0</td>\n",
       "      <td>31.0</td>\n",
       "      <td>9.0</td>\n",
       "    </tr>\n",
       "    <tr>\n",
       "      <th>3</th>\n",
       "      <td>21.0</td>\n",
       "      <td>1.0</td>\n",
       "      <td>71.0</td>\n",
       "      <td>24.0</td>\n",
       "      <td>9.0</td>\n",
       "    </tr>\n",
       "    <tr>\n",
       "      <th>4</th>\n",
       "      <td>21.0</td>\n",
       "      <td>1.0</td>\n",
       "      <td>96.0</td>\n",
       "      <td>35.0</td>\n",
       "      <td>9.0</td>\n",
       "    </tr>\n",
       "    <tr>\n",
       "      <th>...</th>\n",
       "      <td>...</td>\n",
       "      <td>...</td>\n",
       "      <td>...</td>\n",
       "      <td>...</td>\n",
       "      <td>...</td>\n",
       "    </tr>\n",
       "    <tr>\n",
       "      <th>1000</th>\n",
       "      <td>4.0</td>\n",
       "      <td>NaN</td>\n",
       "      <td>6.0</td>\n",
       "      <td>3.0</td>\n",
       "      <td>2.0</td>\n",
       "    </tr>\n",
       "    <tr>\n",
       "      <th>1001</th>\n",
       "      <td>21.0</td>\n",
       "      <td>NaN</td>\n",
       "      <td>10.0</td>\n",
       "      <td>3.0</td>\n",
       "      <td>2.0</td>\n",
       "    </tr>\n",
       "    <tr>\n",
       "      <th>1002</th>\n",
       "      <td>1.0</td>\n",
       "      <td>0.0</td>\n",
       "      <td>1.0</td>\n",
       "      <td>1.0</td>\n",
       "      <td>0.0</td>\n",
       "    </tr>\n",
       "    <tr>\n",
       "      <th>1003</th>\n",
       "      <td>6.0</td>\n",
       "      <td>0.0</td>\n",
       "      <td>1.0</td>\n",
       "      <td>0.0</td>\n",
       "      <td>0.0</td>\n",
       "    </tr>\n",
       "    <tr>\n",
       "      <th>1004</th>\n",
       "      <td>22.0</td>\n",
       "      <td>0.0</td>\n",
       "      <td>1.0</td>\n",
       "      <td>0.0</td>\n",
       "      <td>0.0</td>\n",
       "    </tr>\n",
       "  </tbody>\n",
       "</table>\n",
       "<p>1005 rows × 5 columns</p>\n",
       "</div>"
      ],
      "text/plain": [
       "         0    1     2     3    4\n",
       "0      1.0  0.0  44.0   6.0  0.0\n",
       "1      1.0  NaN  52.0  15.0  0.0\n",
       "2     21.0  NaN  95.0  31.0  9.0\n",
       "3     21.0  1.0  71.0  24.0  9.0\n",
       "4     21.0  1.0  96.0  35.0  9.0\n",
       "...    ...  ...   ...   ...  ...\n",
       "1000   4.0  NaN   6.0   3.0  2.0\n",
       "1001  21.0  NaN  10.0   3.0  2.0\n",
       "1002   1.0  0.0   1.0   1.0  0.0\n",
       "1003   6.0  0.0   1.0   0.0  0.0\n",
       "1004  22.0  0.0   1.0   0.0  0.0\n",
       "\n",
       "[1005 rows x 5 columns]"
      ]
     },
     "execution_count": 68,
     "metadata": {},
     "output_type": "execute_result"
    }
   ],
   "source": [
    "pd.DataFrame([dep, mgmt_salary, degrees, neighbours_with_mgmt_salary, neighbours_with_mgmt_salary_same_dept]).T.sort_index()"
   ]
  },
  {
   "cell_type": "code",
   "execution_count": 11,
   "metadata": {
    "execution": {
     "iopub.execute_input": "2023-03-12T07:24:25.287628Z",
     "iopub.status.busy": "2023-03-12T07:24:25.286632Z",
     "iopub.status.idle": "2023-03-12T07:24:25.291382Z",
     "shell.execute_reply": "2023-03-12T07:24:25.290370Z",
     "shell.execute_reply.started": "2023-03-12T07:24:25.287628Z"
    },
    "tags": []
   },
   "outputs": [],
   "source": [
    "# sort everything by nodes"
   ]
  },
  {
   "cell_type": "code",
   "execution_count": 12,
   "metadata": {
    "execution": {
     "iopub.execute_input": "2023-03-12T07:24:27.407791Z",
     "iopub.status.busy": "2023-03-12T07:24:27.407791Z",
     "iopub.status.idle": "2023-03-12T07:24:27.412776Z",
     "shell.execute_reply": "2023-03-12T07:24:27.412261Z",
     "shell.execute_reply.started": "2023-03-12T07:24:27.407791Z"
    },
    "tags": []
   },
   "outputs": [
    {
     "data": {
      "text/plain": [
       "(dict, dict, dict, dict)"
      ]
     },
     "execution_count": 12,
     "metadata": {},
     "output_type": "execute_result"
    }
   ],
   "source": [
    "type(node_dept_attrs), type(node_mgmt_attrs), type(neighbours_with_mgmt_salary_same_dept), type(neighbours_with_mgmt_salary)"
   ]
  },
  {
   "cell_type": "code",
   "execution_count": 13,
   "metadata": {
    "execution": {
     "iopub.execute_input": "2023-03-12T07:24:29.431081Z",
     "iopub.status.busy": "2023-03-12T07:24:29.430083Z",
     "iopub.status.idle": "2023-03-12T07:24:29.434209Z",
     "shell.execute_reply": "2023-03-12T07:24:29.434209Z",
     "shell.execute_reply.started": "2023-03-12T07:24:29.431081Z"
    },
    "tags": []
   },
   "outputs": [],
   "source": [
    "sorted(node_dept_attrs.items());"
   ]
  },
  {
   "cell_type": "code",
   "execution_count": 14,
   "metadata": {
    "execution": {
     "iopub.execute_input": "2023-03-12T07:24:30.855038Z",
     "iopub.status.busy": "2023-03-12T07:24:30.854130Z",
     "iopub.status.idle": "2023-03-12T07:24:30.858490Z",
     "shell.execute_reply": "2023-03-12T07:24:30.858490Z",
     "shell.execute_reply.started": "2023-03-12T07:24:30.855038Z"
    },
    "tags": []
   },
   "outputs": [],
   "source": [
    "def sort_dict_values_keys(dictionary: dict) -> list:\n",
    "    return [val for (key, val) in sorted(dictionary.items(), reverse = False)]"
   ]
  },
  {
   "cell_type": "code",
   "execution_count": 15,
   "metadata": {
    "execution": {
     "iopub.execute_input": "2023-03-12T07:24:31.246266Z",
     "iopub.status.busy": "2023-03-12T07:24:31.246266Z",
     "iopub.status.idle": "2023-03-12T07:24:31.251107Z",
     "shell.execute_reply": "2023-03-12T07:24:31.250092Z",
     "shell.execute_reply.started": "2023-03-12T07:24:31.246266Z"
    },
    "tags": []
   },
   "outputs": [],
   "source": [
    "ccentrality = sort_dict_values_keys(nx.closeness_centrality(G))\n",
    "bwcentrality = sort_dict_values_keys(nx.betweenness_centrality(G))"
   ]
  },
  {
   "cell_type": "code",
   "execution_count": 39,
   "metadata": {
    "execution": {
     "iopub.execute_input": "2023-03-12T07:40:20.069076Z",
     "iopub.status.busy": "2023-03-12T07:40:20.069076Z",
     "iopub.status.idle": "2023-03-12T07:40:20.075726Z",
     "shell.execute_reply": "2023-03-12T07:40:20.075726Z",
     "shell.execute_reply.started": "2023-03-12T07:40:20.069076Z"
    },
    "tags": []
   },
   "outputs": [],
   "source": [
    "employees = pd.DataFrame({\"Department\": sort_dict_values_keys(dep), \"ManagementSalary\": sort_dict_values_keys(mgmt_salary),\n",
    "             \"NeighboursMgmtSameDept\": sort_dict_values_keys(neighbours_with_mgmt_salary_same_dept),\n",
    "            \"NeighboursMgmt\": sort_dict_values_keys(neighbours_with_mgmt_salary), \"Degree\": sort_dict_values_keys(degrees),\n",
    "            \"ClosenessCentrality\": ccentrality, \"BetweennessCentrality\": bwcentrality})"
   ]
  },
  {
   "cell_type": "code",
   "execution_count": 40,
   "metadata": {
    "execution": {
     "iopub.execute_input": "2023-03-12T07:40:22.382990Z",
     "iopub.status.busy": "2023-03-12T07:40:22.381986Z",
     "iopub.status.idle": "2023-03-12T07:40:22.385459Z",
     "shell.execute_reply": "2023-03-12T07:40:22.385459Z",
     "shell.execute_reply.started": "2023-03-12T07:40:22.382990Z"
    },
    "tags": []
   },
   "outputs": [],
   "source": [
    "# Uwe S Mayer said I do not need a scalar for Random forest classifiers.\n"
   ]
  },
  {
   "cell_type": "code",
   "execution_count": 41,
   "metadata": {
    "execution": {
     "iopub.execute_input": "2023-03-12T07:40:22.743425Z",
     "iopub.status.busy": "2023-03-12T07:40:22.742430Z",
     "iopub.status.idle": "2023-03-12T07:40:22.748356Z",
     "shell.execute_reply": "2023-03-12T07:40:22.747339Z",
     "shell.execute_reply.started": "2023-03-12T07:40:22.743425Z"
    },
    "tags": []
   },
   "outputs": [
    {
     "data": {
      "text/plain": [
       "(1005, 7)"
      ]
     },
     "execution_count": 41,
     "metadata": {},
     "output_type": "execute_result"
    }
   ],
   "source": [
    "employees.shape"
   ]
  },
  {
   "cell_type": "code",
   "execution_count": 42,
   "metadata": {
    "execution": {
     "iopub.execute_input": "2023-03-12T07:40:23.615491Z",
     "iopub.status.busy": "2023-03-12T07:40:23.615491Z",
     "iopub.status.idle": "2023-03-12T07:40:23.620262Z",
     "shell.execute_reply": "2023-03-12T07:40:23.620262Z",
     "shell.execute_reply.started": "2023-03-12T07:40:23.615491Z"
    },
    "tags": []
   },
   "outputs": [],
   "source": [
    "train_x = employees.dropna(axis = 0).drop(\"ManagementSalary\", axis = 1)"
   ]
  },
  {
   "cell_type": "code",
   "execution_count": 43,
   "metadata": {
    "execution": {
     "iopub.execute_input": "2023-03-12T07:40:24.606445Z",
     "iopub.status.busy": "2023-03-12T07:40:24.606445Z",
     "iopub.status.idle": "2023-03-12T07:40:24.612036Z",
     "shell.execute_reply": "2023-03-12T07:40:24.612036Z",
     "shell.execute_reply.started": "2023-03-12T07:40:24.606445Z"
    },
    "tags": []
   },
   "outputs": [],
   "source": [
    "train_y = employees.dropna(axis = 0).loc[:, \"ManagementSalary\"]"
   ]
  },
  {
   "cell_type": "code",
   "execution_count": 44,
   "metadata": {
    "execution": {
     "iopub.execute_input": "2023-03-12T07:40:25.230110Z",
     "iopub.status.busy": "2023-03-12T07:40:25.230110Z",
     "iopub.status.idle": "2023-03-12T07:40:25.234538Z",
     "shell.execute_reply": "2023-03-12T07:40:25.234538Z",
     "shell.execute_reply.started": "2023-03-12T07:40:25.230110Z"
    },
    "tags": []
   },
   "outputs": [],
   "source": [
    "test_x = employees.loc[employees.ManagementSalary.isna(), :].drop(\"ManagementSalary\", axis = 1)"
   ]
  },
  {
   "cell_type": "code",
   "execution_count": 45,
   "metadata": {
    "execution": {
     "iopub.execute_input": "2023-03-12T07:40:25.702992Z",
     "iopub.status.busy": "2023-03-12T07:40:25.701986Z",
     "iopub.status.idle": "2023-03-12T07:40:25.708174Z",
     "shell.execute_reply": "2023-03-12T07:40:25.707164Z",
     "shell.execute_reply.started": "2023-03-12T07:40:25.702992Z"
    },
    "tags": []
   },
   "outputs": [
    {
     "data": {
      "text/plain": [
       "Int64Index([   1,    2,    5,    8,   14,   18,   27,   30,   31,   34,\n",
       "            ...\n",
       "             974,  984,  987,  989,  991,  992,  994,  996, 1000, 1001],\n",
       "           dtype='int64', length=252)"
      ]
     },
     "execution_count": 45,
     "metadata": {},
     "output_type": "execute_result"
    }
   ],
   "source": [
    "test_x.index"
   ]
  },
  {
   "cell_type": "markdown",
   "metadata": {},
   "source": [
    "## ***Do not normalize the labels!***"
   ]
  },
  {
   "cell_type": "code",
   "execution_count": 46,
   "metadata": {
    "execution": {
     "iopub.execute_input": "2023-03-12T07:40:26.764493Z",
     "iopub.status.busy": "2023-03-12T07:40:26.763545Z",
     "iopub.status.idle": "2023-03-12T07:40:26.774671Z",
     "shell.execute_reply": "2023-03-12T07:40:26.774671Z",
     "shell.execute_reply.started": "2023-03-12T07:40:26.764493Z"
    },
    "tags": []
   },
   "outputs": [
    {
     "data": {
      "text/html": [
       "<div>\n",
       "<style scoped>\n",
       "    .dataframe tbody tr th:only-of-type {\n",
       "        vertical-align: middle;\n",
       "    }\n",
       "\n",
       "    .dataframe tbody tr th {\n",
       "        vertical-align: top;\n",
       "    }\n",
       "\n",
       "    .dataframe thead th {\n",
       "        text-align: right;\n",
       "    }\n",
       "</style>\n",
       "<table border=\"1\" class=\"dataframe\">\n",
       "  <thead>\n",
       "    <tr style=\"text-align: right;\">\n",
       "      <th></th>\n",
       "      <th>Department</th>\n",
       "      <th>NeighboursMgmtSameDept</th>\n",
       "      <th>NeighboursMgmt</th>\n",
       "      <th>Degree</th>\n",
       "      <th>ClosenessCentrality</th>\n",
       "      <th>BetweennessCentrality</th>\n",
       "    </tr>\n",
       "  </thead>\n",
       "  <tbody>\n",
       "    <tr>\n",
       "      <th>0</th>\n",
       "      <td>1</td>\n",
       "      <td>0</td>\n",
       "      <td>6</td>\n",
       "      <td>44</td>\n",
       "      <td>0.421991</td>\n",
       "      <td>0.001124</td>\n",
       "    </tr>\n",
       "    <tr>\n",
       "      <th>3</th>\n",
       "      <td>21</td>\n",
       "      <td>9</td>\n",
       "      <td>24</td>\n",
       "      <td>71</td>\n",
       "      <td>0.441663</td>\n",
       "      <td>0.001654</td>\n",
       "    </tr>\n",
       "    <tr>\n",
       "      <th>4</th>\n",
       "      <td>21</td>\n",
       "      <td>9</td>\n",
       "      <td>35</td>\n",
       "      <td>96</td>\n",
       "      <td>0.462152</td>\n",
       "      <td>0.005547</td>\n",
       "    </tr>\n",
       "    <tr>\n",
       "      <th>6</th>\n",
       "      <td>25</td>\n",
       "      <td>3</td>\n",
       "      <td>34</td>\n",
       "      <td>115</td>\n",
       "      <td>0.475805</td>\n",
       "      <td>0.012387</td>\n",
       "    </tr>\n",
       "    <tr>\n",
       "      <th>7</th>\n",
       "      <td>14</td>\n",
       "      <td>4</td>\n",
       "      <td>6</td>\n",
       "      <td>72</td>\n",
       "      <td>0.420156</td>\n",
       "      <td>0.002818</td>\n",
       "    </tr>\n",
       "    <tr>\n",
       "      <th>...</th>\n",
       "      <td>...</td>\n",
       "      <td>...</td>\n",
       "      <td>...</td>\n",
       "      <td>...</td>\n",
       "      <td>...</td>\n",
       "      <td>...</td>\n",
       "    </tr>\n",
       "    <tr>\n",
       "      <th>998</th>\n",
       "      <td>14</td>\n",
       "      <td>0</td>\n",
       "      <td>0</td>\n",
       "      <td>1</td>\n",
       "      <td>0.313753</td>\n",
       "      <td>0.000000</td>\n",
       "    </tr>\n",
       "    <tr>\n",
       "      <th>999</th>\n",
       "      <td>15</td>\n",
       "      <td>0</td>\n",
       "      <td>0</td>\n",
       "      <td>1</td>\n",
       "      <td>0.311729</td>\n",
       "      <td>0.000000</td>\n",
       "    </tr>\n",
       "    <tr>\n",
       "      <th>1002</th>\n",
       "      <td>1</td>\n",
       "      <td>0</td>\n",
       "      <td>1</td>\n",
       "      <td>1</td>\n",
       "      <td>0.297983</td>\n",
       "      <td>0.000000</td>\n",
       "    </tr>\n",
       "    <tr>\n",
       "      <th>1003</th>\n",
       "      <td>6</td>\n",
       "      <td>0</td>\n",
       "      <td>0</td>\n",
       "      <td>1</td>\n",
       "      <td>0.298167</td>\n",
       "      <td>0.000000</td>\n",
       "    </tr>\n",
       "    <tr>\n",
       "      <th>1004</th>\n",
       "      <td>22</td>\n",
       "      <td>0</td>\n",
       "      <td>0</td>\n",
       "      <td>1</td>\n",
       "      <td>0.295975</td>\n",
       "      <td>0.000000</td>\n",
       "    </tr>\n",
       "  </tbody>\n",
       "</table>\n",
       "<p>753 rows × 6 columns</p>\n",
       "</div>"
      ],
      "text/plain": [
       "      Department  NeighboursMgmtSameDept  NeighboursMgmt  Degree  \\\n",
       "0              1                       0               6      44   \n",
       "3             21                       9              24      71   \n",
       "4             21                       9              35      96   \n",
       "6             25                       3              34     115   \n",
       "7             14                       4               6      72   \n",
       "...          ...                     ...             ...     ...   \n",
       "998           14                       0               0       1   \n",
       "999           15                       0               0       1   \n",
       "1002           1                       0               1       1   \n",
       "1003           6                       0               0       1   \n",
       "1004          22                       0               0       1   \n",
       "\n",
       "      ClosenessCentrality  BetweennessCentrality  \n",
       "0                0.421991               0.001124  \n",
       "3                0.441663               0.001654  \n",
       "4                0.462152               0.005547  \n",
       "6                0.475805               0.012387  \n",
       "7                0.420156               0.002818  \n",
       "...                   ...                    ...  \n",
       "998              0.313753               0.000000  \n",
       "999              0.311729               0.000000  \n",
       "1002             0.297983               0.000000  \n",
       "1003             0.298167               0.000000  \n",
       "1004             0.295975               0.000000  \n",
       "\n",
       "[753 rows x 6 columns]"
      ]
     },
     "execution_count": 46,
     "metadata": {},
     "output_type": "execute_result"
    }
   ],
   "source": [
    "train_x"
   ]
  },
  {
   "cell_type": "code",
   "execution_count": 47,
   "metadata": {
    "execution": {
     "iopub.execute_input": "2023-03-12T07:40:28.927041Z",
     "iopub.status.busy": "2023-03-12T07:40:28.926149Z",
     "iopub.status.idle": "2023-03-12T07:40:28.932365Z",
     "shell.execute_reply": "2023-03-12T07:40:28.932365Z",
     "shell.execute_reply.started": "2023-03-12T07:40:28.927041Z"
    },
    "tags": []
   },
   "outputs": [
    {
     "data": {
      "text/plain": [
       "0"
      ]
     },
     "execution_count": 47,
     "metadata": {},
     "output_type": "execute_result"
    }
   ],
   "source": [
    "train_y.isna().sum()"
   ]
  },
  {
   "cell_type": "code",
   "execution_count": 48,
   "metadata": {
    "execution": {
     "iopub.execute_input": "2023-03-12T07:40:31.043409Z",
     "iopub.status.busy": "2023-03-12T07:40:31.043409Z",
     "iopub.status.idle": "2023-03-12T07:40:43.351180Z",
     "shell.execute_reply": "2023-03-12T07:40:43.351180Z",
     "shell.execute_reply.started": "2023-03-12T07:40:31.043409Z"
    },
    "tags": []
   },
   "outputs": [
    {
     "data": {
      "text/html": [
       "<style>#sk-container-id-2 {color: black;background-color: white;}#sk-container-id-2 pre{padding: 0;}#sk-container-id-2 div.sk-toggleable {background-color: white;}#sk-container-id-2 label.sk-toggleable__label {cursor: pointer;display: block;width: 100%;margin-bottom: 0;padding: 0.3em;box-sizing: border-box;text-align: center;}#sk-container-id-2 label.sk-toggleable__label-arrow:before {content: \"▸\";float: left;margin-right: 0.25em;color: #696969;}#sk-container-id-2 label.sk-toggleable__label-arrow:hover:before {color: black;}#sk-container-id-2 div.sk-estimator:hover label.sk-toggleable__label-arrow:before {color: black;}#sk-container-id-2 div.sk-toggleable__content {max-height: 0;max-width: 0;overflow: hidden;text-align: left;background-color: #f0f8ff;}#sk-container-id-2 div.sk-toggleable__content pre {margin: 0.2em;color: black;border-radius: 0.25em;background-color: #f0f8ff;}#sk-container-id-2 input.sk-toggleable__control:checked~div.sk-toggleable__content {max-height: 200px;max-width: 100%;overflow: auto;}#sk-container-id-2 input.sk-toggleable__control:checked~label.sk-toggleable__label-arrow:before {content: \"▾\";}#sk-container-id-2 div.sk-estimator input.sk-toggleable__control:checked~label.sk-toggleable__label {background-color: #d4ebff;}#sk-container-id-2 div.sk-label input.sk-toggleable__control:checked~label.sk-toggleable__label {background-color: #d4ebff;}#sk-container-id-2 input.sk-hidden--visually {border: 0;clip: rect(1px 1px 1px 1px);clip: rect(1px, 1px, 1px, 1px);height: 1px;margin: -1px;overflow: hidden;padding: 0;position: absolute;width: 1px;}#sk-container-id-2 div.sk-estimator {font-family: monospace;background-color: #f0f8ff;border: 1px dotted black;border-radius: 0.25em;box-sizing: border-box;margin-bottom: 0.5em;}#sk-container-id-2 div.sk-estimator:hover {background-color: #d4ebff;}#sk-container-id-2 div.sk-parallel-item::after {content: \"\";width: 100%;border-bottom: 1px solid gray;flex-grow: 1;}#sk-container-id-2 div.sk-label:hover label.sk-toggleable__label {background-color: #d4ebff;}#sk-container-id-2 div.sk-serial::before {content: \"\";position: absolute;border-left: 1px solid gray;box-sizing: border-box;top: 0;bottom: 0;left: 50%;z-index: 0;}#sk-container-id-2 div.sk-serial {display: flex;flex-direction: column;align-items: center;background-color: white;padding-right: 0.2em;padding-left: 0.2em;position: relative;}#sk-container-id-2 div.sk-item {position: relative;z-index: 1;}#sk-container-id-2 div.sk-parallel {display: flex;align-items: stretch;justify-content: center;background-color: white;position: relative;}#sk-container-id-2 div.sk-item::before, #sk-container-id-2 div.sk-parallel-item::before {content: \"\";position: absolute;border-left: 1px solid gray;box-sizing: border-box;top: 0;bottom: 0;left: 50%;z-index: -1;}#sk-container-id-2 div.sk-parallel-item {display: flex;flex-direction: column;z-index: 1;position: relative;background-color: white;}#sk-container-id-2 div.sk-parallel-item:first-child::after {align-self: flex-end;width: 50%;}#sk-container-id-2 div.sk-parallel-item:last-child::after {align-self: flex-start;width: 50%;}#sk-container-id-2 div.sk-parallel-item:only-child::after {width: 0;}#sk-container-id-2 div.sk-dashed-wrapped {border: 1px dashed gray;margin: 0 0.4em 0.5em 0.4em;box-sizing: border-box;padding-bottom: 0.4em;background-color: white;}#sk-container-id-2 div.sk-label label {font-family: monospace;font-weight: bold;display: inline-block;line-height: 1.2em;}#sk-container-id-2 div.sk-label-container {text-align: center;}#sk-container-id-2 div.sk-container {/* jupyter's `normalize.less` sets `[hidden] { display: none; }` but bootstrap.min.css set `[hidden] { display: none !important; }` so we also need the `!important` here to be able to override the default hidden behavior on the sphinx rendered scikit-learn.org. See: https://github.com/scikit-learn/scikit-learn/issues/21755 */display: inline-block !important;position: relative;}#sk-container-id-2 div.sk-text-repr-fallback {display: none;}</style><div id=\"sk-container-id-2\" class=\"sk-top-container\"><div class=\"sk-text-repr-fallback\"><pre>RandomForestClassifier(max_depth=20, n_estimators=10000)</pre><b>In a Jupyter environment, please rerun this cell to show the HTML representation or trust the notebook. <br />On GitHub, the HTML representation is unable to render, please try loading this page with nbviewer.org.</b></div><div class=\"sk-container\" hidden><div class=\"sk-item\"><div class=\"sk-estimator sk-toggleable\"><input class=\"sk-toggleable__control sk-hidden--visually\" id=\"sk-estimator-id-2\" type=\"checkbox\" checked><label for=\"sk-estimator-id-2\" class=\"sk-toggleable__label sk-toggleable__label-arrow\">RandomForestClassifier</label><div class=\"sk-toggleable__content\"><pre>RandomForestClassifier(max_depth=20, n_estimators=10000)</pre></div></div></div></div></div>"
      ],
      "text/plain": [
       "RandomForestClassifier(max_depth=20, n_estimators=10000)"
      ]
     },
     "execution_count": 48,
     "metadata": {},
     "output_type": "execute_result"
    }
   ],
   "source": [
    "classifier = RandomForestClassifier(n_estimators = 10_000, max_depth = 20)\n",
    "classifier.fit(train_x, train_y)"
   ]
  },
  {
   "cell_type": "code",
   "execution_count": 49,
   "metadata": {
    "execution": {
     "iopub.execute_input": "2023-03-12T07:40:44.340887Z",
     "iopub.status.busy": "2023-03-12T07:40:44.340887Z",
     "iopub.status.idle": "2023-03-12T07:40:44.346696Z",
     "shell.execute_reply": "2023-03-12T07:40:44.345686Z",
     "shell.execute_reply.started": "2023-03-12T07:40:44.340887Z"
    },
    "tags": []
   },
   "outputs": [
    {
     "data": {
      "text/plain": [
       "array([0., 1.])"
      ]
     },
     "execution_count": 49,
     "metadata": {},
     "output_type": "execute_result"
    }
   ],
   "source": [
    "classifier.classes_"
   ]
  },
  {
   "cell_type": "code",
   "execution_count": 50,
   "metadata": {
    "execution": {
     "iopub.execute_input": "2023-03-12T07:40:45.401847Z",
     "iopub.status.busy": "2023-03-12T07:40:45.401847Z",
     "iopub.status.idle": "2023-03-12T07:40:46.457534Z",
     "shell.execute_reply": "2023-03-12T07:40:46.457534Z",
     "shell.execute_reply.started": "2023-03-12T07:40:45.401847Z"
    },
    "tags": []
   },
   "outputs": [
    {
     "data": {
      "text/plain": [
       "0     0.0\n",
       "3     1.0\n",
       "4     1.0\n",
       "6     1.0\n",
       "7     0.0\n",
       "9     0.0\n",
       "10    0.0\n",
       "11    0.0\n",
       "12    1.0\n",
       "13    1.0\n",
       "dtype: float64"
      ]
     },
     "execution_count": 50,
     "metadata": {},
     "output_type": "execute_result"
    }
   ],
   "source": [
    "# probability of 1 , probability of 0\n",
    "predictions = pd.Series(classifier.predict(train_x), index = train_x.index)\n",
    "predictions[:10]"
   ]
  },
  {
   "cell_type": "code",
   "execution_count": 51,
   "metadata": {
    "execution": {
     "iopub.execute_input": "2023-03-12T07:40:52.058648Z",
     "iopub.status.busy": "2023-03-12T07:40:52.058648Z",
     "iopub.status.idle": "2023-03-12T07:40:52.797640Z",
     "shell.execute_reply": "2023-03-12T07:40:52.797160Z",
     "shell.execute_reply.started": "2023-03-12T07:40:52.058648Z"
    },
    "tags": []
   },
   "outputs": [],
   "source": [
    "[one for (zero, one) in classifier.predict_proba(test_x)];"
   ]
  },
  {
   "cell_type": "code",
   "execution_count": 52,
   "metadata": {
    "execution": {
     "iopub.execute_input": "2023-03-12T07:40:52.971121Z",
     "iopub.status.busy": "2023-03-12T07:40:52.971121Z",
     "iopub.status.idle": "2023-03-12T07:40:52.977042Z",
     "shell.execute_reply": "2023-03-12T07:40:52.977042Z",
     "shell.execute_reply.started": "2023-03-12T07:40:52.971121Z"
    },
    "tags": []
   },
   "outputs": [
    {
     "data": {
      "text/plain": [
       "1.0"
      ]
     },
     "execution_count": 52,
     "metadata": {},
     "output_type": "execute_result"
    }
   ],
   "source": [
    "accuracy_score(train_y, predictions)"
   ]
  },
  {
   "cell_type": "code",
   "execution_count": 38,
   "metadata": {
    "execution": {
     "iopub.execute_input": "2023-03-12T07:39:47.862064Z",
     "iopub.status.busy": "2023-03-12T07:39:47.862064Z",
     "iopub.status.idle": "2023-03-12T07:39:53.398039Z",
     "shell.execute_reply": "2023-03-12T07:39:53.397244Z",
     "shell.execute_reply.started": "2023-03-12T07:39:47.862064Z"
    },
    "tags": []
   },
   "outputs": [],
   "source": [
    "ccentrality = sort_dict_values_keys(nx.closeness_centrality(G));\n",
    "bwcentrality = sort_dict_values_keys(nx.betweenness_centrality(G));"
   ]
  },
  {
   "cell_type": "code",
   "execution_count": 52,
   "metadata": {
    "execution": {
     "iopub.execute_input": "2023-03-13T00:09:31.038026Z",
     "iopub.status.busy": "2023-03-13T00:09:31.038026Z",
     "iopub.status.idle": "2023-03-13T00:09:31.254141Z",
     "shell.execute_reply": "2023-03-13T00:09:31.254141Z",
     "shell.execute_reply.started": "2023-03-13T00:09:31.038026Z"
    },
    "tags": []
   },
   "outputs": [],
   "source": [
    "nx.clustering(G);"
   ]
  },
  {
   "cell_type": "code",
   "execution_count": 182,
   "metadata": {
    "execution": {
     "iopub.execute_input": "2023-03-13T02:19:38.118887Z",
     "iopub.status.busy": "2023-03-13T02:19:38.118887Z",
     "iopub.status.idle": "2023-03-13T02:19:44.231302Z",
     "shell.execute_reply": "2023-03-13T02:19:44.230815Z",
     "shell.execute_reply.started": "2023-03-13T02:19:38.118887Z"
    },
    "tags": []
   },
   "outputs": [],
   "source": [
    "df = pd.DataFrame(index = G.nodes())\n",
    "df['clustering'] = pd.Series(nx.clustering(G))\n",
    "df['degree'] = pd.Series(dict(nx.degree(G)))\n",
    "df['dcentrality'] = pd.Series(nx.degree_centrality(G))\n",
    "df['ccentrality'] = pd.Series(nx.closeness_centrality(G, wf_improved = True))\n",
    "df['bcentrality'] = pd.Series(nx.betweenness_centrality(G, normalized = True))\n",
    "df['prank'] = pd.Series(nx.pagerank(G))\n",
    "df['is_management'] = pd.Series(list(nx.get_node_attributes(G,'ManagementSalary').values()))\n",
    "features = ['clustering', 'degree', 'dcentrality', 'ccentrality', 'bcentrality', 'prank']"
   ]
  },
  {
   "cell_type": "code",
   "execution_count": null,
   "metadata": {
    "tags": []
   },
   "outputs": [],
   "source": []
  },
  {
   "cell_type": "code",
   "execution_count": 183,
   "metadata": {
    "execution": {
     "iopub.execute_input": "2023-03-13T02:19:45.890109Z",
     "iopub.status.busy": "2023-03-13T02:19:45.889068Z",
     "iopub.status.idle": "2023-03-13T02:19:45.903781Z",
     "shell.execute_reply": "2023-03-13T02:19:45.902773Z",
     "shell.execute_reply.started": "2023-03-13T02:19:45.890109Z"
    },
    "tags": []
   },
   "outputs": [
    {
     "data": {
      "text/html": [
       "<div>\n",
       "<style scoped>\n",
       "    .dataframe tbody tr th:only-of-type {\n",
       "        vertical-align: middle;\n",
       "    }\n",
       "\n",
       "    .dataframe tbody tr th {\n",
       "        vertical-align: top;\n",
       "    }\n",
       "\n",
       "    .dataframe thead th {\n",
       "        text-align: right;\n",
       "    }\n",
       "</style>\n",
       "<table border=\"1\" class=\"dataframe\">\n",
       "  <thead>\n",
       "    <tr style=\"text-align: right;\">\n",
       "      <th></th>\n",
       "      <th>clustering</th>\n",
       "      <th>degree</th>\n",
       "      <th>dcentrality</th>\n",
       "      <th>ccentrality</th>\n",
       "      <th>bcentrality</th>\n",
       "      <th>prank</th>\n",
       "      <th>is_management</th>\n",
       "    </tr>\n",
       "  </thead>\n",
       "  <tbody>\n",
       "    <tr>\n",
       "      <th>0</th>\n",
       "      <td>0.276423</td>\n",
       "      <td>44</td>\n",
       "      <td>0.043825</td>\n",
       "      <td>0.421991</td>\n",
       "      <td>0.001124</td>\n",
       "      <td>0.001224</td>\n",
       "      <td>0.0</td>\n",
       "    </tr>\n",
       "    <tr>\n",
       "      <th>1</th>\n",
       "      <td>0.265306</td>\n",
       "      <td>52</td>\n",
       "      <td>0.051793</td>\n",
       "      <td>0.422360</td>\n",
       "      <td>0.001195</td>\n",
       "      <td>0.001426</td>\n",
       "      <td>NaN</td>\n",
       "    </tr>\n",
       "    <tr>\n",
       "      <th>581</th>\n",
       "      <td>0.248276</td>\n",
       "      <td>32</td>\n",
       "      <td>0.031873</td>\n",
       "      <td>0.412974</td>\n",
       "      <td>0.000378</td>\n",
       "      <td>0.000894</td>\n",
       "      <td>NaN</td>\n",
       "    </tr>\n",
       "    <tr>\n",
       "      <th>6</th>\n",
       "      <td>0.155183</td>\n",
       "      <td>115</td>\n",
       "      <td>0.114542</td>\n",
       "      <td>0.475805</td>\n",
       "      <td>0.012387</td>\n",
       "      <td>0.003146</td>\n",
       "      <td>0.0</td>\n",
       "    </tr>\n",
       "    <tr>\n",
       "      <th>65</th>\n",
       "      <td>0.172880</td>\n",
       "      <td>91</td>\n",
       "      <td>0.090637</td>\n",
       "      <td>0.461049</td>\n",
       "      <td>0.012473</td>\n",
       "      <td>0.002857</td>\n",
       "      <td>0.0</td>\n",
       "    </tr>\n",
       "    <tr>\n",
       "      <th>...</th>\n",
       "      <td>...</td>\n",
       "      <td>...</td>\n",
       "      <td>...</td>\n",
       "      <td>...</td>\n",
       "      <td>...</td>\n",
       "      <td>...</td>\n",
       "      <td>...</td>\n",
       "    </tr>\n",
       "    <tr>\n",
       "      <th>798</th>\n",
       "      <td>0.000000</td>\n",
       "      <td>2</td>\n",
       "      <td>0.001992</td>\n",
       "      <td>0.000000</td>\n",
       "      <td>0.000000</td>\n",
       "      <td>0.000995</td>\n",
       "      <td>0.0</td>\n",
       "    </tr>\n",
       "    <tr>\n",
       "      <th>808</th>\n",
       "      <td>0.000000</td>\n",
       "      <td>2</td>\n",
       "      <td>0.001992</td>\n",
       "      <td>0.000000</td>\n",
       "      <td>0.000000</td>\n",
       "      <td>0.000995</td>\n",
       "      <td>NaN</td>\n",
       "    </tr>\n",
       "    <tr>\n",
       "      <th>965</th>\n",
       "      <td>0.000000</td>\n",
       "      <td>1</td>\n",
       "      <td>0.000996</td>\n",
       "      <td>0.277769</td>\n",
       "      <td>0.000000</td>\n",
       "      <td>0.000182</td>\n",
       "      <td>0.0</td>\n",
       "    </tr>\n",
       "    <tr>\n",
       "      <th>973</th>\n",
       "      <td>0.000000</td>\n",
       "      <td>1</td>\n",
       "      <td>0.000996</td>\n",
       "      <td>0.305327</td>\n",
       "      <td>0.000000</td>\n",
       "      <td>0.000177</td>\n",
       "      <td>0.0</td>\n",
       "    </tr>\n",
       "    <tr>\n",
       "      <th>975</th>\n",
       "      <td>0.000000</td>\n",
       "      <td>1</td>\n",
       "      <td>0.000996</td>\n",
       "      <td>0.305327</td>\n",
       "      <td>0.000000</td>\n",
       "      <td>0.000177</td>\n",
       "      <td>0.0</td>\n",
       "    </tr>\n",
       "  </tbody>\n",
       "</table>\n",
       "<p>1005 rows × 7 columns</p>\n",
       "</div>"
      ],
      "text/plain": [
       "     clustering  degree  dcentrality  ccentrality  bcentrality     prank  \\\n",
       "0      0.276423      44     0.043825     0.421991     0.001124  0.001224   \n",
       "1      0.265306      52     0.051793     0.422360     0.001195  0.001426   \n",
       "581    0.248276      32     0.031873     0.412974     0.000378  0.000894   \n",
       "6      0.155183     115     0.114542     0.475805     0.012387  0.003146   \n",
       "65     0.172880      91     0.090637     0.461049     0.012473  0.002857   \n",
       "..          ...     ...          ...          ...          ...       ...   \n",
       "798    0.000000       2     0.001992     0.000000     0.000000  0.000995   \n",
       "808    0.000000       2     0.001992     0.000000     0.000000  0.000995   \n",
       "965    0.000000       1     0.000996     0.277769     0.000000  0.000182   \n",
       "973    0.000000       1     0.000996     0.305327     0.000000  0.000177   \n",
       "975    0.000000       1     0.000996     0.305327     0.000000  0.000177   \n",
       "\n",
       "     is_management  \n",
       "0              0.0  \n",
       "1              NaN  \n",
       "581            NaN  \n",
       "6              0.0  \n",
       "65             0.0  \n",
       "..             ...  \n",
       "798            0.0  \n",
       "808            NaN  \n",
       "965            0.0  \n",
       "973            0.0  \n",
       "975            0.0  \n",
       "\n",
       "[1005 rows x 7 columns]"
      ]
     },
     "execution_count": 183,
     "metadata": {},
     "output_type": "execute_result"
    }
   ],
   "source": [
    "df"
   ]
  },
  {
   "cell_type": "code",
   "execution_count": 184,
   "metadata": {
    "execution": {
     "iopub.execute_input": "2023-03-13T02:19:46.793300Z",
     "iopub.status.busy": "2023-03-13T02:19:46.792551Z",
     "iopub.status.idle": "2023-03-13T02:19:46.841195Z",
     "shell.execute_reply": "2023-03-13T02:19:46.840189Z",
     "shell.execute_reply.started": "2023-03-13T02:19:46.793300Z"
    },
    "tags": []
   },
   "outputs": [
    {
     "ename": "NameError",
     "evalue": "name 'X_train_scaled' is not defined",
     "output_type": "error",
     "traceback": [
      "\u001b[1;31m---------------------------------------------------------------------------\u001b[0m",
      "\u001b[1;31mNameError\u001b[0m                                 Traceback (most recent call last)",
      "Cell \u001b[1;32mIn[184], line 11\u001b[0m\n\u001b[0;32m      9\u001b[0m test_x_normed \u001b[38;5;241m=\u001b[39m scaler\u001b[38;5;241m.\u001b[39mtransform(test_x)\n\u001b[0;32m     10\u001b[0m clf \u001b[38;5;241m=\u001b[39m MLPClassifier(hidden_layer_sizes \u001b[38;5;241m=\u001b[39m [\u001b[38;5;241m10\u001b[39m, \u001b[38;5;241m5\u001b[39m], alpha \u001b[38;5;241m=\u001b[39m \u001b[38;5;241m5\u001b[39m, random_state \u001b[38;5;241m=\u001b[39m \u001b[38;5;241m0\u001b[39m, solver \u001b[38;5;241m=\u001b[39m \u001b[38;5;124m'\u001b[39m\u001b[38;5;124mlbfgs\u001b[39m\u001b[38;5;124m'\u001b[39m, verbose \u001b[38;5;241m=\u001b[39m \u001b[38;5;28;01mFalse\u001b[39;00m)\n\u001b[1;32m---> 11\u001b[0m clf\u001b[38;5;241m.\u001b[39mfit(\u001b[43mX_train_scaled\u001b[49m, y_train)\n\u001b[0;32m     13\u001b[0m test_proba \u001b[38;5;241m=\u001b[39m [one \u001b[38;5;28;01mfor\u001b[39;00m (zero, one) \u001b[38;5;129;01min\u001b[39;00m clf\u001b[38;5;241m.\u001b[39mpredict_proba(X_test_scaled)]\n\u001b[0;32m     16\u001b[0m pd\u001b[38;5;241m.\u001b[39mSeries(test_proba, X_test\u001b[38;5;241m.\u001b[39mindex) \n",
      "\u001b[1;31mNameError\u001b[0m: name 'X_train_scaled' is not defined"
     ]
    }
   ],
   "source": [
    "\n",
    "\n",
    "train_df = df.loc[~df['is_management'].isna(), :]\n",
    "test_df = df.loc[df['is_management'].isna(), :]\n",
    "\n",
    "train_x = train_df.loc[:, features]\n",
    "train_y = train_df.loc[:, 'is_management']\n",
    "test_x = test_df.loc[:, features]\n",
    "scaler = MinMaxScaler()\n",
    "train_x_normed = scaler.fit_transform(train_x)\n",
    "test_x_normed = scaler.transform(test_x)\n",
    "clf = MLPClassifier(hidden_layer_sizes = [10, 5], alpha = 5, random_state = 0, solver = 'lbfgs', verbose = False)\n",
    "clf.fit(X_train_scaled, y_train)\n",
    "\n",
    "test_proba = [one for (zero, one) in clf.predict_proba(X_test_scaled)]\n",
    "    \n",
    "    \n",
    "pd.Series(test_proba, X_test.index) "
   ]
  },
  {
   "cell_type": "code",
   "execution_count": 75,
   "metadata": {
    "execution": {
     "iopub.execute_input": "2023-03-13T00:31:32.312501Z",
     "iopub.status.busy": "2023-03-13T00:31:32.311552Z",
     "iopub.status.idle": "2023-03-13T00:31:32.319740Z",
     "shell.execute_reply": "2023-03-13T00:31:32.318728Z",
     "shell.execute_reply.started": "2023-03-13T00:31:32.312501Z"
    },
    "tags": []
   },
   "outputs": [],
   "source": [
    "def salary_predictions():\n",
    "    \n",
    "    from sklearn.preprocessing import MinMaxScaler\n",
    "    from sklearn.neural_network import MLPClassifier\n",
    "    \n",
    "\n",
    "    df = pd.DataFrame(index = G.nodes())\n",
    "    df['clustering'] = pd.Series(nx.clustering(G))\n",
    "    df['degree'] = pd.Series(dict(nx.degree(G)))\n",
    "    df['dcentrality'] = pd.Series(nx.degree_centrality(G))\n",
    "    df['ccentrality'] = pd.Series(nx.closeness_centrality(G, wf_improved = True))\n",
    "    df['bcentrality'] = pd.Series(nx.betweenness_centrality(G, normalized = True))\n",
    "    df['prank'] = pd.Series(nx.pagerank(G))\n",
    "    df['is_management'] = pd.Series(list(nx.get_node_attributes(G,'ManagementSalary').values()))\n",
    "\n",
    "\n",
    "    features = ['clustering', 'degree', 'dcentrality', 'ccentrality', 'bcentrality', 'prank']\n",
    "    \n",
    "    train_df = df.loc[~df['is_management'].isna(), :]\n",
    "    test_df = df.loc[df['is_management'].isna(), :]\n",
    "    \n",
    "    train_x = train_df.loc[:, features]\n",
    "    train_y = train_df.loc[:, 'is_management']\n",
    "    test_x = test_df.loc[:, features]\n",
    "\n",
    "\n",
    "    scaler = MinMaxScaler()\n",
    "    train_x_normed = scaler.fit_transform(train_x)\n",
    "    test_x_normed = scaler.transform(test_x)\n",
    "\n",
    "\n",
    "    clf = MLPClassifier(hidden_layer_sizes = [10, 5], alpha = 5, random_state = 0, solver = 'lbfgs', verbose = False)\n",
    "    clf.fit(train_x_normed, train_y)\n",
    "\n",
    "    test_prob = [one for (zero, one) in clf.predict_proba(test_x_normed)]\n",
    "    \n",
    "    \n",
    "    return pd.Series(test_prob, test_x.index) "
   ]
  },
  {
   "cell_type": "code",
   "execution_count": 76,
   "metadata": {
    "execution": {
     "iopub.execute_input": "2023-03-13T00:31:32.796976Z",
     "iopub.status.busy": "2023-03-13T00:31:32.795980Z",
     "iopub.status.idle": "2023-03-13T00:31:38.464986Z",
     "shell.execute_reply": "2023-03-13T00:31:38.464986Z",
     "shell.execute_reply.started": "2023-03-13T00:31:32.796976Z"
    },
    "tags": []
   },
   "outputs": [
    {
     "data": {
      "text/plain": [
       "1      0.179061\n",
       "581    0.161161\n",
       "18     0.187215\n",
       "215    0.229121\n",
       "88     0.160872\n",
       "         ...   \n",
       "691    0.081412\n",
       "703    0.081412\n",
       "788    0.119807\n",
       "744    0.081412\n",
       "808    0.081412\n",
       "Length: 252, dtype: float64"
      ]
     },
     "execution_count": 76,
     "metadata": {},
     "output_type": "execute_result"
    }
   ],
   "source": [
    "salary_predictions()"
   ]
  },
  {
   "cell_type": "raw",
   "metadata": {
    "deletable": false,
    "execution": {
     "iopub.execute_input": "2023-03-12T07:43:32.196106Z",
     "iopub.status.busy": "2023-03-12T07:43:32.195183Z",
     "iopub.status.idle": "2023-03-12T07:43:32.203125Z",
     "shell.execute_reply": "2023-03-12T07:43:32.203125Z",
     "shell.execute_reply.started": "2023-03-12T07:43:32.195183Z"
    },
    "nbgrader": {
     "cell_type": "code",
     "checksum": "7923c33da469542ff6e642a304dce099",
     "grade": false,
     "grade_id": "cell-c1ae7e7278c56f0c",
     "locked": false,
     "schema_version": 3,
     "solution": true,
     "task": false
    },
    "tags": []
   },
   "source": [
    "def salary_predictions():\n",
    "    \n",
    "    from sklearn.ensemble import RandomForestClassifier\n",
    "\n",
    "    dep = nx.get_node_attributes(G, \"Department\")\n",
    "    mgmt_salary = nx.get_node_attributes(G, \"ManagementSalary\")\n",
    "    degrees = dict(nx.degree(G))\n",
    "    ccentrality = nx.closeness_centrality(G)\n",
    "    bwcentrality = nx.betweenness_centrality(G)\n",
    "    \n",
    "    neighbours_with_mgmt_salary = dict.fromkeys(G.nodes(), 0)\n",
    "    node_mgmt_attrs = nx.get_node_attributes(G, \"ManagementSalary\")\n",
    "\n",
    "    for node in G.nodes():\n",
    "        for neighbour in nx.neighbors(G, node):\n",
    "            if node_mgmt_attrs.get(neighbour) == 1:\n",
    "                neighbours_with_mgmt_salary[node] += 1\n",
    "    \n",
    "    # number of neighbours from the same department who also receive a management salary\n",
    "\n",
    "    neighbours_with_mgmt_salary_same_dept = dict.fromkeys(G.nodes(), 0)\n",
    "    node_mgmt_attrs = nx.get_node_attributes(G, \"ManagementSalary\")\n",
    "    node_dept_attrs = nx.get_node_attributes(G, \"Department\")\n",
    "\n",
    "    for node in G.nodes():\n",
    "        for neighbour in nx.neighbors(G, node):\n",
    "            if (node_mgmt_attrs.get(neighbour) == 1) and (node_dept_attrs.get(node) == node_dept_attrs.get(neighbour)):\n",
    "                neighbours_with_mgmt_salary_same_dept[node] += 1\n",
    "                \n",
    "    def sort_dict_values_keys(dictionary: dict) -> list:\n",
    "        return [val for (key, val) in sorted(dictionary.items(), reverse = False)]\n",
    "    \n",
    "    employees = pd.DataFrame({\"Department\": sort_dict_values_keys(dep), \"ManagementSalary\": sort_dict_values_keys(mgmt_salary),\n",
    "             \"NeighboursMgmtSameDept\": sort_dict_values_keys(neighbours_with_mgmt_salary_same_dept),\n",
    "            \"NeighboursMgmt\": sort_dict_values_keys(neighbours_with_mgmt_salary), \"Degree\": sort_dict_values_keys(degrees),\n",
    "            \"ClosenessCentrality\": sort_dict_values_keys(ccentrality), \"BetweennessCentrality\": sort_dict_values_keys(bwcentrality)})\n",
    "    \n",
    "    train_x = employees.dropna(axis = 0).drop(\"ManagementSalary\", axis = 1)\n",
    "    train_y = employees.dropna(axis = 0).loc[:, \"ManagementSalary\"]\n",
    "    test_x = employees.loc[employees.ManagementSalary.isna(), :].drop(\"ManagementSalary\", axis = 1)\n",
    "    \n",
    "    classifier = RandomForestClassifier(n_estimators = 1000)\n",
    "    classifier.fit(train_x, train_y)\n",
    "    \n",
    "    # probability of 0 , probability of 1\n",
    "    prob_mgmt_salary = pd.Series([yes for (no, yes) in classifier.predict_proba(test_x)], index = test_x.index)\n",
    "    return prob_mgmt_salary"
   ]
  },
  {
   "cell_type": "code",
   "execution_count": 59,
   "metadata": {
    "execution": {
     "iopub.execute_input": "2023-03-12T07:43:32.840520Z",
     "iopub.status.busy": "2023-03-12T07:43:32.839465Z",
     "iopub.status.idle": "2023-03-12T07:43:39.431635Z",
     "shell.execute_reply": "2023-03-12T07:43:39.431635Z",
     "shell.execute_reply.started": "2023-03-12T07:43:32.840520Z"
    },
    "tags": []
   },
   "outputs": [
    {
     "data": {
      "text/plain": [
       "1       0.048\n",
       "2       0.973\n",
       "5       0.999\n",
       "8       0.210\n",
       "14      0.206\n",
       "        ...  \n",
       "992     0.003\n",
       "994     0.000\n",
       "996     0.000\n",
       "1000    0.000\n",
       "1001    0.012\n",
       "Length: 252, dtype: float64"
      ]
     },
     "execution_count": 59,
     "metadata": {},
     "output_type": "execute_result"
    }
   ],
   "source": [
    "salary_predictions()"
   ]
  },
  {
   "cell_type": "markdown",
   "metadata": {
    "execution": {
     "iopub.execute_input": "2023-03-09T22:29:02.707436Z",
     "iopub.status.busy": "2023-03-09T22:29:02.707436Z",
     "iopub.status.idle": "2023-03-09T22:29:02.717069Z",
     "shell.execute_reply": "2023-03-09T22:29:02.716053Z",
     "shell.execute_reply.started": "2023-03-09T22:29:02.707436Z"
    },
    "tags": []
   },
   "source": [
    "def salary_predictions():\n",
    "    \n",
    "    from sklearn.preprocessing import StandardScaler\n",
    "    from sklearn.ensemble import RandomForestClassifier\n",
    "\n",
    "    dep = nx.get_node_attributes(G, \"Department\")\n",
    "    mgmt_salary = nx.get_node_attributes(G, \"ManagementSalary\")\n",
    "    degrees = dict(nx.degree(G))\n",
    "    \n",
    "    neighbours_with_mgmt_salary = dict.fromkeys(G.nodes(), 0)\n",
    "    node_mgmt_attrs = nx.get_node_attributes(G, \"ManagementSalary\")\n",
    "\n",
    "    for node in G.nodes():\n",
    "        for neighbour in nx.neighbors(G, node):\n",
    "            if node_mgmt_attrs.get(neighbour) == 1:\n",
    "                neighbours_with_mgmt_salary[node] += 1\n",
    "    \n",
    "    # number of neighbours from the same department who also receive a management salary\n",
    "\n",
    "    neighbours_with_mgmt_salary_same_dept = dict.fromkeys(G.nodes(), 0)\n",
    "    node_mgmt_attrs = nx.get_node_attributes(G, \"ManagementSalary\")\n",
    "    node_dept_attrs = nx.get_node_attributes(G, \"Department\")\n",
    "\n",
    "    for node in G.nodes():\n",
    "        for neighbour in nx.neighbors(G, node):\n",
    "            if (node_mgmt_attrs.get(neighbour) == 1) and (node_dept_attrs.get(node) == node_dept_attrs.get(neighbour)):\n",
    "                neighbours_with_mgmt_salary_same_dept[node] += 1\n",
    "                \n",
    "    def sort_dict_values_keys(dictionary: dict) -> list:\n",
    "        return [val for (key, val) in sorted(dictionary.items(), reverse = False)]\n",
    "    \n",
    "    employees = pd.DataFrame({\"Department\": sort_dict_values_keys(dep), \"ManagementSalary\": sort_dict_values_keys(mgmt_salary),\n",
    "    #          \"NeighboursMgmt\": sort_dict_values_keys(neighbours_with_mgmt_salary),\n",
    "    #         \"NeighboursMgmtSameDept\": sort_dict_values_keys(neighbours_with_mgmt_salary_same_dept)}, index = range(1, 1006))\n",
    "    \"Degree\": sort_dict_values_keys(degrees)})\n",
    "    \n",
    "    \n",
    "    train_x = employees.dropna(axis = 0).drop(\"ManagementSalary\", axis = 1)\n",
    "    train_y = employees.dropna(axis = 0).loc[:, \"ManagementSalary\"]\n",
    "    test_x = employees.loc[employees.ManagementSalary.isna(), :].drop(\"ManagementSalary\", axis = 1)\n",
    "    \n",
    "    scalar = StandardScaler()\n",
    "    normalized_train_x = pd.DataFrame(scalar.fit_transform(train_x), columns = train_x.columns)\n",
    "    normalized_test_x = pd.DataFrame(scalar.fit_transform(test_x), columns = test_x.columns)\n",
    "    classifier = RandomForestClassifier(n_estimators = 1000)\n",
    "    classifier.fit(normalized_train_x, train_y)\n",
    "    \n",
    "    prob_mgmt_salary = pd.Series([one for (zero, one) in classifier.predict_proba(test_x)], index = test_x.index)\n",
    "    return prob_mgmt_salary"
   ]
  },
  {
   "cell_type": "code",
   "execution_count": 67,
   "metadata": {
    "deletable": false,
    "editable": false,
    "execution": {
     "iopub.execute_input": "2023-03-09T22:23:21.633222Z",
     "iopub.status.busy": "2023-03-09T22:23:21.633222Z",
     "iopub.status.idle": "2023-03-09T22:23:22.804322Z",
     "shell.execute_reply": "2023-03-09T22:23:22.803788Z",
     "shell.execute_reply.started": "2023-03-09T22:23:21.633222Z"
    },
    "nbgrader": {
     "cell_type": "code",
     "checksum": "25615bc140cf5f8b7049928438419a81",
     "grade": true,
     "grade_id": "cell-bc9c23e7517908ab",
     "locked": true,
     "points": 1,
     "schema_version": 3,
     "solution": false,
     "task": false
    },
    "tags": []
   },
   "outputs": [],
   "source": [
    "ans_salary_preds = salary_predictions()\n",
    "assert type(ans_salary_preds) == pd.core.series.Series, \"You must return a Pandas series\"\n",
    "assert len(ans_salary_preds) == 252, \"The series must be of length 252\"\n"
   ]
  },
  {
   "cell_type": "code",
   "execution_count": 68,
   "metadata": {
    "execution": {
     "iopub.execute_input": "2023-03-09T22:23:23.283190Z",
     "iopub.status.busy": "2023-03-09T22:23:23.283190Z",
     "iopub.status.idle": "2023-03-09T22:23:23.290151Z",
     "shell.execute_reply": "2023-03-09T22:23:23.290151Z",
     "shell.execute_reply.started": "2023-03-09T22:23:23.283190Z"
    },
    "tags": []
   },
   "outputs": [
    {
     "data": {
      "text/plain": [
       "2       0.909567\n",
       "3       0.920000\n",
       "6       0.909000\n",
       "9       0.920000\n",
       "15      0.920000\n",
       "          ...   \n",
       "993     0.375000\n",
       "995     0.209000\n",
       "997     0.375000\n",
       "1001    0.834000\n",
       "1002    0.834000\n",
       "Length: 252, dtype: float64"
      ]
     },
     "execution_count": 68,
     "metadata": {},
     "output_type": "execute_result"
    }
   ],
   "source": [
    "ans_salary_preds"
   ]
  },
  {
   "cell_type": "markdown",
   "metadata": {
    "deletable": false,
    "editable": false,
    "nbgrader": {
     "cell_type": "markdown",
     "checksum": "01ee118d34018c23ed12b93790c65e49",
     "grade": false,
     "grade_id": "cell-636bdc6669fbdf2f",
     "locked": true,
     "schema_version": 3,
     "solution": false,
     "task": false
    }
   },
   "source": [
    "### Part 2B - New Connections Prediction\n",
    "\n",
    "For the last part of this assignment, you will predict future connections between employees of the network. The future connections information has been loaded into the variable `future_connections`. The index is a tuple indicating a pair of nodes that currently do not have a connection, and the `Future Connection` column indicates if an edge between those two nodes will exist in the future, where a value of 1.0 indicates a future connection."
   ]
  },
  {
   "cell_type": "code",
   "execution_count": 2,
   "metadata": {
    "deletable": false,
    "editable": false,
    "execution": {
     "iopub.execute_input": "2023-03-12T23:30:15.016971Z",
     "iopub.status.busy": "2023-03-12T23:30:15.015968Z",
     "iopub.status.idle": "2023-03-12T23:30:18.692971Z",
     "shell.execute_reply": "2023-03-12T23:30:18.692971Z",
     "shell.execute_reply.started": "2023-03-12T23:30:15.016971Z"
    },
    "nbgrader": {
     "cell_type": "code",
     "checksum": "6ae78d5616c6a6fba11b22d9bf5c9bac",
     "grade": false,
     "grade_id": "cell-23900b187593a4a6",
     "locked": true,
     "schema_version": 3,
     "solution": false,
     "task": false
    },
    "tags": []
   },
   "outputs": [
    {
     "data": {
      "text/html": [
       "<div>\n",
       "<style scoped>\n",
       "    .dataframe tbody tr th:only-of-type {\n",
       "        vertical-align: middle;\n",
       "    }\n",
       "\n",
       "    .dataframe tbody tr th {\n",
       "        vertical-align: top;\n",
       "    }\n",
       "\n",
       "    .dataframe thead th {\n",
       "        text-align: right;\n",
       "    }\n",
       "</style>\n",
       "<table border=\"1\" class=\"dataframe\">\n",
       "  <thead>\n",
       "    <tr style=\"text-align: right;\">\n",
       "      <th></th>\n",
       "      <th>Future Connection</th>\n",
       "    </tr>\n",
       "  </thead>\n",
       "  <tbody>\n",
       "    <tr>\n",
       "      <th>(6, 840)</th>\n",
       "      <td>0.0</td>\n",
       "    </tr>\n",
       "    <tr>\n",
       "      <th>(4, 197)</th>\n",
       "      <td>0.0</td>\n",
       "    </tr>\n",
       "    <tr>\n",
       "      <th>(620, 979)</th>\n",
       "      <td>0.0</td>\n",
       "    </tr>\n",
       "    <tr>\n",
       "      <th>(519, 872)</th>\n",
       "      <td>0.0</td>\n",
       "    </tr>\n",
       "    <tr>\n",
       "      <th>(382, 423)</th>\n",
       "      <td>0.0</td>\n",
       "    </tr>\n",
       "    <tr>\n",
       "      <th>(97, 226)</th>\n",
       "      <td>1.0</td>\n",
       "    </tr>\n",
       "    <tr>\n",
       "      <th>(349, 905)</th>\n",
       "      <td>0.0</td>\n",
       "    </tr>\n",
       "    <tr>\n",
       "      <th>(429, 860)</th>\n",
       "      <td>0.0</td>\n",
       "    </tr>\n",
       "    <tr>\n",
       "      <th>(309, 989)</th>\n",
       "      <td>0.0</td>\n",
       "    </tr>\n",
       "    <tr>\n",
       "      <th>(468, 880)</th>\n",
       "      <td>0.0</td>\n",
       "    </tr>\n",
       "  </tbody>\n",
       "</table>\n",
       "</div>"
      ],
      "text/plain": [
       "            Future Connection\n",
       "(6, 840)                  0.0\n",
       "(4, 197)                  0.0\n",
       "(620, 979)                0.0\n",
       "(519, 872)                0.0\n",
       "(382, 423)                0.0\n",
       "(97, 226)                 1.0\n",
       "(349, 905)                0.0\n",
       "(429, 860)                0.0\n",
       "(309, 989)                0.0\n",
       "(468, 880)                0.0"
      ]
     },
     "execution_count": 2,
     "metadata": {},
     "output_type": "execute_result"
    }
   ],
   "source": [
    "future_connections = pd.read_csv('assets/Future_Connections.csv', index_col=0, converters={0: eval})\n",
    "future_connections.head(10)"
   ]
  },
  {
   "cell_type": "markdown",
   "metadata": {
    "deletable": false,
    "editable": false,
    "nbgrader": {
     "cell_type": "markdown",
     "checksum": "24c7b4c993f6a3300acc98b46d49f81b",
     "grade": false,
     "grade_id": "cell-2d5376bc66158f80",
     "locked": true,
     "schema_version": 3,
     "solution": false,
     "task": false
    }
   },
   "source": [
    "Using network `G` and `future_connections`, identify the edges in `future_connections` with missing values and predict whether or not these edges will have a future connection.\n",
    "\n",
    "To accomplish this, you will need to:      \n",
    "1. Create a matrix of features of your choice for the edges found in `future_connections` using Networkx     \n",
    "2. Train a sklearn classifier on those edges in `future_connections` that have `Future Connection` data     \n",
    "3. Predict a probability of the edge being a future connection for those edges in `future_connections` where `Future Connection` is missing.\n",
    "\n",
    "\n",
    "\n",
    "Your predictions will need to be given as the probability of the corresponding edge being a future connection.\n",
    "\n",
    "The evaluation metric for this assignment is the Area Under the ROC Curve (AUC).\n",
    "\n",
    "Your grade will be based on the AUC score computed for your classifier. A model which with an AUC of 0.75 or higher will recieve full points.\n",
    "\n",
    "Using your trained classifier, return a series of length 122112 with the data being the probability of the edge being a future connection, and the index being the edge as represented by a tuple of nodes.\n",
    "\n",
    "    Example:\n",
    "    \n",
    "        (107, 348)    0.35\n",
    "        (542, 751)    0.40\n",
    "        (20, 426)     0.55\n",
    "        (50, 989)     0.35\n",
    "                  ...\n",
    "        (939, 940)    0.15\n",
    "        (555, 905)    0.35\n",
    "        (75, 101)     0.65\n",
    "        Length: 122112, dtype: float64"
   ]
  },
  {
   "cell_type": "code",
   "execution_count": 21,
   "metadata": {
    "execution": {
     "iopub.execute_input": "2023-03-12T23:39:35.685694Z",
     "iopub.status.busy": "2023-03-12T23:39:35.685694Z",
     "iopub.status.idle": "2023-03-12T23:39:35.693077Z",
     "shell.execute_reply": "2023-03-12T23:39:35.693077Z",
     "shell.execute_reply.started": "2023-03-12T23:39:35.685694Z"
    },
    "tags": []
   },
   "outputs": [
    {
     "data": {
      "text/plain": [
       "Future Connection    122112\n",
       "dtype: int64"
      ]
     },
     "execution_count": 21,
     "metadata": {},
     "output_type": "execute_result"
    }
   ],
   "source": [
    "future_connections.isna().sum()"
   ]
  },
  {
   "cell_type": "code",
   "execution_count": 20,
   "metadata": {
    "execution": {
     "iopub.execute_input": "2023-03-12T23:39:12.347874Z",
     "iopub.status.busy": "2023-03-12T23:39:12.347874Z",
     "iopub.status.idle": "2023-03-12T23:39:12.351946Z",
     "shell.execute_reply": "2023-03-12T23:39:12.351946Z",
     "shell.execute_reply.started": "2023-03-12T23:39:12.347874Z"
    },
    "tags": []
   },
   "outputs": [
    {
     "data": {
      "text/plain": [
       "(488446, 1)"
      ]
     },
     "execution_count": 20,
     "metadata": {},
     "output_type": "execute_result"
    }
   ],
   "source": [
    "future_connections.shape"
   ]
  },
  {
   "cell_type": "code",
   "execution_count": 86,
   "metadata": {
    "execution": {
     "iopub.execute_input": "2023-03-13T01:01:02.296850Z",
     "iopub.status.busy": "2023-03-13T01:01:02.296850Z",
     "iopub.status.idle": "2023-03-13T01:01:02.301917Z",
     "shell.execute_reply": "2023-03-13T01:01:02.301917Z",
     "shell.execute_reply.started": "2023-03-13T01:01:02.296850Z"
    },
    "tags": []
   },
   "outputs": [
    {
     "data": {
      "text/plain": [
       "16706"
      ]
     },
     "execution_count": 86,
     "metadata": {},
     "output_type": "execute_result"
    }
   ],
   "source": [
    "len(G.edges())"
   ]
  },
  {
   "cell_type": "code",
   "execution_count": 78,
   "metadata": {
    "execution": {
     "iopub.execute_input": "2023-03-13T00:57:24.183978Z",
     "iopub.status.busy": "2023-03-13T00:57:24.183978Z",
     "iopub.status.idle": "2023-03-13T00:57:24.189778Z",
     "shell.execute_reply": "2023-03-13T00:57:24.189778Z",
     "shell.execute_reply.started": "2023-03-13T00:57:24.183978Z"
    },
    "tags": []
   },
   "outputs": [
    {
     "data": {
      "text/plain": [
       "Index([  (6, 840),   (4, 197), (620, 979), (519, 872), (382, 423),  (97, 226),\n",
       "       (349, 905), (429, 860), (309, 989), (468, 880)],\n",
       "      dtype='object')"
      ]
     },
     "execution_count": 78,
     "metadata": {},
     "output_type": "execute_result"
    }
   ],
   "source": [
    "future_connections.index[:10]"
   ]
  },
  {
   "cell_type": "code",
   "execution_count": 23,
   "metadata": {
    "execution": {
     "iopub.execute_input": "2023-03-12T23:41:26.543826Z",
     "iopub.status.busy": "2023-03-12T23:41:26.543826Z",
     "iopub.status.idle": "2023-03-12T23:41:26.553990Z",
     "shell.execute_reply": "2023-03-12T23:41:26.553990Z",
     "shell.execute_reply.started": "2023-03-12T23:41:26.543826Z"
    },
    "tags": []
   },
   "outputs": [
    {
     "data": {
      "text/plain": [
       "Index([(107, 348), (542, 751),  (20, 426),  (50, 989), (942, 986), (324, 857),\n",
       "        (13, 710),  (19, 271), (319, 878), (659, 707)],\n",
       "      dtype='object')"
      ]
     },
     "execution_count": 23,
     "metadata": {},
     "output_type": "execute_result"
    }
   ],
   "source": [
    "# these are the only edges we are interested in\n",
    "\n",
    "nan_edges = future_connections[np.isnan(future_connections.values).ravel()].index\n",
    "nan_edges[:10]"
   ]
  },
  {
   "cell_type": "code",
   "execution_count": 125,
   "metadata": {
    "execution": {
     "iopub.execute_input": "2023-03-13T01:16:42.845987Z",
     "iopub.status.busy": "2023-03-13T01:16:42.845987Z",
     "iopub.status.idle": "2023-03-13T01:16:58.159848Z",
     "shell.execute_reply": "2023-03-13T01:16:58.158963Z",
     "shell.execute_reply.started": "2023-03-13T01:16:42.845987Z"
    },
    "tags": []
   },
   "outputs": [],
   "source": [
    "ncommon_neighbours = [len(list(nx.common_neighbors(G, node_1, node_2))) for (node_1, node_2) in future_connections.index]"
   ]
  },
  {
   "cell_type": "code",
   "execution_count": 120,
   "metadata": {
    "execution": {
     "iopub.execute_input": "2023-03-13T01:11:45.197436Z",
     "iopub.status.busy": "2023-03-13T01:11:45.197436Z",
     "iopub.status.idle": "2023-03-13T01:12:01.948777Z",
     "shell.execute_reply": "2023-03-13T01:12:01.948052Z",
     "shell.execute_reply.started": "2023-03-13T01:11:45.197436Z"
    },
    "tags": []
   },
   "outputs": [],
   "source": [
    "jaccards_coef = [tup[2] for tup in list(nx.jaccard_coefficient(G))]"
   ]
  },
  {
   "cell_type": "code",
   "execution_count": 117,
   "metadata": {
    "execution": {
     "iopub.execute_input": "2023-03-13T01:11:10.975091Z",
     "iopub.status.busy": "2023-03-13T01:11:10.975091Z",
     "iopub.status.idle": "2023-03-13T01:11:26.715678Z",
     "shell.execute_reply": "2023-03-13T01:11:26.714930Z",
     "shell.execute_reply.started": "2023-03-13T01:11:10.975091Z"
    },
    "tags": []
   },
   "outputs": [],
   "source": [
    "res_alloc = [tup[2] for tup in list(nx.resource_allocation_index(G))]"
   ]
  },
  {
   "cell_type": "code",
   "execution_count": 116,
   "metadata": {
    "execution": {
     "iopub.execute_input": "2023-03-13T01:10:53.879375Z",
     "iopub.status.busy": "2023-03-13T01:10:53.879375Z",
     "iopub.status.idle": "2023-03-13T01:11:09.478090Z",
     "shell.execute_reply": "2023-03-13T01:11:09.477071Z",
     "shell.execute_reply.started": "2023-03-13T01:10:53.879375Z"
    },
    "tags": []
   },
   "outputs": [],
   "source": [
    "adamic_adar = [tup[2] for tup in list(nx.adamic_adar_index(G))]"
   ]
  },
  {
   "cell_type": "code",
   "execution_count": 109,
   "metadata": {
    "execution": {
     "iopub.execute_input": "2023-03-13T01:09:44.525986Z",
     "iopub.status.busy": "2023-03-13T01:09:44.525986Z",
     "iopub.status.idle": "2023-03-13T01:09:44.977341Z",
     "shell.execute_reply": "2023-03-13T01:09:44.977341Z",
     "shell.execute_reply.started": "2023-03-13T01:09:44.525986Z"
    },
    "tags": []
   },
   "outputs": [],
   "source": [
    "pref_attach = [tup[2] for tup in list(nx.preferential_attachment(G))]"
   ]
  },
  {
   "cell_type": "code",
   "execution_count": 112,
   "metadata": {
    "execution": {
     "iopub.execute_input": "2023-03-13T01:10:08.887017Z",
     "iopub.status.busy": "2023-03-13T01:10:08.887017Z",
     "iopub.status.idle": "2023-03-13T01:10:24.321915Z",
     "shell.execute_reply": "2023-03-13T01:10:24.320902Z",
     "shell.execute_reply.started": "2023-03-13T01:10:08.887017Z"
    },
    "tags": []
   },
   "outputs": [],
   "source": [
    "comm_common_neighbours = [tup[2] for tup in list(nx.cn_soundarajan_hopcroft(G, community = \"Department\"))]"
   ]
  },
  {
   "cell_type": "code",
   "execution_count": 114,
   "metadata": {
    "execution": {
     "iopub.execute_input": "2023-03-13T01:10:36.278822Z",
     "iopub.status.busy": "2023-03-13T01:10:36.278822Z",
     "iopub.status.idle": "2023-03-13T01:10:37.096690Z",
     "shell.execute_reply": "2023-03-13T01:10:37.095628Z",
     "shell.execute_reply.started": "2023-03-13T01:10:36.278822Z"
    },
    "tags": []
   },
   "outputs": [],
   "source": [
    "comm_res_alloc = [tup[2] for tup in list(nx.ra_index_soundarajan_hopcroft(G, community = \"Department\"))]"
   ]
  },
  {
   "cell_type": "code",
   "execution_count": 126,
   "metadata": {
    "execution": {
     "iopub.execute_input": "2023-03-13T01:17:01.575979Z",
     "iopub.status.busy": "2023-03-13T01:17:01.574980Z",
     "iopub.status.idle": "2023-03-13T01:17:01.581658Z",
     "shell.execute_reply": "2023-03-13T01:17:01.580649Z",
     "shell.execute_reply.started": "2023-03-13T01:17:01.575979Z"
    },
    "tags": []
   },
   "outputs": [
    {
     "data": {
      "text/plain": [
       "488446"
      ]
     },
     "execution_count": 126,
     "metadata": {},
     "output_type": "execute_result"
    }
   ],
   "source": [
    "len(res_alloc)"
   ]
  },
  {
   "cell_type": "code",
   "execution_count": 159,
   "metadata": {
    "execution": {
     "iopub.execute_input": "2023-03-13T01:27:00.332041Z",
     "iopub.status.busy": "2023-03-13T01:27:00.332041Z",
     "iopub.status.idle": "2023-03-13T01:27:01.615771Z",
     "shell.execute_reply": "2023-03-13T01:27:01.613738Z",
     "shell.execute_reply.started": "2023-03-13T01:27:00.332041Z"
    },
    "tags": []
   },
   "outputs": [],
   "source": [
    "df = pd.DataFrame({\"common_neighbours\": ncommon_neighbours,\n",
    "             \"jaccards_coef\": jaccards_coef,\n",
    "             \"resource_alloc\": res_alloc,\n",
    "             \"adamic_adar\": adamic_adar,\n",
    "             \"prefer_attach\": pref_attach,\n",
    "             \"commu_cneigh\": comm_common_neighbours,\n",
    "             \"commu_res_alloc\": comm_res_alloc}, index = future_connections.index).sort_index()"
   ]
  },
  {
   "cell_type": "code",
   "execution_count": 160,
   "metadata": {
    "execution": {
     "iopub.execute_input": "2023-03-13T01:27:01.617767Z",
     "iopub.status.busy": "2023-03-13T01:27:01.616749Z",
     "iopub.status.idle": "2023-03-13T01:27:02.003896Z",
     "shell.execute_reply": "2023-03-13T01:27:02.003896Z",
     "shell.execute_reply.started": "2023-03-13T01:27:01.617767Z"
    },
    "tags": []
   },
   "outputs": [],
   "source": [
    "df = pd.merge(left = df, right = future_connections, on = future_connections.index, how = \"inner\", copy = True).set_index(\"key_0\")\n",
    "df.rename({\"Future Connection\": \"future_connections\"}, inplace = True, axis = 1)"
   ]
  },
  {
   "cell_type": "code",
   "execution_count": 161,
   "metadata": {
    "execution": {
     "iopub.execute_input": "2023-03-13T01:27:02.004904Z",
     "iopub.status.busy": "2023-03-13T01:27:02.004904Z",
     "iopub.status.idle": "2023-03-13T01:27:02.009636Z",
     "shell.execute_reply": "2023-03-13T01:27:02.009636Z",
     "shell.execute_reply.started": "2023-03-13T01:27:02.004904Z"
    },
    "tags": []
   },
   "outputs": [
    {
     "data": {
      "text/plain": [
       "Index(['common_neighbours', 'jaccards_coef', 'resource_alloc', 'adamic_adar',\n",
       "       'prefer_attach', 'commu_cneigh', 'commu_res_alloc',\n",
       "       'future_connections'],\n",
       "      dtype='object')"
      ]
     },
     "execution_count": 161,
     "metadata": {},
     "output_type": "execute_result"
    }
   ],
   "source": [
    "df.columns"
   ]
  },
  {
   "cell_type": "code",
   "execution_count": 169,
   "metadata": {
    "execution": {
     "iopub.execute_input": "2023-03-13T01:34:13.841664Z",
     "iopub.status.busy": "2023-03-13T01:34:13.841664Z",
     "iopub.status.idle": "2023-03-13T01:34:13.870548Z",
     "shell.execute_reply": "2023-03-13T01:34:13.869542Z",
     "shell.execute_reply.started": "2023-03-13T01:34:13.841664Z"
    },
    "tags": []
   },
   "outputs": [
    {
     "data": {
      "text/plain": [
       "(366334, 7)"
      ]
     },
     "execution_count": 169,
     "metadata": {},
     "output_type": "execute_result"
    }
   ],
   "source": [
    "train_x = df.loc[~df.future_connections.isna(), :].drop(\"future_connections\", axis = 1)\n",
    "train_x.shape"
   ]
  },
  {
   "cell_type": "code",
   "execution_count": 170,
   "metadata": {
    "execution": {
     "iopub.execute_input": "2023-03-13T01:34:16.515230Z",
     "iopub.status.busy": "2023-03-13T01:34:16.514169Z",
     "iopub.status.idle": "2023-03-13T01:34:16.527065Z",
     "shell.execute_reply": "2023-03-13T01:34:16.527065Z",
     "shell.execute_reply.started": "2023-03-13T01:34:16.515230Z"
    },
    "tags": []
   },
   "outputs": [
    {
     "data": {
      "text/plain": [
       "(366334,)"
      ]
     },
     "execution_count": 170,
     "metadata": {},
     "output_type": "execute_result"
    }
   ],
   "source": [
    "train_y = df.future_connections.loc[~df.future_connections.isna()]\n",
    "train_y.shape"
   ]
  },
  {
   "cell_type": "code",
   "execution_count": 171,
   "metadata": {
    "execution": {
     "iopub.execute_input": "2023-03-13T01:34:17.035083Z",
     "iopub.status.busy": "2023-03-13T01:34:17.034084Z",
     "iopub.status.idle": "2023-03-13T01:34:17.051922Z",
     "shell.execute_reply": "2023-03-13T01:34:17.050917Z",
     "shell.execute_reply.started": "2023-03-13T01:34:17.035083Z"
    },
    "tags": []
   },
   "outputs": [
    {
     "data": {
      "text/plain": [
       "(122112, 7)"
      ]
     },
     "execution_count": 171,
     "metadata": {},
     "output_type": "execute_result"
    }
   ],
   "source": [
    "test_x = df.loc[df.future_connections.isna(), :].drop(\"future_connections\", axis = 1)\n",
    "test_x.shape"
   ]
  },
  {
   "cell_type": "code",
   "execution_count": 172,
   "metadata": {
    "execution": {
     "iopub.execute_input": "2023-03-13T01:34:17.674570Z",
     "iopub.status.busy": "2023-03-13T01:34:17.673568Z",
     "iopub.status.idle": "2023-03-13T01:34:18.735195Z",
     "shell.execute_reply": "2023-03-13T01:34:18.735195Z",
     "shell.execute_reply.started": "2023-03-13T01:34:17.674570Z"
    },
    "tags": []
   },
   "outputs": [
    {
     "data": {
      "text/plain": [
       "key_0\n",
       "(107, 348)    0.080101\n",
       "(542, 751)    0.080101\n",
       "(20, 426)     0.080101\n",
       "(50, 989)     0.080101\n",
       "(942, 986)    0.080101\n",
       "                ...   \n",
       "(165, 923)    0.080101\n",
       "(673, 755)    0.080101\n",
       "(939, 940)    0.080101\n",
       "(555, 905)    0.080101\n",
       "(75, 101)     0.080101\n",
       "Length: 122112, dtype: float64"
      ]
     },
     "execution_count": 172,
     "metadata": {},
     "output_type": "execute_result"
    }
   ],
   "source": [
    "scaler = MinMaxScaler()\n",
    "\n",
    "train_x_normed = scaler.fit_transform(train_x)\n",
    "test_x_normed = scaler.transform(test_x)\n",
    "\n",
    "\n",
    "clf = MLPClassifier(hidden_layer_sizes = [10, 5], alpha = 5, random_state = 0, solver = 'lbfgs', verbose = False)\n",
    "clf.fit(train_x_normed, train_y)\n",
    "\n",
    "\n",
    "test_prob = clf.predict_proba(test_x_normed)[:, 1]\n",
    "pd.Series(test_prob, test_x.index)\n"
   ]
  },
  {
   "cell_type": "code",
   "execution_count": 179,
   "metadata": {
    "execution": {
     "iopub.execute_input": "2023-03-13T01:40:46.680020Z",
     "iopub.status.busy": "2023-03-13T01:40:46.680020Z",
     "iopub.status.idle": "2023-03-13T01:40:46.688397Z",
     "shell.execute_reply": "2023-03-13T01:40:46.688397Z",
     "shell.execute_reply.started": "2023-03-13T01:40:46.680020Z"
    },
    "tags": []
   },
   "outputs": [],
   "source": [
    "def new_connections_predictions():\n",
    "    from sklearn.neural_network import MLPClassifier\n",
    "    from sklearn.preprocessing import MinMaxScaler\n",
    "    \n",
    "    # Your Code Here\n",
    "    for node in G.nodes():\n",
    "        G.nodes[node]['community'] = G.nodes[node]['Department']\n",
    "    \n",
    "    # create and add features dataframe columns\n",
    "    preferential_attachment = list(nx.preferential_attachment(G))\n",
    "    df = pd.DataFrame(index = [(x[0], x[1]) for x in preferential_attachment])\n",
    "    df['preferential_attachment']=[x[2] for x in preferential_attachment]\n",
    "    cn_soundarajan_hopcroft = list(nx.cn_soundarajan_hopcroft(G))\n",
    "    cn_soundarajan_hopcroft_df = pd.DataFrame(index=[(x[0], x[1]) for x in cn_soundarajan_hopcroft])\n",
    "    cn_soundarajan_hopcroft_df['cn_soundarajan_hopcroft'] = [x[2] for x in cn_soundarajan_hopcroft]\n",
    "    df = df.join(cn_soundarajan_hopcroft_df, how='outer')\n",
    "    df['cn_soundarajan_hopcroft'] = df['cn_soundarajan_hopcroft'].fillna(value=0)\n",
    "    df['resource_allocation_index'] = [x[2] for x in list(nx.resource_allocation_index(G))]\n",
    "    df['jaccard_coefficient'] = [x[2] for x in list(nx.jaccard_coefficient(G))]\n",
    "    df = future_connections.join(df,how='outer')\n",
    "\n",
    "    # split train and test dataframe\n",
    "    train_df = df[~pd.isnull(df['Future Connection'])]\n",
    "    test_df = df[pd.isnull(df['Future Connection'])]\n",
    "    features = ['cn_soundarajan_hopcroft', 'preferential_attachment', 'resource_allocation_index', 'jaccard_coefficient']\n",
    "    X_train = train_df[features]\n",
    "    y_train = train_df['Future Connection']\n",
    "    X_test = test_df[features]\n",
    "\n",
    "    # normalize the X_train and X_test data\n",
    "    scaler = MinMaxScaler()\n",
    "    X_train_scaled = scaler.fit_transform(X_train)\n",
    "    X_test_scaled = scaler.transform(X_test)\n",
    "\n",
    "    # built and train a model\n",
    "    clf = MLPClassifier(hidden_layer_sizes = [10, 5], alpha = 5, random_state = 0, solver='lbfgs', verbose = False, max_iter = 100_000)\n",
    "    clf.fit(X_train_scaled, y_train)\n",
    "\n",
    "    # test the trained model\n",
    "    test_proba = clf.predict_proba(X_test_scaled)[:, 1]\n",
    "    predictions = pd.Series(test_proba, X_test.index)\n",
    "    target = future_connections[pd.isnull(future_connections['Future Connection'])]\n",
    "    target.loc[:, 'prob'] = [predictions[x] for x in target.index]\n",
    "    \n",
    "    return target['prob'] "
   ]
  },
  {
   "cell_type": "code",
   "execution_count": 180,
   "metadata": {
    "execution": {
     "iopub.execute_input": "2023-03-13T01:40:47.290092Z",
     "iopub.status.busy": "2023-03-13T01:40:47.290092Z",
     "iopub.status.idle": "2023-03-13T01:43:39.535809Z",
     "shell.execute_reply": "2023-03-13T01:43:39.535809Z",
     "shell.execute_reply.started": "2023-03-13T01:40:47.290092Z"
    },
    "tags": []
   },
   "outputs": [
    {
     "name": "stderr",
     "output_type": "stream",
     "text": [
      "C:\\Users\\Anoban\\AppData\\Local\\Temp\\ipykernel_5492\\566543031.py:43: SettingWithCopyWarning: \n",
      "A value is trying to be set on a copy of a slice from a DataFrame.\n",
      "Try using .loc[row_indexer,col_indexer] = value instead\n",
      "\n",
      "See the caveats in the documentation: https://pandas.pydata.org/pandas-docs/stable/user_guide/indexing.html#returning-a-view-versus-a-copy\n",
      "  target.loc[:, 'prob'] = [predictions[x] for x in target.index]\n"
     ]
    },
    {
     "data": {
      "text/plain": [
       "(107, 348)    0.027765\n",
       "(542, 751)    0.011841\n",
       "(20, 426)     0.591719\n",
       "(50, 989)     0.011889\n",
       "(942, 986)    0.012220\n",
       "                ...   \n",
       "(165, 923)    0.011369\n",
       "(673, 755)    0.012295\n",
       "(939, 940)    0.012220\n",
       "(555, 905)    0.011813\n",
       "(75, 101)     0.019207\n",
       "Name: prob, Length: 122112, dtype: float64"
      ]
     },
     "execution_count": 180,
     "metadata": {},
     "output_type": "execute_result"
    }
   ],
   "source": [
    "new_connections_predictions()"
   ]
  },
  {
   "cell_type": "code",
   "execution_count": null,
   "metadata": {
    "deletable": false,
    "nbgrader": {
     "cell_type": "code",
     "checksum": "aa635313ab21384aefd0e005c28f8a9d",
     "grade": false,
     "grade_id": "cell-63e0f775d43cc2e4",
     "locked": false,
     "schema_version": 3,
     "solution": true,
     "task": false
    }
   },
   "outputs": [],
   "source": [
    "def new_connections_predictions():\n",
    "    from sklearn.preprocessing import StandardScaler, LabelEncoder\n",
    "    from sklearn.ensemble import RandomForestClassifier\n",
    "\n",
    "    # YOUR CODE HERE\n",
    "    raise NotImplementedError()"
   ]
  },
  {
   "cell_type": "code",
   "execution_count": null,
   "metadata": {
    "deletable": false,
    "editable": false,
    "nbgrader": {
     "cell_type": "code",
     "checksum": "1551f972fbe01646fda6b8679026970b",
     "grade": true,
     "grade_id": "cell-979b4a17d794f3d0",
     "locked": true,
     "points": 1,
     "schema_version": 3,
     "solution": false,
     "task": false
    }
   },
   "outputs": [],
   "source": [
    "ans_prob_preds = new_connections_predictions()\n",
    "assert type(ans_prob_preds) == pd.core.series.Series, \"You must return a Pandas series\"\n",
    "assert len(ans_prob_preds) == 122112, \"The series must be of length 122112\"\n"
   ]
  }
 ],
 "metadata": {
  "coursera": {
   "schema_names": [
    "mooc_adswpy_v1_assignment4"
   ]
  },
  "kernelspec": {
   "display_name": "Python 3 (ipykernel)",
   "language": "python",
   "name": "python3"
  },
  "language_info": {
   "codemirror_mode": {
    "name": "ipython",
    "version": 3
   },
   "file_extension": ".py",
   "mimetype": "text/x-python",
   "name": "python",
   "nbconvert_exporter": "python",
   "pygments_lexer": "ipython3",
   "version": "3.11.2"
  }
 },
 "nbformat": 4,
 "nbformat_minor": 4
}
