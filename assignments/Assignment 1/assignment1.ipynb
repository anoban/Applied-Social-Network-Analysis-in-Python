{
 "cells": [
  {
   "cell_type": "markdown",
   "metadata": {
    "deletable": false,
    "editable": false,
    "nbgrader": {
     "cell_type": "markdown",
     "checksum": "bb4e2877f2f4b2e6ed4718d2893634c1",
     "grade": false,
     "grade_id": "cell-69c39b45a3de0dce",
     "locked": true,
     "schema_version": 3,
     "solution": false,
     "task": false
    }
   },
   "source": [
    "# Assignment 1 - Creating and Manipulating Graphs\n",
    "\n",
    "Eight employees at a small company were asked to choose 3 movies that they would most enjoy watching for the upcoming company movie night. These choices are stored in the file `assets/Employee_Movie_Choices.txt`.\n",
    "\n",
    "A second file, `assets/Employee_Relationships.txt`, has data on the relationships between different coworkers. \n",
    "\n",
    "The relationship score has value of `-100` (Enemies) to `+100` (Best Friends). A value of zero means the two employees haven't interacted or are indifferent.\n",
    "\n",
    "Both files are tab delimited."
   ]
  },
  {
   "cell_type": "code",
   "execution_count": 1,
   "metadata": {
    "deletable": false,
    "editable": false,
    "execution": {
     "iopub.execute_input": "2023-02-12T03:30:12.010156Z",
     "iopub.status.busy": "2023-02-12T03:30:12.009156Z",
     "iopub.status.idle": "2023-02-12T03:30:12.551673Z",
     "shell.execute_reply": "2023-02-12T03:30:12.551673Z",
     "shell.execute_reply.started": "2023-02-12T03:30:12.010156Z"
    },
    "nbgrader": {
     "cell_type": "code",
     "checksum": "9ebfce92d32aebeb619da8610d22bbbf",
     "grade": false,
     "grade_id": "cell-880320d7430bc93c",
     "locked": true,
     "schema_version": 3,
     "solution": false,
     "task": false
    },
    "tags": []
   },
   "outputs": [],
   "source": [
    "import networkx as nx\n",
    "import pandas as pd\n",
    "import numpy as np\n",
    "\n",
    "\n",
    "# This is the set of employees\n",
    "employees = set(['Pablo',\n",
    "                 'Lee',\n",
    "                 'Georgia',\n",
    "                 'Vincent',\n",
    "                 'Andy',\n",
    "                 'Frida',\n",
    "                 'Joan',\n",
    "                 'Claude'])\n",
    "\n",
    "# This is the set of movies\n",
    "movies = set(['The Shawshank Redemption',\n",
    "              'Forrest Gump',\n",
    "              'The Matrix',\n",
    "              'Anaconda',\n",
    "              'The Social Network',\n",
    "              'The Godfather',\n",
    "              'Monty Python and the Holy Grail',\n",
    "              'Snakes on a Plane',\n",
    "              'Kung Fu Panda',\n",
    "              'The Dark Knight',\n",
    "              'Mean Girls'])\n",
    "\n",
    "\n",
    "# you can use the following function to plot graphs\n",
    "# make sure to comment it out before submitting to the autograder\n",
    "def plot_graph(G, weight_name=None):\n",
    "    '''\n",
    "    G: a networkx G\n",
    "    weight_name: name of the attribute for plotting edge weights (if G is weighted)\n",
    "    '''\n",
    "    #%matplotlib notebook\n",
    "    import matplotlib.pyplot as plt\n",
    "    \n",
    "    plt.figure()\n",
    "    pos = nx.spring_layout(G)\n",
    "    edges = G.edges()\n",
    "    weights = None\n",
    "    \n",
    "    if weight_name:\n",
    "        weights = [int(G[u][v][weight_name]) for u,v in edges]\n",
    "        labels = nx.get_edge_attributes(G,weight_name)\n",
    "        nx.draw_networkx_edge_labels(G,pos,edge_labels=labels)\n",
    "        nx.draw_networkx(G, pos, width=weights);\n",
    "    else:\n",
    "        nx.draw_networkx(G, pos,);"
   ]
  },
  {
   "cell_type": "markdown",
   "metadata": {
    "deletable": false,
    "editable": false,
    "nbgrader": {
     "cell_type": "markdown",
     "checksum": "0b6347bb31ef371bbca723a98ae77ab3",
     "grade": false,
     "grade_id": "cell-1790d513ed5dcd72",
     "locked": true,
     "schema_version": 3,
     "solution": false,
     "task": false
    }
   },
   "source": [
    "### Question 1\n",
    "\n",
    "Using NetworkX, load in the bipartite graph from `assets/Employee_Movie_Choices.txt` and return that graph.\n",
    "\n",
    "*This function should return a bipartite networkx graph with 19 nodes and 24 edges*"
   ]
  },
  {
   "cell_type": "code",
   "execution_count": 3,
   "metadata": {
    "execution": {
     "iopub.execute_input": "2023-02-12T03:33:04.414317Z",
     "iopub.status.busy": "2023-02-12T03:33:04.414317Z",
     "iopub.status.idle": "2023-02-12T03:33:04.422157Z",
     "shell.execute_reply": "2023-02-12T03:33:04.421150Z",
     "shell.execute_reply.started": "2023-02-12T03:33:04.414317Z"
    },
    "tags": []
   },
   "outputs": [],
   "source": [
    "emp_mv = pd.read_csv(r\"assets/Employee_Movie_Choices.txt\", delimiter = \"\\t\")"
   ]
  },
  {
   "cell_type": "code",
   "execution_count": 26,
   "metadata": {
    "execution": {
     "iopub.execute_input": "2023-02-12T03:44:45.537511Z",
     "iopub.status.busy": "2023-02-12T03:44:45.537511Z",
     "iopub.status.idle": "2023-02-12T03:44:45.542271Z",
     "shell.execute_reply": "2023-02-12T03:44:45.542271Z",
     "shell.execute_reply.started": "2023-02-12T03:44:45.537511Z"
    },
    "tags": []
   },
   "outputs": [
    {
     "data": {
      "text/plain": [
       "Index(['#Employee', 'Movie'], dtype='object')"
      ]
     },
     "execution_count": 26,
     "metadata": {},
     "output_type": "execute_result"
    }
   ],
   "source": [
    "emp_mv.columns"
   ]
  },
  {
   "cell_type": "code",
   "execution_count": 27,
   "metadata": {
    "execution": {
     "iopub.execute_input": "2023-02-12T03:44:46.029951Z",
     "iopub.status.busy": "2023-02-12T03:44:46.028921Z",
     "iopub.status.idle": "2023-02-12T03:44:46.034194Z",
     "shell.execute_reply": "2023-02-12T03:44:46.033183Z",
     "shell.execute_reply.started": "2023-02-12T03:44:46.029951Z"
    },
    "tags": []
   },
   "outputs": [],
   "source": [
    "emp_mv_graph = nx.from_pandas_edgelist(emp_mv, source = \"#Employee\", target = \"Movie\", create_using = nx.Graph())"
   ]
  },
  {
   "cell_type": "code",
   "execution_count": 28,
   "metadata": {
    "execution": {
     "iopub.execute_input": "2023-02-12T03:44:46.655654Z",
     "iopub.status.busy": "2023-02-12T03:44:46.654657Z",
     "iopub.status.idle": "2023-02-12T03:44:46.777573Z",
     "shell.execute_reply": "2023-02-12T03:44:46.777573Z",
     "shell.execute_reply.started": "2023-02-12T03:44:46.655654Z"
    },
    "tags": []
   },
   "outputs": [
    {
     "data": {
      "image/png": "[encoded data removed]",
      "text/plain": [
       "<Figure size 640x480 with 1 Axes>"
      ]
     },
     "metadata": {},
     "output_type": "display_data"
    }
   ],
   "source": [
    "nx.draw_networkx(emp_mv_graph)"
   ]
  },
  {
   "cell_type": "code",
   "execution_count": 29,
   "metadata": {
    "execution": {
     "iopub.execute_input": "2023-02-12T03:44:47.441520Z",
     "iopub.status.busy": "2023-02-12T03:44:47.441520Z",
     "iopub.status.idle": "2023-02-12T03:44:47.446508Z",
     "shell.execute_reply": "2023-02-12T03:44:47.446508Z",
     "shell.execute_reply.started": "2023-02-12T03:44:47.441520Z"
    },
    "tags": []
   },
   "outputs": [
    {
     "data": {
      "text/plain": [
       "networkx.classes.graph.Graph"
      ]
     },
     "execution_count": 29,
     "metadata": {},
     "output_type": "execute_result"
    }
   ],
   "source": [
    "type(emp_mv_graph)"
   ]
  },
  {
   "cell_type": "code",
   "execution_count": 30,
   "metadata": {
    "execution": {
     "iopub.execute_input": "2023-02-12T03:44:48.516900Z",
     "iopub.status.busy": "2023-02-12T03:44:48.515850Z",
     "iopub.status.idle": "2023-02-12T03:44:48.520680Z",
     "shell.execute_reply": "2023-02-12T03:44:48.519672Z",
     "shell.execute_reply.started": "2023-02-12T03:44:48.516900Z"
    },
    "tags": []
   },
   "outputs": [],
   "source": [
    "# emp_mv_graph.add_nodes_from(employees, bipartite = \"Employees\")\n",
    "# emp_mv_graph.add_nodes_from(movies, bipartite = \"Movies\")"
   ]
  },
  {
   "cell_type": "code",
   "execution_count": 31,
   "metadata": {
    "execution": {
     "iopub.execute_input": "2023-02-12T03:44:49.079129Z",
     "iopub.status.busy": "2023-02-12T03:44:49.078156Z",
     "iopub.status.idle": "2023-02-12T03:44:49.203203Z",
     "shell.execute_reply": "2023-02-12T03:44:49.203203Z",
     "shell.execute_reply.started": "2023-02-12T03:44:49.079129Z"
    },
    "tags": []
   },
   "outputs": [
    {
     "data": {
      "image/png": "[encoded data removed]",
      "text/plain": [
       "<Figure size 640x480 with 1 Axes>"
      ]
     },
     "metadata": {},
     "output_type": "display_data"
    }
   ],
   "source": [
    "nx.draw_networkx(emp_mv_graph)"
   ]
  },
  {
   "cell_type": "code",
   "execution_count": 32,
   "metadata": {
    "execution": {
     "iopub.execute_input": "2023-02-12T03:44:52.008159Z",
     "iopub.status.busy": "2023-02-12T03:44:52.007158Z",
     "iopub.status.idle": "2023-02-12T03:44:52.012262Z",
     "shell.execute_reply": "2023-02-12T03:44:52.012262Z",
     "shell.execute_reply.started": "2023-02-12T03:44:52.008159Z"
    },
    "tags": []
   },
   "outputs": [
    {
     "data": {
      "text/plain": [
       "19"
      ]
     },
     "execution_count": 32,
     "metadata": {},
     "output_type": "execute_result"
    }
   ],
   "source": [
    "len(emp_mv_graph.nodes())"
   ]
  },
  {
   "cell_type": "code",
   "execution_count": 33,
   "metadata": {
    "execution": {
     "iopub.execute_input": "2023-02-12T03:44:53.239988Z",
     "iopub.status.busy": "2023-02-12T03:44:53.239988Z",
     "iopub.status.idle": "2023-02-12T03:44:53.244822Z",
     "shell.execute_reply": "2023-02-12T03:44:53.244822Z",
     "shell.execute_reply.started": "2023-02-12T03:44:53.239988Z"
    },
    "tags": []
   },
   "outputs": [
    {
     "data": {
      "text/plain": [
       "24"
      ]
     },
     "execution_count": 33,
     "metadata": {},
     "output_type": "execute_result"
    }
   ],
   "source": [
    "len(emp_mv_graph.edges())"
   ]
  },
  {
   "cell_type": "code",
   "execution_count": 22,
   "metadata": {
    "deletable": false,
    "execution": {
     "iopub.execute_input": "2023-02-12T03:44:26.098057Z",
     "iopub.status.busy": "2023-02-12T03:44:26.097058Z",
     "iopub.status.idle": "2023-02-12T03:44:26.101099Z",
     "shell.execute_reply": "2023-02-12T03:44:26.101099Z",
     "shell.execute_reply.started": "2023-02-12T03:44:26.098057Z"
    },
    "nbgrader": {
     "cell_type": "code",
     "checksum": "e1d9e71e3686a4633566908ab722faab",
     "grade": false,
     "grade_id": "cell-e815deb246dc7c0f",
     "locked": false,
     "schema_version": 3,
     "solution": true,
     "task": false
    },
    "tags": []
   },
   "outputs": [],
   "source": [
    "def answer_one() -> nx.Graph:\n",
    "    \n",
    "    emp_mv = pd.read_csv(r\"assets/Employee_Movie_Choices.txt\", delimiter = \"\\t\")\n",
    "    emp_mv_graph = nx.from_pandas_edgelist(emp_mv, source = \"#Employee\", target = \"Movie\", create_using = nx.Graph())\n",
    "    return emp_mv_graph"
   ]
  },
  {
   "cell_type": "code",
   "execution_count": 23,
   "metadata": {
    "execution": {
     "iopub.execute_input": "2023-02-12T03:44:26.471632Z",
     "iopub.status.busy": "2023-02-12T03:44:26.470632Z",
     "iopub.status.idle": "2023-02-12T03:44:26.608051Z",
     "shell.execute_reply": "2023-02-12T03:44:26.608051Z",
     "shell.execute_reply.started": "2023-02-12T03:44:26.471632Z"
    },
    "tags": []
   },
   "outputs": [
    {
     "data": {
      "image/png": "[encoded data removed]",
      "text/plain": [
       "<Figure size 640x480 with 1 Axes>"
      ]
     },
     "metadata": {},
     "output_type": "display_data"
    }
   ],
   "source": [
    "plot_graph(answer_one())"
   ]
  },
  {
   "cell_type": "code",
   "execution_count": 17,
   "metadata": {
    "deletable": false,
    "editable": false,
    "execution": {
     "iopub.execute_input": "2023-02-12T03:42:15.104315Z",
     "iopub.status.busy": "2023-02-12T03:42:15.104315Z",
     "iopub.status.idle": "2023-02-12T03:42:15.110968Z",
     "shell.execute_reply": "2023-02-12T03:42:15.110968Z",
     "shell.execute_reply.started": "2023-02-12T03:42:15.104315Z"
    },
    "nbgrader": {
     "cell_type": "code",
     "checksum": "3f8a6334e337a41d20d03f2f8695869b",
     "grade": true,
     "grade_id": "cell-029237261317f603",
     "locked": true,
     "points": 2,
     "schema_version": 3,
     "solution": false,
     "task": false
    },
    "tags": []
   },
   "outputs": [],
   "source": [
    "assert type(answer_one()) == nx.Graph , \"Your return type should be a Graph object\"\n",
    "\n"
   ]
  },
  {
   "cell_type": "markdown",
   "metadata": {
    "deletable": false,
    "editable": false,
    "nbgrader": {
     "cell_type": "markdown",
     "checksum": "31d0ec5303fd9cc6e60cd483df78a3c5",
     "grade": false,
     "grade_id": "cell-249394e1cc31d0ca",
     "locked": true,
     "schema_version": 3,
     "solution": false,
     "task": false
    }
   },
   "source": [
    "### Question 2\n",
    "\n",
    "Using the graph from the previous question, add nodes attributes named `'type'` where movies have the value `'movie'` and employees have the value `'employee'` and return that graph.\n",
    "\n",
    "*This function should return a bipartite networkx graph with node attributes `{'type': 'movie'}` or `{'type': 'employee'}`*"
   ]
  },
  {
   "cell_type": "code",
   "execution_count": 36,
   "metadata": {
    "deletable": false,
    "execution": {
     "iopub.execute_input": "2023-02-12T03:46:10.488397Z",
     "iopub.status.busy": "2023-02-12T03:46:10.487396Z",
     "iopub.status.idle": "2023-02-12T03:46:10.492477Z",
     "shell.execute_reply": "2023-02-12T03:46:10.491471Z",
     "shell.execute_reply.started": "2023-02-12T03:46:10.488397Z"
    },
    "nbgrader": {
     "cell_type": "code",
     "checksum": "c94a82f1cdebf5de6a596a3d7574e7cd",
     "grade": false,
     "grade_id": "cell-4e6cd02626012f3d",
     "locked": false,
     "schema_version": 3,
     "solution": true,
     "task": false
    },
    "tags": []
   },
   "outputs": [],
   "source": [
    "def answer_two():\n",
    "    emp_mv_graph = answer_one()\n",
    "    emp_mv_graph.add_nodes_from(employees, type = \"employee\")\n",
    "    emp_mv_graph.add_nodes_from(movies, type = \"movie\")\n",
    "    return emp_mv_graph"
   ]
  },
  {
   "cell_type": "code",
   "execution_count": 38,
   "metadata": {
    "execution": {
     "iopub.execute_input": "2023-02-12T03:46:36.704427Z",
     "iopub.status.busy": "2023-02-12T03:46:36.703426Z",
     "iopub.status.idle": "2023-02-12T03:46:36.710253Z",
     "shell.execute_reply": "2023-02-12T03:46:36.710253Z",
     "shell.execute_reply.started": "2023-02-12T03:46:36.703426Z"
    },
    "tags": []
   },
   "outputs": [
    {
     "data": {
      "text/plain": [
       "{'Andy': 'employee',\n",
       " 'Anaconda': 'movie',\n",
       " 'Mean Girls': 'movie',\n",
       " 'The Matrix': 'movie',\n",
       " 'Claude': 'employee',\n",
       " 'Monty Python and the Holy Grail': 'movie',\n",
       " 'Snakes on a Plane': 'movie',\n",
       " 'Frida': 'employee',\n",
       " 'The Shawshank Redemption': 'movie',\n",
       " 'The Social Network': 'movie',\n",
       " 'Georgia': 'employee',\n",
       " 'Joan': 'employee',\n",
       " 'Forrest Gump': 'movie',\n",
       " 'Kung Fu Panda': 'movie',\n",
       " 'Lee': 'employee',\n",
       " 'Pablo': 'employee',\n",
       " 'The Dark Knight': 'movie',\n",
       " 'Vincent': 'employee',\n",
       " 'The Godfather': 'movie'}"
      ]
     },
     "execution_count": 38,
     "metadata": {},
     "output_type": "execute_result"
    }
   ],
   "source": [
    "nx.get_node_attributes(answer_two(), name = \"type\")"
   ]
  },
  {
   "cell_type": "code",
   "execution_count": 39,
   "metadata": {
    "deletable": false,
    "editable": false,
    "execution": {
     "iopub.execute_input": "2023-02-12T03:46:44.712623Z",
     "iopub.status.busy": "2023-02-12T03:46:44.711621Z",
     "iopub.status.idle": "2023-02-12T03:46:44.719135Z",
     "shell.execute_reply": "2023-02-12T03:46:44.718128Z",
     "shell.execute_reply.started": "2023-02-12T03:46:44.712623Z"
    },
    "nbgrader": {
     "cell_type": "code",
     "checksum": "6df8d9fd4f193c5997afafc0c55a4723",
     "grade": true,
     "grade_id": "cell-c0500f828d5662fb",
     "locked": true,
     "points": 2,
     "schema_version": 3,
     "solution": false,
     "task": false
    },
    "tags": []
   },
   "outputs": [],
   "source": [
    "assert type(answer_two()) == nx.Graph , \"Your return type should be a Graph object\"\n"
   ]
  },
  {
   "cell_type": "markdown",
   "metadata": {
    "deletable": false,
    "editable": false,
    "nbgrader": {
     "cell_type": "markdown",
     "checksum": "eb66ee80f345c2a630a06e6535bdccc0",
     "grade": false,
     "grade_id": "cell-533037784f789d72",
     "locked": true,
     "schema_version": 3,
     "solution": false,
     "task": false
    }
   },
   "source": [
    "### Question 3\n",
    "\n",
    "Find a weighted projection of the graph from `answer_two` which tells us how many movies different pairs of employees have in common.\n",
    "\n",
    "*This function should return a weighted projected graph.*"
   ]
  },
  {
   "cell_type": "code",
   "execution_count": 44,
   "metadata": {
    "execution": {
     "iopub.execute_input": "2023-02-12T03:50:32.771804Z",
     "iopub.status.busy": "2023-02-12T03:50:32.771804Z",
     "iopub.status.idle": "2023-02-12T03:50:32.903560Z",
     "shell.execute_reply": "2023-02-12T03:50:32.902553Z",
     "shell.execute_reply.started": "2023-02-12T03:50:32.771804Z"
    },
    "tags": []
   },
   "outputs": [
    {
     "data": {
      "image/png": "[encoded data removed]",
      "text/plain": [
       "<Figure size 640x480 with 1 Axes>"
      ]
     },
     "metadata": {},
     "output_type": "display_data"
    }
   ],
   "source": [
    "from networkx import bipartite\n",
    "wproj = bipartite.weighted_projected_graph(answer_two(), nodes = employees)\n",
    "\n",
    "posit = nx.circular_layout(wproj)\n",
    "nx.draw_networkx(wproj, pos = posit)\n",
    "nx.draw_networkx_edge_labels(wproj, pos = posit, edge_labels = nx.get_edge_attributes(wproj, \"weight\"));"
   ]
  },
  {
   "cell_type": "code",
   "execution_count": 118,
   "metadata": {
    "deletable": false,
    "execution": {
     "iopub.execute_input": "2023-02-12T04:28:15.550660Z",
     "iopub.status.busy": "2023-02-12T04:28:15.549656Z",
     "iopub.status.idle": "2023-02-12T04:28:15.554155Z",
     "shell.execute_reply": "2023-02-12T04:28:15.554155Z",
     "shell.execute_reply.started": "2023-02-12T04:28:15.550660Z"
    },
    "nbgrader": {
     "cell_type": "code",
     "checksum": "6a379f240aa02023d75b7defe4b11416",
     "grade": false,
     "grade_id": "cell-e85f388dda0fc212",
     "locked": false,
     "schema_version": 3,
     "solution": true,
     "task": false
    },
    "tags": []
   },
   "outputs": [],
   "source": [
    "def answer_three():\n",
    "    from networkx import bipartite\n",
    "    bproj = bipartite.weighted_projected_graph(answer_two(), nodes = employees)\n",
    "    return bproj"
   ]
  },
  {
   "cell_type": "code",
   "execution_count": 119,
   "metadata": {
    "execution": {
     "iopub.execute_input": "2023-02-12T04:28:26.913210Z",
     "iopub.status.busy": "2023-02-12T04:28:26.913210Z",
     "iopub.status.idle": "2023-02-12T04:28:26.921628Z",
     "shell.execute_reply": "2023-02-12T04:28:26.920603Z",
     "shell.execute_reply.started": "2023-02-12T04:28:26.913210Z"
    },
    "tags": []
   },
   "outputs": [
    {
     "data": {
      "text/plain": [
       "EdgeDataView([('Andy', 'Joan', {'weight': 1}), ('Andy', 'Lee', {'weight': 1}), ('Andy', 'Frida', {'weight': 1}), ('Andy', 'Georgia', {'weight': 1}), ('Andy', 'Pablo', {'weight': 1}), ('Andy', 'Claude', {'weight': 1}), ('Joan', 'Lee', {'weight': 3}), ('Frida', 'Pablo', {'weight': 2}), ('Frida', 'Vincent', {'weight': 2}), ('Georgia', 'Claude', {'weight': 3}), ('Pablo', 'Vincent', {'weight': 1})])"
      ]
     },
     "execution_count": 119,
     "metadata": {},
     "output_type": "execute_result"
    }
   ],
   "source": [
    "answer_three().edges(data = True)"
   ]
  },
  {
   "cell_type": "code",
   "execution_count": 121,
   "metadata": {
    "deletable": false,
    "editable": false,
    "execution": {
     "iopub.execute_input": "2023-02-12T04:30:02.846516Z",
     "iopub.status.busy": "2023-02-12T04:30:02.846516Z",
     "iopub.status.idle": "2023-02-12T04:30:02.986710Z",
     "shell.execute_reply": "2023-02-12T04:30:02.986710Z",
     "shell.execute_reply.started": "2023-02-12T04:30:02.846516Z"
    },
    "nbgrader": {
     "cell_type": "code",
     "checksum": "f26f092b5bdb8dfe0331595b6c463ea4",
     "grade": false,
     "grade_id": "cell-6b4a16b4c1bab3d2",
     "locked": true,
     "schema_version": 3,
     "solution": false,
     "task": false
    },
    "tags": []
   },
   "outputs": [
    {
     "data": {
      "text/plain": [
       "EdgeDataView([('Andy', 'Joan', {'weight': 1}), ('Andy', 'Lee', {'weight': 1}), ('Andy', 'Frida', {'weight': 1}), ('Andy', 'Georgia', {'weight': 1}), ('Andy', 'Pablo', {'weight': 1}), ('Andy', 'Claude', {'weight': 1}), ('Joan', 'Lee', {'weight': 3}), ('Frida', 'Pablo', {'weight': 2}), ('Frida', 'Vincent', {'weight': 2}), ('Georgia', 'Claude', {'weight': 3}), ('Pablo', 'Vincent', {'weight': 1})])"
      ]
     },
     "execution_count": 121,
     "metadata": {},
     "output_type": "execute_result"
    },
    {
     "data": {
      "image/png": "[encoded data removed]",
      "text/plain": [
       "<Figure size 640x480 with 1 Axes>"
      ]
     },
     "metadata": {},
     "output_type": "display_data"
    }
   ],
   "source": [
    "G = answer_three()\n",
    "plot_graph(G, weight_name=\"weight\")\n",
    "G.edges(data = True)"
   ]
  },
  {
   "cell_type": "code",
   "execution_count": 122,
   "metadata": {
    "deletable": false,
    "editable": false,
    "execution": {
     "iopub.execute_input": "2023-02-12T04:30:03.419738Z",
     "iopub.status.busy": "2023-02-12T04:30:03.418736Z",
     "iopub.status.idle": "2023-02-12T04:30:03.424980Z",
     "shell.execute_reply": "2023-02-12T04:30:03.424980Z",
     "shell.execute_reply.started": "2023-02-12T04:30:03.419738Z"
    },
    "nbgrader": {
     "cell_type": "code",
     "checksum": "bfcb5ab968326a6601fb98510d7d61bd",
     "grade": true,
     "grade_id": "cell-2778b8d02bc4ca1c",
     "locked": true,
     "points": 1,
     "schema_version": 3,
     "solution": false,
     "task": false
    },
    "tags": []
   },
   "outputs": [],
   "source": [
    "assert type(answer_three()) == nx.Graph , \"Your return type should be a Graph object\"\n"
   ]
  },
  {
   "cell_type": "markdown",
   "metadata": {
    "deletable": false,
    "editable": false,
    "nbgrader": {
     "cell_type": "markdown",
     "checksum": "f30fedf55c4d28936a56146e82a4318f",
     "grade": false,
     "grade_id": "cell-7334d98bbe114440",
     "locked": true,
     "schema_version": 3,
     "solution": false,
     "task": false
    }
   },
   "source": [
    "### Question 4\n",
    "\n",
    "Suppose you'd like to find out if people that have a high relationship score also like the same types of movies.\n",
    "\n",
    "Find the pearson correlation between employee relationship scores and the number of movies they have in common. If two employees have no movies in common it should be treated as a 0, not a missing value, and should be included in the correlation calculation.\n",
    "\n",
    "*This function should return a float.*"
   ]
  },
  {
   "cell_type": "code",
   "execution_count": 123,
   "metadata": {
    "execution": {
     "iopub.execute_input": "2023-02-12T04:30:04.629517Z",
     "iopub.status.busy": "2023-02-12T04:30:04.629517Z",
     "iopub.status.idle": "2023-02-12T04:30:04.635974Z",
     "shell.execute_reply": "2023-02-12T04:30:04.634968Z",
     "shell.execute_reply.started": "2023-02-12T04:30:04.629517Z"
    },
    "tags": []
   },
   "outputs": [],
   "source": [
    "emp_rel = pd.read_csv(r\"assets/Employee_Relationships.txt\", delimiter = \"\\t\", names = [\"emp_1\", \"emp_2\", \"n_movies\"])"
   ]
  },
  {
   "cell_type": "code",
   "execution_count": 124,
   "metadata": {
    "execution": {
     "iopub.execute_input": "2023-02-12T04:30:05.085024Z",
     "iopub.status.busy": "2023-02-12T04:30:05.085024Z",
     "iopub.status.idle": "2023-02-12T04:30:05.092087Z",
     "shell.execute_reply": "2023-02-12T04:30:05.092087Z",
     "shell.execute_reply.started": "2023-02-12T04:30:05.085024Z"
    },
    "tags": []
   },
   "outputs": [
    {
     "data": {
      "text/html": [
       "<div>\n",
       "<style scoped>\n",
       "    .dataframe tbody tr th:only-of-type {\n",
       "        vertical-align: middle;\n",
       "    }\n",
       "\n",
       "    .dataframe tbody tr th {\n",
       "        vertical-align: top;\n",
       "    }\n",
       "\n",
       "    .dataframe thead th {\n",
       "        text-align: right;\n",
       "    }\n",
       "</style>\n",
       "<table border=\"1\" class=\"dataframe\">\n",
       "  <thead>\n",
       "    <tr style=\"text-align: right;\">\n",
       "      <th></th>\n",
       "      <th>emp_1</th>\n",
       "      <th>emp_2</th>\n",
       "      <th>n_movies</th>\n",
       "    </tr>\n",
       "  </thead>\n",
       "  <tbody>\n",
       "    <tr>\n",
       "      <th>0</th>\n",
       "      <td>Andy</td>\n",
       "      <td>Claude</td>\n",
       "      <td>0</td>\n",
       "    </tr>\n",
       "    <tr>\n",
       "      <th>1</th>\n",
       "      <td>Andy</td>\n",
       "      <td>Frida</td>\n",
       "      <td>20</td>\n",
       "    </tr>\n",
       "    <tr>\n",
       "      <th>2</th>\n",
       "      <td>Andy</td>\n",
       "      <td>Georgia</td>\n",
       "      <td>-10</td>\n",
       "    </tr>\n",
       "    <tr>\n",
       "      <th>3</th>\n",
       "      <td>Andy</td>\n",
       "      <td>Joan</td>\n",
       "      <td>30</td>\n",
       "    </tr>\n",
       "    <tr>\n",
       "      <th>4</th>\n",
       "      <td>Andy</td>\n",
       "      <td>Lee</td>\n",
       "      <td>-10</td>\n",
       "    </tr>\n",
       "  </tbody>\n",
       "</table>\n",
       "</div>"
      ],
      "text/plain": [
       "  emp_1    emp_2  n_movies\n",
       "0  Andy   Claude         0\n",
       "1  Andy    Frida        20\n",
       "2  Andy  Georgia       -10\n",
       "3  Andy     Joan        30\n",
       "4  Andy      Lee       -10"
      ]
     },
     "execution_count": 124,
     "metadata": {},
     "output_type": "execute_result"
    }
   ],
   "source": [
    "emp_rel.head()"
   ]
  },
  {
   "cell_type": "code",
   "execution_count": 125,
   "metadata": {
    "execution": {
     "iopub.execute_input": "2023-02-12T04:30:10.092635Z",
     "iopub.status.busy": "2023-02-12T04:30:10.092635Z",
     "iopub.status.idle": "2023-02-12T04:30:10.100110Z",
     "shell.execute_reply": "2023-02-12T04:30:10.100110Z",
     "shell.execute_reply.started": "2023-02-12T04:30:10.092635Z"
    },
    "tags": []
   },
   "outputs": [
    {
     "data": {
      "text/plain": [
       "EdgeDataView([('Andy', 'Joan', {'weight': 1}), ('Andy', 'Lee', {'weight': 1}), ('Andy', 'Frida', {'weight': 1}), ('Andy', 'Georgia', {'weight': 1}), ('Andy', 'Pablo', {'weight': 1}), ('Andy', 'Claude', {'weight': 1}), ('Joan', 'Lee', {'weight': 3}), ('Frida', 'Pablo', {'weight': 2}), ('Frida', 'Vincent', {'weight': 2}), ('Georgia', 'Claude', {'weight': 3}), ('Pablo', 'Vincent', {'weight': 1})])"
      ]
     },
     "execution_count": 125,
     "metadata": {},
     "output_type": "execute_result"
    }
   ],
   "source": [
    "answer_three().edges(data = True)"
   ]
  },
  {
   "cell_type": "code",
   "execution_count": 127,
   "metadata": {
    "execution": {
     "iopub.execute_input": "2023-02-12T04:30:17.484532Z",
     "iopub.status.busy": "2023-02-12T04:30:17.484532Z",
     "iopub.status.idle": "2023-02-12T04:30:17.493356Z",
     "shell.execute_reply": "2023-02-12T04:30:17.492344Z",
     "shell.execute_reply.started": "2023-02-12T04:30:17.484532Z"
    },
    "tags": []
   },
   "outputs": [],
   "source": [
    "proj_graph_data = {\n",
    "    \"emp_1\": [],\n",
    "    \"emp_2\": [],\n",
    "    \"n_movies\": []\n",
    "}\n",
    "\n",
    "for edge in answer_three().edges(data = True):\n",
    "    proj_graph_data.get(\"emp_1\").append(edge[0])\n",
    "    proj_graph_data.get(\"emp_2\").append(edge[1])\n",
    "    proj_graph_data.get(\"n_movies\").append(edge[2].get(\"weight\"))"
   ]
  },
  {
   "cell_type": "code",
   "execution_count": 128,
   "metadata": {
    "execution": {
     "iopub.execute_input": "2023-02-12T04:30:17.821778Z",
     "iopub.status.busy": "2023-02-12T04:30:17.821778Z",
     "iopub.status.idle": "2023-02-12T04:30:17.827206Z",
     "shell.execute_reply": "2023-02-12T04:30:17.827206Z",
     "shell.execute_reply.started": "2023-02-12T04:30:17.821778Z"
    },
    "tags": []
   },
   "outputs": [
    {
     "data": {
      "text/plain": [
       "{'emp_1': ['Andy',\n",
       "  'Andy',\n",
       "  'Andy',\n",
       "  'Andy',\n",
       "  'Andy',\n",
       "  'Andy',\n",
       "  'Joan',\n",
       "  'Frida',\n",
       "  'Frida',\n",
       "  'Georgia',\n",
       "  'Pablo'],\n",
       " 'emp_2': ['Joan',\n",
       "  'Lee',\n",
       "  'Frida',\n",
       "  'Georgia',\n",
       "  'Pablo',\n",
       "  'Claude',\n",
       "  'Lee',\n",
       "  'Pablo',\n",
       "  'Vincent',\n",
       "  'Claude',\n",
       "  'Vincent'],\n",
       " 'n_movies': [1, 1, 1, 1, 1, 1, 3, 2, 2, 3, 1]}"
      ]
     },
     "execution_count": 128,
     "metadata": {},
     "output_type": "execute_result"
    }
   ],
   "source": [
    "proj_graph_data"
   ]
  },
  {
   "cell_type": "code",
   "execution_count": 129,
   "metadata": {
    "execution": {
     "iopub.execute_input": "2023-02-12T04:30:31.281192Z",
     "iopub.status.busy": "2023-02-12T04:30:31.281192Z",
     "iopub.status.idle": "2023-02-12T04:30:31.284910Z",
     "shell.execute_reply": "2023-02-12T04:30:31.284910Z",
     "shell.execute_reply.started": "2023-02-12T04:30:31.281192Z"
    },
    "tags": []
   },
   "outputs": [],
   "source": [
    "proj_df = pd.DataFrame(proj_graph_data)"
   ]
  },
  {
   "cell_type": "code",
   "execution_count": 130,
   "metadata": {
    "execution": {
     "iopub.execute_input": "2023-02-12T04:30:31.684460Z",
     "iopub.status.busy": "2023-02-12T04:30:31.684460Z",
     "iopub.status.idle": "2023-02-12T04:30:31.692493Z",
     "shell.execute_reply": "2023-02-12T04:30:31.691474Z",
     "shell.execute_reply.started": "2023-02-12T04:30:31.684460Z"
    },
    "tags": []
   },
   "outputs": [
    {
     "data": {
      "text/html": [
       "<div>\n",
       "<style scoped>\n",
       "    .dataframe tbody tr th:only-of-type {\n",
       "        vertical-align: middle;\n",
       "    }\n",
       "\n",
       "    .dataframe tbody tr th {\n",
       "        vertical-align: top;\n",
       "    }\n",
       "\n",
       "    .dataframe thead th {\n",
       "        text-align: right;\n",
       "    }\n",
       "</style>\n",
       "<table border=\"1\" class=\"dataframe\">\n",
       "  <thead>\n",
       "    <tr style=\"text-align: right;\">\n",
       "      <th></th>\n",
       "      <th>emp_1</th>\n",
       "      <th>emp_2</th>\n",
       "      <th>n_movies</th>\n",
       "    </tr>\n",
       "  </thead>\n",
       "  <tbody>\n",
       "    <tr>\n",
       "      <th>0</th>\n",
       "      <td>Andy</td>\n",
       "      <td>Joan</td>\n",
       "      <td>1</td>\n",
       "    </tr>\n",
       "    <tr>\n",
       "      <th>1</th>\n",
       "      <td>Andy</td>\n",
       "      <td>Lee</td>\n",
       "      <td>1</td>\n",
       "    </tr>\n",
       "    <tr>\n",
       "      <th>2</th>\n",
       "      <td>Andy</td>\n",
       "      <td>Frida</td>\n",
       "      <td>1</td>\n",
       "    </tr>\n",
       "    <tr>\n",
       "      <th>3</th>\n",
       "      <td>Andy</td>\n",
       "      <td>Georgia</td>\n",
       "      <td>1</td>\n",
       "    </tr>\n",
       "    <tr>\n",
       "      <th>4</th>\n",
       "      <td>Andy</td>\n",
       "      <td>Pablo</td>\n",
       "      <td>1</td>\n",
       "    </tr>\n",
       "    <tr>\n",
       "      <th>5</th>\n",
       "      <td>Andy</td>\n",
       "      <td>Claude</td>\n",
       "      <td>1</td>\n",
       "    </tr>\n",
       "    <tr>\n",
       "      <th>6</th>\n",
       "      <td>Joan</td>\n",
       "      <td>Lee</td>\n",
       "      <td>3</td>\n",
       "    </tr>\n",
       "    <tr>\n",
       "      <th>7</th>\n",
       "      <td>Frida</td>\n",
       "      <td>Pablo</td>\n",
       "      <td>2</td>\n",
       "    </tr>\n",
       "    <tr>\n",
       "      <th>8</th>\n",
       "      <td>Frida</td>\n",
       "      <td>Vincent</td>\n",
       "      <td>2</td>\n",
       "    </tr>\n",
       "    <tr>\n",
       "      <th>9</th>\n",
       "      <td>Georgia</td>\n",
       "      <td>Claude</td>\n",
       "      <td>3</td>\n",
       "    </tr>\n",
       "    <tr>\n",
       "      <th>10</th>\n",
       "      <td>Pablo</td>\n",
       "      <td>Vincent</td>\n",
       "      <td>1</td>\n",
       "    </tr>\n",
       "  </tbody>\n",
       "</table>\n",
       "</div>"
      ],
      "text/plain": [
       "      emp_1    emp_2  n_movies\n",
       "0      Andy     Joan         1\n",
       "1      Andy      Lee         1\n",
       "2      Andy    Frida         1\n",
       "3      Andy  Georgia         1\n",
       "4      Andy    Pablo         1\n",
       "5      Andy   Claude         1\n",
       "6      Joan      Lee         3\n",
       "7     Frida    Pablo         2\n",
       "8     Frida  Vincent         2\n",
       "9   Georgia   Claude         3\n",
       "10    Pablo  Vincent         1"
      ]
     },
     "execution_count": 130,
     "metadata": {},
     "output_type": "execute_result"
    }
   ],
   "source": [
    "proj_df"
   ]
  },
  {
   "cell_type": "code",
   "execution_count": 134,
   "metadata": {
    "execution": {
     "iopub.execute_input": "2023-02-12T04:47:11.728190Z",
     "iopub.status.busy": "2023-02-12T04:47:11.728190Z",
     "iopub.status.idle": "2023-02-12T04:47:11.744432Z",
     "shell.execute_reply": "2023-02-12T04:47:11.743425Z",
     "shell.execute_reply.started": "2023-02-12T04:47:11.728190Z"
    },
    "tags": []
   },
   "outputs": [
    {
     "data": {
      "text/html": [
       "<div>\n",
       "<style scoped>\n",
       "    .dataframe tbody tr th:only-of-type {\n",
       "        vertical-align: middle;\n",
       "    }\n",
       "\n",
       "    .dataframe tbody tr th {\n",
       "        vertical-align: top;\n",
       "    }\n",
       "\n",
       "    .dataframe thead th {\n",
       "        text-align: right;\n",
       "    }\n",
       "</style>\n",
       "<table border=\"1\" class=\"dataframe\">\n",
       "  <thead>\n",
       "    <tr style=\"text-align: right;\">\n",
       "      <th></th>\n",
       "      <th>emp_1</th>\n",
       "      <th>emp_2</th>\n",
       "      <th>n_movies_x</th>\n",
       "      <th>n_movies_y</th>\n",
       "    </tr>\n",
       "  </thead>\n",
       "  <tbody>\n",
       "    <tr>\n",
       "      <th>0</th>\n",
       "      <td>Andy</td>\n",
       "      <td>Claude</td>\n",
       "      <td>1.0</td>\n",
       "      <td>0</td>\n",
       "    </tr>\n",
       "    <tr>\n",
       "      <th>1</th>\n",
       "      <td>Andy</td>\n",
       "      <td>Frida</td>\n",
       "      <td>1.0</td>\n",
       "      <td>20</td>\n",
       "    </tr>\n",
       "    <tr>\n",
       "      <th>2</th>\n",
       "      <td>Andy</td>\n",
       "      <td>Georgia</td>\n",
       "      <td>1.0</td>\n",
       "      <td>-10</td>\n",
       "    </tr>\n",
       "    <tr>\n",
       "      <th>3</th>\n",
       "      <td>Andy</td>\n",
       "      <td>Joan</td>\n",
       "      <td>1.0</td>\n",
       "      <td>30</td>\n",
       "    </tr>\n",
       "    <tr>\n",
       "      <th>4</th>\n",
       "      <td>Andy</td>\n",
       "      <td>Lee</td>\n",
       "      <td>1.0</td>\n",
       "      <td>-10</td>\n",
       "    </tr>\n",
       "    <tr>\n",
       "      <th>5</th>\n",
       "      <td>Andy</td>\n",
       "      <td>Pablo</td>\n",
       "      <td>1.0</td>\n",
       "      <td>-10</td>\n",
       "    </tr>\n",
       "    <tr>\n",
       "      <th>6</th>\n",
       "      <td>Andy</td>\n",
       "      <td>Vincent</td>\n",
       "      <td>NaN</td>\n",
       "      <td>20</td>\n",
       "    </tr>\n",
       "    <tr>\n",
       "      <th>7</th>\n",
       "      <td>Claude</td>\n",
       "      <td>Frida</td>\n",
       "      <td>NaN</td>\n",
       "      <td>0</td>\n",
       "    </tr>\n",
       "    <tr>\n",
       "      <th>8</th>\n",
       "      <td>Claude</td>\n",
       "      <td>Georgia</td>\n",
       "      <td>NaN</td>\n",
       "      <td>90</td>\n",
       "    </tr>\n",
       "    <tr>\n",
       "      <th>9</th>\n",
       "      <td>Claude</td>\n",
       "      <td>Joan</td>\n",
       "      <td>NaN</td>\n",
       "      <td>0</td>\n",
       "    </tr>\n",
       "    <tr>\n",
       "      <th>10</th>\n",
       "      <td>Claude</td>\n",
       "      <td>Lee</td>\n",
       "      <td>NaN</td>\n",
       "      <td>0</td>\n",
       "    </tr>\n",
       "    <tr>\n",
       "      <th>11</th>\n",
       "      <td>Claude</td>\n",
       "      <td>Pablo</td>\n",
       "      <td>NaN</td>\n",
       "      <td>10</td>\n",
       "    </tr>\n",
       "    <tr>\n",
       "      <th>12</th>\n",
       "      <td>Claude</td>\n",
       "      <td>Vincent</td>\n",
       "      <td>NaN</td>\n",
       "      <td>0</td>\n",
       "    </tr>\n",
       "    <tr>\n",
       "      <th>13</th>\n",
       "      <td>Frida</td>\n",
       "      <td>Georgia</td>\n",
       "      <td>NaN</td>\n",
       "      <td>0</td>\n",
       "    </tr>\n",
       "    <tr>\n",
       "      <th>14</th>\n",
       "      <td>Frida</td>\n",
       "      <td>Joan</td>\n",
       "      <td>NaN</td>\n",
       "      <td>0</td>\n",
       "    </tr>\n",
       "    <tr>\n",
       "      <th>15</th>\n",
       "      <td>Frida</td>\n",
       "      <td>Lee</td>\n",
       "      <td>NaN</td>\n",
       "      <td>0</td>\n",
       "    </tr>\n",
       "    <tr>\n",
       "      <th>16</th>\n",
       "      <td>Frida</td>\n",
       "      <td>Pablo</td>\n",
       "      <td>2.0</td>\n",
       "      <td>50</td>\n",
       "    </tr>\n",
       "    <tr>\n",
       "      <th>17</th>\n",
       "      <td>Frida</td>\n",
       "      <td>Vincent</td>\n",
       "      <td>2.0</td>\n",
       "      <td>60</td>\n",
       "    </tr>\n",
       "    <tr>\n",
       "      <th>18</th>\n",
       "      <td>Georgia</td>\n",
       "      <td>Joan</td>\n",
       "      <td>NaN</td>\n",
       "      <td>0</td>\n",
       "    </tr>\n",
       "    <tr>\n",
       "      <th>19</th>\n",
       "      <td>Georgia</td>\n",
       "      <td>Lee</td>\n",
       "      <td>NaN</td>\n",
       "      <td>10</td>\n",
       "    </tr>\n",
       "    <tr>\n",
       "      <th>20</th>\n",
       "      <td>Georgia</td>\n",
       "      <td>Pablo</td>\n",
       "      <td>NaN</td>\n",
       "      <td>0</td>\n",
       "    </tr>\n",
       "    <tr>\n",
       "      <th>21</th>\n",
       "      <td>Georgia</td>\n",
       "      <td>Vincent</td>\n",
       "      <td>NaN</td>\n",
       "      <td>0</td>\n",
       "    </tr>\n",
       "    <tr>\n",
       "      <th>22</th>\n",
       "      <td>Joan</td>\n",
       "      <td>Lee</td>\n",
       "      <td>3.0</td>\n",
       "      <td>70</td>\n",
       "    </tr>\n",
       "    <tr>\n",
       "      <th>23</th>\n",
       "      <td>Joan</td>\n",
       "      <td>Pablo</td>\n",
       "      <td>NaN</td>\n",
       "      <td>0</td>\n",
       "    </tr>\n",
       "    <tr>\n",
       "      <th>24</th>\n",
       "      <td>Joan</td>\n",
       "      <td>Vincent</td>\n",
       "      <td>NaN</td>\n",
       "      <td>10</td>\n",
       "    </tr>\n",
       "    <tr>\n",
       "      <th>25</th>\n",
       "      <td>Lee</td>\n",
       "      <td>Pablo</td>\n",
       "      <td>NaN</td>\n",
       "      <td>0</td>\n",
       "    </tr>\n",
       "    <tr>\n",
       "      <th>26</th>\n",
       "      <td>Lee</td>\n",
       "      <td>Vincent</td>\n",
       "      <td>NaN</td>\n",
       "      <td>0</td>\n",
       "    </tr>\n",
       "    <tr>\n",
       "      <th>27</th>\n",
       "      <td>Pablo</td>\n",
       "      <td>Vincent</td>\n",
       "      <td>1.0</td>\n",
       "      <td>-20</td>\n",
       "    </tr>\n",
       "  </tbody>\n",
       "</table>\n",
       "</div>"
      ],
      "text/plain": [
       "      emp_1    emp_2  n_movies_x  n_movies_y\n",
       "0      Andy   Claude         1.0           0\n",
       "1      Andy    Frida         1.0          20\n",
       "2      Andy  Georgia         1.0         -10\n",
       "3      Andy     Joan         1.0          30\n",
       "4      Andy      Lee         1.0         -10\n",
       "5      Andy    Pablo         1.0         -10\n",
       "6      Andy  Vincent         NaN          20\n",
       "7    Claude    Frida         NaN           0\n",
       "8    Claude  Georgia         NaN          90\n",
       "9    Claude     Joan         NaN           0\n",
       "10   Claude      Lee         NaN           0\n",
       "11   Claude    Pablo         NaN          10\n",
       "12   Claude  Vincent         NaN           0\n",
       "13    Frida  Georgia         NaN           0\n",
       "14    Frida     Joan         NaN           0\n",
       "15    Frida      Lee         NaN           0\n",
       "16    Frida    Pablo         2.0          50\n",
       "17    Frida  Vincent         2.0          60\n",
       "18  Georgia     Joan         NaN           0\n",
       "19  Georgia      Lee         NaN          10\n",
       "20  Georgia    Pablo         NaN           0\n",
       "21  Georgia  Vincent         NaN           0\n",
       "22     Joan      Lee         3.0          70\n",
       "23     Joan    Pablo         NaN           0\n",
       "24     Joan  Vincent         NaN          10\n",
       "25      Lee    Pablo         NaN           0\n",
       "26      Lee  Vincent         NaN           0\n",
       "27    Pablo  Vincent         1.0         -20"
      ]
     },
     "execution_count": 134,
     "metadata": {},
     "output_type": "execute_result"
    }
   ],
   "source": [
    "pd.merge(proj_df, emp_rel, on = [\"emp_1\", \"emp_2\"], how = \"right\")#.fillna(0)"
   ]
  },
  {
   "cell_type": "code",
   "execution_count": 91,
   "metadata": {
    "execution": {
     "iopub.execute_input": "2023-02-12T04:09:08.017840Z",
     "iopub.status.busy": "2023-02-12T04:09:08.017840Z",
     "iopub.status.idle": "2023-02-12T04:09:08.038026Z",
     "shell.execute_reply": "2023-02-12T04:09:08.038026Z",
     "shell.execute_reply.started": "2023-02-12T04:09:08.017840Z"
    },
    "tags": []
   },
   "outputs": [
    {
     "data": {
      "text/html": [
       "<div>\n",
       "<style scoped>\n",
       "    .dataframe tbody tr th:only-of-type {\n",
       "        vertical-align: middle;\n",
       "    }\n",
       "\n",
       "    .dataframe tbody tr th {\n",
       "        vertical-align: top;\n",
       "    }\n",
       "\n",
       "    .dataframe thead th {\n",
       "        text-align: right;\n",
       "    }\n",
       "</style>\n",
       "<table border=\"1\" class=\"dataframe\">\n",
       "  <thead>\n",
       "    <tr style=\"text-align: right;\">\n",
       "      <th></th>\n",
       "      <th>emp_1</th>\n",
       "      <th>emp_2</th>\n",
       "      <th>n_movies_x</th>\n",
       "      <th>n_movies_y</th>\n",
       "    </tr>\n",
       "  </thead>\n",
       "  <tbody>\n",
       "    <tr>\n",
       "      <th>5</th>\n",
       "      <td>Andy</td>\n",
       "      <td>Claude</td>\n",
       "      <td>1.0</td>\n",
       "      <td>0.0</td>\n",
       "    </tr>\n",
       "    <tr>\n",
       "      <th>2</th>\n",
       "      <td>Andy</td>\n",
       "      <td>Frida</td>\n",
       "      <td>1.0</td>\n",
       "      <td>20.0</td>\n",
       "    </tr>\n",
       "    <tr>\n",
       "      <th>3</th>\n",
       "      <td>Andy</td>\n",
       "      <td>Georgia</td>\n",
       "      <td>1.0</td>\n",
       "      <td>-10.0</td>\n",
       "    </tr>\n",
       "    <tr>\n",
       "      <th>0</th>\n",
       "      <td>Andy</td>\n",
       "      <td>Joan</td>\n",
       "      <td>1.0</td>\n",
       "      <td>30.0</td>\n",
       "    </tr>\n",
       "    <tr>\n",
       "      <th>1</th>\n",
       "      <td>Andy</td>\n",
       "      <td>Lee</td>\n",
       "      <td>1.0</td>\n",
       "      <td>-10.0</td>\n",
       "    </tr>\n",
       "    <tr>\n",
       "      <th>4</th>\n",
       "      <td>Andy</td>\n",
       "      <td>Pablo</td>\n",
       "      <td>1.0</td>\n",
       "      <td>-10.0</td>\n",
       "    </tr>\n",
       "    <tr>\n",
       "      <th>11</th>\n",
       "      <td>Andy</td>\n",
       "      <td>Vincent</td>\n",
       "      <td>0.0</td>\n",
       "      <td>20.0</td>\n",
       "    </tr>\n",
       "    <tr>\n",
       "      <th>12</th>\n",
       "      <td>Claude</td>\n",
       "      <td>Frida</td>\n",
       "      <td>0.0</td>\n",
       "      <td>0.0</td>\n",
       "    </tr>\n",
       "    <tr>\n",
       "      <th>13</th>\n",
       "      <td>Claude</td>\n",
       "      <td>Georgia</td>\n",
       "      <td>0.0</td>\n",
       "      <td>90.0</td>\n",
       "    </tr>\n",
       "    <tr>\n",
       "      <th>14</th>\n",
       "      <td>Claude</td>\n",
       "      <td>Joan</td>\n",
       "      <td>0.0</td>\n",
       "      <td>0.0</td>\n",
       "    </tr>\n",
       "    <tr>\n",
       "      <th>15</th>\n",
       "      <td>Claude</td>\n",
       "      <td>Lee</td>\n",
       "      <td>0.0</td>\n",
       "      <td>0.0</td>\n",
       "    </tr>\n",
       "    <tr>\n",
       "      <th>16</th>\n",
       "      <td>Claude</td>\n",
       "      <td>Pablo</td>\n",
       "      <td>0.0</td>\n",
       "      <td>10.0</td>\n",
       "    </tr>\n",
       "    <tr>\n",
       "      <th>17</th>\n",
       "      <td>Claude</td>\n",
       "      <td>Vincent</td>\n",
       "      <td>0.0</td>\n",
       "      <td>0.0</td>\n",
       "    </tr>\n",
       "    <tr>\n",
       "      <th>18</th>\n",
       "      <td>Frida</td>\n",
       "      <td>Georgia</td>\n",
       "      <td>0.0</td>\n",
       "      <td>0.0</td>\n",
       "    </tr>\n",
       "    <tr>\n",
       "      <th>19</th>\n",
       "      <td>Frida</td>\n",
       "      <td>Joan</td>\n",
       "      <td>0.0</td>\n",
       "      <td>0.0</td>\n",
       "    </tr>\n",
       "    <tr>\n",
       "      <th>20</th>\n",
       "      <td>Frida</td>\n",
       "      <td>Lee</td>\n",
       "      <td>0.0</td>\n",
       "      <td>0.0</td>\n",
       "    </tr>\n",
       "    <tr>\n",
       "      <th>7</th>\n",
       "      <td>Frida</td>\n",
       "      <td>Pablo</td>\n",
       "      <td>2.0</td>\n",
       "      <td>50.0</td>\n",
       "    </tr>\n",
       "    <tr>\n",
       "      <th>8</th>\n",
       "      <td>Frida</td>\n",
       "      <td>Vincent</td>\n",
       "      <td>2.0</td>\n",
       "      <td>60.0</td>\n",
       "    </tr>\n",
       "    <tr>\n",
       "      <th>9</th>\n",
       "      <td>Georgia</td>\n",
       "      <td>Claude</td>\n",
       "      <td>3.0</td>\n",
       "      <td>0.0</td>\n",
       "    </tr>\n",
       "    <tr>\n",
       "      <th>21</th>\n",
       "      <td>Georgia</td>\n",
       "      <td>Joan</td>\n",
       "      <td>0.0</td>\n",
       "      <td>0.0</td>\n",
       "    </tr>\n",
       "    <tr>\n",
       "      <th>22</th>\n",
       "      <td>Georgia</td>\n",
       "      <td>Lee</td>\n",
       "      <td>0.0</td>\n",
       "      <td>10.0</td>\n",
       "    </tr>\n",
       "    <tr>\n",
       "      <th>23</th>\n",
       "      <td>Georgia</td>\n",
       "      <td>Pablo</td>\n",
       "      <td>0.0</td>\n",
       "      <td>0.0</td>\n",
       "    </tr>\n",
       "    <tr>\n",
       "      <th>24</th>\n",
       "      <td>Georgia</td>\n",
       "      <td>Vincent</td>\n",
       "      <td>0.0</td>\n",
       "      <td>0.0</td>\n",
       "    </tr>\n",
       "    <tr>\n",
       "      <th>6</th>\n",
       "      <td>Joan</td>\n",
       "      <td>Lee</td>\n",
       "      <td>3.0</td>\n",
       "      <td>70.0</td>\n",
       "    </tr>\n",
       "    <tr>\n",
       "      <th>25</th>\n",
       "      <td>Joan</td>\n",
       "      <td>Pablo</td>\n",
       "      <td>0.0</td>\n",
       "      <td>0.0</td>\n",
       "    </tr>\n",
       "    <tr>\n",
       "      <th>26</th>\n",
       "      <td>Joan</td>\n",
       "      <td>Vincent</td>\n",
       "      <td>0.0</td>\n",
       "      <td>10.0</td>\n",
       "    </tr>\n",
       "    <tr>\n",
       "      <th>27</th>\n",
       "      <td>Lee</td>\n",
       "      <td>Pablo</td>\n",
       "      <td>0.0</td>\n",
       "      <td>0.0</td>\n",
       "    </tr>\n",
       "    <tr>\n",
       "      <th>28</th>\n",
       "      <td>Lee</td>\n",
       "      <td>Vincent</td>\n",
       "      <td>0.0</td>\n",
       "      <td>0.0</td>\n",
       "    </tr>\n",
       "    <tr>\n",
       "      <th>10</th>\n",
       "      <td>Pablo</td>\n",
       "      <td>Vincent</td>\n",
       "      <td>1.0</td>\n",
       "      <td>-20.0</td>\n",
       "    </tr>\n",
       "  </tbody>\n",
       "</table>\n",
       "</div>"
      ],
      "text/plain": [
       "      emp_1    emp_2  n_movies_x  n_movies_y\n",
       "5      Andy   Claude         1.0         0.0\n",
       "2      Andy    Frida         1.0        20.0\n",
       "3      Andy  Georgia         1.0       -10.0\n",
       "0      Andy     Joan         1.0        30.0\n",
       "1      Andy      Lee         1.0       -10.0\n",
       "4      Andy    Pablo         1.0       -10.0\n",
       "11     Andy  Vincent         0.0        20.0\n",
       "12   Claude    Frida         0.0         0.0\n",
       "13   Claude  Georgia         0.0        90.0\n",
       "14   Claude     Joan         0.0         0.0\n",
       "15   Claude      Lee         0.0         0.0\n",
       "16   Claude    Pablo         0.0        10.0\n",
       "17   Claude  Vincent         0.0         0.0\n",
       "18    Frida  Georgia         0.0         0.0\n",
       "19    Frida     Joan         0.0         0.0\n",
       "20    Frida      Lee         0.0         0.0\n",
       "7     Frida    Pablo         2.0        50.0\n",
       "8     Frida  Vincent         2.0        60.0\n",
       "9   Georgia   Claude         3.0         0.0\n",
       "21  Georgia     Joan         0.0         0.0\n",
       "22  Georgia      Lee         0.0        10.0\n",
       "23  Georgia    Pablo         0.0         0.0\n",
       "24  Georgia  Vincent         0.0         0.0\n",
       "6      Joan      Lee         3.0        70.0\n",
       "25     Joan    Pablo         0.0         0.0\n",
       "26     Joan  Vincent         0.0        10.0\n",
       "27      Lee    Pablo         0.0         0.0\n",
       "28      Lee  Vincent         0.0         0.0\n",
       "10    Pablo  Vincent         1.0       -20.0"
      ]
     },
     "execution_count": 91,
     "metadata": {},
     "output_type": "execute_result"
    }
   ],
   "source": [
    "pd.merge(proj_df, emp_rel, on = [\"emp_1\", \"emp_2\"], how = \"outer\").fillna(0).sort_values([\"emp_1\", \"emp_2\"])"
   ]
  },
  {
   "cell_type": "code",
   "execution_count": 114,
   "metadata": {
    "deletable": false,
    "execution": {
     "iopub.execute_input": "2023-02-12T04:24:14.043550Z",
     "iopub.status.busy": "2023-02-12T04:24:14.043550Z",
     "iopub.status.idle": "2023-02-12T04:24:14.049108Z",
     "shell.execute_reply": "2023-02-12T04:24:14.049108Z",
     "shell.execute_reply.started": "2023-02-12T04:24:14.043550Z"
    },
    "nbgrader": {
     "cell_type": "code",
     "checksum": "2b46a672ad43d429dc76893d15b8e76a",
     "grade": false,
     "grade_id": "cell-6c1b9a8d087e47c8",
     "locked": false,
     "schema_version": 3,
     "solution": true,
     "task": false
    },
    "tags": []
   },
   "outputs": [],
   "source": [
    "def answer_four():\n",
    "    import scipy.stats as stats\n",
    "    emp_rel = pd.read_csv(r\"assets/Employee_Relationships.txt\", delimiter = \"\\t\", names = [\"emp_1\", \"emp_2\", \"n_movies\"])\n",
    "    proj_graph_data = {\n",
    "    \"emp_1\": [],\n",
    "    \"emp_2\": [],\n",
    "    \"n_movies\": []\n",
    "    }\n",
    "\n",
    "    for edge in answer_three().edges(data = True):\n",
    "        proj_graph_data.get(\"emp_1\").append(edge[0])\n",
    "        proj_graph_data.get(\"emp_2\").append(edge[1])\n",
    "        proj_graph_data.get(\"n_movies\").append(edge[2].get(\"weight\"))\n",
    "    \n",
    "    proj_graph_df = pd.DataFrame(proj_graph_data)\n",
    "    merge = pd.merge(proj_df, emp_rel, on = [\"emp_1\", \"emp_2\"], how = \"outer\").fillna(0)\n",
    "    merge = merge.rename({\"n_movies_x\": \"common_movies\", \"n_movies_y\": \"rel_score\"}, axis = 1)\\\n",
    "    .astype({\"common_movies\": np.int64, \"rel_score\": np.int64})\n",
    "    \n",
    "    return stats.pearsonr(merge.common_movies, merge.rel_score)\n",
    "    "
   ]
  },
  {
   "cell_type": "code",
   "execution_count": 115,
   "metadata": {
    "execution": {
     "iopub.execute_input": "2023-02-12T04:24:14.495655Z",
     "iopub.status.busy": "2023-02-12T04:24:14.494789Z",
     "iopub.status.idle": "2023-02-12T04:24:14.507837Z",
     "shell.execute_reply": "2023-02-12T04:24:14.507837Z",
     "shell.execute_reply.started": "2023-02-12T04:24:14.495655Z"
    },
    "tags": []
   },
   "outputs": [
    {
     "data": {
      "text/plain": [
       "PearsonRResult(statistic=0.373689690737189, pvalue=0.045839326569064066)"
      ]
     },
     "execution_count": 115,
     "metadata": {},
     "output_type": "execute_result"
    }
   ],
   "source": [
    "answer_four()"
   ]
  },
  {
   "cell_type": "code",
   "execution_count": 116,
   "metadata": {
    "deletable": false,
    "editable": false,
    "execution": {
     "iopub.execute_input": "2023-02-12T04:24:17.001593Z",
     "iopub.status.busy": "2023-02-12T04:24:17.001593Z",
     "iopub.status.idle": "2023-02-12T04:24:17.014010Z",
     "shell.execute_reply": "2023-02-12T04:24:17.012997Z",
     "shell.execute_reply.started": "2023-02-12T04:24:17.001593Z"
    },
    "nbgrader": {
     "cell_type": "code",
     "checksum": "a77b0d29ae15deba7b0ad67c71334004",
     "grade": true,
     "grade_id": "cell-b7b288e5ac139702",
     "locked": true,
     "points": 4,
     "schema_version": 3,
     "solution": false,
     "task": false
    },
    "tags": []
   },
   "outputs": [],
   "source": [
    "ans_four = answer_four()"
   ]
  },
  {
   "cell_type": "code",
   "execution_count": null,
   "metadata": {},
   "outputs": [],
   "source": []
  }
 ],
 "metadata": {
  "anaconda-cloud": {},
  "coursera": {
   "schema_names": [
    "mooc_adswpy_v1_assignment1"
   ]
  },
  "kernelspec": {
   "display_name": "Python 3 (ipykernel)",
   "language": "python",
   "name": "python3"
  },
  "language_info": {
   "codemirror_mode": {
    "name": "ipython",
    "version": 3
   },
   "file_extension": ".py",
   "mimetype": "text/x-python",
   "name": "python",
   "nbconvert_exporter": "python",
   "pygments_lexer": "ipython3",
   "version": "3.11.2"
  }
 },
 "nbformat": 4,
 "nbformat_minor": 4
}
