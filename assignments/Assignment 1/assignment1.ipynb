{
 "cells": [
  {
   "cell_type": "markdown",
   "metadata": {
    "deletable": false,
    "editable": false,
    "nbgrader": {
     "cell_type": "markdown",
     "checksum": "bb4e2877f2f4b2e6ed4718d2893634c1",
     "grade": false,
     "grade_id": "cell-69c39b45a3de0dce",
     "locked": true,
     "schema_version": 3,
     "solution": false,
     "task": false
    }
   },
   "source": [
    "# Assignment 1 - Creating and Manipulating Graphs\n",
    "\n",
    "Eight employees at a small company were asked to choose 3 movies that they would most enjoy watching for the upcoming company movie night. These choices are stored in the file `assets/Employee_Movie_Choices.txt`.\n",
    "\n",
    "A second file, `assets/Employee_Relationships.txt`, has data on the relationships between different coworkers. \n",
    "\n",
    "The relationship score has value of `-100` (Enemies) to `+100` (Best Friends). A value of zero means the two employees haven't interacted or are indifferent.\n",
    "\n",
    "Both files are tab delimited."
   ]
  },
  {
   "cell_type": "code",
   "execution_count": 1,
   "metadata": {
    "execution": {
     "iopub.execute_input": "2023-02-18T00:24:17.725845Z",
     "iopub.status.busy": "2023-02-18T00:24:17.725845Z",
     "iopub.status.idle": "2023-02-18T00:24:27.436332Z",
     "shell.execute_reply": "2023-02-18T00:24:27.434677Z",
     "shell.execute_reply.started": "2023-02-18T00:24:17.725845Z"
    },
    "tags": []
   },
   "outputs": [],
   "source": [
    "import networkx as nx\n",
    "import pandas as pd\n",
    "import numpy as np"
   ]
  },
  {
   "cell_type": "code",
   "execution_count": 2,
   "metadata": {
    "deletable": false,
    "execution": {
     "iopub.execute_input": "2023-02-18T00:24:29.113091Z",
     "iopub.status.busy": "2023-02-18T00:24:29.112086Z",
     "iopub.status.idle": "2023-02-18T00:24:29.119088Z",
     "shell.execute_reply": "2023-02-18T00:24:29.118081Z",
     "shell.execute_reply.started": "2023-02-18T00:24:29.113091Z"
    },
    "nbgrader": {
     "cell_type": "code",
     "checksum": "9ebfce92d32aebeb619da8610d22bbbf",
     "grade": false,
     "grade_id": "cell-880320d7430bc93c",
     "locked": true,
     "schema_version": 3,
     "solution": false,
     "task": false
    },
    "tags": []
   },
   "outputs": [],
   "source": [
    "# This is the set of employees\n",
    "employees = set(['Pablo',\n",
    "                 'Lee',\n",
    "                 'Georgia',\n",
    "                 'Vincent',\n",
    "                 'Andy',\n",
    "                 'Frida',\n",
    "                 'Joan',\n",
    "                 'Claude'])\n",
    "\n",
    "# This is the set of movies\n",
    "movies = set(['The Shawshank Redemption',\n",
    "              'Forrest Gump',\n",
    "              'The Matrix',\n",
    "              'Anaconda',\n",
    "              'The Social Network',\n",
    "              'The Godfather',\n",
    "              'Monty Python and the Holy Grail',\n",
    "              'Snakes on a Plane',\n",
    "              'Kung Fu Panda',\n",
    "              'The Dark Knight',\n",
    "              'Mean Girls'])\n",
    "\n",
    "\n",
    "# you can use the following function to plot graphs\n",
    "# make sure to comment it out before submitting to the autograder\n",
    "def plot_graph(G, weight_name=None):\n",
    "    '''\n",
    "    G: a networkx G\n",
    "    weight_name: name of the attribute for plotting edge weights (if G is weighted)\n",
    "    '''\n",
    "    #%matplotlib notebook\n",
    "    import matplotlib.pyplot as plt\n",
    "    \n",
    "    plt.figure()\n",
    "    pos = nx.spring_layout(G)\n",
    "    edges = G.edges()\n",
    "    weights = None\n",
    "    \n",
    "    if weight_name:\n",
    "        weights = [int(G[u][v][weight_name]) for u,v in edges]\n",
    "        labels = nx.get_edge_attributes(G,weight_name)\n",
    "        nx.draw_networkx_edge_labels(G,pos,edge_labels=labels)\n",
    "        nx.draw_networkx(G, pos, width=weights);\n",
    "    else:\n",
    "        nx.draw_networkx(G, pos,);"
   ]
  },
  {
   "cell_type": "markdown",
   "metadata": {
    "deletable": false,
    "editable": false,
    "nbgrader": {
     "cell_type": "markdown",
     "checksum": "0b6347bb31ef371bbca723a98ae77ab3",
     "grade": false,
     "grade_id": "cell-1790d513ed5dcd72",
     "locked": true,
     "schema_version": 3,
     "solution": false,
     "task": false
    }
   },
   "source": [
    "### Question 1\n",
    "\n",
    "Using NetworkX, load in the bipartite graph from `assets/Employee_Movie_Choices.txt` and return that graph.\n",
    "\n",
    "*This function should return a bipartite networkx graph with 19 nodes and 24 edges*"
   ]
  },
  {
   "cell_type": "code",
   "execution_count": 3,
   "metadata": {
    "execution": {
     "iopub.execute_input": "2023-02-18T00:24:31.542691Z",
     "iopub.status.busy": "2023-02-18T00:24:31.542691Z",
     "iopub.status.idle": "2023-02-18T00:24:31.610342Z",
     "shell.execute_reply": "2023-02-18T00:24:31.609327Z",
     "shell.execute_reply.started": "2023-02-18T00:24:31.542691Z"
    },
    "tags": []
   },
   "outputs": [],
   "source": [
    "emp_mv = pd.read_csv(r\"assets/Employee_Movie_Choices.txt\", delimiter = \"\\t\")"
   ]
  },
  {
   "cell_type": "code",
   "execution_count": 4,
   "metadata": {
    "execution": {
     "iopub.execute_input": "2023-02-18T00:24:32.000460Z",
     "iopub.status.busy": "2023-02-18T00:24:31.999404Z",
     "iopub.status.idle": "2023-02-18T00:24:32.006033Z",
     "shell.execute_reply": "2023-02-18T00:24:32.006033Z",
     "shell.execute_reply.started": "2023-02-18T00:24:32.000460Z"
    },
    "tags": []
   },
   "outputs": [
    {
     "data": {
      "text/plain": [
       "Index(['#Employee', 'Movie'], dtype='object')"
      ]
     },
     "execution_count": 4,
     "metadata": {},
     "output_type": "execute_result"
    }
   ],
   "source": [
    "emp_mv.columns"
   ]
  },
  {
   "cell_type": "code",
   "execution_count": 5,
   "metadata": {
    "execution": {
     "iopub.execute_input": "2023-02-18T00:24:32.526611Z",
     "iopub.status.busy": "2023-02-18T00:24:32.526611Z",
     "iopub.status.idle": "2023-02-18T00:24:32.531134Z",
     "shell.execute_reply": "2023-02-18T00:24:32.531134Z",
     "shell.execute_reply.started": "2023-02-18T00:24:32.526611Z"
    },
    "tags": []
   },
   "outputs": [],
   "source": [
    "emp_mv_graph = nx.from_pandas_edgelist(emp_mv, source = \"#Employee\", target = \"Movie\", create_using = nx.Graph())"
   ]
  },
  {
   "cell_type": "code",
   "execution_count": 6,
   "metadata": {
    "execution": {
     "iopub.execute_input": "2023-02-18T00:24:33.192156Z",
     "iopub.status.busy": "2023-02-18T00:24:33.192156Z",
     "iopub.status.idle": "2023-02-18T00:24:35.935038Z",
     "shell.execute_reply": "2023-02-18T00:24:35.935038Z",
     "shell.execute_reply.started": "2023-02-18T00:24:33.192156Z"
    },
    "tags": []
   },
   "outputs": [
    {
     "data": {
      "image/png": "[encoded data removed]",
      "text/plain": [
       "<Figure size 640x480 with 1 Axes>"
      ]
     },
     "metadata": {},
     "output_type": "display_data"
    }
   ],
   "source": [
    "nx.draw_networkx(emp_mv_graph)"
   ]
  },
  {
   "cell_type": "code",
   "execution_count": 7,
   "metadata": {
    "execution": {
     "iopub.execute_input": "2023-02-18T00:24:35.937052Z",
     "iopub.status.busy": "2023-02-18T00:24:35.936049Z",
     "iopub.status.idle": "2023-02-18T00:24:35.941891Z",
     "shell.execute_reply": "2023-02-18T00:24:35.941891Z",
     "shell.execute_reply.started": "2023-02-18T00:24:35.937052Z"
    },
    "tags": []
   },
   "outputs": [
    {
     "data": {
      "text/plain": [
       "networkx.classes.graph.Graph"
      ]
     },
     "execution_count": 7,
     "metadata": {},
     "output_type": "execute_result"
    }
   ],
   "source": [
    "type(emp_mv_graph)"
   ]
  },
  {
   "cell_type": "code",
   "execution_count": 8,
   "metadata": {
    "execution": {
     "iopub.execute_input": "2023-02-18T00:24:35.943918Z",
     "iopub.status.busy": "2023-02-18T00:24:35.942910Z",
     "iopub.status.idle": "2023-02-18T00:24:36.011912Z",
     "shell.execute_reply": "2023-02-18T00:24:36.011912Z",
     "shell.execute_reply.started": "2023-02-18T00:24:35.943918Z"
    },
    "tags": []
   },
   "outputs": [],
   "source": [
    "# emp_mv_graph.add_nodes_from(employees, bipartite = \"Employees\")\n",
    "# emp_mv_graph.add_nodes_from(movies, bipartite = \"Movies\")"
   ]
  },
  {
   "cell_type": "code",
   "execution_count": 9,
   "metadata": {
    "execution": {
     "iopub.execute_input": "2023-02-18T00:24:36.014926Z",
     "iopub.status.busy": "2023-02-18T00:24:36.013919Z",
     "iopub.status.idle": "2023-02-18T00:24:36.255150Z",
     "shell.execute_reply": "2023-02-18T00:24:36.255150Z",
     "shell.execute_reply.started": "2023-02-18T00:24:36.014926Z"
    },
    "tags": []
   },
   "outputs": [
    {
     "data": {
      "image/png": "[encoded data removed]",
      "text/plain": [
       "<Figure size 640x480 with 1 Axes>"
      ]
     },
     "metadata": {},
     "output_type": "display_data"
    }
   ],
   "source": [
    "nx.draw_networkx(emp_mv_graph)"
   ]
  },
  {
   "cell_type": "code",
   "execution_count": 10,
   "metadata": {
    "execution": {
     "iopub.execute_input": "2023-02-18T00:24:36.257159Z",
     "iopub.status.busy": "2023-02-18T00:24:36.256157Z",
     "iopub.status.idle": "2023-02-18T00:24:36.262048Z",
     "shell.execute_reply": "2023-02-18T00:24:36.262048Z",
     "shell.execute_reply.started": "2023-02-18T00:24:36.257159Z"
    },
    "tags": []
   },
   "outputs": [
    {
     "data": {
      "text/plain": [
       "19"
      ]
     },
     "execution_count": 10,
     "metadata": {},
     "output_type": "execute_result"
    }
   ],
   "source": [
    "len(emp_mv_graph.nodes())"
   ]
  },
  {
   "cell_type": "code",
   "execution_count": 11,
   "metadata": {
    "execution": {
     "iopub.execute_input": "2023-02-18T00:24:36.264057Z",
     "iopub.status.busy": "2023-02-18T00:24:36.263055Z",
     "iopub.status.idle": "2023-02-18T00:24:36.335973Z",
     "shell.execute_reply": "2023-02-18T00:24:36.335973Z",
     "shell.execute_reply.started": "2023-02-18T00:24:36.264057Z"
    },
    "tags": []
   },
   "outputs": [
    {
     "data": {
      "text/plain": [
       "24"
      ]
     },
     "execution_count": 11,
     "metadata": {},
     "output_type": "execute_result"
    }
   ],
   "source": [
    "len(emp_mv_graph.edges())"
   ]
  },
  {
   "cell_type": "code",
   "execution_count": 12,
   "metadata": {
    "deletable": false,
    "execution": {
     "iopub.execute_input": "2023-02-18T00:24:36.337980Z",
     "iopub.status.busy": "2023-02-18T00:24:36.336979Z",
     "iopub.status.idle": "2023-02-18T00:24:36.400196Z",
     "shell.execute_reply": "2023-02-18T00:24:36.400196Z",
     "shell.execute_reply.started": "2023-02-18T00:24:36.337980Z"
    },
    "nbgrader": {
     "cell_type": "code",
     "checksum": "e1d9e71e3686a4633566908ab722faab",
     "grade": false,
     "grade_id": "cell-e815deb246dc7c0f",
     "locked": false,
     "schema_version": 3,
     "solution": true,
     "task": false
    },
    "tags": []
   },
   "outputs": [],
   "source": [
    "def answer_one() -> nx.Graph:\n",
    "    \n",
    "    emp_mv = pd.read_csv(r\"assets/Employee_Movie_Choices.txt\", delimiter = \"\\t\")\n",
    "    emp_mv_graph = nx.from_pandas_edgelist(emp_mv, source = \"#Employee\", target = \"Movie\", create_using = nx.Graph())\n",
    "    return emp_mv_graph"
   ]
  },
  {
   "cell_type": "code",
   "execution_count": 13,
   "metadata": {
    "execution": {
     "iopub.execute_input": "2023-02-18T00:24:36.401206Z",
     "iopub.status.busy": "2023-02-18T00:24:36.401206Z",
     "iopub.status.idle": "2023-02-18T00:24:36.635432Z",
     "shell.execute_reply": "2023-02-18T00:24:36.635432Z",
     "shell.execute_reply.started": "2023-02-18T00:24:36.401206Z"
    },
    "tags": []
   },
   "outputs": [
    {
     "data": {
      "image/png": "[encoded data removed]",
      "text/plain": [
       "<Figure size 640x480 with 1 Axes>"
      ]
     },
     "metadata": {},
     "output_type": "display_data"
    }
   ],
   "source": [
    "plot_graph(answer_one())"
   ]
  },
  {
   "cell_type": "code",
   "execution_count": 14,
   "metadata": {
    "deletable": false,
    "editable": false,
    "execution": {
     "iopub.execute_input": "2023-02-18T00:24:36.637442Z",
     "iopub.status.busy": "2023-02-18T00:24:36.637442Z",
     "iopub.status.idle": "2023-02-18T00:24:36.643202Z",
     "shell.execute_reply": "2023-02-18T00:24:36.643202Z",
     "shell.execute_reply.started": "2023-02-18T00:24:36.637442Z"
    },
    "nbgrader": {
     "cell_type": "code",
     "checksum": "3f8a6334e337a41d20d03f2f8695869b",
     "grade": true,
     "grade_id": "cell-029237261317f603",
     "locked": true,
     "points": 2,
     "schema_version": 3,
     "solution": false,
     "task": false
    },
    "tags": []
   },
   "outputs": [],
   "source": [
    "assert type(answer_one()) == nx.Graph , \"Your return type should be a Graph object\"\n",
    "\n"
   ]
  },
  {
   "cell_type": "markdown",
   "metadata": {
    "deletable": false,
    "editable": false,
    "nbgrader": {
     "cell_type": "markdown",
     "checksum": "31d0ec5303fd9cc6e60cd483df78a3c5",
     "grade": false,
     "grade_id": "cell-249394e1cc31d0ca",
     "locked": true,
     "schema_version": 3,
     "solution": false,
     "task": false
    }
   },
   "source": [
    "### Question 2\n",
    "\n",
    "Using the graph from the previous question, add nodes attributes named `'type'` where movies have the value `'movie'` and employees have the value `'employee'` and return that graph.\n",
    "\n",
    "*This function should return a bipartite networkx graph with node attributes `{'type': 'movie'}` or `{'type': 'employee'}`*"
   ]
  },
  {
   "cell_type": "code",
   "execution_count": 15,
   "metadata": {
    "deletable": false,
    "execution": {
     "iopub.execute_input": "2023-02-18T00:24:37.694749Z",
     "iopub.status.busy": "2023-02-18T00:24:37.694749Z",
     "iopub.status.idle": "2023-02-18T00:24:37.699259Z",
     "shell.execute_reply": "2023-02-18T00:24:37.698244Z",
     "shell.execute_reply.started": "2023-02-18T00:24:37.694749Z"
    },
    "nbgrader": {
     "cell_type": "code",
     "checksum": "c94a82f1cdebf5de6a596a3d7574e7cd",
     "grade": false,
     "grade_id": "cell-4e6cd02626012f3d",
     "locked": false,
     "schema_version": 3,
     "solution": true,
     "task": false
    },
    "tags": []
   },
   "outputs": [],
   "source": [
    "def answer_two():\n",
    "    emp_mv_graph = answer_one()\n",
    "    emp_mv_graph.add_nodes_from(employees, type = \"employee\")\n",
    "    emp_mv_graph.add_nodes_from(movies, type = \"movie\")\n",
    "    return emp_mv_graph"
   ]
  },
  {
   "cell_type": "code",
   "execution_count": 16,
   "metadata": {
    "execution": {
     "iopub.execute_input": "2023-02-18T00:24:38.033678Z",
     "iopub.status.busy": "2023-02-18T00:24:38.032596Z",
     "iopub.status.idle": "2023-02-18T00:24:38.041203Z",
     "shell.execute_reply": "2023-02-18T00:24:38.041203Z",
     "shell.execute_reply.started": "2023-02-18T00:24:38.033678Z"
    },
    "tags": []
   },
   "outputs": [
    {
     "data": {
      "text/plain": [
       "{'Andy': 'employee',\n",
       " 'Anaconda': 'movie',\n",
       " 'Mean Girls': 'movie',\n",
       " 'The Matrix': 'movie',\n",
       " 'Claude': 'employee',\n",
       " 'Monty Python and the Holy Grail': 'movie',\n",
       " 'Snakes on a Plane': 'movie',\n",
       " 'Frida': 'employee',\n",
       " 'The Shawshank Redemption': 'movie',\n",
       " 'The Social Network': 'movie',\n",
       " 'Georgia': 'employee',\n",
       " 'Joan': 'employee',\n",
       " 'Forrest Gump': 'movie',\n",
       " 'Kung Fu Panda': 'movie',\n",
       " 'Lee': 'employee',\n",
       " 'Pablo': 'employee',\n",
       " 'The Dark Knight': 'movie',\n",
       " 'Vincent': 'employee',\n",
       " 'The Godfather': 'movie'}"
      ]
     },
     "execution_count": 16,
     "metadata": {},
     "output_type": "execute_result"
    }
   ],
   "source": [
    "nx.get_node_attributes(answer_two(), name = \"type\")"
   ]
  },
  {
   "cell_type": "code",
   "execution_count": 17,
   "metadata": {
    "deletable": false,
    "editable": false,
    "execution": {
     "iopub.execute_input": "2023-02-18T00:24:38.417103Z",
     "iopub.status.busy": "2023-02-18T00:24:38.417103Z",
     "iopub.status.idle": "2023-02-18T00:24:38.423007Z",
     "shell.execute_reply": "2023-02-18T00:24:38.423007Z",
     "shell.execute_reply.started": "2023-02-18T00:24:38.417103Z"
    },
    "nbgrader": {
     "cell_type": "code",
     "checksum": "6df8d9fd4f193c5997afafc0c55a4723",
     "grade": true,
     "grade_id": "cell-c0500f828d5662fb",
     "locked": true,
     "points": 2,
     "schema_version": 3,
     "solution": false,
     "task": false
    },
    "tags": []
   },
   "outputs": [],
   "source": [
    "assert type(answer_two()) == nx.Graph , \"Your return type should be a Graph object\"\n"
   ]
  },
  {
   "cell_type": "markdown",
   "metadata": {
    "deletable": false,
    "editable": false,
    "nbgrader": {
     "cell_type": "markdown",
     "checksum": "eb66ee80f345c2a630a06e6535bdccc0",
     "grade": false,
     "grade_id": "cell-533037784f789d72",
     "locked": true,
     "schema_version": 3,
     "solution": false,
     "task": false
    }
   },
   "source": [
    "### Question 3\n",
    "\n",
    "Find a weighted projection of the graph from `answer_two` which tells us how many movies different pairs of employees have in common.\n",
    "\n",
    "*This function should return a weighted projected graph.*"
   ]
  },
  {
   "cell_type": "code",
   "execution_count": 18,
   "metadata": {
    "execution": {
     "iopub.execute_input": "2023-02-18T00:24:39.128932Z",
     "iopub.status.busy": "2023-02-18T00:24:39.128019Z",
     "iopub.status.idle": "2023-02-18T00:24:39.266872Z",
     "shell.execute_reply": "2023-02-18T00:24:39.266872Z",
     "shell.execute_reply.started": "2023-02-18T00:24:39.128932Z"
    },
    "tags": []
   },
   "outputs": [
    {
     "data": {
      "image/png": "[encoded data removed]",
      "text/plain": [
       "<Figure size 640x480 with 1 Axes>"
      ]
     },
     "metadata": {},
     "output_type": "display_data"
    }
   ],
   "source": [
    "from networkx import bipartite\n",
    "wproj = bipartite.weighted_projected_graph(answer_two(), nodes = employees)\n",
    "\n",
    "posit = nx.circular_layout(wproj)\n",
    "nx.draw_networkx(wproj, pos = posit)\n",
    "nx.draw_networkx_edge_labels(wproj, pos = posit, edge_labels = nx.get_edge_attributes(wproj, \"weight\"));"
   ]
  },
  {
   "cell_type": "code",
   "execution_count": 19,
   "metadata": {
    "deletable": false,
    "execution": {
     "iopub.execute_input": "2023-02-18T00:24:39.503870Z",
     "iopub.status.busy": "2023-02-18T00:24:39.503870Z",
     "iopub.status.idle": "2023-02-18T00:24:39.509185Z",
     "shell.execute_reply": "2023-02-18T00:24:39.508150Z",
     "shell.execute_reply.started": "2023-02-18T00:24:39.503870Z"
    },
    "nbgrader": {
     "cell_type": "code",
     "checksum": "6a379f240aa02023d75b7defe4b11416",
     "grade": false,
     "grade_id": "cell-e85f388dda0fc212",
     "locked": false,
     "schema_version": 3,
     "solution": true,
     "task": false
    },
    "tags": []
   },
   "outputs": [],
   "source": [
    "def answer_three():\n",
    "    from networkx import bipartite\n",
    "    bproj = bipartite.weighted_projected_graph(answer_two(), nodes = employees)\n",
    "    return bproj"
   ]
  },
  {
   "cell_type": "code",
   "execution_count": 20,
   "metadata": {
    "execution": {
     "iopub.execute_input": "2023-02-18T00:24:40.288655Z",
     "iopub.status.busy": "2023-02-18T00:24:40.287699Z",
     "iopub.status.idle": "2023-02-18T00:24:40.296854Z",
     "shell.execute_reply": "2023-02-18T00:24:40.295848Z",
     "shell.execute_reply.started": "2023-02-18T00:24:40.288655Z"
    },
    "tags": []
   },
   "outputs": [
    {
     "data": {
      "text/plain": [
       "EdgeDataView([('Lee', 'Andy', {'weight': 1}), ('Lee', 'Joan', {'weight': 3}), ('Claude', 'Andy', {'weight': 1}), ('Claude', 'Georgia', {'weight': 3}), ('Joan', 'Andy', {'weight': 1}), ('Vincent', 'Pablo', {'weight': 1}), ('Vincent', 'Frida', {'weight': 2}), ('Andy', 'Georgia', {'weight': 1}), ('Andy', 'Pablo', {'weight': 1}), ('Andy', 'Frida', {'weight': 1}), ('Pablo', 'Frida', {'weight': 2})])"
      ]
     },
     "execution_count": 20,
     "metadata": {},
     "output_type": "execute_result"
    }
   ],
   "source": [
    "answer_three().edges(data = True)"
   ]
  },
  {
   "cell_type": "code",
   "execution_count": 21,
   "metadata": {
    "deletable": false,
    "editable": false,
    "execution": {
     "iopub.execute_input": "2023-02-18T00:24:43.000510Z",
     "iopub.status.busy": "2023-02-18T00:24:43.000510Z",
     "iopub.status.idle": "2023-02-18T00:24:43.147980Z",
     "shell.execute_reply": "2023-02-18T00:24:43.147980Z",
     "shell.execute_reply.started": "2023-02-18T00:24:43.000510Z"
    },
    "nbgrader": {
     "cell_type": "code",
     "checksum": "f26f092b5bdb8dfe0331595b6c463ea4",
     "grade": false,
     "grade_id": "cell-6b4a16b4c1bab3d2",
     "locked": true,
     "schema_version": 3,
     "solution": false,
     "task": false
    },
    "tags": []
   },
   "outputs": [
    {
     "data": {
      "text/plain": [
       "EdgeDataView([('Lee', 'Andy', {'weight': 1}), ('Lee', 'Joan', {'weight': 3}), ('Claude', 'Andy', {'weight': 1}), ('Claude', 'Georgia', {'weight': 3}), ('Joan', 'Andy', {'weight': 1}), ('Vincent', 'Pablo', {'weight': 1}), ('Vincent', 'Frida', {'weight': 2}), ('Andy', 'Georgia', {'weight': 1}), ('Andy', 'Pablo', {'weight': 1}), ('Andy', 'Frida', {'weight': 1}), ('Pablo', 'Frida', {'weight': 2})])"
      ]
     },
     "execution_count": 21,
     "metadata": {},
     "output_type": "execute_result"
    },
    {
     "data": {
      "image/png": "[encoded data removed]",
      "text/plain": [
       "<Figure size 640x480 with 1 Axes>"
      ]
     },
     "metadata": {},
     "output_type": "display_data"
    }
   ],
   "source": [
    "G = answer_three()\n",
    "plot_graph(G, weight_name=\"weight\")\n",
    "G.edges(data = True)"
   ]
  },
  {
   "cell_type": "code",
   "execution_count": 122,
   "metadata": {
    "deletable": false,
    "editable": false,
    "execution": {
     "iopub.execute_input": "2023-02-12T04:30:03.419738Z",
     "iopub.status.busy": "2023-02-12T04:30:03.418736Z",
     "iopub.status.idle": "2023-02-12T04:30:03.424980Z",
     "shell.execute_reply": "2023-02-12T04:30:03.424980Z",
     "shell.execute_reply.started": "2023-02-12T04:30:03.419738Z"
    },
    "nbgrader": {
     "cell_type": "code",
     "checksum": "bfcb5ab968326a6601fb98510d7d61bd",
     "grade": true,
     "grade_id": "cell-2778b8d02bc4ca1c",
     "locked": true,
     "points": 1,
     "schema_version": 3,
     "solution": false,
     "task": false
    },
    "tags": []
   },
   "outputs": [],
   "source": [
    "assert type(answer_three()) == nx.Graph , \"Your return type should be a Graph object\"\n"
   ]
  },
  {
   "cell_type": "markdown",
   "metadata": {
    "deletable": false,
    "editable": false,
    "nbgrader": {
     "cell_type": "markdown",
     "checksum": "f30fedf55c4d28936a56146e82a4318f",
     "grade": false,
     "grade_id": "cell-7334d98bbe114440",
     "locked": true,
     "schema_version": 3,
     "solution": false,
     "task": false
    }
   },
   "source": [
    "### Question 4\n",
    "\n",
    "Suppose you'd like to find out if people that have a high relationship score also like the same types of movies.\n",
    "\n",
    "Find the pearson correlation between employee relationship scores and the number of movies they have in common. If two employees have no movies in common it should be treated as a 0, not a missing value, and should be included in the correlation calculation.\n",
    "\n",
    "*This function should return a float.*"
   ]
  },
  {
   "cell_type": "code",
   "execution_count": 22,
   "metadata": {
    "execution": {
     "iopub.execute_input": "2023-02-18T00:25:22.588081Z",
     "iopub.status.busy": "2023-02-18T00:25:22.587080Z",
     "iopub.status.idle": "2023-02-18T00:25:22.601668Z",
     "shell.execute_reply": "2023-02-18T00:25:22.601668Z",
     "shell.execute_reply.started": "2023-02-18T00:25:22.588081Z"
    },
    "tags": []
   },
   "outputs": [],
   "source": [
    "emp_rel = pd.read_csv(r\"assets/Employee_Relationships.txt\", delimiter = \"\\t\", names = [\"emp_1\", \"emp_2\", \"rel_score\"])"
   ]
  },
  {
   "cell_type": "code",
   "execution_count": 23,
   "metadata": {
    "execution": {
     "iopub.execute_input": "2023-02-18T00:25:23.079113Z",
     "iopub.status.busy": "2023-02-18T00:25:23.079113Z",
     "iopub.status.idle": "2023-02-18T00:25:23.145124Z",
     "shell.execute_reply": "2023-02-18T00:25:23.144107Z",
     "shell.execute_reply.started": "2023-02-18T00:25:23.079113Z"
    },
    "tags": []
   },
   "outputs": [
    {
     "data": {
      "text/html": [
       "<div>\n",
       "<style scoped>\n",
       "    .dataframe tbody tr th:only-of-type {\n",
       "        vertical-align: middle;\n",
       "    }\n",
       "\n",
       "    .dataframe tbody tr th {\n",
       "        vertical-align: top;\n",
       "    }\n",
       "\n",
       "    .dataframe thead th {\n",
       "        text-align: right;\n",
       "    }\n",
       "</style>\n",
       "<table border=\"1\" class=\"dataframe\">\n",
       "  <thead>\n",
       "    <tr style=\"text-align: right;\">\n",
       "      <th></th>\n",
       "      <th>emp_1</th>\n",
       "      <th>emp_2</th>\n",
       "      <th>rel_score</th>\n",
       "    </tr>\n",
       "  </thead>\n",
       "  <tbody>\n",
       "    <tr>\n",
       "      <th>0</th>\n",
       "      <td>Andy</td>\n",
       "      <td>Claude</td>\n",
       "      <td>0</td>\n",
       "    </tr>\n",
       "    <tr>\n",
       "      <th>1</th>\n",
       "      <td>Andy</td>\n",
       "      <td>Frida</td>\n",
       "      <td>20</td>\n",
       "    </tr>\n",
       "    <tr>\n",
       "      <th>2</th>\n",
       "      <td>Andy</td>\n",
       "      <td>Georgia</td>\n",
       "      <td>-10</td>\n",
       "    </tr>\n",
       "    <tr>\n",
       "      <th>3</th>\n",
       "      <td>Andy</td>\n",
       "      <td>Joan</td>\n",
       "      <td>30</td>\n",
       "    </tr>\n",
       "    <tr>\n",
       "      <th>4</th>\n",
       "      <td>Andy</td>\n",
       "      <td>Lee</td>\n",
       "      <td>-10</td>\n",
       "    </tr>\n",
       "    <tr>\n",
       "      <th>5</th>\n",
       "      <td>Andy</td>\n",
       "      <td>Pablo</td>\n",
       "      <td>-10</td>\n",
       "    </tr>\n",
       "    <tr>\n",
       "      <th>6</th>\n",
       "      <td>Andy</td>\n",
       "      <td>Vincent</td>\n",
       "      <td>20</td>\n",
       "    </tr>\n",
       "    <tr>\n",
       "      <th>7</th>\n",
       "      <td>Claude</td>\n",
       "      <td>Frida</td>\n",
       "      <td>0</td>\n",
       "    </tr>\n",
       "    <tr>\n",
       "      <th>8</th>\n",
       "      <td>Claude</td>\n",
       "      <td>Georgia</td>\n",
       "      <td>90</td>\n",
       "    </tr>\n",
       "    <tr>\n",
       "      <th>9</th>\n",
       "      <td>Claude</td>\n",
       "      <td>Joan</td>\n",
       "      <td>0</td>\n",
       "    </tr>\n",
       "    <tr>\n",
       "      <th>10</th>\n",
       "      <td>Claude</td>\n",
       "      <td>Lee</td>\n",
       "      <td>0</td>\n",
       "    </tr>\n",
       "    <tr>\n",
       "      <th>11</th>\n",
       "      <td>Claude</td>\n",
       "      <td>Pablo</td>\n",
       "      <td>10</td>\n",
       "    </tr>\n",
       "    <tr>\n",
       "      <th>12</th>\n",
       "      <td>Claude</td>\n",
       "      <td>Vincent</td>\n",
       "      <td>0</td>\n",
       "    </tr>\n",
       "    <tr>\n",
       "      <th>13</th>\n",
       "      <td>Frida</td>\n",
       "      <td>Georgia</td>\n",
       "      <td>0</td>\n",
       "    </tr>\n",
       "    <tr>\n",
       "      <th>14</th>\n",
       "      <td>Frida</td>\n",
       "      <td>Joan</td>\n",
       "      <td>0</td>\n",
       "    </tr>\n",
       "    <tr>\n",
       "      <th>15</th>\n",
       "      <td>Frida</td>\n",
       "      <td>Lee</td>\n",
       "      <td>0</td>\n",
       "    </tr>\n",
       "    <tr>\n",
       "      <th>16</th>\n",
       "      <td>Frida</td>\n",
       "      <td>Pablo</td>\n",
       "      <td>50</td>\n",
       "    </tr>\n",
       "    <tr>\n",
       "      <th>17</th>\n",
       "      <td>Frida</td>\n",
       "      <td>Vincent</td>\n",
       "      <td>60</td>\n",
       "    </tr>\n",
       "    <tr>\n",
       "      <th>18</th>\n",
       "      <td>Georgia</td>\n",
       "      <td>Joan</td>\n",
       "      <td>0</td>\n",
       "    </tr>\n",
       "    <tr>\n",
       "      <th>19</th>\n",
       "      <td>Georgia</td>\n",
       "      <td>Lee</td>\n",
       "      <td>10</td>\n",
       "    </tr>\n",
       "    <tr>\n",
       "      <th>20</th>\n",
       "      <td>Georgia</td>\n",
       "      <td>Pablo</td>\n",
       "      <td>0</td>\n",
       "    </tr>\n",
       "    <tr>\n",
       "      <th>21</th>\n",
       "      <td>Georgia</td>\n",
       "      <td>Vincent</td>\n",
       "      <td>0</td>\n",
       "    </tr>\n",
       "    <tr>\n",
       "      <th>22</th>\n",
       "      <td>Joan</td>\n",
       "      <td>Lee</td>\n",
       "      <td>70</td>\n",
       "    </tr>\n",
       "    <tr>\n",
       "      <th>23</th>\n",
       "      <td>Joan</td>\n",
       "      <td>Pablo</td>\n",
       "      <td>0</td>\n",
       "    </tr>\n",
       "    <tr>\n",
       "      <th>24</th>\n",
       "      <td>Joan</td>\n",
       "      <td>Vincent</td>\n",
       "      <td>10</td>\n",
       "    </tr>\n",
       "    <tr>\n",
       "      <th>25</th>\n",
       "      <td>Lee</td>\n",
       "      <td>Pablo</td>\n",
       "      <td>0</td>\n",
       "    </tr>\n",
       "    <tr>\n",
       "      <th>26</th>\n",
       "      <td>Lee</td>\n",
       "      <td>Vincent</td>\n",
       "      <td>0</td>\n",
       "    </tr>\n",
       "    <tr>\n",
       "      <th>27</th>\n",
       "      <td>Pablo</td>\n",
       "      <td>Vincent</td>\n",
       "      <td>-20</td>\n",
       "    </tr>\n",
       "  </tbody>\n",
       "</table>\n",
       "</div>"
      ],
      "text/plain": [
       "      emp_1    emp_2  rel_score\n",
       "0      Andy   Claude          0\n",
       "1      Andy    Frida         20\n",
       "2      Andy  Georgia        -10\n",
       "3      Andy     Joan         30\n",
       "4      Andy      Lee        -10\n",
       "5      Andy    Pablo        -10\n",
       "6      Andy  Vincent         20\n",
       "7    Claude    Frida          0\n",
       "8    Claude  Georgia         90\n",
       "9    Claude     Joan          0\n",
       "10   Claude      Lee          0\n",
       "11   Claude    Pablo         10\n",
       "12   Claude  Vincent          0\n",
       "13    Frida  Georgia          0\n",
       "14    Frida     Joan          0\n",
       "15    Frida      Lee          0\n",
       "16    Frida    Pablo         50\n",
       "17    Frida  Vincent         60\n",
       "18  Georgia     Joan          0\n",
       "19  Georgia      Lee         10\n",
       "20  Georgia    Pablo          0\n",
       "21  Georgia  Vincent          0\n",
       "22     Joan      Lee         70\n",
       "23     Joan    Pablo          0\n",
       "24     Joan  Vincent         10\n",
       "25      Lee    Pablo          0\n",
       "26      Lee  Vincent          0\n",
       "27    Pablo  Vincent        -20"
      ]
     },
     "execution_count": 23,
     "metadata": {},
     "output_type": "execute_result"
    }
   ],
   "source": [
    "emp_rel"
   ]
  },
  {
   "cell_type": "code",
   "execution_count": 24,
   "metadata": {
    "execution": {
     "iopub.execute_input": "2023-02-18T00:25:32.551508Z",
     "iopub.status.busy": "2023-02-18T00:25:32.550520Z",
     "iopub.status.idle": "2023-02-18T00:25:32.558088Z",
     "shell.execute_reply": "2023-02-18T00:25:32.558088Z",
     "shell.execute_reply.started": "2023-02-18T00:25:32.551508Z"
    },
    "tags": []
   },
   "outputs": [
    {
     "data": {
      "text/plain": [
       "EdgeDataView([('Lee', 'Andy', {'weight': 1}), ('Lee', 'Joan', {'weight': 3}), ('Claude', 'Andy', {'weight': 1}), ('Claude', 'Georgia', {'weight': 3}), ('Joan', 'Andy', {'weight': 1}), ('Vincent', 'Pablo', {'weight': 1}), ('Vincent', 'Frida', {'weight': 2}), ('Andy', 'Georgia', {'weight': 1}), ('Andy', 'Pablo', {'weight': 1}), ('Andy', 'Frida', {'weight': 1}), ('Pablo', 'Frida', {'weight': 2})])"
      ]
     },
     "execution_count": 24,
     "metadata": {},
     "output_type": "execute_result"
    }
   ],
   "source": [
    "answer_three().edges(data = True)"
   ]
  },
  {
   "cell_type": "code",
   "execution_count": 25,
   "metadata": {
    "execution": {
     "iopub.execute_input": "2023-02-18T00:25:34.058227Z",
     "iopub.status.busy": "2023-02-18T00:25:34.058227Z",
     "iopub.status.idle": "2023-02-18T00:25:34.064203Z",
     "shell.execute_reply": "2023-02-18T00:25:34.064203Z",
     "shell.execute_reply.started": "2023-02-18T00:25:34.058227Z"
    },
    "tags": []
   },
   "outputs": [],
   "source": [
    "proj_graph_data = {\n",
    "    \"emp_1\": [],\n",
    "    \"emp_2\": [],\n",
    "    \"n_common_movies\": []\n",
    "}\n",
    "\n",
    "for edge in answer_three().edges(data = True):\n",
    "    proj_graph_data.get(\"emp_1\").append(edge[0])\n",
    "    proj_graph_data.get(\"emp_2\").append(edge[1])\n",
    "    proj_graph_data.get(\"n_common_movies\").append(edge[2].get(\"weight\"))"
   ]
  },
  {
   "cell_type": "code",
   "execution_count": 26,
   "metadata": {
    "execution": {
     "iopub.execute_input": "2023-02-18T00:25:34.353810Z",
     "iopub.status.busy": "2023-02-18T00:25:34.352804Z",
     "iopub.status.idle": "2023-02-18T00:25:34.359347Z",
     "shell.execute_reply": "2023-02-18T00:25:34.359347Z",
     "shell.execute_reply.started": "2023-02-18T00:25:34.353810Z"
    },
    "tags": []
   },
   "outputs": [
    {
     "data": {
      "text/plain": [
       "{'emp_1': ['Lee',\n",
       "  'Lee',\n",
       "  'Claude',\n",
       "  'Claude',\n",
       "  'Joan',\n",
       "  'Vincent',\n",
       "  'Vincent',\n",
       "  'Andy',\n",
       "  'Andy',\n",
       "  'Andy',\n",
       "  'Pablo'],\n",
       " 'emp_2': ['Andy',\n",
       "  'Joan',\n",
       "  'Andy',\n",
       "  'Georgia',\n",
       "  'Andy',\n",
       "  'Pablo',\n",
       "  'Frida',\n",
       "  'Georgia',\n",
       "  'Pablo',\n",
       "  'Frida',\n",
       "  'Frida'],\n",
       " 'n_common_movies': [1, 3, 1, 3, 1, 1, 2, 1, 1, 1, 2]}"
      ]
     },
     "execution_count": 26,
     "metadata": {},
     "output_type": "execute_result"
    }
   ],
   "source": [
    "proj_graph_data"
   ]
  },
  {
   "cell_type": "code",
   "execution_count": 32,
   "metadata": {
    "execution": {
     "iopub.execute_input": "2023-02-18T00:29:00.324778Z",
     "iopub.status.busy": "2023-02-18T00:29:00.323789Z",
     "iopub.status.idle": "2023-02-18T00:29:00.421580Z",
     "shell.execute_reply": "2023-02-18T00:29:00.421580Z",
     "shell.execute_reply.started": "2023-02-18T00:29:00.324778Z"
    },
    "tags": []
   },
   "outputs": [],
   "source": [
    "proj_df = pd.DataFrame(proj_graph_data).sort_values([\"emp_1\", \"emp_2\"])"
   ]
  },
  {
   "cell_type": "code",
   "execution_count": 33,
   "metadata": {
    "execution": {
     "iopub.execute_input": "2023-02-18T00:29:00.839817Z",
     "iopub.status.busy": "2023-02-18T00:29:00.839817Z",
     "iopub.status.idle": "2023-02-18T00:29:00.847995Z",
     "shell.execute_reply": "2023-02-18T00:29:00.847995Z",
     "shell.execute_reply.started": "2023-02-18T00:29:00.839817Z"
    },
    "tags": []
   },
   "outputs": [
    {
     "data": {
      "text/html": [
       "<div>\n",
       "<style scoped>\n",
       "    .dataframe tbody tr th:only-of-type {\n",
       "        vertical-align: middle;\n",
       "    }\n",
       "\n",
       "    .dataframe tbody tr th {\n",
       "        vertical-align: top;\n",
       "    }\n",
       "\n",
       "    .dataframe thead th {\n",
       "        text-align: right;\n",
       "    }\n",
       "</style>\n",
       "<table border=\"1\" class=\"dataframe\">\n",
       "  <thead>\n",
       "    <tr style=\"text-align: right;\">\n",
       "      <th></th>\n",
       "      <th>emp_1</th>\n",
       "      <th>emp_2</th>\n",
       "      <th>n_common_movies</th>\n",
       "    </tr>\n",
       "  </thead>\n",
       "  <tbody>\n",
       "    <tr>\n",
       "      <th>9</th>\n",
       "      <td>Andy</td>\n",
       "      <td>Frida</td>\n",
       "      <td>1</td>\n",
       "    </tr>\n",
       "    <tr>\n",
       "      <th>7</th>\n",
       "      <td>Andy</td>\n",
       "      <td>Georgia</td>\n",
       "      <td>1</td>\n",
       "    </tr>\n",
       "    <tr>\n",
       "      <th>8</th>\n",
       "      <td>Andy</td>\n",
       "      <td>Pablo</td>\n",
       "      <td>1</td>\n",
       "    </tr>\n",
       "    <tr>\n",
       "      <th>2</th>\n",
       "      <td>Claude</td>\n",
       "      <td>Andy</td>\n",
       "      <td>1</td>\n",
       "    </tr>\n",
       "    <tr>\n",
       "      <th>3</th>\n",
       "      <td>Claude</td>\n",
       "      <td>Georgia</td>\n",
       "      <td>3</td>\n",
       "    </tr>\n",
       "    <tr>\n",
       "      <th>4</th>\n",
       "      <td>Joan</td>\n",
       "      <td>Andy</td>\n",
       "      <td>1</td>\n",
       "    </tr>\n",
       "    <tr>\n",
       "      <th>0</th>\n",
       "      <td>Lee</td>\n",
       "      <td>Andy</td>\n",
       "      <td>1</td>\n",
       "    </tr>\n",
       "    <tr>\n",
       "      <th>1</th>\n",
       "      <td>Lee</td>\n",
       "      <td>Joan</td>\n",
       "      <td>3</td>\n",
       "    </tr>\n",
       "    <tr>\n",
       "      <th>10</th>\n",
       "      <td>Pablo</td>\n",
       "      <td>Frida</td>\n",
       "      <td>2</td>\n",
       "    </tr>\n",
       "    <tr>\n",
       "      <th>6</th>\n",
       "      <td>Vincent</td>\n",
       "      <td>Frida</td>\n",
       "      <td>2</td>\n",
       "    </tr>\n",
       "    <tr>\n",
       "      <th>5</th>\n",
       "      <td>Vincent</td>\n",
       "      <td>Pablo</td>\n",
       "      <td>1</td>\n",
       "    </tr>\n",
       "  </tbody>\n",
       "</table>\n",
       "</div>"
      ],
      "text/plain": [
       "      emp_1    emp_2  n_common_movies\n",
       "9      Andy    Frida                1\n",
       "7      Andy  Georgia                1\n",
       "8      Andy    Pablo                1\n",
       "2    Claude     Andy                1\n",
       "3    Claude  Georgia                3\n",
       "4      Joan     Andy                1\n",
       "0       Lee     Andy                1\n",
       "1       Lee     Joan                3\n",
       "10    Pablo    Frida                2\n",
       "6   Vincent    Frida                2\n",
       "5   Vincent    Pablo                1"
      ]
     },
     "execution_count": 33,
     "metadata": {},
     "output_type": "execute_result"
    }
   ],
   "source": [
    "proj_df"
   ]
  },
  {
   "cell_type": "code",
   "execution_count": 29,
   "metadata": {
    "execution": {
     "iopub.execute_input": "2023-02-18T00:26:04.661757Z",
     "iopub.status.busy": "2023-02-18T00:26:04.661757Z",
     "iopub.status.idle": "2023-02-18T00:26:04.669223Z",
     "shell.execute_reply": "2023-02-18T00:26:04.668214Z",
     "shell.execute_reply.started": "2023-02-18T00:26:04.661757Z"
    },
    "tags": []
   },
   "outputs": [
    {
     "data": {
      "text/html": [
       "<div>\n",
       "<style scoped>\n",
       "    .dataframe tbody tr th:only-of-type {\n",
       "        vertical-align: middle;\n",
       "    }\n",
       "\n",
       "    .dataframe tbody tr th {\n",
       "        vertical-align: top;\n",
       "    }\n",
       "\n",
       "    .dataframe thead th {\n",
       "        text-align: right;\n",
       "    }\n",
       "</style>\n",
       "<table border=\"1\" class=\"dataframe\">\n",
       "  <thead>\n",
       "    <tr style=\"text-align: right;\">\n",
       "      <th></th>\n",
       "      <th>emp_1</th>\n",
       "      <th>emp_2</th>\n",
       "      <th>rel_score</th>\n",
       "    </tr>\n",
       "  </thead>\n",
       "  <tbody>\n",
       "    <tr>\n",
       "      <th>0</th>\n",
       "      <td>Andy</td>\n",
       "      <td>Claude</td>\n",
       "      <td>0</td>\n",
       "    </tr>\n",
       "    <tr>\n",
       "      <th>1</th>\n",
       "      <td>Andy</td>\n",
       "      <td>Frida</td>\n",
       "      <td>20</td>\n",
       "    </tr>\n",
       "    <tr>\n",
       "      <th>2</th>\n",
       "      <td>Andy</td>\n",
       "      <td>Georgia</td>\n",
       "      <td>-10</td>\n",
       "    </tr>\n",
       "    <tr>\n",
       "      <th>3</th>\n",
       "      <td>Andy</td>\n",
       "      <td>Joan</td>\n",
       "      <td>30</td>\n",
       "    </tr>\n",
       "    <tr>\n",
       "      <th>4</th>\n",
       "      <td>Andy</td>\n",
       "      <td>Lee</td>\n",
       "      <td>-10</td>\n",
       "    </tr>\n",
       "  </tbody>\n",
       "</table>\n",
       "</div>"
      ],
      "text/plain": [
       "  emp_1    emp_2  rel_score\n",
       "0  Andy   Claude          0\n",
       "1  Andy    Frida         20\n",
       "2  Andy  Georgia        -10\n",
       "3  Andy     Joan         30\n",
       "4  Andy      Lee        -10"
      ]
     },
     "execution_count": 29,
     "metadata": {},
     "output_type": "execute_result"
    }
   ],
   "source": [
    "emp_rel.head()"
   ]
  },
  {
   "cell_type": "markdown",
   "metadata": {},
   "source": [
    "# ***Our job here is to merge these two dataframes where a person being emp_1 or emp_2 should not have any impact on merging as long as two people are connected by a shared movie***"
   ]
  },
  {
   "cell_type": "markdown",
   "metadata": {},
   "source": [
    "The problem appears to be that in the graph data, the direction did not matter (undirected graph) since the relationship is friendship (symmetric)\n",
    "but pandas merge function expects the employee columns to be in order..\n",
    "i.e. it is totally ok for two names to not be in order for us, but not for pandas if it to consider the pair identical\n",
    "e.g. if \"John\" is in emp_1 and \"Lennon\"  in emp_2 in the first dataframe and \"Lennon\" is in emp_1 and \"John\" is in emp_1 in the second dataframe\n",
    "pandas won't consider merging them, but we do want these rows to be merged :((("
   ]
  },
  {
   "cell_type": "code",
   "execution_count": 36,
   "metadata": {
    "execution": {
     "iopub.execute_input": "2023-02-18T00:41:14.197003Z",
     "iopub.status.busy": "2023-02-18T00:41:14.196005Z",
     "iopub.status.idle": "2023-02-18T00:41:14.201398Z",
     "shell.execute_reply": "2023-02-18T00:41:14.201398Z",
     "shell.execute_reply.started": "2023-02-18T00:41:14.197003Z"
    },
    "tags": []
   },
   "outputs": [
    {
     "data": {
      "text/plain": [
       "True"
      ]
     },
     "execution_count": 36,
     "metadata": {},
     "output_type": "execute_result"
    }
   ],
   "source": [
    "np.isnan(np.nan)"
   ]
  },
  {
   "cell_type": "code",
   "execution_count": 41,
   "metadata": {
    "execution": {
     "iopub.execute_input": "2023-02-18T00:58:00.472865Z",
     "iopub.status.busy": "2023-02-18T00:58:00.472865Z",
     "iopub.status.idle": "2023-02-18T00:58:00.480537Z",
     "shell.execute_reply": "2023-02-18T00:58:00.479522Z",
     "shell.execute_reply.started": "2023-02-18T00:58:00.472865Z"
    },
    "tags": []
   },
   "outputs": [],
   "source": [
    "def fill_df(dframe: pd.DataFrame) -> pd.DataFrame:\n",
    "    \n",
    "    emp_relations = pd.read_csv(r\"assets/Employee_Relationships.txt\", delimiter = \"\\t\", names = [\"emp_1\", \"emp_2\", \"rel_score\"])\n",
    "    original_emp_pairs = list(zip(emp_relations.emp_1, emp_relations.emp_2))\n",
    "    data = dframe\n",
    "    \n",
    "    employees = list(zip(data.emp_1, data.emp_2))\n",
    "    \n",
    "    for reference_row in range(data.shape[0]):\n",
    "        \n",
    "        reference_pair = employees[reference_row]\n",
    "        \n",
    "        for lookup_offset in range(reference_row, data.shape[0]):\n",
    "            \n",
    "            lookup_pair = employees[lookup_offset]\n",
    "            \n",
    "            if (reference_pair[0] == lookup_pair[1]) and (reference_pair[1] == lookup_pair[0]):\n",
    "                \n",
    "                if np.isnan(data.rel_score[reference_row]):\n",
    "                    data.rel_score[reference_row] = data.rel_score[lookup_offset]\n",
    "                elif np.isnan(data.rel_score[lookup_offset]):\n",
    "                    data.rel_score[lookup_offset] = data.rel_score[reference_row]\n",
    "                    \n",
    "                if np.isnan(data.n_common_movies[reference_row]):\n",
    "                    data.n_common_movies[reference_row] = data.n_common_movies[lookup_offset]\n",
    "                elif np.isnan(data.n_common_movies[lookup_offset]):\n",
    "                    data.n_common_movies[lookup_offset] = data.n_common_movies[reference_row]\n",
    "                    \n",
    "        if reference_pair not in original_emp_pairs:\n",
    "            tmp = data.emp_1[reference_row]\n",
    "            data.emp_1[reference_row] = data.emp_2[reference_row]\n",
    "            data.emp_2[reference_row] = tmp\n",
    "                \n",
    "    return data"
   ]
  },
  {
   "cell_type": "code",
   "execution_count": 42,
   "metadata": {
    "execution": {
     "iopub.execute_input": "2023-02-18T00:58:00.896817Z",
     "iopub.status.busy": "2023-02-18T00:58:00.896817Z",
     "iopub.status.idle": "2023-02-18T00:58:00.907449Z",
     "shell.execute_reply": "2023-02-18T00:58:00.907449Z",
     "shell.execute_reply.started": "2023-02-18T00:58:00.896817Z"
    },
    "tags": []
   },
   "outputs": [
    {
     "data": {
      "text/html": [
       "<div>\n",
       "<style scoped>\n",
       "    .dataframe tbody tr th:only-of-type {\n",
       "        vertical-align: middle;\n",
       "    }\n",
       "\n",
       "    .dataframe tbody tr th {\n",
       "        vertical-align: top;\n",
       "    }\n",
       "\n",
       "    .dataframe thead th {\n",
       "        text-align: right;\n",
       "    }\n",
       "</style>\n",
       "<table border=\"1\" class=\"dataframe\">\n",
       "  <thead>\n",
       "    <tr style=\"text-align: right;\">\n",
       "      <th></th>\n",
       "      <th>emp_1</th>\n",
       "      <th>emp_2</th>\n",
       "      <th>rel_score</th>\n",
       "      <th>n_common_movies</th>\n",
       "    </tr>\n",
       "  </thead>\n",
       "  <tbody>\n",
       "    <tr>\n",
       "      <th>0</th>\n",
       "      <td>Andy</td>\n",
       "      <td>Claude</td>\n",
       "      <td>0.0</td>\n",
       "      <td>NaN</td>\n",
       "    </tr>\n",
       "    <tr>\n",
       "      <th>1</th>\n",
       "      <td>Andy</td>\n",
       "      <td>Frida</td>\n",
       "      <td>20.0</td>\n",
       "      <td>1.0</td>\n",
       "    </tr>\n",
       "    <tr>\n",
       "      <th>2</th>\n",
       "      <td>Andy</td>\n",
       "      <td>Georgia</td>\n",
       "      <td>-10.0</td>\n",
       "      <td>1.0</td>\n",
       "    </tr>\n",
       "    <tr>\n",
       "      <th>3</th>\n",
       "      <td>Andy</td>\n",
       "      <td>Joan</td>\n",
       "      <td>30.0</td>\n",
       "      <td>NaN</td>\n",
       "    </tr>\n",
       "    <tr>\n",
       "      <th>4</th>\n",
       "      <td>Andy</td>\n",
       "      <td>Lee</td>\n",
       "      <td>-10.0</td>\n",
       "      <td>NaN</td>\n",
       "    </tr>\n",
       "  </tbody>\n",
       "</table>\n",
       "</div>"
      ],
      "text/plain": [
       "  emp_1    emp_2  rel_score  n_common_movies\n",
       "0  Andy   Claude        0.0              NaN\n",
       "1  Andy    Frida       20.0              1.0\n",
       "2  Andy  Georgia      -10.0              1.0\n",
       "3  Andy     Joan       30.0              NaN\n",
       "4  Andy      Lee      -10.0              NaN"
      ]
     },
     "execution_count": 42,
     "metadata": {},
     "output_type": "execute_result"
    }
   ],
   "source": [
    "df = pd.merge(emp_rel, proj_df, left_on = [\"emp_1\", \"emp_2\"], right_on = [\"emp_1\", \"emp_2\"], how = \"outer\")\n",
    "df.head()"
   ]
  },
  {
   "cell_type": "code",
   "execution_count": 44,
   "metadata": {
    "execution": {
     "iopub.execute_input": "2023-02-18T00:58:43.239046Z",
     "iopub.status.busy": "2023-02-18T00:58:43.238136Z",
     "iopub.status.idle": "2023-02-18T00:58:43.253324Z",
     "shell.execute_reply": "2023-02-18T00:58:43.253324Z",
     "shell.execute_reply.started": "2023-02-18T00:58:43.238136Z"
    },
    "tags": []
   },
   "outputs": [
    {
     "data": {
      "text/html": [
       "<div>\n",
       "<style scoped>\n",
       "    .dataframe tbody tr th:only-of-type {\n",
       "        vertical-align: middle;\n",
       "    }\n",
       "\n",
       "    .dataframe tbody tr th {\n",
       "        vertical-align: top;\n",
       "    }\n",
       "\n",
       "    .dataframe thead th {\n",
       "        text-align: right;\n",
       "    }\n",
       "</style>\n",
       "<table border=\"1\" class=\"dataframe\">\n",
       "  <thead>\n",
       "    <tr style=\"text-align: right;\">\n",
       "      <th></th>\n",
       "      <th>emp_1</th>\n",
       "      <th>emp_2</th>\n",
       "      <th>rel_score</th>\n",
       "      <th>n_common_movies</th>\n",
       "    </tr>\n",
       "  </thead>\n",
       "  <tbody>\n",
       "    <tr>\n",
       "      <th>0</th>\n",
       "      <td>Andy</td>\n",
       "      <td>Claude</td>\n",
       "      <td>0.0</td>\n",
       "      <td>1.0</td>\n",
       "    </tr>\n",
       "    <tr>\n",
       "      <th>1</th>\n",
       "      <td>Andy</td>\n",
       "      <td>Frida</td>\n",
       "      <td>20.0</td>\n",
       "      <td>1.0</td>\n",
       "    </tr>\n",
       "    <tr>\n",
       "      <th>2</th>\n",
       "      <td>Andy</td>\n",
       "      <td>Georgia</td>\n",
       "      <td>-10.0</td>\n",
       "      <td>1.0</td>\n",
       "    </tr>\n",
       "    <tr>\n",
       "      <th>3</th>\n",
       "      <td>Andy</td>\n",
       "      <td>Joan</td>\n",
       "      <td>30.0</td>\n",
       "      <td>1.0</td>\n",
       "    </tr>\n",
       "    <tr>\n",
       "      <th>4</th>\n",
       "      <td>Andy</td>\n",
       "      <td>Lee</td>\n",
       "      <td>-10.0</td>\n",
       "      <td>1.0</td>\n",
       "    </tr>\n",
       "    <tr>\n",
       "      <th>5</th>\n",
       "      <td>Andy</td>\n",
       "      <td>Pablo</td>\n",
       "      <td>-10.0</td>\n",
       "      <td>1.0</td>\n",
       "    </tr>\n",
       "    <tr>\n",
       "      <th>6</th>\n",
       "      <td>Andy</td>\n",
       "      <td>Vincent</td>\n",
       "      <td>20.0</td>\n",
       "      <td>0.0</td>\n",
       "    </tr>\n",
       "    <tr>\n",
       "      <th>7</th>\n",
       "      <td>Claude</td>\n",
       "      <td>Frida</td>\n",
       "      <td>0.0</td>\n",
       "      <td>0.0</td>\n",
       "    </tr>\n",
       "    <tr>\n",
       "      <th>8</th>\n",
       "      <td>Claude</td>\n",
       "      <td>Georgia</td>\n",
       "      <td>90.0</td>\n",
       "      <td>3.0</td>\n",
       "    </tr>\n",
       "    <tr>\n",
       "      <th>9</th>\n",
       "      <td>Claude</td>\n",
       "      <td>Joan</td>\n",
       "      <td>0.0</td>\n",
       "      <td>0.0</td>\n",
       "    </tr>\n",
       "    <tr>\n",
       "      <th>10</th>\n",
       "      <td>Claude</td>\n",
       "      <td>Lee</td>\n",
       "      <td>0.0</td>\n",
       "      <td>0.0</td>\n",
       "    </tr>\n",
       "    <tr>\n",
       "      <th>11</th>\n",
       "      <td>Claude</td>\n",
       "      <td>Pablo</td>\n",
       "      <td>10.0</td>\n",
       "      <td>0.0</td>\n",
       "    </tr>\n",
       "    <tr>\n",
       "      <th>12</th>\n",
       "      <td>Claude</td>\n",
       "      <td>Vincent</td>\n",
       "      <td>0.0</td>\n",
       "      <td>0.0</td>\n",
       "    </tr>\n",
       "    <tr>\n",
       "      <th>13</th>\n",
       "      <td>Frida</td>\n",
       "      <td>Georgia</td>\n",
       "      <td>0.0</td>\n",
       "      <td>0.0</td>\n",
       "    </tr>\n",
       "    <tr>\n",
       "      <th>14</th>\n",
       "      <td>Frida</td>\n",
       "      <td>Joan</td>\n",
       "      <td>0.0</td>\n",
       "      <td>0.0</td>\n",
       "    </tr>\n",
       "    <tr>\n",
       "      <th>15</th>\n",
       "      <td>Frida</td>\n",
       "      <td>Lee</td>\n",
       "      <td>0.0</td>\n",
       "      <td>0.0</td>\n",
       "    </tr>\n",
       "    <tr>\n",
       "      <th>16</th>\n",
       "      <td>Frida</td>\n",
       "      <td>Pablo</td>\n",
       "      <td>50.0</td>\n",
       "      <td>2.0</td>\n",
       "    </tr>\n",
       "    <tr>\n",
       "      <th>17</th>\n",
       "      <td>Frida</td>\n",
       "      <td>Vincent</td>\n",
       "      <td>60.0</td>\n",
       "      <td>2.0</td>\n",
       "    </tr>\n",
       "    <tr>\n",
       "      <th>18</th>\n",
       "      <td>Georgia</td>\n",
       "      <td>Joan</td>\n",
       "      <td>0.0</td>\n",
       "      <td>0.0</td>\n",
       "    </tr>\n",
       "    <tr>\n",
       "      <th>19</th>\n",
       "      <td>Georgia</td>\n",
       "      <td>Lee</td>\n",
       "      <td>10.0</td>\n",
       "      <td>0.0</td>\n",
       "    </tr>\n",
       "    <tr>\n",
       "      <th>20</th>\n",
       "      <td>Georgia</td>\n",
       "      <td>Pablo</td>\n",
       "      <td>0.0</td>\n",
       "      <td>0.0</td>\n",
       "    </tr>\n",
       "    <tr>\n",
       "      <th>21</th>\n",
       "      <td>Georgia</td>\n",
       "      <td>Vincent</td>\n",
       "      <td>0.0</td>\n",
       "      <td>0.0</td>\n",
       "    </tr>\n",
       "    <tr>\n",
       "      <th>22</th>\n",
       "      <td>Joan</td>\n",
       "      <td>Lee</td>\n",
       "      <td>70.0</td>\n",
       "      <td>3.0</td>\n",
       "    </tr>\n",
       "    <tr>\n",
       "      <th>23</th>\n",
       "      <td>Joan</td>\n",
       "      <td>Pablo</td>\n",
       "      <td>0.0</td>\n",
       "      <td>0.0</td>\n",
       "    </tr>\n",
       "    <tr>\n",
       "      <th>24</th>\n",
       "      <td>Joan</td>\n",
       "      <td>Vincent</td>\n",
       "      <td>10.0</td>\n",
       "      <td>0.0</td>\n",
       "    </tr>\n",
       "    <tr>\n",
       "      <th>25</th>\n",
       "      <td>Lee</td>\n",
       "      <td>Pablo</td>\n",
       "      <td>0.0</td>\n",
       "      <td>0.0</td>\n",
       "    </tr>\n",
       "    <tr>\n",
       "      <th>26</th>\n",
       "      <td>Lee</td>\n",
       "      <td>Vincent</td>\n",
       "      <td>0.0</td>\n",
       "      <td>0.0</td>\n",
       "    </tr>\n",
       "    <tr>\n",
       "      <th>27</th>\n",
       "      <td>Pablo</td>\n",
       "      <td>Vincent</td>\n",
       "      <td>-20.0</td>\n",
       "      <td>1.0</td>\n",
       "    </tr>\n",
       "  </tbody>\n",
       "</table>\n",
       "</div>"
      ],
      "text/plain": [
       "      emp_1    emp_2  rel_score  n_common_movies\n",
       "0      Andy   Claude        0.0              1.0\n",
       "1      Andy    Frida       20.0              1.0\n",
       "2      Andy  Georgia      -10.0              1.0\n",
       "3      Andy     Joan       30.0              1.0\n",
       "4      Andy      Lee      -10.0              1.0\n",
       "5      Andy    Pablo      -10.0              1.0\n",
       "6      Andy  Vincent       20.0              0.0\n",
       "7    Claude    Frida        0.0              0.0\n",
       "8    Claude  Georgia       90.0              3.0\n",
       "9    Claude     Joan        0.0              0.0\n",
       "10   Claude      Lee        0.0              0.0\n",
       "11   Claude    Pablo       10.0              0.0\n",
       "12   Claude  Vincent        0.0              0.0\n",
       "13    Frida  Georgia        0.0              0.0\n",
       "14    Frida     Joan        0.0              0.0\n",
       "15    Frida      Lee        0.0              0.0\n",
       "16    Frida    Pablo       50.0              2.0\n",
       "17    Frida  Vincent       60.0              2.0\n",
       "18  Georgia     Joan        0.0              0.0\n",
       "19  Georgia      Lee       10.0              0.0\n",
       "20  Georgia    Pablo        0.0              0.0\n",
       "21  Georgia  Vincent        0.0              0.0\n",
       "22     Joan      Lee       70.0              3.0\n",
       "23     Joan    Pablo        0.0              0.0\n",
       "24     Joan  Vincent       10.0              0.0\n",
       "25      Lee    Pablo        0.0              0.0\n",
       "26      Lee  Vincent        0.0              0.0\n",
       "27    Pablo  Vincent      -20.0              1.0"
      ]
     },
     "execution_count": 44,
     "metadata": {},
     "output_type": "execute_result"
    }
   ],
   "source": [
    "fill_df(df).drop_duplicates().fillna(0)"
   ]
  },
  {
   "cell_type": "code",
   "execution_count": 88,
   "metadata": {
    "execution": {
     "iopub.execute_input": "2023-02-16T21:15:34.456929Z",
     "iopub.status.busy": "2023-02-16T21:15:34.456929Z",
     "iopub.status.idle": "2023-02-16T21:15:34.465980Z",
     "shell.execute_reply": "2023-02-16T21:15:34.464973Z",
     "shell.execute_reply.started": "2023-02-16T21:15:34.456929Z"
    },
    "tags": []
   },
   "outputs": [
    {
     "data": {
      "text/html": [
       "<div>\n",
       "<style scoped>\n",
       "    .dataframe tbody tr th:only-of-type {\n",
       "        vertical-align: middle;\n",
       "    }\n",
       "\n",
       "    .dataframe tbody tr th {\n",
       "        vertical-align: top;\n",
       "    }\n",
       "\n",
       "    .dataframe thead th {\n",
       "        text-align: right;\n",
       "    }\n",
       "</style>\n",
       "<table border=\"1\" class=\"dataframe\">\n",
       "  <thead>\n",
       "    <tr style=\"text-align: right;\">\n",
       "      <th></th>\n",
       "      <th>emp_1</th>\n",
       "      <th>emp_2</th>\n",
       "      <th>n_common_movies</th>\n",
       "    </tr>\n",
       "  </thead>\n",
       "  <tbody>\n",
       "    <tr>\n",
       "      <th>0</th>\n",
       "      <td>Andy</td>\n",
       "      <td>Andy</td>\n",
       "      <td>1</td>\n",
       "    </tr>\n",
       "    <tr>\n",
       "      <th>1</th>\n",
       "      <td>Joan</td>\n",
       "      <td>Joan</td>\n",
       "      <td>3</td>\n",
       "    </tr>\n",
       "    <tr>\n",
       "      <th>2</th>\n",
       "      <td>Andy</td>\n",
       "      <td>Andy</td>\n",
       "      <td>1</td>\n",
       "    </tr>\n",
       "    <tr>\n",
       "      <th>3</th>\n",
       "      <td>Frida</td>\n",
       "      <td>Frida</td>\n",
       "      <td>2</td>\n",
       "    </tr>\n",
       "    <tr>\n",
       "      <th>4</th>\n",
       "      <td>Vincent</td>\n",
       "      <td>Vincent</td>\n",
       "      <td>1</td>\n",
       "    </tr>\n",
       "    <tr>\n",
       "      <th>5</th>\n",
       "      <td>Joan</td>\n",
       "      <td>Joan</td>\n",
       "      <td>1</td>\n",
       "    </tr>\n",
       "    <tr>\n",
       "      <th>6</th>\n",
       "      <td>Claude</td>\n",
       "      <td>Claude</td>\n",
       "      <td>1</td>\n",
       "    </tr>\n",
       "    <tr>\n",
       "      <th>7</th>\n",
       "      <td>Georgia</td>\n",
       "      <td>Georgia</td>\n",
       "      <td>1</td>\n",
       "    </tr>\n",
       "    <tr>\n",
       "      <th>8</th>\n",
       "      <td>Frida</td>\n",
       "      <td>Frida</td>\n",
       "      <td>1</td>\n",
       "    </tr>\n",
       "    <tr>\n",
       "      <th>9</th>\n",
       "      <td>Frida</td>\n",
       "      <td>Frida</td>\n",
       "      <td>2</td>\n",
       "    </tr>\n",
       "    <tr>\n",
       "      <th>10</th>\n",
       "      <td>Georgia</td>\n",
       "      <td>Georgia</td>\n",
       "      <td>3</td>\n",
       "    </tr>\n",
       "  </tbody>\n",
       "</table>\n",
       "</div>"
      ],
      "text/plain": [
       "      emp_1    emp_2  n_common_movies\n",
       "0      Andy     Andy                1\n",
       "1      Joan     Joan                3\n",
       "2      Andy     Andy                1\n",
       "3     Frida    Frida                2\n",
       "4   Vincent  Vincent                1\n",
       "5      Joan     Joan                1\n",
       "6    Claude   Claude                1\n",
       "7   Georgia  Georgia                1\n",
       "8     Frida    Frida                1\n",
       "9     Frida    Frida                2\n",
       "10  Georgia  Georgia                3"
      ]
     },
     "execution_count": 88,
     "metadata": {},
     "output_type": "execute_result"
    }
   ],
   "source": [
    "proj_df_swapped"
   ]
  },
  {
   "cell_type": "code",
   "execution_count": 49,
   "metadata": {
    "deletable": false,
    "execution": {
     "iopub.execute_input": "2023-02-18T01:06:48.600048Z",
     "iopub.status.busy": "2023-02-18T01:06:48.599122Z",
     "iopub.status.idle": "2023-02-18T01:06:48.607352Z",
     "shell.execute_reply": "2023-02-18T01:06:48.607352Z",
     "shell.execute_reply.started": "2023-02-18T01:06:48.600048Z"
    },
    "nbgrader": {
     "cell_type": "code",
     "checksum": "2b46a672ad43d429dc76893d15b8e76a",
     "grade": false,
     "grade_id": "cell-6c1b9a8d087e47c8",
     "locked": false,
     "schema_version": 3,
     "solution": true,
     "task": false
    },
    "tags": []
   },
   "outputs": [],
   "source": [
    "def answer_four():\n",
    "    import scipy.stats as stats\n",
    "    emp_relations = pd.read_csv(r\"assets/Employee_Relationships.txt\", delimiter = \"\\t\", names = [\"emp_1\", \"emp_2\", \"rel_score\"])\n",
    "\n",
    "    def fill_df(dframe: pd.DataFrame) -> pd.DataFrame:\n",
    "    \n",
    "        \n",
    "        original_emp_pairs = list(zip(emp_relations.emp_1, emp_relations.emp_2))\n",
    "        data = dframe\n",
    "\n",
    "        employees = list(zip(data.emp_1, data.emp_2))\n",
    "\n",
    "        for reference_row in range(data.shape[0]):\n",
    "\n",
    "            reference_pair = employees[reference_row]\n",
    "\n",
    "            for lookup_offset in range(reference_row, data.shape[0]):\n",
    "\n",
    "                lookup_pair = employees[lookup_offset]\n",
    "\n",
    "                if (reference_pair[0] == lookup_pair[1]) and (reference_pair[1] == lookup_pair[0]):\n",
    "\n",
    "                    if np.isnan(data.rel_score[reference_row]):\n",
    "                        data.rel_score[reference_row] = data.rel_score[lookup_offset]\n",
    "                    elif np.isnan(data.rel_score[lookup_offset]):\n",
    "                        data.rel_score[lookup_offset] = data.rel_score[reference_row]\n",
    "\n",
    "                    if np.isnan(data.n_common_movies[reference_row]):\n",
    "                        data.n_common_movies[reference_row] = data.n_common_movies[lookup_offset]\n",
    "                    elif np.isnan(data.n_common_movies[lookup_offset]):\n",
    "                        data.n_common_movies[lookup_offset] = data.n_common_movies[reference_row]\n",
    "\n",
    "            if reference_pair not in original_emp_pairs:\n",
    "                tmp = data.emp_1[reference_row]\n",
    "                data.emp_1[reference_row] = data.emp_2[reference_row]\n",
    "                data.emp_2[reference_row] = tmp\n",
    "\n",
    "        return data\n",
    "    \n",
    "    proj_graph_data = {\n",
    "    \"emp_1\": [],\n",
    "    \"emp_2\": [],\n",
    "    \"n_common_movies\": []\n",
    "    }\n",
    "\n",
    "    for edge in answer_three().edges(data = True):\n",
    "        proj_graph_data.get(\"emp_1\").append(edge[0])\n",
    "        proj_graph_data.get(\"emp_2\").append(edge[1])\n",
    "        proj_graph_data.get(\"n_common_movies\").append(edge[2].get(\"weight\"))\n",
    "    \n",
    "    proj_graph_df = pd.DataFrame(proj_graph_data)\n",
    "    merge = pd.merge(emp_relations, proj_graph_df, left_on = [\"emp_1\", \"emp_2\"], right_on = [\"emp_1\", \"emp_2\"], how = \"outer\")\n",
    "    \n",
    "    merge = fill_df(merge).drop_duplicates().fillna(0)\n",
    "    \n",
    "    return stats.pearsonr(merge.n_common_movies, merge.rel_score)[0]\n",
    "    "
   ]
  },
  {
   "cell_type": "code",
   "execution_count": 50,
   "metadata": {
    "execution": {
     "iopub.execute_input": "2023-02-18T01:06:49.247573Z",
     "iopub.status.busy": "2023-02-18T01:06:49.246570Z",
     "iopub.status.idle": "2023-02-18T01:06:49.443849Z",
     "shell.execute_reply": "2023-02-18T01:06:49.442838Z",
     "shell.execute_reply.started": "2023-02-18T01:06:49.247573Z"
    },
    "tags": []
   },
   "outputs": [
    {
     "name": "stderr",
     "output_type": "stream",
     "text": [
      "C:\\Users\\Anoban\\AppData\\Local\\Temp\\ipykernel_1552\\640813337.py:26: SettingWithCopyWarning: \n",
      "A value is trying to be set on a copy of a slice from a DataFrame\n",
      "\n",
      "See the caveats in the documentation: https://pandas.pydata.org/pandas-docs/stable/user_guide/indexing.html#returning-a-view-versus-a-copy\n",
      "  data.rel_score[lookup_offset] = data.rel_score[reference_row]\n",
      "C:\\Users\\Anoban\\AppData\\Local\\Temp\\ipykernel_1552\\640813337.py:29: SettingWithCopyWarning: \n",
      "A value is trying to be set on a copy of a slice from a DataFrame\n",
      "\n",
      "See the caveats in the documentation: https://pandas.pydata.org/pandas-docs/stable/user_guide/indexing.html#returning-a-view-versus-a-copy\n",
      "  data.n_common_movies[reference_row] = data.n_common_movies[lookup_offset]\n",
      "C:\\Users\\Anoban\\AppData\\Local\\Temp\\ipykernel_1552\\640813337.py:35: SettingWithCopyWarning: \n",
      "A value is trying to be set on a copy of a slice from a DataFrame\n",
      "\n",
      "See the caveats in the documentation: https://pandas.pydata.org/pandas-docs/stable/user_guide/indexing.html#returning-a-view-versus-a-copy\n",
      "  data.emp_1[reference_row] = data.emp_2[reference_row]\n",
      "C:\\Users\\Anoban\\AppData\\Local\\Temp\\ipykernel_1552\\640813337.py:36: SettingWithCopyWarning: \n",
      "A value is trying to be set on a copy of a slice from a DataFrame\n",
      "\n",
      "See the caveats in the documentation: https://pandas.pydata.org/pandas-docs/stable/user_guide/indexing.html#returning-a-view-versus-a-copy\n",
      "  data.emp_2[reference_row] = tmp\n"
     ]
    },
    {
     "data": {
      "text/plain": [
       "0.7883962221733475"
      ]
     },
     "execution_count": 50,
     "metadata": {},
     "output_type": "execute_result"
    }
   ],
   "source": [
    "answer_four()"
   ]
  },
  {
   "cell_type": "code",
   "execution_count": 116,
   "metadata": {
    "deletable": false,
    "editable": false,
    "execution": {
     "iopub.execute_input": "2023-02-12T04:24:17.001593Z",
     "iopub.status.busy": "2023-02-12T04:24:17.001593Z",
     "iopub.status.idle": "2023-02-12T04:24:17.014010Z",
     "shell.execute_reply": "2023-02-12T04:24:17.012997Z",
     "shell.execute_reply.started": "2023-02-12T04:24:17.001593Z"
    },
    "nbgrader": {
     "cell_type": "code",
     "checksum": "a77b0d29ae15deba7b0ad67c71334004",
     "grade": true,
     "grade_id": "cell-b7b288e5ac139702",
     "locked": true,
     "points": 4,
     "schema_version": 3,
     "solution": false,
     "task": false
    },
    "tags": []
   },
   "outputs": [],
   "source": [
    "ans_four = answer_four()"
   ]
  },
  {
   "cell_type": "code",
   "execution_count": null,
   "metadata": {},
   "outputs": [],
   "source": []
  }
 ],
 "metadata": {
  "anaconda-cloud": {},
  "coursera": {
   "schema_names": [
    "mooc_adswpy_v1_assignment1"
   ]
  },
  "kernelspec": {
   "display_name": "Python 3 (ipykernel)",
   "language": "python",
   "name": "python3"
  },
  "language_info": {
   "codemirror_mode": {
    "name": "ipython",
    "version": 3
   },
   "file_extension": ".py",
   "mimetype": "text/x-python",
   "name": "python",
   "nbconvert_exporter": "python",
   "pygments_lexer": "ipython3",
   "version": "3.11.2"
  }
 },
 "nbformat": 4,
 "nbformat_minor": 4
}
