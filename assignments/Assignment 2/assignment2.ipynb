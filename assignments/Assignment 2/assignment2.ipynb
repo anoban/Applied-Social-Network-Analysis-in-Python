{
 "cells": [
  {
   "cell_type": "markdown",
   "metadata": {
    "deletable": false,
    "editable": false,
    "nbgrader": {
     "cell_type": "markdown",
     "checksum": "5bfa6795724d75f70c84d3c00d2b1e70",
     "grade": false,
     "grade_id": "cell-bcf6543c144560bd",
     "locked": true,
     "schema_version": 3,
     "solution": false,
     "task": false
    }
   },
   "source": [
    "# Assignment 2 - Network Connectivity\n",
    "\n",
    "In this assignment you will go through the process of importing and analyzing an internal email communication network between employees of a mid-sized manufacturing company. \n",
    "Each node represents an employee and each directed edge between two nodes represents an individual email. The left node represents the sender and the right node represents the recipient. We will also store the timestamp of each email. "
   ]
  },
  {
   "cell_type": "code",
   "execution_count": 1,
   "metadata": {
    "deletable": true,
    "execution": {
     "iopub.execute_input": "2023-02-23T22:59:11.563711Z",
     "iopub.status.busy": "2023-02-23T22:59:11.563711Z",
     "iopub.status.idle": "2023-02-23T22:59:14.434501Z",
     "shell.execute_reply": "2023-02-23T22:59:14.433485Z",
     "shell.execute_reply.started": "2023-02-23T22:59:11.563711Z"
    },
    "nbgrader": {
     "cell_type": "code",
     "checksum": "40cd5d39e43b4cd59854e53a0b5dc998",
     "grade": false,
     "grade_id": "cell-9e91202e381afe24",
     "locked": false,
     "schema_version": 3,
     "solution": false,
     "task": false
    },
    "tags": []
   },
   "outputs": [],
   "source": [
    "import networkx as nx\n",
    "from collections import Counter"
   ]
  },
  {
   "cell_type": "code",
   "execution_count": 2,
   "metadata": {
    "execution": {
     "iopub.execute_input": "2023-02-23T22:59:16.536624Z",
     "iopub.status.busy": "2023-02-23T22:59:16.536624Z",
     "iopub.status.idle": "2023-02-23T22:59:16.769675Z",
     "shell.execute_reply": "2023-02-23T22:59:16.769675Z",
     "shell.execute_reply.started": "2023-02-23T22:59:16.536624Z"
    },
    "tags": []
   },
   "outputs": [],
   "source": [
    "graph = nx.read_edgelist(r\"assets/email_network.txt\", create_using = nx.MultiDiGraph(), nodetype = str, data = ((\"Recipient time\", str), ),\n",
    "                 edgetype = str)"
   ]
  },
  {
   "cell_type": "markdown",
   "metadata": {
    "deletable": false,
    "editable": false,
    "nbgrader": {
     "cell_type": "markdown",
     "checksum": "ff79eb68a30fc6af89c7c32502673381",
     "grade": false,
     "grade_id": "cell-69088792fe9c29ab",
     "locked": true,
     "schema_version": 3,
     "solution": false,
     "task": false
    }
   },
   "source": [
    "### Question 1\n",
    "\n",
    "Using networkx, load up the directed multigraph from `assets/email_network.txt`. Make sure the node names are strings.\n",
    "\n",
    "*This function should return a directed multigraph networkx graph.*"
   ]
  },
  {
   "cell_type": "code",
   "execution_count": 3,
   "metadata": {
    "execution": {
     "iopub.execute_input": "2023-02-23T22:59:17.735449Z",
     "iopub.status.busy": "2023-02-23T22:59:17.734501Z",
     "iopub.status.idle": "2023-02-23T22:59:17.795613Z",
     "shell.execute_reply": "2023-02-23T22:59:17.795613Z",
     "shell.execute_reply.started": "2023-02-23T22:59:17.734501Z"
    },
    "tags": []
   },
   "outputs": [],
   "source": [
    "nx.get_edge_attributes(graph, \"Recipient time\");"
   ]
  },
  {
   "cell_type": "code",
   "execution_count": 4,
   "metadata": {
    "deletable": false,
    "execution": {
     "iopub.execute_input": "2023-02-23T22:59:20.032029Z",
     "iopub.status.busy": "2023-02-23T22:59:20.031029Z",
     "iopub.status.idle": "2023-02-23T22:59:20.036193Z",
     "shell.execute_reply": "2023-02-23T22:59:20.035186Z",
     "shell.execute_reply.started": "2023-02-23T22:59:20.031029Z"
    },
    "nbgrader": {
     "cell_type": "code",
     "checksum": "1101b24702e1ba3199cead81dd86aa96",
     "grade": false,
     "grade_id": "cell-60316968695c6f20",
     "locked": false,
     "schema_version": 3,
     "solution": true,
     "task": false
    },
    "tags": []
   },
   "outputs": [],
   "source": [
    "def answer_one():\n",
    "    \n",
    "    graph = nx.read_edgelist(r\"assets/email_network.txt\", create_using = nx.MultiDiGraph(), nodetype = str, data = ((\"Recipient time\", str), ),\n",
    "                 edgetype = str)\n",
    "    return graph"
   ]
  },
  {
   "cell_type": "code",
   "execution_count": 5,
   "metadata": {
    "deletable": false,
    "editable": false,
    "execution": {
     "iopub.execute_input": "2023-02-23T22:59:20.784192Z",
     "iopub.status.busy": "2023-02-23T22:59:20.784192Z",
     "iopub.status.idle": "2023-02-23T22:59:20.985611Z",
     "shell.execute_reply": "2023-02-23T22:59:20.985127Z",
     "shell.execute_reply.started": "2023-02-23T22:59:20.784192Z"
    },
    "nbgrader": {
     "cell_type": "code",
     "checksum": "4e333a60970e701c597c3df9e7f0cf73",
     "grade": true,
     "grade_id": "cell-483a56c89f9db231",
     "locked": true,
     "points": 0,
     "schema_version": 3,
     "solution": false,
     "task": false
    },
    "tags": []
   },
   "outputs": [],
   "source": [
    "ans_one = answer_one()"
   ]
  },
  {
   "cell_type": "code",
   "execution_count": 6,
   "metadata": {
    "execution": {
     "iopub.execute_input": "2023-02-23T22:59:22.381817Z",
     "iopub.status.busy": "2023-02-23T22:59:22.380817Z",
     "iopub.status.idle": "2023-02-23T22:59:22.385539Z",
     "shell.execute_reply": "2023-02-23T22:59:22.384531Z",
     "shell.execute_reply.started": "2023-02-23T22:59:22.380817Z"
    },
    "tags": []
   },
   "outputs": [],
   "source": [
    "ans_one.edges();"
   ]
  },
  {
   "cell_type": "markdown",
   "metadata": {
    "deletable": false,
    "editable": false,
    "nbgrader": {
     "cell_type": "markdown",
     "checksum": "a25a5fcea997943800881830337a3e57",
     "grade": false,
     "grade_id": "cell-11f1e6ec696e3aa9",
     "locked": true,
     "schema_version": 3,
     "solution": false,
     "task": false
    },
    "tags": []
   },
   "source": [
    "### Question 2\n",
    "\n",
    "How many employees are represented in the network?\n",
    "\n",
    "How many `sender`->`recepient` pairs of employees are there in the network such that `sender` sent at least one email to `recepient`? Note that even if a `sender` sent multiple messages to a `recepient`, they should only be counted once. You should exclude cases where an employee sent emails to themselves from this count. \n",
    "\n",
    "*This function should return a tuple with two integers (#employees, # `sender`->`recepient` pairs).*"
   ]
  },
  {
   "cell_type": "code",
   "execution_count": 7,
   "metadata": {
    "deletable": false,
    "execution": {
     "iopub.execute_input": "2023-02-23T22:59:26.046758Z",
     "iopub.status.busy": "2023-02-23T22:59:26.046758Z",
     "iopub.status.idle": "2023-02-23T22:59:26.052244Z",
     "shell.execute_reply": "2023-02-23T22:59:26.051236Z",
     "shell.execute_reply.started": "2023-02-23T22:59:26.046758Z"
    },
    "nbgrader": {
     "cell_type": "code",
     "checksum": "662810a3dcb753594e02ca98590b1623",
     "grade": false,
     "grade_id": "cell-16a78f22207d9f95",
     "locked": false,
     "schema_version": 3,
     "solution": true,
     "task": false
    },
    "tags": []
   },
   "outputs": [],
   "source": [
    "def answer_two():\n",
    "    \n",
    "    graph = answer_one()\n",
    "    n_employees = len(set(graph.nodes()))\n",
    "    sr_pairs = {pair for pair in graph.edges() if (pair[0] != pair[1])}    \n",
    "    return(n_employees, len(sr_pairs))"
   ]
  },
  {
   "cell_type": "code",
   "execution_count": 8,
   "metadata": {
    "deletable": false,
    "editable": false,
    "execution": {
     "iopub.execute_input": "2023-02-23T22:59:26.254832Z",
     "iopub.status.busy": "2023-02-23T22:59:26.254832Z",
     "iopub.status.idle": "2023-02-23T22:59:26.502267Z",
     "shell.execute_reply": "2023-02-23T22:59:26.502267Z",
     "shell.execute_reply.started": "2023-02-23T22:59:26.254832Z"
    },
    "nbgrader": {
     "cell_type": "code",
     "checksum": "ddf5c3a58fbd1cbcd80e38f2bf077d48",
     "grade": true,
     "grade_id": "cell-5b6391549b076d2b",
     "locked": true,
     "points": 1,
     "schema_version": 3,
     "solution": false,
     "task": false
    },
    "tags": []
   },
   "outputs": [],
   "source": [
    "ans_two = answer_two()\n"
   ]
  },
  {
   "cell_type": "code",
   "execution_count": 9,
   "metadata": {
    "execution": {
     "iopub.execute_input": "2023-02-23T22:59:26.547283Z",
     "iopub.status.busy": "2023-02-23T22:59:26.547283Z",
     "iopub.status.idle": "2023-02-23T22:59:26.556089Z",
     "shell.execute_reply": "2023-02-23T22:59:26.555082Z",
     "shell.execute_reply.started": "2023-02-23T22:59:26.547283Z"
    },
    "tags": []
   },
   "outputs": [
    {
     "data": {
      "text/plain": [
       "(167, 5783)"
      ]
     },
     "execution_count": 9,
     "metadata": {},
     "output_type": "execute_result"
    }
   ],
   "source": [
    "ans_two"
   ]
  },
  {
   "cell_type": "markdown",
   "metadata": {
    "deletable": false,
    "editable": false,
    "nbgrader": {
     "cell_type": "markdown",
     "checksum": "775a110305b6e9aa2fb281392edef295",
     "grade": false,
     "grade_id": "cell-760dca5a483f4568",
     "locked": true,
     "schema_version": 3,
     "solution": false,
     "task": false
    }
   },
   "source": [
    "### Question 3\n",
    "\n",
    "* Part 1. Assume that information in this company can only be exchanged through email.\n",
    "\n",
    "    When an employee sends an email to another employee, a communication channel has been created, allowing the sender to provide information to the reciever, but not viceversa. \n",
    "\n",
    "    Based on the emails sent in the data, is it possible for information to go from every employee to every other employee?\n",
    "\n",
    "\n",
    "* Part 2. Now assume that a communication channel established by an email allows information to be exchanged both ways. \n",
    "\n",
    "    Based on the emails sent in the data, is it possible for information to go from every employee to every other employee?\n",
    "\n",
    "\n",
    "*This function should return a tuple of bools (part1, part2).*"
   ]
  },
  {
   "cell_type": "code",
   "execution_count": 10,
   "metadata": {
    "execution": {
     "iopub.execute_input": "2023-02-23T22:59:26.987754Z",
     "iopub.status.busy": "2023-02-23T22:59:26.987754Z",
     "iopub.status.idle": "2023-02-23T22:59:26.992675Z",
     "shell.execute_reply": "2023-02-23T22:59:26.992675Z",
     "shell.execute_reply.started": "2023-02-23T22:59:26.987754Z"
    },
    "tags": []
   },
   "outputs": [
    {
     "data": {
      "text/plain": [
       "False"
      ]
     },
     "execution_count": 10,
     "metadata": {},
     "output_type": "execute_result"
    }
   ],
   "source": [
    "nx.is_strongly_connected(graph)"
   ]
  },
  {
   "cell_type": "code",
   "execution_count": 11,
   "metadata": {
    "execution": {
     "iopub.execute_input": "2023-02-23T22:59:27.225132Z",
     "iopub.status.busy": "2023-02-23T22:59:27.225132Z",
     "iopub.status.idle": "2023-02-23T22:59:27.231861Z",
     "shell.execute_reply": "2023-02-23T22:59:27.231861Z",
     "shell.execute_reply.started": "2023-02-23T22:59:27.225132Z"
    },
    "tags": []
   },
   "outputs": [
    {
     "data": {
      "text/plain": [
       "True"
      ]
     },
     "execution_count": 11,
     "metadata": {},
     "output_type": "execute_result"
    }
   ],
   "source": [
    "nx.is_weakly_connected(graph)"
   ]
  },
  {
   "cell_type": "code",
   "execution_count": 12,
   "metadata": {
    "deletable": false,
    "execution": {
     "iopub.execute_input": "2023-02-23T22:59:27.408270Z",
     "iopub.status.busy": "2023-02-23T22:59:27.407365Z",
     "iopub.status.idle": "2023-02-23T22:59:27.411330Z",
     "shell.execute_reply": "2023-02-23T22:59:27.411330Z",
     "shell.execute_reply.started": "2023-02-23T22:59:27.408270Z"
    },
    "nbgrader": {
     "cell_type": "code",
     "checksum": "88459b15b88d56d06d591a24c2242679",
     "grade": false,
     "grade_id": "cell-606dd37fb2f55358",
     "locked": false,
     "schema_version": 3,
     "solution": true,
     "task": false
    },
    "tags": []
   },
   "outputs": [],
   "source": [
    "def answer_three():\n",
    "    graph = answer_one()\n",
    "    return nx.is_strongly_connected(graph), nx.is_weakly_connected(graph)"
   ]
  },
  {
   "cell_type": "code",
   "execution_count": 13,
   "metadata": {
    "deletable": false,
    "editable": false,
    "execution": {
     "iopub.execute_input": "2023-02-23T22:59:27.629876Z",
     "iopub.status.busy": "2023-02-23T22:59:27.629876Z",
     "iopub.status.idle": "2023-02-23T22:59:27.852726Z",
     "shell.execute_reply": "2023-02-23T22:59:27.852726Z",
     "shell.execute_reply.started": "2023-02-23T22:59:27.629876Z"
    },
    "nbgrader": {
     "cell_type": "code",
     "checksum": "4788aac112a53b813b71af67be67ca9e",
     "grade": true,
     "grade_id": "cell-82b3f0bc45e2895f",
     "locked": true,
     "points": 1,
     "schema_version": 3,
     "solution": false,
     "task": false
    },
    "tags": []
   },
   "outputs": [],
   "source": [
    "ans_three = answer_three()\n"
   ]
  },
  {
   "cell_type": "code",
   "execution_count": 14,
   "metadata": {
    "execution": {
     "iopub.execute_input": "2023-02-23T22:59:27.855733Z",
     "iopub.status.busy": "2023-02-23T22:59:27.854745Z",
     "iopub.status.idle": "2023-02-23T22:59:27.860367Z",
     "shell.execute_reply": "2023-02-23T22:59:27.860367Z",
     "shell.execute_reply.started": "2023-02-23T22:59:27.855733Z"
    },
    "tags": []
   },
   "outputs": [
    {
     "data": {
      "text/plain": [
       "(False, True)"
      ]
     },
     "execution_count": 14,
     "metadata": {},
     "output_type": "execute_result"
    }
   ],
   "source": [
    "ans_three"
   ]
  },
  {
   "cell_type": "markdown",
   "metadata": {
    "deletable": false,
    "editable": false,
    "nbgrader": {
     "cell_type": "markdown",
     "checksum": "7c25ee0ca47a08a288af724766a5294f",
     "grade": false,
     "grade_id": "cell-d9b0ca65d16c2ee0",
     "locked": true,
     "schema_version": 3,
     "solution": false,
     "task": false
    }
   },
   "source": [
    "### Question 4\n",
    "\n",
    "How many nodes are in the largest weakly connected component of the graph?\n",
    "\n",
    "*This function should return an int.*"
   ]
  },
  {
   "cell_type": "code",
   "execution_count": 15,
   "metadata": {
    "execution": {
     "iopub.execute_input": "2023-02-23T22:59:28.168973Z",
     "iopub.status.busy": "2023-02-23T22:59:28.168973Z",
     "iopub.status.idle": "2023-02-23T22:59:28.177645Z",
     "shell.execute_reply": "2023-02-23T22:59:28.176639Z",
     "shell.execute_reply.started": "2023-02-23T22:59:28.168973Z"
    },
    "tags": []
   },
   "outputs": [
    {
     "data": {
      "text/plain": [
       "[1,\n",
       " 2,\n",
       " 3,\n",
       " 4,\n",
       " 5,\n",
       " 6,\n",
       " 7,\n",
       " 8,\n",
       " 9,\n",
       " 10,\n",
       " 11,\n",
       " 12,\n",
       " 13,\n",
       " 14,\n",
       " 15,\n",
       " 16,\n",
       " 17,\n",
       " 18,\n",
       " 19,\n",
       " 20,\n",
       " 21,\n",
       " 22,\n",
       " 23,\n",
       " 24,\n",
       " 25,\n",
       " 26,\n",
       " 27,\n",
       " 28,\n",
       " 29,\n",
       " 30,\n",
       " 31,\n",
       " 32,\n",
       " 33,\n",
       " 34,\n",
       " 35,\n",
       " 36,\n",
       " 37,\n",
       " 38,\n",
       " 39,\n",
       " 40,\n",
       " 41,\n",
       " 42,\n",
       " 43,\n",
       " 44,\n",
       " 45,\n",
       " 46,\n",
       " 47,\n",
       " 48,\n",
       " 49,\n",
       " 50,\n",
       " 51,\n",
       " 52,\n",
       " 53,\n",
       " 54,\n",
       " 55,\n",
       " 56,\n",
       " 57,\n",
       " 58,\n",
       " 59,\n",
       " 60,\n",
       " 61,\n",
       " 62,\n",
       " 63,\n",
       " 64,\n",
       " 65,\n",
       " 66,\n",
       " 67,\n",
       " 68,\n",
       " 69,\n",
       " 70,\n",
       " 71,\n",
       " 72,\n",
       " 73,\n",
       " 74,\n",
       " 75,\n",
       " 76,\n",
       " 77,\n",
       " 78,\n",
       " 79,\n",
       " 80,\n",
       " 81,\n",
       " 82,\n",
       " 83,\n",
       " 84,\n",
       " 85,\n",
       " 86,\n",
       " 87,\n",
       " 88,\n",
       " 89,\n",
       " 90,\n",
       " 91,\n",
       " 92,\n",
       " 93,\n",
       " 94,\n",
       " 95,\n",
       " 96,\n",
       " 97,\n",
       " 98,\n",
       " 99,\n",
       " 100,\n",
       " 101,\n",
       " 102,\n",
       " 103,\n",
       " 104,\n",
       " 105,\n",
       " 106,\n",
       " 107,\n",
       " 108,\n",
       " 109,\n",
       " 110,\n",
       " 111,\n",
       " 112,\n",
       " 113,\n",
       " 114,\n",
       " 115,\n",
       " 116,\n",
       " 117,\n",
       " 118,\n",
       " 119,\n",
       " 120,\n",
       " 121,\n",
       " 122,\n",
       " 123,\n",
       " 124,\n",
       " 125,\n",
       " 126,\n",
       " 127,\n",
       " 128,\n",
       " 129,\n",
       " 130,\n",
       " 131,\n",
       " 132,\n",
       " 133,\n",
       " 134,\n",
       " 135,\n",
       " 136,\n",
       " 137,\n",
       " 138,\n",
       " 139,\n",
       " 140,\n",
       " 141,\n",
       " 142,\n",
       " 143,\n",
       " 144,\n",
       " 145,\n",
       " 146,\n",
       " 147,\n",
       " 148,\n",
       " 149,\n",
       " 150,\n",
       " 151,\n",
       " 152,\n",
       " 153,\n",
       " 154,\n",
       " 155,\n",
       " 156,\n",
       " 157,\n",
       " 158,\n",
       " 159,\n",
       " 160,\n",
       " 161,\n",
       " 162,\n",
       " 163,\n",
       " 164,\n",
       " 165,\n",
       " 166,\n",
       " 167]"
      ]
     },
     "execution_count": 15,
     "metadata": {},
     "output_type": "execute_result"
    }
   ],
   "source": [
    "sorted([int(node) for node in list(nx.weakly_connected_components(graph))[0]])"
   ]
  },
  {
   "cell_type": "code",
   "execution_count": 16,
   "metadata": {
    "deletable": false,
    "execution": {
     "iopub.execute_input": "2023-02-23T22:59:28.336166Z",
     "iopub.status.busy": "2023-02-23T22:59:28.335165Z",
     "iopub.status.idle": "2023-02-23T22:59:28.357467Z",
     "shell.execute_reply": "2023-02-23T22:59:28.357467Z",
     "shell.execute_reply.started": "2023-02-23T22:59:28.336166Z"
    },
    "nbgrader": {
     "cell_type": "code",
     "checksum": "4cf514895a205644e3d580ea16e86aba",
     "grade": false,
     "grade_id": "cell-39196f4c27b35534",
     "locked": false,
     "schema_version": 3,
     "solution": true,
     "task": false
    },
    "tags": []
   },
   "outputs": [],
   "source": [
    "def answer_four():\n",
    "    graph = answer_one()\n",
    "    return len(list(nx.weakly_connected_components(graph))[0])"
   ]
  },
  {
   "cell_type": "code",
   "execution_count": 17,
   "metadata": {
    "deletable": false,
    "editable": false,
    "execution": {
     "iopub.execute_input": "2023-02-23T22:59:28.551710Z",
     "iopub.status.busy": "2023-02-23T22:59:28.551710Z",
     "iopub.status.idle": "2023-02-23T22:59:28.771637Z",
     "shell.execute_reply": "2023-02-23T22:59:28.770811Z",
     "shell.execute_reply.started": "2023-02-23T22:59:28.551710Z"
    },
    "nbgrader": {
     "cell_type": "code",
     "checksum": "12b2e05c4fee3be94595b750cd938701",
     "grade": true,
     "grade_id": "cell-2b1b7b06ecfa751d",
     "locked": true,
     "points": 1,
     "schema_version": 3,
     "solution": false,
     "task": false
    },
    "tags": []
   },
   "outputs": [],
   "source": [
    "ans_four = answer_four()"
   ]
  },
  {
   "cell_type": "code",
   "execution_count": 18,
   "metadata": {
    "execution": {
     "iopub.execute_input": "2023-02-23T22:59:28.772643Z",
     "iopub.status.busy": "2023-02-23T22:59:28.772643Z",
     "iopub.status.idle": "2023-02-23T22:59:28.838276Z",
     "shell.execute_reply": "2023-02-23T22:59:28.838276Z",
     "shell.execute_reply.started": "2023-02-23T22:59:28.772643Z"
    },
    "tags": []
   },
   "outputs": [
    {
     "data": {
      "text/plain": [
       "167"
      ]
     },
     "execution_count": 18,
     "metadata": {},
     "output_type": "execute_result"
    }
   ],
   "source": [
    "ans_four"
   ]
  },
  {
   "cell_type": "markdown",
   "metadata": {
    "deletable": false,
    "editable": false,
    "nbgrader": {
     "cell_type": "markdown",
     "checksum": "cc1c0bdcb9dd2c876d85137d70e1aab1",
     "grade": false,
     "grade_id": "cell-1b5fcc6fe87939a4",
     "locked": true,
     "schema_version": 3,
     "solution": false,
     "task": false
    }
   },
   "source": [
    "### Question 5\n",
    "\n",
    "How many nodes are in the largest strongly connected component?\n",
    "\n",
    "*This function should return an int*"
   ]
  },
  {
   "cell_type": "code",
   "execution_count": 19,
   "metadata": {
    "execution": {
     "iopub.execute_input": "2023-02-23T22:59:29.064742Z",
     "iopub.status.busy": "2023-02-23T22:59:29.064742Z",
     "iopub.status.idle": "2023-02-23T22:59:29.116879Z",
     "shell.execute_reply": "2023-02-23T22:59:29.115869Z",
     "shell.execute_reply.started": "2023-02-23T22:59:29.064742Z"
    },
    "tags": []
   },
   "outputs": [
    {
     "data": {
      "text/plain": [
       "126"
      ]
     },
     "execution_count": 19,
     "metadata": {},
     "output_type": "execute_result"
    }
   ],
   "source": [
    "max([len(component) for component in nx.strongly_connected_components(graph)])"
   ]
  },
  {
   "cell_type": "code",
   "execution_count": 20,
   "metadata": {
    "deletable": false,
    "execution": {
     "iopub.execute_input": "2023-02-23T22:59:29.272064Z",
     "iopub.status.busy": "2023-02-23T22:59:29.272064Z",
     "iopub.status.idle": "2023-02-23T22:59:29.417493Z",
     "shell.execute_reply": "2023-02-23T22:59:29.416444Z",
     "shell.execute_reply.started": "2023-02-23T22:59:29.272064Z"
    },
    "nbgrader": {
     "cell_type": "code",
     "checksum": "2accc10e029b68b86157ee3e7630483a",
     "grade": false,
     "grade_id": "cell-879d17a9db5c3790",
     "locked": false,
     "schema_version": 3,
     "solution": true,
     "task": false
    },
    "tags": []
   },
   "outputs": [],
   "source": [
    "def answer_five():\n",
    "    graph = answer_one()\n",
    "    return max([len(component) for component in nx.strongly_connected_components(graph)])"
   ]
  },
  {
   "cell_type": "code",
   "execution_count": 21,
   "metadata": {
    "deletable": false,
    "editable": false,
    "execution": {
     "iopub.execute_input": "2023-02-23T22:59:29.471067Z",
     "iopub.status.busy": "2023-02-23T22:59:29.470075Z",
     "iopub.status.idle": "2023-02-23T22:59:29.868740Z",
     "shell.execute_reply": "2023-02-23T22:59:29.868740Z",
     "shell.execute_reply.started": "2023-02-23T22:59:29.471067Z"
    },
    "nbgrader": {
     "cell_type": "code",
     "checksum": "f23781489340663ca5f29018a84eba94",
     "grade": true,
     "grade_id": "cell-b0524f7dc1fbdec4",
     "locked": true,
     "points": 1,
     "schema_version": 3,
     "solution": false,
     "task": false
    },
    "tags": []
   },
   "outputs": [],
   "source": [
    "ans_five = answer_five()\n"
   ]
  },
  {
   "cell_type": "code",
   "execution_count": 22,
   "metadata": {
    "execution": {
     "iopub.execute_input": "2023-02-23T22:59:29.870747Z",
     "iopub.status.busy": "2023-02-23T22:59:29.870747Z",
     "iopub.status.idle": "2023-02-23T22:59:29.938301Z",
     "shell.execute_reply": "2023-02-23T22:59:29.938301Z",
     "shell.execute_reply.started": "2023-02-23T22:59:29.870747Z"
    },
    "tags": []
   },
   "outputs": [
    {
     "data": {
      "text/plain": [
       "126"
      ]
     },
     "execution_count": 22,
     "metadata": {},
     "output_type": "execute_result"
    }
   ],
   "source": [
    "ans_five"
   ]
  },
  {
   "cell_type": "markdown",
   "metadata": {
    "deletable": false,
    "editable": false,
    "nbgrader": {
     "cell_type": "markdown",
     "checksum": "128ce743a125fe1aa44ef059e9c3a580",
     "grade": false,
     "grade_id": "cell-0e161383c4c5f256",
     "locked": true,
     "schema_version": 3,
     "solution": false,
     "task": false
    }
   },
   "source": [
    "### Question 6\n",
    "\n",
    "Using the NetworkX functions `strongly_connected_components` and `subgraph`, find the subgraph of nodes in the largest strongly connected component. \n",
    "Call this graph G_sc.\n",
    "\n",
    "*This function should return a networkx MultiDiGraph named G_sc.*"
   ]
  },
  {
   "cell_type": "code",
   "execution_count": 26,
   "metadata": {
    "execution": {
     "iopub.execute_input": "2023-02-23T22:59:47.997189Z",
     "iopub.status.busy": "2023-02-23T22:59:47.997189Z",
     "iopub.status.idle": "2023-02-23T22:59:48.004693Z",
     "shell.execute_reply": "2023-02-23T22:59:48.003681Z",
     "shell.execute_reply.started": "2023-02-23T22:59:47.997189Z"
    },
    "tags": []
   },
   "outputs": [],
   "source": [
    "largest_ccomp = sorted(nx.strongly_connected_components(graph), key = len)[-1]"
   ]
  },
  {
   "cell_type": "code",
   "execution_count": 27,
   "metadata": {
    "execution": {
     "iopub.execute_input": "2023-02-23T22:59:48.466872Z",
     "iopub.status.busy": "2023-02-23T22:59:48.466872Z",
     "iopub.status.idle": "2023-02-23T22:59:48.471791Z",
     "shell.execute_reply": "2023-02-23T22:59:48.471791Z",
     "shell.execute_reply.started": "2023-02-23T22:59:48.466872Z"
    },
    "tags": []
   },
   "outputs": [
    {
     "data": {
      "text/plain": [
       "<networkx.classes.multidigraph.MultiDiGraph at 0x183e07a3d10>"
      ]
     },
     "execution_count": 27,
     "metadata": {},
     "output_type": "execute_result"
    }
   ],
   "source": [
    "nx.subgraph(graph, largest_ccomp)"
   ]
  },
  {
   "cell_type": "code",
   "execution_count": 28,
   "metadata": {
    "deletable": false,
    "execution": {
     "iopub.execute_input": "2023-02-23T22:59:49.560117Z",
     "iopub.status.busy": "2023-02-23T22:59:49.559110Z",
     "iopub.status.idle": "2023-02-23T22:59:49.564548Z",
     "shell.execute_reply": "2023-02-23T22:59:49.563495Z",
     "shell.execute_reply.started": "2023-02-23T22:59:49.560117Z"
    },
    "nbgrader": {
     "cell_type": "code",
     "checksum": "07492ff7a3eddcbf2d61c4827c12bcf9",
     "grade": false,
     "grade_id": "cell-a81e6f88ef84578c",
     "locked": false,
     "schema_version": 3,
     "solution": true,
     "task": false
    },
    "tags": []
   },
   "outputs": [],
   "source": [
    "def answer_six():\n",
    "    graph = answer_one()\n",
    "    largest_ccomp = sorted(nx.strongly_connected_components(graph), key = len)[-1]\n",
    "    G_sc = nx.subgraph(graph, largest_ccomp)\n",
    "    return G_sc"
   ]
  },
  {
   "cell_type": "code",
   "execution_count": 29,
   "metadata": {
    "deletable": false,
    "editable": false,
    "execution": {
     "iopub.execute_input": "2023-02-23T22:59:50.345919Z",
     "iopub.status.busy": "2023-02-23T22:59:50.344921Z",
     "iopub.status.idle": "2023-02-23T22:59:50.550648Z",
     "shell.execute_reply": "2023-02-23T22:59:50.549615Z",
     "shell.execute_reply.started": "2023-02-23T22:59:50.345919Z"
    },
    "nbgrader": {
     "cell_type": "code",
     "checksum": "e343cae1f5bc21b64bc62c1b2774b6bf",
     "grade": true,
     "grade_id": "cell-cf148ef273b3b19c",
     "locked": true,
     "points": 0,
     "schema_version": 3,
     "solution": false,
     "task": false
    },
    "tags": []
   },
   "outputs": [],
   "source": [
    "ans_six = answer_six()\n",
    "assert type(ans_six) == nx.MultiDiGraph , \"Your return type should be a MultiDiGraph object\"\n"
   ]
  },
  {
   "cell_type": "code",
   "execution_count": 30,
   "metadata": {
    "execution": {
     "iopub.execute_input": "2023-02-23T22:59:50.728939Z",
     "iopub.status.busy": "2023-02-23T22:59:50.728939Z",
     "iopub.status.idle": "2023-02-23T22:59:50.734087Z",
     "shell.execute_reply": "2023-02-23T22:59:50.734087Z",
     "shell.execute_reply.started": "2023-02-23T22:59:50.728939Z"
    },
    "tags": []
   },
   "outputs": [
    {
     "data": {
      "text/plain": [
       "126"
      ]
     },
     "execution_count": 30,
     "metadata": {},
     "output_type": "execute_result"
    }
   ],
   "source": [
    "len(ans_six.nodes())"
   ]
  },
  {
   "cell_type": "markdown",
   "metadata": {
    "deletable": false,
    "editable": false,
    "nbgrader": {
     "cell_type": "markdown",
     "checksum": "845d7583667a0e39c27767bb1b4a86e9",
     "grade": false,
     "grade_id": "cell-9387495324d723ab",
     "locked": true,
     "schema_version": 3,
     "solution": false,
     "task": false
    }
   },
   "source": [
    "### Question 7\n",
    "\n",
    "What is the average distance between nodes in G_sc?\n",
    "\n",
    "*This function should return a float.*"
   ]
  },
  {
   "cell_type": "code",
   "execution_count": 31,
   "metadata": {
    "execution": {
     "iopub.execute_input": "2023-02-23T22:59:51.952683Z",
     "iopub.status.busy": "2023-02-23T22:59:51.951685Z",
     "iopub.status.idle": "2023-02-23T22:59:52.209217Z",
     "shell.execute_reply": "2023-02-23T22:59:52.209217Z",
     "shell.execute_reply.started": "2023-02-23T22:59:51.952683Z"
    },
    "tags": []
   },
   "outputs": [
    {
     "data": {
      "text/plain": [
       "1.6461587301587302"
      ]
     },
     "execution_count": 31,
     "metadata": {},
     "output_type": "execute_result"
    }
   ],
   "source": [
    "nx.average_shortest_path_length(ans_six)"
   ]
  },
  {
   "cell_type": "code",
   "execution_count": 32,
   "metadata": {
    "deletable": false,
    "execution": {
     "iopub.execute_input": "2023-02-23T22:59:52.768646Z",
     "iopub.status.busy": "2023-02-23T22:59:52.768646Z",
     "iopub.status.idle": "2023-02-23T22:59:52.771664Z",
     "shell.execute_reply": "2023-02-23T22:59:52.771664Z",
     "shell.execute_reply.started": "2023-02-23T22:59:52.768646Z"
    },
    "nbgrader": {
     "cell_type": "code",
     "checksum": "8631976ef4da84e8717fb0208ec2d22e",
     "grade": false,
     "grade_id": "cell-1a3075039b3c2c0b",
     "locked": false,
     "schema_version": 3,
     "solution": true,
     "task": false
    },
    "tags": []
   },
   "outputs": [],
   "source": [
    "def answer_seven():\n",
    "    graph = answer_six()\n",
    "    return nx.average_shortest_path_length(graph)"
   ]
  },
  {
   "cell_type": "code",
   "execution_count": 33,
   "metadata": {
    "deletable": false,
    "editable": false,
    "execution": {
     "iopub.execute_input": "2023-02-23T22:59:53.488561Z",
     "iopub.status.busy": "2023-02-23T22:59:53.488561Z",
     "iopub.status.idle": "2023-02-23T22:59:53.931730Z",
     "shell.execute_reply": "2023-02-23T22:59:53.930721Z",
     "shell.execute_reply.started": "2023-02-23T22:59:53.488561Z"
    },
    "nbgrader": {
     "cell_type": "code",
     "checksum": "6677cc4f43e9d111105b44bb7cdf8609",
     "grade": true,
     "grade_id": "cell-5b374fdd48f37e02",
     "locked": true,
     "points": 1,
     "schema_version": 3,
     "solution": false,
     "task": false
    },
    "tags": []
   },
   "outputs": [],
   "source": [
    "ans_seven = answer_seven()\n"
   ]
  },
  {
   "cell_type": "markdown",
   "metadata": {
    "deletable": false,
    "editable": false,
    "nbgrader": {
     "cell_type": "markdown",
     "checksum": "fa6cadc7a93e03a6a254d4050f8fab2a",
     "grade": false,
     "grade_id": "cell-a304dbc2b7d1b98e",
     "locked": true,
     "schema_version": 3,
     "solution": false,
     "task": false
    }
   },
   "source": [
    "### Question 8\n",
    "\n",
    "What is the largest possible distance between two employees in G_sc?\n",
    "\n",
    "*This function should return an int.*"
   ]
  },
  {
   "cell_type": "code",
   "execution_count": 34,
   "metadata": {
    "deletable": false,
    "execution": {
     "iopub.execute_input": "2023-02-23T22:59:55.967145Z",
     "iopub.status.busy": "2023-02-23T22:59:55.967145Z",
     "iopub.status.idle": "2023-02-23T22:59:55.970534Z",
     "shell.execute_reply": "2023-02-23T22:59:55.970534Z",
     "shell.execute_reply.started": "2023-02-23T22:59:55.967145Z"
    },
    "nbgrader": {
     "cell_type": "code",
     "checksum": "a78edcff07c4635e0713d76acbd36d2c",
     "grade": false,
     "grade_id": "cell-4fbb8d34d00f675c",
     "locked": false,
     "schema_version": 3,
     "solution": true,
     "task": false
    },
    "tags": []
   },
   "outputs": [],
   "source": [
    "def answer_eight():\n",
    "    graph = answer_six()\n",
    "    return nx.diameter(graph)"
   ]
  },
  {
   "cell_type": "code",
   "execution_count": 35,
   "metadata": {
    "deletable": false,
    "editable": false,
    "execution": {
     "iopub.execute_input": "2023-02-23T22:59:56.399751Z",
     "iopub.status.busy": "2023-02-23T22:59:56.398754Z",
     "iopub.status.idle": "2023-02-23T22:59:56.915739Z",
     "shell.execute_reply": "2023-02-23T22:59:56.915739Z",
     "shell.execute_reply.started": "2023-02-23T22:59:56.399751Z"
    },
    "nbgrader": {
     "cell_type": "code",
     "checksum": "fa86a0206feb865d2c6d7406c70ee95d",
     "grade": true,
     "grade_id": "cell-c5714787854ef644",
     "locked": true,
     "points": 1,
     "schema_version": 3,
     "solution": false,
     "task": false
    },
    "tags": []
   },
   "outputs": [],
   "source": [
    "ans_eight = answer_eight()\n"
   ]
  },
  {
   "cell_type": "code",
   "execution_count": 36,
   "metadata": {
    "execution": {
     "iopub.execute_input": "2023-02-23T22:59:56.917749Z",
     "iopub.status.busy": "2023-02-23T22:59:56.917749Z",
     "iopub.status.idle": "2023-02-23T22:59:56.923668Z",
     "shell.execute_reply": "2023-02-23T22:59:56.922652Z",
     "shell.execute_reply.started": "2023-02-23T22:59:56.917749Z"
    },
    "tags": []
   },
   "outputs": [
    {
     "data": {
      "text/plain": [
       "3"
      ]
     },
     "execution_count": 36,
     "metadata": {},
     "output_type": "execute_result"
    }
   ],
   "source": [
    "ans_eight"
   ]
  },
  {
   "cell_type": "markdown",
   "metadata": {
    "deletable": false,
    "editable": false,
    "nbgrader": {
     "cell_type": "markdown",
     "checksum": "a139709cb2fd06ab0c9b63bf6d2b70d6",
     "grade": false,
     "grade_id": "cell-1c5b2a30c314c4ed",
     "locked": true,
     "schema_version": 3,
     "solution": false,
     "task": false
    }
   },
   "source": [
    "### Question 9\n",
    "\n",
    "What is the set of nodes in G_sc with eccentricity equal to the diameter?\n",
    "\n",
    "*This function should return a set of the node(s).*"
   ]
  },
  {
   "cell_type": "code",
   "execution_count": 37,
   "metadata": {
    "deletable": false,
    "execution": {
     "iopub.execute_input": "2023-02-23T22:59:58.085541Z",
     "iopub.status.busy": "2023-02-23T22:59:58.085541Z",
     "iopub.status.idle": "2023-02-23T22:59:58.089047Z",
     "shell.execute_reply": "2023-02-23T22:59:58.089047Z",
     "shell.execute_reply.started": "2023-02-23T22:59:58.085541Z"
    },
    "nbgrader": {
     "cell_type": "code",
     "checksum": "35f309003a3d44dcc3f8617731106c80",
     "grade": false,
     "grade_id": "cell-bcfab850744277ed",
     "locked": false,
     "schema_version": 3,
     "solution": true,
     "task": false
    },
    "tags": []
   },
   "outputs": [],
   "source": [
    "def answer_nine():\n",
    "    graph = answer_six()\n",
    "    diam = nx.diameter(graph)\n",
    "    return {node for node in graph.nodes() if (nx.eccentricity(graph, node) == diam)}"
   ]
  },
  {
   "cell_type": "code",
   "execution_count": 38,
   "metadata": {
    "deletable": false,
    "editable": false,
    "execution": {
     "iopub.execute_input": "2023-02-23T22:59:58.716874Z",
     "iopub.status.busy": "2023-02-23T22:59:58.716874Z",
     "iopub.status.idle": "2023-02-23T22:59:59.486396Z",
     "shell.execute_reply": "2023-02-23T22:59:59.485384Z",
     "shell.execute_reply.started": "2023-02-23T22:59:58.716874Z"
    },
    "nbgrader": {
     "cell_type": "code",
     "checksum": "ca8982a55c3502ea5a1de56ba08392f2",
     "grade": true,
     "grade_id": "cell-77c9ca0b94df3d6f",
     "locked": true,
     "points": 1,
     "schema_version": 3,
     "solution": false,
     "task": false
    },
    "tags": []
   },
   "outputs": [],
   "source": [
    "ans_nine = answer_nine()\n",
    "assert type(ans_nine) == set, \"Student answer must return a set\""
   ]
  },
  {
   "cell_type": "code",
   "execution_count": 39,
   "metadata": {
    "execution": {
     "iopub.execute_input": "2023-02-23T22:59:59.487397Z",
     "iopub.status.busy": "2023-02-23T22:59:59.487397Z",
     "iopub.status.idle": "2023-02-23T22:59:59.491959Z",
     "shell.execute_reply": "2023-02-23T22:59:59.491959Z",
     "shell.execute_reply.started": "2023-02-23T22:59:59.487397Z"
    },
    "tags": []
   },
   "outputs": [
    {
     "data": {
      "text/plain": [
       "{'129', '134', '97'}"
      ]
     },
     "execution_count": 39,
     "metadata": {},
     "output_type": "execute_result"
    }
   ],
   "source": [
    "ans_nine"
   ]
  },
  {
   "cell_type": "markdown",
   "metadata": {
    "deletable": false,
    "editable": false,
    "nbgrader": {
     "cell_type": "markdown",
     "checksum": "f35267d67af1d1cf6ed49fd791bcc0d6",
     "grade": false,
     "grade_id": "cell-0981d0d45c6b9300",
     "locked": true,
     "schema_version": 3,
     "solution": false,
     "task": false
    }
   },
   "source": [
    "### Question 10\n",
    "\n",
    "What is the set of node(s) in G_sc with eccentricity equal to the radius?\n",
    "\n",
    "*This function should return a set of the node(s).*"
   ]
  },
  {
   "cell_type": "code",
   "execution_count": 40,
   "metadata": {
    "deletable": false,
    "execution": {
     "iopub.execute_input": "2023-02-23T23:00:02.750034Z",
     "iopub.status.busy": "2023-02-23T23:00:02.750034Z",
     "iopub.status.idle": "2023-02-23T23:00:02.754241Z",
     "shell.execute_reply": "2023-02-23T23:00:02.754241Z",
     "shell.execute_reply.started": "2023-02-23T23:00:02.750034Z"
    },
    "nbgrader": {
     "cell_type": "code",
     "checksum": "2c38cb64d3e516dcc50440016c8cb052",
     "grade": false,
     "grade_id": "cell-fd3d43ea37da03f7",
     "locked": false,
     "schema_version": 3,
     "solution": true,
     "task": false
    },
    "tags": []
   },
   "outputs": [],
   "source": [
    "def answer_ten():\n",
    "    graph = answer_six()\n",
    "    rad = nx.radius(graph)\n",
    "    return {node for node in graph.nodes() if (nx.eccentricity(graph, node) == rad)}"
   ]
  },
  {
   "cell_type": "code",
   "execution_count": 41,
   "metadata": {
    "deletable": false,
    "editable": false,
    "execution": {
     "iopub.execute_input": "2023-02-23T23:00:03.209180Z",
     "iopub.status.busy": "2023-02-23T23:00:03.208180Z",
     "iopub.status.idle": "2023-02-23T23:00:03.899038Z",
     "shell.execute_reply": "2023-02-23T23:00:03.898672Z",
     "shell.execute_reply.started": "2023-02-23T23:00:03.209180Z"
    },
    "nbgrader": {
     "cell_type": "code",
     "checksum": "ded9fe8dfa11fcf35d1a24b79b05eb84",
     "grade": true,
     "grade_id": "cell-bfd2ee304bc25264",
     "locked": true,
     "points": 1,
     "schema_version": 3,
     "solution": false,
     "task": false
    },
    "tags": []
   },
   "outputs": [],
   "source": [
    "ans_ten = answer_ten()\n",
    "assert type(ans_ten) == set, \"Student answer must return a set\""
   ]
  },
  {
   "cell_type": "code",
   "execution_count": 42,
   "metadata": {
    "execution": {
     "iopub.execute_input": "2023-02-23T23:00:05.207989Z",
     "iopub.status.busy": "2023-02-23T23:00:05.207989Z",
     "iopub.status.idle": "2023-02-23T23:00:05.213456Z",
     "shell.execute_reply": "2023-02-23T23:00:05.212447Z",
     "shell.execute_reply.started": "2023-02-23T23:00:05.207989Z"
    },
    "tags": []
   },
   "outputs": [
    {
     "data": {
      "text/plain": [
       "{'38'}"
      ]
     },
     "execution_count": 42,
     "metadata": {},
     "output_type": "execute_result"
    }
   ],
   "source": [
    "ans_ten"
   ]
  },
  {
   "cell_type": "markdown",
   "metadata": {
    "deletable": false,
    "editable": false,
    "nbgrader": {
     "cell_type": "markdown",
     "checksum": "fdc93cbd0d6507be08ae4a08c63601b3",
     "grade": false,
     "grade_id": "cell-6f67b3e8a401bd59",
     "locked": true,
     "schema_version": 3,
     "solution": false,
     "task": false
    }
   },
   "source": [
    "### Question 11\n",
    "\n",
    "Which node in G_sc has the most shortest paths to other nodes whose distance equal the diameter of G_sc?\n",
    "\n",
    "\n",
    "For the node with the most such shortest paths, how many of these paths are there?\n",
    "\n",
    "\n",
    "*This function should return a tuple (name of node, number of paths).*"
   ]
  },
  {
   "cell_type": "code",
   "execution_count": 45,
   "metadata": {
    "execution": {
     "iopub.execute_input": "2023-02-23T23:00:50.734381Z",
     "iopub.status.busy": "2023-02-23T23:00:50.734381Z",
     "iopub.status.idle": "2023-02-23T23:00:51.599686Z",
     "shell.execute_reply": "2023-02-23T23:00:51.599686Z",
     "shell.execute_reply.started": "2023-02-23T23:00:50.734381Z"
    },
    "tags": []
   },
   "outputs": [
    {
     "data": {
      "text/plain": [
       "[('1', 0),\n",
       " ('2', 0),\n",
       " ('3', 0),\n",
       " ('4', 0),\n",
       " ('5', 0),\n",
       " ('6', 0),\n",
       " ('7', 0),\n",
       " ('8', 0),\n",
       " ('9', 0),\n",
       " ('10', 0),\n",
       " ('11', 0),\n",
       " ('12', 0),\n",
       " ('13', 0),\n",
       " ('14', 0),\n",
       " ('15', 0),\n",
       " ('16', 0),\n",
       " ('17', 0),\n",
       " ('18', 0),\n",
       " ('19', 0),\n",
       " ('20', 0),\n",
       " ('21', 0),\n",
       " ('22', 0),\n",
       " ('23', 0),\n",
       " ('24', 0),\n",
       " ('25', 0),\n",
       " ('26', 0),\n",
       " ('27', 0),\n",
       " ('28', 0),\n",
       " ('29', 0),\n",
       " ('30', 0),\n",
       " ('31', 0),\n",
       " ('32', 0),\n",
       " ('33', 0),\n",
       " ('34', 0),\n",
       " ('35', 0),\n",
       " ('36', 0),\n",
       " ('37', 0),\n",
       " ('38', 0),\n",
       " ('39', 0),\n",
       " ('40', 0),\n",
       " ('41', 0),\n",
       " ('42', 0),\n",
       " ('43', 0),\n",
       " ('44', 0),\n",
       " ('45', 0),\n",
       " ('46', 0),\n",
       " ('47', 0),\n",
       " ('48', 0),\n",
       " ('49', 0),\n",
       " ('50', 0),\n",
       " ('51', 0),\n",
       " ('52', 0),\n",
       " ('53', 0),\n",
       " ('54', 0),\n",
       " ('55', 0),\n",
       " ('56', 0),\n",
       " ('57', 0),\n",
       " ('58', 0),\n",
       " ('59', 0),\n",
       " ('60', 0),\n",
       " ('61', 0),\n",
       " ('62', 0),\n",
       " ('63', 0),\n",
       " ('64', 0),\n",
       " ('65', 0),\n",
       " ('66', 0),\n",
       " ('67', 0),\n",
       " ('68', 0),\n",
       " ('69', 0),\n",
       " ('70', 0),\n",
       " ('71', 0),\n",
       " ('72', 0),\n",
       " ('73', 0),\n",
       " ('74', 0),\n",
       " ('75', 0),\n",
       " ('76', 0),\n",
       " ('77', 0),\n",
       " ('78', 0),\n",
       " ('79', 0),\n",
       " ('80', 0),\n",
       " ('81', 0),\n",
       " ('82', 0),\n",
       " ('83', 0),\n",
       " ('84', 0),\n",
       " ('85', 0),\n",
       " ('86', 0),\n",
       " ('87', 0),\n",
       " ('88', 0),\n",
       " ('89', 0),\n",
       " ('90', 0),\n",
       " ('91', 0),\n",
       " ('92', 0),\n",
       " ('93', 0),\n",
       " ('94', 0),\n",
       " ('95', 0),\n",
       " ('96', 0),\n",
       " ('97', 63),\n",
       " ('98', 0),\n",
       " ('99', 0),\n",
       " ('100', 0),\n",
       " ('101', 0),\n",
       " ('103', 0),\n",
       " ('104', 0),\n",
       " ('105', 0),\n",
       " ('106', 0),\n",
       " ('107', 0),\n",
       " ('108', 0),\n",
       " ('109', 0),\n",
       " ('110', 0),\n",
       " ('111', 0),\n",
       " ('112', 0),\n",
       " ('113', 0),\n",
       " ('115', 0),\n",
       " ('117', 0),\n",
       " ('118', 0),\n",
       " ('119', 0),\n",
       " ('120', 0),\n",
       " ('121', 0),\n",
       " ('122', 0),\n",
       " ('123', 0),\n",
       " ('124', 0),\n",
       " ('128', 0),\n",
       " ('129', 1),\n",
       " ('134', 2),\n",
       " ('149', 0),\n",
       " ('151', 0)]"
      ]
     },
     "execution_count": 45,
     "metadata": {},
     "output_type": "execute_result"
    }
   ],
   "source": [
    "# consider using this\n",
    "from collections import Counter\n",
    "plens = list(nx.all_pairs_shortest_path_length(answer_six()))\n",
    "diam = nx.diameter(answer_six())\n",
    "[(node, Counter(path_len_dict.values())[diam]) for (node, path_len_dict) in plens]"
   ]
  },
  {
   "cell_type": "code",
   "execution_count": 70,
   "metadata": {
    "execution": {
     "iopub.execute_input": "2023-02-23T13:05:38.605758Z",
     "iopub.status.busy": "2023-02-23T13:05:38.605758Z",
     "iopub.status.idle": "2023-02-23T13:05:38.612999Z",
     "shell.execute_reply": "2023-02-23T13:05:38.611986Z",
     "shell.execute_reply.started": "2023-02-23T13:05:38.605758Z"
    },
    "tags": []
   },
   "outputs": [
    {
     "data": {
      "text/plain": [
       "[['10', '54', '101'],\n",
       " ['10', '1', '101'],\n",
       " ['10', '45', '101'],\n",
       " ['10', '37', '101'],\n",
       " ['10', '75', '101'],\n",
       " ['10', '27', '101'],\n",
       " ['10', '6', '101'],\n",
       " ['10', '109', '101'],\n",
       " ['10', '46', '101'],\n",
       " ['10', '93', '101'],\n",
       " ['10', '18', '101'],\n",
       " ['10', '55', '101'],\n",
       " ['10', '19', '101'],\n",
       " ['10', '35', '101'],\n",
       " ['10', '57', '101'],\n",
       " ['10', '88', '101'],\n",
       " ['10', '84', '101'],\n",
       " ['10', '50', '101'],\n",
       " ['10', '4', '101']]"
      ]
     },
     "execution_count": 70,
     "metadata": {},
     "output_type": "execute_result"
    }
   ],
   "source": [
    "list(nx.all_shortest_paths(graph, \"10\", \"101\"))"
   ]
  },
  {
   "cell_type": "code",
   "execution_count": 46,
   "metadata": {
    "execution": {
     "iopub.execute_input": "2023-02-23T23:01:22.657744Z",
     "iopub.status.busy": "2023-02-23T23:01:22.656753Z",
     "iopub.status.idle": "2023-02-23T23:01:22.663028Z",
     "shell.execute_reply": "2023-02-23T23:01:22.662002Z",
     "shell.execute_reply.started": "2023-02-23T23:01:22.656753Z"
    },
    "tags": []
   },
   "outputs": [
    {
     "data": {
      "text/plain": [
       "True"
      ]
     },
     "execution_count": 46,
     "metadata": {},
     "output_type": "execute_result"
    }
   ],
   "source": [
    "not None"
   ]
  },
  {
   "cell_type": "code",
   "execution_count": 47,
   "metadata": {
    "deletable": false,
    "execution": {
     "iopub.execute_input": "2023-02-23T23:01:23.409127Z",
     "iopub.status.busy": "2023-02-23T23:01:23.408107Z",
     "iopub.status.idle": "2023-02-23T23:01:23.413047Z",
     "shell.execute_reply": "2023-02-23T23:01:23.413047Z",
     "shell.execute_reply.started": "2023-02-23T23:01:23.409127Z"
    },
    "nbgrader": {
     "cell_type": "code",
     "checksum": "e6d4266def52169ee18f4e2599db3f63",
     "grade": false,
     "grade_id": "cell-c40858baf3d92139",
     "locked": false,
     "schema_version": 3,
     "solution": true,
     "task": false
    },
    "tags": []
   },
   "outputs": [],
   "source": [
    "def answer_eleven():\n",
    "    from collections import Counter\n",
    "    graph = answer_six()\n",
    "    diam = nx.diameter(graph)    \n",
    "    \n",
    "    plens = list(nx.all_pairs_shortest_path_length(graph))\n",
    "    diam = nx.diameter(graph)\n",
    "    return sorted([(node, Counter(path_len_dict.values())[diam]) for (node, path_len_dict) in plens],\n",
    "                  key = lambda _tuple: _tuple[1], reverse = True)[0]"
   ]
  },
  {
   "cell_type": "code",
   "execution_count": 48,
   "metadata": {
    "execution": {
     "iopub.execute_input": "2023-02-23T23:01:24.568722Z",
     "iopub.status.busy": "2023-02-23T23:01:24.568722Z",
     "iopub.status.idle": "2023-02-23T23:01:25.462114Z",
     "shell.execute_reply": "2023-02-23T23:01:25.461088Z",
     "shell.execute_reply.started": "2023-02-23T23:01:24.568722Z"
    },
    "tags": []
   },
   "outputs": [
    {
     "data": {
      "text/plain": [
       "('97', 63)"
      ]
     },
     "execution_count": 48,
     "metadata": {},
     "output_type": "execute_result"
    }
   ],
   "source": [
    "answer_eleven()"
   ]
  },
  {
   "cell_type": "code",
   "execution_count": 49,
   "metadata": {
    "deletable": false,
    "editable": false,
    "execution": {
     "iopub.execute_input": "2023-02-23T23:01:31.823624Z",
     "iopub.status.busy": "2023-02-23T23:01:31.823624Z",
     "iopub.status.idle": "2023-02-23T23:01:32.766376Z",
     "shell.execute_reply": "2023-02-23T23:01:32.765367Z",
     "shell.execute_reply.started": "2023-02-23T23:01:31.823624Z"
    },
    "nbgrader": {
     "cell_type": "code",
     "checksum": "100df6e43868a8b5ae84b005e7323d4b",
     "grade": true,
     "grade_id": "cell-f79b06650f61cf37",
     "locked": true,
     "points": 1,
     "schema_version": 3,
     "solution": false,
     "task": false
    },
    "tags": []
   },
   "outputs": [],
   "source": [
    "ans_eleven = answer_eleven()\n",
    "assert type(ans_eleven) == tuple, \"Student answer must be a tuple\""
   ]
  },
  {
   "cell_type": "markdown",
   "metadata": {
    "deletable": false,
    "editable": false,
    "nbgrader": {
     "cell_type": "markdown",
     "checksum": "d4ea9ad10fd48750b392e3afe72d8a31",
     "grade": false,
     "grade_id": "cell-50328c3bc155d0d3",
     "locked": true,
     "schema_version": 3,
     "solution": false,
     "task": false
    }
   },
   "source": [
    "### Question 12\n",
    "\n",
    "Suppose you want to prevent communication flow from the node that you found in question 11 to node 10. What is the smallest number of nodes you would need to remove from the graph (you're not allowed to remove the node from the previous question or 10)? \n",
    "\n",
    "*This function should return an integer.*"
   ]
  },
  {
   "cell_type": "code",
   "execution_count": 53,
   "metadata": {
    "execution": {
     "iopub.execute_input": "2023-02-23T23:05:32.787616Z",
     "iopub.status.busy": "2023-02-23T23:05:32.787616Z",
     "iopub.status.idle": "2023-02-23T23:05:32.795051Z",
     "shell.execute_reply": "2023-02-23T23:05:32.793943Z",
     "shell.execute_reply.started": "2023-02-23T23:05:32.787616Z"
    },
    "tags": []
   },
   "outputs": [
    {
     "data": {
      "text/plain": [
       "[['97', '14', '10']]"
      ]
     },
     "execution_count": 53,
     "metadata": {},
     "output_type": "execute_result"
    }
   ],
   "source": [
    "list(nx.all_shortest_paths(graph, \"97\", \"10\"))"
   ]
  },
  {
   "cell_type": "code",
   "execution_count": 54,
   "metadata": {
    "deletable": false,
    "execution": {
     "iopub.execute_input": "2023-02-23T23:05:57.918364Z",
     "iopub.status.busy": "2023-02-23T23:05:57.917366Z",
     "iopub.status.idle": "2023-02-23T23:05:57.921449Z",
     "shell.execute_reply": "2023-02-23T23:05:57.921449Z",
     "shell.execute_reply.started": "2023-02-23T23:05:57.918364Z"
    },
    "nbgrader": {
     "cell_type": "code",
     "checksum": "e58c4883b3f3d4ccd6101b8a30b09401",
     "grade": false,
     "grade_id": "cell-a4606db8971dcbba",
     "locked": false,
     "schema_version": 3,
     "solution": true,
     "task": false
    },
    "tags": []
   },
   "outputs": [],
   "source": [
    "def answer_twelve():\n",
    "   # nodes 97 -> node 10\n",
    "    graph = answer_six()\n",
    "    return len(nx.minimum_node_cut(graph, s = \"97\", t = \"10\"))"
   ]
  },
  {
   "cell_type": "code",
   "execution_count": 55,
   "metadata": {
    "execution": {
     "iopub.execute_input": "2023-02-23T23:05:58.312604Z",
     "iopub.status.busy": "2023-02-23T23:05:58.312604Z",
     "iopub.status.idle": "2023-02-23T23:05:58.706010Z",
     "shell.execute_reply": "2023-02-23T23:05:58.706010Z",
     "shell.execute_reply.started": "2023-02-23T23:05:58.312604Z"
    },
    "tags": []
   },
   "outputs": [
    {
     "data": {
      "text/plain": [
       "1"
      ]
     },
     "execution_count": 55,
     "metadata": {},
     "output_type": "execute_result"
    }
   ],
   "source": [
    "answer_twelve()"
   ]
  },
  {
   "cell_type": "code",
   "execution_count": 56,
   "metadata": {
    "deletable": false,
    "editable": false,
    "execution": {
     "iopub.execute_input": "2023-02-23T23:05:59.667531Z",
     "iopub.status.busy": "2023-02-23T23:05:59.667531Z",
     "iopub.status.idle": "2023-02-23T23:06:00.178541Z",
     "shell.execute_reply": "2023-02-23T23:06:00.177532Z",
     "shell.execute_reply.started": "2023-02-23T23:05:59.667531Z"
    },
    "nbgrader": {
     "cell_type": "code",
     "checksum": "e37fc4b93c7e19b0cb9ad2f021a24d89",
     "grade": true,
     "grade_id": "cell-509cfa9f4136124d",
     "locked": true,
     "points": 1,
     "schema_version": 3,
     "solution": false,
     "task": false
    }
   },
   "outputs": [],
   "source": [
    "ans_twelve = answer_twelve()\n"
   ]
  },
  {
   "cell_type": "markdown",
   "metadata": {
    "deletable": false,
    "editable": false,
    "nbgrader": {
     "cell_type": "markdown",
     "checksum": "3dabb73f1ae896491ba33eac36f9ae70",
     "grade": false,
     "grade_id": "cell-f1b5f4e151b08d99",
     "locked": true,
     "schema_version": 3,
     "solution": false,
     "task": false
    }
   },
   "source": [
    "### Question 13\n",
    "\n",
    "Convert the graph G_sc into an undirected graph by removing the direction of the edges of G_sc. Call the new graph G_un. \n",
    "\n",
    "\n",
    "*This function should return a networkx Graph.*"
   ]
  },
  {
   "cell_type": "code",
   "execution_count": 62,
   "metadata": {
    "deletable": false,
    "execution": {
     "iopub.execute_input": "2023-02-23T23:08:59.020760Z",
     "iopub.status.busy": "2023-02-23T23:08:59.019777Z",
     "iopub.status.idle": "2023-02-23T23:08:59.023644Z",
     "shell.execute_reply": "2023-02-23T23:08:59.023644Z",
     "shell.execute_reply.started": "2023-02-23T23:08:59.020760Z"
    },
    "nbgrader": {
     "cell_type": "code",
     "checksum": "54b64d828321e01f4e2d293e5e769dbb",
     "grade": false,
     "grade_id": "cell-612b40425f0851e8",
     "locked": false,
     "schema_version": 3,
     "solution": true,
     "task": false
    },
    "tags": []
   },
   "outputs": [],
   "source": [
    "def answer_thirteen():\n",
    "    graph = answer_six()\n",
    "    G_un = nx.to_networkx_graph(graph)\n",
    "    return G_un"
   ]
  },
  {
   "cell_type": "code",
   "execution_count": 66,
   "metadata": {
    "execution": {
     "iopub.execute_input": "2023-02-23T23:09:32.005211Z",
     "iopub.status.busy": "2023-02-23T23:09:32.005211Z",
     "iopub.status.idle": "2023-02-23T23:09:32.417695Z",
     "shell.execute_reply": "2023-02-23T23:09:32.417695Z",
     "shell.execute_reply.started": "2023-02-23T23:09:32.005211Z"
    },
    "tags": []
   },
   "outputs": [
    {
     "data": {
      "text/plain": [
       "NodeView(('1', '2', '3', '4', '5', '6', '7', '8', '9', '10', '11', '12', '13', '14', '15', '16', '17', '18', '19', '20', '21', '22', '23', '24', '25', '26', '27', '28', '29', '30', '31', '32', '33', '34', '35', '36', '37', '38', '39', '40', '41', '42', '43', '44', '45', '46', '47', '48', '49', '50', '51', '52', '53', '54', '55', '56', '57', '58', '59', '60', '61', '62', '63', '64', '65', '66', '67', '68', '69', '70', '71', '72', '73', '74', '75', '76', '77', '78', '79', '80', '81', '82', '83', '84', '85', '86', '87', '88', '89', '90', '91', '92', '93', '94', '95', '96', '97', '98', '99', '100', '101', '103', '104', '105', '106', '107', '108', '109', '110', '111', '112', '113', '115', '117', '118', '119', '120', '121', '122', '123', '124', '128', '129', '134', '149', '151'))"
      ]
     },
     "execution_count": 66,
     "metadata": {},
     "output_type": "execute_result"
    }
   ],
   "source": [
    "answer_thirteen().nodes()"
   ]
  },
  {
   "cell_type": "code",
   "execution_count": 64,
   "metadata": {
    "deletable": false,
    "editable": false,
    "execution": {
     "iopub.execute_input": "2023-02-23T23:09:01.168377Z",
     "iopub.status.busy": "2023-02-23T23:09:01.167456Z",
     "iopub.status.idle": "2023-02-23T23:09:01.636950Z",
     "shell.execute_reply": "2023-02-23T23:09:01.636134Z",
     "shell.execute_reply.started": "2023-02-23T23:09:01.168377Z"
    },
    "nbgrader": {
     "cell_type": "code",
     "checksum": "90dfa7881219aafc65224944af557871",
     "grade": true,
     "grade_id": "cell-d1c0627a327cd774",
     "locked": true,
     "points": 0,
     "schema_version": 3,
     "solution": false,
     "task": false
    },
    "tags": []
   },
   "outputs": [],
   "source": [
    "ans_thirteen = answer_thirteen()\n",
    "assert type(ans_thirteen) == nx.Graph , \"Your return type should be a Graph object\"\n"
   ]
  },
  {
   "cell_type": "markdown",
   "metadata": {
    "deletable": false,
    "editable": false,
    "nbgrader": {
     "cell_type": "markdown",
     "checksum": "f267a88a30024ef8031841ff102b0a10",
     "grade": false,
     "grade_id": "cell-ad5732399e4673ff",
     "locked": true,
     "schema_version": 3,
     "solution": false,
     "task": false
    }
   },
   "source": [
    "### Question 14\n",
    "\n",
    "What is the transitivity and average clustering coefficient of graph G_un?\n",
    "\n",
    "*This function should return a tuple (transitivity, avg clutering).*     \n",
    "*Note: DO NOT round up your answer.*"
   ]
  },
  {
   "cell_type": "code",
   "execution_count": 67,
   "metadata": {
    "deletable": false,
    "execution": {
     "iopub.execute_input": "2023-02-23T23:11:09.009082Z",
     "iopub.status.busy": "2023-02-23T23:11:09.008086Z",
     "iopub.status.idle": "2023-02-23T23:11:09.011565Z",
     "shell.execute_reply": "2023-02-23T23:11:09.011565Z",
     "shell.execute_reply.started": "2023-02-23T23:11:09.008086Z"
    },
    "nbgrader": {
     "cell_type": "code",
     "checksum": "7fe3b9dbdfdc525e139239587b5312d7",
     "grade": false,
     "grade_id": "cell-63e48b1eed1a1fb8",
     "locked": false,
     "schema_version": 3,
     "solution": true,
     "task": false
    }
   },
   "outputs": [],
   "source": [
    "def answer_fourteen():\n",
    "    graph = answer_thirteen()\n",
    "    return nx.transitivity(graph), nx.average_clustering(graph)"
   ]
  },
  {
   "cell_type": "code",
   "execution_count": 68,
   "metadata": {
    "execution": {
     "iopub.execute_input": "2023-02-23T23:11:15.811303Z",
     "iopub.status.busy": "2023-02-23T23:11:15.811303Z",
     "iopub.status.idle": "2023-02-23T23:11:16.196828Z",
     "shell.execute_reply": "2023-02-23T23:11:16.196828Z",
     "shell.execute_reply.started": "2023-02-23T23:11:15.811303Z"
    },
    "tags": []
   },
   "outputs": [
    {
     "data": {
      "text/plain": [
       "(0.570111160700385, 0.6975272437231418)"
      ]
     },
     "execution_count": 68,
     "metadata": {},
     "output_type": "execute_result"
    }
   ],
   "source": [
    "answer_fourteen()"
   ]
  },
  {
   "cell_type": "code",
   "execution_count": 69,
   "metadata": {
    "deletable": false,
    "editable": false,
    "execution": {
     "iopub.execute_input": "2023-02-23T23:11:18.538983Z",
     "iopub.status.busy": "2023-02-23T23:11:18.538983Z",
     "iopub.status.idle": "2023-02-23T23:11:18.919160Z",
     "shell.execute_reply": "2023-02-23T23:11:18.918690Z",
     "shell.execute_reply.started": "2023-02-23T23:11:18.538983Z"
    },
    "nbgrader": {
     "cell_type": "code",
     "checksum": "f3c37528892737578632bec42aefb80d",
     "grade": true,
     "grade_id": "cell-41dda91202f58e7e",
     "locked": true,
     "points": 1,
     "schema_version": 3,
     "solution": false,
     "task": false
    }
   },
   "outputs": [],
   "source": [
    "ans_fourteen = answer_fourteen()\n",
    "assert type(ans_fourteen) == tuple, \"Student answer must be a tuple\"\n"
   ]
  },
  {
   "cell_type": "code",
   "execution_count": null,
   "metadata": {},
   "outputs": [],
   "source": []
  }
 ],
 "metadata": {
  "coursera": {
   "schema_names": [
    "mooc_adswpy_v1_assignment2"
   ]
  },
  "kernelspec": {
   "display_name": "Python 3 (ipykernel)",
   "language": "python",
   "name": "python3"
  },
  "language_info": {
   "codemirror_mode": {
    "name": "ipython",
    "version": 3
   },
   "file_extension": ".py",
   "mimetype": "text/x-python",
   "name": "python",
   "nbconvert_exporter": "python",
   "pygments_lexer": "ipython3",
   "version": "3.11.2"
  }
 },
 "nbformat": 4,
 "nbformat_minor": 4
}
